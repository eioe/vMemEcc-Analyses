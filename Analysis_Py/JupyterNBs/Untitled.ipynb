{
 "cells": [
  {
   "cell_type": "code",
   "execution_count": 8,
   "metadata": {},
   "outputs": [
    {
     "data": {
      "text/plain": [
       "<module '__main__'>"
      ]
     },
     "execution_count": 8,
     "metadata": {},
     "output_type": "execute_result"
    }
   ],
   "source": [
    "import mne\n",
    "import autoreject\n",
    "\n",
    "\n",
    "import os\n",
    "import os.path as op\n",
    "import numpy as np\n",
    "import csv\n",
    "from pathlib import Path\n",
    "#from ..vmemEcc.vme_analysis.Analysis_py.library import helpers\n",
    "from datetime import datetime\n",
    "top_package = __import__(__name__.split('.')[0])\n",
    "top_package"
   ]
  },
  {
   "cell_type": "code",
   "execution_count": 25,
   "metadata": {},
   "outputs": [
    {
     "name": "stdout",
     "output_type": "stream",
     "text": [
      "/draco/ptmp/fklotzsche/Experiments/vMemEcc\n"
     ]
    }
   ],
   "source": [
    "path_study = Path(os.getcwd()).parents[0] #str(Path(__file__).parents[2])\n",
    "print(path_study)"
   ]
  }
 ],
 "metadata": {
  "kernelspec": {
   "display_name": "Python 3",
   "language": "python",
   "name": "python3"
  },
  "language_info": {
   "codemirror_mode": {
    "name": "ipython",
    "version": 3
   },
   "file_extension": ".py",
   "mimetype": "text/x-python",
   "name": "python",
   "nbconvert_exporter": "python",
   "pygments_lexer": "ipython3",
   "version": "3.7.3"
  }
 },
 "nbformat": 4,
 "nbformat_minor": 2
}
