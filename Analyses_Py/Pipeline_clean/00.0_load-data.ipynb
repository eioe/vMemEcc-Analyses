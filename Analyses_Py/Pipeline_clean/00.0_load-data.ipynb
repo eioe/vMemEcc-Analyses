{
 "cells": [
  {
   "cell_type": "markdown",
   "id": "d0d2074e",
   "metadata": {},
   "source": [
    "# Data Preparation: Load raw data and store as `.fif`-files"
   ]
  },
  {
   "cell_type": "markdown",
   "id": "dc166773",
   "metadata": {},
   "source": [
    "Loads vMemEcc raw EEG data (BrainVision format) from disk and stores it as `.raw` format (MNE).\n",
    "For some subjects the recording was split in multiple parts (e.g., due to required restart of the amp or recording PC). \n",
    "In these cases, the single files are concatenated to one pseudo-continuous file. \n",
    "\n",
    "Requires either the folder `vMemEcc/Data/SubjectData` or access to the data on the MPG cloud keeper via seadrive.\n",
    "\n",
    "If you have access to `vMemEcc/Data/DataMNE/00_raw` and it contains all files, this step can be skipped. \n"
   ]
  },
  {
   "cell_type": "code",
   "execution_count": 3,
   "id": "5ccd0a50",
   "metadata": {},
   "outputs": [
    {
     "name": "stdout",
     "output_type": "stream",
     "text": [
      "Study path is set to: /raven/ptmp/fklotzsche/Experiments/vMemEcc\n"
     ]
    },
    {
     "ename": "FileNotFoundError",
     "evalue": "[Errno 2] No such file or directory: '/raven/ptmp/fklotzsche/Experiments/vMemEcc/Data/SubjectData/VME_S15/EEG'",
     "output_type": "error",
     "traceback": [
      "\u001b[0;31m---------------------------------------------------------------------------\u001b[0m",
      "\u001b[0;31mFileNotFoundError\u001b[0m                         Traceback (most recent call last)",
      "\u001b[0;32m/tmp/ipykernel_18907/1181823948.py\u001b[0m in \u001b[0;36m<module>\u001b[0;34m\u001b[0m\n\u001b[1;32m     42\u001b[0m \u001b[0;31m######################################################################################################\u001b[0m\u001b[0;34m\u001b[0m\u001b[0;34m\u001b[0m\u001b[0m\n\u001b[1;32m     43\u001b[0m \u001b[0;34m\u001b[0m\u001b[0m\n\u001b[0;32m---> 44\u001b[0;31m \u001b[0mdata_raw\u001b[0m \u001b[0;34m=\u001b[0m \u001b[0mload_data_raw\u001b[0m\u001b[0;34m(\u001b[0m\u001b[0msubsub\u001b[0m\u001b[0;34m)\u001b[0m\u001b[0;34m\u001b[0m\u001b[0;34m\u001b[0m\u001b[0m\n\u001b[0m",
      "\u001b[0;32m/tmp/ipykernel_18907/1181823948.py\u001b[0m in \u001b[0;36mload_data_raw\u001b[0;34m(subID)\u001b[0m\n\u001b[1;32m     31\u001b[0m     \u001b[0;31m# Get data:\u001b[0m\u001b[0;34m\u001b[0m\u001b[0;34m\u001b[0m\u001b[0m\n\u001b[1;32m     32\u001b[0m     \u001b[0mpath_sub\u001b[0m \u001b[0;34m=\u001b[0m \u001b[0mpath_eegdata\u001b[0m \u001b[0;34m%\u001b[0m \u001b[0msubID\u001b[0m\u001b[0;34m\u001b[0m\u001b[0;34m\u001b[0m\u001b[0m\n\u001b[0;32m---> 33\u001b[0;31m     \u001b[0mraw_files\u001b[0m \u001b[0;34m=\u001b[0m \u001b[0;34m[\u001b[0m\u001b[0mop\u001b[0m\u001b[0;34m.\u001b[0m\u001b[0mjoin\u001b[0m\u001b[0;34m(\u001b[0m\u001b[0mpath_sub\u001b[0m\u001b[0;34m,\u001b[0m \u001b[0mf\u001b[0m\u001b[0;34m)\u001b[0m \u001b[0;32mfor\u001b[0m \u001b[0mf\u001b[0m \u001b[0;32min\u001b[0m \u001b[0mos\u001b[0m\u001b[0;34m.\u001b[0m\u001b[0mlistdir\u001b[0m\u001b[0;34m(\u001b[0m\u001b[0mpath_sub\u001b[0m\u001b[0;34m)\u001b[0m \u001b[0;32mif\u001b[0m \u001b[0mf\u001b[0m\u001b[0;34m.\u001b[0m\u001b[0mendswith\u001b[0m\u001b[0;34m(\u001b[0m\u001b[0;34m'.vhdr'\u001b[0m\u001b[0;34m)\u001b[0m\u001b[0;34m]\u001b[0m\u001b[0;34m\u001b[0m\u001b[0;34m\u001b[0m\u001b[0m\n\u001b[0m\u001b[1;32m     34\u001b[0m     \u001b[0mraw\u001b[0m \u001b[0;34m=\u001b[0m \u001b[0mmne\u001b[0m\u001b[0;34m.\u001b[0m\u001b[0mio\u001b[0m\u001b[0;34m.\u001b[0m\u001b[0mconcatenate_raws\u001b[0m\u001b[0;34m(\u001b[0m\u001b[0;34m[\u001b[0m\u001b[0mmne\u001b[0m\u001b[0;34m.\u001b[0m\u001b[0mio\u001b[0m\u001b[0;34m.\u001b[0m\u001b[0mread_raw_brainvision\u001b[0m\u001b[0;34m(\u001b[0m\u001b[0mf\u001b[0m\u001b[0;34m,\u001b[0m \u001b[0mpreload\u001b[0m\u001b[0;34m=\u001b[0m\u001b[0;32mFalse\u001b[0m\u001b[0;34m)\u001b[0m \u001b[0;32mfor\u001b[0m \u001b[0mf\u001b[0m \u001b[0;32min\u001b[0m \u001b[0mraw_files\u001b[0m\u001b[0;34m]\u001b[0m\u001b[0;34m)\u001b[0m\u001b[0;34m\u001b[0m\u001b[0;34m\u001b[0m\u001b[0m\n\u001b[1;32m     35\u001b[0m     \u001b[0;32mreturn\u001b[0m \u001b[0mraw\u001b[0m\u001b[0;34m\u001b[0m\u001b[0;34m\u001b[0m\u001b[0m\n",
      "\u001b[0;31mFileNotFoundError\u001b[0m: [Errno 2] No such file or directory: '/raven/ptmp/fklotzsche/Experiments/vMemEcc/Data/SubjectData/VME_S15/EEG'"
     ]
    }
   ],
   "source": [
    "import os\n",
    "import os.path as op\n",
    "from pathlib import Path\n",
    "\n",
    "import mne\n",
    "\n",
    "from library import config\n",
    "\n",
    "subsub = 'VME_S15'\n",
    "get_data_from_sdrive = False\n",
    "\n",
    "# set paths:\n",
    "\n",
    "path_study = config.path_study  #  Path(os.getcwd()).parents[1] #str(Path(__file__).parents[2])\n",
    "# note: returns Path object >> cast for string\n",
    "\n",
    "path_data = os.path.join(path_study, 'Data')\n",
    "\n",
    "if (get_data_from_sdrive): \n",
    "    path_sdrive = os.path.join('S:\\\\', 'Meine Bibliotheken', 'Experiments', 'vMemEcc')\n",
    "    path_data_in = os.path.join(path_sdrive, 'Data')\n",
    "else:\n",
    "    path_data_in = path_data\n",
    "\n",
    "path_eegdata = os.path.join(path_data_in, 'SubjectData', '%s', 'EEG')\n",
    "path_outp = op.join(path_data, 'DataMNE', 'EEG', '00_raw')\n",
    "if not op.exists(path_outp):\n",
    "    os.makedirs(path_outp)\n",
    "\n",
    "def load_data_raw(subID):\n",
    "    # Get data:\n",
    "    path_sub = path_eegdata % subID\n",
    "    raw_files = [op.join(path_sub, f) for f in os.listdir(path_sub) if f.endswith('.vhdr')]\n",
    "    raw = mne.io.concatenate_raws([mne.io.read_raw_brainvision(f, preload=False) for f in raw_files])\n",
    "    return raw\n",
    "\n",
    "def save_data(data, filename, path, append=''):\n",
    "    ff = op.join(path, filename + append + '.fif')\n",
    "    #print(\"Saving %s ...\" % ff)\n",
    "    data.save(fname=ff, overwrite=True)\n",
    "\n",
    "######################################################################################################\n",
    "\n",
    "data_raw = load_data_raw(subsub)\n"
   ]
  },
  {
   "cell_type": "code",
   "execution_count": null,
   "id": "d2173cf9",
   "metadata": {},
   "outputs": [],
   "source": [
    "\n",
    "save_data(data_raw, subsub, path_outp, '-raw')"
   ]
  }
 ],
 "metadata": {
  "kernelspec": {
   "display_name": "mne",
   "language": "python",
   "name": "mne"
  },
  "language_info": {
   "codemirror_mode": {
    "name": "ipython",
    "version": 3
   },
   "file_extension": ".py",
   "mimetype": "text/x-python",
   "name": "python",
   "nbconvert_exporter": "python",
   "pygments_lexer": "ipython3",
   "version": "3.9.9"
  }
 },
 "nbformat": 4,
 "nbformat_minor": 5
}
