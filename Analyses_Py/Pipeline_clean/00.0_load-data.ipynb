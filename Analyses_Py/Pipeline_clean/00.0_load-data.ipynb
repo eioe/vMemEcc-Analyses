{
 "cells": [
  {
   "cell_type": "markdown",
   "id": "d0d2074e",
   "metadata": {},
   "source": [
    "# Data Preparation: Load raw data and store as `.fif`-files"
   ]
  },
  {
   "attachments": {},
   "cell_type": "markdown",
   "id": "dc166773",
   "metadata": {},
   "source": [
    "Loads vMemEcc raw EEG data (BrainVision format) from disk and stores it as `.raw` format (MNE).\n",
    "For some subjects the recording was split in multiple parts (e.g., due to required restart of the amp or recording PC). \n",
    "In these cases, the single files are concatenated to one pseudo-continuous file. \n",
    "\n",
    "Requires either the folder `vMemEcc/Data/SubjectData` or access to the data on the MPG cloud keeper via seadrive.  \n",
    "**If you have access to `vMemEcc/Data/DataMNE/00_raw` and it contains all files, this step can be skipped.**\n"
   ]
  },
  {
   "cell_type": "code",
   "execution_count": 3,
   "id": "5ccd0a50",
   "metadata": {},
   "outputs": [],
   "source": [
    "import os\n",
    "import os.path as op\n",
    "from pathlib import Path\n",
    "\n",
    "import mne\n",
    "\n",
    "from library import config\n"
   ]
  },
  {
   "cell_type": "code",
   "execution_count": null,
   "id": "be52492f",
   "metadata": {},
   "outputs": [],
   "source": [
    "def load_data_raw(subID):\n",
    "    \"\"\"Load raw data from BrainVision files.\n",
    "\n",
    "    Parameters\n",
    "    ----------\n",
    "    subID : str\n",
    "        Subject ID.\n",
    "\n",
    "    Returns\n",
    "    -------\n",
    "    raw : mne.io.Raw\n",
    "        The raw data.\n",
    "    \"\"\"\n",
    "    # Get data:\n",
    "    path_sub = path_eegdata % subID\n",
    "    raw_files = [\n",
    "        op.join(path_sub, f) for f in os.listdir(path_sub) if f.endswith(\".vhdr\")\n",
    "    ]\n",
    "    raw = mne.io.concatenate_raws(\n",
    "        [mne.io.read_raw_brainvision(f, preload=False) for f in raw_files]\n",
    "    )\n",
    "    return raw\n",
    "\n",
    "\n",
    "def save_data(data, filename, path, append=\"\"):\n",
    "    \"\"\"Save data to file.\n",
    "\n",
    "    Parameters\n",
    "    ----------\n",
    "    data : mne.io.Raw | mne.Epochs | mne.Evoked\n",
    "        The data to save.\n",
    "    filename : str\n",
    "        The filename.\n",
    "    path : str\n",
    "        The path to save to.\n",
    "    append : str\n",
    "        String to append to the filename.\n",
    "    \"\"\"\n",
    "    ff = op.join(path, filename + append + \".fif\")\n",
    "    data.save(fname=ff, overwrite=True)\n",
    "\n"
   ]
  },
  {
   "cell_type": "code",
   "execution_count": null,
   "id": "a32f07a8",
   "metadata": {},
   "outputs": [],
   "source": [
    "subsub = \"VME_S01\"\n",
    "get_data_from_sdrive = False\n",
    "\n",
    "# set paths:\n",
    "\n",
    "path_study = config.paths[\"study\"]\n",
    "path_data = os.path.join(path_study, \"Data\")\n",
    "\n",
    "if get_data_from_sdrive:\n",
    "    path_sdrive = os.path.join(\"S:\\\\\", \"Meine Bibliotheken\", \"Experiments\", \"vMemEcc\")\n",
    "    path_data_in = os.path.join(path_sdrive, \"Data\")\n",
    "else:\n",
    "    path_data_in = path_data\n",
    "\n",
    "path_eegdata = os.path.join(path_data_in, \"SubjectData\", \"%s\", \"EEG\")\n",
    "path_outp = op.join(path_data, \"DataMNE\", \"EEG\", \"00_raw\")\n",
    "if not op.exists(path_outp):\n",
    "    os.makedirs(path_outp)"
   ]
  },
  {
   "cell_type": "code",
   "execution_count": null,
   "id": "d2173cf9",
   "metadata": {},
   "outputs": [],
   "source": [
    "data_raw = load_data_raw(subsub)\n",
    "save_data(data_raw, subsub, path_outp, '-raw')"
   ]
  }
 ],
 "metadata": {
  "kernelspec": {
   "display_name": "mne",
   "language": "python",
   "name": "mne"
  },
  "language_info": {
   "codemirror_mode": {
    "name": "ipython",
    "version": 3
   },
   "file_extension": ".py",
   "mimetype": "text/x-python",
   "name": "python",
   "nbconvert_exporter": "python",
   "pygments_lexer": "ipython3",
   "version": "3.9.9 | packaged by conda-forge | (main, Dec 20 2021, 02:41:03) \n[GCC 9.4.0]"
  }
 },
 "nbformat": 4,
 "nbformat_minor": 5
}
