{
 "cells": [
  {
   "cell_type": "markdown",
   "id": "d0d2074e",
   "metadata": {},
   "source": [
    "# Data Preparation: Load raw data and store as `.fif`-files"
   ]
  },
  {
   "cell_type": "markdown",
   "id": "dc166773",
   "metadata": {},
   "source": [
    "Loads vMemEcc raw EEG data (BrainVision format) from disk and stores it as `.raw` format (MNE).\n",
    "For some subjects the recording was split in multiple parts (e.g., due to required restart of the amp or recording PC). \n",
    "In these cases, the single files are concatenated to one pseudo-continuous file. \n",
    "\n",
    "Requires either the folder `vMemEcc/Data/SubjectData` or access to the data on the MPG cloud keeper via seadrive.\n",
    "\n",
    "If you have access to `vMemEcc/Data/DataMNE/00_raw` and it contains all files, this step can be skipped. \n"
   ]
  },
  {
   "cell_type": "code",
   "execution_count": null,
   "id": "5ccd0a50",
   "metadata": {},
   "outputs": [],
   "source": [
    "import os\n",
    "import os.path as op\n",
    "from pathlib import Path\n",
    "\n",
    "import mne\n",
    "\n",
    "subsub = 'VME_S15'\n",
    "get_data_from_sdrive = False\n",
    "\n",
    "# set paths:\n",
    "\n",
    "path_study = Path(os.getcwd()).parents[1] #str(Path(__file__).parents[2])\n",
    "# note: returns Path object >> cast for string\n",
    "\n",
    "path_data = os.path.join(path_study, 'Data')\n",
    "\n",
    "if (get_data_from_sdrive): \n",
    "    path_sdrive = os.path.join('S:\\\\', 'Meine Bibliotheken', 'Experiments', 'vMemEcc')\n",
    "    path_data_in = os.path.join(path_sdrive, 'Data')\n",
    "else:\n",
    "    path_data_in = path_data\n",
    "\n",
    "path_eegdata = os.path.join(path_data_in, 'SubjectData', '%s', 'EEG')\n",
    "path_outp = op.join(path_data, 'DataMNE', 'EEG', '00_raw')\n",
    "if not op.exists(path_outp):\n",
    "    os.makedirs(path_outp)\n",
    "\n",
    "def load_data_raw(subID):\n",
    "    # Get data:\n",
    "    path_sub = path_eegdata % subID\n",
    "    raw_files = [op.join(path_sub, f) for f in os.listdir(path_sub) if f.endswith('.vhdr')]\n",
    "    raw = mne.io.concatenate_raws([mne.io.read_raw_brainvision(f, preload=False) for f in raw_files])\n",
    "    return raw\n",
    "\n",
    "def save_data(data, filename, path, append=''):\n",
    "    ff = op.join(path, filename + append + '.fif')\n",
    "    #print(\"Saving %s ...\" % ff)\n",
    "    data.save(fname=ff, overwrite=True)\n",
    "\n",
    "######################################################################################################\n",
    "\n",
    "data_raw = load_data_raw(subsub)\n",
    "save_data(data_raw, subsub, path_outp, '-raw')"
   ]
  }
 ],
 "metadata": {
  "kernelspec": {
   "display_name": "mne",
   "language": "python",
   "name": "mne"
  },
  "language_info": {
   "codemirror_mode": {
    "name": "ipython",
    "version": 3
   },
   "file_extension": ".py",
   "mimetype": "text/x-python",
   "name": "python",
   "nbconvert_exporter": "python",
   "pygments_lexer": "ipython3",
   "version": "3.9.9"
  }
 },
 "nbformat": 4,
 "nbformat_minor": 5
}
