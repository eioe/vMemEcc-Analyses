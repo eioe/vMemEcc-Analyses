{
 "cells": [
  {
   "cell_type": "markdown",
   "id": "891cddf3",
   "metadata": {},
   "source": [
    "# Data preprocessing I: Epoching "
   ]
  },
  {
   "cell_type": "code",
   "execution_count": 1,
   "id": "87700997",
   "metadata": {},
   "outputs": [
    {
     "data": {
      "text/html": [
       "<style>\n",
       "  table {margin-left: 0 !important;}\n",
       "</style>\n"
      ],
      "text/plain": [
       "<IPython.core.display.HTML object>"
      ]
     },
     "metadata": {},
     "output_type": "display_data"
    }
   ],
   "source": [
    "# left align the table in the following cell\n",
    "%%html\n",
    "<style>\n",
    "  table {margin-left: 0 !important;}\n",
    "</style>"
   ]
  },
  {
   "cell_type": "markdown",
   "id": "9e4362d3",
   "metadata": {},
   "source": [
    "Extracts 4 different kinds of epochs:\n",
    "\n",
    "| name         | timelocked to  | intervall (s)| filter (Hz) |\n",
    "|--------------|----------------|--------------|-------------|\n",
    "| \"stimon\"     | stimulus onset | [-0.6; 2.3]  | [0.1; 40]   |\n",
    "| \"ica\"        | stimulus onset | [-0.6; 2.3]  | [1; 40]     |\n",
    "| \"fulllength\" | cue onset      | [-0.6; 3.3]  | [0.1; 40]   |\n",
    "| \"cue\"        | cue onset      | [-0.6; 1.0]  | [0.1; 40]   |\n"
   ]
  },
  {
   "cell_type": "code",
   "execution_count": 1,
   "id": "1a5d7131",
   "metadata": {},
   "outputs": [
    {
     "name": "stdout",
     "output_type": "stream",
     "text": [
      "Study path is set to: /raven/ptmp/fklotzsche/Experiments/vMemEcc\n"
     ]
    }
   ],
   "source": [
    "import os\n",
    "import os.path as op\n",
    "import pickle\n",
    "import sys\n",
    "import numpy as np\n",
    "import mne\n",
    "from pathlib import Path\n",
    "from library import helpers, config\n"
   ]
  },
  {
   "cell_type": "code",
   "execution_count": 2,
   "id": "7dbf71f3",
   "metadata": {},
   "outputs": [],
   "source": [
    "\n",
    "\n",
    "def load_events(subID, epo_part):\n",
    "    \"\"\"Load event data for a given subject and epoch part.\n",
    "\n",
    "    Parameters\n",
    "    ----------\n",
    "    subID : str\n",
    "        Subject ID.\n",
    "    epo_part : str\n",
    "        Epoch part.\n",
    "\n",
    "    Returns\n",
    "    -------\n",
    "    events_ : array, shape (n_events, 3)\n",
    "        Events array.\n",
    "    event_id_ : dict\n",
    "        Dictionary of event IDs.\n",
    "    bad_epos_ : list\n",
    "        List of bad epochs.\n",
    "    \"\"\"\n",
    "    fname_eve = op.join(config.paths['01_prepared-events'], '-'.join([subID, epo_part,'eve.fif']))\n",
    "    events_ = mne.read_events(fname_eve)\n",
    "    fname_eve_id = op.join(config.paths['01_prepared-events'], '-'.join([subID, 'event_id.pkl']))\n",
    "    with open(fname_eve_id, 'rb') as f:\n",
    "        event_id_ = pickle.load(f)\n",
    "    fname_bad_epos = op.join(config.paths['01_prepared-events'], '-'.join([subID, 'bad_epos_recording.pkl']))\n",
    "    with open(fname_bad_epos, 'rb') as f:\n",
    "        bad_epos_=pickle.load(f)    \n",
    "    return(events_, event_id_, bad_epos_)\n",
    "\n",
    "\n",
    "def extract_epochs(raw_data, events, event_id_, tmin, tmax, l_freq, h_freq, baseline=None, bad_epos=None, n_jobs=1):\n",
    "    # filter the data:\n",
    "    filtered = raw_data.load_data().filter(l_freq=l_freq,\n",
    "                                           h_freq=h_freq,\n",
    "                                           n_jobs=n_jobs,\n",
    "                                           verbose=False)\n",
    "    epos_ = mne.Epochs(filtered, \n",
    "                        events, \n",
    "                        event_id=event_id_, \n",
    "                        tmin=tmin, \n",
    "                        tmax=tmax, \n",
    "                        baseline=baseline,\n",
    "                        preload=False)\n",
    "    if bad_epos is not None:\n",
    "        epos_.drop(bad_epos, 'BADRECORDING')\n",
    "    return epos_\n",
    "\n",
    "\n",
    "\n"
   ]
  },
  {
   "cell_type": "code",
   "execution_count": null,
   "id": "5c2d6fc4",
   "metadata": {},
   "outputs": [],
   "source": [
    "\n",
    "\n",
    "## Full procedure:\n",
    "sub_list = np.setdiff1d(np.arange(1,config.n_subjects_total+1), config.ids_missing_subjects)\n",
    "sub_list_str = ['VME_S%02d' % sub for sub in sub_list]\n",
    "\n",
    "\n",
    "## to run a single subject, modify and uncomment one of the following lines:\n",
    "# sub_list_str = ['VME_S01']\n",
    "\n",
    "\n",
    "for idx, subID in enumerate(sub_list_str):\n",
    "    helpers.print_msg('Processing subject ' + subID + '.')\n",
    "    \n",
    "    # Get data:\n",
    "    raw = helpers.load_data(subID + '-prepared',\n",
    "                            config.paths['01_prepared'],\n",
    "                            append='-raw',\n",
    "                            verbose=False)\n",
    "    events_cue, event_id, bad_epos = load_events(subID, 'cue')\n",
    "    events_stimon,_,_ = load_events(subID, 'stimon')\n",
    "    \n",
    "    event_id_cue    = {key: event_id[key] for key in event_id if event_id[key] in events_cue[:,2]}\n",
    "    event_id_stimon = {key: event_id[key] for key in event_id if event_id[key] in events_stimon[:,2]}\n",
    "\n",
    "    epos = dict()\n",
    "    epos[\"ica\"] = extract_epochs(raw.copy(), \n",
    "                              events_stimon, \n",
    "                              event_id_stimon,\n",
    "                              tmin=-0.6,\n",
    "                              tmax=2.3,\n",
    "                              l_freq=1,\n",
    "                              h_freq=40,\n",
    "                              baseline=None, #baseline corr is bad for ICA\n",
    "                              bad_epos=None,\n",
    "                              n_jobs = config.n_jobs)\n",
    "    \n",
    "    l_freq = 0.1\n",
    "\n",
    "    epos[\"stimon\"] = extract_epochs(raw.copy(), \n",
    "                                events_stimon, \n",
    "                                event_id_stimon,\n",
    "                                tmin=-0.6,\n",
    "                                tmax=2.3,\n",
    "                                l_freq=l_freq,\n",
    "                                h_freq=40,\n",
    "                                baseline=None, #(-config.times_dict['bl_dur_erp'], 0),\n",
    "                                bad_epos=bad_epos.get('stimon',[]),\n",
    "                                n_jobs = config.n_jobs)\n",
    "\n",
    "    epos[\"cue\"] = extract_epochs(raw.copy(), \n",
    "                                events_cue, \n",
    "                                event_id_cue,\n",
    "                                tmin=-0.6,\n",
    "                                tmax=1.0,\n",
    "                                l_freq=l_freq,\n",
    "                                h_freq=40,\n",
    "                                baseline=None, #(-config.times_dict['bl_dur_erp'], 0),\n",
    "                                bad_epos=bad_epos.get('cue',[]),\n",
    "                                n_jobs = config.n_jobs)\n",
    "\n",
    "    epos[\"fulllength\"] = extract_epochs(raw.copy(), \n",
    "                                events_cue, \n",
    "                                event_id_cue,\n",
    "                                tmin=-0.6,\n",
    "                                tmax=3.3,\n",
    "                                l_freq=l_freq,\n",
    "                                h_freq=40,\n",
    "                                baseline=None, #(-config.times_dict['bl_dur_erp'], 0),\n",
    "                                bad_epos=np.unique([v for k in bad_epos.keys() for v in bad_epos.get(k, [])]),\n",
    "                                n_jobs = config.n_jobs)\n",
    "\n",
    "    for part in [\"ica\", \"stimon\", \"cue\", \"fulllength\"]:\n",
    "        helpers.save_data(epos[part],\n",
    "                            subID + '-' + part,\n",
    "                            op.join(config.paths[\"02_epochs\"], str(l_freq), part), \n",
    "                            '-epo')\n",
    "\n",
    "\n",
    "    "
   ]
  }
 ],
 "metadata": {
  "kernelspec": {
   "display_name": "mne",
   "language": "python",
   "name": "mne"
  },
  "language_info": {
   "codemirror_mode": {
    "name": "ipython",
    "version": 3
   },
   "file_extension": ".py",
   "mimetype": "text/x-python",
   "name": "python",
   "nbconvert_exporter": "python",
   "pygments_lexer": "ipython3",
   "version": "3.9.9"
  }
 },
 "nbformat": 4,
 "nbformat_minor": 5
}
