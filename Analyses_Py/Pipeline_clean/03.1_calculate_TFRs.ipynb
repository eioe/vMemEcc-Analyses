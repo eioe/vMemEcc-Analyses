{
 "cells": [
  {
   "attachments": {},
   "cell_type": "markdown",
   "id": "0cafb031",
   "metadata": {},
   "source": [
    "# Calculate the power time series (time-frequency decomposition)\n",
    "\n",
    "In this notebook we calculate the time-frequency decomposition via Morlet wavelt convolution.  \n",
    "We do this for the frequencies between 6 and 26 Hz.\n",
    "The results are stored to disk so they can easily be read in for evaluation/plotting in other scripts.\n",
    "\n",
    "2022 -- Felix Klotzsche \n"
   ]
  },
  {
   "cell_type": "code",
   "execution_count": 1,
   "id": "ace9238f",
   "metadata": {
    "vscode": {
     "languageId": "python"
    }
   },
   "outputs": [
    {
     "name": "stdout",
     "output_type": "stream",
     "text": [
      "Study path is set to: /raven/ptmp/fklotzsche/Experiments/vMemEcc\n",
      "creating dir: /raven/ptmp/fklotzsche/Experiments/vMemEcc/Data2022/DataMNE/EEG/05_tfrs_clean\n",
      "creating dir: /raven/ptmp/fklotzsche/Experiments/vMemEcc/Data2022/DataMNE/EEG/05_tfrs_clean/summaries\n"
     ]
    }
   ],
   "source": [
    "import os\n",
    "import os.path as op\n",
    "import sys\n",
    "from pathlib import Path\n",
    "import numpy as np\n",
    "import pandas as pd\n",
    "import matplotlib.pyplot as plt\n",
    "from collections import defaultdict\n",
    "import mne\n",
    "from library import helpers, config"
   ]
  },
  {
   "cell_type": "code",
   "execution_count": 2,
   "id": "eda78eac",
   "metadata": {
    "vscode": {
     "languageId": "python"
    }
   },
   "outputs": [],
   "source": [
    "def get_tfrs_list(subID, part_epo, pwr_style, picks='eeg', save_singletrial_data=False):\n",
    "    fpath = op.join(config.paths['03_preproc-pooled'], part_epo, \"collapsed\")\n",
    "    epos_ = helpers.load_data(f\"{subID}-{part_epo}-collapsed\", fpath, '-epo')\n",
    "    \n",
    "    if (part_epo in ['cue', 'fulllength']):\n",
    "        # Shift time, so that 0 == Stimulus Onset:\n",
    "        epos_ = epos_.shift_time(-config.times_dict['cue_dur'])\n",
    "        \n",
    "    if pwr_style == 'induced':\n",
    "        epos_ = epos_.subtract_evoked()\n",
    "\n",
    "    #  picks = config.chans_CDA_all\n",
    "    #tfrs_ = get_tfr(epos_, picks=picks, average=False)\n",
    "\n",
    "    event_dict = helpers.get_event_dict(epos_.event_id)\n",
    "\n",
    "    sub_tfrs = list()\n",
    "\n",
    "    for load in ['LoadLow', 'LoadHigh']:\n",
    "        avgtfrs_load = get_tfr(epos_[event_dict[load]], picks=picks, \n",
    "                               average=False)\n",
    "        avgtfrs_load.comment = load\n",
    "        if save_singletrial_data:\n",
    "            save_tfr(subID, avgtfrs_load, load, pwr_style, part_epo)\n",
    "        sub_tfrs.append(avgtfrs_load)\n",
    "        # Save averaged version:   # <<<< this saving per condition is probably redundant in the latest version of the code\n",
    "        # save_tfr(subID, avgtfrs_load.average(), load, pwr_style, part_epo, averaged=True)\n",
    "        for ecc in ['EccS', 'EccM', 'EccL']:\n",
    "            if load == 'LoadLow':  # we don't want to do this twice\n",
    "                avgtfrs_ecc = get_tfr(epos_[event_dict[ecc]], picks=picks, \n",
    "                                      average=False)\n",
    "                avgtfrs_ecc.comment = ecc\n",
    "                if save_singletrial_data:\n",
    "                    save_tfr(subID, avgtfrs_ecc, ecc, pwr_style, part_epo)\n",
    "                sub_tfrs.append(avgtfrs_ecc)\n",
    "                # save_tfr(subID, avgtfrs_ecc.average(), ecc, pwr_style, part_epo, averaged=True)\n",
    "            # Interaction:\n",
    "            avgtfrs_interac = get_tfr(epos_[event_dict[load]][event_dict[ecc]],\n",
    "                                      picks=picks, average=False)\n",
    "            avgtfrs_interac.comment = load+ecc\n",
    "            if save_singletrial_data:\n",
    "                save_tfr(subID, avgtfrs_interac, load+ecc, pwr_style, part_epo)\n",
    "            sub_tfrs.append(avgtfrs_interac)\n",
    "            # save_tfr(subID, avgtfrs_interac.average(), load+ecc, pwr_style, part_epo, averaged=True)\n",
    "    avgtfrs_all = get_tfr(epos_, picks=picks, average=False)\n",
    "    avgtfrs_all.comment = 'all'\n",
    "    if save_singletrial_data:\n",
    "            save_tfr(subID, avgtfrs_all, 'all', pwr_style, part_epo)\n",
    "    sub_tfrs.append(avgtfrs_all)\n",
    "    # save_tfr(subID, avgtfrs_all.average(), 'all', pwr_style, part_epo, averaged=True)\n",
    "\n",
    "    fpath = op.join(config.paths['05_tfrs'], pwr_style, 'tfr_lists', part_epo)\n",
    "    helpers.chkmk_dir(fpath)\n",
    "    if save_singletrial_data:\n",
    "        fname = op.join(fpath, subID + '-collapsed-singletrialTFRs-tfr.h5')\n",
    "        mne.time_frequency.write_tfrs(fname, sub_tfrs, overwrite=True)\n",
    "    fname = op.join(fpath, subID + '-collapsed-avgTFRs-tfr.h5')\n",
    "    mne.time_frequency.write_tfrs(fname, [t.average() for t in sub_tfrs], overwrite=True)\n",
    "    return(sub_tfrs)\n",
    "\n",
    "\n",
    "def save_tfr(subID, sub_tfrs, condition, pwr_style='induced', part_epo='fulllength', averaged=False):\n",
    "    fpath = op.join(config.paths['05_tfrs'], pwr_style, 'tfr_lists', part_epo, condition)\n",
    "    helpers.chkmk_dir(fpath)\n",
    "    if averaged:\n",
    "        fname = op.join(fpath, subID + '-collapsed-avgTFRs-tfr.h5')\n",
    "    else:\n",
    "        fname = op.join(fpath, subID + '-collapsed-singletrialTFRs-tfr.h5')  \n",
    "    \n",
    "    mne.time_frequency.write_tfrs(fname, sub_tfrs, overwrite=True)\n",
    "\n",
    "\n",
    "def get_tfr(epos, picks='all', average=True, freqs=None):\n",
    "    if freqs is None:\n",
    "        freqs = np.concatenate([np.arange(6, 26, 1)])  # , np.arange(16,30,2)])\n",
    "    n_cycles = freqs / 2.  # different number of cycle per frequency\n",
    "    power = mne.time_frequency.tfr_morlet(epos,\n",
    "                                          picks=picks,\n",
    "                                          freqs=freqs,\n",
    "                                          n_cycles=n_cycles,\n",
    "                                          use_fft=True,\n",
    "                                          return_itc=False,\n",
    "                                          average=average,\n",
    "                                          decim=1,\n",
    "                                          n_jobs=-2)\n",
    "    return power"
   ]
  },
  {
   "cell_type": "code",
   "execution_count": null,
   "id": "fe143ed0",
   "metadata": {
    "vscode": {
     "languageId": "python"
    }
   },
   "outputs": [],
   "source": [
    "# structuring data:\n",
    "sub_list = np.setdiff1d(np.arange(1, 28), config.ids_missing_subjects +\n",
    "                        config.ids_excluded_subjects)               \n",
    "sub_list_str = ['VME_S%02d' % sub for sub in sub_list]\n",
    "\n",
    "# when running on the cluster we want parallelization along the subject dimension\n",
    "if not helpers.is_interactive(): \n",
    "    helpers.print_msg('Running Job Nr. ' + sys.argv[1])\n",
    "    job_nr = int(float(sys.argv[1]))\n",
    "    sub_list_str = [sub_list_str[job_nr]]   \n",
    "\n",
    "part_epo = 'fulllength'\n",
    "pwr_style = 'induced'  \n",
    "\n",
    "for subID in sub_list_str:\n",
    "    print(f\"Running {subID} ...\")\n",
    "    _ = get_tfrs_list(subID, part_epo, pwr_style, picks=\"eeg\", save_singletrial_data=False)"
   ]
  }
 ],
 "metadata": {
  "jupytext": {
   "formats": "ipynb,auto:light"
  },
  "kernelspec": {
   "display_name": "mne",
   "language": "python",
   "name": "mne"
  }
 },
 "nbformat": 4,
 "nbformat_minor": 5
}
