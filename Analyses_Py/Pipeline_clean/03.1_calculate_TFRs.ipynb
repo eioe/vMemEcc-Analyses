{
 "cells": [
  {
   "cell_type": "code",
   "execution_count": 1,
   "id": "ace9238f",
   "metadata": {},
   "outputs": [
    {
     "name": "stdout",
     "output_type": "stream",
     "text": [
      "Study path is set to: /raven/ptmp/fklotzsche/Experiments/vMemEcc\n",
      "creating dir: /raven/ptmp/fklotzsche/Experiments/vMemEcc/Data2022/DataMNE/EEG/05_tfrs_clean\n",
      "creating dir: /raven/ptmp/fklotzsche/Experiments/vMemEcc/Data2022/DataMNE/EEG/05_tfrs_clean/summaries\n"
     ]
    }
   ],
   "source": [
    "import os\n",
    "import os.path as op\n",
    "import sys\n",
    "from pathlib import Path\n",
    "import numpy as np\n",
    "import pandas as pd\n",
    "import matplotlib.pyplot as plt\n",
    "from collections import defaultdict\n",
    "import mne\n",
    "from library import helpers, config"
   ]
  },
  {
   "cell_type": "code",
   "execution_count": 2,
   "id": "eda78eac",
   "metadata": {},
   "outputs": [],
   "source": [
    "def get_tfrs_list(subID, part_epo, pwr_style, picks='eeg', save_singletrial_data=False):\n",
    "    fpath = op.join(config.paths['03_preproc-pooled'], part_epo, \"collapsed\")\n",
    "    epos_ = helpers.load_data(f\"{subID}-{part_epo}-collapsed\", fpath, '-epo')\n",
    "    \n",
    "    if (part_epo in ['cue', 'fulllength']):\n",
    "        # Shift time, so that 0 == Stimulus Onset:\n",
    "        epos_ = epos_.shift_time(-config.times_dict['cue_dur'])\n",
    "        \n",
    "    if pwr_style == 'induced':\n",
    "        epos_ = epos_.subtract_evoked()\n",
    "\n",
    "    #  picks = config.chans_CDA_all\n",
    "    #tfrs_ = get_tfr(epos_, picks=picks, average=False)\n",
    "\n",
    "    event_dict = helpers.get_event_dict(epos_.event_id)\n",
    "\n",
    "    sub_tfrs = list()\n",
    "\n",
    "    for load in ['LoadLow', 'LoadHigh']:\n",
    "        avgtfrs_load = get_tfr(epos_[event_dict[load]], picks=picks, \n",
    "                               average=False)\n",
    "        avgtfrs_load.comment = load\n",
    "        if save_singletrial_data:\n",
    "            save_tfr(subID, avgtfrs_load, load, pwr_style, part_epo)\n",
    "        sub_tfrs.append(avgtfrs_load)\n",
    "        # Save averaged version:   # <<<< this saving per condition is probably redundant in the latest version of the code\n",
    "        # save_tfr(subID, avgtfrs_load.average(), load, pwr_style, part_epo, averaged=True)\n",
    "        for ecc in ['EccS', 'EccM', 'EccL']:\n",
    "            if load == 'LoadLow':  # we don't want to do this twice\n",
    "                avgtfrs_ecc = get_tfr(epos_[event_dict[ecc]], picks=picks, \n",
    "                                      average=False)\n",
    "                avgtfrs_ecc.comment = ecc\n",
    "                if save_singletrial_data:\n",
    "                    save_tfr(subID, avgtfrs_ecc, ecc, pwr_style, part_epo)\n",
    "                sub_tfrs.append(avgtfrs_ecc)\n",
    "                # save_tfr(subID, avgtfrs_ecc.average(), ecc, pwr_style, part_epo, averaged=True)\n",
    "            # Interaction:\n",
    "            avgtfrs_interac = get_tfr(epos_[event_dict[load]][event_dict[ecc]],\n",
    "                                      picks=picks, average=False)\n",
    "            avgtfrs_interac.comment = load+ecc\n",
    "            if save_singletrial_data:\n",
    "                save_tfr(subID, avgtfrs_interac, load+ecc, pwr_style, part_epo)\n",
    "            sub_tfrs.append(avgtfrs_interac)\n",
    "            # save_tfr(subID, avgtfrs_interac.average(), load+ecc, pwr_style, part_epo, averaged=True)\n",
    "    avgtfrs_all = get_tfr(epos_, picks=picks, average=False)\n",
    "    avgtfrs_all.comment = 'all'\n",
    "    if save_singletrial_data:\n",
    "            save_tfr(subID, avgtfrs_all, 'all', pwr_style, part_epo)\n",
    "    sub_tfrs.append(avgtfrs_all)\n",
    "    # save_tfr(subID, avgtfrs_all.average(), 'all', pwr_style, part_epo, averaged=True)\n",
    "\n",
    "    fpath = op.join(config.paths['05_tfrs'], pwr_style, 'tfr_lists', part_epo)\n",
    "    helpers.chkmk_dir(fpath)\n",
    "    if save_singletrial_data:\n",
    "        fname = op.join(fpath, subID + '-collapsed-singletrialTFRs-tfr.h5')\n",
    "        mne.time_frequency.write_tfrs(fname, sub_tfrs, overwrite=True)\n",
    "    fname = op.join(fpath, subID + '-collapsed-avgTFRs-tfr.h5')\n",
    "    mne.time_frequency.write_tfrs(fname, [t.average() for t in sub_tfrs], overwrite=True)\n",
    "    return(sub_tfrs)\n",
    "\n",
    "\n",
    "def save_tfr(subID, sub_tfrs, condition, pwr_style='induced', part_epo='fulllength', averaged=False):\n",
    "    fpath = op.join(config.paths['05_tfrs'], pwr_style, 'tfr_lists', part_epo, condition)\n",
    "    helpers.chkmk_dir(fpath)\n",
    "    if averaged:\n",
    "        fname = op.join(fpath, subID + '-collapsed-avgTFRs-tfr.h5')\n",
    "    else:\n",
    "        fname = op.join(fpath, subID + '-collapsed-singletrialTFRs-tfr.h5')  \n",
    "    \n",
    "    mne.time_frequency.write_tfrs(fname, sub_tfrs, overwrite=True)\n",
    "\n",
    "\n",
    "def get_tfr(epos, picks='all', average=True, freqs=None):\n",
    "    if freqs is None:\n",
    "        freqs = np.concatenate([np.arange(6, 26, 1)])  # , np.arange(16,30,2)])\n",
    "    n_cycles = freqs / 2.  # different number of cycle per frequency\n",
    "    power = mne.time_frequency.tfr_morlet(epos,\n",
    "                                          picks=picks,\n",
    "                                          freqs=freqs,\n",
    "                                          n_cycles=n_cycles,\n",
    "                                          use_fft=True,\n",
    "                                          return_itc=False,\n",
    "                                          average=average,\n",
    "                                          decim=1,\n",
    "                                          n_jobs=-2)\n",
    "    return power"
   ]
  },
  {
   "cell_type": "code",
   "execution_count": 5,
   "id": "fe143ed0",
   "metadata": {},
   "outputs": [
    {
     "name": "stdout",
     "output_type": "stream",
     "text": [
      "Running VME_S01 ...\n",
      "Reading /raven/ptmp/fklotzsche/Experiments/vMemEcc/Data2022/DataMNE/EEG/03_preproc/pooled/fulllength/collapsed/VME_S01-fulllength-collapsed-epo.fif ...\n",
      "    Found the data of interest:\n",
      "        t =    -600.00 ...    3300.00 ms\n",
      "        0 CTF compensation matrices available\n",
      "Not setting metadata\n",
      "Not setting metadata\n",
      "659 matching events found\n",
      "No baseline correction applied\n",
      "0 projection items activated\n",
      "Subtracting Evoked from Epochs\n",
      "    The following channels are not included in the subtraction: IO1, IO2, LO2, LO1, VEOG, ECG, HEOG\n",
      "[done]\n"
     ]
    },
    {
     "name": "stderr",
     "output_type": "stream",
     "text": [
      "[Parallel(n_jobs=143)]: Using backend LokyBackend with 143 concurrent workers.\n",
      "[Parallel(n_jobs=143)]: Done   9 out of  60 | elapsed:   12.2s remaining:  1.2min\n",
      "[Parallel(n_jobs=143)]: Done  22 out of  60 | elapsed:   14.3s remaining:   24.6s\n",
      "[Parallel(n_jobs=143)]: Done  35 out of  60 | elapsed:   16.2s remaining:   11.6s\n",
      "[Parallel(n_jobs=143)]: Done  48 out of  60 | elapsed:   18.2s remaining:    4.6s\n",
      "[Parallel(n_jobs=143)]: Done  60 out of  60 | elapsed:   20.0s finished\n"
     ]
    },
    {
     "name": "stdout",
     "output_type": "stream",
     "text": [
      "Not setting metadata\n",
      "creating dir: /raven/ptmp/fklotzsche/Experiments/vMemEcc/Data2022/DataMNE/EEG/05_tfrs_clean/induced/tfr_lists/fulllength/LoadLow\n"
     ]
    },
    {
     "name": "stderr",
     "output_type": "stream",
     "text": [
      "[Parallel(n_jobs=143)]: Using backend LokyBackend with 143 concurrent workers.\n",
      "[Parallel(n_jobs=143)]: Done   9 out of  60 | elapsed:    3.3s remaining:   18.7s\n",
      "[Parallel(n_jobs=143)]: Done  22 out of  60 | elapsed:    4.7s remaining:    8.1s\n",
      "[Parallel(n_jobs=143)]: Done  35 out of  60 | elapsed:    5.9s remaining:    4.2s\n",
      "[Parallel(n_jobs=143)]: Done  48 out of  60 | elapsed:    7.2s remaining:    1.8s\n",
      "[Parallel(n_jobs=143)]: Done  60 out of  60 | elapsed:    8.3s finished\n"
     ]
    },
    {
     "name": "stdout",
     "output_type": "stream",
     "text": [
      "Not setting metadata\n",
      "creating dir: /raven/ptmp/fklotzsche/Experiments/vMemEcc/Data2022/DataMNE/EEG/05_tfrs_clean/induced/tfr_lists/fulllength/EccS\n"
     ]
    },
    {
     "name": "stderr",
     "output_type": "stream",
     "text": [
      "[Parallel(n_jobs=143)]: Using backend LokyBackend with 143 concurrent workers.\n",
      "[Parallel(n_jobs=143)]: Done   9 out of  60 | elapsed:    0.7s remaining:    4.1s\n",
      "[Parallel(n_jobs=143)]: Done  22 out of  60 | elapsed:    1.3s remaining:    2.3s\n",
      "[Parallel(n_jobs=143)]: Done  35 out of  60 | elapsed:    1.8s remaining:    1.3s\n",
      "[Parallel(n_jobs=143)]: Done  48 out of  60 | elapsed:    2.3s remaining:    0.6s\n",
      "[Parallel(n_jobs=143)]: Done  60 out of  60 | elapsed:    2.8s finished\n"
     ]
    },
    {
     "name": "stdout",
     "output_type": "stream",
     "text": [
      "Not setting metadata\n",
      "creating dir: /raven/ptmp/fklotzsche/Experiments/vMemEcc/Data2022/DataMNE/EEG/05_tfrs_clean/induced/tfr_lists/fulllength/LoadLowEccS\n"
     ]
    },
    {
     "name": "stderr",
     "output_type": "stream",
     "text": [
      "[Parallel(n_jobs=143)]: Using backend LokyBackend with 143 concurrent workers.\n",
      "[Parallel(n_jobs=143)]: Done   9 out of  60 | elapsed:    1.5s remaining:    8.5s\n",
      "[Parallel(n_jobs=143)]: Done  22 out of  60 | elapsed:    2.8s remaining:    4.9s\n",
      "[Parallel(n_jobs=143)]: Done  35 out of  60 | elapsed:    4.1s remaining:    3.0s\n",
      "[Parallel(n_jobs=143)]: Done  48 out of  60 | elapsed:    5.4s remaining:    1.4s\n",
      "[Parallel(n_jobs=143)]: Done  60 out of  60 | elapsed:    6.7s finished\n"
     ]
    },
    {
     "name": "stdout",
     "output_type": "stream",
     "text": [
      "Not setting metadata\n",
      "creating dir: /raven/ptmp/fklotzsche/Experiments/vMemEcc/Data2022/DataMNE/EEG/05_tfrs_clean/induced/tfr_lists/fulllength/EccM\n"
     ]
    },
    {
     "name": "stderr",
     "output_type": "stream",
     "text": [
      "[Parallel(n_jobs=143)]: Using backend LokyBackend with 143 concurrent workers.\n",
      "[Parallel(n_jobs=143)]: Done   9 out of  60 | elapsed:    0.6s remaining:    3.5s\n",
      "[Parallel(n_jobs=143)]: Done  22 out of  60 | elapsed:    1.2s remaining:    2.0s\n",
      "[Parallel(n_jobs=143)]: Done  35 out of  60 | elapsed:    1.8s remaining:    1.3s\n",
      "[Parallel(n_jobs=143)]: Done  48 out of  60 | elapsed:    2.3s remaining:    0.6s\n",
      "[Parallel(n_jobs=143)]: Done  60 out of  60 | elapsed:    2.9s finished\n"
     ]
    },
    {
     "name": "stdout",
     "output_type": "stream",
     "text": [
      "Not setting metadata\n",
      "creating dir: /raven/ptmp/fklotzsche/Experiments/vMemEcc/Data2022/DataMNE/EEG/05_tfrs_clean/induced/tfr_lists/fulllength/LoadLowEccM\n"
     ]
    },
    {
     "name": "stderr",
     "output_type": "stream",
     "text": [
      "[Parallel(n_jobs=143)]: Using backend LokyBackend with 143 concurrent workers.\n",
      "[Parallel(n_jobs=143)]: Done   9 out of  60 | elapsed:    1.4s remaining:    8.2s\n",
      "[Parallel(n_jobs=143)]: Done  22 out of  60 | elapsed:    2.8s remaining:    4.9s\n",
      "[Parallel(n_jobs=143)]: Done  35 out of  60 | elapsed:    4.2s remaining:    3.0s\n",
      "[Parallel(n_jobs=143)]: Done  48 out of  60 | elapsed:    5.6s remaining:    1.4s\n",
      "[Parallel(n_jobs=143)]: Done  60 out of  60 | elapsed:    6.9s finished\n"
     ]
    },
    {
     "name": "stdout",
     "output_type": "stream",
     "text": [
      "Not setting metadata\n",
      "creating dir: /raven/ptmp/fklotzsche/Experiments/vMemEcc/Data2022/DataMNE/EEG/05_tfrs_clean/induced/tfr_lists/fulllength/EccL\n"
     ]
    },
    {
     "name": "stderr",
     "output_type": "stream",
     "text": [
      "[Parallel(n_jobs=143)]: Using backend LokyBackend with 143 concurrent workers.\n",
      "[Parallel(n_jobs=143)]: Done   9 out of  60 | elapsed:    0.6s remaining:    3.4s\n",
      "[Parallel(n_jobs=143)]: Done  22 out of  60 | elapsed:    1.1s remaining:    2.0s\n",
      "[Parallel(n_jobs=143)]: Done  35 out of  60 | elapsed:    1.7s remaining:    1.2s\n",
      "[Parallel(n_jobs=143)]: Done  48 out of  60 | elapsed:    2.3s remaining:    0.6s\n",
      "[Parallel(n_jobs=143)]: Done  60 out of  60 | elapsed:    2.8s finished\n"
     ]
    },
    {
     "name": "stdout",
     "output_type": "stream",
     "text": [
      "Not setting metadata\n",
      "creating dir: /raven/ptmp/fklotzsche/Experiments/vMemEcc/Data2022/DataMNE/EEG/05_tfrs_clean/induced/tfr_lists/fulllength/LoadLowEccL\n"
     ]
    },
    {
     "name": "stderr",
     "output_type": "stream",
     "text": [
      "[Parallel(n_jobs=143)]: Using backend LokyBackend with 143 concurrent workers.\n",
      "[Parallel(n_jobs=143)]: Done   9 out of  60 | elapsed:    2.3s remaining:   12.9s\n",
      "[Parallel(n_jobs=143)]: Done  22 out of  60 | elapsed:    4.3s remaining:    7.5s\n",
      "[Parallel(n_jobs=143)]: Done  35 out of  60 | elapsed:    6.5s remaining:    4.6s\n",
      "[Parallel(n_jobs=143)]: Done  48 out of  60 | elapsed:    8.6s remaining:    2.1s\n",
      "[Parallel(n_jobs=143)]: Done  60 out of  60 | elapsed:   10.5s finished\n"
     ]
    },
    {
     "name": "stdout",
     "output_type": "stream",
     "text": [
      "Not setting metadata\n",
      "creating dir: /raven/ptmp/fklotzsche/Experiments/vMemEcc/Data2022/DataMNE/EEG/05_tfrs_clean/induced/tfr_lists/fulllength/LoadHigh\n"
     ]
    },
    {
     "name": "stderr",
     "output_type": "stream",
     "text": [
      "[Parallel(n_jobs=143)]: Using backend LokyBackend with 143 concurrent workers.\n",
      "[Parallel(n_jobs=143)]: Done   9 out of  60 | elapsed:    0.6s remaining:    3.2s\n",
      "[Parallel(n_jobs=143)]: Done  22 out of  60 | elapsed:    1.1s remaining:    1.9s\n",
      "[Parallel(n_jobs=143)]: Done  35 out of  60 | elapsed:    1.7s remaining:    1.2s\n",
      "[Parallel(n_jobs=143)]: Done  48 out of  60 | elapsed:    2.2s remaining:    0.6s\n",
      "[Parallel(n_jobs=143)]: Done  60 out of  60 | elapsed:    2.8s finished\n"
     ]
    },
    {
     "name": "stdout",
     "output_type": "stream",
     "text": [
      "Not setting metadata\n",
      "creating dir: /raven/ptmp/fklotzsche/Experiments/vMemEcc/Data2022/DataMNE/EEG/05_tfrs_clean/induced/tfr_lists/fulllength/LoadHighEccS\n"
     ]
    },
    {
     "name": "stderr",
     "output_type": "stream",
     "text": [
      "[Parallel(n_jobs=143)]: Using backend LokyBackend with 143 concurrent workers.\n",
      "[Parallel(n_jobs=143)]: Done   9 out of  60 | elapsed:    0.5s remaining:    3.1s\n",
      "[Parallel(n_jobs=143)]: Done  22 out of  60 | elapsed:    1.0s remaining:    1.8s\n",
      "[Parallel(n_jobs=143)]: Done  35 out of  60 | elapsed:    1.5s remaining:    1.1s\n",
      "[Parallel(n_jobs=143)]: Done  48 out of  60 | elapsed:    2.1s remaining:    0.5s\n",
      "[Parallel(n_jobs=143)]: Done  60 out of  60 | elapsed:    2.6s finished\n"
     ]
    },
    {
     "name": "stdout",
     "output_type": "stream",
     "text": [
      "Not setting metadata\n",
      "creating dir: /raven/ptmp/fklotzsche/Experiments/vMemEcc/Data2022/DataMNE/EEG/05_tfrs_clean/induced/tfr_lists/fulllength/LoadHighEccM\n"
     ]
    },
    {
     "name": "stderr",
     "output_type": "stream",
     "text": [
      "[Parallel(n_jobs=143)]: Using backend LokyBackend with 143 concurrent workers.\n",
      "[Parallel(n_jobs=143)]: Done   9 out of  60 | elapsed:    0.7s remaining:    3.8s\n",
      "[Parallel(n_jobs=143)]: Done  22 out of  60 | elapsed:    1.3s remaining:    2.2s\n",
      "[Parallel(n_jobs=143)]: Done  35 out of  60 | elapsed:    1.9s remaining:    1.4s\n",
      "[Parallel(n_jobs=143)]: Done  48 out of  60 | elapsed:    2.5s remaining:    0.6s\n",
      "[Parallel(n_jobs=143)]: Done  60 out of  60 | elapsed:    3.1s finished\n"
     ]
    },
    {
     "name": "stdout",
     "output_type": "stream",
     "text": [
      "Not setting metadata\n",
      "creating dir: /raven/ptmp/fklotzsche/Experiments/vMemEcc/Data2022/DataMNE/EEG/05_tfrs_clean/induced/tfr_lists/fulllength/LoadHighEccL\n"
     ]
    },
    {
     "name": "stderr",
     "output_type": "stream",
     "text": [
      "[Parallel(n_jobs=143)]: Using backend LokyBackend with 143 concurrent workers.\n",
      "[Parallel(n_jobs=143)]: Done   9 out of  60 | elapsed:    4.5s remaining:   25.5s\n",
      "[Parallel(n_jobs=143)]: Done  22 out of  60 | elapsed:    8.4s remaining:   14.5s\n",
      "[Parallel(n_jobs=143)]: Done  35 out of  60 | elapsed:   12.3s remaining:    8.8s\n",
      "[Parallel(n_jobs=143)]: Done  48 out of  60 | elapsed:   16.3s remaining:    4.1s\n",
      "[Parallel(n_jobs=143)]: Done  60 out of  60 | elapsed:   20.1s finished\n"
     ]
    },
    {
     "name": "stdout",
     "output_type": "stream",
     "text": [
      "Not setting metadata\n",
      "creating dir: /raven/ptmp/fklotzsche/Experiments/vMemEcc/Data2022/DataMNE/EEG/05_tfrs_clean/induced/tfr_lists/fulllength/all\n",
      "Running VME_S02 ...\n",
      "Reading /raven/ptmp/fklotzsche/Experiments/vMemEcc/Data2022/DataMNE/EEG/03_preproc/pooled/fulllength/collapsed/VME_S02-fulllength-collapsed-epo.fif ...\n",
      "    Found the data of interest:\n",
      "        t =    -600.00 ...    3300.00 ms\n",
      "        0 CTF compensation matrices available\n",
      "Not setting metadata\n",
      "Not setting metadata\n",
      "713 matching events found\n",
      "No baseline correction applied\n",
      "0 projection items activated\n",
      "Subtracting Evoked from Epochs\n",
      "    The following channels are not included in the subtraction: IO1, IO2, LO2, LO1, VEOG, ECG, HEOG\n",
      "[done]\n"
     ]
    },
    {
     "name": "stderr",
     "output_type": "stream",
     "text": [
      "[Parallel(n_jobs=143)]: Using backend LokyBackend with 143 concurrent workers.\n",
      "[Parallel(n_jobs=143)]: Done   9 out of  60 | elapsed:    2.4s remaining:   13.9s\n",
      "[Parallel(n_jobs=143)]: Done  22 out of  60 | elapsed:    4.6s remaining:    8.0s\n",
      "[Parallel(n_jobs=143)]: Done  35 out of  60 | elapsed:    6.9s remaining:    5.0s\n",
      "[Parallel(n_jobs=143)]: Done  48 out of  60 | elapsed:    9.3s remaining:    2.3s\n",
      "[Parallel(n_jobs=143)]: Done  60 out of  60 | elapsed:   11.3s finished\n"
     ]
    },
    {
     "name": "stdout",
     "output_type": "stream",
     "text": [
      "Not setting metadata\n"
     ]
    },
    {
     "name": "stderr",
     "output_type": "stream",
     "text": [
      "[Parallel(n_jobs=143)]: Using backend LokyBackend with 143 concurrent workers.\n",
      "[Parallel(n_jobs=143)]: Done   9 out of  60 | elapsed:    1.7s remaining:    9.5s\n",
      "[Parallel(n_jobs=143)]: Done  22 out of  60 | elapsed:    3.1s remaining:    5.4s\n",
      "[Parallel(n_jobs=143)]: Done  35 out of  60 | elapsed:    4.6s remaining:    3.3s\n",
      "[Parallel(n_jobs=143)]: Done  48 out of  60 | elapsed:    6.0s remaining:    1.5s\n",
      "[Parallel(n_jobs=143)]: Done  60 out of  60 | elapsed:    7.3s finished\n"
     ]
    },
    {
     "name": "stdout",
     "output_type": "stream",
     "text": [
      "Not setting metadata\n"
     ]
    },
    {
     "name": "stderr",
     "output_type": "stream",
     "text": [
      "[Parallel(n_jobs=143)]: Using backend LokyBackend with 143 concurrent workers.\n",
      "[Parallel(n_jobs=143)]: Done   9 out of  60 | elapsed:    0.6s remaining:    3.3s\n",
      "[Parallel(n_jobs=143)]: Done  22 out of  60 | elapsed:    1.2s remaining:    2.0s\n",
      "[Parallel(n_jobs=143)]: Done  35 out of  60 | elapsed:    1.8s remaining:    1.3s\n",
      "[Parallel(n_jobs=143)]: Done  48 out of  60 | elapsed:    2.4s remaining:    0.6s\n",
      "[Parallel(n_jobs=143)]: Done  60 out of  60 | elapsed:    2.9s finished\n"
     ]
    },
    {
     "name": "stdout",
     "output_type": "stream",
     "text": [
      "Not setting metadata\n"
     ]
    },
    {
     "name": "stderr",
     "output_type": "stream",
     "text": [
      "[Parallel(n_jobs=143)]: Using backend LokyBackend with 143 concurrent workers.\n",
      "[Parallel(n_jobs=143)]: Done   9 out of  60 | elapsed:    1.5s remaining:    8.5s\n",
      "[Parallel(n_jobs=143)]: Done  22 out of  60 | elapsed:    2.9s remaining:    5.0s\n",
      "[Parallel(n_jobs=143)]: Done  35 out of  60 | elapsed:    4.4s remaining:    3.1s\n",
      "[Parallel(n_jobs=143)]: Done  48 out of  60 | elapsed:    5.8s remaining:    1.5s\n",
      "[Parallel(n_jobs=143)]: Done  60 out of  60 | elapsed:    7.1s finished\n"
     ]
    },
    {
     "name": "stdout",
     "output_type": "stream",
     "text": [
      "Not setting metadata\n"
     ]
    },
    {
     "name": "stderr",
     "output_type": "stream",
     "text": [
      "[Parallel(n_jobs=143)]: Using backend LokyBackend with 143 concurrent workers.\n",
      "[Parallel(n_jobs=143)]: Done   9 out of  60 | elapsed:    0.7s remaining:    3.7s\n",
      "[Parallel(n_jobs=143)]: Done  22 out of  60 | elapsed:    1.2s remaining:    2.1s\n",
      "[Parallel(n_jobs=143)]: Done  35 out of  60 | elapsed:    1.8s remaining:    1.3s\n",
      "[Parallel(n_jobs=143)]: Done  48 out of  60 | elapsed:    2.4s remaining:    0.6s\n",
      "[Parallel(n_jobs=143)]: Done  60 out of  60 | elapsed:    3.0s finished\n"
     ]
    },
    {
     "name": "stdout",
     "output_type": "stream",
     "text": [
      "Not setting metadata\n"
     ]
    },
    {
     "name": "stderr",
     "output_type": "stream",
     "text": [
      "[Parallel(n_jobs=143)]: Using backend LokyBackend with 143 concurrent workers.\n",
      "[Parallel(n_jobs=143)]: Done   9 out of  60 | elapsed:    1.6s remaining:    9.2s\n",
      "[Parallel(n_jobs=143)]: Done  22 out of  60 | elapsed:    3.1s remaining:    5.3s\n",
      "[Parallel(n_jobs=143)]: Done  35 out of  60 | elapsed:    4.5s remaining:    3.2s\n",
      "[Parallel(n_jobs=143)]: Done  48 out of  60 | elapsed:    5.9s remaining:    1.5s\n",
      "[Parallel(n_jobs=143)]: Done  60 out of  60 | elapsed:    7.3s finished\n"
     ]
    },
    {
     "name": "stdout",
     "output_type": "stream",
     "text": [
      "Not setting metadata\n"
     ]
    },
    {
     "name": "stderr",
     "output_type": "stream",
     "text": [
      "[Parallel(n_jobs=143)]: Using backend LokyBackend with 143 concurrent workers.\n",
      "[Parallel(n_jobs=143)]: Done   9 out of  60 | elapsed:    0.7s remaining:    4.0s\n",
      "[Parallel(n_jobs=143)]: Done  22 out of  60 | elapsed:    1.3s remaining:    2.3s\n",
      "[Parallel(n_jobs=143)]: Done  35 out of  60 | elapsed:    2.0s remaining:    1.4s\n",
      "[Parallel(n_jobs=143)]: Done  48 out of  60 | elapsed:    2.6s remaining:    0.7s\n",
      "[Parallel(n_jobs=143)]: Done  60 out of  60 | elapsed:    3.2s finished\n"
     ]
    },
    {
     "name": "stdout",
     "output_type": "stream",
     "text": [
      "Not setting metadata\n"
     ]
    },
    {
     "name": "stderr",
     "output_type": "stream",
     "text": [
      "[Parallel(n_jobs=143)]: Using backend LokyBackend with 143 concurrent workers.\n",
      "[Parallel(n_jobs=143)]: Done   9 out of  60 | elapsed:    2.4s remaining:   13.9s\n",
      "[Parallel(n_jobs=143)]: Done  22 out of  60 | elapsed:    4.6s remaining:    8.0s\n",
      "[Parallel(n_jobs=143)]: Done  35 out of  60 | elapsed:    6.9s remaining:    4.9s\n",
      "[Parallel(n_jobs=143)]: Done  48 out of  60 | elapsed:    9.1s remaining:    2.3s\n",
      "[Parallel(n_jobs=143)]: Done  60 out of  60 | elapsed:   11.2s finished\n"
     ]
    },
    {
     "name": "stdout",
     "output_type": "stream",
     "text": [
      "Not setting metadata\n"
     ]
    },
    {
     "name": "stderr",
     "output_type": "stream",
     "text": [
      "[Parallel(n_jobs=143)]: Using backend LokyBackend with 143 concurrent workers.\n",
      "[Parallel(n_jobs=143)]: Done   9 out of  60 | elapsed:    0.6s remaining:    3.6s\n",
      "[Parallel(n_jobs=143)]: Done  22 out of  60 | elapsed:    1.2s remaining:    2.1s\n",
      "[Parallel(n_jobs=143)]: Done  35 out of  60 | elapsed:    1.8s remaining:    1.3s\n",
      "[Parallel(n_jobs=143)]: Done  48 out of  60 | elapsed:    2.4s remaining:    0.6s\n",
      "[Parallel(n_jobs=143)]: Done  60 out of  60 | elapsed:    3.0s finished\n"
     ]
    },
    {
     "name": "stdout",
     "output_type": "stream",
     "text": [
      "Not setting metadata\n"
     ]
    },
    {
     "name": "stderr",
     "output_type": "stream",
     "text": [
      "[Parallel(n_jobs=143)]: Using backend LokyBackend with 143 concurrent workers.\n",
      "[Parallel(n_jobs=143)]: Done   9 out of  60 | elapsed:    0.6s remaining:    3.7s\n",
      "[Parallel(n_jobs=143)]: Done  22 out of  60 | elapsed:    1.3s remaining:    2.2s\n",
      "[Parallel(n_jobs=143)]: Done  35 out of  60 | elapsed:    1.9s remaining:    1.3s\n",
      "[Parallel(n_jobs=143)]: Done  48 out of  60 | elapsed:    2.5s remaining:    0.6s\n",
      "[Parallel(n_jobs=143)]: Done  60 out of  60 | elapsed:    3.0s finished\n"
     ]
    },
    {
     "name": "stdout",
     "output_type": "stream",
     "text": [
      "Not setting metadata\n"
     ]
    },
    {
     "name": "stderr",
     "output_type": "stream",
     "text": [
      "[Parallel(n_jobs=143)]: Using backend LokyBackend with 143 concurrent workers.\n",
      "[Parallel(n_jobs=143)]: Done   9 out of  60 | elapsed:    0.7s remaining:    4.2s\n",
      "[Parallel(n_jobs=143)]: Done  22 out of  60 | elapsed:    1.4s remaining:    2.3s\n",
      "[Parallel(n_jobs=143)]: Done  35 out of  60 | elapsed:    2.0s remaining:    1.4s\n",
      "[Parallel(n_jobs=143)]: Done  48 out of  60 | elapsed:    2.6s remaining:    0.6s\n",
      "[Parallel(n_jobs=143)]: Done  60 out of  60 | elapsed:    3.1s finished\n"
     ]
    },
    {
     "name": "stdout",
     "output_type": "stream",
     "text": [
      "Not setting metadata\n"
     ]
    },
    {
     "name": "stderr",
     "output_type": "stream",
     "text": [
      "[Parallel(n_jobs=143)]: Using backend LokyBackend with 143 concurrent workers.\n",
      "[Parallel(n_jobs=143)]: Done   9 out of  60 | elapsed:    5.0s remaining:   28.2s\n",
      "[Parallel(n_jobs=143)]: Done  22 out of  60 | elapsed:    9.2s remaining:   15.9s\n",
      "[Parallel(n_jobs=143)]: Done  35 out of  60 | elapsed:   13.5s remaining:    9.6s\n",
      "[Parallel(n_jobs=143)]: Done  48 out of  60 | elapsed:   17.9s remaining:    4.5s\n",
      "[Parallel(n_jobs=143)]: Done  60 out of  60 | elapsed:   22.0s finished\n"
     ]
    },
    {
     "name": "stdout",
     "output_type": "stream",
     "text": [
      "Not setting metadata\n",
      "Running VME_S03 ...\n",
      "Reading /raven/ptmp/fklotzsche/Experiments/vMemEcc/Data2022/DataMNE/EEG/03_preproc/pooled/fulllength/collapsed/VME_S03-fulllength-collapsed-epo.fif ...\n",
      "    Found the data of interest:\n",
      "        t =    -600.00 ...    3300.00 ms\n",
      "        0 CTF compensation matrices available\n",
      "Not setting metadata\n",
      "Not setting metadata\n",
      "623 matching events found\n",
      "No baseline correction applied\n",
      "0 projection items activated\n",
      "Subtracting Evoked from Epochs\n",
      "    The following channels are not included in the subtraction: IO1, IO2, LO2, LO1, VEOG, ECG, HEOG\n",
      "[done]\n"
     ]
    },
    {
     "name": "stderr",
     "output_type": "stream",
     "text": [
      "[Parallel(n_jobs=143)]: Using backend LokyBackend with 143 concurrent workers.\n",
      "[Parallel(n_jobs=143)]: Done   9 out of  60 | elapsed:    2.1s remaining:   12.1s\n",
      "[Parallel(n_jobs=143)]: Done  22 out of  60 | elapsed:    4.2s remaining:    7.2s\n",
      "[Parallel(n_jobs=143)]: Done  35 out of  60 | elapsed:    6.1s remaining:    4.4s\n",
      "[Parallel(n_jobs=143)]: Done  48 out of  60 | elapsed:    8.1s remaining:    2.0s\n",
      "[Parallel(n_jobs=143)]: Done  60 out of  60 | elapsed:   10.0s finished\n"
     ]
    },
    {
     "name": "stdout",
     "output_type": "stream",
     "text": [
      "Not setting metadata\n"
     ]
    },
    {
     "name": "stderr",
     "output_type": "stream",
     "text": [
      "[Parallel(n_jobs=143)]: Using backend LokyBackend with 143 concurrent workers.\n",
      "[Parallel(n_jobs=143)]: Done   9 out of  60 | elapsed:    1.3s remaining:    7.5s\n",
      "[Parallel(n_jobs=143)]: Done  22 out of  60 | elapsed:    2.6s remaining:    4.5s\n",
      "[Parallel(n_jobs=143)]: Done  35 out of  60 | elapsed:    3.9s remaining:    2.8s\n",
      "[Parallel(n_jobs=143)]: Done  48 out of  60 | elapsed:    5.2s remaining:    1.3s\n",
      "[Parallel(n_jobs=143)]: Done  60 out of  60 | elapsed:    6.4s finished\n"
     ]
    },
    {
     "name": "stdout",
     "output_type": "stream",
     "text": [
      "Not setting metadata\n"
     ]
    },
    {
     "name": "stderr",
     "output_type": "stream",
     "text": [
      "[Parallel(n_jobs=143)]: Using backend LokyBackend with 143 concurrent workers.\n",
      "[Parallel(n_jobs=143)]: Done   9 out of  60 | elapsed:    0.6s remaining:    3.3s\n",
      "[Parallel(n_jobs=143)]: Done  22 out of  60 | elapsed:    1.1s remaining:    1.9s\n",
      "[Parallel(n_jobs=143)]: Done  35 out of  60 | elapsed:    1.6s remaining:    1.1s\n",
      "[Parallel(n_jobs=143)]: Done  48 out of  60 | elapsed:    2.2s remaining:    0.5s\n",
      "[Parallel(n_jobs=143)]: Done  60 out of  60 | elapsed:    2.6s finished\n"
     ]
    },
    {
     "name": "stdout",
     "output_type": "stream",
     "text": [
      "Not setting metadata\n"
     ]
    },
    {
     "name": "stderr",
     "output_type": "stream",
     "text": [
      "[Parallel(n_jobs=143)]: Using backend LokyBackend with 143 concurrent workers.\n",
      "[Parallel(n_jobs=143)]: Done   9 out of  60 | elapsed:    1.4s remaining:    7.7s\n",
      "[Parallel(n_jobs=143)]: Done  22 out of  60 | elapsed:    2.6s remaining:    4.5s\n",
      "[Parallel(n_jobs=143)]: Done  35 out of  60 | elapsed:    3.9s remaining:    2.8s\n",
      "[Parallel(n_jobs=143)]: Done  48 out of  60 | elapsed:    5.1s remaining:    1.3s\n",
      "[Parallel(n_jobs=143)]: Done  60 out of  60 | elapsed:    6.2s finished\n"
     ]
    },
    {
     "name": "stdout",
     "output_type": "stream",
     "text": [
      "Not setting metadata\n"
     ]
    },
    {
     "name": "stderr",
     "output_type": "stream",
     "text": [
      "[Parallel(n_jobs=143)]: Using backend LokyBackend with 143 concurrent workers.\n",
      "[Parallel(n_jobs=143)]: Done   9 out of  60 | elapsed:    0.6s remaining:    3.3s\n",
      "[Parallel(n_jobs=143)]: Done  22 out of  60 | elapsed:    1.1s remaining:    1.9s\n",
      "[Parallel(n_jobs=143)]: Done  35 out of  60 | elapsed:    1.6s remaining:    1.2s\n",
      "[Parallel(n_jobs=143)]: Done  48 out of  60 | elapsed:    2.1s remaining:    0.5s\n",
      "[Parallel(n_jobs=143)]: Done  60 out of  60 | elapsed:    2.6s finished\n"
     ]
    },
    {
     "name": "stdout",
     "output_type": "stream",
     "text": [
      "Not setting metadata\n"
     ]
    },
    {
     "name": "stderr",
     "output_type": "stream",
     "text": [
      "[Parallel(n_jobs=143)]: Using backend LokyBackend with 143 concurrent workers.\n",
      "[Parallel(n_jobs=143)]: Done   9 out of  60 | elapsed:    1.4s remaining:    7.9s\n",
      "[Parallel(n_jobs=143)]: Done  22 out of  60 | elapsed:    2.7s remaining:    4.6s\n",
      "[Parallel(n_jobs=143)]: Done  35 out of  60 | elapsed:    4.0s remaining:    2.9s\n",
      "[Parallel(n_jobs=143)]: Done  48 out of  60 | elapsed:    5.3s remaining:    1.3s\n",
      "[Parallel(n_jobs=143)]: Done  60 out of  60 | elapsed:    6.5s finished\n"
     ]
    },
    {
     "name": "stdout",
     "output_type": "stream",
     "text": [
      "Not setting metadata\n"
     ]
    },
    {
     "name": "stderr",
     "output_type": "stream",
     "text": [
      "[Parallel(n_jobs=143)]: Using backend LokyBackend with 143 concurrent workers.\n",
      "[Parallel(n_jobs=143)]: Done   9 out of  60 | elapsed:    0.6s remaining:    3.5s\n",
      "[Parallel(n_jobs=143)]: Done  22 out of  60 | elapsed:    1.1s remaining:    2.0s\n",
      "[Parallel(n_jobs=143)]: Done  35 out of  60 | elapsed:    1.7s remaining:    1.2s\n",
      "[Parallel(n_jobs=143)]: Done  48 out of  60 | elapsed:    2.3s remaining:    0.6s\n",
      "[Parallel(n_jobs=143)]: Done  60 out of  60 | elapsed:    2.8s finished\n"
     ]
    },
    {
     "name": "stdout",
     "output_type": "stream",
     "text": [
      "Not setting metadata\n"
     ]
    },
    {
     "name": "stderr",
     "output_type": "stream",
     "text": [
      "[Parallel(n_jobs=143)]: Using backend LokyBackend with 143 concurrent workers.\n",
      "[Parallel(n_jobs=143)]: Done   9 out of  60 | elapsed:    2.0s remaining:   11.5s\n",
      "[Parallel(n_jobs=143)]: Done  22 out of  60 | elapsed:    3.9s remaining:    6.7s\n",
      "[Parallel(n_jobs=143)]: Done  35 out of  60 | elapsed:    5.7s remaining:    4.1s\n",
      "[Parallel(n_jobs=143)]: Done  48 out of  60 | elapsed:    7.6s remaining:    1.9s\n",
      "[Parallel(n_jobs=143)]: Done  60 out of  60 | elapsed:    9.3s finished\n"
     ]
    },
    {
     "name": "stdout",
     "output_type": "stream",
     "text": [
      "Not setting metadata\n"
     ]
    },
    {
     "name": "stderr",
     "output_type": "stream",
     "text": [
      "[Parallel(n_jobs=143)]: Using backend LokyBackend with 143 concurrent workers.\n",
      "[Parallel(n_jobs=143)]: Done   9 out of  60 | elapsed:    0.5s remaining:    3.0s\n",
      "[Parallel(n_jobs=143)]: Done  22 out of  60 | elapsed:    1.0s remaining:    1.7s\n",
      "[Parallel(n_jobs=143)]: Done  35 out of  60 | elapsed:    1.5s remaining:    1.1s\n",
      "[Parallel(n_jobs=143)]: Done  48 out of  60 | elapsed:    2.0s remaining:    0.5s\n",
      "[Parallel(n_jobs=143)]: Done  60 out of  60 | elapsed:    2.5s finished\n"
     ]
    },
    {
     "name": "stdout",
     "output_type": "stream",
     "text": [
      "Not setting metadata\n"
     ]
    },
    {
     "name": "stderr",
     "output_type": "stream",
     "text": [
      "[Parallel(n_jobs=143)]: Using backend LokyBackend with 143 concurrent workers.\n",
      "[Parallel(n_jobs=143)]: Done   9 out of  60 | elapsed:    0.5s remaining:    2.9s\n",
      "[Parallel(n_jobs=143)]: Done  22 out of  60 | elapsed:    1.0s remaining:    1.7s\n",
      "[Parallel(n_jobs=143)]: Done  35 out of  60 | elapsed:    1.5s remaining:    1.1s\n",
      "[Parallel(n_jobs=143)]: Done  48 out of  60 | elapsed:    2.0s remaining:    0.5s\n",
      "[Parallel(n_jobs=143)]: Done  60 out of  60 | elapsed:    2.4s finished\n"
     ]
    },
    {
     "name": "stdout",
     "output_type": "stream",
     "text": [
      "Not setting metadata\n"
     ]
    },
    {
     "name": "stderr",
     "output_type": "stream",
     "text": [
      "[Parallel(n_jobs=143)]: Using backend LokyBackend with 143 concurrent workers.\n",
      "[Parallel(n_jobs=143)]: Done   9 out of  60 | elapsed:    0.5s remaining:    3.1s\n",
      "[Parallel(n_jobs=143)]: Done  22 out of  60 | elapsed:    1.1s remaining:    1.8s\n",
      "[Parallel(n_jobs=143)]: Done  35 out of  60 | elapsed:    1.6s remaining:    1.1s\n",
      "[Parallel(n_jobs=143)]: Done  48 out of  60 | elapsed:    2.1s remaining:    0.5s\n",
      "[Parallel(n_jobs=143)]: Done  60 out of  60 | elapsed:    2.6s finished\n"
     ]
    },
    {
     "name": "stdout",
     "output_type": "stream",
     "text": [
      "Not setting metadata\n"
     ]
    },
    {
     "name": "stderr",
     "output_type": "stream",
     "text": [
      "[Parallel(n_jobs=143)]: Using backend LokyBackend with 143 concurrent workers.\n",
      "[Parallel(n_jobs=143)]: Done   9 out of  60 | elapsed:    4.3s remaining:   24.4s\n",
      "[Parallel(n_jobs=143)]: Done  22 out of  60 | elapsed:    8.0s remaining:   13.8s\n",
      "[Parallel(n_jobs=143)]: Done  35 out of  60 | elapsed:   11.7s remaining:    8.4s\n",
      "[Parallel(n_jobs=143)]: Done  48 out of  60 | elapsed:   15.5s remaining:    3.9s\n",
      "[Parallel(n_jobs=143)]: Done  60 out of  60 | elapsed:   19.0s finished\n"
     ]
    },
    {
     "name": "stdout",
     "output_type": "stream",
     "text": [
      "Not setting metadata\n",
      "Running VME_S04 ...\n",
      "Reading /raven/ptmp/fklotzsche/Experiments/vMemEcc/Data2022/DataMNE/EEG/03_preproc/pooled/fulllength/collapsed/VME_S04-fulllength-collapsed-epo.fif ...\n",
      "    Found the data of interest:\n",
      "        t =    -600.00 ...    3300.00 ms\n",
      "        0 CTF compensation matrices available\n",
      "Not setting metadata\n",
      "Not setting metadata\n",
      "609 matching events found\n",
      "No baseline correction applied\n",
      "0 projection items activated\n",
      "Subtracting Evoked from Epochs\n",
      "    The following channels are not included in the subtraction: IO1, IO2, LO2, LO1, VEOG, ECG, HEOG\n",
      "[done]\n"
     ]
    },
    {
     "name": "stderr",
     "output_type": "stream",
     "text": [
      "[Parallel(n_jobs=143)]: Using backend LokyBackend with 143 concurrent workers.\n",
      "[Parallel(n_jobs=143)]: Done   9 out of  60 | elapsed:    2.1s remaining:   11.8s\n",
      "[Parallel(n_jobs=143)]: Done  22 out of  60 | elapsed:    3.9s remaining:    6.7s\n",
      "[Parallel(n_jobs=143)]: Done  35 out of  60 | elapsed:    5.7s remaining:    4.1s\n",
      "[Parallel(n_jobs=143)]: Done  48 out of  60 | elapsed:    7.5s remaining:    1.9s\n",
      "[Parallel(n_jobs=143)]: Done  60 out of  60 | elapsed:    9.3s finished\n"
     ]
    },
    {
     "name": "stdout",
     "output_type": "stream",
     "text": [
      "Not setting metadata\n"
     ]
    },
    {
     "name": "stderr",
     "output_type": "stream",
     "text": [
      "[Parallel(n_jobs=143)]: Using backend LokyBackend with 143 concurrent workers.\n",
      "[Parallel(n_jobs=143)]: Done   9 out of  60 | elapsed:    1.1s remaining:    6.2s\n",
      "[Parallel(n_jobs=143)]: Done  22 out of  60 | elapsed:    2.1s remaining:    3.5s\n",
      "[Parallel(n_jobs=143)]: Done  35 out of  60 | elapsed:    3.0s remaining:    2.2s\n",
      "[Parallel(n_jobs=143)]: Done  48 out of  60 | elapsed:    4.0s remaining:    1.0s\n",
      "[Parallel(n_jobs=143)]: Done  60 out of  60 | elapsed:    4.9s finished\n"
     ]
    },
    {
     "name": "stdout",
     "output_type": "stream",
     "text": [
      "Not setting metadata\n"
     ]
    },
    {
     "name": "stderr",
     "output_type": "stream",
     "text": [
      "[Parallel(n_jobs=143)]: Using backend LokyBackend with 143 concurrent workers.\n",
      "[Parallel(n_jobs=143)]: Done   9 out of  60 | elapsed:    0.5s remaining:    2.9s\n",
      "[Parallel(n_jobs=143)]: Done  22 out of  60 | elapsed:    1.0s remaining:    1.7s\n",
      "[Parallel(n_jobs=143)]: Done  35 out of  60 | elapsed:    1.4s remaining:    1.0s\n",
      "[Parallel(n_jobs=143)]: Done  48 out of  60 | elapsed:    1.9s remaining:    0.5s\n",
      "[Parallel(n_jobs=143)]: Done  60 out of  60 | elapsed:    2.4s finished\n"
     ]
    },
    {
     "name": "stdout",
     "output_type": "stream",
     "text": [
      "Not setting metadata\n"
     ]
    },
    {
     "name": "stderr",
     "output_type": "stream",
     "text": [
      "[Parallel(n_jobs=143)]: Using backend LokyBackend with 143 concurrent workers.\n",
      "[Parallel(n_jobs=143)]: Done   9 out of  60 | elapsed:    1.1s remaining:    6.5s\n",
      "[Parallel(n_jobs=143)]: Done  22 out of  60 | elapsed:    2.1s remaining:    3.6s\n",
      "[Parallel(n_jobs=143)]: Done  35 out of  60 | elapsed:    3.1s remaining:    2.2s\n",
      "[Parallel(n_jobs=143)]: Done  48 out of  60 | elapsed:    4.0s remaining:    1.0s\n",
      "[Parallel(n_jobs=143)]: Done  60 out of  60 | elapsed:    4.9s finished\n"
     ]
    },
    {
     "name": "stdout",
     "output_type": "stream",
     "text": [
      "Not setting metadata\n"
     ]
    },
    {
     "name": "stderr",
     "output_type": "stream",
     "text": [
      "[Parallel(n_jobs=143)]: Using backend LokyBackend with 143 concurrent workers.\n",
      "[Parallel(n_jobs=143)]: Done   9 out of  60 | elapsed:    0.5s remaining:    2.9s\n",
      "[Parallel(n_jobs=143)]: Done  22 out of  60 | elapsed:    1.0s remaining:    1.7s\n",
      "[Parallel(n_jobs=143)]: Done  35 out of  60 | elapsed:    1.5s remaining:    1.1s\n",
      "[Parallel(n_jobs=143)]: Done  48 out of  60 | elapsed:    2.0s remaining:    0.5s\n",
      "[Parallel(n_jobs=143)]: Done  60 out of  60 | elapsed:    2.5s finished\n"
     ]
    },
    {
     "name": "stdout",
     "output_type": "stream",
     "text": [
      "Not setting metadata\n"
     ]
    },
    {
     "name": "stderr",
     "output_type": "stream",
     "text": [
      "[Parallel(n_jobs=143)]: Using backend LokyBackend with 143 concurrent workers.\n",
      "[Parallel(n_jobs=143)]: Done   9 out of  60 | elapsed:    1.3s remaining:    7.4s\n",
      "[Parallel(n_jobs=143)]: Done  22 out of  60 | elapsed:    2.5s remaining:    4.4s\n",
      "[Parallel(n_jobs=143)]: Done  35 out of  60 | elapsed:    3.8s remaining:    2.7s\n",
      "[Parallel(n_jobs=143)]: Done  48 out of  60 | elapsed:    4.9s remaining:    1.2s\n",
      "[Parallel(n_jobs=143)]: Done  60 out of  60 | elapsed:    6.0s finished\n"
     ]
    },
    {
     "name": "stdout",
     "output_type": "stream",
     "text": [
      "Not setting metadata\n"
     ]
    },
    {
     "name": "stderr",
     "output_type": "stream",
     "text": [
      "[Parallel(n_jobs=143)]: Using backend LokyBackend with 143 concurrent workers.\n",
      "[Parallel(n_jobs=143)]: Done   9 out of  60 | elapsed:    0.5s remaining:    3.0s\n",
      "[Parallel(n_jobs=143)]: Done  22 out of  60 | elapsed:    1.0s remaining:    1.7s\n",
      "[Parallel(n_jobs=143)]: Done  35 out of  60 | elapsed:    1.4s remaining:    1.0s\n",
      "[Parallel(n_jobs=143)]: Done  48 out of  60 | elapsed:    1.9s remaining:    0.5s\n",
      "[Parallel(n_jobs=143)]: Done  60 out of  60 | elapsed:    2.4s finished\n"
     ]
    },
    {
     "name": "stdout",
     "output_type": "stream",
     "text": [
      "Not setting metadata\n"
     ]
    },
    {
     "name": "stderr",
     "output_type": "stream",
     "text": [
      "[Parallel(n_jobs=143)]: Using backend LokyBackend with 143 concurrent workers.\n",
      "[Parallel(n_jobs=143)]: Done   9 out of  60 | elapsed:    2.1s remaining:   11.7s\n",
      "[Parallel(n_jobs=143)]: Done  22 out of  60 | elapsed:    4.0s remaining:    6.9s\n",
      "[Parallel(n_jobs=143)]: Done  35 out of  60 | elapsed:    5.9s remaining:    4.2s\n",
      "[Parallel(n_jobs=143)]: Done  48 out of  60 | elapsed:    7.8s remaining:    2.0s\n",
      "[Parallel(n_jobs=143)]: Done  60 out of  60 | elapsed:    9.7s finished\n"
     ]
    },
    {
     "name": "stdout",
     "output_type": "stream",
     "text": [
      "Not setting metadata\n"
     ]
    },
    {
     "name": "stderr",
     "output_type": "stream",
     "text": [
      "[Parallel(n_jobs=143)]: Using backend LokyBackend with 143 concurrent workers.\n",
      "[Parallel(n_jobs=143)]: Done   9 out of  60 | elapsed:    0.5s remaining:    3.0s\n",
      "[Parallel(n_jobs=143)]: Done  22 out of  60 | elapsed:    1.0s remaining:    1.7s\n",
      "[Parallel(n_jobs=143)]: Done  35 out of  60 | elapsed:    1.5s remaining:    1.1s\n",
      "[Parallel(n_jobs=143)]: Done  48 out of  60 | elapsed:    2.0s remaining:    0.5s\n",
      "[Parallel(n_jobs=143)]: Done  60 out of  60 | elapsed:    2.4s finished\n"
     ]
    },
    {
     "name": "stdout",
     "output_type": "stream",
     "text": [
      "Not setting metadata\n"
     ]
    },
    {
     "name": "stderr",
     "output_type": "stream",
     "text": [
      "[Parallel(n_jobs=143)]: Using backend LokyBackend with 143 concurrent workers.\n",
      "[Parallel(n_jobs=143)]: Done   9 out of  60 | elapsed:    0.5s remaining:    3.0s\n",
      "[Parallel(n_jobs=143)]: Done  22 out of  60 | elapsed:    1.0s remaining:    1.7s\n",
      "[Parallel(n_jobs=143)]: Done  35 out of  60 | elapsed:    1.4s remaining:    1.0s\n",
      "[Parallel(n_jobs=143)]: Done  48 out of  60 | elapsed:    1.9s remaining:    0.5s\n",
      "[Parallel(n_jobs=143)]: Done  60 out of  60 | elapsed:    2.4s finished\n"
     ]
    },
    {
     "name": "stdout",
     "output_type": "stream",
     "text": [
      "Not setting metadata\n"
     ]
    },
    {
     "name": "stderr",
     "output_type": "stream",
     "text": [
      "[Parallel(n_jobs=143)]: Using backend LokyBackend with 143 concurrent workers.\n",
      "[Parallel(n_jobs=143)]: Done   9 out of  60 | elapsed:    0.6s remaining:    3.4s\n",
      "[Parallel(n_jobs=143)]: Done  22 out of  60 | elapsed:    1.1s remaining:    2.0s\n",
      "[Parallel(n_jobs=143)]: Done  35 out of  60 | elapsed:    1.7s remaining:    1.2s\n",
      "[Parallel(n_jobs=143)]: Done  48 out of  60 | elapsed:    2.2s remaining:    0.5s\n",
      "[Parallel(n_jobs=143)]: Done  60 out of  60 | elapsed:    2.7s finished\n"
     ]
    },
    {
     "name": "stdout",
     "output_type": "stream",
     "text": [
      "Not setting metadata\n"
     ]
    },
    {
     "name": "stderr",
     "output_type": "stream",
     "text": [
      "[Parallel(n_jobs=143)]: Using backend LokyBackend with 143 concurrent workers.\n",
      "[Parallel(n_jobs=143)]: Done   9 out of  60 | elapsed:    4.1s remaining:   23.2s\n",
      "[Parallel(n_jobs=143)]: Done  22 out of  60 | elapsed:    7.7s remaining:   13.3s\n",
      "[Parallel(n_jobs=143)]: Done  35 out of  60 | elapsed:   11.4s remaining:    8.1s\n",
      "[Parallel(n_jobs=143)]: Done  48 out of  60 | elapsed:   15.1s remaining:    3.8s\n",
      "[Parallel(n_jobs=143)]: Done  60 out of  60 | elapsed:   18.5s finished\n"
     ]
    },
    {
     "name": "stdout",
     "output_type": "stream",
     "text": [
      "Not setting metadata\n",
      "Running VME_S05 ...\n",
      "Reading /raven/ptmp/fklotzsche/Experiments/vMemEcc/Data2022/DataMNE/EEG/03_preproc/pooled/fulllength/collapsed/VME_S05-fulllength-collapsed-epo.fif ...\n",
      "    Found the data of interest:\n",
      "        t =    -600.00 ...    3300.00 ms\n",
      "        0 CTF compensation matrices available\n",
      "Not setting metadata\n",
      "Not setting metadata\n",
      "704 matching events found\n",
      "No baseline correction applied\n",
      "0 projection items activated\n",
      "Subtracting Evoked from Epochs\n",
      "    The following channels are not included in the subtraction: IO1, IO2, LO2, LO1, VEOG, ECG, HEOG\n",
      "[done]\n"
     ]
    },
    {
     "name": "stderr",
     "output_type": "stream",
     "text": [
      "[Parallel(n_jobs=143)]: Using backend LokyBackend with 143 concurrent workers.\n",
      "[Parallel(n_jobs=143)]: Done   9 out of  60 | elapsed:    2.4s remaining:   13.4s\n",
      "[Parallel(n_jobs=143)]: Done  22 out of  60 | elapsed:    4.5s remaining:    7.8s\n",
      "[Parallel(n_jobs=143)]: Done  35 out of  60 | elapsed:    6.8s remaining:    4.8s\n",
      "[Parallel(n_jobs=143)]: Done  48 out of  60 | elapsed:    9.0s remaining:    2.3s\n",
      "[Parallel(n_jobs=143)]: Done  60 out of  60 | elapsed:   11.1s finished\n"
     ]
    },
    {
     "name": "stdout",
     "output_type": "stream",
     "text": [
      "Not setting metadata\n"
     ]
    },
    {
     "name": "stderr",
     "output_type": "stream",
     "text": [
      "[Parallel(n_jobs=143)]: Using backend LokyBackend with 143 concurrent workers.\n",
      "[Parallel(n_jobs=143)]: Done   9 out of  60 | elapsed:    1.5s remaining:    8.4s\n",
      "[Parallel(n_jobs=143)]: Done  22 out of  60 | elapsed:    2.9s remaining:    5.0s\n",
      "[Parallel(n_jobs=143)]: Done  35 out of  60 | elapsed:    4.3s remaining:    3.1s\n",
      "[Parallel(n_jobs=143)]: Done  48 out of  60 | elapsed:    5.7s remaining:    1.4s\n",
      "[Parallel(n_jobs=143)]: Done  60 out of  60 | elapsed:    7.0s finished\n"
     ]
    },
    {
     "name": "stdout",
     "output_type": "stream",
     "text": [
      "Not setting metadata\n"
     ]
    },
    {
     "name": "stderr",
     "output_type": "stream",
     "text": [
      "[Parallel(n_jobs=143)]: Using backend LokyBackend with 143 concurrent workers.\n",
      "[Parallel(n_jobs=143)]: Done   9 out of  60 | elapsed:    0.6s remaining:    3.4s\n",
      "[Parallel(n_jobs=143)]: Done  22 out of  60 | elapsed:    1.2s remaining:    2.0s\n",
      "[Parallel(n_jobs=143)]: Done  35 out of  60 | elapsed:    1.7s remaining:    1.2s\n",
      "[Parallel(n_jobs=143)]: Done  48 out of  60 | elapsed:    2.3s remaining:    0.6s\n",
      "[Parallel(n_jobs=143)]: Done  60 out of  60 | elapsed:    2.8s finished\n"
     ]
    },
    {
     "name": "stdout",
     "output_type": "stream",
     "text": [
      "Not setting metadata\n"
     ]
    },
    {
     "name": "stderr",
     "output_type": "stream",
     "text": [
      "[Parallel(n_jobs=143)]: Using backend LokyBackend with 143 concurrent workers.\n",
      "[Parallel(n_jobs=143)]: Done   9 out of  60 | elapsed:    1.5s remaining:    8.6s\n",
      "[Parallel(n_jobs=143)]: Done  22 out of  60 | elapsed:    2.9s remaining:    5.1s\n",
      "[Parallel(n_jobs=143)]: Done  35 out of  60 | elapsed:    4.4s remaining:    3.1s\n",
      "[Parallel(n_jobs=143)]: Done  48 out of  60 | elapsed:    5.8s remaining:    1.4s\n",
      "[Parallel(n_jobs=143)]: Done  60 out of  60 | elapsed:    7.1s finished\n"
     ]
    },
    {
     "name": "stdout",
     "output_type": "stream",
     "text": [
      "Not setting metadata\n"
     ]
    },
    {
     "name": "stderr",
     "output_type": "stream",
     "text": [
      "[Parallel(n_jobs=143)]: Using backend LokyBackend with 143 concurrent workers.\n",
      "[Parallel(n_jobs=143)]: Done   9 out of  60 | elapsed:    0.6s remaining:    3.3s\n",
      "[Parallel(n_jobs=143)]: Done  22 out of  60 | elapsed:    1.1s remaining:    2.0s\n",
      "[Parallel(n_jobs=143)]: Done  35 out of  60 | elapsed:    1.7s remaining:    1.2s\n",
      "[Parallel(n_jobs=143)]: Done  48 out of  60 | elapsed:    2.2s remaining:    0.6s\n",
      "[Parallel(n_jobs=143)]: Done  60 out of  60 | elapsed:    2.8s finished\n"
     ]
    },
    {
     "name": "stdout",
     "output_type": "stream",
     "text": [
      "Not setting metadata\n"
     ]
    },
    {
     "name": "stderr",
     "output_type": "stream",
     "text": [
      "[Parallel(n_jobs=143)]: Using backend LokyBackend with 143 concurrent workers.\n",
      "[Parallel(n_jobs=143)]: Done   9 out of  60 | elapsed:    1.6s remaining:    9.0s\n",
      "[Parallel(n_jobs=143)]: Done  22 out of  60 | elapsed:    3.0s remaining:    5.2s\n",
      "[Parallel(n_jobs=143)]: Done  35 out of  60 | elapsed:    4.5s remaining:    3.2s\n",
      "[Parallel(n_jobs=143)]: Done  48 out of  60 | elapsed:    6.0s remaining:    1.5s\n",
      "[Parallel(n_jobs=143)]: Done  60 out of  60 | elapsed:    7.4s finished\n"
     ]
    },
    {
     "name": "stdout",
     "output_type": "stream",
     "text": [
      "Not setting metadata\n"
     ]
    },
    {
     "name": "stderr",
     "output_type": "stream",
     "text": [
      "[Parallel(n_jobs=143)]: Using backend LokyBackend with 143 concurrent workers.\n",
      "[Parallel(n_jobs=143)]: Done   9 out of  60 | elapsed:    0.6s remaining:    3.4s\n",
      "[Parallel(n_jobs=143)]: Done  22 out of  60 | elapsed:    1.2s remaining:    2.0s\n",
      "[Parallel(n_jobs=143)]: Done  35 out of  60 | elapsed:    1.7s remaining:    1.2s\n",
      "[Parallel(n_jobs=143)]: Done  48 out of  60 | elapsed:    2.3s remaining:    0.6s\n",
      "[Parallel(n_jobs=143)]: Done  60 out of  60 | elapsed:    2.9s finished\n"
     ]
    },
    {
     "name": "stdout",
     "output_type": "stream",
     "text": [
      "Not setting metadata\n"
     ]
    },
    {
     "name": "stderr",
     "output_type": "stream",
     "text": [
      "[Parallel(n_jobs=143)]: Using backend LokyBackend with 143 concurrent workers.\n",
      "[Parallel(n_jobs=143)]: Done   9 out of  60 | elapsed:    2.4s remaining:   13.4s\n",
      "[Parallel(n_jobs=143)]: Done  22 out of  60 | elapsed:    4.5s remaining:    7.8s\n",
      "[Parallel(n_jobs=143)]: Done  35 out of  60 | elapsed:    6.6s remaining:    4.7s\n",
      "[Parallel(n_jobs=143)]: Done  48 out of  60 | elapsed:    8.7s remaining:    2.2s\n",
      "[Parallel(n_jobs=143)]: Done  60 out of  60 | elapsed:   10.6s finished\n"
     ]
    },
    {
     "name": "stdout",
     "output_type": "stream",
     "text": [
      "Not setting metadata\n"
     ]
    },
    {
     "name": "stderr",
     "output_type": "stream",
     "text": [
      "[Parallel(n_jobs=143)]: Using backend LokyBackend with 143 concurrent workers.\n",
      "[Parallel(n_jobs=143)]: Done   9 out of  60 | elapsed:    0.6s remaining:    3.2s\n",
      "[Parallel(n_jobs=143)]: Done  22 out of  60 | elapsed:    1.1s remaining:    1.9s\n",
      "[Parallel(n_jobs=143)]: Done  35 out of  60 | elapsed:    1.6s remaining:    1.1s\n",
      "[Parallel(n_jobs=143)]: Done  48 out of  60 | elapsed:    2.1s remaining:    0.5s\n",
      "[Parallel(n_jobs=143)]: Done  60 out of  60 | elapsed:    2.6s finished\n"
     ]
    },
    {
     "name": "stdout",
     "output_type": "stream",
     "text": [
      "Not setting metadata\n"
     ]
    },
    {
     "name": "stderr",
     "output_type": "stream",
     "text": [
      "[Parallel(n_jobs=143)]: Using backend LokyBackend with 143 concurrent workers.\n",
      "[Parallel(n_jobs=143)]: Done   9 out of  60 | elapsed:    0.6s remaining:    3.2s\n",
      "[Parallel(n_jobs=143)]: Done  22 out of  60 | elapsed:    1.1s remaining:    1.9s\n",
      "[Parallel(n_jobs=143)]: Done  35 out of  60 | elapsed:    1.6s remaining:    1.2s\n",
      "[Parallel(n_jobs=143)]: Done  48 out of  60 | elapsed:    2.2s remaining:    0.6s\n",
      "[Parallel(n_jobs=143)]: Done  60 out of  60 | elapsed:    2.7s finished\n"
     ]
    },
    {
     "name": "stdout",
     "output_type": "stream",
     "text": [
      "Not setting metadata\n"
     ]
    },
    {
     "name": "stderr",
     "output_type": "stream",
     "text": [
      "[Parallel(n_jobs=143)]: Using backend LokyBackend with 143 concurrent workers.\n",
      "[Parallel(n_jobs=143)]: Done   9 out of  60 | elapsed:    0.6s remaining:    3.6s\n",
      "[Parallel(n_jobs=143)]: Done  22 out of  60 | elapsed:    1.2s remaining:    2.1s\n",
      "[Parallel(n_jobs=143)]: Done  35 out of  60 | elapsed:    1.8s remaining:    1.3s\n",
      "[Parallel(n_jobs=143)]: Done  48 out of  60 | elapsed:    2.4s remaining:    0.6s\n",
      "[Parallel(n_jobs=143)]: Done  60 out of  60 | elapsed:    3.0s finished\n"
     ]
    },
    {
     "name": "stdout",
     "output_type": "stream",
     "text": [
      "Not setting metadata\n"
     ]
    },
    {
     "name": "stderr",
     "output_type": "stream",
     "text": [
      "[Parallel(n_jobs=143)]: Using backend LokyBackend with 143 concurrent workers.\n",
      "[Parallel(n_jobs=143)]: Done   9 out of  60 | elapsed:    4.7s remaining:   26.9s\n",
      "[Parallel(n_jobs=143)]: Done  22 out of  60 | elapsed:    8.9s remaining:   15.4s\n",
      "[Parallel(n_jobs=143)]: Done  35 out of  60 | elapsed:   13.1s remaining:    9.3s\n",
      "[Parallel(n_jobs=143)]: Done  48 out of  60 | elapsed:   17.2s remaining:    4.3s\n",
      "[Parallel(n_jobs=143)]: Done  60 out of  60 | elapsed:   21.0s finished\n"
     ]
    },
    {
     "name": "stdout",
     "output_type": "stream",
     "text": [
      "Not setting metadata\n",
      "Running VME_S06 ...\n",
      "Reading /raven/ptmp/fklotzsche/Experiments/vMemEcc/Data2022/DataMNE/EEG/03_preproc/pooled/fulllength/collapsed/VME_S06-fulllength-collapsed-epo.fif ...\n",
      "    Found the data of interest:\n",
      "        t =    -600.00 ...    3300.00 ms\n",
      "        0 CTF compensation matrices available\n",
      "Not setting metadata\n",
      "Not setting metadata\n",
      "711 matching events found\n",
      "No baseline correction applied\n",
      "0 projection items activated\n",
      "Subtracting Evoked from Epochs\n",
      "    The following channels are not included in the subtraction: IO1, IO2, LO2, LO1, VEOG, ECG, HEOG\n",
      "[done]\n"
     ]
    },
    {
     "name": "stderr",
     "output_type": "stream",
     "text": [
      "[Parallel(n_jobs=143)]: Using backend LokyBackend with 143 concurrent workers.\n",
      "[Parallel(n_jobs=143)]: Done   9 out of  60 | elapsed:    2.5s remaining:   14.0s\n",
      "[Parallel(n_jobs=143)]: Done  22 out of  60 | elapsed:    4.7s remaining:    8.1s\n",
      "[Parallel(n_jobs=143)]: Done  35 out of  60 | elapsed:    6.9s remaining:    4.9s\n",
      "[Parallel(n_jobs=143)]: Done  48 out of  60 | elapsed:    9.1s remaining:    2.3s\n",
      "[Parallel(n_jobs=143)]: Done  60 out of  60 | elapsed:   11.1s finished\n"
     ]
    },
    {
     "name": "stdout",
     "output_type": "stream",
     "text": [
      "Not setting metadata\n"
     ]
    },
    {
     "name": "stderr",
     "output_type": "stream",
     "text": [
      "[Parallel(n_jobs=143)]: Using backend LokyBackend with 143 concurrent workers.\n",
      "[Parallel(n_jobs=143)]: Done   9 out of  60 | elapsed:    1.5s remaining:    8.3s\n",
      "[Parallel(n_jobs=143)]: Done  22 out of  60 | elapsed:    2.9s remaining:    4.9s\n",
      "[Parallel(n_jobs=143)]: Done  35 out of  60 | elapsed:    4.3s remaining:    3.1s\n",
      "[Parallel(n_jobs=143)]: Done  48 out of  60 | elapsed:    5.7s remaining:    1.4s\n",
      "[Parallel(n_jobs=143)]: Done  60 out of  60 | elapsed:    7.0s finished\n"
     ]
    },
    {
     "name": "stdout",
     "output_type": "stream",
     "text": [
      "Not setting metadata\n"
     ]
    },
    {
     "name": "stderr",
     "output_type": "stream",
     "text": [
      "[Parallel(n_jobs=143)]: Using backend LokyBackend with 143 concurrent workers.\n",
      "[Parallel(n_jobs=143)]: Done   9 out of  60 | elapsed:    0.6s remaining:    3.3s\n",
      "[Parallel(n_jobs=143)]: Done  22 out of  60 | elapsed:    1.1s remaining:    1.9s\n",
      "[Parallel(n_jobs=143)]: Done  35 out of  60 | elapsed:    1.7s remaining:    1.2s\n",
      "[Parallel(n_jobs=143)]: Done  48 out of  60 | elapsed:    2.2s remaining:    0.6s\n",
      "[Parallel(n_jobs=143)]: Done  60 out of  60 | elapsed:    2.7s finished\n"
     ]
    },
    {
     "name": "stdout",
     "output_type": "stream",
     "text": [
      "Not setting metadata\n"
     ]
    },
    {
     "name": "stderr",
     "output_type": "stream",
     "text": [
      "[Parallel(n_jobs=143)]: Using backend LokyBackend with 143 concurrent workers.\n",
      "[Parallel(n_jobs=143)]: Done   9 out of  60 | elapsed:    1.6s remaining:    9.2s\n",
      "[Parallel(n_jobs=143)]: Done  22 out of  60 | elapsed:    3.0s remaining:    5.2s\n",
      "[Parallel(n_jobs=143)]: Done  35 out of  60 | elapsed:    4.4s remaining:    3.1s\n",
      "[Parallel(n_jobs=143)]: Done  48 out of  60 | elapsed:    5.8s remaining:    1.4s\n",
      "[Parallel(n_jobs=143)]: Done  60 out of  60 | elapsed:    7.1s finished\n"
     ]
    },
    {
     "name": "stdout",
     "output_type": "stream",
     "text": [
      "Not setting metadata\n"
     ]
    },
    {
     "name": "stderr",
     "output_type": "stream",
     "text": [
      "[Parallel(n_jobs=143)]: Using backend LokyBackend with 143 concurrent workers.\n",
      "[Parallel(n_jobs=143)]: Done   9 out of  60 | elapsed:    0.6s remaining:    3.7s\n",
      "[Parallel(n_jobs=143)]: Done  22 out of  60 | elapsed:    1.2s remaining:    2.1s\n",
      "[Parallel(n_jobs=143)]: Done  35 out of  60 | elapsed:    1.7s remaining:    1.2s\n",
      "[Parallel(n_jobs=143)]: Done  48 out of  60 | elapsed:    2.3s remaining:    0.6s\n",
      "[Parallel(n_jobs=143)]: Done  60 out of  60 | elapsed:    2.8s finished\n"
     ]
    },
    {
     "name": "stdout",
     "output_type": "stream",
     "text": [
      "Not setting metadata\n"
     ]
    },
    {
     "name": "stderr",
     "output_type": "stream",
     "text": [
      "[Parallel(n_jobs=143)]: Using backend LokyBackend with 143 concurrent workers.\n",
      "[Parallel(n_jobs=143)]: Done   9 out of  60 | elapsed:    1.5s remaining:    8.3s\n",
      "[Parallel(n_jobs=143)]: Done  22 out of  60 | elapsed:    2.9s remaining:    5.0s\n",
      "[Parallel(n_jobs=143)]: Done  35 out of  60 | elapsed:    4.3s remaining:    3.0s\n",
      "[Parallel(n_jobs=143)]: Done  48 out of  60 | elapsed:    5.7s remaining:    1.4s\n",
      "[Parallel(n_jobs=143)]: Done  60 out of  60 | elapsed:    7.0s finished\n"
     ]
    },
    {
     "name": "stdout",
     "output_type": "stream",
     "text": [
      "Not setting metadata\n"
     ]
    },
    {
     "name": "stderr",
     "output_type": "stream",
     "text": [
      "[Parallel(n_jobs=143)]: Using backend LokyBackend with 143 concurrent workers.\n",
      "[Parallel(n_jobs=143)]: Done   9 out of  60 | elapsed:    0.6s remaining:    3.4s\n",
      "[Parallel(n_jobs=143)]: Done  22 out of  60 | elapsed:    1.1s remaining:    2.0s\n",
      "[Parallel(n_jobs=143)]: Done  35 out of  60 | elapsed:    1.7s remaining:    1.2s\n",
      "[Parallel(n_jobs=143)]: Done  48 out of  60 | elapsed:    2.3s remaining:    0.6s\n",
      "[Parallel(n_jobs=143)]: Done  60 out of  60 | elapsed:    2.8s finished\n"
     ]
    },
    {
     "name": "stdout",
     "output_type": "stream",
     "text": [
      "Not setting metadata\n"
     ]
    },
    {
     "name": "stderr",
     "output_type": "stream",
     "text": [
      "[Parallel(n_jobs=143)]: Using backend LokyBackend with 143 concurrent workers.\n",
      "[Parallel(n_jobs=143)]: Done   9 out of  60 | elapsed:    2.3s remaining:   13.0s\n",
      "[Parallel(n_jobs=143)]: Done  22 out of  60 | elapsed:    4.5s remaining:    7.7s\n",
      "[Parallel(n_jobs=143)]: Done  35 out of  60 | elapsed:    6.6s remaining:    4.7s\n",
      "[Parallel(n_jobs=143)]: Done  48 out of  60 | elapsed:    8.7s remaining:    2.2s\n",
      "[Parallel(n_jobs=143)]: Done  60 out of  60 | elapsed:   10.8s finished\n"
     ]
    },
    {
     "name": "stdout",
     "output_type": "stream",
     "text": [
      "Not setting metadata\n"
     ]
    },
    {
     "name": "stderr",
     "output_type": "stream",
     "text": [
      "[Parallel(n_jobs=143)]: Using backend LokyBackend with 143 concurrent workers.\n",
      "[Parallel(n_jobs=143)]: Done   9 out of  60 | elapsed:    0.6s remaining:    3.6s\n",
      "[Parallel(n_jobs=143)]: Done  22 out of  60 | elapsed:    1.2s remaining:    2.0s\n",
      "[Parallel(n_jobs=143)]: Done  35 out of  60 | elapsed:    1.7s remaining:    1.2s\n",
      "[Parallel(n_jobs=143)]: Done  48 out of  60 | elapsed:    2.2s remaining:    0.6s\n",
      "[Parallel(n_jobs=143)]: Done  60 out of  60 | elapsed:    2.7s finished\n"
     ]
    },
    {
     "name": "stdout",
     "output_type": "stream",
     "text": [
      "Not setting metadata\n"
     ]
    },
    {
     "name": "stderr",
     "output_type": "stream",
     "text": [
      "[Parallel(n_jobs=143)]: Using backend LokyBackend with 143 concurrent workers.\n",
      "[Parallel(n_jobs=143)]: Done   9 out of  60 | elapsed:    0.6s remaining:    3.3s\n",
      "[Parallel(n_jobs=143)]: Done  22 out of  60 | elapsed:    1.1s remaining:    2.0s\n",
      "[Parallel(n_jobs=143)]: Done  35 out of  60 | elapsed:    1.7s remaining:    1.2s\n",
      "[Parallel(n_jobs=143)]: Done  48 out of  60 | elapsed:    2.3s remaining:    0.6s\n",
      "[Parallel(n_jobs=143)]: Done  60 out of  60 | elapsed:    2.8s finished\n"
     ]
    },
    {
     "name": "stdout",
     "output_type": "stream",
     "text": [
      "Not setting metadata\n"
     ]
    },
    {
     "name": "stderr",
     "output_type": "stream",
     "text": [
      "[Parallel(n_jobs=143)]: Using backend LokyBackend with 143 concurrent workers.\n",
      "[Parallel(n_jobs=143)]: Done   9 out of  60 | elapsed:    0.7s remaining:    3.8s\n",
      "[Parallel(n_jobs=143)]: Done  22 out of  60 | elapsed:    1.3s remaining:    2.3s\n",
      "[Parallel(n_jobs=143)]: Done  35 out of  60 | elapsed:    2.0s remaining:    1.4s\n",
      "[Parallel(n_jobs=143)]: Done  48 out of  60 | elapsed:    2.6s remaining:    0.7s\n",
      "[Parallel(n_jobs=143)]: Done  60 out of  60 | elapsed:    3.2s finished\n"
     ]
    },
    {
     "name": "stdout",
     "output_type": "stream",
     "text": [
      "Not setting metadata\n"
     ]
    },
    {
     "name": "stderr",
     "output_type": "stream",
     "text": [
      "[Parallel(n_jobs=143)]: Using backend LokyBackend with 143 concurrent workers.\n",
      "[Parallel(n_jobs=143)]: Done   9 out of  60 | elapsed:    4.8s remaining:   27.2s\n",
      "[Parallel(n_jobs=143)]: Done  22 out of  60 | elapsed:    9.0s remaining:   15.6s\n",
      "[Parallel(n_jobs=143)]: Done  35 out of  60 | elapsed:   13.5s remaining:    9.6s\n",
      "[Parallel(n_jobs=143)]: Done  48 out of  60 | elapsed:   18.0s remaining:    4.5s\n",
      "[Parallel(n_jobs=143)]: Done  60 out of  60 | elapsed:   22.1s finished\n"
     ]
    },
    {
     "name": "stdout",
     "output_type": "stream",
     "text": [
      "Not setting metadata\n",
      "Running VME_S07 ...\n",
      "Reading /raven/ptmp/fklotzsche/Experiments/vMemEcc/Data2022/DataMNE/EEG/03_preproc/pooled/fulllength/collapsed/VME_S07-fulllength-collapsed-epo.fif ...\n",
      "    Found the data of interest:\n",
      "        t =    -600.00 ...    3300.00 ms\n",
      "        0 CTF compensation matrices available\n",
      "Not setting metadata\n",
      "Not setting metadata\n",
      "704 matching events found\n",
      "No baseline correction applied\n",
      "0 projection items activated\n",
      "Subtracting Evoked from Epochs\n",
      "    The following channels are not included in the subtraction: IO1, IO2, LO2, LO1, VEOG, ECG, HEOG\n",
      "[done]\n"
     ]
    },
    {
     "name": "stderr",
     "output_type": "stream",
     "text": [
      "[Parallel(n_jobs=143)]: Using backend LokyBackend with 143 concurrent workers.\n",
      "[Parallel(n_jobs=143)]: Done   9 out of  60 | elapsed:    2.4s remaining:   13.5s\n",
      "[Parallel(n_jobs=143)]: Done  22 out of  60 | elapsed:    4.6s remaining:    8.0s\n",
      "[Parallel(n_jobs=143)]: Done  35 out of  60 | elapsed:    6.8s remaining:    4.8s\n",
      "[Parallel(n_jobs=143)]: Done  48 out of  60 | elapsed:    9.0s remaining:    2.2s\n",
      "[Parallel(n_jobs=143)]: Done  60 out of  60 | elapsed:   11.0s finished\n"
     ]
    },
    {
     "name": "stdout",
     "output_type": "stream",
     "text": [
      "Not setting metadata\n"
     ]
    },
    {
     "name": "stderr",
     "output_type": "stream",
     "text": [
      "[Parallel(n_jobs=143)]: Using backend LokyBackend with 143 concurrent workers.\n",
      "[Parallel(n_jobs=143)]: Done   9 out of  60 | elapsed:    1.6s remaining:    8.8s\n",
      "[Parallel(n_jobs=143)]: Done  22 out of  60 | elapsed:    3.1s remaining:    5.3s\n",
      "[Parallel(n_jobs=143)]: Done  35 out of  60 | elapsed:    4.5s remaining:    3.2s\n",
      "[Parallel(n_jobs=143)]: Done  48 out of  60 | elapsed:    6.0s remaining:    1.5s\n",
      "[Parallel(n_jobs=143)]: Done  60 out of  60 | elapsed:    7.3s finished\n"
     ]
    },
    {
     "name": "stdout",
     "output_type": "stream",
     "text": [
      "Not setting metadata\n"
     ]
    },
    {
     "name": "stderr",
     "output_type": "stream",
     "text": [
      "[Parallel(n_jobs=143)]: Using backend LokyBackend with 143 concurrent workers.\n",
      "[Parallel(n_jobs=143)]: Done   9 out of  60 | elapsed:    0.6s remaining:    3.4s\n",
      "[Parallel(n_jobs=143)]: Done  22 out of  60 | elapsed:    1.1s remaining:    2.0s\n",
      "[Parallel(n_jobs=143)]: Done  35 out of  60 | elapsed:    1.7s remaining:    1.2s\n",
      "[Parallel(n_jobs=143)]: Done  48 out of  60 | elapsed:    2.2s remaining:    0.5s\n",
      "[Parallel(n_jobs=143)]: Done  60 out of  60 | elapsed:    2.7s finished\n"
     ]
    },
    {
     "name": "stdout",
     "output_type": "stream",
     "text": [
      "Not setting metadata\n"
     ]
    },
    {
     "name": "stderr",
     "output_type": "stream",
     "text": [
      "[Parallel(n_jobs=143)]: Using backend LokyBackend with 143 concurrent workers.\n",
      "[Parallel(n_jobs=143)]: Done   9 out of  60 | elapsed:    1.6s remaining:    8.8s\n",
      "[Parallel(n_jobs=143)]: Done  22 out of  60 | elapsed:    3.0s remaining:    5.2s\n",
      "[Parallel(n_jobs=143)]: Done  35 out of  60 | elapsed:    4.4s remaining:    3.2s\n",
      "[Parallel(n_jobs=143)]: Done  48 out of  60 | elapsed:    5.9s remaining:    1.5s\n",
      "[Parallel(n_jobs=143)]: Done  60 out of  60 | elapsed:    7.3s finished\n"
     ]
    },
    {
     "name": "stdout",
     "output_type": "stream",
     "text": [
      "Not setting metadata\n"
     ]
    },
    {
     "name": "stderr",
     "output_type": "stream",
     "text": [
      "[Parallel(n_jobs=143)]: Using backend LokyBackend with 143 concurrent workers.\n",
      "[Parallel(n_jobs=143)]: Done   9 out of  60 | elapsed:    0.6s remaining:    3.4s\n",
      "[Parallel(n_jobs=143)]: Done  22 out of  60 | elapsed:    1.1s remaining:    2.0s\n",
      "[Parallel(n_jobs=143)]: Done  35 out of  60 | elapsed:    1.7s remaining:    1.2s\n",
      "[Parallel(n_jobs=143)]: Done  48 out of  60 | elapsed:    2.2s remaining:    0.6s\n",
      "[Parallel(n_jobs=143)]: Done  60 out of  60 | elapsed:    2.7s finished\n"
     ]
    },
    {
     "name": "stdout",
     "output_type": "stream",
     "text": [
      "Not setting metadata\n"
     ]
    },
    {
     "name": "stderr",
     "output_type": "stream",
     "text": [
      "[Parallel(n_jobs=143)]: Using backend LokyBackend with 143 concurrent workers.\n",
      "[Parallel(n_jobs=143)]: Done   9 out of  60 | elapsed:    1.6s remaining:    8.8s\n",
      "[Parallel(n_jobs=143)]: Done  22 out of  60 | elapsed:    3.1s remaining:    5.4s\n",
      "[Parallel(n_jobs=143)]: Done  35 out of  60 | elapsed:    4.6s remaining:    3.3s\n",
      "[Parallel(n_jobs=143)]: Done  48 out of  60 | elapsed:    6.2s remaining:    1.5s\n",
      "[Parallel(n_jobs=143)]: Done  60 out of  60 | elapsed:    7.5s finished\n"
     ]
    },
    {
     "name": "stdout",
     "output_type": "stream",
     "text": [
      "Not setting metadata\n"
     ]
    },
    {
     "name": "stderr",
     "output_type": "stream",
     "text": [
      "[Parallel(n_jobs=143)]: Using backend LokyBackend with 143 concurrent workers.\n",
      "[Parallel(n_jobs=143)]: Done   9 out of  60 | elapsed:    0.6s remaining:    3.5s\n",
      "[Parallel(n_jobs=143)]: Done  22 out of  60 | elapsed:    1.2s remaining:    2.1s\n",
      "[Parallel(n_jobs=143)]: Done  35 out of  60 | elapsed:    1.8s remaining:    1.3s\n",
      "[Parallel(n_jobs=143)]: Done  48 out of  60 | elapsed:    2.3s remaining:    0.6s\n",
      "[Parallel(n_jobs=143)]: Done  60 out of  60 | elapsed:    2.8s finished\n"
     ]
    },
    {
     "name": "stdout",
     "output_type": "stream",
     "text": [
      "Not setting metadata\n"
     ]
    },
    {
     "name": "stderr",
     "output_type": "stream",
     "text": [
      "[Parallel(n_jobs=143)]: Using backend LokyBackend with 143 concurrent workers.\n",
      "[Parallel(n_jobs=143)]: Done   9 out of  60 | elapsed:    2.5s remaining:   14.2s\n",
      "[Parallel(n_jobs=143)]: Done  22 out of  60 | elapsed:    5.0s remaining:    8.6s\n",
      "[Parallel(n_jobs=143)]: Done  35 out of  60 | elapsed:    7.3s remaining:    5.2s\n",
      "[Parallel(n_jobs=143)]: Done  48 out of  60 | elapsed:    9.6s remaining:    2.4s\n",
      "[Parallel(n_jobs=143)]: Done  60 out of  60 | elapsed:   11.6s finished\n"
     ]
    },
    {
     "name": "stdout",
     "output_type": "stream",
     "text": [
      "Not setting metadata\n"
     ]
    },
    {
     "name": "stderr",
     "output_type": "stream",
     "text": [
      "[Parallel(n_jobs=143)]: Using backend LokyBackend with 143 concurrent workers.\n",
      "[Parallel(n_jobs=143)]: Done   9 out of  60 | elapsed:    0.6s remaining:    3.4s\n",
      "[Parallel(n_jobs=143)]: Done  22 out of  60 | elapsed:    1.2s remaining:    2.0s\n",
      "[Parallel(n_jobs=143)]: Done  35 out of  60 | elapsed:    1.7s remaining:    1.2s\n",
      "[Parallel(n_jobs=143)]: Done  48 out of  60 | elapsed:    2.3s remaining:    0.6s\n",
      "[Parallel(n_jobs=143)]: Done  60 out of  60 | elapsed:    2.8s finished\n"
     ]
    },
    {
     "name": "stdout",
     "output_type": "stream",
     "text": [
      "Not setting metadata\n"
     ]
    },
    {
     "name": "stderr",
     "output_type": "stream",
     "text": [
      "[Parallel(n_jobs=143)]: Using backend LokyBackend with 143 concurrent workers.\n",
      "[Parallel(n_jobs=143)]: Done   9 out of  60 | elapsed:    0.6s remaining:    3.5s\n",
      "[Parallel(n_jobs=143)]: Done  22 out of  60 | elapsed:    1.2s remaining:    2.0s\n",
      "[Parallel(n_jobs=143)]: Done  35 out of  60 | elapsed:    1.7s remaining:    1.2s\n",
      "[Parallel(n_jobs=143)]: Done  48 out of  60 | elapsed:    2.3s remaining:    0.6s\n",
      "[Parallel(n_jobs=143)]: Done  60 out of  60 | elapsed:    2.8s finished\n"
     ]
    },
    {
     "name": "stdout",
     "output_type": "stream",
     "text": [
      "Not setting metadata\n"
     ]
    },
    {
     "name": "stderr",
     "output_type": "stream",
     "text": [
      "[Parallel(n_jobs=143)]: Using backend LokyBackend with 143 concurrent workers.\n",
      "[Parallel(n_jobs=143)]: Done   9 out of  60 | elapsed:    0.7s remaining:    3.9s\n",
      "[Parallel(n_jobs=143)]: Done  22 out of  60 | elapsed:    1.3s remaining:    2.3s\n",
      "[Parallel(n_jobs=143)]: Done  35 out of  60 | elapsed:    2.0s remaining:    1.4s\n",
      "[Parallel(n_jobs=143)]: Done  48 out of  60 | elapsed:    2.6s remaining:    0.7s\n",
      "[Parallel(n_jobs=143)]: Done  60 out of  60 | elapsed:    3.2s finished\n"
     ]
    },
    {
     "name": "stdout",
     "output_type": "stream",
     "text": [
      "Not setting metadata\n"
     ]
    },
    {
     "name": "stderr",
     "output_type": "stream",
     "text": [
      "[Parallel(n_jobs=143)]: Using backend LokyBackend with 143 concurrent workers.\n",
      "[Parallel(n_jobs=143)]: Done   9 out of  60 | elapsed:    5.0s remaining:   28.2s\n",
      "[Parallel(n_jobs=143)]: Done  22 out of  60 | elapsed:    9.0s remaining:   15.6s\n",
      "[Parallel(n_jobs=143)]: Done  35 out of  60 | elapsed:   13.2s remaining:    9.4s\n",
      "[Parallel(n_jobs=143)]: Done  48 out of  60 | elapsed:   17.3s remaining:    4.3s\n",
      "[Parallel(n_jobs=143)]: Done  60 out of  60 | elapsed:   21.2s finished\n"
     ]
    },
    {
     "name": "stdout",
     "output_type": "stream",
     "text": [
      "Not setting metadata\n",
      "Running VME_S08 ...\n",
      "Reading /raven/ptmp/fklotzsche/Experiments/vMemEcc/Data2022/DataMNE/EEG/03_preproc/pooled/fulllength/collapsed/VME_S08-fulllength-collapsed-epo.fif ...\n",
      "    Found the data of interest:\n",
      "        t =    -600.00 ...    3300.00 ms\n",
      "        0 CTF compensation matrices available\n",
      "Not setting metadata\n",
      "Not setting metadata\n",
      "617 matching events found\n",
      "No baseline correction applied\n",
      "0 projection items activated\n",
      "Subtracting Evoked from Epochs\n",
      "    The following channels are not included in the subtraction: IO1, IO2, LO2, LO1, VEOG, ECG, HEOG\n",
      "[done]\n"
     ]
    },
    {
     "name": "stderr",
     "output_type": "stream",
     "text": [
      "[Parallel(n_jobs=143)]: Using backend LokyBackend with 143 concurrent workers.\n",
      "[Parallel(n_jobs=143)]: Done   9 out of  60 | elapsed:    2.1s remaining:   12.1s\n",
      "[Parallel(n_jobs=143)]: Done  22 out of  60 | elapsed:    4.0s remaining:    7.0s\n",
      "[Parallel(n_jobs=143)]: Done  35 out of  60 | elapsed:    6.0s remaining:    4.3s\n",
      "[Parallel(n_jobs=143)]: Done  48 out of  60 | elapsed:    7.9s remaining:    2.0s\n",
      "[Parallel(n_jobs=143)]: Done  60 out of  60 | elapsed:    9.7s finished\n"
     ]
    },
    {
     "name": "stdout",
     "output_type": "stream",
     "text": [
      "Not setting metadata\n"
     ]
    },
    {
     "name": "stderr",
     "output_type": "stream",
     "text": [
      "[Parallel(n_jobs=143)]: Using backend LokyBackend with 143 concurrent workers.\n",
      "[Parallel(n_jobs=143)]: Done   9 out of  60 | elapsed:    1.1s remaining:    6.0s\n",
      "[Parallel(n_jobs=143)]: Done  22 out of  60 | elapsed:    2.0s remaining:    3.4s\n",
      "[Parallel(n_jobs=143)]: Done  35 out of  60 | elapsed:    2.9s remaining:    2.1s\n",
      "[Parallel(n_jobs=143)]: Done  48 out of  60 | elapsed:    3.9s remaining:    1.0s\n",
      "[Parallel(n_jobs=143)]: Done  60 out of  60 | elapsed:    4.8s finished\n"
     ]
    },
    {
     "name": "stdout",
     "output_type": "stream",
     "text": [
      "Not setting metadata\n"
     ]
    },
    {
     "name": "stderr",
     "output_type": "stream",
     "text": [
      "[Parallel(n_jobs=143)]: Using backend LokyBackend with 143 concurrent workers.\n",
      "[Parallel(n_jobs=143)]: Done   9 out of  60 | elapsed:    0.5s remaining:    3.1s\n",
      "[Parallel(n_jobs=143)]: Done  22 out of  60 | elapsed:    1.0s remaining:    1.8s\n",
      "[Parallel(n_jobs=143)]: Done  35 out of  60 | elapsed:    1.5s remaining:    1.1s\n",
      "[Parallel(n_jobs=143)]: Done  48 out of  60 | elapsed:    2.0s remaining:    0.5s\n",
      "[Parallel(n_jobs=143)]: Done  60 out of  60 | elapsed:    2.5s finished\n"
     ]
    },
    {
     "name": "stdout",
     "output_type": "stream",
     "text": [
      "Not setting metadata\n"
     ]
    },
    {
     "name": "stderr",
     "output_type": "stream",
     "text": [
      "[Parallel(n_jobs=143)]: Using backend LokyBackend with 143 concurrent workers.\n",
      "[Parallel(n_jobs=143)]: Done   9 out of  60 | elapsed:    1.1s remaining:    6.4s\n",
      "[Parallel(n_jobs=143)]: Done  22 out of  60 | elapsed:    2.1s remaining:    3.6s\n",
      "[Parallel(n_jobs=143)]: Done  35 out of  60 | elapsed:    3.1s remaining:    2.2s\n",
      "[Parallel(n_jobs=143)]: Done  48 out of  60 | elapsed:    4.1s remaining:    1.0s\n",
      "[Parallel(n_jobs=143)]: Done  60 out of  60 | elapsed:    5.0s finished\n"
     ]
    },
    {
     "name": "stdout",
     "output_type": "stream",
     "text": [
      "Not setting metadata\n"
     ]
    },
    {
     "name": "stderr",
     "output_type": "stream",
     "text": [
      "[Parallel(n_jobs=143)]: Using backend LokyBackend with 143 concurrent workers.\n",
      "[Parallel(n_jobs=143)]: Done   9 out of  60 | elapsed:    0.6s remaining:    3.3s\n",
      "[Parallel(n_jobs=143)]: Done  22 out of  60 | elapsed:    1.1s remaining:    1.8s\n",
      "[Parallel(n_jobs=143)]: Done  35 out of  60 | elapsed:    1.5s remaining:    1.1s\n",
      "[Parallel(n_jobs=143)]: Done  48 out of  60 | elapsed:    2.0s remaining:    0.5s\n",
      "[Parallel(n_jobs=143)]: Done  60 out of  60 | elapsed:    2.5s finished\n"
     ]
    },
    {
     "name": "stdout",
     "output_type": "stream",
     "text": [
      "Not setting metadata\n"
     ]
    },
    {
     "name": "stderr",
     "output_type": "stream",
     "text": [
      "[Parallel(n_jobs=143)]: Using backend LokyBackend with 143 concurrent workers.\n",
      "[Parallel(n_jobs=143)]: Done   9 out of  60 | elapsed:    1.0s remaining:    5.5s\n",
      "[Parallel(n_jobs=143)]: Done  22 out of  60 | elapsed:    1.9s remaining:    3.2s\n",
      "[Parallel(n_jobs=143)]: Done  35 out of  60 | elapsed:    2.8s remaining:    2.0s\n",
      "[Parallel(n_jobs=143)]: Done  48 out of  60 | elapsed:    3.8s remaining:    1.0s\n",
      "[Parallel(n_jobs=143)]: Done  60 out of  60 | elapsed:    4.9s finished\n"
     ]
    },
    {
     "name": "stdout",
     "output_type": "stream",
     "text": [
      "Not setting metadata\n"
     ]
    },
    {
     "name": "stderr",
     "output_type": "stream",
     "text": [
      "[Parallel(n_jobs=143)]: Using backend LokyBackend with 143 concurrent workers.\n",
      "[Parallel(n_jobs=143)]: Done   9 out of  60 | elapsed:    0.5s remaining:    3.1s\n",
      "[Parallel(n_jobs=143)]: Done  22 out of  60 | elapsed:    1.0s remaining:    1.8s\n",
      "[Parallel(n_jobs=143)]: Done  35 out of  60 | elapsed:    1.6s remaining:    1.1s\n",
      "[Parallel(n_jobs=143)]: Done  48 out of  60 | elapsed:    2.1s remaining:    0.5s\n",
      "[Parallel(n_jobs=143)]: Done  60 out of  60 | elapsed:    2.6s finished\n"
     ]
    },
    {
     "name": "stdout",
     "output_type": "stream",
     "text": [
      "Not setting metadata\n"
     ]
    },
    {
     "name": "stderr",
     "output_type": "stream",
     "text": [
      "[Parallel(n_jobs=143)]: Using backend LokyBackend with 143 concurrent workers.\n",
      "[Parallel(n_jobs=143)]: Done   9 out of  60 | elapsed:    2.0s remaining:   11.4s\n",
      "[Parallel(n_jobs=143)]: Done  22 out of  60 | elapsed:    3.8s remaining:    6.6s\n",
      "[Parallel(n_jobs=143)]: Done  35 out of  60 | elapsed:    5.7s remaining:    4.1s\n",
      "[Parallel(n_jobs=143)]: Done  48 out of  60 | elapsed:    7.5s remaining:    1.9s\n",
      "[Parallel(n_jobs=143)]: Done  60 out of  60 | elapsed:    9.2s finished\n"
     ]
    },
    {
     "name": "stdout",
     "output_type": "stream",
     "text": [
      "Not setting metadata\n"
     ]
    },
    {
     "name": "stderr",
     "output_type": "stream",
     "text": [
      "[Parallel(n_jobs=143)]: Using backend LokyBackend with 143 concurrent workers.\n",
      "[Parallel(n_jobs=143)]: Done   9 out of  60 | elapsed:    0.6s remaining:    3.2s\n",
      "[Parallel(n_jobs=143)]: Done  22 out of  60 | elapsed:    1.1s remaining:    1.9s\n",
      "[Parallel(n_jobs=143)]: Done  35 out of  60 | elapsed:    1.6s remaining:    1.1s\n",
      "[Parallel(n_jobs=143)]: Done  48 out of  60 | elapsed:    2.1s remaining:    0.5s\n",
      "[Parallel(n_jobs=143)]: Done  60 out of  60 | elapsed:    2.5s finished\n"
     ]
    },
    {
     "name": "stdout",
     "output_type": "stream",
     "text": [
      "Not setting metadata\n"
     ]
    },
    {
     "name": "stderr",
     "output_type": "stream",
     "text": [
      "[Parallel(n_jobs=143)]: Using backend LokyBackend with 143 concurrent workers.\n",
      "[Parallel(n_jobs=143)]: Done   9 out of  60 | elapsed:    0.6s remaining:    3.1s\n",
      "[Parallel(n_jobs=143)]: Done  22 out of  60 | elapsed:    1.0s remaining:    1.8s\n",
      "[Parallel(n_jobs=143)]: Done  35 out of  60 | elapsed:    1.5s remaining:    1.1s\n",
      "[Parallel(n_jobs=143)]: Done  48 out of  60 | elapsed:    2.0s remaining:    0.5s\n",
      "[Parallel(n_jobs=143)]: Done  60 out of  60 | elapsed:    2.4s finished\n"
     ]
    },
    {
     "name": "stdout",
     "output_type": "stream",
     "text": [
      "Not setting metadata\n"
     ]
    },
    {
     "name": "stderr",
     "output_type": "stream",
     "text": [
      "[Parallel(n_jobs=143)]: Using backend LokyBackend with 143 concurrent workers.\n",
      "[Parallel(n_jobs=143)]: Done   9 out of  60 | elapsed:    0.5s remaining:    3.0s\n",
      "[Parallel(n_jobs=143)]: Done  22 out of  60 | elapsed:    1.0s remaining:    1.7s\n",
      "[Parallel(n_jobs=143)]: Done  35 out of  60 | elapsed:    1.5s remaining:    1.0s\n",
      "[Parallel(n_jobs=143)]: Done  48 out of  60 | elapsed:    1.9s remaining:    0.5s\n",
      "[Parallel(n_jobs=143)]: Done  60 out of  60 | elapsed:    2.4s finished\n"
     ]
    },
    {
     "name": "stdout",
     "output_type": "stream",
     "text": [
      "Not setting metadata\n"
     ]
    },
    {
     "name": "stderr",
     "output_type": "stream",
     "text": [
      "[Parallel(n_jobs=143)]: Using backend LokyBackend with 143 concurrent workers.\n",
      "[Parallel(n_jobs=143)]: Done   9 out of  60 | elapsed:    4.2s remaining:   23.6s\n",
      "[Parallel(n_jobs=143)]: Done  22 out of  60 | elapsed:    7.8s remaining:   13.5s\n",
      "[Parallel(n_jobs=143)]: Done  35 out of  60 | elapsed:   11.4s remaining:    8.2s\n",
      "[Parallel(n_jobs=143)]: Done  48 out of  60 | elapsed:   15.2s remaining:    3.8s\n",
      "[Parallel(n_jobs=143)]: Done  60 out of  60 | elapsed:   18.5s finished\n"
     ]
    },
    {
     "name": "stdout",
     "output_type": "stream",
     "text": [
      "Not setting metadata\n",
      "Running VME_S09 ...\n",
      "Reading /raven/ptmp/fklotzsche/Experiments/vMemEcc/Data2022/DataMNE/EEG/03_preproc/pooled/fulllength/collapsed/VME_S09-fulllength-collapsed-epo.fif ...\n",
      "    Found the data of interest:\n",
      "        t =    -600.00 ...    3300.00 ms\n",
      "        0 CTF compensation matrices available\n",
      "Not setting metadata\n",
      "Not setting metadata\n",
      "568 matching events found\n",
      "No baseline correction applied\n",
      "0 projection items activated\n",
      "Subtracting Evoked from Epochs\n",
      "    The following channels are not included in the subtraction: IO1, IO2, LO2, LO1, VEOG, ECG, HEOG\n",
      "[done]\n"
     ]
    },
    {
     "name": "stderr",
     "output_type": "stream",
     "text": [
      "[Parallel(n_jobs=143)]: Using backend LokyBackend with 143 concurrent workers.\n",
      "[Parallel(n_jobs=143)]: Done   9 out of  60 | elapsed:    1.9s remaining:   10.8s\n",
      "[Parallel(n_jobs=143)]: Done  22 out of  60 | elapsed:    3.7s remaining:    6.4s\n",
      "[Parallel(n_jobs=143)]: Done  35 out of  60 | elapsed:    5.5s remaining:    3.9s\n",
      "[Parallel(n_jobs=143)]: Done  48 out of  60 | elapsed:    7.3s remaining:    1.8s\n",
      "[Parallel(n_jobs=143)]: Done  60 out of  60 | elapsed:    9.0s finished\n"
     ]
    },
    {
     "name": "stdout",
     "output_type": "stream",
     "text": [
      "Not setting metadata\n"
     ]
    },
    {
     "name": "stderr",
     "output_type": "stream",
     "text": [
      "[Parallel(n_jobs=143)]: Using backend LokyBackend with 143 concurrent workers.\n",
      "[Parallel(n_jobs=143)]: Done   9 out of  60 | elapsed:    0.9s remaining:    5.1s\n",
      "[Parallel(n_jobs=143)]: Done  22 out of  60 | elapsed:    1.8s remaining:    3.0s\n",
      "[Parallel(n_jobs=143)]: Done  35 out of  60 | elapsed:    2.6s remaining:    1.9s\n",
      "[Parallel(n_jobs=143)]: Done  48 out of  60 | elapsed:    3.5s remaining:    0.9s\n",
      "[Parallel(n_jobs=143)]: Done  60 out of  60 | elapsed:    4.2s finished\n"
     ]
    },
    {
     "name": "stdout",
     "output_type": "stream",
     "text": [
      "Not setting metadata\n"
     ]
    },
    {
     "name": "stderr",
     "output_type": "stream",
     "text": [
      "[Parallel(n_jobs=143)]: Using backend LokyBackend with 143 concurrent workers.\n",
      "[Parallel(n_jobs=143)]: Done   9 out of  60 | elapsed:    0.5s remaining:    2.6s\n",
      "[Parallel(n_jobs=143)]: Done  22 out of  60 | elapsed:    0.9s remaining:    1.5s\n",
      "[Parallel(n_jobs=143)]: Done  35 out of  60 | elapsed:    1.3s remaining:    1.0s\n",
      "[Parallel(n_jobs=143)]: Done  48 out of  60 | elapsed:    1.8s remaining:    0.4s\n",
      "[Parallel(n_jobs=143)]: Done  60 out of  60 | elapsed:    2.2s finished\n"
     ]
    },
    {
     "name": "stdout",
     "output_type": "stream",
     "text": [
      "Not setting metadata\n"
     ]
    },
    {
     "name": "stderr",
     "output_type": "stream",
     "text": [
      "[Parallel(n_jobs=143)]: Using backend LokyBackend with 143 concurrent workers.\n",
      "[Parallel(n_jobs=143)]: Done   9 out of  60 | elapsed:    1.2s remaining:    6.5s\n",
      "[Parallel(n_jobs=143)]: Done  22 out of  60 | elapsed:    2.3s remaining:    3.9s\n",
      "[Parallel(n_jobs=143)]: Done  35 out of  60 | elapsed:    3.4s remaining:    2.4s\n",
      "[Parallel(n_jobs=143)]: Done  48 out of  60 | elapsed:    4.5s remaining:    1.1s\n",
      "[Parallel(n_jobs=143)]: Done  60 out of  60 | elapsed:    5.5s finished\n"
     ]
    },
    {
     "name": "stdout",
     "output_type": "stream",
     "text": [
      "Not setting metadata\n"
     ]
    },
    {
     "name": "stderr",
     "output_type": "stream",
     "text": [
      "[Parallel(n_jobs=143)]: Using backend LokyBackend with 143 concurrent workers.\n",
      "[Parallel(n_jobs=143)]: Done   9 out of  60 | elapsed:    0.5s remaining:    2.8s\n",
      "[Parallel(n_jobs=143)]: Done  22 out of  60 | elapsed:    0.9s remaining:    1.6s\n",
      "[Parallel(n_jobs=143)]: Done  35 out of  60 | elapsed:    1.4s remaining:    1.0s\n",
      "[Parallel(n_jobs=143)]: Done  48 out of  60 | elapsed:    1.8s remaining:    0.5s\n",
      "[Parallel(n_jobs=143)]: Done  60 out of  60 | elapsed:    2.2s finished\n"
     ]
    },
    {
     "name": "stdout",
     "output_type": "stream",
     "text": [
      "Not setting metadata\n"
     ]
    },
    {
     "name": "stderr",
     "output_type": "stream",
     "text": [
      "[Parallel(n_jobs=143)]: Using backend LokyBackend with 143 concurrent workers.\n",
      "[Parallel(n_jobs=143)]: Done   9 out of  60 | elapsed:    1.0s remaining:    5.4s\n",
      "[Parallel(n_jobs=143)]: Done  22 out of  60 | elapsed:    1.9s remaining:    3.3s\n",
      "[Parallel(n_jobs=143)]: Done  35 out of  60 | elapsed:    2.8s remaining:    2.0s\n",
      "[Parallel(n_jobs=143)]: Done  48 out of  60 | elapsed:    3.7s remaining:    0.9s\n",
      "[Parallel(n_jobs=143)]: Done  60 out of  60 | elapsed:    4.7s finished\n"
     ]
    },
    {
     "name": "stdout",
     "output_type": "stream",
     "text": [
      "Not setting metadata\n"
     ]
    },
    {
     "name": "stderr",
     "output_type": "stream",
     "text": [
      "[Parallel(n_jobs=143)]: Using backend LokyBackend with 143 concurrent workers.\n",
      "[Parallel(n_jobs=143)]: Done   9 out of  60 | elapsed:    0.5s remaining:    2.8s\n",
      "[Parallel(n_jobs=143)]: Done  22 out of  60 | elapsed:    1.0s remaining:    1.7s\n",
      "[Parallel(n_jobs=143)]: Done  35 out of  60 | elapsed:    1.4s remaining:    1.0s\n",
      "[Parallel(n_jobs=143)]: Done  48 out of  60 | elapsed:    1.9s remaining:    0.5s\n",
      "[Parallel(n_jobs=143)]: Done  60 out of  60 | elapsed:    2.3s finished\n"
     ]
    },
    {
     "name": "stdout",
     "output_type": "stream",
     "text": [
      "Not setting metadata\n"
     ]
    },
    {
     "name": "stderr",
     "output_type": "stream",
     "text": [
      "[Parallel(n_jobs=143)]: Using backend LokyBackend with 143 concurrent workers.\n",
      "[Parallel(n_jobs=143)]: Done   9 out of  60 | elapsed:    1.8s remaining:   10.1s\n",
      "[Parallel(n_jobs=143)]: Done  22 out of  60 | elapsed:    3.5s remaining:    6.1s\n",
      "[Parallel(n_jobs=143)]: Done  35 out of  60 | elapsed:    5.3s remaining:    3.8s\n",
      "[Parallel(n_jobs=143)]: Done  48 out of  60 | elapsed:    7.1s remaining:    1.8s\n",
      "[Parallel(n_jobs=143)]: Done  60 out of  60 | elapsed:    8.7s finished\n"
     ]
    },
    {
     "name": "stdout",
     "output_type": "stream",
     "text": [
      "Not setting metadata\n"
     ]
    },
    {
     "name": "stderr",
     "output_type": "stream",
     "text": [
      "[Parallel(n_jobs=143)]: Using backend LokyBackend with 143 concurrent workers.\n",
      "[Parallel(n_jobs=143)]: Done   9 out of  60 | elapsed:    0.5s remaining:    2.7s\n",
      "[Parallel(n_jobs=143)]: Done  22 out of  60 | elapsed:    0.9s remaining:    1.6s\n",
      "[Parallel(n_jobs=143)]: Done  35 out of  60 | elapsed:    1.3s remaining:    0.9s\n",
      "[Parallel(n_jobs=143)]: Done  48 out of  60 | elapsed:    1.7s remaining:    0.4s\n",
      "[Parallel(n_jobs=143)]: Done  60 out of  60 | elapsed:    2.1s finished\n"
     ]
    },
    {
     "name": "stdout",
     "output_type": "stream",
     "text": [
      "Not setting metadata\n"
     ]
    },
    {
     "name": "stderr",
     "output_type": "stream",
     "text": [
      "[Parallel(n_jobs=143)]: Using backend LokyBackend with 143 concurrent workers.\n",
      "[Parallel(n_jobs=143)]: Done   9 out of  60 | elapsed:    0.5s remaining:    2.7s\n",
      "[Parallel(n_jobs=143)]: Done  22 out of  60 | elapsed:    0.9s remaining:    1.5s\n",
      "[Parallel(n_jobs=143)]: Done  35 out of  60 | elapsed:    1.3s remaining:    1.0s\n",
      "[Parallel(n_jobs=143)]: Done  48 out of  60 | elapsed:    1.8s remaining:    0.4s\n",
      "[Parallel(n_jobs=143)]: Done  60 out of  60 | elapsed:    2.2s finished\n"
     ]
    },
    {
     "name": "stdout",
     "output_type": "stream",
     "text": [
      "Not setting metadata\n"
     ]
    },
    {
     "name": "stderr",
     "output_type": "stream",
     "text": [
      "[Parallel(n_jobs=143)]: Using backend LokyBackend with 143 concurrent workers.\n",
      "[Parallel(n_jobs=143)]: Done   9 out of  60 | elapsed:    0.5s remaining:    3.0s\n",
      "[Parallel(n_jobs=143)]: Done  22 out of  60 | elapsed:    1.0s remaining:    1.7s\n",
      "[Parallel(n_jobs=143)]: Done  35 out of  60 | elapsed:    1.5s remaining:    1.1s\n",
      "[Parallel(n_jobs=143)]: Done  48 out of  60 | elapsed:    2.0s remaining:    0.5s\n",
      "[Parallel(n_jobs=143)]: Done  60 out of  60 | elapsed:    2.4s finished\n"
     ]
    },
    {
     "name": "stdout",
     "output_type": "stream",
     "text": [
      "Not setting metadata\n"
     ]
    },
    {
     "name": "stderr",
     "output_type": "stream",
     "text": [
      "[Parallel(n_jobs=143)]: Using backend LokyBackend with 143 concurrent workers.\n",
      "[Parallel(n_jobs=143)]: Done   9 out of  60 | elapsed:    3.8s remaining:   21.7s\n",
      "[Parallel(n_jobs=143)]: Done  22 out of  60 | elapsed:    7.2s remaining:   12.4s\n",
      "[Parallel(n_jobs=143)]: Done  35 out of  60 | elapsed:   10.6s remaining:    7.6s\n",
      "[Parallel(n_jobs=143)]: Done  48 out of  60 | elapsed:   14.2s remaining:    3.5s\n",
      "[Parallel(n_jobs=143)]: Done  60 out of  60 | elapsed:   17.5s finished\n"
     ]
    },
    {
     "name": "stdout",
     "output_type": "stream",
     "text": [
      "Not setting metadata\n",
      "Running VME_S10 ...\n",
      "Reading /raven/ptmp/fklotzsche/Experiments/vMemEcc/Data2022/DataMNE/EEG/03_preproc/pooled/fulllength/collapsed/VME_S10-fulllength-collapsed-epo.fif ...\n",
      "    Found the data of interest:\n",
      "        t =    -600.00 ...    3300.00 ms\n",
      "        0 CTF compensation matrices available\n",
      "Not setting metadata\n",
      "Not setting metadata\n",
      "705 matching events found\n",
      "No baseline correction applied\n",
      "0 projection items activated\n",
      "Subtracting Evoked from Epochs\n",
      "    The following channels are not included in the subtraction: IO1, IO2, LO2, LO1, VEOG, ECG, HEOG\n",
      "[done]\n"
     ]
    },
    {
     "name": "stderr",
     "output_type": "stream",
     "text": [
      "[Parallel(n_jobs=143)]: Using backend LokyBackend with 143 concurrent workers.\n",
      "[Parallel(n_jobs=143)]: Done   9 out of  60 | elapsed:    2.4s remaining:   13.8s\n",
      "[Parallel(n_jobs=143)]: Done  22 out of  60 | elapsed:    4.5s remaining:    7.8s\n",
      "[Parallel(n_jobs=143)]: Done  35 out of  60 | elapsed:    6.7s remaining:    4.8s\n",
      "[Parallel(n_jobs=143)]: Done  48 out of  60 | elapsed:    8.9s remaining:    2.2s\n",
      "[Parallel(n_jobs=143)]: Done  60 out of  60 | elapsed:   10.9s finished\n"
     ]
    },
    {
     "name": "stdout",
     "output_type": "stream",
     "text": [
      "Not setting metadata\n"
     ]
    },
    {
     "name": "stderr",
     "output_type": "stream",
     "text": [
      "[Parallel(n_jobs=143)]: Using backend LokyBackend with 143 concurrent workers.\n",
      "[Parallel(n_jobs=143)]: Done   9 out of  60 | elapsed:    1.5s remaining:    8.7s\n",
      "[Parallel(n_jobs=143)]: Done  22 out of  60 | elapsed:    2.9s remaining:    5.0s\n",
      "[Parallel(n_jobs=143)]: Done  35 out of  60 | elapsed:    4.3s remaining:    3.1s\n",
      "[Parallel(n_jobs=143)]: Done  48 out of  60 | elapsed:    5.7s remaining:    1.4s\n",
      "[Parallel(n_jobs=143)]: Done  60 out of  60 | elapsed:    7.0s finished\n"
     ]
    },
    {
     "name": "stdout",
     "output_type": "stream",
     "text": [
      "Not setting metadata\n"
     ]
    },
    {
     "name": "stderr",
     "output_type": "stream",
     "text": [
      "[Parallel(n_jobs=143)]: Using backend LokyBackend with 143 concurrent workers.\n",
      "[Parallel(n_jobs=143)]: Done   9 out of  60 | elapsed:    0.6s remaining:    3.4s\n",
      "[Parallel(n_jobs=143)]: Done  22 out of  60 | elapsed:    1.2s remaining:    2.0s\n",
      "[Parallel(n_jobs=143)]: Done  35 out of  60 | elapsed:    1.7s remaining:    1.2s\n",
      "[Parallel(n_jobs=143)]: Done  48 out of  60 | elapsed:    2.3s remaining:    0.6s\n",
      "[Parallel(n_jobs=143)]: Done  60 out of  60 | elapsed:    2.8s finished\n"
     ]
    },
    {
     "name": "stdout",
     "output_type": "stream",
     "text": [
      "Not setting metadata\n"
     ]
    },
    {
     "name": "stderr",
     "output_type": "stream",
     "text": [
      "[Parallel(n_jobs=143)]: Using backend LokyBackend with 143 concurrent workers.\n",
      "[Parallel(n_jobs=143)]: Done   9 out of  60 | elapsed:    1.5s remaining:    8.3s\n",
      "[Parallel(n_jobs=143)]: Done  22 out of  60 | elapsed:    2.8s remaining:    4.9s\n",
      "[Parallel(n_jobs=143)]: Done  35 out of  60 | elapsed:    4.2s remaining:    3.0s\n",
      "[Parallel(n_jobs=143)]: Done  48 out of  60 | elapsed:    5.6s remaining:    1.4s\n",
      "[Parallel(n_jobs=143)]: Done  60 out of  60 | elapsed:    6.9s finished\n"
     ]
    },
    {
     "name": "stdout",
     "output_type": "stream",
     "text": [
      "Not setting metadata\n"
     ]
    },
    {
     "name": "stderr",
     "output_type": "stream",
     "text": [
      "[Parallel(n_jobs=143)]: Using backend LokyBackend with 143 concurrent workers.\n",
      "[Parallel(n_jobs=143)]: Done   9 out of  60 | elapsed:    0.6s remaining:    3.6s\n",
      "[Parallel(n_jobs=143)]: Done  22 out of  60 | elapsed:    1.2s remaining:    2.1s\n",
      "[Parallel(n_jobs=143)]: Done  35 out of  60 | elapsed:    1.7s remaining:    1.2s\n",
      "[Parallel(n_jobs=143)]: Done  48 out of  60 | elapsed:    2.3s remaining:    0.6s\n",
      "[Parallel(n_jobs=143)]: Done  60 out of  60 | elapsed:    2.8s finished\n"
     ]
    },
    {
     "name": "stdout",
     "output_type": "stream",
     "text": [
      "Not setting metadata\n"
     ]
    },
    {
     "name": "stderr",
     "output_type": "stream",
     "text": [
      "[Parallel(n_jobs=143)]: Using backend LokyBackend with 143 concurrent workers.\n",
      "[Parallel(n_jobs=143)]: Done   9 out of  60 | elapsed:    1.5s remaining:    8.3s\n",
      "[Parallel(n_jobs=143)]: Done  22 out of  60 | elapsed:    2.9s remaining:    4.9s\n",
      "[Parallel(n_jobs=143)]: Done  35 out of  60 | elapsed:    4.3s remaining:    3.0s\n",
      "[Parallel(n_jobs=143)]: Done  48 out of  60 | elapsed:    5.7s remaining:    1.4s\n",
      "[Parallel(n_jobs=143)]: Done  60 out of  60 | elapsed:    7.0s finished\n"
     ]
    },
    {
     "name": "stdout",
     "output_type": "stream",
     "text": [
      "Not setting metadata\n"
     ]
    },
    {
     "name": "stderr",
     "output_type": "stream",
     "text": [
      "[Parallel(n_jobs=143)]: Using backend LokyBackend with 143 concurrent workers.\n",
      "[Parallel(n_jobs=143)]: Done   9 out of  60 | elapsed:    0.7s remaining:    4.0s\n",
      "[Parallel(n_jobs=143)]: Done  22 out of  60 | elapsed:    1.3s remaining:    2.3s\n",
      "[Parallel(n_jobs=143)]: Done  35 out of  60 | elapsed:    1.9s remaining:    1.4s\n",
      "[Parallel(n_jobs=143)]: Done  48 out of  60 | elapsed:    2.5s remaining:    0.6s\n",
      "[Parallel(n_jobs=143)]: Done  60 out of  60 | elapsed:    3.1s finished\n"
     ]
    },
    {
     "name": "stdout",
     "output_type": "stream",
     "text": [
      "Not setting metadata\n"
     ]
    },
    {
     "name": "stderr",
     "output_type": "stream",
     "text": [
      "[Parallel(n_jobs=143)]: Using backend LokyBackend with 143 concurrent workers.\n",
      "[Parallel(n_jobs=143)]: Done   9 out of  60 | elapsed:    2.4s remaining:   13.6s\n",
      "[Parallel(n_jobs=143)]: Done  22 out of  60 | elapsed:    4.6s remaining:    8.0s\n",
      "[Parallel(n_jobs=143)]: Done  35 out of  60 | elapsed:    6.9s remaining:    4.9s\n",
      "[Parallel(n_jobs=143)]: Done  48 out of  60 | elapsed:    9.2s remaining:    2.3s\n",
      "[Parallel(n_jobs=143)]: Done  60 out of  60 | elapsed:   11.3s finished\n"
     ]
    },
    {
     "name": "stdout",
     "output_type": "stream",
     "text": [
      "Not setting metadata\n"
     ]
    },
    {
     "name": "stderr",
     "output_type": "stream",
     "text": [
      "[Parallel(n_jobs=143)]: Using backend LokyBackend with 143 concurrent workers.\n",
      "[Parallel(n_jobs=143)]: Done   9 out of  60 | elapsed:    0.6s remaining:    3.6s\n",
      "[Parallel(n_jobs=143)]: Done  22 out of  60 | elapsed:    1.2s remaining:    2.1s\n",
      "[Parallel(n_jobs=143)]: Done  35 out of  60 | elapsed:    1.7s remaining:    1.2s\n",
      "[Parallel(n_jobs=143)]: Done  48 out of  60 | elapsed:    2.3s remaining:    0.6s\n",
      "[Parallel(n_jobs=143)]: Done  60 out of  60 | elapsed:    2.8s finished\n"
     ]
    },
    {
     "name": "stdout",
     "output_type": "stream",
     "text": [
      "Not setting metadata\n"
     ]
    },
    {
     "name": "stderr",
     "output_type": "stream",
     "text": [
      "[Parallel(n_jobs=143)]: Using backend LokyBackend with 143 concurrent workers.\n",
      "[Parallel(n_jobs=143)]: Done   9 out of  60 | elapsed:    0.6s remaining:    3.6s\n",
      "[Parallel(n_jobs=143)]: Done  22 out of  60 | elapsed:    1.2s remaining:    2.1s\n",
      "[Parallel(n_jobs=143)]: Done  35 out of  60 | elapsed:    1.8s remaining:    1.3s\n",
      "[Parallel(n_jobs=143)]: Done  48 out of  60 | elapsed:    2.4s remaining:    0.6s\n",
      "[Parallel(n_jobs=143)]: Done  60 out of  60 | elapsed:    3.0s finished\n"
     ]
    },
    {
     "name": "stdout",
     "output_type": "stream",
     "text": [
      "Not setting metadata\n"
     ]
    },
    {
     "name": "stderr",
     "output_type": "stream",
     "text": [
      "[Parallel(n_jobs=143)]: Using backend LokyBackend with 143 concurrent workers.\n",
      "[Parallel(n_jobs=143)]: Done   9 out of  60 | elapsed:    0.6s remaining:    3.6s\n",
      "[Parallel(n_jobs=143)]: Done  22 out of  60 | elapsed:    1.2s remaining:    2.1s\n",
      "[Parallel(n_jobs=143)]: Done  35 out of  60 | elapsed:    1.8s remaining:    1.3s\n",
      "[Parallel(n_jobs=143)]: Done  48 out of  60 | elapsed:    2.4s remaining:    0.6s\n",
      "[Parallel(n_jobs=143)]: Done  60 out of  60 | elapsed:    3.0s finished\n"
     ]
    },
    {
     "name": "stdout",
     "output_type": "stream",
     "text": [
      "Not setting metadata\n"
     ]
    },
    {
     "name": "stderr",
     "output_type": "stream",
     "text": [
      "[Parallel(n_jobs=143)]: Using backend LokyBackend with 143 concurrent workers.\n",
      "[Parallel(n_jobs=143)]: Done   9 out of  60 | elapsed:    4.7s remaining:   26.8s\n",
      "[Parallel(n_jobs=143)]: Done  22 out of  60 | elapsed:    8.8s remaining:   15.2s\n",
      "[Parallel(n_jobs=143)]: Done  35 out of  60 | elapsed:   13.0s remaining:    9.3s\n",
      "[Parallel(n_jobs=143)]: Done  48 out of  60 | elapsed:   17.5s remaining:    4.4s\n",
      "[Parallel(n_jobs=143)]: Done  60 out of  60 | elapsed:   21.3s finished\n"
     ]
    },
    {
     "name": "stdout",
     "output_type": "stream",
     "text": [
      "Not setting metadata\n",
      "Running VME_S15 ...\n",
      "Reading /raven/ptmp/fklotzsche/Experiments/vMemEcc/Data2022/DataMNE/EEG/03_preproc/pooled/fulllength/collapsed/VME_S15-fulllength-collapsed-epo.fif ...\n",
      "    Found the data of interest:\n",
      "        t =    -600.00 ...    3300.00 ms\n",
      "        0 CTF compensation matrices available\n",
      "Not setting metadata\n",
      "Not setting metadata\n",
      "632 matching events found\n",
      "No baseline correction applied\n",
      "0 projection items activated\n",
      "Subtracting Evoked from Epochs\n",
      "    The following channels are not included in the subtraction: IO1, IO2, LO2, LO1, VEOG, ECG, HEOG\n",
      "[done]\n"
     ]
    },
    {
     "name": "stderr",
     "output_type": "stream",
     "text": [
      "[Parallel(n_jobs=143)]: Using backend LokyBackend with 143 concurrent workers.\n",
      "[Parallel(n_jobs=143)]: Done   9 out of  60 | elapsed:    2.1s remaining:   11.9s\n",
      "[Parallel(n_jobs=143)]: Done  22 out of  60 | elapsed:    4.0s remaining:    7.0s\n",
      "[Parallel(n_jobs=143)]: Done  35 out of  60 | elapsed:    5.9s remaining:    4.2s\n",
      "[Parallel(n_jobs=143)]: Done  48 out of  60 | elapsed:    7.9s remaining:    2.0s\n",
      "[Parallel(n_jobs=143)]: Done  60 out of  60 | elapsed:    9.7s finished\n"
     ]
    },
    {
     "name": "stdout",
     "output_type": "stream",
     "text": [
      "Not setting metadata\n"
     ]
    },
    {
     "name": "stderr",
     "output_type": "stream",
     "text": [
      "[Parallel(n_jobs=143)]: Using backend LokyBackend with 143 concurrent workers.\n",
      "[Parallel(n_jobs=143)]: Done   9 out of  60 | elapsed:    1.0s remaining:    5.6s\n",
      "[Parallel(n_jobs=143)]: Done  22 out of  60 | elapsed:    2.0s remaining:    3.4s\n",
      "[Parallel(n_jobs=143)]: Done  35 out of  60 | elapsed:    2.9s remaining:    2.1s\n",
      "[Parallel(n_jobs=143)]: Done  48 out of  60 | elapsed:    3.9s remaining:    1.0s\n",
      "[Parallel(n_jobs=143)]: Done  60 out of  60 | elapsed:    4.9s finished\n"
     ]
    },
    {
     "name": "stdout",
     "output_type": "stream",
     "text": [
      "Not setting metadata\n"
     ]
    },
    {
     "name": "stderr",
     "output_type": "stream",
     "text": [
      "[Parallel(n_jobs=143)]: Using backend LokyBackend with 143 concurrent workers.\n",
      "[Parallel(n_jobs=143)]: Done   9 out of  60 | elapsed:    0.6s remaining:    3.3s\n",
      "[Parallel(n_jobs=143)]: Done  22 out of  60 | elapsed:    1.1s remaining:    2.0s\n",
      "[Parallel(n_jobs=143)]: Done  35 out of  60 | elapsed:    1.7s remaining:    1.2s\n",
      "[Parallel(n_jobs=143)]: Done  48 out of  60 | elapsed:    2.2s remaining:    0.6s\n",
      "[Parallel(n_jobs=143)]: Done  60 out of  60 | elapsed:    2.7s finished\n"
     ]
    },
    {
     "name": "stdout",
     "output_type": "stream",
     "text": [
      "Not setting metadata\n"
     ]
    },
    {
     "name": "stderr",
     "output_type": "stream",
     "text": [
      "[Parallel(n_jobs=143)]: Using backend LokyBackend with 143 concurrent workers.\n",
      "[Parallel(n_jobs=143)]: Done   9 out of  60 | elapsed:    1.4s remaining:    7.8s\n",
      "[Parallel(n_jobs=143)]: Done  22 out of  60 | elapsed:    2.7s remaining:    4.6s\n",
      "[Parallel(n_jobs=143)]: Done  35 out of  60 | elapsed:    4.0s remaining:    2.8s\n",
      "[Parallel(n_jobs=143)]: Done  48 out of  60 | elapsed:    5.3s remaining:    1.3s\n",
      "[Parallel(n_jobs=143)]: Done  60 out of  60 | elapsed:    6.5s finished\n"
     ]
    },
    {
     "name": "stdout",
     "output_type": "stream",
     "text": [
      "Not setting metadata\n"
     ]
    },
    {
     "name": "stderr",
     "output_type": "stream",
     "text": [
      "[Parallel(n_jobs=143)]: Using backend LokyBackend with 143 concurrent workers.\n",
      "[Parallel(n_jobs=143)]: Done   9 out of  60 | elapsed:    0.6s remaining:    3.2s\n",
      "[Parallel(n_jobs=143)]: Done  22 out of  60 | elapsed:    1.1s remaining:    1.8s\n",
      "[Parallel(n_jobs=143)]: Done  35 out of  60 | elapsed:    1.6s remaining:    1.1s\n",
      "[Parallel(n_jobs=143)]: Done  48 out of  60 | elapsed:    2.1s remaining:    0.5s\n",
      "[Parallel(n_jobs=143)]: Done  60 out of  60 | elapsed:    2.6s finished\n"
     ]
    },
    {
     "name": "stdout",
     "output_type": "stream",
     "text": [
      "Not setting metadata\n"
     ]
    },
    {
     "name": "stderr",
     "output_type": "stream",
     "text": [
      "[Parallel(n_jobs=143)]: Using backend LokyBackend with 143 concurrent workers.\n",
      "[Parallel(n_jobs=143)]: Done   9 out of  60 | elapsed:    1.3s remaining:    7.2s\n",
      "[Parallel(n_jobs=143)]: Done  22 out of  60 | elapsed:    2.5s remaining:    4.4s\n",
      "[Parallel(n_jobs=143)]: Done  35 out of  60 | elapsed:    3.8s remaining:    2.7s\n",
      "[Parallel(n_jobs=143)]: Done  48 out of  60 | elapsed:    5.0s remaining:    1.3s\n",
      "[Parallel(n_jobs=143)]: Done  60 out of  60 | elapsed:    6.2s finished\n"
     ]
    },
    {
     "name": "stdout",
     "output_type": "stream",
     "text": [
      "Not setting metadata\n"
     ]
    },
    {
     "name": "stderr",
     "output_type": "stream",
     "text": [
      "[Parallel(n_jobs=143)]: Using backend LokyBackend with 143 concurrent workers.\n",
      "[Parallel(n_jobs=143)]: Done   9 out of  60 | elapsed:    0.6s remaining:    3.3s\n",
      "[Parallel(n_jobs=143)]: Done  22 out of  60 | elapsed:    1.0s remaining:    1.8s\n",
      "[Parallel(n_jobs=143)]: Done  35 out of  60 | elapsed:    1.5s remaining:    1.1s\n",
      "[Parallel(n_jobs=143)]: Done  48 out of  60 | elapsed:    2.1s remaining:    0.5s\n",
      "[Parallel(n_jobs=143)]: Done  60 out of  60 | elapsed:    2.5s finished\n"
     ]
    },
    {
     "name": "stdout",
     "output_type": "stream",
     "text": [
      "Not setting metadata\n"
     ]
    },
    {
     "name": "stderr",
     "output_type": "stream",
     "text": [
      "[Parallel(n_jobs=143)]: Using backend LokyBackend with 143 concurrent workers.\n",
      "[Parallel(n_jobs=143)]: Done   9 out of  60 | elapsed:    2.1s remaining:   12.0s\n",
      "[Parallel(n_jobs=143)]: Done  22 out of  60 | elapsed:    4.0s remaining:    7.0s\n",
      "[Parallel(n_jobs=143)]: Done  35 out of  60 | elapsed:    6.0s remaining:    4.3s\n",
      "[Parallel(n_jobs=143)]: Done  48 out of  60 | elapsed:    8.0s remaining:    2.0s\n",
      "[Parallel(n_jobs=143)]: Done  60 out of  60 | elapsed:    9.8s finished\n"
     ]
    },
    {
     "name": "stdout",
     "output_type": "stream",
     "text": [
      "Not setting metadata\n"
     ]
    },
    {
     "name": "stderr",
     "output_type": "stream",
     "text": [
      "[Parallel(n_jobs=143)]: Using backend LokyBackend with 143 concurrent workers.\n",
      "[Parallel(n_jobs=143)]: Done   9 out of  60 | elapsed:    0.6s remaining:    3.1s\n",
      "[Parallel(n_jobs=143)]: Done  22 out of  60 | elapsed:    1.0s remaining:    1.8s\n",
      "[Parallel(n_jobs=143)]: Done  35 out of  60 | elapsed:    1.5s remaining:    1.1s\n",
      "[Parallel(n_jobs=143)]: Done  48 out of  60 | elapsed:    2.1s remaining:    0.5s\n",
      "[Parallel(n_jobs=143)]: Done  60 out of  60 | elapsed:    2.5s finished\n"
     ]
    },
    {
     "name": "stdout",
     "output_type": "stream",
     "text": [
      "Not setting metadata\n"
     ]
    },
    {
     "name": "stderr",
     "output_type": "stream",
     "text": [
      "[Parallel(n_jobs=143)]: Using backend LokyBackend with 143 concurrent workers.\n",
      "[Parallel(n_jobs=143)]: Done   9 out of  60 | elapsed:    0.6s remaining:    3.1s\n",
      "[Parallel(n_jobs=143)]: Done  22 out of  60 | elapsed:    1.1s remaining:    1.9s\n",
      "[Parallel(n_jobs=143)]: Done  35 out of  60 | elapsed:    1.7s remaining:    1.2s\n",
      "[Parallel(n_jobs=143)]: Done  48 out of  60 | elapsed:    2.2s remaining:    0.6s\n",
      "[Parallel(n_jobs=143)]: Done  60 out of  60 | elapsed:    2.8s finished\n"
     ]
    },
    {
     "name": "stdout",
     "output_type": "stream",
     "text": [
      "Not setting metadata\n"
     ]
    },
    {
     "name": "stderr",
     "output_type": "stream",
     "text": [
      "[Parallel(n_jobs=143)]: Using backend LokyBackend with 143 concurrent workers.\n",
      "[Parallel(n_jobs=143)]: Done   9 out of  60 | elapsed:    0.6s remaining:    3.6s\n",
      "[Parallel(n_jobs=143)]: Done  22 out of  60 | elapsed:    1.2s remaining:    2.0s\n",
      "[Parallel(n_jobs=143)]: Done  35 out of  60 | elapsed:    1.7s remaining:    1.2s\n",
      "[Parallel(n_jobs=143)]: Done  48 out of  60 | elapsed:    2.2s remaining:    0.6s\n",
      "[Parallel(n_jobs=143)]: Done  60 out of  60 | elapsed:    2.7s finished\n"
     ]
    },
    {
     "name": "stdout",
     "output_type": "stream",
     "text": [
      "Not setting metadata\n"
     ]
    },
    {
     "name": "stderr",
     "output_type": "stream",
     "text": [
      "[Parallel(n_jobs=143)]: Using backend LokyBackend with 143 concurrent workers.\n",
      "[Parallel(n_jobs=143)]: Done   9 out of  60 | elapsed:    4.1s remaining:   23.1s\n",
      "[Parallel(n_jobs=143)]: Done  22 out of  60 | elapsed:    7.8s remaining:   13.5s\n",
      "[Parallel(n_jobs=143)]: Done  35 out of  60 | elapsed:   11.5s remaining:    8.2s\n",
      "[Parallel(n_jobs=143)]: Done  48 out of  60 | elapsed:   15.3s remaining:    3.8s\n",
      "[Parallel(n_jobs=143)]: Done  60 out of  60 | elapsed:   18.8s finished\n"
     ]
    },
    {
     "name": "stdout",
     "output_type": "stream",
     "text": [
      "Not setting metadata\n",
      "Running VME_S16 ...\n",
      "Reading /raven/ptmp/fklotzsche/Experiments/vMemEcc/Data2022/DataMNE/EEG/03_preproc/pooled/fulllength/collapsed/VME_S16-fulllength-collapsed-epo.fif ...\n",
      "    Found the data of interest:\n",
      "        t =    -600.00 ...    3300.00 ms\n",
      "        0 CTF compensation matrices available\n",
      "Not setting metadata\n",
      "Not setting metadata\n",
      "632 matching events found\n",
      "No baseline correction applied\n",
      "0 projection items activated\n",
      "Subtracting Evoked from Epochs\n",
      "    The following channels are not included in the subtraction: IO1, IO2, LO2, LO1, VEOG, ECG, HEOG\n",
      "[done]\n"
     ]
    },
    {
     "name": "stderr",
     "output_type": "stream",
     "text": [
      "[Parallel(n_jobs=143)]: Using backend LokyBackend with 143 concurrent workers.\n",
      "[Parallel(n_jobs=143)]: Done   9 out of  60 | elapsed:    2.1s remaining:   12.1s\n",
      "[Parallel(n_jobs=143)]: Done  22 out of  60 | elapsed:    4.1s remaining:    7.1s\n",
      "[Parallel(n_jobs=143)]: Done  35 out of  60 | elapsed:    6.1s remaining:    4.3s\n",
      "[Parallel(n_jobs=143)]: Done  48 out of  60 | elapsed:    8.0s remaining:    2.0s\n",
      "[Parallel(n_jobs=143)]: Done  60 out of  60 | elapsed:    9.8s finished\n"
     ]
    },
    {
     "name": "stdout",
     "output_type": "stream",
     "text": [
      "Not setting metadata\n"
     ]
    },
    {
     "name": "stderr",
     "output_type": "stream",
     "text": [
      "[Parallel(n_jobs=143)]: Using backend LokyBackend with 143 concurrent workers.\n",
      "[Parallel(n_jobs=143)]: Done   9 out of  60 | elapsed:    1.0s remaining:    5.6s\n",
      "[Parallel(n_jobs=143)]: Done  22 out of  60 | elapsed:    2.0s remaining:    3.4s\n",
      "[Parallel(n_jobs=143)]: Done  35 out of  60 | elapsed:    2.9s remaining:    2.1s\n",
      "[Parallel(n_jobs=143)]: Done  48 out of  60 | elapsed:    3.9s remaining:    1.0s\n",
      "[Parallel(n_jobs=143)]: Done  60 out of  60 | elapsed:    4.8s finished\n"
     ]
    },
    {
     "name": "stdout",
     "output_type": "stream",
     "text": [
      "Not setting metadata\n"
     ]
    },
    {
     "name": "stderr",
     "output_type": "stream",
     "text": [
      "[Parallel(n_jobs=143)]: Using backend LokyBackend with 143 concurrent workers.\n",
      "[Parallel(n_jobs=143)]: Done   9 out of  60 | elapsed:    0.5s remaining:    2.8s\n",
      "[Parallel(n_jobs=143)]: Done  22 out of  60 | elapsed:    0.9s remaining:    1.6s\n",
      "[Parallel(n_jobs=143)]: Done  35 out of  60 | elapsed:    1.4s remaining:    1.0s\n",
      "[Parallel(n_jobs=143)]: Done  48 out of  60 | elapsed:    1.9s remaining:    0.5s\n",
      "[Parallel(n_jobs=143)]: Done  60 out of  60 | elapsed:    2.4s finished\n"
     ]
    },
    {
     "name": "stdout",
     "output_type": "stream",
     "text": [
      "Not setting metadata\n"
     ]
    },
    {
     "name": "stderr",
     "output_type": "stream",
     "text": [
      "[Parallel(n_jobs=143)]: Using backend LokyBackend with 143 concurrent workers.\n",
      "[Parallel(n_jobs=143)]: Done   9 out of  60 | elapsed:    1.5s remaining:    8.2s\n",
      "[Parallel(n_jobs=143)]: Done  22 out of  60 | elapsed:    2.8s remaining:    4.8s\n",
      "[Parallel(n_jobs=143)]: Done  35 out of  60 | elapsed:    4.2s remaining:    3.0s\n",
      "[Parallel(n_jobs=143)]: Done  48 out of  60 | elapsed:    5.6s remaining:    1.4s\n",
      "[Parallel(n_jobs=143)]: Done  60 out of  60 | elapsed:    6.9s finished\n"
     ]
    },
    {
     "name": "stdout",
     "output_type": "stream",
     "text": [
      "Not setting metadata\n"
     ]
    },
    {
     "name": "stderr",
     "output_type": "stream",
     "text": [
      "[Parallel(n_jobs=143)]: Using backend LokyBackend with 143 concurrent workers.\n",
      "[Parallel(n_jobs=143)]: Done   9 out of  60 | elapsed:    0.6s remaining:    3.4s\n",
      "[Parallel(n_jobs=143)]: Done  22 out of  60 | elapsed:    1.2s remaining:    2.0s\n",
      "[Parallel(n_jobs=143)]: Done  35 out of  60 | elapsed:    1.7s remaining:    1.2s\n",
      "[Parallel(n_jobs=143)]: Done  48 out of  60 | elapsed:    2.3s remaining:    0.6s\n",
      "[Parallel(n_jobs=143)]: Done  60 out of  60 | elapsed:    2.8s finished\n"
     ]
    },
    {
     "name": "stdout",
     "output_type": "stream",
     "text": [
      "Not setting metadata\n"
     ]
    },
    {
     "name": "stderr",
     "output_type": "stream",
     "text": [
      "[Parallel(n_jobs=143)]: Using backend LokyBackend with 143 concurrent workers.\n",
      "[Parallel(n_jobs=143)]: Done   9 out of  60 | elapsed:    1.4s remaining:    8.2s\n",
      "[Parallel(n_jobs=143)]: Done  22 out of  60 | elapsed:    2.8s remaining:    4.9s\n",
      "[Parallel(n_jobs=143)]: Done  35 out of  60 | elapsed:    4.2s remaining:    3.0s\n",
      "[Parallel(n_jobs=143)]: Done  48 out of  60 | elapsed:    5.5s remaining:    1.4s\n",
      "[Parallel(n_jobs=143)]: Done  60 out of  60 | elapsed:    6.8s finished\n"
     ]
    },
    {
     "name": "stdout",
     "output_type": "stream",
     "text": [
      "Not setting metadata\n"
     ]
    },
    {
     "name": "stderr",
     "output_type": "stream",
     "text": [
      "[Parallel(n_jobs=143)]: Using backend LokyBackend with 143 concurrent workers.\n",
      "[Parallel(n_jobs=143)]: Done   9 out of  60 | elapsed:    0.7s remaining:    3.9s\n",
      "[Parallel(n_jobs=143)]: Done  22 out of  60 | elapsed:    1.2s remaining:    2.1s\n",
      "[Parallel(n_jobs=143)]: Done  35 out of  60 | elapsed:    1.7s remaining:    1.2s\n",
      "[Parallel(n_jobs=143)]: Done  48 out of  60 | elapsed:    2.3s remaining:    0.6s\n",
      "[Parallel(n_jobs=143)]: Done  60 out of  60 | elapsed:    2.8s finished\n"
     ]
    },
    {
     "name": "stdout",
     "output_type": "stream",
     "text": [
      "Not setting metadata\n"
     ]
    },
    {
     "name": "stderr",
     "output_type": "stream",
     "text": [
      "[Parallel(n_jobs=143)]: Using backend LokyBackend with 143 concurrent workers.\n",
      "[Parallel(n_jobs=143)]: Done   9 out of  60 | elapsed:    2.0s remaining:   11.4s\n",
      "[Parallel(n_jobs=143)]: Done  22 out of  60 | elapsed:    4.0s remaining:    7.0s\n",
      "[Parallel(n_jobs=143)]: Done  35 out of  60 | elapsed:    6.2s remaining:    4.4s\n",
      "[Parallel(n_jobs=143)]: Done  48 out of  60 | elapsed:    8.2s remaining:    2.1s\n",
      "[Parallel(n_jobs=143)]: Done  60 out of  60 | elapsed:   10.0s finished\n"
     ]
    },
    {
     "name": "stdout",
     "output_type": "stream",
     "text": [
      "Not setting metadata\n"
     ]
    },
    {
     "name": "stderr",
     "output_type": "stream",
     "text": [
      "[Parallel(n_jobs=143)]: Using backend LokyBackend with 143 concurrent workers.\n",
      "[Parallel(n_jobs=143)]: Done   9 out of  60 | elapsed:    0.5s remaining:    2.7s\n",
      "[Parallel(n_jobs=143)]: Done  22 out of  60 | elapsed:    0.9s remaining:    1.5s\n",
      "[Parallel(n_jobs=143)]: Done  35 out of  60 | elapsed:    1.3s remaining:    0.9s\n",
      "[Parallel(n_jobs=143)]: Done  48 out of  60 | elapsed:    1.7s remaining:    0.4s\n",
      "[Parallel(n_jobs=143)]: Done  60 out of  60 | elapsed:    2.0s finished\n"
     ]
    },
    {
     "name": "stdout",
     "output_type": "stream",
     "text": [
      "Not setting metadata\n"
     ]
    },
    {
     "name": "stderr",
     "output_type": "stream",
     "text": [
      "[Parallel(n_jobs=143)]: Using backend LokyBackend with 143 concurrent workers.\n",
      "[Parallel(n_jobs=143)]: Done   9 out of  60 | elapsed:    0.6s remaining:    3.2s\n",
      "[Parallel(n_jobs=143)]: Done  22 out of  60 | elapsed:    1.1s remaining:    1.9s\n",
      "[Parallel(n_jobs=143)]: Done  35 out of  60 | elapsed:    1.6s remaining:    1.1s\n",
      "[Parallel(n_jobs=143)]: Done  48 out of  60 | elapsed:    2.1s remaining:    0.5s\n",
      "[Parallel(n_jobs=143)]: Done  60 out of  60 | elapsed:    2.6s finished\n"
     ]
    },
    {
     "name": "stdout",
     "output_type": "stream",
     "text": [
      "Not setting metadata\n"
     ]
    },
    {
     "name": "stderr",
     "output_type": "stream",
     "text": [
      "[Parallel(n_jobs=143)]: Using backend LokyBackend with 143 concurrent workers.\n",
      "[Parallel(n_jobs=143)]: Done   9 out of  60 | elapsed:    0.6s remaining:    3.4s\n",
      "[Parallel(n_jobs=143)]: Done  22 out of  60 | elapsed:    1.1s remaining:    1.9s\n",
      "[Parallel(n_jobs=143)]: Done  35 out of  60 | elapsed:    1.6s remaining:    1.2s\n",
      "[Parallel(n_jobs=143)]: Done  48 out of  60 | elapsed:    2.2s remaining:    0.5s\n",
      "[Parallel(n_jobs=143)]: Done  60 out of  60 | elapsed:    2.6s finished\n"
     ]
    },
    {
     "name": "stdout",
     "output_type": "stream",
     "text": [
      "Not setting metadata\n"
     ]
    },
    {
     "name": "stderr",
     "output_type": "stream",
     "text": [
      "[Parallel(n_jobs=143)]: Using backend LokyBackend with 143 concurrent workers.\n",
      "[Parallel(n_jobs=143)]: Done   9 out of  60 | elapsed:    4.2s remaining:   23.7s\n",
      "[Parallel(n_jobs=143)]: Done  22 out of  60 | elapsed:    7.9s remaining:   13.7s\n",
      "[Parallel(n_jobs=143)]: Done  35 out of  60 | elapsed:   11.7s remaining:    8.4s\n",
      "[Parallel(n_jobs=143)]: Done  48 out of  60 | elapsed:   15.7s remaining:    3.9s\n",
      "[Parallel(n_jobs=143)]: Done  60 out of  60 | elapsed:   19.3s finished\n"
     ]
    },
    {
     "name": "stdout",
     "output_type": "stream",
     "text": [
      "Not setting metadata\n",
      "Running VME_S17 ...\n",
      "Reading /raven/ptmp/fklotzsche/Experiments/vMemEcc/Data2022/DataMNE/EEG/03_preproc/pooled/fulllength/collapsed/VME_S17-fulllength-collapsed-epo.fif ...\n",
      "    Found the data of interest:\n",
      "        t =    -600.00 ...    3300.00 ms\n",
      "        0 CTF compensation matrices available\n",
      "Not setting metadata\n",
      "Not setting metadata\n",
      "530 matching events found\n",
      "No baseline correction applied\n",
      "0 projection items activated\n",
      "Subtracting Evoked from Epochs\n",
      "    The following channels are not included in the subtraction: IO1, IO2, LO2, LO1, VEOG, ECG, HEOG\n",
      "[done]\n"
     ]
    },
    {
     "name": "stderr",
     "output_type": "stream",
     "text": [
      "[Parallel(n_jobs=143)]: Using backend LokyBackend with 143 concurrent workers.\n",
      "[Parallel(n_jobs=143)]: Done   9 out of  60 | elapsed:    1.8s remaining:   10.2s\n",
      "[Parallel(n_jobs=143)]: Done  22 out of  60 | elapsed:    3.5s remaining:    6.0s\n",
      "[Parallel(n_jobs=143)]: Done  35 out of  60 | elapsed:    5.2s remaining:    3.7s\n",
      "[Parallel(n_jobs=143)]: Done  48 out of  60 | elapsed:    6.9s remaining:    1.7s\n",
      "[Parallel(n_jobs=143)]: Done  60 out of  60 | elapsed:    8.5s finished\n"
     ]
    },
    {
     "name": "stdout",
     "output_type": "stream",
     "text": [
      "Not setting metadata\n"
     ]
    },
    {
     "name": "stderr",
     "output_type": "stream",
     "text": [
      "[Parallel(n_jobs=143)]: Using backend LokyBackend with 143 concurrent workers.\n",
      "[Parallel(n_jobs=143)]: Done   9 out of  60 | elapsed:    0.8s remaining:    4.4s\n",
      "[Parallel(n_jobs=143)]: Done  22 out of  60 | elapsed:    1.5s remaining:    2.6s\n",
      "[Parallel(n_jobs=143)]: Done  35 out of  60 | elapsed:    2.3s remaining:    1.6s\n",
      "[Parallel(n_jobs=143)]: Done  48 out of  60 | elapsed:    3.0s remaining:    0.8s\n",
      "[Parallel(n_jobs=143)]: Done  60 out of  60 | elapsed:    3.8s finished\n"
     ]
    },
    {
     "name": "stdout",
     "output_type": "stream",
     "text": [
      "Not setting metadata\n"
     ]
    },
    {
     "name": "stderr",
     "output_type": "stream",
     "text": [
      "[Parallel(n_jobs=143)]: Using backend LokyBackend with 143 concurrent workers.\n",
      "[Parallel(n_jobs=143)]: Done   9 out of  60 | elapsed:    0.5s remaining:    2.6s\n",
      "[Parallel(n_jobs=143)]: Done  22 out of  60 | elapsed:    0.9s remaining:    1.5s\n",
      "[Parallel(n_jobs=143)]: Done  35 out of  60 | elapsed:    1.3s remaining:    0.9s\n",
      "[Parallel(n_jobs=143)]: Done  48 out of  60 | elapsed:    1.7s remaining:    0.4s\n",
      "[Parallel(n_jobs=143)]: Done  60 out of  60 | elapsed:    2.1s finished\n"
     ]
    },
    {
     "name": "stdout",
     "output_type": "stream",
     "text": [
      "Not setting metadata\n"
     ]
    },
    {
     "name": "stderr",
     "output_type": "stream",
     "text": [
      "[Parallel(n_jobs=143)]: Using backend LokyBackend with 143 concurrent workers.\n",
      "[Parallel(n_jobs=143)]: Done   9 out of  60 | elapsed:    0.9s remaining:    5.0s\n",
      "[Parallel(n_jobs=143)]: Done  22 out of  60 | elapsed:    1.7s remaining:    2.9s\n",
      "[Parallel(n_jobs=143)]: Done  35 out of  60 | elapsed:    2.5s remaining:    1.8s\n",
      "[Parallel(n_jobs=143)]: Done  48 out of  60 | elapsed:    3.3s remaining:    0.8s\n",
      "[Parallel(n_jobs=143)]: Done  60 out of  60 | elapsed:    4.1s finished\n"
     ]
    },
    {
     "name": "stdout",
     "output_type": "stream",
     "text": [
      "Not setting metadata\n"
     ]
    },
    {
     "name": "stderr",
     "output_type": "stream",
     "text": [
      "[Parallel(n_jobs=143)]: Using backend LokyBackend with 143 concurrent workers.\n",
      "[Parallel(n_jobs=143)]: Done   9 out of  60 | elapsed:    0.4s remaining:    2.5s\n",
      "[Parallel(n_jobs=143)]: Done  22 out of  60 | elapsed:    0.9s remaining:    1.5s\n",
      "[Parallel(n_jobs=143)]: Done  35 out of  60 | elapsed:    1.3s remaining:    0.9s\n",
      "[Parallel(n_jobs=143)]: Done  48 out of  60 | elapsed:    1.8s remaining:    0.4s\n",
      "[Parallel(n_jobs=143)]: Done  60 out of  60 | elapsed:    2.2s finished\n"
     ]
    },
    {
     "name": "stdout",
     "output_type": "stream",
     "text": [
      "Not setting metadata\n"
     ]
    },
    {
     "name": "stderr",
     "output_type": "stream",
     "text": [
      "[Parallel(n_jobs=143)]: Using backend LokyBackend with 143 concurrent workers.\n",
      "[Parallel(n_jobs=143)]: Done   9 out of  60 | elapsed:    1.2s remaining:    6.7s\n",
      "[Parallel(n_jobs=143)]: Done  22 out of  60 | elapsed:    2.3s remaining:    4.0s\n",
      "[Parallel(n_jobs=143)]: Done  35 out of  60 | elapsed:    3.4s remaining:    2.4s\n",
      "[Parallel(n_jobs=143)]: Done  48 out of  60 | elapsed:    4.5s remaining:    1.1s\n",
      "[Parallel(n_jobs=143)]: Done  60 out of  60 | elapsed:    5.6s finished\n"
     ]
    },
    {
     "name": "stdout",
     "output_type": "stream",
     "text": [
      "Not setting metadata\n"
     ]
    },
    {
     "name": "stderr",
     "output_type": "stream",
     "text": [
      "[Parallel(n_jobs=143)]: Using backend LokyBackend with 143 concurrent workers.\n",
      "[Parallel(n_jobs=143)]: Done   9 out of  60 | elapsed:    0.5s remaining:    3.0s\n",
      "[Parallel(n_jobs=143)]: Done  22 out of  60 | elapsed:    1.0s remaining:    1.8s\n",
      "[Parallel(n_jobs=143)]: Done  35 out of  60 | elapsed:    1.6s remaining:    1.1s\n",
      "[Parallel(n_jobs=143)]: Done  48 out of  60 | elapsed:    2.1s remaining:    0.5s\n",
      "[Parallel(n_jobs=143)]: Done  60 out of  60 | elapsed:    2.5s finished\n"
     ]
    },
    {
     "name": "stdout",
     "output_type": "stream",
     "text": [
      "Not setting metadata\n"
     ]
    },
    {
     "name": "stderr",
     "output_type": "stream",
     "text": [
      "[Parallel(n_jobs=143)]: Using backend LokyBackend with 143 concurrent workers.\n",
      "[Parallel(n_jobs=143)]: Done   9 out of  60 | elapsed:    1.6s remaining:    9.2s\n",
      "[Parallel(n_jobs=143)]: Done  22 out of  60 | elapsed:    3.2s remaining:    5.5s\n",
      "[Parallel(n_jobs=143)]: Done  35 out of  60 | elapsed:    4.8s remaining:    3.4s\n",
      "[Parallel(n_jobs=143)]: Done  48 out of  60 | elapsed:    6.3s remaining:    1.6s\n",
      "[Parallel(n_jobs=143)]: Done  60 out of  60 | elapsed:    7.8s finished\n"
     ]
    },
    {
     "name": "stdout",
     "output_type": "stream",
     "text": [
      "Not setting metadata\n"
     ]
    },
    {
     "name": "stderr",
     "output_type": "stream",
     "text": [
      "[Parallel(n_jobs=143)]: Using backend LokyBackend with 143 concurrent workers.\n",
      "[Parallel(n_jobs=143)]: Done   9 out of  60 | elapsed:    0.4s remaining:    2.4s\n",
      "[Parallel(n_jobs=143)]: Done  22 out of  60 | elapsed:    0.8s remaining:    1.4s\n",
      "[Parallel(n_jobs=143)]: Done  35 out of  60 | elapsed:    1.1s remaining:    0.8s\n",
      "[Parallel(n_jobs=143)]: Done  48 out of  60 | elapsed:    1.5s remaining:    0.4s\n",
      "[Parallel(n_jobs=143)]: Done  60 out of  60 | elapsed:    1.8s finished\n"
     ]
    },
    {
     "name": "stdout",
     "output_type": "stream",
     "text": [
      "Not setting metadata\n"
     ]
    },
    {
     "name": "stderr",
     "output_type": "stream",
     "text": [
      "[Parallel(n_jobs=143)]: Using backend LokyBackend with 143 concurrent workers.\n",
      "[Parallel(n_jobs=143)]: Done   9 out of  60 | elapsed:    0.4s remaining:    2.5s\n",
      "[Parallel(n_jobs=143)]: Done  22 out of  60 | elapsed:    0.9s remaining:    1.5s\n",
      "[Parallel(n_jobs=143)]: Done  35 out of  60 | elapsed:    1.3s remaining:    0.9s\n",
      "[Parallel(n_jobs=143)]: Done  48 out of  60 | elapsed:    1.7s remaining:    0.4s\n",
      "[Parallel(n_jobs=143)]: Done  60 out of  60 | elapsed:    2.1s finished\n"
     ]
    },
    {
     "name": "stdout",
     "output_type": "stream",
     "text": [
      "Not setting metadata\n"
     ]
    },
    {
     "name": "stderr",
     "output_type": "stream",
     "text": [
      "[Parallel(n_jobs=143)]: Using backend LokyBackend with 143 concurrent workers.\n",
      "[Parallel(n_jobs=143)]: Done   9 out of  60 | elapsed:    0.5s remaining:    2.7s\n",
      "[Parallel(n_jobs=143)]: Done  22 out of  60 | elapsed:    0.9s remaining:    1.5s\n",
      "[Parallel(n_jobs=143)]: Done  35 out of  60 | elapsed:    1.3s remaining:    0.9s\n",
      "[Parallel(n_jobs=143)]: Done  48 out of  60 | elapsed:    1.7s remaining:    0.4s\n",
      "[Parallel(n_jobs=143)]: Done  60 out of  60 | elapsed:    2.1s finished\n"
     ]
    },
    {
     "name": "stdout",
     "output_type": "stream",
     "text": [
      "Not setting metadata\n"
     ]
    },
    {
     "name": "stderr",
     "output_type": "stream",
     "text": [
      "[Parallel(n_jobs=143)]: Using backend LokyBackend with 143 concurrent workers.\n",
      "[Parallel(n_jobs=143)]: Done   9 out of  60 | elapsed:    3.6s remaining:   20.5s\n",
      "[Parallel(n_jobs=143)]: Done  22 out of  60 | elapsed:    6.8s remaining:   11.7s\n",
      "[Parallel(n_jobs=143)]: Done  35 out of  60 | elapsed:   10.0s remaining:    7.2s\n",
      "[Parallel(n_jobs=143)]: Done  48 out of  60 | elapsed:   13.3s remaining:    3.3s\n",
      "[Parallel(n_jobs=143)]: Done  60 out of  60 | elapsed:   16.5s finished\n"
     ]
    },
    {
     "name": "stdout",
     "output_type": "stream",
     "text": [
      "Not setting metadata\n",
      "Running VME_S18 ...\n",
      "Reading /raven/ptmp/fklotzsche/Experiments/vMemEcc/Data2022/DataMNE/EEG/03_preproc/pooled/fulllength/collapsed/VME_S18-fulllength-collapsed-epo.fif ...\n",
      "    Found the data of interest:\n",
      "        t =    -600.00 ...    3300.00 ms\n",
      "        0 CTF compensation matrices available\n",
      "Not setting metadata\n",
      "Not setting metadata\n",
      "674 matching events found\n",
      "No baseline correction applied\n",
      "0 projection items activated\n",
      "Subtracting Evoked from Epochs\n",
      "    The following channels are not included in the subtraction: IO1, IO2, LO2, LO1, VEOG, ECG, HEOG\n",
      "[done]\n"
     ]
    },
    {
     "name": "stderr",
     "output_type": "stream",
     "text": [
      "[Parallel(n_jobs=143)]: Using backend LokyBackend with 143 concurrent workers.\n",
      "[Parallel(n_jobs=143)]: Done   9 out of  60 | elapsed:    2.4s remaining:   13.5s\n",
      "[Parallel(n_jobs=143)]: Done  22 out of  60 | elapsed:    4.5s remaining:    7.8s\n",
      "[Parallel(n_jobs=143)]: Done  35 out of  60 | elapsed:    6.7s remaining:    4.8s\n",
      "[Parallel(n_jobs=143)]: Done  48 out of  60 | elapsed:    8.8s remaining:    2.2s\n",
      "[Parallel(n_jobs=143)]: Done  60 out of  60 | elapsed:   10.7s finished\n"
     ]
    },
    {
     "name": "stdout",
     "output_type": "stream",
     "text": [
      "Not setting metadata\n"
     ]
    },
    {
     "name": "stderr",
     "output_type": "stream",
     "text": [
      "[Parallel(n_jobs=143)]: Using backend LokyBackend with 143 concurrent workers.\n",
      "[Parallel(n_jobs=143)]: Done   9 out of  60 | elapsed:    1.5s remaining:    8.3s\n",
      "[Parallel(n_jobs=143)]: Done  22 out of  60 | elapsed:    2.8s remaining:    4.9s\n",
      "[Parallel(n_jobs=143)]: Done  35 out of  60 | elapsed:    4.1s remaining:    3.0s\n",
      "[Parallel(n_jobs=143)]: Done  48 out of  60 | elapsed:    5.4s remaining:    1.4s\n",
      "[Parallel(n_jobs=143)]: Done  60 out of  60 | elapsed:    6.7s finished\n"
     ]
    },
    {
     "name": "stdout",
     "output_type": "stream",
     "text": [
      "Not setting metadata\n"
     ]
    },
    {
     "name": "stderr",
     "output_type": "stream",
     "text": [
      "[Parallel(n_jobs=143)]: Using backend LokyBackend with 143 concurrent workers.\n",
      "[Parallel(n_jobs=143)]: Done   9 out of  60 | elapsed:    0.6s remaining:    3.2s\n",
      "[Parallel(n_jobs=143)]: Done  22 out of  60 | elapsed:    1.1s remaining:    1.9s\n",
      "[Parallel(n_jobs=143)]: Done  35 out of  60 | elapsed:    1.6s remaining:    1.2s\n",
      "[Parallel(n_jobs=143)]: Done  48 out of  60 | elapsed:    2.2s remaining:    0.5s\n",
      "[Parallel(n_jobs=143)]: Done  60 out of  60 | elapsed:    2.7s finished\n"
     ]
    },
    {
     "name": "stdout",
     "output_type": "stream",
     "text": [
      "Not setting metadata\n"
     ]
    },
    {
     "name": "stderr",
     "output_type": "stream",
     "text": [
      "[Parallel(n_jobs=143)]: Using backend LokyBackend with 143 concurrent workers.\n",
      "[Parallel(n_jobs=143)]: Done   9 out of  60 | elapsed:    1.4s remaining:    8.1s\n",
      "[Parallel(n_jobs=143)]: Done  22 out of  60 | elapsed:    2.8s remaining:    4.8s\n",
      "[Parallel(n_jobs=143)]: Done  35 out of  60 | elapsed:    4.1s remaining:    2.9s\n",
      "[Parallel(n_jobs=143)]: Done  48 out of  60 | elapsed:    5.4s remaining:    1.3s\n",
      "[Parallel(n_jobs=143)]: Done  60 out of  60 | elapsed:    6.6s finished\n"
     ]
    },
    {
     "name": "stdout",
     "output_type": "stream",
     "text": [
      "Not setting metadata\n"
     ]
    },
    {
     "name": "stderr",
     "output_type": "stream",
     "text": [
      "[Parallel(n_jobs=143)]: Using backend LokyBackend with 143 concurrent workers.\n",
      "[Parallel(n_jobs=143)]: Done   9 out of  60 | elapsed:    0.6s remaining:    3.5s\n",
      "[Parallel(n_jobs=143)]: Done  22 out of  60 | elapsed:    1.2s remaining:    2.0s\n",
      "[Parallel(n_jobs=143)]: Done  35 out of  60 | elapsed:    1.7s remaining:    1.2s\n",
      "[Parallel(n_jobs=143)]: Done  48 out of  60 | elapsed:    2.3s remaining:    0.6s\n",
      "[Parallel(n_jobs=143)]: Done  60 out of  60 | elapsed:    2.8s finished\n"
     ]
    },
    {
     "name": "stdout",
     "output_type": "stream",
     "text": [
      "Not setting metadata\n"
     ]
    },
    {
     "name": "stderr",
     "output_type": "stream",
     "text": [
      "[Parallel(n_jobs=143)]: Using backend LokyBackend with 143 concurrent workers.\n",
      "[Parallel(n_jobs=143)]: Done   9 out of  60 | elapsed:    1.5s remaining:    8.3s\n",
      "[Parallel(n_jobs=143)]: Done  22 out of  60 | elapsed:    2.8s remaining:    4.9s\n",
      "[Parallel(n_jobs=143)]: Done  35 out of  60 | elapsed:    4.2s remaining:    3.0s\n",
      "[Parallel(n_jobs=143)]: Done  48 out of  60 | elapsed:    5.5s remaining:    1.4s\n",
      "[Parallel(n_jobs=143)]: Done  60 out of  60 | elapsed:    6.8s finished\n"
     ]
    },
    {
     "name": "stdout",
     "output_type": "stream",
     "text": [
      "Not setting metadata\n"
     ]
    },
    {
     "name": "stderr",
     "output_type": "stream",
     "text": [
      "[Parallel(n_jobs=143)]: Using backend LokyBackend with 143 concurrent workers.\n",
      "[Parallel(n_jobs=143)]: Done   9 out of  60 | elapsed:    0.6s remaining:    3.4s\n",
      "[Parallel(n_jobs=143)]: Done  22 out of  60 | elapsed:    1.1s remaining:    1.9s\n",
      "[Parallel(n_jobs=143)]: Done  35 out of  60 | elapsed:    1.7s remaining:    1.2s\n",
      "[Parallel(n_jobs=143)]: Done  48 out of  60 | elapsed:    2.2s remaining:    0.5s\n",
      "[Parallel(n_jobs=143)]: Done  60 out of  60 | elapsed:    2.7s finished\n"
     ]
    },
    {
     "name": "stdout",
     "output_type": "stream",
     "text": [
      "Not setting metadata\n"
     ]
    },
    {
     "name": "stderr",
     "output_type": "stream",
     "text": [
      "[Parallel(n_jobs=143)]: Using backend LokyBackend with 143 concurrent workers.\n",
      "[Parallel(n_jobs=143)]: Done   9 out of  60 | elapsed:    2.1s remaining:   11.9s\n",
      "[Parallel(n_jobs=143)]: Done  22 out of  60 | elapsed:    4.0s remaining:    7.0s\n",
      "[Parallel(n_jobs=143)]: Done  35 out of  60 | elapsed:    6.0s remaining:    4.3s\n",
      "[Parallel(n_jobs=143)]: Done  48 out of  60 | elapsed:    8.0s remaining:    2.0s\n",
      "[Parallel(n_jobs=143)]: Done  60 out of  60 | elapsed:    9.9s finished\n"
     ]
    },
    {
     "name": "stdout",
     "output_type": "stream",
     "text": [
      "Not setting metadata\n"
     ]
    },
    {
     "name": "stderr",
     "output_type": "stream",
     "text": [
      "[Parallel(n_jobs=143)]: Using backend LokyBackend with 143 concurrent workers.\n",
      "[Parallel(n_jobs=143)]: Done   9 out of  60 | elapsed:    0.6s remaining:    3.5s\n",
      "[Parallel(n_jobs=143)]: Done  22 out of  60 | elapsed:    1.2s remaining:    2.0s\n",
      "[Parallel(n_jobs=143)]: Done  35 out of  60 | elapsed:    1.7s remaining:    1.2s\n",
      "[Parallel(n_jobs=143)]: Done  48 out of  60 | elapsed:    2.3s remaining:    0.6s\n",
      "[Parallel(n_jobs=143)]: Done  60 out of  60 | elapsed:    2.8s finished\n"
     ]
    },
    {
     "name": "stdout",
     "output_type": "stream",
     "text": [
      "Not setting metadata\n"
     ]
    },
    {
     "name": "stderr",
     "output_type": "stream",
     "text": [
      "[Parallel(n_jobs=143)]: Using backend LokyBackend with 143 concurrent workers.\n",
      "[Parallel(n_jobs=143)]: Done   9 out of  60 | elapsed:    0.7s remaining:    3.7s\n",
      "[Parallel(n_jobs=143)]: Done  22 out of  60 | elapsed:    1.2s remaining:    2.1s\n",
      "[Parallel(n_jobs=143)]: Done  35 out of  60 | elapsed:    1.8s remaining:    1.3s\n",
      "[Parallel(n_jobs=143)]: Done  48 out of  60 | elapsed:    2.3s remaining:    0.6s\n",
      "[Parallel(n_jobs=143)]: Done  60 out of  60 | elapsed:    2.8s finished\n"
     ]
    },
    {
     "name": "stdout",
     "output_type": "stream",
     "text": [
      "Not setting metadata\n"
     ]
    },
    {
     "name": "stderr",
     "output_type": "stream",
     "text": [
      "[Parallel(n_jobs=143)]: Using backend LokyBackend with 143 concurrent workers.\n",
      "[Parallel(n_jobs=143)]: Done   9 out of  60 | elapsed:    0.6s remaining:    3.4s\n",
      "[Parallel(n_jobs=143)]: Done  22 out of  60 | elapsed:    1.1s remaining:    1.9s\n",
      "[Parallel(n_jobs=143)]: Done  35 out of  60 | elapsed:    1.6s remaining:    1.1s\n",
      "[Parallel(n_jobs=143)]: Done  48 out of  60 | elapsed:    2.1s remaining:    0.5s\n",
      "[Parallel(n_jobs=143)]: Done  60 out of  60 | elapsed:    2.6s finished\n"
     ]
    },
    {
     "name": "stdout",
     "output_type": "stream",
     "text": [
      "Not setting metadata\n"
     ]
    },
    {
     "name": "stderr",
     "output_type": "stream",
     "text": [
      "[Parallel(n_jobs=143)]: Using backend LokyBackend with 143 concurrent workers.\n",
      "[Parallel(n_jobs=143)]: Done   9 out of  60 | elapsed:    4.5s remaining:   25.6s\n",
      "[Parallel(n_jobs=143)]: Done  22 out of  60 | elapsed:    8.5s remaining:   14.6s\n",
      "[Parallel(n_jobs=143)]: Done  35 out of  60 | elapsed:   12.5s remaining:    8.9s\n",
      "[Parallel(n_jobs=143)]: Done  48 out of  60 | elapsed:   16.5s remaining:    4.1s\n",
      "[Parallel(n_jobs=143)]: Done  60 out of  60 | elapsed:   20.1s finished\n"
     ]
    },
    {
     "name": "stdout",
     "output_type": "stream",
     "text": [
      "Not setting metadata\n",
      "Running VME_S20 ...\n",
      "Reading /raven/ptmp/fklotzsche/Experiments/vMemEcc/Data2022/DataMNE/EEG/03_preproc/pooled/fulllength/collapsed/VME_S20-fulllength-collapsed-epo.fif ...\n",
      "    Found the data of interest:\n",
      "        t =    -600.00 ...    3300.00 ms\n",
      "        0 CTF compensation matrices available\n",
      "Not setting metadata\n",
      "Not setting metadata\n",
      "598 matching events found\n",
      "No baseline correction applied\n",
      "0 projection items activated\n",
      "Subtracting Evoked from Epochs\n",
      "    The following channels are not included in the subtraction: IO1, IO2, LO2, LO1, VEOG, ECG, HEOG\n",
      "[done]\n"
     ]
    },
    {
     "name": "stderr",
     "output_type": "stream",
     "text": [
      "[Parallel(n_jobs=143)]: Using backend LokyBackend with 143 concurrent workers.\n",
      "[Parallel(n_jobs=143)]: Done   9 out of  60 | elapsed:    1.9s remaining:   10.5s\n",
      "[Parallel(n_jobs=143)]: Done  22 out of  60 | elapsed:    3.7s remaining:    6.4s\n",
      "[Parallel(n_jobs=143)]: Done  35 out of  60 | elapsed:    5.5s remaining:    4.0s\n",
      "[Parallel(n_jobs=143)]: Done  48 out of  60 | elapsed:    7.4s remaining:    1.8s\n",
      "[Parallel(n_jobs=143)]: Done  60 out of  60 | elapsed:    9.0s finished\n"
     ]
    },
    {
     "name": "stdout",
     "output_type": "stream",
     "text": [
      "Not setting metadata\n"
     ]
    },
    {
     "name": "stderr",
     "output_type": "stream",
     "text": [
      "[Parallel(n_jobs=143)]: Using backend LokyBackend with 143 concurrent workers.\n",
      "[Parallel(n_jobs=143)]: Done   9 out of  60 | elapsed:    1.1s remaining:    6.0s\n",
      "[Parallel(n_jobs=143)]: Done  22 out of  60 | elapsed:    1.9s remaining:    3.4s\n",
      "[Parallel(n_jobs=143)]: Done  35 out of  60 | elapsed:    2.8s remaining:    2.0s\n",
      "[Parallel(n_jobs=143)]: Done  48 out of  60 | elapsed:    3.8s remaining:    1.0s\n",
      "[Parallel(n_jobs=143)]: Done  60 out of  60 | elapsed:    4.7s finished\n"
     ]
    },
    {
     "name": "stdout",
     "output_type": "stream",
     "text": [
      "Not setting metadata\n"
     ]
    },
    {
     "name": "stderr",
     "output_type": "stream",
     "text": [
      "[Parallel(n_jobs=143)]: Using backend LokyBackend with 143 concurrent workers.\n",
      "[Parallel(n_jobs=143)]: Done   9 out of  60 | elapsed:    0.5s remaining:    2.7s\n",
      "[Parallel(n_jobs=143)]: Done  22 out of  60 | elapsed:    0.9s remaining:    1.6s\n",
      "[Parallel(n_jobs=143)]: Done  35 out of  60 | elapsed:    1.4s remaining:    1.0s\n",
      "[Parallel(n_jobs=143)]: Done  48 out of  60 | elapsed:    1.9s remaining:    0.5s\n",
      "[Parallel(n_jobs=143)]: Done  60 out of  60 | elapsed:    2.3s finished\n"
     ]
    },
    {
     "name": "stdout",
     "output_type": "stream",
     "text": [
      "Not setting metadata\n"
     ]
    },
    {
     "name": "stderr",
     "output_type": "stream",
     "text": [
      "[Parallel(n_jobs=143)]: Using backend LokyBackend with 143 concurrent workers.\n",
      "[Parallel(n_jobs=143)]: Done   9 out of  60 | elapsed:    1.3s remaining:    7.2s\n",
      "[Parallel(n_jobs=143)]: Done  22 out of  60 | elapsed:    2.5s remaining:    4.3s\n",
      "[Parallel(n_jobs=143)]: Done  35 out of  60 | elapsed:    3.7s remaining:    2.6s\n",
      "[Parallel(n_jobs=143)]: Done  48 out of  60 | elapsed:    4.9s remaining:    1.2s\n",
      "[Parallel(n_jobs=143)]: Done  60 out of  60 | elapsed:    5.9s finished\n"
     ]
    },
    {
     "name": "stdout",
     "output_type": "stream",
     "text": [
      "Not setting metadata\n"
     ]
    },
    {
     "name": "stderr",
     "output_type": "stream",
     "text": [
      "[Parallel(n_jobs=143)]: Using backend LokyBackend with 143 concurrent workers.\n",
      "[Parallel(n_jobs=143)]: Done   9 out of  60 | elapsed:    0.5s remaining:    2.9s\n",
      "[Parallel(n_jobs=143)]: Done  22 out of  60 | elapsed:    1.0s remaining:    1.7s\n",
      "[Parallel(n_jobs=143)]: Done  35 out of  60 | elapsed:    1.5s remaining:    1.1s\n",
      "[Parallel(n_jobs=143)]: Done  48 out of  60 | elapsed:    1.9s remaining:    0.5s\n",
      "[Parallel(n_jobs=143)]: Done  60 out of  60 | elapsed:    2.4s finished\n"
     ]
    },
    {
     "name": "stdout",
     "output_type": "stream",
     "text": [
      "Not setting metadata\n"
     ]
    },
    {
     "name": "stderr",
     "output_type": "stream",
     "text": [
      "[Parallel(n_jobs=143)]: Using backend LokyBackend with 143 concurrent workers.\n",
      "[Parallel(n_jobs=143)]: Done   9 out of  60 | elapsed:    1.4s remaining:    7.7s\n",
      "[Parallel(n_jobs=143)]: Done  22 out of  60 | elapsed:    2.7s remaining:    4.6s\n",
      "[Parallel(n_jobs=143)]: Done  35 out of  60 | elapsed:    3.9s remaining:    2.8s\n",
      "[Parallel(n_jobs=143)]: Done  48 out of  60 | elapsed:    5.2s remaining:    1.3s\n",
      "[Parallel(n_jobs=143)]: Done  60 out of  60 | elapsed:    6.3s finished\n"
     ]
    },
    {
     "name": "stdout",
     "output_type": "stream",
     "text": [
      "Not setting metadata\n"
     ]
    },
    {
     "name": "stderr",
     "output_type": "stream",
     "text": [
      "[Parallel(n_jobs=143)]: Using backend LokyBackend with 143 concurrent workers.\n",
      "[Parallel(n_jobs=143)]: Done   9 out of  60 | elapsed:    0.6s remaining:    3.3s\n",
      "[Parallel(n_jobs=143)]: Done  22 out of  60 | elapsed:    1.1s remaining:    1.9s\n",
      "[Parallel(n_jobs=143)]: Done  35 out of  60 | elapsed:    1.6s remaining:    1.1s\n",
      "[Parallel(n_jobs=143)]: Done  48 out of  60 | elapsed:    2.1s remaining:    0.5s\n",
      "[Parallel(n_jobs=143)]: Done  60 out of  60 | elapsed:    2.5s finished\n"
     ]
    },
    {
     "name": "stdout",
     "output_type": "stream",
     "text": [
      "Not setting metadata\n"
     ]
    },
    {
     "name": "stderr",
     "output_type": "stream",
     "text": [
      "[Parallel(n_jobs=143)]: Using backend LokyBackend with 143 concurrent workers.\n",
      "[Parallel(n_jobs=143)]: Done   9 out of  60 | elapsed:    2.1s remaining:   11.8s\n",
      "[Parallel(n_jobs=143)]: Done  22 out of  60 | elapsed:    4.0s remaining:    6.9s\n",
      "[Parallel(n_jobs=143)]: Done  35 out of  60 | elapsed:    5.9s remaining:    4.2s\n",
      "[Parallel(n_jobs=143)]: Done  48 out of  60 | elapsed:    8.0s remaining:    2.0s\n",
      "[Parallel(n_jobs=143)]: Done  60 out of  60 | elapsed:    9.8s finished\n"
     ]
    },
    {
     "name": "stdout",
     "output_type": "stream",
     "text": [
      "Not setting metadata\n"
     ]
    },
    {
     "name": "stderr",
     "output_type": "stream",
     "text": [
      "[Parallel(n_jobs=143)]: Using backend LokyBackend with 143 concurrent workers.\n",
      "[Parallel(n_jobs=143)]: Done   9 out of  60 | elapsed:    0.5s remaining:    3.0s\n",
      "[Parallel(n_jobs=143)]: Done  22 out of  60 | elapsed:    1.0s remaining:    1.7s\n",
      "[Parallel(n_jobs=143)]: Done  35 out of  60 | elapsed:    1.5s remaining:    1.1s\n",
      "[Parallel(n_jobs=143)]: Done  48 out of  60 | elapsed:    1.9s remaining:    0.5s\n",
      "[Parallel(n_jobs=143)]: Done  60 out of  60 | elapsed:    2.4s finished\n"
     ]
    },
    {
     "name": "stdout",
     "output_type": "stream",
     "text": [
      "Not setting metadata\n"
     ]
    },
    {
     "name": "stderr",
     "output_type": "stream",
     "text": [
      "[Parallel(n_jobs=143)]: Using backend LokyBackend with 143 concurrent workers.\n",
      "[Parallel(n_jobs=143)]: Done   9 out of  60 | elapsed:    0.5s remaining:    2.8s\n",
      "[Parallel(n_jobs=143)]: Done  22 out of  60 | elapsed:    0.9s remaining:    1.6s\n",
      "[Parallel(n_jobs=143)]: Done  35 out of  60 | elapsed:    1.4s remaining:    1.0s\n",
      "[Parallel(n_jobs=143)]: Done  48 out of  60 | elapsed:    1.9s remaining:    0.5s\n",
      "[Parallel(n_jobs=143)]: Done  60 out of  60 | elapsed:    2.4s finished\n"
     ]
    },
    {
     "name": "stdout",
     "output_type": "stream",
     "text": [
      "Not setting metadata\n"
     ]
    },
    {
     "name": "stderr",
     "output_type": "stream",
     "text": [
      "[Parallel(n_jobs=143)]: Using backend LokyBackend with 143 concurrent workers.\n",
      "[Parallel(n_jobs=143)]: Done   9 out of  60 | elapsed:    0.6s remaining:    3.5s\n",
      "[Parallel(n_jobs=143)]: Done  22 out of  60 | elapsed:    1.2s remaining:    2.0s\n",
      "[Parallel(n_jobs=143)]: Done  35 out of  60 | elapsed:    1.7s remaining:    1.2s\n",
      "[Parallel(n_jobs=143)]: Done  48 out of  60 | elapsed:    2.3s remaining:    0.6s\n",
      "[Parallel(n_jobs=143)]: Done  60 out of  60 | elapsed:    2.8s finished\n"
     ]
    },
    {
     "name": "stdout",
     "output_type": "stream",
     "text": [
      "Not setting metadata\n"
     ]
    },
    {
     "name": "stderr",
     "output_type": "stream",
     "text": [
      "[Parallel(n_jobs=143)]: Using backend LokyBackend with 143 concurrent workers.\n",
      "[Parallel(n_jobs=143)]: Done   9 out of  60 | elapsed:    4.0s remaining:   22.5s\n",
      "[Parallel(n_jobs=143)]: Done  22 out of  60 | elapsed:    7.5s remaining:   13.0s\n",
      "[Parallel(n_jobs=143)]: Done  35 out of  60 | elapsed:   11.1s remaining:    7.9s\n",
      "[Parallel(n_jobs=143)]: Done  48 out of  60 | elapsed:   14.9s remaining:    3.7s\n",
      "[Parallel(n_jobs=143)]: Done  60 out of  60 | elapsed:   18.4s finished\n"
     ]
    },
    {
     "name": "stdout",
     "output_type": "stream",
     "text": [
      "Not setting metadata\n",
      "Running VME_S21 ...\n",
      "Reading /raven/ptmp/fklotzsche/Experiments/vMemEcc/Data2022/DataMNE/EEG/03_preproc/pooled/fulllength/collapsed/VME_S21-fulllength-collapsed-epo.fif ...\n",
      "    Found the data of interest:\n",
      "        t =    -600.00 ...    3300.00 ms\n",
      "        0 CTF compensation matrices available\n",
      "Not setting metadata\n",
      "Not setting metadata\n",
      "576 matching events found\n",
      "No baseline correction applied\n",
      "0 projection items activated\n",
      "Subtracting Evoked from Epochs\n",
      "    The following channels are not included in the subtraction: IO1, IO2, LO2, LO1, VEOG, ECG, HEOG\n",
      "[done]\n"
     ]
    },
    {
     "name": "stderr",
     "output_type": "stream",
     "text": [
      "[Parallel(n_jobs=143)]: Using backend LokyBackend with 143 concurrent workers.\n",
      "[Parallel(n_jobs=143)]: Done   9 out of  60 | elapsed:    1.8s remaining:   10.4s\n",
      "[Parallel(n_jobs=143)]: Done  22 out of  60 | elapsed:    3.6s remaining:    6.3s\n",
      "[Parallel(n_jobs=143)]: Done  35 out of  60 | elapsed:    5.4s remaining:    3.9s\n",
      "[Parallel(n_jobs=143)]: Done  48 out of  60 | elapsed:    7.2s remaining:    1.8s\n",
      "[Parallel(n_jobs=143)]: Done  60 out of  60 | elapsed:    8.9s finished\n"
     ]
    },
    {
     "name": "stdout",
     "output_type": "stream",
     "text": [
      "Not setting metadata\n"
     ]
    },
    {
     "name": "stderr",
     "output_type": "stream",
     "text": [
      "[Parallel(n_jobs=143)]: Using backend LokyBackend with 143 concurrent workers.\n",
      "[Parallel(n_jobs=143)]: Done   9 out of  60 | elapsed:    0.9s remaining:    5.3s\n",
      "[Parallel(n_jobs=143)]: Done  22 out of  60 | elapsed:    1.8s remaining:    3.0s\n",
      "[Parallel(n_jobs=143)]: Done  35 out of  60 | elapsed:    2.6s remaining:    1.9s\n",
      "[Parallel(n_jobs=143)]: Done  48 out of  60 | elapsed:    3.4s remaining:    0.9s\n",
      "[Parallel(n_jobs=143)]: Done  60 out of  60 | elapsed:    4.3s finished\n"
     ]
    },
    {
     "name": "stdout",
     "output_type": "stream",
     "text": [
      "Not setting metadata\n"
     ]
    },
    {
     "name": "stderr",
     "output_type": "stream",
     "text": [
      "[Parallel(n_jobs=143)]: Using backend LokyBackend with 143 concurrent workers.\n",
      "[Parallel(n_jobs=143)]: Done   9 out of  60 | elapsed:    0.5s remaining:    2.7s\n",
      "[Parallel(n_jobs=143)]: Done  22 out of  60 | elapsed:    0.9s remaining:    1.6s\n",
      "[Parallel(n_jobs=143)]: Done  35 out of  60 | elapsed:    1.4s remaining:    1.0s\n",
      "[Parallel(n_jobs=143)]: Done  48 out of  60 | elapsed:    1.8s remaining:    0.5s\n",
      "[Parallel(n_jobs=143)]: Done  60 out of  60 | elapsed:    2.3s finished\n"
     ]
    },
    {
     "name": "stdout",
     "output_type": "stream",
     "text": [
      "Not setting metadata\n"
     ]
    },
    {
     "name": "stderr",
     "output_type": "stream",
     "text": [
      "[Parallel(n_jobs=143)]: Using backend LokyBackend with 143 concurrent workers.\n",
      "[Parallel(n_jobs=143)]: Done   9 out of  60 | elapsed:    1.0s remaining:    5.7s\n",
      "[Parallel(n_jobs=143)]: Done  22 out of  60 | elapsed:    1.9s remaining:    3.3s\n",
      "[Parallel(n_jobs=143)]: Done  35 out of  60 | elapsed:    2.8s remaining:    2.0s\n",
      "[Parallel(n_jobs=143)]: Done  48 out of  60 | elapsed:    3.7s remaining:    0.9s\n",
      "[Parallel(n_jobs=143)]: Done  60 out of  60 | elapsed:    4.6s finished\n"
     ]
    },
    {
     "name": "stdout",
     "output_type": "stream",
     "text": [
      "Not setting metadata\n"
     ]
    },
    {
     "name": "stderr",
     "output_type": "stream",
     "text": [
      "[Parallel(n_jobs=143)]: Using backend LokyBackend with 143 concurrent workers.\n",
      "[Parallel(n_jobs=143)]: Done   9 out of  60 | elapsed:    0.5s remaining:    2.8s\n",
      "[Parallel(n_jobs=143)]: Done  22 out of  60 | elapsed:    0.9s remaining:    1.6s\n",
      "[Parallel(n_jobs=143)]: Done  35 out of  60 | elapsed:    1.4s remaining:    1.0s\n",
      "[Parallel(n_jobs=143)]: Done  48 out of  60 | elapsed:    1.9s remaining:    0.5s\n",
      "[Parallel(n_jobs=143)]: Done  60 out of  60 | elapsed:    2.3s finished\n"
     ]
    },
    {
     "name": "stdout",
     "output_type": "stream",
     "text": [
      "Not setting metadata\n"
     ]
    },
    {
     "name": "stderr",
     "output_type": "stream",
     "text": [
      "[Parallel(n_jobs=143)]: Using backend LokyBackend with 143 concurrent workers.\n",
      "[Parallel(n_jobs=143)]: Done   9 out of  60 | elapsed:    1.0s remaining:    5.8s\n",
      "[Parallel(n_jobs=143)]: Done  22 out of  60 | elapsed:    1.9s remaining:    3.4s\n",
      "[Parallel(n_jobs=143)]: Done  35 out of  60 | elapsed:    2.9s remaining:    2.1s\n",
      "[Parallel(n_jobs=143)]: Done  48 out of  60 | elapsed:    3.8s remaining:    0.9s\n",
      "[Parallel(n_jobs=143)]: Done  60 out of  60 | elapsed:    4.7s finished\n"
     ]
    },
    {
     "name": "stdout",
     "output_type": "stream",
     "text": [
      "Not setting metadata\n"
     ]
    },
    {
     "name": "stderr",
     "output_type": "stream",
     "text": [
      "[Parallel(n_jobs=143)]: Using backend LokyBackend with 143 concurrent workers.\n",
      "[Parallel(n_jobs=143)]: Done   9 out of  60 | elapsed:    0.6s remaining:    3.1s\n",
      "[Parallel(n_jobs=143)]: Done  22 out of  60 | elapsed:    1.1s remaining:    1.8s\n",
      "[Parallel(n_jobs=143)]: Done  35 out of  60 | elapsed:    1.6s remaining:    1.1s\n",
      "[Parallel(n_jobs=143)]: Done  48 out of  60 | elapsed:    2.1s remaining:    0.5s\n",
      "[Parallel(n_jobs=143)]: Done  60 out of  60 | elapsed:    2.6s finished\n"
     ]
    },
    {
     "name": "stdout",
     "output_type": "stream",
     "text": [
      "Not setting metadata\n"
     ]
    },
    {
     "name": "stderr",
     "output_type": "stream",
     "text": [
      "[Parallel(n_jobs=143)]: Using backend LokyBackend with 143 concurrent workers.\n",
      "[Parallel(n_jobs=143)]: Done   9 out of  60 | elapsed:    1.8s remaining:   10.1s\n",
      "[Parallel(n_jobs=143)]: Done  22 out of  60 | elapsed:    3.5s remaining:    6.0s\n",
      "[Parallel(n_jobs=143)]: Done  35 out of  60 | elapsed:    5.2s remaining:    3.7s\n",
      "[Parallel(n_jobs=143)]: Done  48 out of  60 | elapsed:    6.9s remaining:    1.7s\n",
      "[Parallel(n_jobs=143)]: Done  60 out of  60 | elapsed:    8.4s finished\n"
     ]
    },
    {
     "name": "stdout",
     "output_type": "stream",
     "text": [
      "Not setting metadata\n"
     ]
    },
    {
     "name": "stderr",
     "output_type": "stream",
     "text": [
      "[Parallel(n_jobs=143)]: Using backend LokyBackend with 143 concurrent workers.\n",
      "[Parallel(n_jobs=143)]: Done   9 out of  60 | elapsed:    0.5s remaining:    2.7s\n",
      "[Parallel(n_jobs=143)]: Done  22 out of  60 | elapsed:    0.9s remaining:    1.6s\n",
      "[Parallel(n_jobs=143)]: Done  35 out of  60 | elapsed:    1.4s remaining:    1.0s\n",
      "[Parallel(n_jobs=143)]: Done  48 out of  60 | elapsed:    1.9s remaining:    0.5s\n",
      "[Parallel(n_jobs=143)]: Done  60 out of  60 | elapsed:    2.3s finished\n"
     ]
    },
    {
     "name": "stdout",
     "output_type": "stream",
     "text": [
      "Not setting metadata\n"
     ]
    },
    {
     "name": "stderr",
     "output_type": "stream",
     "text": [
      "[Parallel(n_jobs=143)]: Using backend LokyBackend with 143 concurrent workers.\n",
      "[Parallel(n_jobs=143)]: Done   9 out of  60 | elapsed:    0.5s remaining:    2.9s\n",
      "[Parallel(n_jobs=143)]: Done  22 out of  60 | elapsed:    1.0s remaining:    1.7s\n",
      "[Parallel(n_jobs=143)]: Done  35 out of  60 | elapsed:    1.5s remaining:    1.0s\n",
      "[Parallel(n_jobs=143)]: Done  48 out of  60 | elapsed:    2.0s remaining:    0.5s\n",
      "[Parallel(n_jobs=143)]: Done  60 out of  60 | elapsed:    2.4s finished\n"
     ]
    },
    {
     "name": "stdout",
     "output_type": "stream",
     "text": [
      "Not setting metadata\n"
     ]
    },
    {
     "name": "stderr",
     "output_type": "stream",
     "text": [
      "[Parallel(n_jobs=143)]: Using backend LokyBackend with 143 concurrent workers.\n",
      "[Parallel(n_jobs=143)]: Done   9 out of  60 | elapsed:    0.4s remaining:    2.4s\n",
      "[Parallel(n_jobs=143)]: Done  22 out of  60 | elapsed:    0.8s remaining:    1.4s\n",
      "[Parallel(n_jobs=143)]: Done  35 out of  60 | elapsed:    1.2s remaining:    0.9s\n",
      "[Parallel(n_jobs=143)]: Done  48 out of  60 | elapsed:    1.6s remaining:    0.4s\n",
      "[Parallel(n_jobs=143)]: Done  60 out of  60 | elapsed:    2.0s finished\n"
     ]
    },
    {
     "name": "stdout",
     "output_type": "stream",
     "text": [
      "Not setting metadata\n"
     ]
    },
    {
     "name": "stderr",
     "output_type": "stream",
     "text": [
      "[Parallel(n_jobs=143)]: Using backend LokyBackend with 143 concurrent workers.\n",
      "[Parallel(n_jobs=143)]: Done   9 out of  60 | elapsed:    3.8s remaining:   21.7s\n",
      "[Parallel(n_jobs=143)]: Done  22 out of  60 | elapsed:    7.2s remaining:   12.5s\n",
      "[Parallel(n_jobs=143)]: Done  35 out of  60 | elapsed:   10.6s remaining:    7.6s\n",
      "[Parallel(n_jobs=143)]: Done  48 out of  60 | elapsed:   14.0s remaining:    3.5s\n",
      "[Parallel(n_jobs=143)]: Done  60 out of  60 | elapsed:   17.3s finished\n"
     ]
    },
    {
     "name": "stdout",
     "output_type": "stream",
     "text": [
      "Not setting metadata\n",
      "Running VME_S23 ...\n",
      "Reading /raven/ptmp/fklotzsche/Experiments/vMemEcc/Data2022/DataMNE/EEG/03_preproc/pooled/fulllength/collapsed/VME_S23-fulllength-collapsed-epo.fif ...\n",
      "    Found the data of interest:\n",
      "        t =    -600.00 ...    3300.00 ms\n",
      "        0 CTF compensation matrices available\n",
      "Not setting metadata\n",
      "Not setting metadata\n",
      "701 matching events found\n",
      "No baseline correction applied\n",
      "0 projection items activated\n",
      "Subtracting Evoked from Epochs\n",
      "    The following channels are not included in the subtraction: IO1, IO2, LO2, LO1, VEOG, ECG, HEOG\n",
      "[done]\n"
     ]
    },
    {
     "name": "stderr",
     "output_type": "stream",
     "text": [
      "[Parallel(n_jobs=143)]: Using backend LokyBackend with 143 concurrent workers.\n",
      "[Parallel(n_jobs=143)]: Done   9 out of  60 | elapsed:    2.4s remaining:   13.3s\n",
      "[Parallel(n_jobs=143)]: Done  22 out of  60 | elapsed:    4.5s remaining:    7.8s\n",
      "[Parallel(n_jobs=143)]: Done  35 out of  60 | elapsed:    6.7s remaining:    4.8s\n",
      "[Parallel(n_jobs=143)]: Done  48 out of  60 | elapsed:    8.8s remaining:    2.2s\n",
      "[Parallel(n_jobs=143)]: Done  60 out of  60 | elapsed:   10.8s finished\n"
     ]
    },
    {
     "name": "stdout",
     "output_type": "stream",
     "text": [
      "Not setting metadata\n"
     ]
    },
    {
     "name": "stderr",
     "output_type": "stream",
     "text": [
      "[Parallel(n_jobs=143)]: Using backend LokyBackend with 143 concurrent workers.\n",
      "[Parallel(n_jobs=143)]: Done   9 out of  60 | elapsed:    1.6s remaining:    8.9s\n",
      "[Parallel(n_jobs=143)]: Done  22 out of  60 | elapsed:    2.9s remaining:    5.1s\n",
      "[Parallel(n_jobs=143)]: Done  35 out of  60 | elapsed:    4.3s remaining:    3.1s\n",
      "[Parallel(n_jobs=143)]: Done  48 out of  60 | elapsed:    5.8s remaining:    1.4s\n",
      "[Parallel(n_jobs=143)]: Done  60 out of  60 | elapsed:    7.1s finished\n"
     ]
    },
    {
     "name": "stdout",
     "output_type": "stream",
     "text": [
      "Not setting metadata\n"
     ]
    },
    {
     "name": "stderr",
     "output_type": "stream",
     "text": [
      "[Parallel(n_jobs=143)]: Using backend LokyBackend with 143 concurrent workers.\n",
      "[Parallel(n_jobs=143)]: Done   9 out of  60 | elapsed:    0.6s remaining:    3.2s\n",
      "[Parallel(n_jobs=143)]: Done  22 out of  60 | elapsed:    1.2s remaining:    2.0s\n",
      "[Parallel(n_jobs=143)]: Done  35 out of  60 | elapsed:    1.9s remaining:    1.3s\n",
      "[Parallel(n_jobs=143)]: Done  48 out of  60 | elapsed:    2.6s remaining:    0.6s\n",
      "[Parallel(n_jobs=143)]: Done  60 out of  60 | elapsed:    3.2s finished\n"
     ]
    },
    {
     "name": "stdout",
     "output_type": "stream",
     "text": [
      "Not setting metadata\n"
     ]
    },
    {
     "name": "stderr",
     "output_type": "stream",
     "text": [
      "[Parallel(n_jobs=143)]: Using backend LokyBackend with 143 concurrent workers.\n",
      "[Parallel(n_jobs=143)]: Done   9 out of  60 | elapsed:    1.5s remaining:    8.6s\n",
      "[Parallel(n_jobs=143)]: Done  22 out of  60 | elapsed:    2.9s remaining:    5.0s\n",
      "[Parallel(n_jobs=143)]: Done  35 out of  60 | elapsed:    4.4s remaining:    3.1s\n",
      "[Parallel(n_jobs=143)]: Done  48 out of  60 | elapsed:    5.8s remaining:    1.4s\n",
      "[Parallel(n_jobs=143)]: Done  60 out of  60 | elapsed:    7.1s finished\n"
     ]
    },
    {
     "name": "stdout",
     "output_type": "stream",
     "text": [
      "Not setting metadata\n"
     ]
    },
    {
     "name": "stderr",
     "output_type": "stream",
     "text": [
      "[Parallel(n_jobs=143)]: Using backend LokyBackend with 143 concurrent workers.\n",
      "[Parallel(n_jobs=143)]: Done   9 out of  60 | elapsed:    0.8s remaining:    4.3s\n",
      "[Parallel(n_jobs=143)]: Done  22 out of  60 | elapsed:    1.5s remaining:    2.6s\n",
      "[Parallel(n_jobs=143)]: Done  35 out of  60 | elapsed:    2.2s remaining:    1.6s\n",
      "[Parallel(n_jobs=143)]: Done  48 out of  60 | elapsed:    3.0s remaining:    0.7s\n",
      "[Parallel(n_jobs=143)]: Done  60 out of  60 | elapsed:    3.7s finished\n"
     ]
    },
    {
     "name": "stdout",
     "output_type": "stream",
     "text": [
      "Not setting metadata\n"
     ]
    },
    {
     "name": "stderr",
     "output_type": "stream",
     "text": [
      "[Parallel(n_jobs=143)]: Using backend LokyBackend with 143 concurrent workers.\n",
      "[Parallel(n_jobs=143)]: Done   9 out of  60 | elapsed:    1.5s remaining:    8.6s\n",
      "[Parallel(n_jobs=143)]: Done  22 out of  60 | elapsed:    3.0s remaining:    5.2s\n",
      "[Parallel(n_jobs=143)]: Done  35 out of  60 | elapsed:    4.4s remaining:    3.1s\n",
      "[Parallel(n_jobs=143)]: Done  48 out of  60 | elapsed:    5.8s remaining:    1.4s\n",
      "[Parallel(n_jobs=143)]: Done  60 out of  60 | elapsed:    7.0s finished\n"
     ]
    },
    {
     "name": "stdout",
     "output_type": "stream",
     "text": [
      "Not setting metadata\n"
     ]
    },
    {
     "name": "stderr",
     "output_type": "stream",
     "text": [
      "[Parallel(n_jobs=143)]: Using backend LokyBackend with 143 concurrent workers.\n",
      "[Parallel(n_jobs=143)]: Done   9 out of  60 | elapsed:    0.6s remaining:    3.3s\n",
      "[Parallel(n_jobs=143)]: Done  22 out of  60 | elapsed:    1.1s remaining:    1.9s\n",
      "[Parallel(n_jobs=143)]: Done  35 out of  60 | elapsed:    1.7s remaining:    1.2s\n",
      "[Parallel(n_jobs=143)]: Done  48 out of  60 | elapsed:    2.3s remaining:    0.6s\n",
      "[Parallel(n_jobs=143)]: Done  60 out of  60 | elapsed:    2.8s finished\n"
     ]
    },
    {
     "name": "stdout",
     "output_type": "stream",
     "text": [
      "Not setting metadata\n"
     ]
    },
    {
     "name": "stderr",
     "output_type": "stream",
     "text": [
      "[Parallel(n_jobs=143)]: Using backend LokyBackend with 143 concurrent workers.\n",
      "[Parallel(n_jobs=143)]: Done   9 out of  60 | elapsed:    2.3s remaining:   13.2s\n",
      "[Parallel(n_jobs=143)]: Done  22 out of  60 | elapsed:    4.4s remaining:    7.7s\n",
      "[Parallel(n_jobs=143)]: Done  35 out of  60 | elapsed:    6.6s remaining:    4.7s\n",
      "[Parallel(n_jobs=143)]: Done  48 out of  60 | elapsed:    8.7s remaining:    2.2s\n",
      "[Parallel(n_jobs=143)]: Done  60 out of  60 | elapsed:   11.0s finished\n"
     ]
    },
    {
     "name": "stdout",
     "output_type": "stream",
     "text": [
      "Not setting metadata\n"
     ]
    },
    {
     "name": "stderr",
     "output_type": "stream",
     "text": [
      "[Parallel(n_jobs=143)]: Using backend LokyBackend with 143 concurrent workers.\n",
      "[Parallel(n_jobs=143)]: Done   9 out of  60 | elapsed:    0.6s remaining:    3.4s\n",
      "[Parallel(n_jobs=143)]: Done  22 out of  60 | elapsed:    1.3s remaining:    2.3s\n",
      "[Parallel(n_jobs=143)]: Done  35 out of  60 | elapsed:    2.0s remaining:    1.4s\n",
      "[Parallel(n_jobs=143)]: Done  48 out of  60 | elapsed:    2.7s remaining:    0.7s\n",
      "[Parallel(n_jobs=143)]: Done  60 out of  60 | elapsed:    3.3s finished\n"
     ]
    },
    {
     "name": "stdout",
     "output_type": "stream",
     "text": [
      "Not setting metadata\n"
     ]
    },
    {
     "name": "stderr",
     "output_type": "stream",
     "text": [
      "[Parallel(n_jobs=143)]: Using backend LokyBackend with 143 concurrent workers.\n",
      "[Parallel(n_jobs=143)]: Done   9 out of  60 | elapsed:    0.7s remaining:    4.2s\n",
      "[Parallel(n_jobs=143)]: Done  22 out of  60 | elapsed:    1.5s remaining:    2.7s\n",
      "[Parallel(n_jobs=143)]: Done  35 out of  60 | elapsed:    2.4s remaining:    1.7s\n",
      "[Parallel(n_jobs=143)]: Done  48 out of  60 | elapsed:    3.2s remaining:    0.8s\n",
      "[Parallel(n_jobs=143)]: Done  60 out of  60 | elapsed:    3.9s finished\n"
     ]
    },
    {
     "name": "stdout",
     "output_type": "stream",
     "text": [
      "Not setting metadata\n"
     ]
    },
    {
     "name": "stderr",
     "output_type": "stream",
     "text": [
      "[Parallel(n_jobs=143)]: Using backend LokyBackend with 143 concurrent workers.\n",
      "[Parallel(n_jobs=143)]: Done   9 out of  60 | elapsed:    0.6s remaining:    3.2s\n",
      "[Parallel(n_jobs=143)]: Done  22 out of  60 | elapsed:    1.1s remaining:    1.9s\n",
      "[Parallel(n_jobs=143)]: Done  35 out of  60 | elapsed:    1.7s remaining:    1.2s\n",
      "[Parallel(n_jobs=143)]: Done  48 out of  60 | elapsed:    2.3s remaining:    0.6s\n",
      "[Parallel(n_jobs=143)]: Done  60 out of  60 | elapsed:    2.8s finished\n"
     ]
    },
    {
     "name": "stdout",
     "output_type": "stream",
     "text": [
      "Not setting metadata\n"
     ]
    },
    {
     "name": "stderr",
     "output_type": "stream",
     "text": [
      "[Parallel(n_jobs=143)]: Using backend LokyBackend with 143 concurrent workers.\n",
      "[Parallel(n_jobs=143)]: Done   9 out of  60 | elapsed:    4.8s remaining:   27.2s\n",
      "[Parallel(n_jobs=143)]: Done  22 out of  60 | elapsed:    8.9s remaining:   15.4s\n",
      "[Parallel(n_jobs=143)]: Done  35 out of  60 | elapsed:   13.1s remaining:    9.4s\n",
      "[Parallel(n_jobs=143)]: Done  48 out of  60 | elapsed:   17.4s remaining:    4.3s\n",
      "[Parallel(n_jobs=143)]: Done  60 out of  60 | elapsed:   22.7s finished\n"
     ]
    },
    {
     "name": "stdout",
     "output_type": "stream",
     "text": [
      "Not setting metadata\n",
      "Running VME_S24 ...\n",
      "Reading /raven/ptmp/fklotzsche/Experiments/vMemEcc/Data2022/DataMNE/EEG/03_preproc/pooled/fulllength/collapsed/VME_S24-fulllength-collapsed-epo.fif ...\n",
      "    Found the data of interest:\n",
      "        t =    -600.00 ...    3300.00 ms\n",
      "        0 CTF compensation matrices available\n",
      "Not setting metadata\n",
      "Not setting metadata\n",
      "697 matching events found\n",
      "No baseline correction applied\n",
      "0 projection items activated\n",
      "Subtracting Evoked from Epochs\n",
      "    The following channels are not included in the subtraction: IO1, IO2, LO2, LO1, VEOG, ECG, HEOG\n",
      "[done]\n"
     ]
    },
    {
     "name": "stderr",
     "output_type": "stream",
     "text": [
      "[Parallel(n_jobs=143)]: Using backend LokyBackend with 143 concurrent workers.\n",
      "[Parallel(n_jobs=143)]: Done   9 out of  60 | elapsed:    2.4s remaining:   13.5s\n",
      "[Parallel(n_jobs=143)]: Done  22 out of  60 | elapsed:    4.5s remaining:    7.7s\n",
      "[Parallel(n_jobs=143)]: Done  35 out of  60 | elapsed:    6.6s remaining:    4.7s\n",
      "[Parallel(n_jobs=143)]: Done  48 out of  60 | elapsed:    8.7s remaining:    2.2s\n",
      "[Parallel(n_jobs=143)]: Done  60 out of  60 | elapsed:   10.7s finished\n"
     ]
    },
    {
     "name": "stdout",
     "output_type": "stream",
     "text": [
      "Not setting metadata\n"
     ]
    },
    {
     "name": "stderr",
     "output_type": "stream",
     "text": [
      "[Parallel(n_jobs=143)]: Using backend LokyBackend with 143 concurrent workers.\n",
      "[Parallel(n_jobs=143)]: Done   9 out of  60 | elapsed:    1.5s remaining:    8.5s\n",
      "[Parallel(n_jobs=143)]: Done  22 out of  60 | elapsed:    2.8s remaining:    4.9s\n",
      "[Parallel(n_jobs=143)]: Done  35 out of  60 | elapsed:    4.2s remaining:    3.0s\n",
      "[Parallel(n_jobs=143)]: Done  48 out of  60 | elapsed:    5.6s remaining:    1.4s\n",
      "[Parallel(n_jobs=143)]: Done  60 out of  60 | elapsed:    6.8s finished\n"
     ]
    },
    {
     "name": "stdout",
     "output_type": "stream",
     "text": [
      "Not setting metadata\n"
     ]
    },
    {
     "name": "stderr",
     "output_type": "stream",
     "text": [
      "[Parallel(n_jobs=143)]: Using backend LokyBackend with 143 concurrent workers.\n",
      "[Parallel(n_jobs=143)]: Done   9 out of  60 | elapsed:    0.6s remaining:    3.4s\n",
      "[Parallel(n_jobs=143)]: Done  22 out of  60 | elapsed:    1.2s remaining:    2.0s\n",
      "[Parallel(n_jobs=143)]: Done  35 out of  60 | elapsed:    1.7s remaining:    1.2s\n",
      "[Parallel(n_jobs=143)]: Done  48 out of  60 | elapsed:    2.3s remaining:    0.6s\n",
      "[Parallel(n_jobs=143)]: Done  60 out of  60 | elapsed:    2.9s finished\n"
     ]
    },
    {
     "name": "stdout",
     "output_type": "stream",
     "text": [
      "Not setting metadata\n"
     ]
    },
    {
     "name": "stderr",
     "output_type": "stream",
     "text": [
      "[Parallel(n_jobs=143)]: Using backend LokyBackend with 143 concurrent workers.\n",
      "[Parallel(n_jobs=143)]: Done   9 out of  60 | elapsed:    1.5s remaining:    8.5s\n",
      "[Parallel(n_jobs=143)]: Done  22 out of  60 | elapsed:    2.8s remaining:    4.9s\n",
      "[Parallel(n_jobs=143)]: Done  35 out of  60 | elapsed:    4.2s remaining:    3.0s\n",
      "[Parallel(n_jobs=143)]: Done  48 out of  60 | elapsed:    5.6s remaining:    1.4s\n",
      "[Parallel(n_jobs=143)]: Done  60 out of  60 | elapsed:    6.8s finished\n"
     ]
    },
    {
     "name": "stdout",
     "output_type": "stream",
     "text": [
      "Not setting metadata\n"
     ]
    },
    {
     "name": "stderr",
     "output_type": "stream",
     "text": [
      "[Parallel(n_jobs=143)]: Using backend LokyBackend with 143 concurrent workers.\n",
      "[Parallel(n_jobs=143)]: Done   9 out of  60 | elapsed:    0.6s remaining:    3.5s\n",
      "[Parallel(n_jobs=143)]: Done  22 out of  60 | elapsed:    1.2s remaining:    2.1s\n",
      "[Parallel(n_jobs=143)]: Done  35 out of  60 | elapsed:    1.9s remaining:    1.4s\n",
      "[Parallel(n_jobs=143)]: Done  48 out of  60 | elapsed:    2.6s remaining:    0.6s\n",
      "[Parallel(n_jobs=143)]: Done  60 out of  60 | elapsed:    3.2s finished\n"
     ]
    },
    {
     "name": "stdout",
     "output_type": "stream",
     "text": [
      "Not setting metadata\n"
     ]
    },
    {
     "name": "stderr",
     "output_type": "stream",
     "text": [
      "[Parallel(n_jobs=143)]: Using backend LokyBackend with 143 concurrent workers.\n",
      "[Parallel(n_jobs=143)]: Done   9 out of  60 | elapsed:    1.5s remaining:    8.7s\n",
      "[Parallel(n_jobs=143)]: Done  22 out of  60 | elapsed:    2.9s remaining:    5.1s\n",
      "[Parallel(n_jobs=143)]: Done  35 out of  60 | elapsed:    4.3s remaining:    3.1s\n",
      "[Parallel(n_jobs=143)]: Done  48 out of  60 | elapsed:    5.7s remaining:    1.4s\n",
      "[Parallel(n_jobs=143)]: Done  60 out of  60 | elapsed:    7.0s finished\n"
     ]
    },
    {
     "name": "stdout",
     "output_type": "stream",
     "text": [
      "Not setting metadata\n"
     ]
    },
    {
     "name": "stderr",
     "output_type": "stream",
     "text": [
      "[Parallel(n_jobs=143)]: Using backend LokyBackend with 143 concurrent workers.\n",
      "[Parallel(n_jobs=143)]: Done   9 out of  60 | elapsed:    0.6s remaining:    3.6s\n",
      "[Parallel(n_jobs=143)]: Done  22 out of  60 | elapsed:    1.2s remaining:    2.1s\n",
      "[Parallel(n_jobs=143)]: Done  35 out of  60 | elapsed:    1.8s remaining:    1.3s\n",
      "[Parallel(n_jobs=143)]: Done  48 out of  60 | elapsed:    2.4s remaining:    0.6s\n",
      "[Parallel(n_jobs=143)]: Done  60 out of  60 | elapsed:    2.9s finished\n"
     ]
    },
    {
     "name": "stdout",
     "output_type": "stream",
     "text": [
      "Not setting metadata\n"
     ]
    },
    {
     "name": "stderr",
     "output_type": "stream",
     "text": [
      "[Parallel(n_jobs=143)]: Using backend LokyBackend with 143 concurrent workers.\n",
      "[Parallel(n_jobs=143)]: Done   9 out of  60 | elapsed:    2.3s remaining:   12.9s\n",
      "[Parallel(n_jobs=143)]: Done  22 out of  60 | elapsed:    4.6s remaining:    7.9s\n",
      "[Parallel(n_jobs=143)]: Done  35 out of  60 | elapsed:    6.7s remaining:    4.8s\n",
      "[Parallel(n_jobs=143)]: Done  48 out of  60 | elapsed:    8.8s remaining:    2.2s\n",
      "[Parallel(n_jobs=143)]: Done  60 out of  60 | elapsed:   11.2s finished\n"
     ]
    },
    {
     "name": "stdout",
     "output_type": "stream",
     "text": [
      "Not setting metadata\n"
     ]
    },
    {
     "name": "stderr",
     "output_type": "stream",
     "text": [
      "[Parallel(n_jobs=143)]: Using backend LokyBackend with 143 concurrent workers.\n",
      "[Parallel(n_jobs=143)]: Done   9 out of  60 | elapsed:    0.6s remaining:    3.4s\n",
      "[Parallel(n_jobs=143)]: Done  22 out of  60 | elapsed:    1.2s remaining:    2.0s\n",
      "[Parallel(n_jobs=143)]: Done  35 out of  60 | elapsed:    1.7s remaining:    1.2s\n",
      "[Parallel(n_jobs=143)]: Done  48 out of  60 | elapsed:    2.2s remaining:    0.6s\n",
      "[Parallel(n_jobs=143)]: Done  60 out of  60 | elapsed:    2.7s finished\n"
     ]
    },
    {
     "name": "stdout",
     "output_type": "stream",
     "text": [
      "Not setting metadata\n"
     ]
    },
    {
     "name": "stderr",
     "output_type": "stream",
     "text": [
      "[Parallel(n_jobs=143)]: Using backend LokyBackend with 143 concurrent workers.\n",
      "[Parallel(n_jobs=143)]: Done   9 out of  60 | elapsed:    0.6s remaining:    3.6s\n",
      "[Parallel(n_jobs=143)]: Done  22 out of  60 | elapsed:    1.2s remaining:    2.1s\n",
      "[Parallel(n_jobs=143)]: Done  35 out of  60 | elapsed:    1.7s remaining:    1.2s\n",
      "[Parallel(n_jobs=143)]: Done  48 out of  60 | elapsed:    2.3s remaining:    0.6s\n",
      "[Parallel(n_jobs=143)]: Done  60 out of  60 | elapsed:    2.8s finished\n"
     ]
    },
    {
     "name": "stdout",
     "output_type": "stream",
     "text": [
      "Not setting metadata\n"
     ]
    },
    {
     "name": "stderr",
     "output_type": "stream",
     "text": [
      "[Parallel(n_jobs=143)]: Using backend LokyBackend with 143 concurrent workers.\n",
      "[Parallel(n_jobs=143)]: Done   9 out of  60 | elapsed:    0.7s remaining:    3.8s\n",
      "[Parallel(n_jobs=143)]: Done  22 out of  60 | elapsed:    1.3s remaining:    2.2s\n",
      "[Parallel(n_jobs=143)]: Done  35 out of  60 | elapsed:    1.9s remaining:    1.4s\n",
      "[Parallel(n_jobs=143)]: Done  48 out of  60 | elapsed:    2.5s remaining:    0.6s\n",
      "[Parallel(n_jobs=143)]: Done  60 out of  60 | elapsed:    3.1s finished\n"
     ]
    },
    {
     "name": "stdout",
     "output_type": "stream",
     "text": [
      "Not setting metadata\n"
     ]
    },
    {
     "name": "stderr",
     "output_type": "stream",
     "text": [
      "[Parallel(n_jobs=143)]: Using backend LokyBackend with 143 concurrent workers.\n",
      "[Parallel(n_jobs=143)]: Done   9 out of  60 | elapsed:    4.9s remaining:   27.9s\n",
      "[Parallel(n_jobs=143)]: Done  22 out of  60 | elapsed:    9.1s remaining:   15.7s\n",
      "[Parallel(n_jobs=143)]: Done  35 out of  60 | elapsed:   13.2s remaining:    9.4s\n",
      "[Parallel(n_jobs=143)]: Done  48 out of  60 | elapsed:   18.0s remaining:    4.5s\n",
      "[Parallel(n_jobs=143)]: Done  60 out of  60 | elapsed:   22.6s finished\n"
     ]
    },
    {
     "name": "stdout",
     "output_type": "stream",
     "text": [
      "Not setting metadata\n",
      "Running VME_S25 ...\n",
      "Reading /raven/ptmp/fklotzsche/Experiments/vMemEcc/Data2022/DataMNE/EEG/03_preproc/pooled/fulllength/collapsed/VME_S25-fulllength-collapsed-epo.fif ...\n",
      "    Found the data of interest:\n",
      "        t =    -600.00 ...    3300.00 ms\n",
      "        0 CTF compensation matrices available\n",
      "Not setting metadata\n",
      "Not setting metadata\n",
      "616 matching events found\n",
      "No baseline correction applied\n",
      "0 projection items activated\n",
      "Subtracting Evoked from Epochs\n",
      "    The following channels are not included in the subtraction: IO1, IO2, LO2, LO1, VEOG, ECG, HEOG\n",
      "[done]\n"
     ]
    },
    {
     "name": "stderr",
     "output_type": "stream",
     "text": [
      "[Parallel(n_jobs=143)]: Using backend LokyBackend with 143 concurrent workers.\n",
      "[Parallel(n_jobs=143)]: Done   9 out of  60 | elapsed:    2.2s remaining:   12.3s\n",
      "[Parallel(n_jobs=143)]: Done  22 out of  60 | elapsed:    4.2s remaining:    7.3s\n",
      "[Parallel(n_jobs=143)]: Done  35 out of  60 | elapsed:    6.7s remaining:    4.8s\n",
      "[Parallel(n_jobs=143)]: Done  48 out of  60 | elapsed:    8.9s remaining:    2.2s\n",
      "[Parallel(n_jobs=143)]: Done  60 out of  60 | elapsed:   10.6s finished\n"
     ]
    },
    {
     "name": "stdout",
     "output_type": "stream",
     "text": [
      "Not setting metadata\n"
     ]
    },
    {
     "name": "stderr",
     "output_type": "stream",
     "text": [
      "[Parallel(n_jobs=143)]: Using backend LokyBackend with 143 concurrent workers.\n",
      "[Parallel(n_jobs=143)]: Done   9 out of  60 | elapsed:    1.3s remaining:    7.5s\n",
      "[Parallel(n_jobs=143)]: Done  22 out of  60 | elapsed:    2.6s remaining:    4.5s\n",
      "[Parallel(n_jobs=143)]: Done  35 out of  60 | elapsed:    3.9s remaining:    2.8s\n",
      "[Parallel(n_jobs=143)]: Done  48 out of  60 | elapsed:    5.2s remaining:    1.3s\n",
      "[Parallel(n_jobs=143)]: Done  60 out of  60 | elapsed:    6.4s finished\n"
     ]
    },
    {
     "name": "stdout",
     "output_type": "stream",
     "text": [
      "Not setting metadata\n"
     ]
    },
    {
     "name": "stderr",
     "output_type": "stream",
     "text": [
      "[Parallel(n_jobs=143)]: Using backend LokyBackend with 143 concurrent workers.\n",
      "[Parallel(n_jobs=143)]: Done   9 out of  60 | elapsed:    0.6s remaining:    3.5s\n",
      "[Parallel(n_jobs=143)]: Done  22 out of  60 | elapsed:    1.1s remaining:    2.0s\n",
      "[Parallel(n_jobs=143)]: Done  35 out of  60 | elapsed:    1.6s remaining:    1.2s\n",
      "[Parallel(n_jobs=143)]: Done  48 out of  60 | elapsed:    2.2s remaining:    0.5s\n",
      "[Parallel(n_jobs=143)]: Done  60 out of  60 | elapsed:    2.6s finished\n"
     ]
    },
    {
     "name": "stdout",
     "output_type": "stream",
     "text": [
      "Not setting metadata\n"
     ]
    },
    {
     "name": "stderr",
     "output_type": "stream",
     "text": [
      "[Parallel(n_jobs=143)]: Using backend LokyBackend with 143 concurrent workers.\n",
      "[Parallel(n_jobs=143)]: Done   9 out of  60 | elapsed:    1.3s remaining:    7.5s\n",
      "[Parallel(n_jobs=143)]: Done  22 out of  60 | elapsed:    2.6s remaining:    4.5s\n",
      "[Parallel(n_jobs=143)]: Done  35 out of  60 | elapsed:    3.8s remaining:    2.7s\n",
      "[Parallel(n_jobs=143)]: Done  48 out of  60 | elapsed:    5.1s remaining:    1.3s\n",
      "[Parallel(n_jobs=143)]: Done  60 out of  60 | elapsed:    6.3s finished\n"
     ]
    },
    {
     "name": "stdout",
     "output_type": "stream",
     "text": [
      "Not setting metadata\n"
     ]
    },
    {
     "name": "stderr",
     "output_type": "stream",
     "text": [
      "[Parallel(n_jobs=143)]: Using backend LokyBackend with 143 concurrent workers.\n",
      "[Parallel(n_jobs=143)]: Done   9 out of  60 | elapsed:    0.6s remaining:    3.4s\n",
      "[Parallel(n_jobs=143)]: Done  22 out of  60 | elapsed:    1.1s remaining:    1.9s\n",
      "[Parallel(n_jobs=143)]: Done  35 out of  60 | elapsed:    1.7s remaining:    1.2s\n",
      "[Parallel(n_jobs=143)]: Done  48 out of  60 | elapsed:    2.2s remaining:    0.5s\n",
      "[Parallel(n_jobs=143)]: Done  60 out of  60 | elapsed:    2.7s finished\n"
     ]
    },
    {
     "name": "stdout",
     "output_type": "stream",
     "text": [
      "Not setting metadata\n"
     ]
    },
    {
     "name": "stderr",
     "output_type": "stream",
     "text": [
      "[Parallel(n_jobs=143)]: Using backend LokyBackend with 143 concurrent workers.\n",
      "[Parallel(n_jobs=143)]: Done   9 out of  60 | elapsed:    1.3s remaining:    7.6s\n",
      "[Parallel(n_jobs=143)]: Done  22 out of  60 | elapsed:    2.6s remaining:    4.6s\n",
      "[Parallel(n_jobs=143)]: Done  35 out of  60 | elapsed:    3.9s remaining:    2.8s\n",
      "[Parallel(n_jobs=143)]: Done  48 out of  60 | elapsed:    5.2s remaining:    1.3s\n",
      "[Parallel(n_jobs=143)]: Done  60 out of  60 | elapsed:    6.3s finished\n"
     ]
    },
    {
     "name": "stdout",
     "output_type": "stream",
     "text": [
      "Not setting metadata\n"
     ]
    },
    {
     "name": "stderr",
     "output_type": "stream",
     "text": [
      "[Parallel(n_jobs=143)]: Using backend LokyBackend with 143 concurrent workers.\n",
      "[Parallel(n_jobs=143)]: Done   9 out of  60 | elapsed:    0.6s remaining:    3.4s\n",
      "[Parallel(n_jobs=143)]: Done  22 out of  60 | elapsed:    1.2s remaining:    2.0s\n",
      "[Parallel(n_jobs=143)]: Done  35 out of  60 | elapsed:    1.8s remaining:    1.3s\n",
      "[Parallel(n_jobs=143)]: Done  48 out of  60 | elapsed:    2.4s remaining:    0.6s\n",
      "[Parallel(n_jobs=143)]: Done  60 out of  60 | elapsed:    2.9s finished\n"
     ]
    },
    {
     "name": "stdout",
     "output_type": "stream",
     "text": [
      "Not setting metadata\n"
     ]
    },
    {
     "name": "stderr",
     "output_type": "stream",
     "text": [
      "[Parallel(n_jobs=143)]: Using backend LokyBackend with 143 concurrent workers.\n",
      "[Parallel(n_jobs=143)]: Done   9 out of  60 | elapsed:    2.0s remaining:   11.4s\n",
      "[Parallel(n_jobs=143)]: Done  22 out of  60 | elapsed:    4.4s remaining:    7.6s\n",
      "[Parallel(n_jobs=143)]: Done  35 out of  60 | elapsed:    7.0s remaining:    5.0s\n",
      "[Parallel(n_jobs=143)]: Done  48 out of  60 | elapsed:    9.5s remaining:    2.4s\n",
      "[Parallel(n_jobs=143)]: Done  60 out of  60 | elapsed:   11.8s finished\n"
     ]
    },
    {
     "name": "stdout",
     "output_type": "stream",
     "text": [
      "Not setting metadata\n"
     ]
    },
    {
     "name": "stderr",
     "output_type": "stream",
     "text": [
      "[Parallel(n_jobs=143)]: Using backend LokyBackend with 143 concurrent workers.\n",
      "[Parallel(n_jobs=143)]: Done   9 out of  60 | elapsed:    0.6s remaining:    3.2s\n",
      "[Parallel(n_jobs=143)]: Done  22 out of  60 | elapsed:    1.0s remaining:    1.8s\n",
      "[Parallel(n_jobs=143)]: Done  35 out of  60 | elapsed:    1.5s remaining:    1.1s\n",
      "[Parallel(n_jobs=143)]: Done  48 out of  60 | elapsed:    2.1s remaining:    0.5s\n",
      "[Parallel(n_jobs=143)]: Done  60 out of  60 | elapsed:    2.6s finished\n"
     ]
    },
    {
     "name": "stdout",
     "output_type": "stream",
     "text": [
      "Not setting metadata\n"
     ]
    },
    {
     "name": "stderr",
     "output_type": "stream",
     "text": [
      "[Parallel(n_jobs=143)]: Using backend LokyBackend with 143 concurrent workers.\n",
      "[Parallel(n_jobs=143)]: Done   9 out of  60 | elapsed:    0.6s remaining:    3.3s\n",
      "[Parallel(n_jobs=143)]: Done  22 out of  60 | elapsed:    1.1s remaining:    1.9s\n",
      "[Parallel(n_jobs=143)]: Done  35 out of  60 | elapsed:    1.6s remaining:    1.1s\n",
      "[Parallel(n_jobs=143)]: Done  48 out of  60 | elapsed:    2.1s remaining:    0.5s\n",
      "[Parallel(n_jobs=143)]: Done  60 out of  60 | elapsed:    2.5s finished\n"
     ]
    },
    {
     "name": "stdout",
     "output_type": "stream",
     "text": [
      "Not setting metadata\n"
     ]
    },
    {
     "name": "stderr",
     "output_type": "stream",
     "text": [
      "[Parallel(n_jobs=143)]: Using backend LokyBackend with 143 concurrent workers.\n",
      "[Parallel(n_jobs=143)]: Done   9 out of  60 | elapsed:    0.6s remaining:    3.2s\n",
      "[Parallel(n_jobs=143)]: Done  22 out of  60 | elapsed:    1.1s remaining:    1.9s\n",
      "[Parallel(n_jobs=143)]: Done  35 out of  60 | elapsed:    1.6s remaining:    1.2s\n",
      "[Parallel(n_jobs=143)]: Done  48 out of  60 | elapsed:    2.1s remaining:    0.5s\n",
      "[Parallel(n_jobs=143)]: Done  60 out of  60 | elapsed:    2.6s finished\n"
     ]
    },
    {
     "name": "stdout",
     "output_type": "stream",
     "text": [
      "Not setting metadata\n"
     ]
    },
    {
     "name": "stderr",
     "output_type": "stream",
     "text": [
      "[Parallel(n_jobs=143)]: Using backend LokyBackend with 143 concurrent workers.\n",
      "[Parallel(n_jobs=143)]: Done   9 out of  60 | elapsed:    4.3s remaining:   24.2s\n",
      "[Parallel(n_jobs=143)]: Done  22 out of  60 | elapsed:    7.9s remaining:   13.7s\n",
      "[Parallel(n_jobs=143)]: Done  35 out of  60 | elapsed:   11.6s remaining:    8.3s\n",
      "[Parallel(n_jobs=143)]: Done  48 out of  60 | elapsed:   15.4s remaining:    3.9s\n",
      "[Parallel(n_jobs=143)]: Done  60 out of  60 | elapsed:   18.9s finished\n"
     ]
    },
    {
     "name": "stdout",
     "output_type": "stream",
     "text": [
      "Not setting metadata\n",
      "Running VME_S26 ...\n",
      "Reading /raven/ptmp/fklotzsche/Experiments/vMemEcc/Data2022/DataMNE/EEG/03_preproc/pooled/fulllength/collapsed/VME_S26-fulllength-collapsed-epo.fif ...\n",
      "    Found the data of interest:\n",
      "        t =    -600.00 ...    3300.00 ms\n",
      "        0 CTF compensation matrices available\n",
      "Not setting metadata\n",
      "Not setting metadata\n",
      "662 matching events found\n",
      "No baseline correction applied\n",
      "0 projection items activated\n",
      "Subtracting Evoked from Epochs\n",
      "    The following channels are not included in the subtraction: IO1, IO2, LO2, LO1, VEOG, ECG, HEOG\n",
      "[done]\n"
     ]
    },
    {
     "name": "stderr",
     "output_type": "stream",
     "text": [
      "[Parallel(n_jobs=143)]: Using backend LokyBackend with 143 concurrent workers.\n",
      "[Parallel(n_jobs=143)]: Done   9 out of  60 | elapsed:    2.3s remaining:   13.1s\n",
      "[Parallel(n_jobs=143)]: Done  22 out of  60 | elapsed:    4.8s remaining:    8.3s\n",
      "[Parallel(n_jobs=143)]: Done  35 out of  60 | elapsed:    6.8s remaining:    4.9s\n",
      "[Parallel(n_jobs=143)]: Done  48 out of  60 | elapsed:    9.1s remaining:    2.3s\n",
      "[Parallel(n_jobs=143)]: Done  60 out of  60 | elapsed:   11.5s finished\n"
     ]
    },
    {
     "name": "stdout",
     "output_type": "stream",
     "text": [
      "Not setting metadata\n"
     ]
    },
    {
     "name": "stderr",
     "output_type": "stream",
     "text": [
      "[Parallel(n_jobs=143)]: Using backend LokyBackend with 143 concurrent workers.\n",
      "[Parallel(n_jobs=143)]: Done   9 out of  60 | elapsed:    1.4s remaining:    7.7s\n",
      "[Parallel(n_jobs=143)]: Done  22 out of  60 | elapsed:    2.7s remaining:    4.7s\n",
      "[Parallel(n_jobs=143)]: Done  35 out of  60 | elapsed:    4.1s remaining:    3.0s\n",
      "[Parallel(n_jobs=143)]: Done  48 out of  60 | elapsed:    5.6s remaining:    1.4s\n",
      "[Parallel(n_jobs=143)]: Done  60 out of  60 | elapsed:    6.9s finished\n"
     ]
    },
    {
     "name": "stdout",
     "output_type": "stream",
     "text": [
      "Not setting metadata\n"
     ]
    },
    {
     "name": "stderr",
     "output_type": "stream",
     "text": [
      "[Parallel(n_jobs=143)]: Using backend LokyBackend with 143 concurrent workers.\n",
      "[Parallel(n_jobs=143)]: Done   9 out of  60 | elapsed:    0.6s remaining:    3.2s\n",
      "[Parallel(n_jobs=143)]: Done  22 out of  60 | elapsed:    1.1s remaining:    1.8s\n",
      "[Parallel(n_jobs=143)]: Done  35 out of  60 | elapsed:    1.5s remaining:    1.1s\n",
      "[Parallel(n_jobs=143)]: Done  48 out of  60 | elapsed:    2.0s remaining:    0.5s\n",
      "[Parallel(n_jobs=143)]: Done  60 out of  60 | elapsed:    2.5s finished\n"
     ]
    },
    {
     "name": "stdout",
     "output_type": "stream",
     "text": [
      "Not setting metadata\n"
     ]
    },
    {
     "name": "stderr",
     "output_type": "stream",
     "text": [
      "[Parallel(n_jobs=143)]: Using backend LokyBackend with 143 concurrent workers.\n",
      "[Parallel(n_jobs=143)]: Done   9 out of  60 | elapsed:    1.6s remaining:    9.0s\n",
      "[Parallel(n_jobs=143)]: Done  22 out of  60 | elapsed:    3.1s remaining:    5.3s\n",
      "[Parallel(n_jobs=143)]: Done  35 out of  60 | elapsed:    4.4s remaining:    3.2s\n",
      "[Parallel(n_jobs=143)]: Done  48 out of  60 | elapsed:    5.7s remaining:    1.4s\n",
      "[Parallel(n_jobs=143)]: Done  60 out of  60 | elapsed:    6.9s finished\n"
     ]
    },
    {
     "name": "stdout",
     "output_type": "stream",
     "text": [
      "Not setting metadata\n"
     ]
    },
    {
     "name": "stderr",
     "output_type": "stream",
     "text": [
      "[Parallel(n_jobs=143)]: Using backend LokyBackend with 143 concurrent workers.\n",
      "[Parallel(n_jobs=143)]: Done   9 out of  60 | elapsed:    0.5s remaining:    2.9s\n",
      "[Parallel(n_jobs=143)]: Done  22 out of  60 | elapsed:    1.0s remaining:    1.7s\n",
      "[Parallel(n_jobs=143)]: Done  35 out of  60 | elapsed:    1.5s remaining:    1.0s\n",
      "[Parallel(n_jobs=143)]: Done  48 out of  60 | elapsed:    1.9s remaining:    0.5s\n",
      "[Parallel(n_jobs=143)]: Done  60 out of  60 | elapsed:    2.4s finished\n"
     ]
    },
    {
     "name": "stdout",
     "output_type": "stream",
     "text": [
      "Not setting metadata\n"
     ]
    },
    {
     "name": "stderr",
     "output_type": "stream",
     "text": [
      "[Parallel(n_jobs=143)]: Using backend LokyBackend with 143 concurrent workers.\n",
      "[Parallel(n_jobs=143)]: Done   9 out of  60 | elapsed:    1.5s remaining:    8.4s\n",
      "[Parallel(n_jobs=143)]: Done  22 out of  60 | elapsed:    3.1s remaining:    5.4s\n",
      "[Parallel(n_jobs=143)]: Done  35 out of  60 | elapsed:    5.0s remaining:    3.5s\n",
      "[Parallel(n_jobs=143)]: Done  48 out of  60 | elapsed:    6.7s remaining:    1.7s\n",
      "[Parallel(n_jobs=143)]: Done  60 out of  60 | elapsed:    8.0s finished\n"
     ]
    },
    {
     "name": "stdout",
     "output_type": "stream",
     "text": [
      "Not setting metadata\n"
     ]
    },
    {
     "name": "stderr",
     "output_type": "stream",
     "text": [
      "[Parallel(n_jobs=143)]: Using backend LokyBackend with 143 concurrent workers.\n",
      "[Parallel(n_jobs=143)]: Done   9 out of  60 | elapsed:    0.6s remaining:    3.6s\n",
      "[Parallel(n_jobs=143)]: Done  22 out of  60 | elapsed:    1.2s remaining:    2.1s\n",
      "[Parallel(n_jobs=143)]: Done  35 out of  60 | elapsed:    1.8s remaining:    1.3s\n",
      "[Parallel(n_jobs=143)]: Done  48 out of  60 | elapsed:    2.4s remaining:    0.6s\n",
      "[Parallel(n_jobs=143)]: Done  60 out of  60 | elapsed:    3.0s finished\n"
     ]
    },
    {
     "name": "stdout",
     "output_type": "stream",
     "text": [
      "Not setting metadata\n"
     ]
    },
    {
     "name": "stderr",
     "output_type": "stream",
     "text": [
      "[Parallel(n_jobs=143)]: Using backend LokyBackend with 143 concurrent workers.\n",
      "[Parallel(n_jobs=143)]: Done   9 out of  60 | elapsed:    2.6s remaining:   14.5s\n",
      "[Parallel(n_jobs=143)]: Done  22 out of  60 | elapsed:    5.2s remaining:    9.0s\n",
      "[Parallel(n_jobs=143)]: Done  35 out of  60 | elapsed:    7.4s remaining:    5.3s\n",
      "[Parallel(n_jobs=143)]: Done  48 out of  60 | elapsed:   10.1s remaining:    2.5s\n",
      "[Parallel(n_jobs=143)]: Done  60 out of  60 | elapsed:   12.2s finished\n"
     ]
    },
    {
     "name": "stdout",
     "output_type": "stream",
     "text": [
      "Not setting metadata\n"
     ]
    },
    {
     "name": "stderr",
     "output_type": "stream",
     "text": [
      "[Parallel(n_jobs=143)]: Using backend LokyBackend with 143 concurrent workers.\n",
      "[Parallel(n_jobs=143)]: Done   9 out of  60 | elapsed:    0.5s remaining:    3.0s\n",
      "[Parallel(n_jobs=143)]: Done  22 out of  60 | elapsed:    1.0s remaining:    1.8s\n",
      "[Parallel(n_jobs=143)]: Done  35 out of  60 | elapsed:    1.5s remaining:    1.1s\n",
      "[Parallel(n_jobs=143)]: Done  48 out of  60 | elapsed:    2.0s remaining:    0.5s\n",
      "[Parallel(n_jobs=143)]: Done  60 out of  60 | elapsed:    2.5s finished\n"
     ]
    },
    {
     "name": "stdout",
     "output_type": "stream",
     "text": [
      "Not setting metadata\n"
     ]
    },
    {
     "name": "stderr",
     "output_type": "stream",
     "text": [
      "[Parallel(n_jobs=143)]: Using backend LokyBackend with 143 concurrent workers.\n",
      "[Parallel(n_jobs=143)]: Done   9 out of  60 | elapsed:    0.5s remaining:    3.0s\n",
      "[Parallel(n_jobs=143)]: Done  22 out of  60 | elapsed:    1.0s remaining:    1.8s\n",
      "[Parallel(n_jobs=143)]: Done  35 out of  60 | elapsed:    1.5s remaining:    1.1s\n",
      "[Parallel(n_jobs=143)]: Done  48 out of  60 | elapsed:    2.0s remaining:    0.5s\n",
      "[Parallel(n_jobs=143)]: Done  60 out of  60 | elapsed:    2.5s finished\n"
     ]
    },
    {
     "name": "stdout",
     "output_type": "stream",
     "text": [
      "Not setting metadata\n"
     ]
    },
    {
     "name": "stderr",
     "output_type": "stream",
     "text": [
      "[Parallel(n_jobs=143)]: Using backend LokyBackend with 143 concurrent workers.\n",
      "[Parallel(n_jobs=143)]: Done   9 out of  60 | elapsed:    0.7s remaining:    4.0s\n",
      "[Parallel(n_jobs=143)]: Done  22 out of  60 | elapsed:    1.4s remaining:    2.4s\n",
      "[Parallel(n_jobs=143)]: Done  35 out of  60 | elapsed:    2.0s remaining:    1.4s\n",
      "[Parallel(n_jobs=143)]: Done  48 out of  60 | elapsed:    2.7s remaining:    0.7s\n",
      "[Parallel(n_jobs=143)]: Done  60 out of  60 | elapsed:    3.2s finished\n"
     ]
    },
    {
     "name": "stdout",
     "output_type": "stream",
     "text": [
      "Not setting metadata\n"
     ]
    },
    {
     "name": "stderr",
     "output_type": "stream",
     "text": [
      "[Parallel(n_jobs=143)]: Using backend LokyBackend with 143 concurrent workers.\n",
      "[Parallel(n_jobs=143)]: Done   9 out of  60 | elapsed:    4.6s remaining:   26.1s\n",
      "[Parallel(n_jobs=143)]: Done  22 out of  60 | elapsed:    8.5s remaining:   14.7s\n",
      "[Parallel(n_jobs=143)]: Done  35 out of  60 | elapsed:   13.0s remaining:    9.3s\n",
      "[Parallel(n_jobs=143)]: Done  48 out of  60 | elapsed:   17.5s remaining:    4.4s\n",
      "[Parallel(n_jobs=143)]: Done  60 out of  60 | elapsed:   22.7s finished\n"
     ]
    },
    {
     "name": "stdout",
     "output_type": "stream",
     "text": [
      "Not setting metadata\n",
      "Running VME_S27 ...\n",
      "Reading /raven/ptmp/fklotzsche/Experiments/vMemEcc/Data2022/DataMNE/EEG/03_preproc/pooled/fulllength/collapsed/VME_S27-fulllength-collapsed-epo.fif ...\n",
      "    Found the data of interest:\n",
      "        t =    -600.00 ...    3300.00 ms\n",
      "        0 CTF compensation matrices available\n",
      "Not setting metadata\n",
      "Not setting metadata\n",
      "661 matching events found\n",
      "No baseline correction applied\n",
      "0 projection items activated\n",
      "Subtracting Evoked from Epochs\n",
      "    The following channels are not included in the subtraction: IO1, IO2, LO2, LO1, VEOG, ECG, HEOG\n",
      "[done]\n"
     ]
    },
    {
     "name": "stderr",
     "output_type": "stream",
     "text": [
      "[Parallel(n_jobs=143)]: Using backend LokyBackend with 143 concurrent workers.\n",
      "[Parallel(n_jobs=143)]: Done   9 out of  60 | elapsed:    2.2s remaining:   12.7s\n",
      "[Parallel(n_jobs=143)]: Done  22 out of  60 | elapsed:    4.3s remaining:    7.4s\n",
      "[Parallel(n_jobs=143)]: Done  35 out of  60 | elapsed:    6.4s remaining:    4.6s\n",
      "[Parallel(n_jobs=143)]: Done  48 out of  60 | elapsed:    9.1s remaining:    2.3s\n",
      "[Parallel(n_jobs=143)]: Done  60 out of  60 | elapsed:   11.0s finished\n"
     ]
    },
    {
     "name": "stdout",
     "output_type": "stream",
     "text": [
      "Not setting metadata\n"
     ]
    },
    {
     "name": "stderr",
     "output_type": "stream",
     "text": [
      "[Parallel(n_jobs=143)]: Using backend LokyBackend with 143 concurrent workers.\n",
      "[Parallel(n_jobs=143)]: Done   9 out of  60 | elapsed:    1.3s remaining:    7.6s\n",
      "[Parallel(n_jobs=143)]: Done  22 out of  60 | elapsed:    2.7s remaining:    4.6s\n",
      "[Parallel(n_jobs=143)]: Done  35 out of  60 | elapsed:    4.0s remaining:    2.8s\n",
      "[Parallel(n_jobs=143)]: Done  48 out of  60 | elapsed:    5.4s remaining:    1.3s\n",
      "[Parallel(n_jobs=143)]: Done  60 out of  60 | elapsed:    6.5s finished\n"
     ]
    },
    {
     "name": "stdout",
     "output_type": "stream",
     "text": [
      "Not setting metadata\n"
     ]
    },
    {
     "name": "stderr",
     "output_type": "stream",
     "text": [
      "[Parallel(n_jobs=143)]: Using backend LokyBackend with 143 concurrent workers.\n",
      "[Parallel(n_jobs=143)]: Done   9 out of  60 | elapsed:    0.6s remaining:    3.3s\n",
      "[Parallel(n_jobs=143)]: Done  22 out of  60 | elapsed:    1.1s remaining:    1.9s\n",
      "[Parallel(n_jobs=143)]: Done  35 out of  60 | elapsed:    1.6s remaining:    1.1s\n",
      "[Parallel(n_jobs=143)]: Done  48 out of  60 | elapsed:    2.1s remaining:    0.5s\n",
      "[Parallel(n_jobs=143)]: Done  60 out of  60 | elapsed:    2.5s finished\n"
     ]
    },
    {
     "name": "stdout",
     "output_type": "stream",
     "text": [
      "Not setting metadata\n"
     ]
    },
    {
     "name": "stderr",
     "output_type": "stream",
     "text": [
      "[Parallel(n_jobs=143)]: Using backend LokyBackend with 143 concurrent workers.\n",
      "[Parallel(n_jobs=143)]: Done   9 out of  60 | elapsed:    1.4s remaining:    8.0s\n",
      "[Parallel(n_jobs=143)]: Done  22 out of  60 | elapsed:    2.8s remaining:    4.8s\n",
      "[Parallel(n_jobs=143)]: Done  35 out of  60 | elapsed:    4.1s remaining:    2.9s\n",
      "[Parallel(n_jobs=143)]: Done  48 out of  60 | elapsed:    5.6s remaining:    1.4s\n",
      "[Parallel(n_jobs=143)]: Done  60 out of  60 | elapsed:    6.9s finished\n"
     ]
    },
    {
     "name": "stdout",
     "output_type": "stream",
     "text": [
      "Not setting metadata\n"
     ]
    },
    {
     "name": "stderr",
     "output_type": "stream",
     "text": [
      "[Parallel(n_jobs=143)]: Using backend LokyBackend with 143 concurrent workers.\n",
      "[Parallel(n_jobs=143)]: Done   9 out of  60 | elapsed:    0.6s remaining:    3.4s\n",
      "[Parallel(n_jobs=143)]: Done  22 out of  60 | elapsed:    1.1s remaining:    1.9s\n",
      "[Parallel(n_jobs=143)]: Done  35 out of  60 | elapsed:    1.6s remaining:    1.1s\n",
      "[Parallel(n_jobs=143)]: Done  48 out of  60 | elapsed:    2.1s remaining:    0.5s\n",
      "[Parallel(n_jobs=143)]: Done  60 out of  60 | elapsed:    2.5s finished\n"
     ]
    },
    {
     "name": "stdout",
     "output_type": "stream",
     "text": [
      "Not setting metadata\n"
     ]
    },
    {
     "name": "stderr",
     "output_type": "stream",
     "text": [
      "[Parallel(n_jobs=143)]: Using backend LokyBackend with 143 concurrent workers.\n",
      "[Parallel(n_jobs=143)]: Done   9 out of  60 | elapsed:    1.5s remaining:    8.7s\n",
      "[Parallel(n_jobs=143)]: Done  22 out of  60 | elapsed:    3.0s remaining:    5.2s\n",
      "[Parallel(n_jobs=143)]: Done  35 out of  60 | elapsed:    4.4s remaining:    3.2s\n",
      "[Parallel(n_jobs=143)]: Done  48 out of  60 | elapsed:    5.9s remaining:    1.5s\n",
      "[Parallel(n_jobs=143)]: Done  60 out of  60 | elapsed:    7.3s finished\n"
     ]
    },
    {
     "name": "stdout",
     "output_type": "stream",
     "text": [
      "Not setting metadata\n"
     ]
    },
    {
     "name": "stderr",
     "output_type": "stream",
     "text": [
      "[Parallel(n_jobs=143)]: Using backend LokyBackend with 143 concurrent workers.\n",
      "[Parallel(n_jobs=143)]: Done   9 out of  60 | elapsed:    0.6s remaining:    3.5s\n",
      "[Parallel(n_jobs=143)]: Done  22 out of  60 | elapsed:    1.1s remaining:    2.0s\n",
      "[Parallel(n_jobs=143)]: Done  35 out of  60 | elapsed:    1.7s remaining:    1.2s\n",
      "[Parallel(n_jobs=143)]: Done  48 out of  60 | elapsed:    2.2s remaining:    0.5s\n",
      "[Parallel(n_jobs=143)]: Done  60 out of  60 | elapsed:    2.7s finished\n"
     ]
    },
    {
     "name": "stdout",
     "output_type": "stream",
     "text": [
      "Not setting metadata\n"
     ]
    },
    {
     "name": "stderr",
     "output_type": "stream",
     "text": [
      "[Parallel(n_jobs=143)]: Using backend LokyBackend with 143 concurrent workers.\n",
      "[Parallel(n_jobs=143)]: Done   9 out of  60 | elapsed:    2.3s remaining:   13.0s\n",
      "[Parallel(n_jobs=143)]: Done  22 out of  60 | elapsed:    5.0s remaining:    8.7s\n",
      "[Parallel(n_jobs=143)]: Done  35 out of  60 | elapsed:    7.9s remaining:    5.7s\n",
      "[Parallel(n_jobs=143)]: Done  48 out of  60 | elapsed:   11.3s remaining:    2.8s\n",
      "[Parallel(n_jobs=143)]: Done  60 out of  60 | elapsed:   14.1s finished\n"
     ]
    },
    {
     "name": "stdout",
     "output_type": "stream",
     "text": [
      "Not setting metadata\n"
     ]
    },
    {
     "name": "stderr",
     "output_type": "stream",
     "text": [
      "[Parallel(n_jobs=143)]: Using backend LokyBackend with 143 concurrent workers.\n",
      "[Parallel(n_jobs=143)]: Done   9 out of  60 | elapsed:    0.5s remaining:    3.0s\n",
      "[Parallel(n_jobs=143)]: Done  22 out of  60 | elapsed:    1.0s remaining:    1.7s\n",
      "[Parallel(n_jobs=143)]: Done  35 out of  60 | elapsed:    1.5s remaining:    1.0s\n",
      "[Parallel(n_jobs=143)]: Done  48 out of  60 | elapsed:    1.9s remaining:    0.5s\n",
      "[Parallel(n_jobs=143)]: Done  60 out of  60 | elapsed:    2.4s finished\n"
     ]
    },
    {
     "name": "stdout",
     "output_type": "stream",
     "text": [
      "Not setting metadata\n"
     ]
    },
    {
     "name": "stderr",
     "output_type": "stream",
     "text": [
      "[Parallel(n_jobs=143)]: Using backend LokyBackend with 143 concurrent workers.\n",
      "[Parallel(n_jobs=143)]: Done   9 out of  60 | elapsed:    0.6s remaining:    3.6s\n",
      "[Parallel(n_jobs=143)]: Done  22 out of  60 | elapsed:    1.2s remaining:    2.1s\n",
      "[Parallel(n_jobs=143)]: Done  35 out of  60 | elapsed:    1.7s remaining:    1.2s\n",
      "[Parallel(n_jobs=143)]: Done  48 out of  60 | elapsed:    2.3s remaining:    0.6s\n",
      "[Parallel(n_jobs=143)]: Done  60 out of  60 | elapsed:    2.8s finished\n"
     ]
    },
    {
     "name": "stdout",
     "output_type": "stream",
     "text": [
      "Not setting metadata\n"
     ]
    },
    {
     "name": "stderr",
     "output_type": "stream",
     "text": [
      "[Parallel(n_jobs=143)]: Using backend LokyBackend with 143 concurrent workers.\n",
      "[Parallel(n_jobs=143)]: Done   9 out of  60 | elapsed:    0.6s remaining:    3.4s\n",
      "[Parallel(n_jobs=143)]: Done  22 out of  60 | elapsed:    1.1s remaining:    2.0s\n",
      "[Parallel(n_jobs=143)]: Done  35 out of  60 | elapsed:    1.7s remaining:    1.2s\n",
      "[Parallel(n_jobs=143)]: Done  48 out of  60 | elapsed:    2.2s remaining:    0.6s\n",
      "[Parallel(n_jobs=143)]: Done  60 out of  60 | elapsed:    2.8s finished\n"
     ]
    },
    {
     "name": "stdout",
     "output_type": "stream",
     "text": [
      "Not setting metadata\n"
     ]
    },
    {
     "name": "stderr",
     "output_type": "stream",
     "text": [
      "[Parallel(n_jobs=143)]: Using backend LokyBackend with 143 concurrent workers.\n",
      "[Parallel(n_jobs=143)]: Done   9 out of  60 | elapsed:    4.6s remaining:   26.0s\n",
      "[Parallel(n_jobs=143)]: Done  22 out of  60 | elapsed:    8.5s remaining:   14.6s\n",
      "[Parallel(n_jobs=143)]: Done  35 out of  60 | elapsed:   12.4s remaining:    8.8s\n",
      "[Parallel(n_jobs=143)]: Done  48 out of  60 | elapsed:   16.7s remaining:    4.2s\n",
      "[Parallel(n_jobs=143)]: Done  60 out of  60 | elapsed:   21.0s finished\n"
     ]
    },
    {
     "name": "stdout",
     "output_type": "stream",
     "text": [
      "Not setting metadata\n"
     ]
    }
   ],
   "source": [
    "# structuring data:\n",
    "sub_list = np.setdiff1d(np.arange(1, 28), config.ids_missing_subjects +\n",
    "                        config.ids_excluded_subjects)               \n",
    "sub_list_str = ['VME_S%02d' % sub for sub in sub_list]\n",
    "\n",
    "# when running on the cluster we want parallelization along the subject dimension\n",
    "if not helpers.is_interactive(): \n",
    "    helpers.print_msg('Running Job Nr. ' + sys.argv[1])\n",
    "    job_nr = int(float(sys.argv[1]))\n",
    "    sub_list_str = [sub_list_str[job_nr]]   \n",
    "\n",
    "part_epo = 'fulllength'\n",
    "pwr_style = 'induced'  \n",
    "\n",
    "for subID in sub_list_str:\n",
    "    print(f\"Running {subID} ...\")\n",
    "    _ = get_tfrs_list(subID, part_epo, pwr_style, picks=\"eeg\", save_singletrial_data=False)"
   ]
  },
  {
   "cell_type": "code",
   "execution_count": null,
   "id": "14f04f0f",
   "metadata": {},
   "outputs": [],
   "source": []
  }
 ],
 "metadata": {
  "jupytext": {
   "formats": "ipynb,auto:light"
  },
  "kernelspec": {
   "display_name": "mne",
   "language": "python",
   "name": "mne"
  },
  "language_info": {
   "codemirror_mode": {
    "name": "ipython",
    "version": 3
   },
   "file_extension": ".py",
   "mimetype": "text/x-python",
   "name": "python",
   "nbconvert_exporter": "python",
   "pygments_lexer": "ipython3",
   "version": "3.9.9"
  }
 },
 "nbformat": 4,
 "nbformat_minor": 5
}
