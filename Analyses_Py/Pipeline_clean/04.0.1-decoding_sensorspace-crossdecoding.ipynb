{
 "cells": [
  {
   "cell_type": "code",
   "execution_count": 3,
   "metadata": {},
   "outputs": [
    {
     "name": "stdout",
     "output_type": "stream",
     "text": [
      "Study path is set to: /raven/ptmp/fklotzsche/Experiments/vMemEcc\n"
     ]
    }
   ],
   "source": [
    "# %% load libs:\n",
    "from collections import defaultdict\n",
    "from os import path as op\n",
    "import sys\n",
    "import json\n",
    "import numpy as np\n",
    "import seaborn as sns\n",
    "\n",
    "from sklearn.model_selection import check_cv, BaseCrossValidator, StratifiedKFold\n",
    "from sklearn.pipeline import make_pipeline\n",
    "from sklearn.linear_model import LogisticRegression\n",
    "import multiprocessing as mp\n",
    "\n",
    "from scipy import stats\n",
    "\n",
    "import mne\n",
    "# from mne.epochs import concatenate_epochs\n",
    "from mne.decoding import (SlidingEstimator, GeneralizingEstimator,\n",
    "                          cross_val_multiscore, LinearModel, get_coef)\n",
    "\n",
    "from library import config, helpers"
   ]
  },
  {
   "cell_type": "code",
   "execution_count": 26,
   "metadata": {},
   "outputs": [],
   "source": [
    "\n",
    "def get_epos(subID, epo_part, signaltype, condition, event_dict, picks_str):\n",
    "    if signaltype == 'uncollapsed':\n",
    "        fname = op.join(config.paths['03_preproc-rejectET'],\n",
    "                        epo_part,\n",
    "                        'cleaneddata',\n",
    "                        f\"{subID}-{epo_part}-rejepo-epo.fif\")\n",
    "    elif signaltype in ['collapsed', 'difference']:\n",
    "        fname = op.join(config.paths['03_preproc-pooled'],\n",
    "                        epo_part,\n",
    "                        signaltype,\n",
    "                        f\"{subID}-{epo_part}-{signaltype}-epo.fif\")\n",
    "    else:\n",
    "        raise ValueError(f'Invalid value for \"signaltype\": {signaltype}')\n",
    "    epos = mne.read_epochs(fname, verbose=False)\n",
    "    epos = epos.pick_types(eeg=True)\n",
    "\n",
    "    # pick channel selection:\n",
    "    if (picks_str is not None) and (picks_str != 'All'):\n",
    "        roi_dict = mne.channels.make_1020_channel_selections(epos.info)\n",
    "        picks = [epos.ch_names[idx] for idx in roi_dict[picks_str]]\n",
    "        epos.pick_channels(picks, ordered=True)\n",
    "\n",
    "    uppers = [letter.isupper() for letter in condition]\n",
    "    if (np.sum(uppers) > 2):\n",
    "        cond_1 = condition[:np.where(uppers)[0][2]]\n",
    "        cond_2 = condition[np.where(uppers)[0][2]:]\n",
    "        selection = epos[event_dict[cond_1]][event_dict[cond_2]]\n",
    "    else:\n",
    "        selection = epos[event_dict[condition]]\n",
    "    return(selection)\n",
    "\n",
    "\n",
    "def avg_time(data, step=25, times=None):\n",
    "    orig_shape = data.shape\n",
    "    n_fill = step - (orig_shape[-1] % step)\n",
    "    fill_shape = np.asarray(orig_shape)\n",
    "    fill_shape[-1] = n_fill\n",
    "    fill = np.ones(fill_shape) * np.nan\n",
    "    data_f = np.concatenate([data, fill], axis=-1)\n",
    "    data_res = np.nanmean(data_f.reshape(*orig_shape[:2], -1, step), axis=-1)\n",
    "\n",
    "    if times is not None:\n",
    "        f_times = np.r_[times, [np.nan] * n_fill]\n",
    "        n_times = np.nanmean(f_times.reshape(-1, step), axis=-1)\n",
    "        return data_res, n_times\n",
    "    else:\n",
    "        return data_res\n",
    "\n",
    "\n",
    "def batch_trials(epos, batch_size, randomize=True, random_state=None):\n",
    "    n_trials = len(epos)\n",
    "    n_batches = int(n_trials / batch_size)\n",
    "    rnd_seq = np.arange(n_trials)\n",
    "    if randomize:\n",
    "        rng = np.random.default_rng(random_state)\n",
    "        rng.shuffle(rnd_seq)\n",
    "    rnd_seq = rnd_seq[:n_batches * batch_size]\n",
    "    rnd_seq = rnd_seq.reshape(-1, batch_size)\n",
    "    batches = [epos[b].average() for b in rnd_seq]\n",
    "    return(batches)\n",
    "\n",
    "\n",
    "def shuffle_samples(data, conds, n_, random_state=None):\n",
    "    \"\"\"\n",
    "    Shuffle samples in a NumPy array based on condition labels.\n",
    "\n",
    "    Parameters\n",
    "    ----------\n",
    "    data : np.ndarray\n",
    "        The NumPy array containing the samples to be shuffled along the first axis. The data is expected to be sorted by condition (along the first axis). Otherwise this will create wrong results!\n",
    "    conds : list of str\n",
    "        The list of condition labels corresponding to each sample.\n",
    "    n_ : dict\n",
    "        A dictionary mapping condition labels to the number of samples for each condition.\n",
    "    random_state : int, optional\n",
    "        Seed to use for random number generation. If not specified, the default NumPy generator will be used.\n",
    "\n",
    "    Returns\n",
    "    -------\n",
    "    np.ndarray\n",
    "        A new NumPy array containing the shuffled samples.\n",
    "    \"\"\"\n",
    "    \n",
    "    # check inputs:\n",
    "    if not isinstance(n_, dict):\n",
    "        raise TypeError(f'n_ must be a dict, not {type(n_)}')\n",
    "    # check if all conditions are present in n_:\n",
    "    if not all([cond in n_.keys() for cond in conds]):\n",
    "        raise ValueError(f'All conditions must be present in n_.')\n",
    "\n",
    "    shuffled_idx = np.array([], dtype=int)\n",
    "    for i, cond in enumerate(conds):\n",
    "        start = int(np.sum([n_[c] for c in conds[:i]]))\n",
    "        idx = np.arange(start, start+n_[cond])\n",
    "        rng = np.random.default_rng(random_state)\n",
    "        rng.shuffle(idx)\n",
    "        shuffled_idx = np.concatenate([shuffled_idx, np.array(idx)], dtype=int)\n",
    "    data_shuffled = data[shuffled_idx]\n",
    "    return data_shuffled\n",
    "\n",
    "\n",
    "def get_data(subID, epo_part, signaltype, conditions, event_dict,\n",
    "             batch_size=1, smooth_winsize=1, picks_str=None, randomize=True, random_state=None):\n",
    "    epos_dict = defaultdict(dict)\n",
    "    for cond in conditions:\n",
    "        epos_dict[cond] = get_epos(subID,\n",
    "                                   epo_part=epo_part,\n",
    "                                   signaltype=signaltype,\n",
    "                                   condition=cond,\n",
    "                                   event_dict=event_dict,\n",
    "                                   picks_str=picks_str)\n",
    "\n",
    "    times = epos_dict[conditions[0]][0].copy().times\n",
    "    info = epos_dict[conditions[0]][0].info\n",
    "\n",
    "    # Setup data:\n",
    "    if batch_size > 1:\n",
    "        batches = defaultdict(list)\n",
    "        for cond in conditions:\n",
    "            batches[cond] = batch_trials(epos_dict[cond], batch_size, randomize=randomize, random_state=random_state)\n",
    "            batches[cond] = np.asarray([b.data for b in batches[cond]])\n",
    "\n",
    "        X = np.concatenate([batches[cond].data for cond in conditions], axis=0)\n",
    "        n_ = {cond: batches[cond].shape[0] for cond in conditions}\n",
    "\n",
    "    else:\n",
    "        X = mne.concatenate_epochs([epos_dict[cond] for cond in conditions])\n",
    "        X = X.get_data()\n",
    "        n_ = {cond: len(epos_dict[cond]) for cond in conditions}\n",
    "\n",
    "    if randomize:\n",
    "        X = shuffle_samples(X, conditions, n_, random_state=random_state)\n",
    "\n",
    "    if smooth_winsize > 1:\n",
    "        X, times_n = avg_time(X, smooth_winsize, times=times)\n",
    "    else:\n",
    "        times_n = times\n",
    "\n",
    "    y = np.r_[np.zeros(n_[conditions[0]]),\n",
    "              np.concatenate([(np.ones(n_[conditions[i]]) * i)\n",
    "                              for i in np.arange(1, len(conditions))])]\n",
    "\n",
    "    return X, y, times_n, info"
   ]
  },
  {
   "cell_type": "code",
   "execution_count": 27,
   "metadata": {},
   "outputs": [],
   "source": [
    "def concat_train_test(\n",
    "    subID,\n",
    "    epo_part,\n",
    "    signaltype,\n",
    "    conditions_target,\n",
    "    condition_train,\n",
    "    condition_test,\n",
    "    event_dict,\n",
    "    batch_size=3,\n",
    "    smooth_winsize=10,\n",
    "    picks_str=None,\n",
    "    randomize=True,\n",
    "    random_state=None,\n",
    "):\n",
    "    if condition_train != condition_test:\n",
    "        conditions_train = [f\"{condition_train}{c}\" for c in conditions_target]\n",
    "        conditions_test = [f\"{condition_test}{c}\" for c in conditions_target]\n",
    "        X_train_all, y_train_all, times_n, info = get_data(\n",
    "            subID, epo_part, signaltype, conditions_train, event_dict,batch_size=batch_size, smooth_winsize=smooth_winsize, picks_str=picks_str, randomize=randomize, random_state=random_state\n",
    "        )\n",
    "        X_test_all, y_test_all, _, _ = get_data(\n",
    "            subID, epo_part, signaltype, conditions_test, event_dict,\n",
    "            batch_size=batch_size, smooth_winsize=smooth_winsize, picks_str=picks_str, randomize=randomize, random_state=random_state\n",
    "        )\n",
    "\n",
    "        X = np.concatenate([X_train_all, X_test_all], axis=0)\n",
    "        y = np.concatenate([y_train_all, y_test_all], axis=0)\n",
    "        groups = np.concatenate([len(X_train_all) * [0], len(X_test_all) * [1]])\n",
    "    else:\n",
    "        conditions_traintest = [f\"{condition_train}{c}\" for c in       \n",
    "                                conditions_target]\n",
    "        X, y, times_n, info = get_data(\n",
    "            subID, epo_part, signaltype, conditions_traintest, event_dict,\n",
    "            batch_size=batch_size, smooth_winsize=smooth_winsize, picks_str=picks_str, randomize=randomize, random_state=random_state\n",
    "        )\n",
    "        groups = None\n",
    "    return X, y, groups, times_n, info\n"
   ]
  },
  {
   "cell_type": "code",
   "execution_count": 28,
   "metadata": {},
   "outputs": [],
   "source": [
    "\n",
    "\n",
    "class CrossDecodSplitter(BaseCrossValidator):\n",
    "    def __init__(self, n_splits):\n",
    "        self.n_splits = n_splits\n",
    "        \n",
    "    def split(self, X, y, groups):\n",
    "        # throw error if groups does not contain exactly 2 unique values\n",
    "        if len(np.unique(groups)) != 2:\n",
    "            raise ValueError('groups must contain exactly 2 unique values')\n",
    "        # thow error if groups is not sorted. sorting should be done in a way that groups[0] always stays the first value after sorting\n",
    "        groups_sorted = np.sort(groups)\n",
    "        if groups_sorted[0] != groups[0]:\n",
    "            groups_sorted = np.flip(groups_sorted)\n",
    "        if not np.all(groups_sorted == groups):\n",
    "            raise ValueError('groups vector must be sorted')\n",
    "            \n",
    "\n",
    "        idx_0 = np.where(groups == groups[0])[0]\n",
    "        idx_1 = np.where(groups == groups[-1])[0]\n",
    "\n",
    "        idx_cv = StratifiedKFold(n_splits=self.n_splits)\n",
    "\n",
    "        for fold_0, fold_1 in zip(idx_cv.split(idx_0, y[idx_0]),\n",
    "                                  idx_cv.split(idx_1, y[idx_1])):\n",
    "            yield idx_0[fold_0[0]], idx_1[fold_1[1]]\n",
    "    \n",
    "    def get_n_splits(self, X=None, y=None, groups=None):\n",
    "        return self.n_splits"
   ]
  },
  {
   "cell_type": "code",
   "execution_count": 29,
   "metadata": {},
   "outputs": [],
   "source": [
    "def decode_core(X, y, groups, info,\n",
    "                scoring='roc_auc',\n",
    "                temp_gen=False,\n",
    "                n_cv_folds=5,\n",
    "                cv_random_state=None):\n",
    "    \n",
    "\n",
    "    clf = make_pipeline(mne.decoding.Scaler(info),\n",
    "                    mne.decoding.Vectorizer(),\n",
    "                    LinearModel(\n",
    "                        LogisticRegression(solver='liblinear',\n",
    "                                            random_state=42,\n",
    "                                    verbose=False)))\n",
    "\n",
    "    if temp_gen:\n",
    "        gen_str = 'gen_temp'\n",
    "        se = GeneralizingEstimator(clf,\n",
    "                                   scoring=scoring,\n",
    "                                   n_jobs=15,\n",
    "                                   verbose=0)\n",
    "    else:\n",
    "        gen_str = ''\n",
    "        se = SlidingEstimator(clf,\n",
    "                              scoring=scoring,\n",
    "                              n_jobs=15,\n",
    "                              verbose=0)\n",
    "    if groups is None:\n",
    "        cv = StratifiedKFold(n_splits=n_cv_folds)\n",
    "    else:\n",
    "        cv = CrossDecodSplitter(n_splits=n_cv_folds)\n",
    "    scores = cross_val_multiscore(se, X, y, cv=cv, groups=groups, n_jobs=n_cv_folds)\n",
    "\n",
    "    se.fit(X, y)\n",
    "    patterns = get_coef(se, 'patterns_', inverse_transform=True)\n",
    "\n",
    "    return scores, patterns\n",
    "\n",
    "    \n",
    "\n",
    "\n",
    "def gen_save_path(contrast_str,\n",
    "                  epo_part='stimon',\n",
    "                  signaltype='collapsed',\n",
    "                  gen_str='',\n",
    "                  scoring='roc_auc',\n",
    "                  picks_str=None,\n",
    "                  labels_shuffled=False,\n",
    "                  cross_decod=False,\n",
    "                  crossing_str='',\n",
    "                 ):\n",
    "    shuf_labs = 'labels_shuffled' if labels_shuffled else ''\n",
    "    cross_decod_str = 'cross_decod_ecc' if cross_decod else ''\n",
    "    picks_str = 'picks' if picks_str is not None else ''\n",
    "\n",
    "    path_save = op.join(config.paths['06_decoding-sensorspace'], epo_part,\n",
    "                        signaltype, contrast_str, gen_str, cross_decod_str, crossing_str, scoring, picks_str, shuf_labs)\n",
    "    return path_save\n",
    "\n",
    "\n",
    "def save_scores(subID, scores, times_n, path_save):\n",
    "    fpath = op.join(path_save, 'scores')\n",
    "    helpers.chkmk_dir(fpath)\n",
    "    fname = op.join(fpath, f'{subID}-scores_per_sub.npy')\n",
    "    np.save(fname, scores)\n",
    "    np.save(fname[:-4] + '__times' + '.npy', times_n)\n",
    "    \n",
    "\n",
    "def save_patterns(subID, patterns, times_n, path_save):\n",
    "    fpath = op.join(path_save, 'patterns')\n",
    "    helpers.chkmk_dir(fpath)\n",
    "    fname = op.join(fpath, f'{subID}-patterns_per_sub.npy')\n",
    "    np.save(fname, patterns)\n",
    "    np.save(fname[:-4] + '__times' + '.npy', times_n)\n",
    "\n",
    "\n",
    "def save_info(subID, info_dict, path_save):\n",
    "    fpath = path_save\n",
    "    fname = op.join(fpath, f'{subID}-info.json')\n",
    "    with open(fname, 'w+') as outfile:\n",
    "        json.dump(info_dict, outfile)\n",
    "\n",
    "\n",
    "def save_single_rep_scores(subID, sub_scores_per_rep, times_n, path_save):\n",
    "    fpath = op.join(path_save, 'single_rep_data')\n",
    "    helpers.chkmk_dir(fpath)\n",
    "    fname = op.join(fpath,\n",
    "                    f'{subID}-'\n",
    "                    f'reps{n_rep_sub}_'\n",
    "                    f'swin{smooth_winsize}_batchs{batch_size}.npy')\n",
    "    np.save(fname, sub_scores_per_rep)\n",
    "    np.save(fname[:-4] + '__times' + '.npy', times_n)\n",
    "\n",
    "\n"
   ]
  },
  {
   "cell_type": "code",
   "execution_count": 30,
   "metadata": {},
   "outputs": [],
   "source": [
    "def run_decoding(c_train, c_test, subID, shuffle_labels=False):\n",
    "    scores_per_rep = []\n",
    "    patterns_per_rep = []\n",
    "    for rep in range(n_rep_sub):\n",
    "        X, y, groups, times_n, info = concat_train_test(\n",
    "                    subID=subID,\n",
    "                    epo_part=\"stimon\",\n",
    "                    signaltype=\"collapsed\",\n",
    "                    conditions_target=[\"LoadLow\", \"LoadHigh\"],\n",
    "                    condition_train=c_train,\n",
    "                    condition_test=c_test,\n",
    "                    event_dict=config.event_dict,\n",
    "                    batch_size=10,\n",
    "                    smooth_winsize=10,\n",
    "                    picks_str=None,\n",
    "                    randomize=True,\n",
    "                    random_state=42 + rep,\n",
    "                )\n",
    "\n",
    "        if shuffle_labels:\n",
    "            groups_ = groups if groups is not None else np.zeros(shape=y.shape)\n",
    "            groups_uniq, n_per_group = np.unique(groups_, return_counts=True)\n",
    "            n_per_group = {k: v for k, v in zip(groups_uniq, n_per_group)}\n",
    "            y = shuffle_samples(y, groups_uniq, n_per_group)\n",
    "            print(f\"y shape: {y.shape}\")\n",
    "            print(y)\n",
    "\n",
    "        scores, patterns = decode_core(\n",
    "            X, y, groups, info, scoring=scoring, n_cv_folds=5\n",
    "        )\n",
    "        scores_per_rep.append(np.mean(scores, axis=0))\n",
    "        patterns_per_rep.append(patterns)\n",
    "    scores_sub = np.mean(np.array(scores_per_rep), axis=0)\n",
    "    patterns_sub = np.mean(np.array(patterns_per_rep), axis=0)\n",
    "\n",
    "    return (scores_sub, patterns_sub, times_n, subID, c_train, c_test)\n",
    "\n"
   ]
  },
  {
   "cell_type": "code",
   "execution_count": 31,
   "metadata": {},
   "outputs": [
    {
     "data": {
      "application/vnd.jupyter.widget-view+json": {
       "model_id": "cf9239b97c704d7b84efe69e290d6fe9",
       "version_major": 2,
       "version_minor": 0
      },
      "text/plain": [
       "  0%|          | Fitting SlidingEstimator : 0/146 [00:00<?,       ?it/s]"
      ]
     },
     "metadata": {},
     "output_type": "display_data"
    },
    {
     "data": {
      "application/vnd.jupyter.widget-view+json": {
       "model_id": "dd2b0b7873ae4f5195988defd6bedb24",
       "version_major": 2,
       "version_minor": 0
      },
      "text/plain": [
       "  0%|          | Fitting SlidingEstimator : 0/146 [00:00<?,       ?it/s]"
      ]
     },
     "metadata": {},
     "output_type": "display_data"
    },
    {
     "name": "stderr",
     "output_type": "stream",
     "text": [
      "/u/fklotzsche/conda-envs/mne/lib/python3.9/site-packages/joblib/parallel.py:735: UserWarning: Loky-backed parallel loops cannot be called in a multiprocessing, setting n_jobs=1\n",
      "  n_jobs = self._backend.configure(n_jobs=self.n_jobs, parallel=self,\n",
      "/u/fklotzsche/conda-envs/mne/lib/python3.9/site-packages/joblib/parallel.py:735: UserWarning: Loky-backed parallel loops cannot be called in a multiprocessing, setting n_jobs=1\n",
      "  n_jobs = self._backend.configure(n_jobs=self.n_jobs, parallel=self,\n",
      "[Parallel(n_jobs=15)]: Done  15 out of  15 | elapsed:    0.1s finished\n",
      "/u/fklotzsche/conda-envs/mne/lib/python3.9/site-packages/joblib/parallel.py:735: UserWarning: Loky-backed parallel loops cannot be called in a multiprocessing, setting n_jobs=1\n",
      "  n_jobs = self._backend.configure(n_jobs=self.n_jobs, parallel=self,\n",
      "[Parallel(n_jobs=15)]: Using backend SequentialBackend with 1 concurrent workers.\n",
      "[Parallel(n_jobs=5)]: Done   5 out of   5 | elapsed:    4.8s finished\n",
      "[Parallel(n_jobs=15)]: Done   1 out of   1 | elapsed:    0.0s remaining:    0.0s\n",
      "[Parallel(n_jobs=15)]: Done   2 out of   2 | elapsed:    0.0s remaining:    0.0s\n",
      "[Parallel(n_jobs=15)]: Done   3 out of   3 | elapsed:    0.0s remaining:    0.0s\n",
      "[Parallel(n_jobs=15)]: Done   4 out of   4 | elapsed:    0.1s remaining:    0.0s\n"
     ]
    },
    {
     "data": {
      "application/vnd.jupyter.widget-view+json": {
       "model_id": "2ca193882fef402fbe4e912780f0d99b",
       "version_major": 2,
       "version_minor": 0
      },
      "text/plain": [
       "  0%|          | Fitting SlidingEstimator : 0/146 [00:00<?,       ?it/s]"
      ]
     },
     "metadata": {},
     "output_type": "display_data"
    },
    {
     "name": "stderr",
     "output_type": "stream",
     "text": [
      "/u/fklotzsche/conda-envs/mne/lib/python3.9/site-packages/joblib/parallel.py:735: UserWarning: Loky-backed parallel loops cannot be called in a multiprocessing, setting n_jobs=1\n",
      "  n_jobs = self._backend.configure(n_jobs=self.n_jobs, parallel=self,\n",
      "[Parallel(n_jobs=15)]: Done  15 out of  15 | elapsed:    0.1s finished\n",
      "[Parallel(n_jobs=5)]: Done   3 out of   3 | elapsed:    3.0s remaining:    0.0s\n",
      "/u/fklotzsche/conda-envs/mne/lib/python3.9/site-packages/joblib/parallel.py:735: UserWarning: Loky-backed parallel loops cannot be called in a multiprocessing, setting n_jobs=1\n",
      "  n_jobs = self._backend.configure(n_jobs=self.n_jobs, parallel=self,\n",
      "[Parallel(n_jobs=15)]: Using backend SequentialBackend with 1 concurrent workers.\n"
     ]
    },
    {
     "data": {
      "application/vnd.jupyter.widget-view+json": {
       "model_id": "4a9bfebfe00842baa7412f62046f6af5",
       "version_major": 2,
       "version_minor": 0
      },
      "text/plain": [
       "  0%|          | Fitting SlidingEstimator : 0/146 [00:00<?,       ?it/s]"
      ]
     },
     "metadata": {},
     "output_type": "display_data"
    },
    {
     "name": "stderr",
     "output_type": "stream",
     "text": [
      "/u/fklotzsche/conda-envs/mne/lib/python3.9/site-packages/joblib/parallel.py:735: UserWarning: Loky-backed parallel loops cannot be called in a multiprocessing, setting n_jobs=1\n",
      "  n_jobs = self._backend.configure(n_jobs=self.n_jobs, parallel=self,\n",
      "[Parallel(n_jobs=15)]: Done   1 out of   1 | elapsed:    0.0s remaining:    0.0s\n",
      "[Parallel(n_jobs=15)]: Done   2 out of   2 | elapsed:    0.0s remaining:    0.0s\n",
      "[Parallel(n_jobs=15)]: Done   3 out of   3 | elapsed:    0.1s remaining:    0.0s\n",
      "[Parallel(n_jobs=15)]: Done   4 out of   4 | elapsed:    0.1s remaining:    0.0s\n",
      "[Parallel(n_jobs=15)]: Done  15 out of  15 | elapsed:    0.1s finished\n",
      "[Parallel(n_jobs=5)]: Done   1 out of   1 | elapsed:    1.0s remaining:    0.0s\n"
     ]
    },
    {
     "data": {
      "application/vnd.jupyter.widget-view+json": {
       "model_id": "055462ab80784f7da390db39e09e628c",
       "version_major": 2,
       "version_minor": 0
      },
      "text/plain": [
       "  0%|          | Fitting SlidingEstimator : 0/146 [00:00<?,       ?it/s]"
      ]
     },
     "metadata": {},
     "output_type": "display_data"
    },
    {
     "name": "stderr",
     "output_type": "stream",
     "text": [
      "/u/fklotzsche/conda-envs/mne/lib/python3.9/site-packages/joblib/parallel.py:735: UserWarning: Loky-backed parallel loops cannot be called in a multiprocessing, setting n_jobs=1\n",
      "  n_jobs = self._backend.configure(n_jobs=self.n_jobs, parallel=self,\n",
      "/u/fklotzsche/conda-envs/mne/lib/python3.9/site-packages/joblib/parallel.py:735: UserWarning: Loky-backed parallel loops cannot be called in a multiprocessing, setting n_jobs=1\n",
      "  n_jobs = self._backend.configure(n_jobs=self.n_jobs, parallel=self,\n",
      "/u/fklotzsche/conda-envs/mne/lib/python3.9/site-packages/joblib/parallel.py:735: UserWarning: Loky-backed parallel loops cannot be called in a multiprocessing, setting n_jobs=1\n",
      "  n_jobs = self._backend.configure(n_jobs=self.n_jobs, parallel=self,\n",
      "[Parallel(n_jobs=15)]: Using backend SequentialBackend with 1 concurrent workers.\n",
      "[Parallel(n_jobs=15)]: Using backend SequentialBackend with 1 concurrent workers.\n",
      "[Parallel(n_jobs=15)]: Done   1 out of   1 | elapsed:    0.0s remaining:    0.0s\n",
      "[Parallel(n_jobs=15)]: Done   1 out of   1 | elapsed:    0.0s remaining:    0.0s\n",
      "[Parallel(n_jobs=15)]: Done   2 out of   2 | elapsed:    0.0s remaining:    0.0s\n",
      "[Parallel(n_jobs=15)]: Done   2 out of   2 | elapsed:    0.0s remaining:    0.0s\n",
      "[Parallel(n_jobs=15)]: Done   3 out of   3 | elapsed:    0.0s remaining:    0.0s\n",
      "[Parallel(n_jobs=15)]: Done   3 out of   3 | elapsed:    0.1s remaining:    0.0s\n",
      "[Parallel(n_jobs=15)]: Done   4 out of   4 | elapsed:    0.1s remaining:    0.0s\n",
      "[Parallel(n_jobs=15)]: Done   4 out of   4 | elapsed:    0.1s remaining:    0.0s\n",
      "[Parallel(n_jobs=15)]: Done  15 out of  15 | elapsed:    0.1s finished\n",
      "[Parallel(n_jobs=5)]: Done   2 out of   2 | elapsed:    1.9s remaining:    0.0s\n",
      "[Parallel(n_jobs=15)]: Done  15 out of  15 | elapsed:    0.1s finished\n",
      "[Parallel(n_jobs=5)]: Done   4 out of   4 | elapsed:    3.9s remaining:    0.0s\n"
     ]
    },
    {
     "data": {
      "application/vnd.jupyter.widget-view+json": {
       "model_id": "056723eacb0942c8a3ba8ba77402967e",
       "version_major": 2,
       "version_minor": 0
      },
      "text/plain": [
       "  0%|          | Fitting SlidingEstimator : 0/146 [00:00<?,       ?it/s]"
      ]
     },
     "metadata": {},
     "output_type": "display_data"
    },
    {
     "data": {
      "application/vnd.jupyter.widget-view+json": {
       "model_id": "e715e2d89074422682cc9ea812902a09",
       "version_major": 2,
       "version_minor": 0
      },
      "text/plain": [
       "  0%|          | Fitting SlidingEstimator : 0/146 [00:00<?,       ?it/s]"
      ]
     },
     "metadata": {},
     "output_type": "display_data"
    },
    {
     "name": "stderr",
     "output_type": "stream",
     "text": [
      "/u/fklotzsche/conda-envs/mne/lib/python3.9/site-packages/joblib/parallel.py:735: UserWarning: Loky-backed parallel loops cannot be called in a multiprocessing, setting n_jobs=1\n",
      "  n_jobs = self._backend.configure(n_jobs=self.n_jobs, parallel=self,\n",
      "/u/fklotzsche/conda-envs/mne/lib/python3.9/site-packages/joblib/parallel.py:735: UserWarning: Loky-backed parallel loops cannot be called in a multiprocessing, setting n_jobs=1\n",
      "  n_jobs = self._backend.configure(n_jobs=self.n_jobs, parallel=self,\n",
      "/u/fklotzsche/conda-envs/mne/lib/python3.9/site-packages/joblib/parallel.py:735: UserWarning: Loky-backed parallel loops cannot be called in a multiprocessing, setting n_jobs=1\n",
      "  n_jobs = self._backend.configure(n_jobs=self.n_jobs, parallel=self,\n",
      "[Parallel(n_jobs=15)]: Using backend SequentialBackend with 1 concurrent workers.\n",
      "[Parallel(n_jobs=15)]: Done   1 out of   1 | elapsed:    0.0s remaining:    0.0s\n",
      "[Parallel(n_jobs=15)]: Done   2 out of   2 | elapsed:    0.0s remaining:    0.0s\n",
      "[Parallel(n_jobs=15)]: Done   3 out of   3 | elapsed:    0.0s remaining:    0.0s\n",
      "[Parallel(n_jobs=15)]: Done   4 out of   4 | elapsed:    0.0s remaining:    0.0s\n",
      "[Parallel(n_jobs=15)]: Done  15 out of  15 | elapsed:    0.1s finished\n",
      "[Parallel(n_jobs=5)]: Done   4 out of   4 | elapsed:    3.9s remaining:    0.0s\n"
     ]
    },
    {
     "data": {
      "application/vnd.jupyter.widget-view+json": {
       "model_id": "187ed12948804a838cde3e8e2cedc1fa",
       "version_major": 2,
       "version_minor": 0
      },
      "text/plain": [
       "  0%|          | Fitting SlidingEstimator : 0/146 [00:00<?,       ?it/s]"
      ]
     },
     "metadata": {},
     "output_type": "display_data"
    },
    {
     "name": "stderr",
     "output_type": "stream",
     "text": [
      "/u/fklotzsche/conda-envs/mne/lib/python3.9/site-packages/joblib/parallel.py:735: UserWarning: Loky-backed parallel loops cannot be called in a multiprocessing, setting n_jobs=1\n",
      "  n_jobs = self._backend.configure(n_jobs=self.n_jobs, parallel=self,\n",
      "/u/fklotzsche/conda-envs/mne/lib/python3.9/site-packages/joblib/parallel.py:735: UserWarning: Loky-backed parallel loops cannot be called in a multiprocessing, setting n_jobs=1\n",
      "  n_jobs = self._backend.configure(n_jobs=self.n_jobs, parallel=self,\n",
      "[Parallel(n_jobs=15)]: Using backend SequentialBackend with 1 concurrent workers.\n",
      "[Parallel(n_jobs=15)]: Done   1 out of   1 | elapsed:    0.0s remaining:    0.0s\n",
      "[Parallel(n_jobs=15)]: Done   2 out of   2 | elapsed:    0.0s remaining:    0.0s\n",
      "[Parallel(n_jobs=15)]: Done   3 out of   3 | elapsed:    0.0s remaining:    0.0s\n",
      "[Parallel(n_jobs=15)]: Done   4 out of   4 | elapsed:    0.0s remaining:    0.0s\n",
      "[Parallel(n_jobs=15)]: Done  15 out of  15 | elapsed:    0.1s finished\n",
      "[Parallel(n_jobs=5)]: Done   2 out of   2 | elapsed:    1.9s remaining:    0.0s\n"
     ]
    },
    {
     "data": {
      "application/vnd.jupyter.widget-view+json": {
       "model_id": "760329c42cc84ecea8175e2f8b8acc2d",
       "version_major": 2,
       "version_minor": 0
      },
      "text/plain": [
       "  0%|          | Fitting SlidingEstimator : 0/146 [00:00<?,       ?it/s]"
      ]
     },
     "metadata": {},
     "output_type": "display_data"
    },
    {
     "name": "stderr",
     "output_type": "stream",
     "text": [
      "/u/fklotzsche/conda-envs/mne/lib/python3.9/site-packages/joblib/parallel.py:735: UserWarning: Loky-backed parallel loops cannot be called in a multiprocessing, setting n_jobs=1\n",
      "  n_jobs = self._backend.configure(n_jobs=self.n_jobs, parallel=self,\n"
     ]
    },
    {
     "name": "stdout",
     "output_type": "stream",
     "text": [
      "y shape: (20,)\n",
      "[1. 1. 1. 0. 1. 0. 0. 0. 1. 0. 0. 1. 1. 1. 0. 0. 0. 1. 1. 0.]\n"
     ]
    },
    {
     "name": "stderr",
     "output_type": "stream",
     "text": [
      "/u/fklotzsche/conda-envs/mne/lib/python3.9/site-packages/joblib/parallel.py:735: UserWarning: Loky-backed parallel loops cannot be called in a multiprocessing, setting n_jobs=1\n",
      "  n_jobs = self._backend.configure(n_jobs=self.n_jobs, parallel=self,\n",
      "[Parallel(n_jobs=5)]: Using backend SequentialBackend with 1 concurrent workers.\n",
      "/u/fklotzsche/conda-envs/mne/lib/python3.9/site-packages/joblib/parallel.py:735: UserWarning: Loky-backed parallel loops cannot be called in a multiprocessing, setting n_jobs=1\n",
      "  n_jobs = self._backend.configure(n_jobs=self.n_jobs, parallel=self,\n",
      "[Parallel(n_jobs=15)]: Using backend SequentialBackend with 1 concurrent workers.\n"
     ]
    },
    {
     "data": {
      "application/vnd.jupyter.widget-view+json": {
       "model_id": "f394369a36314c658c1116f6fb4284be",
       "version_major": 2,
       "version_minor": 0
      },
      "text/plain": [
       "  0%|          | Fitting SlidingEstimator : 0/146 [00:00<?,       ?it/s]"
      ]
     },
     "metadata": {},
     "output_type": "display_data"
    },
    {
     "name": "stderr",
     "output_type": "stream",
     "text": [
      "[Parallel(n_jobs=15)]: Done   1 out of   1 | elapsed:    0.0s remaining:    0.0s\n",
      "/u/fklotzsche/conda-envs/mne/lib/python3.9/site-packages/joblib/parallel.py:735: UserWarning: Loky-backed parallel loops cannot be called in a multiprocessing, setting n_jobs=1\n",
      "  n_jobs = self._backend.configure(n_jobs=self.n_jobs, parallel=self,\n",
      "[Parallel(n_jobs=15)]: Done   2 out of   2 | elapsed:    0.0s remaining:    0.0s\n",
      "[Parallel(n_jobs=15)]: Done   3 out of   3 | elapsed:    0.1s remaining:    0.0s\n",
      "[Parallel(n_jobs=15)]: Done   4 out of   4 | elapsed:    0.1s remaining:    0.0s\n",
      "/u/fklotzsche/conda-envs/mne/lib/python3.9/site-packages/joblib/parallel.py:735: UserWarning: Loky-backed parallel loops cannot be called in a multiprocessing, setting n_jobs=1\n",
      "  n_jobs = self._backend.configure(n_jobs=self.n_jobs, parallel=self,\n",
      "[Parallel(n_jobs=15)]: Using backend SequentialBackend with 1 concurrent workers.\n",
      "[Parallel(n_jobs=15)]: Done   1 out of   1 | elapsed:    0.0s remaining:    0.0s\n",
      "[Parallel(n_jobs=15)]: Done   2 out of   2 | elapsed:    0.0s remaining:    0.0s\n",
      "[Parallel(n_jobs=15)]: Done   3 out of   3 | elapsed:    0.0s remaining:    0.0s\n",
      "[Parallel(n_jobs=15)]: Done   4 out of   4 | elapsed:    0.1s remaining:    0.0s\n",
      "[Parallel(n_jobs=15)]: Done  15 out of  15 | elapsed:    0.1s finished\n",
      "[Parallel(n_jobs=5)]: Done   5 out of   5 | elapsed:    4.8s finished\n"
     ]
    },
    {
     "data": {
      "application/vnd.jupyter.widget-view+json": {
       "model_id": "32b33eb2cc6f4a30a652c490dcb326f8",
       "version_major": 2,
       "version_minor": 0
      },
      "text/plain": [
       "  0%|          | Fitting SlidingEstimator : 0/146 [00:00<?,       ?it/s]"
      ]
     },
     "metadata": {},
     "output_type": "display_data"
    },
    {
     "name": "stderr",
     "output_type": "stream",
     "text": [
      "/u/fklotzsche/conda-envs/mne/lib/python3.9/site-packages/joblib/parallel.py:735: UserWarning: Loky-backed parallel loops cannot be called in a multiprocessing, setting n_jobs=1\n",
      "  n_jobs = self._backend.configure(n_jobs=self.n_jobs, parallel=self,\n",
      "[Parallel(n_jobs=15)]: Done  15 out of  15 | elapsed:    0.1s finished\n",
      "[Parallel(n_jobs=5)]: Done   3 out of   3 | elapsed:    2.9s remaining:    0.0s\n",
      "/u/fklotzsche/conda-envs/mne/lib/python3.9/site-packages/joblib/parallel.py:735: UserWarning: Loky-backed parallel loops cannot be called in a multiprocessing, setting n_jobs=1\n",
      "  n_jobs = self._backend.configure(n_jobs=self.n_jobs, parallel=self,\n",
      "[Parallel(n_jobs=15)]: Using backend SequentialBackend with 1 concurrent workers.\n",
      "[Parallel(n_jobs=15)]: Done   1 out of   1 | elapsed:    0.0s remaining:    0.0s\n",
      "[Parallel(n_jobs=15)]: Done   2 out of   2 | elapsed:    0.0s remaining:    0.0s\n",
      "[Parallel(n_jobs=15)]: Done   3 out of   3 | elapsed:    0.0s remaining:    0.0s\n"
     ]
    },
    {
     "data": {
      "application/vnd.jupyter.widget-view+json": {
       "model_id": "e7001edea25c4f17b7b5feb6971fb197",
       "version_major": 2,
       "version_minor": 0
      },
      "text/plain": [
       "  0%|          | Fitting SlidingEstimator : 0/146 [00:00<?,       ?it/s]"
      ]
     },
     "metadata": {},
     "output_type": "display_data"
    },
    {
     "name": "stderr",
     "output_type": "stream",
     "text": [
      "[Parallel(n_jobs=15)]: Done   4 out of   4 | elapsed:    0.1s remaining:    0.0s\n",
      "/u/fklotzsche/conda-envs/mne/lib/python3.9/site-packages/joblib/parallel.py:735: UserWarning: Loky-backed parallel loops cannot be called in a multiprocessing, setting n_jobs=1\n",
      "  n_jobs = self._backend.configure(n_jobs=self.n_jobs, parallel=self,\n",
      "[Parallel(n_jobs=15)]: Done  15 out of  15 | elapsed:    0.1s finished\n",
      "[Parallel(n_jobs=5)]: Done   5 out of   5 | elapsed:    4.8s finished\n"
     ]
    },
    {
     "data": {
      "application/vnd.jupyter.widget-view+json": {
       "model_id": "d7ae80ff1b844cbcb6eae638be3270ea",
       "version_major": 2,
       "version_minor": 0
      },
      "text/plain": [
       "  0%|          | Fitting SlidingEstimator : 0/146 [00:00<?,       ?it/s]"
      ]
     },
     "metadata": {},
     "output_type": "display_data"
    },
    {
     "name": "stderr",
     "output_type": "stream",
     "text": [
      "/u/fklotzsche/conda-envs/mne/lib/python3.9/site-packages/joblib/parallel.py:735: UserWarning: Loky-backed parallel loops cannot be called in a multiprocessing, setting n_jobs=1\n",
      "  n_jobs = self._backend.configure(n_jobs=self.n_jobs, parallel=self,\n",
      "/u/fklotzsche/conda-envs/mne/lib/python3.9/site-packages/joblib/parallel.py:735: UserWarning: Loky-backed parallel loops cannot be called in a multiprocessing, setting n_jobs=1\n",
      "  n_jobs = self._backend.configure(n_jobs=self.n_jobs, parallel=self,\n",
      "[Parallel(n_jobs=15)]: Using backend SequentialBackend with 1 concurrent workers.\n",
      "[Parallel(n_jobs=15)]: Done   1 out of   1 | elapsed:    0.0s remaining:    0.0s\n",
      "[Parallel(n_jobs=15)]: Done   2 out of   2 | elapsed:    0.0s remaining:    0.0s\n",
      "[Parallel(n_jobs=15)]: Done   3 out of   3 | elapsed:    0.0s remaining:    0.0s\n",
      "[Parallel(n_jobs=15)]: Done   4 out of   4 | elapsed:    0.1s remaining:    0.0s\n",
      "/u/fklotzsche/conda-envs/mne/lib/python3.9/site-packages/joblib/parallel.py:735: UserWarning: Loky-backed parallel loops cannot be called in a multiprocessing, setting n_jobs=1\n",
      "  n_jobs = self._backend.configure(n_jobs=self.n_jobs, parallel=self,\n",
      "[Parallel(n_jobs=15)]: Using backend SequentialBackend with 1 concurrent workers.\n",
      "[Parallel(n_jobs=15)]: Done   1 out of   1 | elapsed:    0.0s remaining:    0.0s\n",
      "[Parallel(n_jobs=15)]: Done   2 out of   2 | elapsed:    0.0s remaining:    0.0s\n",
      "[Parallel(n_jobs=15)]: Done   3 out of   3 | elapsed:    0.1s remaining:    0.0s\n",
      "[Parallel(n_jobs=15)]: Done  15 out of  15 | elapsed:    0.1s finished\n",
      "[Parallel(n_jobs=5)]: Done   3 out of   3 | elapsed:    3.0s remaining:    0.0s\n",
      "[Parallel(n_jobs=15)]: Done   4 out of   4 | elapsed:    0.1s remaining:    0.0s\n"
     ]
    },
    {
     "data": {
      "application/vnd.jupyter.widget-view+json": {
       "model_id": "3957e7c2f8324fa29e94b00c732e2e04",
       "version_major": 2,
       "version_minor": 0
      },
      "text/plain": [
       "  0%|          | Fitting SlidingEstimator : 0/146 [00:00<?,       ?it/s]"
      ]
     },
     "metadata": {},
     "output_type": "display_data"
    },
    {
     "name": "stderr",
     "output_type": "stream",
     "text": [
      "/u/fklotzsche/conda-envs/mne/lib/python3.9/site-packages/joblib/parallel.py:735: UserWarning: Loky-backed parallel loops cannot be called in a multiprocessing, setting n_jobs=1\n",
      "  n_jobs = self._backend.configure(n_jobs=self.n_jobs, parallel=self,\n",
      "[Parallel(n_jobs=15)]: Done  15 out of  15 | elapsed:    0.2s finished\n",
      "[Parallel(n_jobs=5)]: Done   1 out of   1 | elapsed:    1.0s remaining:    0.0s\n"
     ]
    },
    {
     "name": "stdout",
     "output_type": "stream",
     "text": [
      "y shape: (22,)\n",
      "[1. 1. 0. 0. 0. 1. 1. 0. 0. 0. 0. 0. 1. 1. 1. 0. 1. 1. 0. 1. 0. 1.]\n"
     ]
    },
    {
     "name": "stderr",
     "output_type": "stream",
     "text": [
      "/u/fklotzsche/conda-envs/mne/lib/python3.9/site-packages/joblib/parallel.py:735: UserWarning: Loky-backed parallel loops cannot be called in a multiprocessing, setting n_jobs=1\n",
      "  n_jobs = self._backend.configure(n_jobs=self.n_jobs, parallel=self,\n",
      "[Parallel(n_jobs=5)]: Using backend SequentialBackend with 1 concurrent workers.\n"
     ]
    },
    {
     "data": {
      "application/vnd.jupyter.widget-view+json": {
       "model_id": "fc27ab1e962148a79ee11fe0049c1049",
       "version_major": 2,
       "version_minor": 0
      },
      "text/plain": [
       "  0%|          | Fitting SlidingEstimator : 0/146 [00:00<?,       ?it/s]"
      ]
     },
     "metadata": {},
     "output_type": "display_data"
    },
    {
     "name": "stderr",
     "output_type": "stream",
     "text": [
      "/u/fklotzsche/conda-envs/mne/lib/python3.9/site-packages/joblib/parallel.py:735: UserWarning: Loky-backed parallel loops cannot be called in a multiprocessing, setting n_jobs=1\n",
      "  n_jobs = self._backend.configure(n_jobs=self.n_jobs, parallel=self,\n"
     ]
    },
    {
     "data": {
      "application/vnd.jupyter.widget-view+json": {
       "model_id": "cdd84187c57b4a869ac4254e771884d1",
       "version_major": 2,
       "version_minor": 0
      },
      "text/plain": [
       "  0%|          | Fitting SlidingEstimator : 0/146 [00:00<?,       ?it/s]"
      ]
     },
     "metadata": {},
     "output_type": "display_data"
    },
    {
     "name": "stderr",
     "output_type": "stream",
     "text": [
      "/u/fklotzsche/conda-envs/mne/lib/python3.9/site-packages/joblib/parallel.py:735: UserWarning: Loky-backed parallel loops cannot be called in a multiprocessing, setting n_jobs=1\n",
      "  n_jobs = self._backend.configure(n_jobs=self.n_jobs, parallel=self,\n",
      "[Parallel(n_jobs=15)]: Using backend SequentialBackend with 1 concurrent workers.\n",
      "/u/fklotzsche/conda-envs/mne/lib/python3.9/site-packages/joblib/parallel.py:735: UserWarning: Loky-backed parallel loops cannot be called in a multiprocessing, setting n_jobs=1\n",
      "  n_jobs = self._backend.configure(n_jobs=self.n_jobs, parallel=self,\n",
      "[Parallel(n_jobs=15)]: Done   1 out of   1 | elapsed:    0.0s remaining:    0.0s\n",
      "[Parallel(n_jobs=15)]: Done   2 out of   2 | elapsed:    0.0s remaining:    0.0s\n",
      "[Parallel(n_jobs=15)]: Done   3 out of   3 | elapsed:    0.0s remaining:    0.0s\n",
      "[Parallel(n_jobs=15)]: Done   4 out of   4 | elapsed:    0.1s remaining:    0.0s\n",
      "[Parallel(n_jobs=15)]: Done  15 out of  15 | elapsed:    0.1s finished\n",
      "[Parallel(n_jobs=5)]: Done   4 out of   4 | elapsed:    3.8s remaining:    0.0s\n"
     ]
    },
    {
     "data": {
      "application/vnd.jupyter.widget-view+json": {
       "model_id": "fcb8f9fa359d438194905ebe7c25ff1a",
       "version_major": 2,
       "version_minor": 0
      },
      "text/plain": [
       "  0%|          | Fitting SlidingEstimator : 0/146 [00:00<?,       ?it/s]"
      ]
     },
     "metadata": {},
     "output_type": "display_data"
    },
    {
     "name": "stderr",
     "output_type": "stream",
     "text": [
      "/u/fklotzsche/conda-envs/mne/lib/python3.9/site-packages/joblib/parallel.py:735: UserWarning: Loky-backed parallel loops cannot be called in a multiprocessing, setting n_jobs=1\n",
      "  n_jobs = self._backend.configure(n_jobs=self.n_jobs, parallel=self,\n",
      "/u/fklotzsche/conda-envs/mne/lib/python3.9/site-packages/joblib/parallel.py:735: UserWarning: Loky-backed parallel loops cannot be called in a multiprocessing, setting n_jobs=1\n",
      "  n_jobs = self._backend.configure(n_jobs=self.n_jobs, parallel=self,\n",
      "[Parallel(n_jobs=15)]: Using backend SequentialBackend with 1 concurrent workers.\n",
      "[Parallel(n_jobs=15)]: Done   1 out of   1 | elapsed:    0.0s remaining:    0.0s\n",
      "[Parallel(n_jobs=15)]: Done   2 out of   2 | elapsed:    0.0s remaining:    0.0s\n",
      "[Parallel(n_jobs=15)]: Done   3 out of   3 | elapsed:    0.0s remaining:    0.0s\n",
      "[Parallel(n_jobs=15)]: Done   4 out of   4 | elapsed:    0.0s remaining:    0.0s\n",
      "/u/fklotzsche/conda-envs/mne/lib/python3.9/site-packages/joblib/parallel.py:735: UserWarning: Loky-backed parallel loops cannot be called in a multiprocessing, setting n_jobs=1\n",
      "  n_jobs = self._backend.configure(n_jobs=self.n_jobs, parallel=self,\n",
      "[Parallel(n_jobs=15)]: Using backend SequentialBackend with 1 concurrent workers.\n",
      "[Parallel(n_jobs=15)]: Done   1 out of   1 | elapsed:    0.0s remaining:    0.0s\n",
      "[Parallel(n_jobs=15)]: Done   2 out of   2 | elapsed:    0.0s remaining:    0.0s\n",
      "[Parallel(n_jobs=15)]: Done   3 out of   3 | elapsed:    0.0s remaining:    0.0s\n",
      "[Parallel(n_jobs=15)]: Done   4 out of   4 | elapsed:    0.0s remaining:    0.0s\n",
      "/u/fklotzsche/conda-envs/mne/lib/python3.9/site-packages/joblib/parallel.py:735: UserWarning: Loky-backed parallel loops cannot be called in a multiprocessing, setting n_jobs=1\n",
      "  n_jobs = self._backend.configure(n_jobs=self.n_jobs, parallel=self,\n",
      "[Parallel(n_jobs=15)]: Using backend SequentialBackend with 1 concurrent workers.\n",
      "[Parallel(n_jobs=15)]: Done  15 out of  15 | elapsed:    0.1s finished\n",
      "[Parallel(n_jobs=5)]: Done   4 out of   4 | elapsed:    3.9s remaining:    0.0s\n",
      "[Parallel(n_jobs=15)]: Done   1 out of   1 | elapsed:    0.0s remaining:    0.0s\n",
      "[Parallel(n_jobs=15)]: Done   2 out of   2 | elapsed:    0.0s remaining:    0.0s\n"
     ]
    },
    {
     "data": {
      "application/vnd.jupyter.widget-view+json": {
       "model_id": "2404bf057cbf4d43ac0887fb09e38d77",
       "version_major": 2,
       "version_minor": 0
      },
      "text/plain": [
       "  0%|          | Fitting SlidingEstimator : 0/146 [00:00<?,       ?it/s]"
      ]
     },
     "metadata": {},
     "output_type": "display_data"
    },
    {
     "name": "stderr",
     "output_type": "stream",
     "text": [
      "/u/fklotzsche/conda-envs/mne/lib/python3.9/site-packages/joblib/parallel.py:735: UserWarning: Loky-backed parallel loops cannot be called in a multiprocessing, setting n_jobs=1\n",
      "  n_jobs = self._backend.configure(n_jobs=self.n_jobs, parallel=self,\n",
      "[Parallel(n_jobs=15)]: Done   3 out of   3 | elapsed:    0.0s remaining:    0.0s\n",
      "[Parallel(n_jobs=15)]: Done  15 out of  15 | elapsed:    0.1s finished\n",
      "[Parallel(n_jobs=5)]: Done   2 out of   2 | elapsed:    1.8s remaining:    0.0s\n",
      "[Parallel(n_jobs=15)]: Done   4 out of   4 | elapsed:    0.0s remaining:    0.0s\n"
     ]
    },
    {
     "data": {
      "application/vnd.jupyter.widget-view+json": {
       "model_id": "2664e54f84d346de91a99d91a8c400a3",
       "version_major": 2,
       "version_minor": 0
      },
      "text/plain": [
       "  0%|          | Fitting SlidingEstimator : 0/146 [00:00<?,       ?it/s]"
      ]
     },
     "metadata": {},
     "output_type": "display_data"
    },
    {
     "name": "stderr",
     "output_type": "stream",
     "text": [
      "/u/fklotzsche/conda-envs/mne/lib/python3.9/site-packages/joblib/parallel.py:735: UserWarning: Loky-backed parallel loops cannot be called in a multiprocessing, setting n_jobs=1\n",
      "  n_jobs = self._backend.configure(n_jobs=self.n_jobs, parallel=self,\n",
      "[Parallel(n_jobs=15)]: Done  15 out of  15 | elapsed:    0.1s finished\n",
      "[Parallel(n_jobs=5)]: Done   1 out of   1 | elapsed:    0.9s remaining:    0.0s\n"
     ]
    },
    {
     "data": {
      "application/vnd.jupyter.widget-view+json": {
       "model_id": "3ab88c8ad1af458699cdd2982276019f",
       "version_major": 2,
       "version_minor": 0
      },
      "text/plain": [
       "  0%|          | Fitting SlidingEstimator : 0/146 [00:00<?,       ?it/s]"
      ]
     },
     "metadata": {},
     "output_type": "display_data"
    },
    {
     "name": "stderr",
     "output_type": "stream",
     "text": [
      "/u/fklotzsche/conda-envs/mne/lib/python3.9/site-packages/joblib/parallel.py:735: UserWarning: Loky-backed parallel loops cannot be called in a multiprocessing, setting n_jobs=1\n",
      "  n_jobs = self._backend.configure(n_jobs=self.n_jobs, parallel=self,\n",
      "/u/fklotzsche/conda-envs/mne/lib/python3.9/site-packages/joblib/parallel.py:735: UserWarning: Loky-backed parallel loops cannot be called in a multiprocessing, setting n_jobs=1\n",
      "  n_jobs = self._backend.configure(n_jobs=self.n_jobs, parallel=self,\n",
      "[Parallel(n_jobs=15)]: Using backend SequentialBackend with 1 concurrent workers.\n",
      "[Parallel(n_jobs=15)]: Done   1 out of   1 | elapsed:    0.0s remaining:    0.0s\n",
      "[Parallel(n_jobs=15)]: Done   2 out of   2 | elapsed:    0.0s remaining:    0.0s\n",
      "[Parallel(n_jobs=15)]: Done   3 out of   3 | elapsed:    0.0s remaining:    0.0s\n",
      "[Parallel(n_jobs=15)]: Done   4 out of   4 | elapsed:    0.0s remaining:    0.0s\n",
      "[Parallel(n_jobs=15)]: Done  15 out of  15 | elapsed:    0.1s finished\n",
      "[Parallel(n_jobs=5)]: Done   5 out of   5 | elapsed:    4.7s finished\n"
     ]
    },
    {
     "data": {
      "application/vnd.jupyter.widget-view+json": {
       "model_id": "8c97027129284447a8a05c2c00e5d116",
       "version_major": 2,
       "version_minor": 0
      },
      "text/plain": [
       "  0%|          | Fitting SlidingEstimator : 0/146 [00:00<?,       ?it/s]"
      ]
     },
     "metadata": {},
     "output_type": "display_data"
    },
    {
     "name": "stderr",
     "output_type": "stream",
     "text": [
      "/u/fklotzsche/conda-envs/mne/lib/python3.9/site-packages/joblib/parallel.py:735: UserWarning: Loky-backed parallel loops cannot be called in a multiprocessing, setting n_jobs=1\n",
      "  n_jobs = self._backend.configure(n_jobs=self.n_jobs, parallel=self,\n",
      "/u/fklotzsche/conda-envs/mne/lib/python3.9/site-packages/joblib/parallel.py:735: UserWarning: Loky-backed parallel loops cannot be called in a multiprocessing, setting n_jobs=1\n",
      "  n_jobs = self._backend.configure(n_jobs=self.n_jobs, parallel=self,\n",
      "[Parallel(n_jobs=15)]: Using backend SequentialBackend with 1 concurrent workers.\n",
      "[Parallel(n_jobs=15)]: Done   1 out of   1 | elapsed:    0.0s remaining:    0.0s\n",
      "[Parallel(n_jobs=15)]: Done   2 out of   2 | elapsed:    0.0s remaining:    0.0s\n",
      "[Parallel(n_jobs=15)]: Done   3 out of   3 | elapsed:    0.0s remaining:    0.0s\n",
      "[Parallel(n_jobs=15)]: Done   4 out of   4 | elapsed:    0.0s remaining:    0.0s\n"
     ]
    },
    {
     "name": "stdout",
     "output_type": "stream",
     "text": [
      "y shape: (20,)\n",
      "[1. 1. 0. 1. 1. 0. 1. 1. 0. 1. 1. 0. 0. 0. 0. 0. 0. 1. 0. 1.]\n"
     ]
    },
    {
     "name": "stderr",
     "output_type": "stream",
     "text": [
      "/u/fklotzsche/conda-envs/mne/lib/python3.9/site-packages/joblib/parallel.py:735: UserWarning: Loky-backed parallel loops cannot be called in a multiprocessing, setting n_jobs=1\n",
      "  n_jobs = self._backend.configure(n_jobs=self.n_jobs, parallel=self,\n",
      "[Parallel(n_jobs=5)]: Using backend SequentialBackend with 1 concurrent workers.\n"
     ]
    },
    {
     "data": {
      "application/vnd.jupyter.widget-view+json": {
       "model_id": "6e61be8cee61410cb566d12746250f72",
       "version_major": 2,
       "version_minor": 0
      },
      "text/plain": [
       "  0%|          | Fitting SlidingEstimator : 0/146 [00:00<?,       ?it/s]"
      ]
     },
     "metadata": {},
     "output_type": "display_data"
    },
    {
     "name": "stderr",
     "output_type": "stream",
     "text": [
      "/u/fklotzsche/conda-envs/mne/lib/python3.9/site-packages/joblib/parallel.py:735: UserWarning: Loky-backed parallel loops cannot be called in a multiprocessing, setting n_jobs=1\n",
      "  n_jobs = self._backend.configure(n_jobs=self.n_jobs, parallel=self,\n",
      "[Parallel(n_jobs=15)]: Done  15 out of  15 | elapsed:    0.1s finished\n",
      "[Parallel(n_jobs=5)]: Done   5 out of   5 | elapsed:    4.7s finished\n"
     ]
    },
    {
     "data": {
      "application/vnd.jupyter.widget-view+json": {
       "model_id": "d367f32f60ed4fbf904962653fbce656",
       "version_major": 2,
       "version_minor": 0
      },
      "text/plain": [
       "  0%|          | Fitting SlidingEstimator : 0/146 [00:00<?,       ?it/s]"
      ]
     },
     "metadata": {},
     "output_type": "display_data"
    },
    {
     "name": "stderr",
     "output_type": "stream",
     "text": [
      "/u/fklotzsche/conda-envs/mne/lib/python3.9/site-packages/joblib/parallel.py:735: UserWarning: Loky-backed parallel loops cannot be called in a multiprocessing, setting n_jobs=1\n",
      "  n_jobs = self._backend.configure(n_jobs=self.n_jobs, parallel=self,\n",
      "/u/fklotzsche/conda-envs/mne/lib/python3.9/site-packages/joblib/parallel.py:735: UserWarning: Loky-backed parallel loops cannot be called in a multiprocessing, setting n_jobs=1\n",
      "  n_jobs = self._backend.configure(n_jobs=self.n_jobs, parallel=self,\n",
      "[Parallel(n_jobs=15)]: Using backend SequentialBackend with 1 concurrent workers.\n",
      "/u/fklotzsche/conda-envs/mne/lib/python3.9/site-packages/joblib/parallel.py:735: UserWarning: Loky-backed parallel loops cannot be called in a multiprocessing, setting n_jobs=1\n",
      "  n_jobs = self._backend.configure(n_jobs=self.n_jobs, parallel=self,\n",
      "[Parallel(n_jobs=15)]: Using backend SequentialBackend with 1 concurrent workers.\n",
      "[Parallel(n_jobs=15)]: Done   1 out of   1 | elapsed:    0.0s remaining:    0.0s\n",
      "[Parallel(n_jobs=15)]: Done   2 out of   2 | elapsed:    0.0s remaining:    0.0s\n",
      "[Parallel(n_jobs=15)]: Done   1 out of   1 | elapsed:    0.0s remaining:    0.0s\n",
      "[Parallel(n_jobs=15)]: Done   3 out of   3 | elapsed:    0.0s remaining:    0.0s\n",
      "[Parallel(n_jobs=15)]: Done   4 out of   4 | elapsed:    0.0s remaining:    0.0s\n",
      "[Parallel(n_jobs=15)]: Done   2 out of   2 | elapsed:    0.0s remaining:    0.0s\n",
      "[Parallel(n_jobs=15)]: Done   3 out of   3 | elapsed:    0.0s remaining:    0.0s\n",
      "[Parallel(n_jobs=15)]: Done   4 out of   4 | elapsed:    0.0s remaining:    0.0s\n"
     ]
    },
    {
     "name": "stdout",
     "output_type": "stream",
     "text": [
      "y shape: (19,)\n",
      "[1. 1. 1. 1. 0. 1. 0. 1. 1. 1. 0. 0. 0. 0. 0. 0. 0. 1. 0.]\n"
     ]
    },
    {
     "name": "stderr",
     "output_type": "stream",
     "text": [
      "/u/fklotzsche/conda-envs/mne/lib/python3.9/site-packages/joblib/parallel.py:735: UserWarning: Loky-backed parallel loops cannot be called in a multiprocessing, setting n_jobs=1\n",
      "  n_jobs = self._backend.configure(n_jobs=self.n_jobs, parallel=self,\n",
      "[Parallel(n_jobs=5)]: Using backend SequentialBackend with 1 concurrent workers.\n"
     ]
    },
    {
     "data": {
      "application/vnd.jupyter.widget-view+json": {
       "model_id": "19dcb69b77fb4cf08f5408b460fd4870",
       "version_major": 2,
       "version_minor": 0
      },
      "text/plain": [
       "  0%|          | Fitting SlidingEstimator : 0/146 [00:00<?,       ?it/s]"
      ]
     },
     "metadata": {},
     "output_type": "display_data"
    },
    {
     "name": "stderr",
     "output_type": "stream",
     "text": [
      "/u/fklotzsche/conda-envs/mne/lib/python3.9/site-packages/joblib/parallel.py:735: UserWarning: Loky-backed parallel loops cannot be called in a multiprocessing, setting n_jobs=1\n",
      "  n_jobs = self._backend.configure(n_jobs=self.n_jobs, parallel=self,\n",
      "[Parallel(n_jobs=15)]: Done  15 out of  15 | elapsed:    0.1s finished\n",
      "[Parallel(n_jobs=5)]: Done   3 out of   3 | elapsed:    2.8s remaining:    0.0s\n",
      "[Parallel(n_jobs=15)]: Done  15 out of  15 | elapsed:    0.1s finished\n",
      "[Parallel(n_jobs=5)]: Done   2 out of   2 | elapsed:    1.8s remaining:    0.0s\n"
     ]
    },
    {
     "data": {
      "application/vnd.jupyter.widget-view+json": {
       "model_id": "aaaeba66a952416592681e930840bbec",
       "version_major": 2,
       "version_minor": 0
      },
      "text/plain": [
       "  0%|          | Fitting SlidingEstimator : 0/146 [00:00<?,       ?it/s]"
      ]
     },
     "metadata": {},
     "output_type": "display_data"
    },
    {
     "name": "stderr",
     "output_type": "stream",
     "text": [
      "/u/fklotzsche/conda-envs/mne/lib/python3.9/site-packages/joblib/parallel.py:735: UserWarning: Loky-backed parallel loops cannot be called in a multiprocessing, setting n_jobs=1\n",
      "  n_jobs = self._backend.configure(n_jobs=self.n_jobs, parallel=self,\n"
     ]
    },
    {
     "data": {
      "application/vnd.jupyter.widget-view+json": {
       "model_id": "e83ccfb010e146a2a1d1a9ee17133d7d",
       "version_major": 2,
       "version_minor": 0
      },
      "text/plain": [
       "  0%|          | Fitting SlidingEstimator : 0/146 [00:00<?,       ?it/s]"
      ]
     },
     "metadata": {},
     "output_type": "display_data"
    },
    {
     "name": "stderr",
     "output_type": "stream",
     "text": [
      "/u/fklotzsche/conda-envs/mne/lib/python3.9/site-packages/joblib/parallel.py:735: UserWarning: Loky-backed parallel loops cannot be called in a multiprocessing, setting n_jobs=1\n",
      "  n_jobs = self._backend.configure(n_jobs=self.n_jobs, parallel=self,\n",
      "/u/fklotzsche/conda-envs/mne/lib/python3.9/site-packages/joblib/parallel.py:735: UserWarning: Loky-backed parallel loops cannot be called in a multiprocessing, setting n_jobs=1\n",
      "  n_jobs = self._backend.configure(n_jobs=self.n_jobs, parallel=self,\n",
      "[Parallel(n_jobs=15)]: Using backend SequentialBackend with 1 concurrent workers.\n",
      "[Parallel(n_jobs=15)]: Done   1 out of   1 | elapsed:    0.0s remaining:    0.0s\n",
      "[Parallel(n_jobs=15)]: Done   2 out of   2 | elapsed:    0.0s remaining:    0.0s\n",
      "[Parallel(n_jobs=15)]: Done   3 out of   3 | elapsed:    0.0s remaining:    0.0s\n",
      "[Parallel(n_jobs=15)]: Done   4 out of   4 | elapsed:    0.0s remaining:    0.0s\n",
      "[Parallel(n_jobs=15)]: Done  15 out of  15 | elapsed:    0.1s finished\n",
      "[Parallel(n_jobs=5)]: Done   1 out of   1 | elapsed:    0.9s remaining:    0.0s\n"
     ]
    },
    {
     "data": {
      "application/vnd.jupyter.widget-view+json": {
       "model_id": "023e422ce6ee4fa888625b3dc814088c",
       "version_major": 2,
       "version_minor": 0
      },
      "text/plain": [
       "  0%|          | Fitting SlidingEstimator : 0/146 [00:00<?,       ?it/s]"
      ]
     },
     "metadata": {},
     "output_type": "display_data"
    },
    {
     "name": "stderr",
     "output_type": "stream",
     "text": [
      "/u/fklotzsche/conda-envs/mne/lib/python3.9/site-packages/joblib/parallel.py:735: UserWarning: Loky-backed parallel loops cannot be called in a multiprocessing, setting n_jobs=1\n",
      "  n_jobs = self._backend.configure(n_jobs=self.n_jobs, parallel=self,\n",
      "/u/fklotzsche/conda-envs/mne/lib/python3.9/site-packages/joblib/parallel.py:735: UserWarning: Loky-backed parallel loops cannot be called in a multiprocessing, setting n_jobs=1\n",
      "  n_jobs = self._backend.configure(n_jobs=self.n_jobs, parallel=self,\n",
      "[Parallel(n_jobs=15)]: Using backend SequentialBackend with 1 concurrent workers.\n",
      "[Parallel(n_jobs=15)]: Done   1 out of   1 | elapsed:    0.0s remaining:    0.0s\n",
      "[Parallel(n_jobs=15)]: Done   2 out of   2 | elapsed:    0.0s remaining:    0.0s\n",
      "[Parallel(n_jobs=15)]: Done   3 out of   3 | elapsed:    0.0s remaining:    0.0s\n",
      "/u/fklotzsche/conda-envs/mne/lib/python3.9/site-packages/joblib/parallel.py:735: UserWarning: Loky-backed parallel loops cannot be called in a multiprocessing, setting n_jobs=1\n",
      "  n_jobs = self._backend.configure(n_jobs=self.n_jobs, parallel=self,\n",
      "[Parallel(n_jobs=15)]: Using backend SequentialBackend with 1 concurrent workers.\n",
      "[Parallel(n_jobs=15)]: Done   4 out of   4 | elapsed:    0.0s remaining:    0.0s\n",
      "[Parallel(n_jobs=15)]: Done   1 out of   1 | elapsed:    0.0s remaining:    0.0s\n",
      "[Parallel(n_jobs=15)]: Done   2 out of   2 | elapsed:    0.0s remaining:    0.0s\n",
      "[Parallel(n_jobs=15)]: Done   3 out of   3 | elapsed:    0.0s remaining:    0.0s\n",
      "[Parallel(n_jobs=15)]: Done   4 out of   4 | elapsed:    0.0s remaining:    0.0s\n",
      "/u/fklotzsche/conda-envs/mne/lib/python3.9/site-packages/joblib/parallel.py:735: UserWarning: Loky-backed parallel loops cannot be called in a multiprocessing, setting n_jobs=1\n",
      "  n_jobs = self._backend.configure(n_jobs=self.n_jobs, parallel=self,\n",
      "[Parallel(n_jobs=15)]: Using backend SequentialBackend with 1 concurrent workers.\n",
      "[Parallel(n_jobs=15)]: Done   1 out of   1 | elapsed:    0.0s remaining:    0.0s\n",
      "[Parallel(n_jobs=15)]: Done   2 out of   2 | elapsed:    0.0s remaining:    0.0s\n",
      "[Parallel(n_jobs=15)]: Done   3 out of   3 | elapsed:    0.0s remaining:    0.0s\n",
      "[Parallel(n_jobs=15)]: Done  15 out of  15 | elapsed:    0.1s finished\n",
      "[Parallel(n_jobs=5)]: Done   3 out of   3 | elapsed:    2.6s remaining:    0.0s\n",
      "[Parallel(n_jobs=15)]: Done   4 out of   4 | elapsed:    0.0s remaining:    0.0s\n"
     ]
    },
    {
     "data": {
      "application/vnd.jupyter.widget-view+json": {
       "model_id": "869bf8913753461b975f1936e8705382",
       "version_major": 2,
       "version_minor": 0
      },
      "text/plain": [
       "  0%|          | Fitting SlidingEstimator : 0/146 [00:00<?,       ?it/s]"
      ]
     },
     "metadata": {},
     "output_type": "display_data"
    },
    {
     "name": "stderr",
     "output_type": "stream",
     "text": [
      "[Parallel(n_jobs=15)]: Done  15 out of  15 | elapsed:    0.1s finished\n",
      "/u/fklotzsche/conda-envs/mne/lib/python3.9/site-packages/joblib/parallel.py:735: UserWarning: Loky-backed parallel loops cannot be called in a multiprocessing, setting n_jobs=1\n",
      "  n_jobs = self._backend.configure(n_jobs=self.n_jobs, parallel=self,\n",
      "[Parallel(n_jobs=5)]: Done   4 out of   4 | elapsed:    3.7s remaining:    0.0s\n"
     ]
    },
    {
     "data": {
      "application/vnd.jupyter.widget-view+json": {
       "model_id": "bb37d5494684443185653d2d052865c9",
       "version_major": 2,
       "version_minor": 0
      },
      "text/plain": [
       "  0%|          | Fitting SlidingEstimator : 0/146 [00:00<?,       ?it/s]"
      ]
     },
     "metadata": {},
     "output_type": "display_data"
    },
    {
     "name": "stderr",
     "output_type": "stream",
     "text": [
      "/u/fklotzsche/conda-envs/mne/lib/python3.9/site-packages/joblib/parallel.py:735: UserWarning: Loky-backed parallel loops cannot be called in a multiprocessing, setting n_jobs=1\n",
      "  n_jobs = self._backend.configure(n_jobs=self.n_jobs, parallel=self,\n",
      "[Parallel(n_jobs=15)]: Done  15 out of  15 | elapsed:    0.1s finished\n",
      "[Parallel(n_jobs=5)]: Done   1 out of   1 | elapsed:    1.0s remaining:    0.0s\n"
     ]
    },
    {
     "data": {
      "application/vnd.jupyter.widget-view+json": {
       "model_id": "c1602d856b4849c7a18b182d75f5427a",
       "version_major": 2,
       "version_minor": 0
      },
      "text/plain": [
       "  0%|          | Fitting SlidingEstimator : 0/146 [00:00<?,       ?it/s]"
      ]
     },
     "metadata": {},
     "output_type": "display_data"
    },
    {
     "name": "stderr",
     "output_type": "stream",
     "text": [
      "/u/fklotzsche/conda-envs/mne/lib/python3.9/site-packages/joblib/parallel.py:735: UserWarning: Loky-backed parallel loops cannot be called in a multiprocessing, setting n_jobs=1\n",
      "  n_jobs = self._backend.configure(n_jobs=self.n_jobs, parallel=self,\n",
      "/u/fklotzsche/conda-envs/mne/lib/python3.9/site-packages/joblib/parallel.py:735: UserWarning: Loky-backed parallel loops cannot be called in a multiprocessing, setting n_jobs=1\n",
      "  n_jobs = self._backend.configure(n_jobs=self.n_jobs, parallel=self,\n",
      "[Parallel(n_jobs=15)]: Using backend SequentialBackend with 1 concurrent workers.\n",
      "[Parallel(n_jobs=15)]: Done   1 out of   1 | elapsed:    0.0s remaining:    0.0s\n",
      "[Parallel(n_jobs=15)]: Done   2 out of   2 | elapsed:    0.0s remaining:    0.0s\n",
      "[Parallel(n_jobs=15)]: Done   3 out of   3 | elapsed:    0.0s remaining:    0.0s\n",
      "[Parallel(n_jobs=15)]: Done   4 out of   4 | elapsed:    0.0s remaining:    0.0s\n",
      "[Parallel(n_jobs=15)]: Done  15 out of  15 | elapsed:    0.1s finished\n",
      "[Parallel(n_jobs=5)]: Done   2 out of   2 | elapsed:    1.8s remaining:    0.0s\n"
     ]
    },
    {
     "data": {
      "application/vnd.jupyter.widget-view+json": {
       "model_id": "bdababe24eab4450badad9e96c26d853",
       "version_major": 2,
       "version_minor": 0
      },
      "text/plain": [
       "  0%|          | Fitting SlidingEstimator : 0/146 [00:00<?,       ?it/s]"
      ]
     },
     "metadata": {},
     "output_type": "display_data"
    },
    {
     "name": "stderr",
     "output_type": "stream",
     "text": [
      "/u/fklotzsche/conda-envs/mne/lib/python3.9/site-packages/joblib/parallel.py:735: UserWarning: Loky-backed parallel loops cannot be called in a multiprocessing, setting n_jobs=1\n",
      "  n_jobs = self._backend.configure(n_jobs=self.n_jobs, parallel=self,\n",
      "/u/fklotzsche/conda-envs/mne/lib/python3.9/site-packages/joblib/parallel.py:735: UserWarning: Loky-backed parallel loops cannot be called in a multiprocessing, setting n_jobs=1\n",
      "  n_jobs = self._backend.configure(n_jobs=self.n_jobs, parallel=self,\n",
      "[Parallel(n_jobs=15)]: Using backend SequentialBackend with 1 concurrent workers.\n",
      "[Parallel(n_jobs=15)]: Done   1 out of   1 | elapsed:    0.0s remaining:    0.0s\n",
      "[Parallel(n_jobs=15)]: Done   2 out of   2 | elapsed:    0.0s remaining:    0.0s\n",
      "[Parallel(n_jobs=15)]: Done   3 out of   3 | elapsed:    0.0s remaining:    0.0s\n",
      "[Parallel(n_jobs=15)]: Done   4 out of   4 | elapsed:    0.0s remaining:    0.0s\n",
      "/u/fklotzsche/conda-envs/mne/lib/python3.9/site-packages/joblib/parallel.py:735: UserWarning: Loky-backed parallel loops cannot be called in a multiprocessing, setting n_jobs=1\n",
      "  n_jobs = self._backend.configure(n_jobs=self.n_jobs, parallel=self,\n",
      "[Parallel(n_jobs=15)]: Using backend SequentialBackend with 1 concurrent workers.\n",
      "/u/fklotzsche/conda-envs/mne/lib/python3.9/site-packages/joblib/parallel.py:735: UserWarning: Loky-backed parallel loops cannot be called in a multiprocessing, setting n_jobs=1\n",
      "  n_jobs = self._backend.configure(n_jobs=self.n_jobs, parallel=self,\n",
      "[Parallel(n_jobs=15)]: Using backend SequentialBackend with 1 concurrent workers.\n",
      "[Parallel(n_jobs=15)]: Done   1 out of   1 | elapsed:    0.0s remaining:    0.0s\n",
      "[Parallel(n_jobs=15)]: Done   1 out of   1 | elapsed:    0.0s remaining:    0.0s\n",
      "[Parallel(n_jobs=15)]: Done   2 out of   2 | elapsed:    0.0s remaining:    0.0s\n",
      "[Parallel(n_jobs=15)]: Done   2 out of   2 | elapsed:    0.0s remaining:    0.0s\n"
     ]
    },
    {
     "name": "stdout",
     "output_type": "stream",
     "text": [
      "y shape: (21,)\n",
      "[0. 1. 1. 1. 1. 1. 1. 0. 0. 1. 1. 0. 0. 0. 0. 1. 1. 0. 1. 0. 0.]\n"
     ]
    },
    {
     "name": "stderr",
     "output_type": "stream",
     "text": [
      "/u/fklotzsche/conda-envs/mne/lib/python3.9/site-packages/joblib/parallel.py:735: UserWarning: Loky-backed parallel loops cannot be called in a multiprocessing, setting n_jobs=1\n",
      "  n_jobs = self._backend.configure(n_jobs=self.n_jobs, parallel=self,\n",
      "[Parallel(n_jobs=5)]: Using backend SequentialBackend with 1 concurrent workers.\n",
      "[Parallel(n_jobs=15)]: Done   3 out of   3 | elapsed:    0.0s remaining:    0.0s\n",
      "[Parallel(n_jobs=15)]: Done   3 out of   3 | elapsed:    0.0s remaining:    0.0s\n",
      "[Parallel(n_jobs=15)]: Done   4 out of   4 | elapsed:    0.0s remaining:    0.0s\n",
      "[Parallel(n_jobs=15)]: Done   4 out of   4 | elapsed:    0.0s remaining:    0.0s\n"
     ]
    },
    {
     "data": {
      "application/vnd.jupyter.widget-view+json": {
       "model_id": "fe54ef9caf3e4fff9f462aa59b06a48b",
       "version_major": 2,
       "version_minor": 0
      },
      "text/plain": [
       "  0%|          | Fitting SlidingEstimator : 0/146 [00:00<?,       ?it/s]"
      ]
     },
     "metadata": {},
     "output_type": "display_data"
    },
    {
     "name": "stderr",
     "output_type": "stream",
     "text": [
      "/u/fklotzsche/conda-envs/mne/lib/python3.9/site-packages/joblib/parallel.py:735: UserWarning: Loky-backed parallel loops cannot be called in a multiprocessing, setting n_jobs=1\n",
      "  n_jobs = self._backend.configure(n_jobs=self.n_jobs, parallel=self,\n",
      "[Parallel(n_jobs=15)]: Done  15 out of  15 | elapsed:    0.1s finished\n",
      "[Parallel(n_jobs=5)]: Done   5 out of   5 | elapsed:    4.5s finished\n"
     ]
    },
    {
     "data": {
      "application/vnd.jupyter.widget-view+json": {
       "model_id": "d43617b5115a403cbefd64b1aebf166c",
       "version_major": 2,
       "version_minor": 0
      },
      "text/plain": [
       "  0%|          | Fitting SlidingEstimator : 0/146 [00:00<?,       ?it/s]"
      ]
     },
     "metadata": {},
     "output_type": "display_data"
    },
    {
     "name": "stderr",
     "output_type": "stream",
     "text": [
      "/u/fklotzsche/conda-envs/mne/lib/python3.9/site-packages/joblib/parallel.py:735: UserWarning: Loky-backed parallel loops cannot be called in a multiprocessing, setting n_jobs=1\n",
      "  n_jobs = self._backend.configure(n_jobs=self.n_jobs, parallel=self,\n",
      "[Parallel(n_jobs=15)]: Done  15 out of  15 | elapsed:    0.1s finished\n",
      "[Parallel(n_jobs=5)]: Done   2 out of   2 | elapsed:    1.8s remaining:    0.0s\n",
      "[Parallel(n_jobs=15)]: Done  15 out of  15 | elapsed:    0.1s finished\n",
      "[Parallel(n_jobs=5)]: Done   4 out of   4 | elapsed:    3.6s remaining:    0.0s\n"
     ]
    },
    {
     "data": {
      "application/vnd.jupyter.widget-view+json": {
       "model_id": "cc39fd1c5a95466090d08caa8b8fb5e0",
       "version_major": 2,
       "version_minor": 0
      },
      "text/plain": [
       "  0%|          | Fitting SlidingEstimator : 0/146 [00:00<?,       ?it/s]"
      ]
     },
     "metadata": {},
     "output_type": "display_data"
    },
    {
     "data": {
      "application/vnd.jupyter.widget-view+json": {
       "model_id": "f4348aafc57f422f9527d981a1035d9e",
       "version_major": 2,
       "version_minor": 0
      },
      "text/plain": [
       "  0%|          | Fitting SlidingEstimator : 0/146 [00:00<?,       ?it/s]"
      ]
     },
     "metadata": {},
     "output_type": "display_data"
    },
    {
     "name": "stderr",
     "output_type": "stream",
     "text": [
      "/u/fklotzsche/conda-envs/mne/lib/python3.9/site-packages/joblib/parallel.py:735: UserWarning: Loky-backed parallel loops cannot be called in a multiprocessing, setting n_jobs=1\n",
      "  n_jobs = self._backend.configure(n_jobs=self.n_jobs, parallel=self,\n",
      "/u/fklotzsche/conda-envs/mne/lib/python3.9/site-packages/joblib/parallel.py:735: UserWarning: Loky-backed parallel loops cannot be called in a multiprocessing, setting n_jobs=1\n",
      "  n_jobs = self._backend.configure(n_jobs=self.n_jobs, parallel=self,\n",
      "/u/fklotzsche/conda-envs/mne/lib/python3.9/site-packages/joblib/parallel.py:735: UserWarning: Loky-backed parallel loops cannot be called in a multiprocessing, setting n_jobs=1\n",
      "  n_jobs = self._backend.configure(n_jobs=self.n_jobs, parallel=self,\n",
      "[Parallel(n_jobs=15)]: Using backend SequentialBackend with 1 concurrent workers.\n",
      "[Parallel(n_jobs=15)]: Done   1 out of   1 | elapsed:    0.0s remaining:    0.0s\n",
      "[Parallel(n_jobs=15)]: Done   2 out of   2 | elapsed:    0.0s remaining:    0.0s\n",
      "[Parallel(n_jobs=15)]: Done   3 out of   3 | elapsed:    0.0s remaining:    0.0s\n",
      "[Parallel(n_jobs=15)]: Done   4 out of   4 | elapsed:    0.0s remaining:    0.0s\n",
      "[Parallel(n_jobs=15)]: Done  15 out of  15 | elapsed:    0.1s finished\n",
      "[Parallel(n_jobs=5)]: Done   3 out of   3 | elapsed:    2.6s remaining:    0.0s\n"
     ]
    },
    {
     "name": "stdout",
     "output_type": "stream",
     "text": [
      "y shape: (23,)\n",
      "[1. 0. 0. 0. 0. 1. 0. 0. 0. 1. 0. 0. 0. 1. 1. 1. 1. 1. 0. 1. 1. 0. 1.]\n"
     ]
    },
    {
     "name": "stderr",
     "output_type": "stream",
     "text": [
      "/u/fklotzsche/conda-envs/mne/lib/python3.9/site-packages/joblib/parallel.py:735: UserWarning: Loky-backed parallel loops cannot be called in a multiprocessing, setting n_jobs=1\n",
      "  n_jobs = self._backend.configure(n_jobs=self.n_jobs, parallel=self,\n",
      "[Parallel(n_jobs=5)]: Using backend SequentialBackend with 1 concurrent workers.\n"
     ]
    },
    {
     "data": {
      "application/vnd.jupyter.widget-view+json": {
       "model_id": "3cb9b72575a14960b82791cb19861079",
       "version_major": 2,
       "version_minor": 0
      },
      "text/plain": [
       "  0%|          | Fitting SlidingEstimator : 0/146 [00:00<?,       ?it/s]"
      ]
     },
     "metadata": {},
     "output_type": "display_data"
    },
    {
     "name": "stderr",
     "output_type": "stream",
     "text": [
      "/u/fklotzsche/conda-envs/mne/lib/python3.9/site-packages/joblib/parallel.py:735: UserWarning: Loky-backed parallel loops cannot be called in a multiprocessing, setting n_jobs=1\n",
      "  n_jobs = self._backend.configure(n_jobs=self.n_jobs, parallel=self,\n"
     ]
    },
    {
     "data": {
      "application/vnd.jupyter.widget-view+json": {
       "model_id": "7d59c9e356ee4f0a9f2b1772d2dd0deb",
       "version_major": 2,
       "version_minor": 0
      },
      "text/plain": [
       "  0%|          | Fitting SlidingEstimator : 0/146 [00:00<?,       ?it/s]"
      ]
     },
     "metadata": {},
     "output_type": "display_data"
    },
    {
     "name": "stderr",
     "output_type": "stream",
     "text": [
      "/u/fklotzsche/conda-envs/mne/lib/python3.9/site-packages/joblib/parallel.py:735: UserWarning: Loky-backed parallel loops cannot be called in a multiprocessing, setting n_jobs=1\n",
      "  n_jobs = self._backend.configure(n_jobs=self.n_jobs, parallel=self,\n",
      "/u/fklotzsche/conda-envs/mne/lib/python3.9/site-packages/joblib/parallel.py:735: UserWarning: Loky-backed parallel loops cannot be called in a multiprocessing, setting n_jobs=1\n",
      "  n_jobs = self._backend.configure(n_jobs=self.n_jobs, parallel=self,\n",
      "[Parallel(n_jobs=15)]: Using backend SequentialBackend with 1 concurrent workers.\n",
      "/u/fklotzsche/conda-envs/mne/lib/python3.9/site-packages/joblib/parallel.py:735: UserWarning: Loky-backed parallel loops cannot be called in a multiprocessing, setting n_jobs=1\n",
      "  n_jobs = self._backend.configure(n_jobs=self.n_jobs, parallel=self,\n",
      "[Parallel(n_jobs=15)]: Using backend SequentialBackend with 1 concurrent workers.\n",
      "[Parallel(n_jobs=15)]: Done   1 out of   1 | elapsed:    0.0s remaining:    0.0s\n",
      "[Parallel(n_jobs=15)]: Done   1 out of   1 | elapsed:    0.0s remaining:    0.0s\n",
      "[Parallel(n_jobs=15)]: Done   2 out of   2 | elapsed:    0.0s remaining:    0.0s\n",
      "[Parallel(n_jobs=15)]: Done   2 out of   2 | elapsed:    0.0s remaining:    0.0s\n",
      "[Parallel(n_jobs=15)]: Done   3 out of   3 | elapsed:    0.0s remaining:    0.0s\n",
      "[Parallel(n_jobs=15)]: Done   3 out of   3 | elapsed:    0.0s remaining:    0.0s\n",
      "[Parallel(n_jobs=15)]: Done   4 out of   4 | elapsed:    0.0s remaining:    0.0s\n",
      "[Parallel(n_jobs=15)]: Done   4 out of   4 | elapsed:    0.1s remaining:    0.0s\n",
      "/u/fklotzsche/conda-envs/mne/lib/python3.9/site-packages/joblib/parallel.py:735: UserWarning: Loky-backed parallel loops cannot be called in a multiprocessing, setting n_jobs=1\n",
      "  n_jobs = self._backend.configure(n_jobs=self.n_jobs, parallel=self,\n",
      "[Parallel(n_jobs=15)]: Using backend SequentialBackend with 1 concurrent workers.\n",
      "[Parallel(n_jobs=15)]: Done   1 out of   1 | elapsed:    0.0s remaining:    0.0s\n",
      "[Parallel(n_jobs=15)]: Done   2 out of   2 | elapsed:    0.0s remaining:    0.0s\n",
      "[Parallel(n_jobs=15)]: Done   3 out of   3 | elapsed:    0.0s remaining:    0.0s\n",
      "[Parallel(n_jobs=15)]: Done  15 out of  15 | elapsed:    0.1s finished\n",
      "[Parallel(n_jobs=5)]: Done   3 out of   3 | elapsed:    2.7s remaining:    0.0s\n",
      "[Parallel(n_jobs=15)]: Done  15 out of  15 | elapsed:    0.2s finished\n",
      "[Parallel(n_jobs=15)]: Done   4 out of   4 | elapsed:    0.0s remaining:    0.0s\n",
      "[Parallel(n_jobs=5)]: Done   1 out of   1 | elapsed:    1.0s remaining:    0.0s\n"
     ]
    },
    {
     "data": {
      "application/vnd.jupyter.widget-view+json": {
       "model_id": "8a4aed25df9040c9a45c7ef01dc83237",
       "version_major": 2,
       "version_minor": 0
      },
      "text/plain": [
       "  0%|          | Fitting SlidingEstimator : 0/146 [00:00<?,       ?it/s]"
      ]
     },
     "metadata": {},
     "output_type": "display_data"
    },
    {
     "name": "stderr",
     "output_type": "stream",
     "text": [
      "/u/fklotzsche/conda-envs/mne/lib/python3.9/site-packages/joblib/parallel.py:735: UserWarning: Loky-backed parallel loops cannot be called in a multiprocessing, setting n_jobs=1\n",
      "  n_jobs = self._backend.configure(n_jobs=self.n_jobs, parallel=self,\n"
     ]
    },
    {
     "data": {
      "application/vnd.jupyter.widget-view+json": {
       "model_id": "594fd72918e94c40af39096a3a36467a",
       "version_major": 2,
       "version_minor": 0
      },
      "text/plain": [
       "  0%|          | Fitting SlidingEstimator : 0/146 [00:00<?,       ?it/s]"
      ]
     },
     "metadata": {},
     "output_type": "display_data"
    },
    {
     "name": "stderr",
     "output_type": "stream",
     "text": [
      "/u/fklotzsche/conda-envs/mne/lib/python3.9/site-packages/joblib/parallel.py:735: UserWarning: Loky-backed parallel loops cannot be called in a multiprocessing, setting n_jobs=1\n",
      "  n_jobs = self._backend.configure(n_jobs=self.n_jobs, parallel=self,\n",
      "[Parallel(n_jobs=15)]: Done  15 out of  15 | elapsed:    0.1s finished\n",
      "[Parallel(n_jobs=5)]: Done   5 out of   5 | elapsed:    4.5s finished\n"
     ]
    },
    {
     "data": {
      "application/vnd.jupyter.widget-view+json": {
       "model_id": "dbe6aaf336ca4a3ca03a819250efae09",
       "version_major": 2,
       "version_minor": 0
      },
      "text/plain": [
       "  0%|          | Fitting SlidingEstimator : 0/146 [00:00<?,       ?it/s]"
      ]
     },
     "metadata": {},
     "output_type": "display_data"
    },
    {
     "name": "stderr",
     "output_type": "stream",
     "text": [
      "/u/fklotzsche/conda-envs/mne/lib/python3.9/site-packages/joblib/parallel.py:735: UserWarning: Loky-backed parallel loops cannot be called in a multiprocessing, setting n_jobs=1\n",
      "  n_jobs = self._backend.configure(n_jobs=self.n_jobs, parallel=self,\n",
      "/u/fklotzsche/conda-envs/mne/lib/python3.9/site-packages/joblib/parallel.py:735: UserWarning: Loky-backed parallel loops cannot be called in a multiprocessing, setting n_jobs=1\n",
      "  n_jobs = self._backend.configure(n_jobs=self.n_jobs, parallel=self,\n",
      "[Parallel(n_jobs=15)]: Using backend SequentialBackend with 1 concurrent workers.\n",
      "[Parallel(n_jobs=15)]: Done   1 out of   1 | elapsed:    0.0s remaining:    0.0s\n",
      "[Parallel(n_jobs=15)]: Done   2 out of   2 | elapsed:    0.0s remaining:    0.0s\n",
      "[Parallel(n_jobs=15)]: Done   3 out of   3 | elapsed:    0.0s remaining:    0.0s\n",
      "/u/fklotzsche/conda-envs/mne/lib/python3.9/site-packages/joblib/parallel.py:735: UserWarning: Loky-backed parallel loops cannot be called in a multiprocessing, setting n_jobs=1\n",
      "  n_jobs = self._backend.configure(n_jobs=self.n_jobs, parallel=self,\n",
      "[Parallel(n_jobs=15)]: Using backend SequentialBackend with 1 concurrent workers.\n",
      "[Parallel(n_jobs=15)]: Done   4 out of   4 | elapsed:    0.0s remaining:    0.0s\n",
      "[Parallel(n_jobs=15)]: Done   1 out of   1 | elapsed:    0.0s remaining:    0.0s\n",
      "[Parallel(n_jobs=15)]: Done   2 out of   2 | elapsed:    0.0s remaining:    0.0s\n",
      "[Parallel(n_jobs=15)]: Done   3 out of   3 | elapsed:    0.0s remaining:    0.0s\n",
      "[Parallel(n_jobs=15)]: Done   4 out of   4 | elapsed:    0.0s remaining:    0.0s\n",
      "[Parallel(n_jobs=15)]: Done  15 out of  15 | elapsed:    0.1s finished\n",
      "[Parallel(n_jobs=5)]: Done   1 out of   1 | elapsed:    0.9s remaining:    0.0s\n"
     ]
    },
    {
     "data": {
      "application/vnd.jupyter.widget-view+json": {
       "model_id": "5d66167789f44ad199d1466a3e123daa",
       "version_major": 2,
       "version_minor": 0
      },
      "text/plain": [
       "  0%|          | Fitting SlidingEstimator : 0/146 [00:00<?,       ?it/s]"
      ]
     },
     "metadata": {},
     "output_type": "display_data"
    },
    {
     "name": "stderr",
     "output_type": "stream",
     "text": [
      "/u/fklotzsche/conda-envs/mne/lib/python3.9/site-packages/joblib/parallel.py:735: UserWarning: Loky-backed parallel loops cannot be called in a multiprocessing, setting n_jobs=1\n",
      "  n_jobs = self._backend.configure(n_jobs=self.n_jobs, parallel=self,\n",
      "[Parallel(n_jobs=15)]: Done  15 out of  15 | elapsed:    0.1s finished\n",
      "[Parallel(n_jobs=5)]: Done   4 out of   4 | elapsed:    3.5s remaining:    0.0s\n"
     ]
    },
    {
     "data": {
      "application/vnd.jupyter.widget-view+json": {
       "model_id": "30b89a22fc564df18028887929453330",
       "version_major": 2,
       "version_minor": 0
      },
      "text/plain": [
       "  0%|          | Fitting SlidingEstimator : 0/146 [00:00<?,       ?it/s]"
      ]
     },
     "metadata": {},
     "output_type": "display_data"
    },
    {
     "name": "stderr",
     "output_type": "stream",
     "text": [
      "/u/fklotzsche/conda-envs/mne/lib/python3.9/site-packages/joblib/parallel.py:735: UserWarning: Loky-backed parallel loops cannot be called in a multiprocessing, setting n_jobs=1\n",
      "  n_jobs = self._backend.configure(n_jobs=self.n_jobs, parallel=self,\n",
      "/u/fklotzsche/conda-envs/mne/lib/python3.9/site-packages/joblib/parallel.py:735: UserWarning: Loky-backed parallel loops cannot be called in a multiprocessing, setting n_jobs=1\n",
      "  n_jobs = self._backend.configure(n_jobs=self.n_jobs, parallel=self,\n",
      "[Parallel(n_jobs=15)]: Using backend SequentialBackend with 1 concurrent workers.\n",
      "[Parallel(n_jobs=15)]: Done   1 out of   1 | elapsed:    0.0s remaining:    0.0s\n",
      "[Parallel(n_jobs=15)]: Done   2 out of   2 | elapsed:    0.0s remaining:    0.0s\n",
      "[Parallel(n_jobs=15)]: Done   3 out of   3 | elapsed:    0.0s remaining:    0.0s\n",
      "[Parallel(n_jobs=15)]: Done   4 out of   4 | elapsed:    0.0s remaining:    0.0s\n",
      "[Parallel(n_jobs=15)]: Done  15 out of  15 | elapsed:    0.1s finished\n",
      "[Parallel(n_jobs=5)]: Done   2 out of   2 | elapsed:    1.8s remaining:    0.0s\n"
     ]
    },
    {
     "data": {
      "application/vnd.jupyter.widget-view+json": {
       "model_id": "02e5861dd0d2454f90cf23252e316975",
       "version_major": 2,
       "version_minor": 0
      },
      "text/plain": [
       "  0%|          | Fitting SlidingEstimator : 0/146 [00:00<?,       ?it/s]"
      ]
     },
     "metadata": {},
     "output_type": "display_data"
    },
    {
     "name": "stderr",
     "output_type": "stream",
     "text": [
      "/u/fklotzsche/conda-envs/mne/lib/python3.9/site-packages/joblib/parallel.py:735: UserWarning: Loky-backed parallel loops cannot be called in a multiprocessing, setting n_jobs=1\n",
      "  n_jobs = self._backend.configure(n_jobs=self.n_jobs, parallel=self,\n",
      "/u/fklotzsche/conda-envs/mne/lib/python3.9/site-packages/joblib/parallel.py:735: UserWarning: Loky-backed parallel loops cannot be called in a multiprocessing, setting n_jobs=1\n",
      "  n_jobs = self._backend.configure(n_jobs=self.n_jobs, parallel=self,\n",
      "[Parallel(n_jobs=15)]: Using backend SequentialBackend with 1 concurrent workers.\n",
      "[Parallel(n_jobs=15)]: Done   1 out of   1 | elapsed:    0.0s remaining:    0.0s\n",
      "[Parallel(n_jobs=15)]: Done   2 out of   2 | elapsed:    0.0s remaining:    0.0s\n",
      "[Parallel(n_jobs=15)]: Done   3 out of   3 | elapsed:    0.0s remaining:    0.0s\n",
      "[Parallel(n_jobs=15)]: Done   4 out of   4 | elapsed:    0.1s remaining:    0.0s\n",
      "[Parallel(n_jobs=15)]: Done  15 out of  15 | elapsed:    0.1s finished\n",
      "[Parallel(n_jobs=5)]: Done   4 out of   4 | elapsed:    3.8s remaining:    0.0s\n"
     ]
    },
    {
     "data": {
      "application/vnd.jupyter.widget-view+json": {
       "model_id": "2ee8103c544f44058fb79b3fc2a62627",
       "version_major": 2,
       "version_minor": 0
      },
      "text/plain": [
       "  0%|          | Fitting SlidingEstimator : 0/146 [00:00<?,       ?it/s]"
      ]
     },
     "metadata": {},
     "output_type": "display_data"
    },
    {
     "name": "stderr",
     "output_type": "stream",
     "text": [
      "/u/fklotzsche/conda-envs/mne/lib/python3.9/site-packages/joblib/parallel.py:735: UserWarning: Loky-backed parallel loops cannot be called in a multiprocessing, setting n_jobs=1\n",
      "  n_jobs = self._backend.configure(n_jobs=self.n_jobs, parallel=self,\n",
      "/u/fklotzsche/conda-envs/mne/lib/python3.9/site-packages/joblib/parallel.py:735: UserWarning: Loky-backed parallel loops cannot be called in a multiprocessing, setting n_jobs=1\n",
      "  n_jobs = self._backend.configure(n_jobs=self.n_jobs, parallel=self,\n",
      "[Parallel(n_jobs=15)]: Using backend SequentialBackend with 1 concurrent workers.\n",
      "[Parallel(n_jobs=15)]: Done   1 out of   1 | elapsed:    0.0s remaining:    0.0s\n",
      "[Parallel(n_jobs=15)]: Done   2 out of   2 | elapsed:    0.0s remaining:    0.0s\n",
      "[Parallel(n_jobs=15)]: Done   3 out of   3 | elapsed:    0.0s remaining:    0.0s\n",
      "[Parallel(n_jobs=15)]: Done   4 out of   4 | elapsed:    0.0s remaining:    0.0s\n",
      "/u/fklotzsche/conda-envs/mne/lib/python3.9/site-packages/joblib/parallel.py:735: UserWarning: Loky-backed parallel loops cannot be called in a multiprocessing, setting n_jobs=1\n",
      "  n_jobs = self._backend.configure(n_jobs=self.n_jobs, parallel=self,\n",
      "[Parallel(n_jobs=15)]: Using backend SequentialBackend with 1 concurrent workers.\n",
      "[Parallel(n_jobs=15)]: Done  15 out of  15 | elapsed:    0.1s finished\n",
      "[Parallel(n_jobs=15)]: Done   1 out of   1 | elapsed:    0.0s remaining:    0.0s\n",
      "[Parallel(n_jobs=5)]: Done   2 out of   2 | elapsed:    1.7s remaining:    0.0s\n",
      "[Parallel(n_jobs=15)]: Done   2 out of   2 | elapsed:    0.0s remaining:    0.0s\n",
      "[Parallel(n_jobs=15)]: Done   3 out of   3 | elapsed:    0.0s remaining:    0.0s\n",
      "[Parallel(n_jobs=15)]: Done   4 out of   4 | elapsed:    0.0s remaining:    0.0s\n"
     ]
    },
    {
     "name": "stdout",
     "output_type": "stream",
     "text": [
      "y shape: (20,)"
     ]
    },
    {
     "data": {
      "application/vnd.jupyter.widget-view+json": {
       "model_id": "235fb733fb2e41c0aabaca0ccc079035",
       "version_major": 2,
       "version_minor": 0
      },
      "text/plain": [
       "  0%|          | Fitting SlidingEstimator : 0/146 [00:00<?,       ?it/s]"
      ]
     },
     "metadata": {},
     "output_type": "display_data"
    },
    {
     "name": "stdout",
     "output_type": "stream",
     "text": [
      "\n",
      "[0. 0. 1. 0. 0. 0. 1. 0. 1. 1. 0. 1. 1. 1. 0. 1. 0. 1. 1. 0.]\n"
     ]
    },
    {
     "name": "stderr",
     "output_type": "stream",
     "text": [
      "/u/fklotzsche/conda-envs/mne/lib/python3.9/site-packages/joblib/parallel.py:735: UserWarning: Loky-backed parallel loops cannot be called in a multiprocessing, setting n_jobs=1\n",
      "  n_jobs = self._backend.configure(n_jobs=self.n_jobs, parallel=self,\n",
      "/u/fklotzsche/conda-envs/mne/lib/python3.9/site-packages/joblib/parallel.py:735: UserWarning: Loky-backed parallel loops cannot be called in a multiprocessing, setting n_jobs=1\n",
      "  n_jobs = self._backend.configure(n_jobs=self.n_jobs, parallel=self,\n",
      "[Parallel(n_jobs=5)]: Using backend SequentialBackend with 1 concurrent workers.\n"
     ]
    },
    {
     "data": {
      "application/vnd.jupyter.widget-view+json": {
       "model_id": "5252853e3c3c4ae1b623352fc90896a2",
       "version_major": 2,
       "version_minor": 0
      },
      "text/plain": [
       "  0%|          | Fitting SlidingEstimator : 0/146 [00:00<?,       ?it/s]"
      ]
     },
     "metadata": {},
     "output_type": "display_data"
    },
    {
     "name": "stderr",
     "output_type": "stream",
     "text": [
      "/u/fklotzsche/conda-envs/mne/lib/python3.9/site-packages/joblib/parallel.py:735: UserWarning: Loky-backed parallel loops cannot be called in a multiprocessing, setting n_jobs=1\n",
      "  n_jobs = self._backend.configure(n_jobs=self.n_jobs, parallel=self,\n",
      "[Parallel(n_jobs=15)]: Done  15 out of  15 | elapsed:    0.1s finished\n",
      "[Parallel(n_jobs=5)]: Done   5 out of   5 | elapsed:    4.4s finished\n",
      "/u/fklotzsche/conda-envs/mne/lib/python3.9/site-packages/joblib/parallel.py:735: UserWarning: Loky-backed parallel loops cannot be called in a multiprocessing, setting n_jobs=1\n",
      "  n_jobs = self._backend.configure(n_jobs=self.n_jobs, parallel=self,\n",
      "[Parallel(n_jobs=15)]: Using backend SequentialBackend with 1 concurrent workers.\n",
      "[Parallel(n_jobs=15)]: Done   1 out of   1 | elapsed:    0.0s remaining:    0.0s\n"
     ]
    },
    {
     "data": {
      "application/vnd.jupyter.widget-view+json": {
       "model_id": "c4236b09e925469fbed1054b9b0bd26d",
       "version_major": 2,
       "version_minor": 0
      },
      "text/plain": [
       "  0%|          | Fitting SlidingEstimator : 0/146 [00:00<?,       ?it/s]"
      ]
     },
     "metadata": {},
     "output_type": "display_data"
    },
    {
     "name": "stderr",
     "output_type": "stream",
     "text": [
      "[Parallel(n_jobs=15)]: Done   2 out of   2 | elapsed:    0.0s remaining:    0.0s\n",
      "/u/fklotzsche/conda-envs/mne/lib/python3.9/site-packages/joblib/parallel.py:735: UserWarning: Loky-backed parallel loops cannot be called in a multiprocessing, setting n_jobs=1\n",
      "  n_jobs = self._backend.configure(n_jobs=self.n_jobs, parallel=self,\n",
      "[Parallel(n_jobs=15)]: Done   3 out of   3 | elapsed:    0.0s remaining:    0.0s\n",
      "[Parallel(n_jobs=15)]: Done   4 out of   4 | elapsed:    0.0s remaining:    0.0s\n",
      "[Parallel(n_jobs=15)]: Done  15 out of  15 | elapsed:    0.1s finished\n",
      "[Parallel(n_jobs=5)]: Done   3 out of   3 | elapsed:    2.6s remaining:    0.0s\n"
     ]
    },
    {
     "data": {
      "application/vnd.jupyter.widget-view+json": {
       "model_id": "4d3686c751504c82b6a6581196fd5332",
       "version_major": 2,
       "version_minor": 0
      },
      "text/plain": [
       "  0%|          | Fitting SlidingEstimator : 0/146 [00:00<?,       ?it/s]"
      ]
     },
     "metadata": {},
     "output_type": "display_data"
    },
    {
     "name": "stderr",
     "output_type": "stream",
     "text": [
      "/u/fklotzsche/conda-envs/mne/lib/python3.9/site-packages/joblib/parallel.py:735: UserWarning: Loky-backed parallel loops cannot be called in a multiprocessing, setting n_jobs=1\n",
      "  n_jobs = self._backend.configure(n_jobs=self.n_jobs, parallel=self,\n",
      "/u/fklotzsche/conda-envs/mne/lib/python3.9/site-packages/joblib/parallel.py:735: UserWarning: Loky-backed parallel loops cannot be called in a multiprocessing, setting n_jobs=1\n",
      "  n_jobs = self._backend.configure(n_jobs=self.n_jobs, parallel=self,\n",
      "[Parallel(n_jobs=15)]: Using backend SequentialBackend with 1 concurrent workers.\n",
      "[Parallel(n_jobs=15)]: Done   1 out of   1 | elapsed:    0.0s remaining:    0.0s\n",
      "[Parallel(n_jobs=15)]: Done   2 out of   2 | elapsed:    0.0s remaining:    0.0s\n",
      "[Parallel(n_jobs=15)]: Done   3 out of   3 | elapsed:    0.0s remaining:    0.0s\n",
      "[Parallel(n_jobs=15)]: Done   4 out of   4 | elapsed:    0.0s remaining:    0.0s\n",
      "[Parallel(n_jobs=15)]: Done  15 out of  15 | elapsed:    0.1s finished\n",
      "[Parallel(n_jobs=5)]: Done   5 out of   5 | elapsed:    4.7s finished\n"
     ]
    },
    {
     "data": {
      "application/vnd.jupyter.widget-view+json": {
       "model_id": "5c7468756b334300ae9f8e6a58e99290",
       "version_major": 2,
       "version_minor": 0
      },
      "text/plain": [
       "  0%|          | Fitting SlidingEstimator : 0/146 [00:00<?,       ?it/s]"
      ]
     },
     "metadata": {},
     "output_type": "display_data"
    },
    {
     "name": "stderr",
     "output_type": "stream",
     "text": [
      "/u/fklotzsche/conda-envs/mne/lib/python3.9/site-packages/joblib/parallel.py:735: UserWarning: Loky-backed parallel loops cannot be called in a multiprocessing, setting n_jobs=1\n",
      "  n_jobs = self._backend.configure(n_jobs=self.n_jobs, parallel=self,\n",
      "/u/fklotzsche/conda-envs/mne/lib/python3.9/site-packages/joblib/parallel.py:735: UserWarning: Loky-backed parallel loops cannot be called in a multiprocessing, setting n_jobs=1\n",
      "  n_jobs = self._backend.configure(n_jobs=self.n_jobs, parallel=self,\n",
      "[Parallel(n_jobs=15)]: Using backend SequentialBackend with 1 concurrent workers.\n",
      "[Parallel(n_jobs=15)]: Done   1 out of   1 | elapsed:    0.0s remaining:    0.0s\n",
      "[Parallel(n_jobs=15)]: Done   2 out of   2 | elapsed:    0.0s remaining:    0.0s\n",
      "[Parallel(n_jobs=15)]: Done   3 out of   3 | elapsed:    0.0s remaining:    0.0s\n",
      "[Parallel(n_jobs=15)]: Done   4 out of   4 | elapsed:    0.0s remaining:    0.0s\n",
      "/u/fklotzsche/conda-envs/mne/lib/python3.9/site-packages/joblib/parallel.py:735: UserWarning: Loky-backed parallel loops cannot be called in a multiprocessing, setting n_jobs=1\n",
      "  n_jobs = self._backend.configure(n_jobs=self.n_jobs, parallel=self,\n",
      "[Parallel(n_jobs=15)]: Using backend SequentialBackend with 1 concurrent workers.\n",
      "[Parallel(n_jobs=15)]: Done   1 out of   1 | elapsed:    0.0s remaining:    0.0s\n",
      "[Parallel(n_jobs=15)]: Done  15 out of  15 | elapsed:    0.1s finished\n",
      "[Parallel(n_jobs=15)]: Done   2 out of   2 | elapsed:    0.0s remaining:    0.0s\n",
      "[Parallel(n_jobs=5)]: Done   3 out of   3 | elapsed:    2.5s remaining:    0.0s\n",
      "[Parallel(n_jobs=15)]: Done   3 out of   3 | elapsed:    0.0s remaining:    0.0s\n",
      "[Parallel(n_jobs=15)]: Done   4 out of   4 | elapsed:    0.1s remaining:    0.0s\n"
     ]
    },
    {
     "data": {
      "application/vnd.jupyter.widget-view+json": {
       "model_id": "a74c9d95820f40afa144ea90f0bf6d94",
       "version_major": 2,
       "version_minor": 0
      },
      "text/plain": [
       "  0%|          | Fitting SlidingEstimator : 0/146 [00:00<?,       ?it/s]"
      ]
     },
     "metadata": {},
     "output_type": "display_data"
    },
    {
     "name": "stderr",
     "output_type": "stream",
     "text": [
      "/u/fklotzsche/conda-envs/mne/lib/python3.9/site-packages/joblib/parallel.py:735: UserWarning: Loky-backed parallel loops cannot be called in a multiprocessing, setting n_jobs=1\n",
      "  n_jobs = self._backend.configure(n_jobs=self.n_jobs, parallel=self,\n",
      "[Parallel(n_jobs=15)]: Done  15 out of  15 | elapsed:    0.1s finished\n",
      "[Parallel(n_jobs=5)]: Done   1 out of   1 | elapsed:    0.9s remaining:    0.0s\n"
     ]
    },
    {
     "data": {
      "application/vnd.jupyter.widget-view+json": {
       "model_id": "44f6ce4e83d64b9db61bda272a54f7bb",
       "version_major": 2,
       "version_minor": 0
      },
      "text/plain": [
       "  0%|          | Fitting SlidingEstimator : 0/146 [00:00<?,       ?it/s]"
      ]
     },
     "metadata": {},
     "output_type": "display_data"
    },
    {
     "name": "stderr",
     "output_type": "stream",
     "text": [
      "/u/fklotzsche/conda-envs/mne/lib/python3.9/site-packages/joblib/parallel.py:735: UserWarning: Loky-backed parallel loops cannot be called in a multiprocessing, setting n_jobs=1\n",
      "  n_jobs = self._backend.configure(n_jobs=self.n_jobs, parallel=self,\n",
      "/u/fklotzsche/conda-envs/mne/lib/python3.9/site-packages/joblib/parallel.py:735: UserWarning: Loky-backed parallel loops cannot be called in a multiprocessing, setting n_jobs=1\n",
      "  n_jobs = self._backend.configure(n_jobs=self.n_jobs, parallel=self,\n",
      "[Parallel(n_jobs=15)]: Using backend SequentialBackend with 1 concurrent workers.\n",
      "[Parallel(n_jobs=15)]: Done   1 out of   1 | elapsed:    0.0s remaining:    0.0s\n",
      "[Parallel(n_jobs=15)]: Done   2 out of   2 | elapsed:    0.0s remaining:    0.0s\n",
      "[Parallel(n_jobs=15)]: Done   3 out of   3 | elapsed:    0.0s remaining:    0.0s\n",
      "[Parallel(n_jobs=15)]: Done   4 out of   4 | elapsed:    0.0s remaining:    0.0s\n",
      "[Parallel(n_jobs=15)]: Done  15 out of  15 | elapsed:    0.1s finished\n",
      "[Parallel(n_jobs=5)]: Done   4 out of   4 | elapsed:    3.4s remaining:    0.0s\n"
     ]
    },
    {
     "data": {
      "application/vnd.jupyter.widget-view+json": {
       "model_id": "7bf03e9e13c948a9ab01ff83f215605a",
       "version_major": 2,
       "version_minor": 0
      },
      "text/plain": [
       "  0%|          | Fitting SlidingEstimator : 0/146 [00:00<?,       ?it/s]"
      ]
     },
     "metadata": {},
     "output_type": "display_data"
    },
    {
     "name": "stderr",
     "output_type": "stream",
     "text": [
      "/u/fklotzsche/conda-envs/mne/lib/python3.9/site-packages/joblib/parallel.py:735: UserWarning: Loky-backed parallel loops cannot be called in a multiprocessing, setting n_jobs=1\n",
      "  n_jobs = self._backend.configure(n_jobs=self.n_jobs, parallel=self,\n"
     ]
    },
    {
     "name": "stdout",
     "output_type": "stream",
     "text": [
      "y shape: (22,)\n",
      "[1. 1. 0. 0. 0. 1. 1. 1. 0. 1. 0. 1. 0. 0. 0. 1. 1. 0. 1. 0. 1. 0.]\n"
     ]
    },
    {
     "name": "stderr",
     "output_type": "stream",
     "text": [
      "/u/fklotzsche/conda-envs/mne/lib/python3.9/site-packages/joblib/parallel.py:735: UserWarning: Loky-backed parallel loops cannot be called in a multiprocessing, setting n_jobs=1\n",
      "  n_jobs = self._backend.configure(n_jobs=self.n_jobs, parallel=self,\n",
      "[Parallel(n_jobs=5)]: Using backend SequentialBackend with 1 concurrent workers.\n"
     ]
    },
    {
     "data": {
      "application/vnd.jupyter.widget-view+json": {
       "model_id": "781dc5cfa3394cf7b452f111028b29f6",
       "version_major": 2,
       "version_minor": 0
      },
      "text/plain": [
       "  0%|          | Fitting SlidingEstimator : 0/146 [00:00<?,       ?it/s]"
      ]
     },
     "metadata": {},
     "output_type": "display_data"
    },
    {
     "name": "stderr",
     "output_type": "stream",
     "text": [
      "/u/fklotzsche/conda-envs/mne/lib/python3.9/site-packages/joblib/parallel.py:735: UserWarning: Loky-backed parallel loops cannot be called in a multiprocessing, setting n_jobs=1\n",
      "  n_jobs = self._backend.configure(n_jobs=self.n_jobs, parallel=self,\n",
      "/u/fklotzsche/conda-envs/mne/lib/python3.9/site-packages/joblib/parallel.py:735: UserWarning: Loky-backed parallel loops cannot be called in a multiprocessing, setting n_jobs=1\n",
      "  n_jobs = self._backend.configure(n_jobs=self.n_jobs, parallel=self,\n",
      "[Parallel(n_jobs=15)]: Using backend SequentialBackend with 1 concurrent workers.\n",
      "/u/fklotzsche/conda-envs/mne/lib/python3.9/site-packages/joblib/parallel.py:735: UserWarning: Loky-backed parallel loops cannot be called in a multiprocessing, setting n_jobs=1\n",
      "  n_jobs = self._backend.configure(n_jobs=self.n_jobs, parallel=self,\n",
      "[Parallel(n_jobs=15)]: Using backend SequentialBackend with 1 concurrent workers.\n",
      "[Parallel(n_jobs=15)]: Done   1 out of   1 | elapsed:    0.0s remaining:    0.0s\n",
      "[Parallel(n_jobs=15)]: Done   1 out of   1 | elapsed:    0.0s remaining:    0.0s\n",
      "[Parallel(n_jobs=15)]: Done   2 out of   2 | elapsed:    0.0s remaining:    0.0s\n",
      "[Parallel(n_jobs=15)]: Done   2 out of   2 | elapsed:    0.0s remaining:    0.0s\n",
      "[Parallel(n_jobs=15)]: Done   3 out of   3 | elapsed:    0.0s remaining:    0.0s\n",
      "[Parallel(n_jobs=15)]: Done   3 out of   3 | elapsed:    0.0s remaining:    0.0s\n",
      "[Parallel(n_jobs=15)]: Done   4 out of   4 | elapsed:    0.0s remaining:    0.0s\n",
      "[Parallel(n_jobs=15)]: Done   4 out of   4 | elapsed:    0.0s remaining:    0.0s\n",
      "[Parallel(n_jobs=15)]: Done  15 out of  15 | elapsed:    0.1s finished\n",
      "[Parallel(n_jobs=5)]: Done   2 out of   2 | elapsed:    1.7s remaining:    0.0s\n",
      "[Parallel(n_jobs=15)]: Done  15 out of  15 | elapsed:    0.1s finished\n",
      "[Parallel(n_jobs=5)]: Done   4 out of   4 | elapsed:    3.5s remaining:    0.0s\n"
     ]
    },
    {
     "data": {
      "application/vnd.jupyter.widget-view+json": {
       "model_id": "9bef4a016fa34abab23581e3c7aac710",
       "version_major": 2,
       "version_minor": 0
      },
      "text/plain": [
       "  0%|          | Fitting SlidingEstimator : 0/146 [00:00<?,       ?it/s]"
      ]
     },
     "metadata": {},
     "output_type": "display_data"
    },
    {
     "name": "stderr",
     "output_type": "stream",
     "text": [
      "/u/fklotzsche/conda-envs/mne/lib/python3.9/site-packages/joblib/parallel.py:735: UserWarning: Loky-backed parallel loops cannot be called in a multiprocessing, setting n_jobs=1\n",
      "  n_jobs = self._backend.configure(n_jobs=self.n_jobs, parallel=self,\n"
     ]
    },
    {
     "data": {
      "application/vnd.jupyter.widget-view+json": {
       "model_id": "b8ea822bc9ea4961bc75aa76ea21ab49",
       "version_major": 2,
       "version_minor": 0
      },
      "text/plain": [
       "  0%|          | Fitting SlidingEstimator : 0/146 [00:00<?,       ?it/s]"
      ]
     },
     "metadata": {},
     "output_type": "display_data"
    },
    {
     "name": "stderr",
     "output_type": "stream",
     "text": [
      "/u/fklotzsche/conda-envs/mne/lib/python3.9/site-packages/joblib/parallel.py:735: UserWarning: Loky-backed parallel loops cannot be called in a multiprocessing, setting n_jobs=1\n",
      "  n_jobs = self._backend.configure(n_jobs=self.n_jobs, parallel=self,\n",
      "/u/fklotzsche/conda-envs/mne/lib/python3.9/site-packages/joblib/parallel.py:735: UserWarning: Loky-backed parallel loops cannot be called in a multiprocessing, setting n_jobs=1\n",
      "  n_jobs = self._backend.configure(n_jobs=self.n_jobs, parallel=self,\n",
      "[Parallel(n_jobs=15)]: Using backend SequentialBackend with 1 concurrent workers.\n",
      "/u/fklotzsche/conda-envs/mne/lib/python3.9/site-packages/joblib/parallel.py:735: UserWarning: Loky-backed parallel loops cannot be called in a multiprocessing, setting n_jobs=1\n",
      "  n_jobs = self._backend.configure(n_jobs=self.n_jobs, parallel=self,\n",
      "[Parallel(n_jobs=15)]: Using backend SequentialBackend with 1 concurrent workers.\n",
      "[Parallel(n_jobs=15)]: Done   1 out of   1 | elapsed:    0.0s remaining:    0.0s\n",
      "[Parallel(n_jobs=15)]: Done   1 out of   1 | elapsed:    0.0s remaining:    0.0s\n",
      "[Parallel(n_jobs=15)]: Done   2 out of   2 | elapsed:    0.0s remaining:    0.0s\n",
      "[Parallel(n_jobs=15)]: Done   2 out of   2 | elapsed:    0.0s remaining:    0.0s\n",
      "[Parallel(n_jobs=15)]: Done   3 out of   3 | elapsed:    0.0s remaining:    0.0s\n",
      "[Parallel(n_jobs=15)]: Done   3 out of   3 | elapsed:    0.0s remaining:    0.0s\n",
      "[Parallel(n_jobs=15)]: Done   4 out of   4 | elapsed:    0.0s remaining:    0.0s\n",
      "[Parallel(n_jobs=15)]: Done   4 out of   4 | elapsed:    0.0s remaining:    0.0s\n",
      "[Parallel(n_jobs=15)]: Done  15 out of  15 | elapsed:    0.1s finished\n",
      "[Parallel(n_jobs=5)]: Done   1 out of   1 | elapsed:    0.8s remaining:    0.0s\n",
      "[Parallel(n_jobs=15)]: Done  15 out of  15 | elapsed:    0.1s finished\n",
      "[Parallel(n_jobs=5)]: Done   5 out of   5 | elapsed:    4.3s finished\n"
     ]
    },
    {
     "data": {
      "application/vnd.jupyter.widget-view+json": {
       "model_id": "cec542034cbd43ddbb7e1cad5b061cf9",
       "version_major": 2,
       "version_minor": 0
      },
      "text/plain": [
       "  0%|          | Fitting SlidingEstimator : 0/146 [00:00<?,       ?it/s]"
      ]
     },
     "metadata": {},
     "output_type": "display_data"
    },
    {
     "name": "stderr",
     "output_type": "stream",
     "text": [
      "/u/fklotzsche/conda-envs/mne/lib/python3.9/site-packages/joblib/parallel.py:735: UserWarning: Loky-backed parallel loops cannot be called in a multiprocessing, setting n_jobs=1\n",
      "  n_jobs = self._backend.configure(n_jobs=self.n_jobs, parallel=self,\n"
     ]
    },
    {
     "data": {
      "application/vnd.jupyter.widget-view+json": {
       "model_id": "768acb0c0e2b4cf38fe40ea705683511",
       "version_major": 2,
       "version_minor": 0
      },
      "text/plain": [
       "  0%|          | Fitting SlidingEstimator : 0/146 [00:00<?,       ?it/s]"
      ]
     },
     "metadata": {},
     "output_type": "display_data"
    },
    {
     "name": "stderr",
     "output_type": "stream",
     "text": [
      "/u/fklotzsche/conda-envs/mne/lib/python3.9/site-packages/joblib/parallel.py:735: UserWarning: Loky-backed parallel loops cannot be called in a multiprocessing, setting n_jobs=1\n",
      "  n_jobs = self._backend.configure(n_jobs=self.n_jobs, parallel=self,\n"
     ]
    },
    {
     "name": "stdout",
     "output_type": "stream",
     "text": [
      "y shape: (20,)\n",
      "[0. 1. 1. 1. 1. 0. 0. 0. 1. 0. 1. 0. 1. 0. 0. 1. 0. 1. 1. 0.]\n"
     ]
    },
    {
     "name": "stderr",
     "output_type": "stream",
     "text": [
      "/u/fklotzsche/conda-envs/mne/lib/python3.9/site-packages/joblib/parallel.py:735: UserWarning: Loky-backed parallel loops cannot be called in a multiprocessing, setting n_jobs=1\n",
      "  n_jobs = self._backend.configure(n_jobs=self.n_jobs, parallel=self,\n",
      "[Parallel(n_jobs=5)]: Using backend SequentialBackend with 1 concurrent workers.\n",
      "/u/fklotzsche/conda-envs/mne/lib/python3.9/site-packages/joblib/parallel.py:735: UserWarning: Loky-backed parallel loops cannot be called in a multiprocessing, setting n_jobs=1\n",
      "  n_jobs = self._backend.configure(n_jobs=self.n_jobs, parallel=self,\n",
      "[Parallel(n_jobs=15)]: Using backend SequentialBackend with 1 concurrent workers.\n",
      "[Parallel(n_jobs=15)]: Done   1 out of   1 | elapsed:    0.0s remaining:    0.0s\n",
      "[Parallel(n_jobs=15)]: Done   2 out of   2 | elapsed:    0.0s remaining:    0.0s\n",
      "[Parallel(n_jobs=15)]: Done   3 out of   3 | elapsed:    0.0s remaining:    0.0s\n"
     ]
    },
    {
     "data": {
      "application/vnd.jupyter.widget-view+json": {
       "model_id": "357cbb7965f34e57b2e9b9fd6fa35004",
       "version_major": 2,
       "version_minor": 0
      },
      "text/plain": [
       "  0%|          | Fitting SlidingEstimator : 0/146 [00:00<?,       ?it/s]"
      ]
     },
     "metadata": {},
     "output_type": "display_data"
    },
    {
     "name": "stderr",
     "output_type": "stream",
     "text": [
      "[Parallel(n_jobs=15)]: Done   4 out of   4 | elapsed:    0.1s remaining:    0.0s\n",
      "/u/fklotzsche/conda-envs/mne/lib/python3.9/site-packages/joblib/parallel.py:735: UserWarning: Loky-backed parallel loops cannot be called in a multiprocessing, setting n_jobs=1\n",
      "  n_jobs = self._backend.configure(n_jobs=self.n_jobs, parallel=self,\n",
      "[Parallel(n_jobs=15)]: Using backend SequentialBackend with 1 concurrent workers.\n",
      "/u/fklotzsche/conda-envs/mne/lib/python3.9/site-packages/joblib/parallel.py:735: UserWarning: Loky-backed parallel loops cannot be called in a multiprocessing, setting n_jobs=1\n",
      "  n_jobs = self._backend.configure(n_jobs=self.n_jobs, parallel=self,\n",
      "[Parallel(n_jobs=15)]: Done   1 out of   1 | elapsed:    0.0s remaining:    0.0s\n",
      "[Parallel(n_jobs=15)]: Done   2 out of   2 | elapsed:    0.0s remaining:    0.0s\n",
      "[Parallel(n_jobs=15)]: Done   3 out of   3 | elapsed:    0.1s remaining:    0.0s\n",
      "[Parallel(n_jobs=15)]: Done   4 out of   4 | elapsed:    0.1s remaining:    0.0s\n",
      "[Parallel(n_jobs=15)]: Done  15 out of  15 | elapsed:    0.1s finished\n",
      "[Parallel(n_jobs=5)]: Done   3 out of   3 | elapsed:    2.6s remaining:    0.0s\n"
     ]
    },
    {
     "data": {
      "application/vnd.jupyter.widget-view+json": {
       "model_id": "2b44fc9dcd744512a7d4160e64e50d04",
       "version_major": 2,
       "version_minor": 0
      },
      "text/plain": [
       "  0%|          | Fitting SlidingEstimator : 0/146 [00:00<?,       ?it/s]"
      ]
     },
     "metadata": {},
     "output_type": "display_data"
    },
    {
     "name": "stderr",
     "output_type": "stream",
     "text": [
      "[Parallel(n_jobs=15)]: Done  15 out of  15 | elapsed:    0.1s finished\n",
      "/u/fklotzsche/conda-envs/mne/lib/python3.9/site-packages/joblib/parallel.py:735: UserWarning: Loky-backed parallel loops cannot be called in a multiprocessing, setting n_jobs=1\n",
      "  n_jobs = self._backend.configure(n_jobs=self.n_jobs, parallel=self,\n",
      "[Parallel(n_jobs=5)]: Done   5 out of   5 | elapsed:    4.4s finished\n",
      "/u/fklotzsche/conda-envs/mne/lib/python3.9/site-packages/joblib/parallel.py:735: UserWarning: Loky-backed parallel loops cannot be called in a multiprocessing, setting n_jobs=1\n",
      "  n_jobs = self._backend.configure(n_jobs=self.n_jobs, parallel=self,\n",
      "[Parallel(n_jobs=15)]: Using backend SequentialBackend with 1 concurrent workers.\n"
     ]
    },
    {
     "data": {
      "application/vnd.jupyter.widget-view+json": {
       "model_id": "9810d0a2533647188b1c2c8adf671a39",
       "version_major": 2,
       "version_minor": 0
      },
      "text/plain": [
       "  0%|          | Fitting SlidingEstimator : 0/146 [00:00<?,       ?it/s]"
      ]
     },
     "metadata": {},
     "output_type": "display_data"
    },
    {
     "name": "stderr",
     "output_type": "stream",
     "text": [
      "/u/fklotzsche/conda-envs/mne/lib/python3.9/site-packages/joblib/parallel.py:735: UserWarning: Loky-backed parallel loops cannot be called in a multiprocessing, setting n_jobs=1\n",
      "  n_jobs = self._backend.configure(n_jobs=self.n_jobs, parallel=self,\n",
      "[Parallel(n_jobs=15)]: Done   1 out of   1 | elapsed:    0.0s remaining:    0.0s\n",
      "[Parallel(n_jobs=15)]: Done   2 out of   2 | elapsed:    0.0s remaining:    0.0s\n",
      "[Parallel(n_jobs=15)]: Done   3 out of   3 | elapsed:    0.0s remaining:    0.0s\n",
      "[Parallel(n_jobs=15)]: Done   4 out of   4 | elapsed:    0.1s remaining:    0.0s\n"
     ]
    },
    {
     "name": "stdout",
     "output_type": "stream",
     "text": [
      "y shape: (19,)\n",
      "[0. 0. 1. 1. 1. 1. 0. 1. 1. 0. 1. 1. 0. 0. 1. 0. 0. 0. 0.]\n"
     ]
    },
    {
     "name": "stderr",
     "output_type": "stream",
     "text": [
      "/u/fklotzsche/conda-envs/mne/lib/python3.9/site-packages/joblib/parallel.py:735: UserWarning: Loky-backed parallel loops cannot be called in a multiprocessing, setting n_jobs=1\n",
      "  n_jobs = self._backend.configure(n_jobs=self.n_jobs, parallel=self,\n",
      "[Parallel(n_jobs=5)]: Using backend SequentialBackend with 1 concurrent workers.\n"
     ]
    },
    {
     "data": {
      "application/vnd.jupyter.widget-view+json": {
       "model_id": "ff6a08b9f30a45a0a6a96c4f53613046",
       "version_major": 2,
       "version_minor": 0
      },
      "text/plain": [
       "  0%|          | Fitting SlidingEstimator : 0/146 [00:00<?,       ?it/s]"
      ]
     },
     "metadata": {},
     "output_type": "display_data"
    },
    {
     "name": "stderr",
     "output_type": "stream",
     "text": [
      "/u/fklotzsche/conda-envs/mne/lib/python3.9/site-packages/joblib/parallel.py:735: UserWarning: Loky-backed parallel loops cannot be called in a multiprocessing, setting n_jobs=1\n",
      "  n_jobs = self._backend.configure(n_jobs=self.n_jobs, parallel=self,\n",
      "[Parallel(n_jobs=15)]: Done  15 out of  15 | elapsed:    0.1s finished\n",
      "[Parallel(n_jobs=5)]: Done   2 out of   2 | elapsed:    1.7s remaining:    0.0s\n"
     ]
    },
    {
     "data": {
      "application/vnd.jupyter.widget-view+json": {
       "model_id": "48a5f4ede6d74885bf07419525f26c0b",
       "version_major": 2,
       "version_minor": 0
      },
      "text/plain": [
       "  0%|          | Fitting SlidingEstimator : 0/146 [00:00<?,       ?it/s]"
      ]
     },
     "metadata": {},
     "output_type": "display_data"
    },
    {
     "name": "stderr",
     "output_type": "stream",
     "text": [
      "/u/fklotzsche/conda-envs/mne/lib/python3.9/site-packages/joblib/parallel.py:735: UserWarning: Loky-backed parallel loops cannot be called in a multiprocessing, setting n_jobs=1\n",
      "  n_jobs = self._backend.configure(n_jobs=self.n_jobs, parallel=self,\n",
      "/u/fklotzsche/conda-envs/mne/lib/python3.9/site-packages/joblib/parallel.py:735: UserWarning: Loky-backed parallel loops cannot be called in a multiprocessing, setting n_jobs=1\n",
      "  n_jobs = self._backend.configure(n_jobs=self.n_jobs, parallel=self,\n",
      "[Parallel(n_jobs=15)]: Using backend SequentialBackend with 1 concurrent workers.\n",
      "[Parallel(n_jobs=15)]: Done   1 out of   1 | elapsed:    0.0s remaining:    0.0s\n",
      "[Parallel(n_jobs=15)]: Done   2 out of   2 | elapsed:    0.0s remaining:    0.0s\n",
      "[Parallel(n_jobs=15)]: Done   3 out of   3 | elapsed:    0.0s remaining:    0.0s\n",
      "[Parallel(n_jobs=15)]: Done   4 out of   4 | elapsed:    0.0s remaining:    0.0s\n",
      "[Parallel(n_jobs=15)]: Done  15 out of  15 | elapsed:    0.1s finished\n",
      "[Parallel(n_jobs=5)]: Done   1 out of   1 | elapsed:    0.9s remaining:    0.0s\n",
      "/u/fklotzsche/conda-envs/mne/lib/python3.9/site-packages/joblib/parallel.py:735: UserWarning: Loky-backed parallel loops cannot be called in a multiprocessing, setting n_jobs=1\n",
      "  n_jobs = self._backend.configure(n_jobs=self.n_jobs, parallel=self,\n",
      "[Parallel(n_jobs=15)]: Using backend SequentialBackend with 1 concurrent workers.\n",
      "[Parallel(n_jobs=15)]: Done   1 out of   1 | elapsed:    0.0s remaining:    0.0s\n"
     ]
    },
    {
     "data": {
      "application/vnd.jupyter.widget-view+json": {
       "model_id": "eca524ba59874191bb77e780596d520f",
       "version_major": 2,
       "version_minor": 0
      },
      "text/plain": [
       "  0%|          | Fitting SlidingEstimator : 0/146 [00:00<?,       ?it/s]"
      ]
     },
     "metadata": {},
     "output_type": "display_data"
    },
    {
     "name": "stderr",
     "output_type": "stream",
     "text": [
      "/u/fklotzsche/conda-envs/mne/lib/python3.9/site-packages/joblib/parallel.py:735: UserWarning: Loky-backed parallel loops cannot be called in a multiprocessing, setting n_jobs=1\n",
      "  n_jobs = self._backend.configure(n_jobs=self.n_jobs, parallel=self,\n",
      "[Parallel(n_jobs=15)]: Done   2 out of   2 | elapsed:    0.0s remaining:    0.0s\n",
      "[Parallel(n_jobs=15)]: Done   3 out of   3 | elapsed:    0.0s remaining:    0.0s\n",
      "[Parallel(n_jobs=15)]: Done   4 out of   4 | elapsed:    0.1s remaining:    0.0s\n",
      "[Parallel(n_jobs=15)]: Done  15 out of  15 | elapsed:    0.1s finished\n",
      "[Parallel(n_jobs=5)]: Done   4 out of   4 | elapsed:    3.5s remaining:    0.0s\n",
      "/u/fklotzsche/conda-envs/mne/lib/python3.9/site-packages/joblib/parallel.py:735: UserWarning: Loky-backed parallel loops cannot be called in a multiprocessing, setting n_jobs=1\n",
      "  n_jobs = self._backend.configure(n_jobs=self.n_jobs, parallel=self,\n",
      "[Parallel(n_jobs=15)]: Using backend SequentialBackend with 1 concurrent workers.\n",
      "[Parallel(n_jobs=15)]: Done   1 out of   1 | elapsed:    0.0s remaining:    0.0s\n"
     ]
    },
    {
     "data": {
      "application/vnd.jupyter.widget-view+json": {
       "model_id": "d160b93a24d147b387fc95bedda2f50a",
       "version_major": 2,
       "version_minor": 0
      },
      "text/plain": [
       "  0%|          | Fitting SlidingEstimator : 0/146 [00:00<?,       ?it/s]"
      ]
     },
     "metadata": {},
     "output_type": "display_data"
    },
    {
     "name": "stderr",
     "output_type": "stream",
     "text": [
      "/u/fklotzsche/conda-envs/mne/lib/python3.9/site-packages/joblib/parallel.py:735: UserWarning: Loky-backed parallel loops cannot be called in a multiprocessing, setting n_jobs=1\n",
      "  n_jobs = self._backend.configure(n_jobs=self.n_jobs, parallel=self,\n",
      "[Parallel(n_jobs=15)]: Done   2 out of   2 | elapsed:    0.0s remaining:    0.0s\n",
      "[Parallel(n_jobs=15)]: Done   3 out of   3 | elapsed:    0.0s remaining:    0.0s\n",
      "[Parallel(n_jobs=15)]: Done   4 out of   4 | elapsed:    0.0s remaining:    0.0s\n",
      "[Parallel(n_jobs=15)]: Done  15 out of  15 | elapsed:    0.1s finished\n",
      "[Parallel(n_jobs=5)]: Done   1 out of   1 | elapsed:    0.8s remaining:    0.0s\n"
     ]
    },
    {
     "data": {
      "application/vnd.jupyter.widget-view+json": {
       "model_id": "1d9014a218f04ddaac360dd17eee81de",
       "version_major": 2,
       "version_minor": 0
      },
      "text/plain": [
       "  0%|          | Fitting SlidingEstimator : 0/146 [00:00<?,       ?it/s]"
      ]
     },
     "metadata": {},
     "output_type": "display_data"
    },
    {
     "name": "stderr",
     "output_type": "stream",
     "text": [
      "/u/fklotzsche/conda-envs/mne/lib/python3.9/site-packages/joblib/parallel.py:735: UserWarning: Loky-backed parallel loops cannot be called in a multiprocessing, setting n_jobs=1\n",
      "  n_jobs = self._backend.configure(n_jobs=self.n_jobs, parallel=self,\n",
      "/u/fklotzsche/conda-envs/mne/lib/python3.9/site-packages/joblib/parallel.py:735: UserWarning: Loky-backed parallel loops cannot be called in a multiprocessing, setting n_jobs=1\n",
      "  n_jobs = self._backend.configure(n_jobs=self.n_jobs, parallel=self,\n",
      "[Parallel(n_jobs=15)]: Using backend SequentialBackend with 1 concurrent workers.\n",
      "[Parallel(n_jobs=15)]: Done   1 out of   1 | elapsed:    0.0s remaining:    0.0s\n",
      "[Parallel(n_jobs=15)]: Done   2 out of   2 | elapsed:    0.0s remaining:    0.0s\n",
      "[Parallel(n_jobs=15)]: Done   3 out of   3 | elapsed:    0.0s remaining:    0.0s\n",
      "[Parallel(n_jobs=15)]: Done   4 out of   4 | elapsed:    0.1s remaining:    0.0s\n",
      "[Parallel(n_jobs=15)]: Done  15 out of  15 | elapsed:    0.1s finished\n",
      "[Parallel(n_jobs=5)]: Done   3 out of   3 | elapsed:    2.7s remaining:    0.0s\n"
     ]
    },
    {
     "data": {
      "application/vnd.jupyter.widget-view+json": {
       "model_id": "ecc31b73b3b143e4b0f212a97581cded",
       "version_major": 2,
       "version_minor": 0
      },
      "text/plain": [
       "  0%|          | Fitting SlidingEstimator : 0/146 [00:00<?,       ?it/s]"
      ]
     },
     "metadata": {},
     "output_type": "display_data"
    },
    {
     "name": "stderr",
     "output_type": "stream",
     "text": [
      "/u/fklotzsche/conda-envs/mne/lib/python3.9/site-packages/joblib/parallel.py:735: UserWarning: Loky-backed parallel loops cannot be called in a multiprocessing, setting n_jobs=1\n",
      "  n_jobs = self._backend.configure(n_jobs=self.n_jobs, parallel=self,\n",
      "/u/fklotzsche/conda-envs/mne/lib/python3.9/site-packages/joblib/parallel.py:735: UserWarning: Loky-backed parallel loops cannot be called in a multiprocessing, setting n_jobs=1\n",
      "  n_jobs = self._backend.configure(n_jobs=self.n_jobs, parallel=self,\n",
      "[Parallel(n_jobs=15)]: Using backend SequentialBackend with 1 concurrent workers.\n",
      "[Parallel(n_jobs=15)]: Done   1 out of   1 | elapsed:    0.0s remaining:    0.0s\n",
      "[Parallel(n_jobs=15)]: Done   2 out of   2 | elapsed:    0.0s remaining:    0.0s\n",
      "[Parallel(n_jobs=15)]: Done   3 out of   3 | elapsed:    0.0s remaining:    0.0s\n",
      "[Parallel(n_jobs=15)]: Done   4 out of   4 | elapsed:    0.0s remaining:    0.0s\n",
      "[Parallel(n_jobs=15)]: Done  15 out of  15 | elapsed:    0.1s finished\n",
      "[Parallel(n_jobs=5)]: Done   2 out of   2 | elapsed:    1.9s remaining:    0.0s\n",
      "/u/fklotzsche/conda-envs/mne/lib/python3.9/site-packages/joblib/parallel.py:735: UserWarning: Loky-backed parallel loops cannot be called in a multiprocessing, setting n_jobs=1\n",
      "  n_jobs = self._backend.configure(n_jobs=self.n_jobs, parallel=self,\n",
      "[Parallel(n_jobs=15)]: Using backend SequentialBackend with 1 concurrent workers.\n"
     ]
    },
    {
     "name": "stdout",
     "output_type": "stream",
     "text": [
      "y shape: (21,)\n",
      "[1. 0. 0. 0. 1. 0. 1. 1. 1. 0. 0. 1. 1. 0. 1. 0. 1. 0. 1. 1. 0.]"
     ]
    },
    {
     "data": {
      "application/vnd.jupyter.widget-view+json": {
       "model_id": "8ee3884d912c4d839e65fe5885cf44e7",
       "version_major": 2,
       "version_minor": 0
      },
      "text/plain": [
       "  0%|          | Fitting SlidingEstimator : 0/146 [00:00<?,       ?it/s]"
      ]
     },
     "metadata": {},
     "output_type": "display_data"
    },
    {
     "name": "stdout",
     "output_type": "stream",
     "text": [
      "\n"
     ]
    },
    {
     "name": "stderr",
     "output_type": "stream",
     "text": [
      "/u/fklotzsche/conda-envs/mne/lib/python3.9/site-packages/joblib/parallel.py:735: UserWarning: Loky-backed parallel loops cannot be called in a multiprocessing, setting n_jobs=1\n",
      "  n_jobs = self._backend.configure(n_jobs=self.n_jobs, parallel=self,\n",
      "[Parallel(n_jobs=5)]: Using backend SequentialBackend with 1 concurrent workers.\n",
      "/u/fklotzsche/conda-envs/mne/lib/python3.9/site-packages/joblib/parallel.py:735: UserWarning: Loky-backed parallel loops cannot be called in a multiprocessing, setting n_jobs=1\n",
      "  n_jobs = self._backend.configure(n_jobs=self.n_jobs, parallel=self,\n",
      "[Parallel(n_jobs=15)]: Done   1 out of   1 | elapsed:    0.0s remaining:    0.0s\n",
      "[Parallel(n_jobs=15)]: Done   2 out of   2 | elapsed:    0.0s remaining:    0.0s\n",
      "[Parallel(n_jobs=15)]: Done   3 out of   3 | elapsed:    0.0s remaining:    0.0s\n"
     ]
    },
    {
     "data": {
      "application/vnd.jupyter.widget-view+json": {
       "model_id": "c28e513c117e4276b08dc6f4507402c3",
       "version_major": 2,
       "version_minor": 0
      },
      "text/plain": [
       "  0%|          | Fitting SlidingEstimator : 0/146 [00:00<?,       ?it/s]"
      ]
     },
     "metadata": {},
     "output_type": "display_data"
    },
    {
     "name": "stderr",
     "output_type": "stream",
     "text": [
      "/u/fklotzsche/conda-envs/mne/lib/python3.9/site-packages/joblib/parallel.py:735: UserWarning: Loky-backed parallel loops cannot be called in a multiprocessing, setting n_jobs=1\n",
      "  n_jobs = self._backend.configure(n_jobs=self.n_jobs, parallel=self,\n",
      "[Parallel(n_jobs=15)]: Done   4 out of   4 | elapsed:    0.0s remaining:    0.0s\n",
      "/u/fklotzsche/conda-envs/mne/lib/python3.9/site-packages/joblib/parallel.py:735: UserWarning: Loky-backed parallel loops cannot be called in a multiprocessing, setting n_jobs=1\n",
      "  n_jobs = self._backend.configure(n_jobs=self.n_jobs, parallel=self,\n",
      "[Parallel(n_jobs=15)]: Using backend SequentialBackend with 1 concurrent workers.\n",
      "[Parallel(n_jobs=15)]: Done   1 out of   1 | elapsed:    0.0s remaining:    0.0s\n",
      "[Parallel(n_jobs=15)]: Done   2 out of   2 | elapsed:    0.0s remaining:    0.0s\n",
      "[Parallel(n_jobs=15)]: Done  15 out of  15 | elapsed:    0.1s finished\n",
      "[Parallel(n_jobs=15)]: Done   3 out of   3 | elapsed:    0.0s remaining:    0.0s\n",
      "[Parallel(n_jobs=5)]: Done   5 out of   5 | elapsed:    4.5s finished\n",
      "[Parallel(n_jobs=15)]: Done   4 out of   4 | elapsed:    0.0s remaining:    0.0s\n"
     ]
    },
    {
     "data": {
      "application/vnd.jupyter.widget-view+json": {
       "model_id": "d50f93fb67ff4e478d5fda253727a5ce",
       "version_major": 2,
       "version_minor": 0
      },
      "text/plain": [
       "  0%|          | Fitting SlidingEstimator : 0/146 [00:00<?,       ?it/s]"
      ]
     },
     "metadata": {},
     "output_type": "display_data"
    },
    {
     "name": "stderr",
     "output_type": "stream",
     "text": [
      "/u/fklotzsche/conda-envs/mne/lib/python3.9/site-packages/joblib/parallel.py:735: UserWarning: Loky-backed parallel loops cannot be called in a multiprocessing, setting n_jobs=1\n",
      "  n_jobs = self._backend.configure(n_jobs=self.n_jobs, parallel=self,\n",
      "[Parallel(n_jobs=15)]: Done  15 out of  15 | elapsed:    0.1s finished\n",
      "[Parallel(n_jobs=5)]: Done   2 out of   2 | elapsed:    1.8s remaining:    0.0s\n",
      "/u/fklotzsche/conda-envs/mne/lib/python3.9/site-packages/joblib/parallel.py:735: UserWarning: Loky-backed parallel loops cannot be called in a multiprocessing, setting n_jobs=1\n",
      "  n_jobs = self._backend.configure(n_jobs=self.n_jobs, parallel=self,\n",
      "[Parallel(n_jobs=15)]: Using backend SequentialBackend with 1 concurrent workers.\n"
     ]
    },
    {
     "data": {
      "application/vnd.jupyter.widget-view+json": {
       "model_id": "8754017eaf3840cc90483d3cc8b4d613",
       "version_major": 2,
       "version_minor": 0
      },
      "text/plain": [
       "  0%|          | Fitting SlidingEstimator : 0/146 [00:00<?,       ?it/s]"
      ]
     },
     "metadata": {},
     "output_type": "display_data"
    },
    {
     "name": "stderr",
     "output_type": "stream",
     "text": [
      "[Parallel(n_jobs=15)]: Done   1 out of   1 | elapsed:    0.0s remaining:    0.0s\n",
      "/u/fklotzsche/conda-envs/mne/lib/python3.9/site-packages/joblib/parallel.py:735: UserWarning: Loky-backed parallel loops cannot be called in a multiprocessing, setting n_jobs=1\n",
      "  n_jobs = self._backend.configure(n_jobs=self.n_jobs, parallel=self,\n",
      "[Parallel(n_jobs=15)]: Done   2 out of   2 | elapsed:    0.0s remaining:    0.0s\n",
      "[Parallel(n_jobs=15)]: Done   3 out of   3 | elapsed:    0.0s remaining:    0.0s\n",
      "[Parallel(n_jobs=15)]: Done   4 out of   4 | elapsed:    0.0s remaining:    0.0s\n",
      "[Parallel(n_jobs=15)]: Done  15 out of  15 | elapsed:    0.1s finished\n",
      "[Parallel(n_jobs=5)]: Done   4 out of   4 | elapsed:    3.6s remaining:    0.0s\n"
     ]
    },
    {
     "data": {
      "application/vnd.jupyter.widget-view+json": {
       "model_id": "41894ef06f014370b7dbe6cd7ba8a6f3",
       "version_major": 2,
       "version_minor": 0
      },
      "text/plain": [
       "  0%|          | Fitting SlidingEstimator : 0/146 [00:00<?,       ?it/s]"
      ]
     },
     "metadata": {},
     "output_type": "display_data"
    },
    {
     "name": "stderr",
     "output_type": "stream",
     "text": [
      "/u/fklotzsche/conda-envs/mne/lib/python3.9/site-packages/joblib/parallel.py:735: UserWarning: Loky-backed parallel loops cannot be called in a multiprocessing, setting n_jobs=1\n",
      "  n_jobs = self._backend.configure(n_jobs=self.n_jobs, parallel=self,\n",
      "/u/fklotzsche/conda-envs/mne/lib/python3.9/site-packages/joblib/parallel.py:735: UserWarning: Loky-backed parallel loops cannot be called in a multiprocessing, setting n_jobs=1\n",
      "  n_jobs = self._backend.configure(n_jobs=self.n_jobs, parallel=self,\n",
      "[Parallel(n_jobs=15)]: Using backend SequentialBackend with 1 concurrent workers.\n",
      "/u/fklotzsche/conda-envs/mne/lib/python3.9/site-packages/joblib/parallel.py:735: UserWarning: Loky-backed parallel loops cannot be called in a multiprocessing, setting n_jobs=1\n",
      "  n_jobs = self._backend.configure(n_jobs=self.n_jobs, parallel=self,\n",
      "[Parallel(n_jobs=15)]: Using backend SequentialBackend with 1 concurrent workers.\n",
      "[Parallel(n_jobs=15)]: Done   1 out of   1 | elapsed:    0.0s remaining:    0.0s\n",
      "[Parallel(n_jobs=15)]: Done   1 out of   1 | elapsed:    0.0s remaining:    0.0s\n",
      "[Parallel(n_jobs=15)]: Done   2 out of   2 | elapsed:    0.0s remaining:    0.0s\n",
      "[Parallel(n_jobs=15)]: Done   2 out of   2 | elapsed:    0.0s remaining:    0.0s\n",
      "[Parallel(n_jobs=15)]: Done   3 out of   3 | elapsed:    0.0s remaining:    0.0s\n",
      "[Parallel(n_jobs=15)]: Done   3 out of   3 | elapsed:    0.0s remaining:    0.0s\n",
      "[Parallel(n_jobs=15)]: Done   4 out of   4 | elapsed:    0.0s remaining:    0.0s\n",
      "[Parallel(n_jobs=15)]: Done   4 out of   4 | elapsed:    0.0s remaining:    0.0s\n"
     ]
    },
    {
     "name": "stdout",
     "output_type": "stream",
     "text": [
      "y shape: (23,)\n",
      "[0. 1. 0. 1. 1. 0. 0. 1. 0. 0. 0. 0. 0. 1. 1. 1. 1. 0. 1. 1. 1. 0. 0.]\n"
     ]
    },
    {
     "name": "stderr",
     "output_type": "stream",
     "text": [
      "/u/fklotzsche/conda-envs/mne/lib/python3.9/site-packages/joblib/parallel.py:735: UserWarning: Loky-backed parallel loops cannot be called in a multiprocessing, setting n_jobs=1\n",
      "  n_jobs = self._backend.configure(n_jobs=self.n_jobs, parallel=self,\n",
      "[Parallel(n_jobs=5)]: Using backend SequentialBackend with 1 concurrent workers.\n"
     ]
    },
    {
     "data": {
      "application/vnd.jupyter.widget-view+json": {
       "model_id": "c45baa537d5c438fb949a821778a7d6f",
       "version_major": 2,
       "version_minor": 0
      },
      "text/plain": [
       "  0%|          | Fitting SlidingEstimator : 0/146 [00:00<?,       ?it/s]"
      ]
     },
     "metadata": {},
     "output_type": "display_data"
    },
    {
     "name": "stderr",
     "output_type": "stream",
     "text": [
      "/u/fklotzsche/conda-envs/mne/lib/python3.9/site-packages/joblib/parallel.py:735: UserWarning: Loky-backed parallel loops cannot be called in a multiprocessing, setting n_jobs=1\n",
      "  n_jobs = self._backend.configure(n_jobs=self.n_jobs, parallel=self,\n",
      "[Parallel(n_jobs=15)]: Done  15 out of  15 | elapsed:    0.1s finished\n",
      "[Parallel(n_jobs=5)]: Done   1 out of   1 | elapsed:    0.8s remaining:    0.0s\n",
      "[Parallel(n_jobs=15)]: Done  15 out of  15 | elapsed:    0.1s finished\n",
      "[Parallel(n_jobs=5)]: Done   3 out of   3 | elapsed:    2.8s remaining:    0.0s\n"
     ]
    },
    {
     "data": {
      "application/vnd.jupyter.widget-view+json": {
       "model_id": "096e91f716494fb598da53ebda679238",
       "version_major": 2,
       "version_minor": 0
      },
      "text/plain": [
       "  0%|          | Fitting SlidingEstimator : 0/146 [00:00<?,       ?it/s]"
      ]
     },
     "metadata": {},
     "output_type": "display_data"
    },
    {
     "name": "stderr",
     "output_type": "stream",
     "text": [
      "/u/fklotzsche/conda-envs/mne/lib/python3.9/site-packages/joblib/parallel.py:735: UserWarning: Loky-backed parallel loops cannot be called in a multiprocessing, setting n_jobs=1\n",
      "  n_jobs = self._backend.configure(n_jobs=self.n_jobs, parallel=self,\n"
     ]
    },
    {
     "data": {
      "application/vnd.jupyter.widget-view+json": {
       "model_id": "fc73d9e76a8f4ce9a1045b5d1df3bb1b",
       "version_major": 2,
       "version_minor": 0
      },
      "text/plain": [
       "  0%|          | Fitting SlidingEstimator : 0/146 [00:00<?,       ?it/s]"
      ]
     },
     "metadata": {},
     "output_type": "display_data"
    },
    {
     "name": "stderr",
     "output_type": "stream",
     "text": [
      "/u/fklotzsche/conda-envs/mne/lib/python3.9/site-packages/joblib/parallel.py:735: UserWarning: Loky-backed parallel loops cannot be called in a multiprocessing, setting n_jobs=1\n",
      "  n_jobs = self._backend.configure(n_jobs=self.n_jobs, parallel=self,\n",
      "/u/fklotzsche/conda-envs/mne/lib/python3.9/site-packages/joblib/parallel.py:735: UserWarning: Loky-backed parallel loops cannot be called in a multiprocessing, setting n_jobs=1\n",
      "  n_jobs = self._backend.configure(n_jobs=self.n_jobs, parallel=self,\n",
      "[Parallel(n_jobs=15)]: Using backend SequentialBackend with 1 concurrent workers.\n",
      "[Parallel(n_jobs=15)]: Done   1 out of   1 | elapsed:    0.0s remaining:    0.0s\n",
      "[Parallel(n_jobs=15)]: Done   2 out of   2 | elapsed:    0.0s remaining:    0.0s\n",
      "[Parallel(n_jobs=15)]: Done   3 out of   3 | elapsed:    0.0s remaining:    0.0s\n",
      "[Parallel(n_jobs=15)]: Done   4 out of   4 | elapsed:    0.0s remaining:    0.0s\n",
      "[Parallel(n_jobs=15)]: Done  15 out of  15 | elapsed:    0.1s finished\n",
      "[Parallel(n_jobs=5)]: Done   3 out of   3 | elapsed:    2.6s remaining:    0.0s\n",
      "/u/fklotzsche/conda-envs/mne/lib/python3.9/site-packages/joblib/parallel.py:735: UserWarning: Loky-backed parallel loops cannot be called in a multiprocessing, setting n_jobs=1\n",
      "  n_jobs = self._backend.configure(n_jobs=self.n_jobs, parallel=self,\n",
      "[Parallel(n_jobs=15)]: Using backend SequentialBackend with 1 concurrent workers.\n",
      "[Parallel(n_jobs=15)]: Done   1 out of   1 | elapsed:    0.0s remaining:    0.0s\n"
     ]
    },
    {
     "data": {
      "application/vnd.jupyter.widget-view+json": {
       "model_id": "d0bb48c0acd94863aee793d94b3c3d19",
       "version_major": 2,
       "version_minor": 0
      },
      "text/plain": [
       "  0%|          | Fitting SlidingEstimator : 0/146 [00:00<?,       ?it/s]"
      ]
     },
     "metadata": {},
     "output_type": "display_data"
    },
    {
     "name": "stderr",
     "output_type": "stream",
     "text": [
      "/u/fklotzsche/conda-envs/mne/lib/python3.9/site-packages/joblib/parallel.py:735: UserWarning: Loky-backed parallel loops cannot be called in a multiprocessing, setting n_jobs=1\n",
      "  n_jobs = self._backend.configure(n_jobs=self.n_jobs, parallel=self,\n",
      "[Parallel(n_jobs=15)]: Done   2 out of   2 | elapsed:    0.0s remaining:    0.0s\n",
      "[Parallel(n_jobs=15)]: Done   3 out of   3 | elapsed:    0.0s remaining:    0.0s\n",
      "[Parallel(n_jobs=15)]: Done   4 out of   4 | elapsed:    0.1s remaining:    0.0s\n",
      "[Parallel(n_jobs=15)]: Done  15 out of  15 | elapsed:    0.1s finished\n",
      "[Parallel(n_jobs=5)]: Done   5 out of   5 | elapsed:    4.4s finished\n"
     ]
    },
    {
     "data": {
      "application/vnd.jupyter.widget-view+json": {
       "model_id": "d64580b507a74f1a8e5dda24830cad11",
       "version_major": 2,
       "version_minor": 0
      },
      "text/plain": [
       "  0%|          | Fitting SlidingEstimator : 0/146 [00:00<?,       ?it/s]"
      ]
     },
     "metadata": {},
     "output_type": "display_data"
    },
    {
     "name": "stderr",
     "output_type": "stream",
     "text": [
      "/u/fklotzsche/conda-envs/mne/lib/python3.9/site-packages/joblib/parallel.py:735: UserWarning: Loky-backed parallel loops cannot be called in a multiprocessing, setting n_jobs=1\n",
      "  n_jobs = self._backend.configure(n_jobs=self.n_jobs, parallel=self,\n",
      "/u/fklotzsche/conda-envs/mne/lib/python3.9/site-packages/joblib/parallel.py:735: UserWarning: Loky-backed parallel loops cannot be called in a multiprocessing, setting n_jobs=1\n",
      "  n_jobs = self._backend.configure(n_jobs=self.n_jobs, parallel=self,\n",
      "[Parallel(n_jobs=15)]: Using backend SequentialBackend with 1 concurrent workers.\n",
      "[Parallel(n_jobs=15)]: Done   1 out of   1 | elapsed:    0.0s remaining:    0.0s\n",
      "[Parallel(n_jobs=15)]: Done   2 out of   2 | elapsed:    0.0s remaining:    0.0s\n",
      "[Parallel(n_jobs=15)]: Done   3 out of   3 | elapsed:    0.0s remaining:    0.0s\n",
      "[Parallel(n_jobs=15)]: Done   4 out of   4 | elapsed:    0.0s remaining:    0.0s\n",
      "/u/fklotzsche/conda-envs/mne/lib/python3.9/site-packages/joblib/parallel.py:735: UserWarning: Loky-backed parallel loops cannot be called in a multiprocessing, setting n_jobs=1\n",
      "  n_jobs = self._backend.configure(n_jobs=self.n_jobs, parallel=self,\n",
      "[Parallel(n_jobs=15)]: Using backend SequentialBackend with 1 concurrent workers.\n",
      "[Parallel(n_jobs=15)]: Done   1 out of   1 | elapsed:    0.0s remaining:    0.0s\n",
      "/u/fklotzsche/conda-envs/mne/lib/python3.9/site-packages/joblib/parallel.py:735: UserWarning: Loky-backed parallel loops cannot be called in a multiprocessing, setting n_jobs=1\n",
      "  n_jobs = self._backend.configure(n_jobs=self.n_jobs, parallel=self,\n",
      "[Parallel(n_jobs=15)]: Using backend SequentialBackend with 1 concurrent workers.\n",
      "[Parallel(n_jobs=15)]: Done   2 out of   2 | elapsed:    0.0s remaining:    0.0s\n",
      "[Parallel(n_jobs=15)]: Done   1 out of   1 | elapsed:    0.0s remaining:    0.0s\n",
      "[Parallel(n_jobs=15)]: Done   3 out of   3 | elapsed:    0.0s remaining:    0.0s\n",
      "[Parallel(n_jobs=15)]: Done   2 out of   2 | elapsed:    0.0s remaining:    0.0s\n",
      "[Parallel(n_jobs=15)]: Done   4 out of   4 | elapsed:    0.0s remaining:    0.0s\n",
      "[Parallel(n_jobs=15)]: Done   3 out of   3 | elapsed:    0.0s remaining:    0.0s\n",
      "[Parallel(n_jobs=15)]: Done   4 out of   4 | elapsed:    0.0s remaining:    0.0s\n",
      "[Parallel(n_jobs=15)]: Done  15 out of  15 | elapsed:    0.1s finished\n",
      "[Parallel(n_jobs=5)]: Done   2 out of   2 | elapsed:    1.6s remaining:    0.0s\n"
     ]
    },
    {
     "data": {
      "application/vnd.jupyter.widget-view+json": {
       "model_id": "08482e515cbf4a07a38b7d4e4673c269",
       "version_major": 2,
       "version_minor": 0
      },
      "text/plain": [
       "  0%|          | Fitting SlidingEstimator : 0/146 [00:00<?,       ?it/s]"
      ]
     },
     "metadata": {},
     "output_type": "display_data"
    },
    {
     "name": "stderr",
     "output_type": "stream",
     "text": [
      "/u/fklotzsche/conda-envs/mne/lib/python3.9/site-packages/joblib/parallel.py:735: UserWarning: Loky-backed parallel loops cannot be called in a multiprocessing, setting n_jobs=1\n",
      "  n_jobs = self._backend.configure(n_jobs=self.n_jobs, parallel=self,\n",
      "[Parallel(n_jobs=15)]: Done  15 out of  15 | elapsed:    0.1s finished\n",
      "[Parallel(n_jobs=5)]: Done   4 out of   4 | elapsed:    3.6s remaining:    0.0s\n",
      "[Parallel(n_jobs=15)]: Done  15 out of  15 | elapsed:    0.1s finished\n",
      "[Parallel(n_jobs=5)]: Done   1 out of   1 | elapsed:    0.9s remaining:    0.0s\n"
     ]
    },
    {
     "data": {
      "application/vnd.jupyter.widget-view+json": {
       "model_id": "efaf6296912d440ab0db3ae53799fc16",
       "version_major": 2,
       "version_minor": 0
      },
      "text/plain": [
       "  0%|          | Fitting SlidingEstimator : 0/146 [00:00<?,       ?it/s]"
      ]
     },
     "metadata": {},
     "output_type": "display_data"
    },
    {
     "name": "stderr",
     "output_type": "stream",
     "text": [
      "/u/fklotzsche/conda-envs/mne/lib/python3.9/site-packages/joblib/parallel.py:735: UserWarning: Loky-backed parallel loops cannot be called in a multiprocessing, setting n_jobs=1\n",
      "  n_jobs = self._backend.configure(n_jobs=self.n_jobs, parallel=self,\n"
     ]
    },
    {
     "data": {
      "application/vnd.jupyter.widget-view+json": {
       "model_id": "7b41ebb603094d60be353ea3d0d08055",
       "version_major": 2,
       "version_minor": 0
      },
      "text/plain": [
       "  0%|          | Fitting SlidingEstimator : 0/146 [00:00<?,       ?it/s]"
      ]
     },
     "metadata": {},
     "output_type": "display_data"
    },
    {
     "name": "stderr",
     "output_type": "stream",
     "text": [
      "/u/fklotzsche/conda-envs/mne/lib/python3.9/site-packages/joblib/parallel.py:735: UserWarning: Loky-backed parallel loops cannot be called in a multiprocessing, setting n_jobs=1\n",
      "  n_jobs = self._backend.configure(n_jobs=self.n_jobs, parallel=self,\n",
      "/u/fklotzsche/conda-envs/mne/lib/python3.9/site-packages/joblib/parallel.py:735: UserWarning: Loky-backed parallel loops cannot be called in a multiprocessing, setting n_jobs=1\n",
      "  n_jobs = self._backend.configure(n_jobs=self.n_jobs, parallel=self,\n",
      "[Parallel(n_jobs=15)]: Using backend SequentialBackend with 1 concurrent workers.\n",
      "[Parallel(n_jobs=15)]: Done   1 out of   1 | elapsed:    0.0s remaining:    0.0s\n",
      "[Parallel(n_jobs=15)]: Done   2 out of   2 | elapsed:    0.0s remaining:    0.0s\n",
      "[Parallel(n_jobs=15)]: Done   3 out of   3 | elapsed:    0.0s remaining:    0.0s\n",
      "[Parallel(n_jobs=15)]: Done   4 out of   4 | elapsed:    0.0s remaining:    0.0s\n",
      "[Parallel(n_jobs=15)]: Done  15 out of  15 | elapsed:    0.1s finished\n",
      "[Parallel(n_jobs=5)]: Done   4 out of   4 | elapsed:    3.4s remaining:    0.0s\n"
     ]
    },
    {
     "data": {
      "application/vnd.jupyter.widget-view+json": {
       "model_id": "51ae591b0dfe43b88df5a2c00bd75136",
       "version_major": 2,
       "version_minor": 0
      },
      "text/plain": [
       "  0%|          | Fitting SlidingEstimator : 0/146 [00:00<?,       ?it/s]"
      ]
     },
     "metadata": {},
     "output_type": "display_data"
    },
    {
     "name": "stderr",
     "output_type": "stream",
     "text": [
      "/u/fklotzsche/conda-envs/mne/lib/python3.9/site-packages/joblib/parallel.py:735: UserWarning: Loky-backed parallel loops cannot be called in a multiprocessing, setting n_jobs=1\n",
      "  n_jobs = self._backend.configure(n_jobs=self.n_jobs, parallel=self,\n",
      "/u/fklotzsche/conda-envs/mne/lib/python3.9/site-packages/joblib/parallel.py:735: UserWarning: Loky-backed parallel loops cannot be called in a multiprocessing, setting n_jobs=1\n",
      "  n_jobs = self._backend.configure(n_jobs=self.n_jobs, parallel=self,\n",
      "[Parallel(n_jobs=15)]: Using backend SequentialBackend with 1 concurrent workers.\n"
     ]
    },
    {
     "name": "stdout",
     "output_type": "stream",
     "text": [
      "y shape: (20,)\n",
      "[1. 1. 0. 0. 0. 1. 0. 0. 0. 1. 1. 1. 0. 1. 0. 0. 0. 1. 1. 1.]\n"
     ]
    },
    {
     "name": "stderr",
     "output_type": "stream",
     "text": [
      "/u/fklotzsche/conda-envs/mne/lib/python3.9/site-packages/joblib/parallel.py:735: UserWarning: Loky-backed parallel loops cannot be called in a multiprocessing, setting n_jobs=1\n",
      "  n_jobs = self._backend.configure(n_jobs=self.n_jobs, parallel=self,\n",
      "[Parallel(n_jobs=5)]: Using backend SequentialBackend with 1 concurrent workers.\n",
      "[Parallel(n_jobs=15)]: Done   1 out of   1 | elapsed:    0.0s remaining:    0.0s\n",
      "[Parallel(n_jobs=15)]: Done   2 out of   2 | elapsed:    0.0s remaining:    0.0s\n",
      "[Parallel(n_jobs=15)]: Done   3 out of   3 | elapsed:    0.0s remaining:    0.0s\n"
     ]
    },
    {
     "data": {
      "application/vnd.jupyter.widget-view+json": {
       "model_id": "ff8d85c6d4024885a7fb5e4ffaec4ffe",
       "version_major": 2,
       "version_minor": 0
      },
      "text/plain": [
       "  0%|          | Fitting SlidingEstimator : 0/146 [00:00<?,       ?it/s]"
      ]
     },
     "metadata": {},
     "output_type": "display_data"
    },
    {
     "name": "stderr",
     "output_type": "stream",
     "text": [
      "/u/fklotzsche/conda-envs/mne/lib/python3.9/site-packages/joblib/parallel.py:735: UserWarning: Loky-backed parallel loops cannot be called in a multiprocessing, setting n_jobs=1\n",
      "  n_jobs = self._backend.configure(n_jobs=self.n_jobs, parallel=self,\n",
      "[Parallel(n_jobs=15)]: Using backend SequentialBackend with 1 concurrent workers.\n",
      "[Parallel(n_jobs=15)]: Done   4 out of   4 | elapsed:    0.0s remaining:    0.0s\n",
      "/u/fklotzsche/conda-envs/mne/lib/python3.9/site-packages/joblib/parallel.py:735: UserWarning: Loky-backed parallel loops cannot be called in a multiprocessing, setting n_jobs=1\n",
      "  n_jobs = self._backend.configure(n_jobs=self.n_jobs, parallel=self,\n",
      "[Parallel(n_jobs=15)]: Done   1 out of   1 | elapsed:    0.0s remaining:    0.0s\n",
      "[Parallel(n_jobs=15)]: Done   2 out of   2 | elapsed:    0.0s remaining:    0.0s\n",
      "/u/fklotzsche/conda-envs/mne/lib/python3.9/site-packages/joblib/parallel.py:735: UserWarning: Loky-backed parallel loops cannot be called in a multiprocessing, setting n_jobs=1\n",
      "  n_jobs = self._backend.configure(n_jobs=self.n_jobs, parallel=self,\n",
      "[Parallel(n_jobs=15)]: Using backend SequentialBackend with 1 concurrent workers.\n",
      "[Parallel(n_jobs=15)]: Done   3 out of   3 | elapsed:    0.0s remaining:    0.0s\n",
      "[Parallel(n_jobs=15)]: Done   1 out of   1 | elapsed:    0.0s remaining:    0.0s\n",
      "[Parallel(n_jobs=15)]: Done   4 out of   4 | elapsed:    0.1s remaining:    0.0s\n",
      "[Parallel(n_jobs=15)]: Done   2 out of   2 | elapsed:    0.0s remaining:    0.0s\n",
      "[Parallel(n_jobs=15)]: Done   3 out of   3 | elapsed:    0.0s remaining:    0.0s\n",
      "[Parallel(n_jobs=15)]: Done   4 out of   4 | elapsed:    0.0s remaining:    0.0s\n",
      "[Parallel(n_jobs=15)]: Done  15 out of  15 | elapsed:    0.1s finished\n",
      "[Parallel(n_jobs=5)]: Done   2 out of   2 | elapsed:    1.7s remaining:    0.0s\n"
     ]
    },
    {
     "data": {
      "application/vnd.jupyter.widget-view+json": {
       "model_id": "e34663b9cd334bd585f87b61d645216b",
       "version_major": 2,
       "version_minor": 0
      },
      "text/plain": [
       "  0%|          | Fitting SlidingEstimator : 0/146 [00:00<?,       ?it/s]"
      ]
     },
     "metadata": {},
     "output_type": "display_data"
    },
    {
     "name": "stderr",
     "output_type": "stream",
     "text": [
      "/u/fklotzsche/conda-envs/mne/lib/python3.9/site-packages/joblib/parallel.py:735: UserWarning: Loky-backed parallel loops cannot be called in a multiprocessing, setting n_jobs=1\n",
      "  n_jobs = self._backend.configure(n_jobs=self.n_jobs, parallel=self,\n",
      "[Parallel(n_jobs=15)]: Done  15 out of  15 | elapsed:    0.2s finished\n",
      "[Parallel(n_jobs=15)]: Done  15 out of  15 | elapsed:    0.1s finished\n",
      "[Parallel(n_jobs=5)]: Done   3 out of   3 | elapsed:    2.6s remaining:    0.0s\n",
      "[Parallel(n_jobs=5)]: Done   5 out of   5 | elapsed:    4.5s finished\n",
      "/u/fklotzsche/conda-envs/mne/lib/python3.9/site-packages/joblib/parallel.py:735: UserWarning: Loky-backed parallel loops cannot be called in a multiprocessing, setting n_jobs=1\n",
      "  n_jobs = self._backend.configure(n_jobs=self.n_jobs, parallel=self,\n",
      "[Parallel(n_jobs=15)]: Using backend SequentialBackend with 1 concurrent workers.\n"
     ]
    },
    {
     "data": {
      "application/vnd.jupyter.widget-view+json": {
       "model_id": "43622218958a415b9b0085ccc72d3a4c",
       "version_major": 2,
       "version_minor": 0
      },
      "text/plain": [
       "  0%|          | Fitting SlidingEstimator : 0/146 [00:00<?,       ?it/s]"
      ]
     },
     "metadata": {},
     "output_type": "display_data"
    },
    {
     "name": "stderr",
     "output_type": "stream",
     "text": [
      "/u/fklotzsche/conda-envs/mne/lib/python3.9/site-packages/joblib/parallel.py:735: UserWarning: Loky-backed parallel loops cannot be called in a multiprocessing, setting n_jobs=1\n",
      "  n_jobs = self._backend.configure(n_jobs=self.n_jobs, parallel=self,\n"
     ]
    },
    {
     "data": {
      "application/vnd.jupyter.widget-view+json": {
       "model_id": "2a2115090df44fe39594f4a790227af7",
       "version_major": 2,
       "version_minor": 0
      },
      "text/plain": [
       "  0%|          | Fitting SlidingEstimator : 0/146 [00:00<?,       ?it/s]"
      ]
     },
     "metadata": {},
     "output_type": "display_data"
    },
    {
     "name": "stderr",
     "output_type": "stream",
     "text": [
      "/u/fklotzsche/conda-envs/mne/lib/python3.9/site-packages/joblib/parallel.py:735: UserWarning: Loky-backed parallel loops cannot be called in a multiprocessing, setting n_jobs=1\n",
      "  n_jobs = self._backend.configure(n_jobs=self.n_jobs, parallel=self,\n",
      "[Parallel(n_jobs=15)]: Done   1 out of   1 | elapsed:    0.0s remaining:    0.0s\n",
      "[Parallel(n_jobs=15)]: Done   2 out of   2 | elapsed:    0.0s remaining:    0.0s\n",
      "[Parallel(n_jobs=15)]: Done   3 out of   3 | elapsed:    0.0s remaining:    0.0s\n",
      "[Parallel(n_jobs=15)]: Done   4 out of   4 | elapsed:    0.0s remaining:    0.0s\n",
      "[Parallel(n_jobs=15)]: Done  15 out of  15 | elapsed:    0.1s finished\n",
      "[Parallel(n_jobs=5)]: Done   5 out of   5 | elapsed:    4.3s finished\n"
     ]
    },
    {
     "data": {
      "application/vnd.jupyter.widget-view+json": {
       "model_id": "6da0a6ac15fe43dcaa22ecf9072c9c4b",
       "version_major": 2,
       "version_minor": 0
      },
      "text/plain": [
       "  0%|          | Fitting SlidingEstimator : 0/146 [00:00<?,       ?it/s]"
      ]
     },
     "metadata": {},
     "output_type": "display_data"
    },
    {
     "name": "stderr",
     "output_type": "stream",
     "text": [
      "/u/fklotzsche/conda-envs/mne/lib/python3.9/site-packages/joblib/parallel.py:735: UserWarning: Loky-backed parallel loops cannot be called in a multiprocessing, setting n_jobs=1\n",
      "  n_jobs = self._backend.configure(n_jobs=self.n_jobs, parallel=self,\n",
      "/u/fklotzsche/conda-envs/mne/lib/python3.9/site-packages/joblib/parallel.py:735: UserWarning: Loky-backed parallel loops cannot be called in a multiprocessing, setting n_jobs=1\n",
      "  n_jobs = self._backend.configure(n_jobs=self.n_jobs, parallel=self,\n",
      "[Parallel(n_jobs=15)]: Using backend SequentialBackend with 1 concurrent workers.\n",
      "[Parallel(n_jobs=15)]: Done   1 out of   1 | elapsed:    0.0s remaining:    0.0s\n",
      "[Parallel(n_jobs=15)]: Done   2 out of   2 | elapsed:    0.0s remaining:    0.0s\n",
      "[Parallel(n_jobs=15)]: Done   3 out of   3 | elapsed:    0.0s remaining:    0.0s\n",
      "[Parallel(n_jobs=15)]: Done   4 out of   4 | elapsed:    0.0s remaining:    0.0s\n",
      "/u/fklotzsche/conda-envs/mne/lib/python3.9/site-packages/joblib/parallel.py:735: UserWarning: Loky-backed parallel loops cannot be called in a multiprocessing, setting n_jobs=1\n",
      "  n_jobs = self._backend.configure(n_jobs=self.n_jobs, parallel=self,\n",
      "[Parallel(n_jobs=15)]: Using backend SequentialBackend with 1 concurrent workers.\n",
      "[Parallel(n_jobs=15)]: Done  15 out of  15 | elapsed:    0.1s finished\n",
      "[Parallel(n_jobs=5)]: Done   1 out of   1 | elapsed:    0.9s remaining:    0.0s\n",
      "[Parallel(n_jobs=15)]: Done   1 out of   1 | elapsed:    0.0s remaining:    0.0s\n",
      "[Parallel(n_jobs=15)]: Done   2 out of   2 | elapsed:    0.0s remaining:    0.0s\n",
      "[Parallel(n_jobs=15)]: Done   3 out of   3 | elapsed:    0.0s remaining:    0.0s\n"
     ]
    },
    {
     "data": {
      "application/vnd.jupyter.widget-view+json": {
       "model_id": "287b8c546cda44d1a3a52504813da477",
       "version_major": 2,
       "version_minor": 0
      },
      "text/plain": [
       "  0%|          | Fitting SlidingEstimator : 0/146 [00:00<?,       ?it/s]"
      ]
     },
     "metadata": {},
     "output_type": "display_data"
    },
    {
     "name": "stderr",
     "output_type": "stream",
     "text": [
      "/u/fklotzsche/conda-envs/mne/lib/python3.9/site-packages/joblib/parallel.py:735: UserWarning: Loky-backed parallel loops cannot be called in a multiprocessing, setting n_jobs=1\n",
      "  n_jobs = self._backend.configure(n_jobs=self.n_jobs, parallel=self,\n",
      "[Parallel(n_jobs=15)]: Done   4 out of   4 | elapsed:    0.0s remaining:    0.0s\n",
      "/u/fklotzsche/conda-envs/mne/lib/python3.9/site-packages/joblib/parallel.py:735: UserWarning: Loky-backed parallel loops cannot be called in a multiprocessing, setting n_jobs=1\n",
      "  n_jobs = self._backend.configure(n_jobs=self.n_jobs, parallel=self,\n",
      "[Parallel(n_jobs=15)]: Using backend SequentialBackend with 1 concurrent workers.\n",
      "[Parallel(n_jobs=15)]: Done   1 out of   1 | elapsed:    0.0s remaining:    0.0s\n",
      "[Parallel(n_jobs=15)]: Done   2 out of   2 | elapsed:    0.0s remaining:    0.0s\n",
      "[Parallel(n_jobs=15)]: Done   3 out of   3 | elapsed:    0.0s remaining:    0.0s\n",
      "[Parallel(n_jobs=15)]: Done   4 out of   4 | elapsed:    0.0s remaining:    0.0s\n",
      "[Parallel(n_jobs=15)]: Done  15 out of  15 | elapsed:    0.1s finished\n",
      "[Parallel(n_jobs=5)]: Done   3 out of   3 | elapsed:    2.6s remaining:    0.0s\n"
     ]
    },
    {
     "data": {
      "application/vnd.jupyter.widget-view+json": {
       "model_id": "8464835ddece46ffa4c83057f0cbcdd9",
       "version_major": 2,
       "version_minor": 0
      },
      "text/plain": [
       "  0%|          | Fitting SlidingEstimator : 0/146 [00:00<?,       ?it/s]"
      ]
     },
     "metadata": {},
     "output_type": "display_data"
    },
    {
     "name": "stderr",
     "output_type": "stream",
     "text": [
      "/u/fklotzsche/conda-envs/mne/lib/python3.9/site-packages/joblib/parallel.py:735: UserWarning: Loky-backed parallel loops cannot be called in a multiprocessing, setting n_jobs=1\n",
      "  n_jobs = self._backend.configure(n_jobs=self.n_jobs, parallel=self,\n",
      "[Parallel(n_jobs=15)]: Done  15 out of  15 | elapsed:    0.1s finished\n",
      "[Parallel(n_jobs=5)]: Done   4 out of   4 | elapsed:    3.5s remaining:    0.0s\n"
     ]
    },
    {
     "data": {
      "application/vnd.jupyter.widget-view+json": {
       "model_id": "961f27a9522542b696d01666544160b3",
       "version_major": 2,
       "version_minor": 0
      },
      "text/plain": [
       "  0%|          | Fitting SlidingEstimator : 0/146 [00:00<?,       ?it/s]"
      ]
     },
     "metadata": {},
     "output_type": "display_data"
    },
    {
     "name": "stderr",
     "output_type": "stream",
     "text": [
      "/u/fklotzsche/conda-envs/mne/lib/python3.9/site-packages/joblib/parallel.py:735: UserWarning: Loky-backed parallel loops cannot be called in a multiprocessing, setting n_jobs=1\n",
      "  n_jobs = self._backend.configure(n_jobs=self.n_jobs, parallel=self,\n"
     ]
    },
    {
     "name": "stdout",
     "output_type": "stream",
     "text": [
      "y shape: (22,)\n",
      "[0. 1. 0. 1. 1. 1. 0. 1. 0. 1. 0. 0. 0. 0. 1. 0. 1. 1. 0. 1. 0. 1.]\n"
     ]
    },
    {
     "name": "stderr",
     "output_type": "stream",
     "text": [
      "/u/fklotzsche/conda-envs/mne/lib/python3.9/site-packages/joblib/parallel.py:735: UserWarning: Loky-backed parallel loops cannot be called in a multiprocessing, setting n_jobs=1\n",
      "  n_jobs = self._backend.configure(n_jobs=self.n_jobs, parallel=self,\n",
      "[Parallel(n_jobs=5)]: Using backend SequentialBackend with 1 concurrent workers.\n"
     ]
    },
    {
     "data": {
      "application/vnd.jupyter.widget-view+json": {
       "model_id": "5f54582e60684a7f8d60b230b68fe37d",
       "version_major": 2,
       "version_minor": 0
      },
      "text/plain": [
       "  0%|          | Fitting SlidingEstimator : 0/146 [00:00<?,       ?it/s]"
      ]
     },
     "metadata": {},
     "output_type": "display_data"
    },
    {
     "name": "stderr",
     "output_type": "stream",
     "text": [
      "/u/fklotzsche/conda-envs/mne/lib/python3.9/site-packages/joblib/parallel.py:735: UserWarning: Loky-backed parallel loops cannot be called in a multiprocessing, setting n_jobs=1\n",
      "  n_jobs = self._backend.configure(n_jobs=self.n_jobs, parallel=self,\n",
      "/u/fklotzsche/conda-envs/mne/lib/python3.9/site-packages/joblib/parallel.py:735: UserWarning: Loky-backed parallel loops cannot be called in a multiprocessing, setting n_jobs=1\n",
      "  n_jobs = self._backend.configure(n_jobs=self.n_jobs, parallel=self,\n",
      "[Parallel(n_jobs=15)]: Using backend SequentialBackend with 1 concurrent workers.\n",
      "[Parallel(n_jobs=15)]: Done   1 out of   1 | elapsed:    0.0s remaining:    0.0s\n",
      "[Parallel(n_jobs=15)]: Done   2 out of   2 | elapsed:    0.0s remaining:    0.0s\n",
      "/u/fklotzsche/conda-envs/mne/lib/python3.9/site-packages/joblib/parallel.py:735: UserWarning: Loky-backed parallel loops cannot be called in a multiprocessing, setting n_jobs=1\n",
      "  n_jobs = self._backend.configure(n_jobs=self.n_jobs, parallel=self,\n",
      "[Parallel(n_jobs=15)]: Using backend SequentialBackend with 1 concurrent workers.\n",
      "[Parallel(n_jobs=15)]: Done   3 out of   3 | elapsed:    0.0s remaining:    0.0s\n",
      "[Parallel(n_jobs=15)]: Done   1 out of   1 | elapsed:    0.0s remaining:    0.0s\n",
      "[Parallel(n_jobs=15)]: Done   4 out of   4 | elapsed:    0.0s remaining:    0.0s\n",
      "/u/fklotzsche/conda-envs/mne/lib/python3.9/site-packages/joblib/parallel.py:735: UserWarning: Loky-backed parallel loops cannot be called in a multiprocessing, setting n_jobs=1\n",
      "  n_jobs = self._backend.configure(n_jobs=self.n_jobs, parallel=self,\n",
      "[Parallel(n_jobs=15)]: Using backend SequentialBackend with 1 concurrent workers.\n",
      "[Parallel(n_jobs=15)]: Done   2 out of   2 | elapsed:    0.0s remaining:    0.0s\n",
      "[Parallel(n_jobs=15)]: Done   3 out of   3 | elapsed:    0.0s remaining:    0.0s\n",
      "[Parallel(n_jobs=15)]: Done   1 out of   1 | elapsed:    0.0s remaining:    0.0s\n",
      "[Parallel(n_jobs=15)]: Done   4 out of   4 | elapsed:    0.0s remaining:    0.0s\n",
      "[Parallel(n_jobs=15)]: Done   2 out of   2 | elapsed:    0.0s remaining:    0.0s\n",
      "[Parallel(n_jobs=15)]: Done   3 out of   3 | elapsed:    0.0s remaining:    0.0s\n",
      "[Parallel(n_jobs=15)]: Done   4 out of   4 | elapsed:    0.0s remaining:    0.0s\n",
      "[Parallel(n_jobs=15)]: Done  15 out of  15 | elapsed:    0.1s finished\n",
      "[Parallel(n_jobs=5)]: Done   2 out of   2 | elapsed:    1.8s remaining:    0.0s\n",
      "[Parallel(n_jobs=15)]: Done  15 out of  15 | elapsed:    0.1s finished\n",
      "[Parallel(n_jobs=5)]: Done   4 out of   4 | elapsed:    3.5s remaining:    0.0s\n",
      "[Parallel(n_jobs=15)]: Done  15 out of  15 | elapsed:    0.1s finished\n"
     ]
    },
    {
     "data": {
      "application/vnd.jupyter.widget-view+json": {
       "model_id": "e2756b2c31054e12b059dfa2a949c9a0",
       "version_major": 2,
       "version_minor": 0
      },
      "text/plain": [
       "  0%|          | Fitting SlidingEstimator : 0/146 [00:00<?,       ?it/s]"
      ]
     },
     "metadata": {},
     "output_type": "display_data"
    },
    {
     "name": "stderr",
     "output_type": "stream",
     "text": [
      "[Parallel(n_jobs=5)]: Done   5 out of   5 | elapsed:    4.3s finished\n",
      "/u/fklotzsche/conda-envs/mne/lib/python3.9/site-packages/joblib/parallel.py:735: UserWarning: Loky-backed parallel loops cannot be called in a multiprocessing, setting n_jobs=1\n",
      "  n_jobs = self._backend.configure(n_jobs=self.n_jobs, parallel=self,\n"
     ]
    },
    {
     "data": {
      "application/vnd.jupyter.widget-view+json": {
       "model_id": "fe33265be2a4491a999f83cc6659ea65",
       "version_major": 2,
       "version_minor": 0
      },
      "text/plain": [
       "  0%|          | Fitting SlidingEstimator : 0/146 [00:00<?,       ?it/s]"
      ]
     },
     "metadata": {},
     "output_type": "display_data"
    },
    {
     "name": "stderr",
     "output_type": "stream",
     "text": [
      "/u/fklotzsche/conda-envs/mne/lib/python3.9/site-packages/joblib/parallel.py:735: UserWarning: Loky-backed parallel loops cannot be called in a multiprocessing, setting n_jobs=1\n",
      "  n_jobs = self._backend.configure(n_jobs=self.n_jobs, parallel=self,\n"
     ]
    },
    {
     "data": {
      "application/vnd.jupyter.widget-view+json": {
       "model_id": "d753e33c1bca4b8395eec1c418e8f31a",
       "version_major": 2,
       "version_minor": 0
      },
      "text/plain": [
       "  0%|          | Fitting SlidingEstimator : 0/146 [00:00<?,       ?it/s]"
      ]
     },
     "metadata": {},
     "output_type": "display_data"
    },
    {
     "name": "stderr",
     "output_type": "stream",
     "text": [
      "/u/fklotzsche/conda-envs/mne/lib/python3.9/site-packages/joblib/parallel.py:735: UserWarning: Loky-backed parallel loops cannot be called in a multiprocessing, setting n_jobs=1\n",
      "  n_jobs = self._backend.configure(n_jobs=self.n_jobs, parallel=self,\n",
      "/u/fklotzsche/conda-envs/mne/lib/python3.9/site-packages/joblib/parallel.py:735: UserWarning: Loky-backed parallel loops cannot be called in a multiprocessing, setting n_jobs=1\n",
      "  n_jobs = self._backend.configure(n_jobs=self.n_jobs, parallel=self,\n",
      "[Parallel(n_jobs=15)]: Using backend SequentialBackend with 1 concurrent workers.\n",
      "[Parallel(n_jobs=15)]: Done   1 out of   1 | elapsed:    0.0s remaining:    0.0s\n",
      "[Parallel(n_jobs=15)]: Done   2 out of   2 | elapsed:    0.0s remaining:    0.0s\n",
      "[Parallel(n_jobs=15)]: Done   3 out of   3 | elapsed:    0.0s remaining:    0.0s\n",
      "[Parallel(n_jobs=15)]: Done   4 out of   4 | elapsed:    0.1s remaining:    0.0s\n",
      "[Parallel(n_jobs=15)]: Done  15 out of  15 | elapsed:    0.1s finished\n",
      "[Parallel(n_jobs=5)]: Done   1 out of   1 | elapsed:    1.0s remaining:    0.0s\n"
     ]
    },
    {
     "data": {
      "application/vnd.jupyter.widget-view+json": {
       "model_id": "f6eebac1155b40dea1cd4a802850c986",
       "version_major": 2,
       "version_minor": 0
      },
      "text/plain": [
       "  0%|          | Fitting SlidingEstimator : 0/146 [00:00<?,       ?it/s]"
      ]
     },
     "metadata": {},
     "output_type": "display_data"
    },
    {
     "name": "stderr",
     "output_type": "stream",
     "text": [
      "/u/fklotzsche/conda-envs/mne/lib/python3.9/site-packages/joblib/parallel.py:735: UserWarning: Loky-backed parallel loops cannot be called in a multiprocessing, setting n_jobs=1\n",
      "  n_jobs = self._backend.configure(n_jobs=self.n_jobs, parallel=self,\n"
     ]
    },
    {
     "name": "stdout",
     "output_type": "stream",
     "text": [
      "y shape: (20,)\n",
      "[1. 0. 1. 0. 1. 0. 1. 1. 1. 0. 0. 0. 1. 1. 1. 0. 0. 0. 0. 1.]\n"
     ]
    },
    {
     "name": "stderr",
     "output_type": "stream",
     "text": [
      "/u/fklotzsche/conda-envs/mne/lib/python3.9/site-packages/joblib/parallel.py:735: UserWarning: Loky-backed parallel loops cannot be called in a multiprocessing, setting n_jobs=1\n",
      "  n_jobs = self._backend.configure(n_jobs=self.n_jobs, parallel=self,\n",
      "[Parallel(n_jobs=5)]: Using backend SequentialBackend with 1 concurrent workers.\n",
      "/u/fklotzsche/conda-envs/mne/lib/python3.9/site-packages/joblib/parallel.py:735: UserWarning: Loky-backed parallel loops cannot be called in a multiprocessing, setting n_jobs=1\n",
      "  n_jobs = self._backend.configure(n_jobs=self.n_jobs, parallel=self,\n"
     ]
    },
    {
     "data": {
      "application/vnd.jupyter.widget-view+json": {
       "model_id": "755254bd3207445e8b8074da800a5a12",
       "version_major": 2,
       "version_minor": 0
      },
      "text/plain": [
       "  0%|          | Fitting SlidingEstimator : 0/146 [00:00<?,       ?it/s]"
      ]
     },
     "metadata": {},
     "output_type": "display_data"
    },
    {
     "name": "stderr",
     "output_type": "stream",
     "text": [
      "[Parallel(n_jobs=15)]: Using backend SequentialBackend with 1 concurrent workers.\n",
      "/u/fklotzsche/conda-envs/mne/lib/python3.9/site-packages/joblib/parallel.py:735: UserWarning: Loky-backed parallel loops cannot be called in a multiprocessing, setting n_jobs=1\n",
      "  n_jobs = self._backend.configure(n_jobs=self.n_jobs, parallel=self,\n",
      "[Parallel(n_jobs=15)]: Done   1 out of   1 | elapsed:    0.0s remaining:    0.0s\n",
      "/u/fklotzsche/conda-envs/mne/lib/python3.9/site-packages/joblib/parallel.py:735: UserWarning: Loky-backed parallel loops cannot be called in a multiprocessing, setting n_jobs=1\n",
      "  n_jobs = self._backend.configure(n_jobs=self.n_jobs, parallel=self,\n",
      "[Parallel(n_jobs=15)]: Using backend SequentialBackend with 1 concurrent workers.\n",
      "[Parallel(n_jobs=15)]: Done   2 out of   2 | elapsed:    0.0s remaining:    0.0s\n",
      "[Parallel(n_jobs=15)]: Done   1 out of   1 | elapsed:    0.0s remaining:    0.0s\n",
      "[Parallel(n_jobs=15)]: Done   3 out of   3 | elapsed:    0.0s remaining:    0.0s\n",
      "[Parallel(n_jobs=15)]: Done   2 out of   2 | elapsed:    0.0s remaining:    0.0s\n",
      "[Parallel(n_jobs=15)]: Done   4 out of   4 | elapsed:    0.0s remaining:    0.0s\n",
      "[Parallel(n_jobs=15)]: Done   3 out of   3 | elapsed:    0.0s remaining:    0.0s\n",
      "[Parallel(n_jobs=15)]: Done   4 out of   4 | elapsed:    0.0s remaining:    0.0s\n",
      "[Parallel(n_jobs=15)]: Done  15 out of  15 | elapsed:    0.1s finished\n",
      "[Parallel(n_jobs=5)]: Done   3 out of   3 | elapsed:    2.7s remaining:    0.0s\n"
     ]
    },
    {
     "name": "stdout",
     "output_type": "stream",
     "text": [
      "y shape: (19,)"
     ]
    },
    {
     "name": "stderr",
     "output_type": "stream",
     "text": [
      "[Parallel(n_jobs=15)]: Done  15 out of  15 | elapsed:    0.1s finished\n"
     ]
    },
    {
     "name": "stdout",
     "output_type": "stream",
     "text": [
      "\n",
      "[0. 1. 0. 0. 0. 1. 1. 1. 1. 0. 0. 1. 1. 1. 0. 1. 0. 0. 0.]\n"
     ]
    },
    {
     "name": "stderr",
     "output_type": "stream",
     "text": [
      "/u/fklotzsche/conda-envs/mne/lib/python3.9/site-packages/joblib/parallel.py:735: UserWarning: Loky-backed parallel loops cannot be called in a multiprocessing, setting n_jobs=1\n",
      "  n_jobs = self._backend.configure(n_jobs=self.n_jobs, parallel=self,\n",
      "[Parallel(n_jobs=5)]: Using backend SequentialBackend with 1 concurrent workers.\n",
      "[Parallel(n_jobs=5)]: Done   5 out of   5 | elapsed:    4.3s finished\n"
     ]
    },
    {
     "data": {
      "application/vnd.jupyter.widget-view+json": {
       "model_id": "87901e69de0048c0865f43148613587c",
       "version_major": 2,
       "version_minor": 0
      },
      "text/plain": [
       "  0%|          | Fitting SlidingEstimator : 0/146 [00:00<?,       ?it/s]"
      ]
     },
     "metadata": {},
     "output_type": "display_data"
    },
    {
     "name": "stderr",
     "output_type": "stream",
     "text": [
      "/u/fklotzsche/conda-envs/mne/lib/python3.9/site-packages/joblib/parallel.py:735: UserWarning: Loky-backed parallel loops cannot be called in a multiprocessing, setting n_jobs=1\n",
      "  n_jobs = self._backend.configure(n_jobs=self.n_jobs, parallel=self,\n"
     ]
    },
    {
     "data": {
      "application/vnd.jupyter.widget-view+json": {
       "model_id": "293beb5f71a14fcc9d82ddfe4ac7476e",
       "version_major": 2,
       "version_minor": 0
      },
      "text/plain": [
       "  0%|          | Fitting SlidingEstimator : 0/146 [00:00<?,       ?it/s]"
      ]
     },
     "metadata": {},
     "output_type": "display_data"
    },
    {
     "name": "stderr",
     "output_type": "stream",
     "text": [
      "/u/fklotzsche/conda-envs/mne/lib/python3.9/site-packages/joblib/parallel.py:735: UserWarning: Loky-backed parallel loops cannot be called in a multiprocessing, setting n_jobs=1\n",
      "  n_jobs = self._backend.configure(n_jobs=self.n_jobs, parallel=self,\n"
     ]
    },
    {
     "data": {
      "application/vnd.jupyter.widget-view+json": {
       "model_id": "fcbc21013ebd4077913f18dcc70798f2",
       "version_major": 2,
       "version_minor": 0
      },
      "text/plain": [
       "  0%|          | Fitting SlidingEstimator : 0/146 [00:00<?,       ?it/s]"
      ]
     },
     "metadata": {},
     "output_type": "display_data"
    },
    {
     "name": "stderr",
     "output_type": "stream",
     "text": [
      "/u/fklotzsche/conda-envs/mne/lib/python3.9/site-packages/joblib/parallel.py:735: UserWarning: Loky-backed parallel loops cannot be called in a multiprocessing, setting n_jobs=1\n",
      "  n_jobs = self._backend.configure(n_jobs=self.n_jobs, parallel=self,\n",
      "/u/fklotzsche/conda-envs/mne/lib/python3.9/site-packages/joblib/parallel.py:735: UserWarning: Loky-backed parallel loops cannot be called in a multiprocessing, setting n_jobs=1\n",
      "  n_jobs = self._backend.configure(n_jobs=self.n_jobs, parallel=self,\n",
      "[Parallel(n_jobs=15)]: Using backend SequentialBackend with 1 concurrent workers.\n",
      "[Parallel(n_jobs=15)]: Done   1 out of   1 | elapsed:    0.0s remaining:    0.0s\n",
      "[Parallel(n_jobs=15)]: Done   2 out of   2 | elapsed:    0.0s remaining:    0.0s\n",
      "[Parallel(n_jobs=15)]: Done   3 out of   3 | elapsed:    0.0s remaining:    0.0s\n",
      "[Parallel(n_jobs=15)]: Done   4 out of   4 | elapsed:    0.0s remaining:    0.0s\n",
      "[Parallel(n_jobs=15)]: Done  15 out of  15 | elapsed:    0.1s finished\n",
      "[Parallel(n_jobs=5)]: Done   2 out of   2 | elapsed:    1.8s remaining:    0.0s\n"
     ]
    },
    {
     "data": {
      "application/vnd.jupyter.widget-view+json": {
       "model_id": "4f21f3ac23df4682b70c12ce6af4c419",
       "version_major": 2,
       "version_minor": 0
      },
      "text/plain": [
       "  0%|          | Fitting SlidingEstimator : 0/146 [00:00<?,       ?it/s]"
      ]
     },
     "metadata": {},
     "output_type": "display_data"
    },
    {
     "name": "stderr",
     "output_type": "stream",
     "text": [
      "/u/fklotzsche/conda-envs/mne/lib/python3.9/site-packages/joblib/parallel.py:735: UserWarning: Loky-backed parallel loops cannot be called in a multiprocessing, setting n_jobs=1\n",
      "  n_jobs = self._backend.configure(n_jobs=self.n_jobs, parallel=self,\n",
      "/u/fklotzsche/conda-envs/mne/lib/python3.9/site-packages/joblib/parallel.py:735: UserWarning: Loky-backed parallel loops cannot be called in a multiprocessing, setting n_jobs=1\n",
      "  n_jobs = self._backend.configure(n_jobs=self.n_jobs, parallel=self,\n",
      "[Parallel(n_jobs=15)]: Using backend SequentialBackend with 1 concurrent workers.\n",
      "[Parallel(n_jobs=15)]: Done   1 out of   1 | elapsed:    0.0s remaining:    0.0s\n",
      "[Parallel(n_jobs=15)]: Done   2 out of   2 | elapsed:    0.0s remaining:    0.0s\n",
      "[Parallel(n_jobs=15)]: Done   3 out of   3 | elapsed:    0.0s remaining:    0.0s\n",
      "[Parallel(n_jobs=15)]: Done   4 out of   4 | elapsed:    0.0s remaining:    0.0s\n",
      "[Parallel(n_jobs=15)]: Done  15 out of  15 | elapsed:    0.1s finished\n",
      "[Parallel(n_jobs=5)]: Done   1 out of   1 | elapsed:    0.8s remaining:    0.0s\n"
     ]
    },
    {
     "data": {
      "application/vnd.jupyter.widget-view+json": {
       "model_id": "c8b5b3ab939342119e2672f78f9018c9",
       "version_major": 2,
       "version_minor": 0
      },
      "text/plain": [
       "  0%|          | Fitting SlidingEstimator : 0/146 [00:00<?,       ?it/s]"
      ]
     },
     "metadata": {},
     "output_type": "display_data"
    },
    {
     "name": "stderr",
     "output_type": "stream",
     "text": [
      "/u/fklotzsche/conda-envs/mne/lib/python3.9/site-packages/joblib/parallel.py:735: UserWarning: Loky-backed parallel loops cannot be called in a multiprocessing, setting n_jobs=1\n",
      "  n_jobs = self._backend.configure(n_jobs=self.n_jobs, parallel=self,\n",
      "[Parallel(n_jobs=15)]: Using backend SequentialBackend with 1 concurrent workers.\n",
      "/u/fklotzsche/conda-envs/mne/lib/python3.9/site-packages/joblib/parallel.py:735: UserWarning: Loky-backed parallel loops cannot be called in a multiprocessing, setting n_jobs=1\n",
      "  n_jobs = self._backend.configure(n_jobs=self.n_jobs, parallel=self,\n",
      "[Parallel(n_jobs=15)]: Done   1 out of   1 | elapsed:    0.0s remaining:    0.0s\n",
      "[Parallel(n_jobs=15)]: Done   2 out of   2 | elapsed:    0.0s remaining:    0.0s\n",
      "/u/fklotzsche/conda-envs/mne/lib/python3.9/site-packages/joblib/parallel.py:735: UserWarning: Loky-backed parallel loops cannot be called in a multiprocessing, setting n_jobs=1\n",
      "  n_jobs = self._backend.configure(n_jobs=self.n_jobs, parallel=self,\n",
      "[Parallel(n_jobs=15)]: Using backend SequentialBackend with 1 concurrent workers.\n",
      "[Parallel(n_jobs=15)]: Done   3 out of   3 | elapsed:    0.0s remaining:    0.0s\n",
      "[Parallel(n_jobs=15)]: Done   1 out of   1 | elapsed:    0.0s remaining:    0.0s\n",
      "[Parallel(n_jobs=15)]: Done   4 out of   4 | elapsed:    0.0s remaining:    0.0s\n",
      "[Parallel(n_jobs=15)]: Done   2 out of   2 | elapsed:    0.0s remaining:    0.0s\n",
      "[Parallel(n_jobs=15)]: Done   3 out of   3 | elapsed:    0.0s remaining:    0.0s\n",
      "[Parallel(n_jobs=15)]: Done   4 out of   4 | elapsed:    0.0s remaining:    0.0s\n",
      "[Parallel(n_jobs=15)]: Done  15 out of  15 | elapsed:    0.1s finished\n",
      "[Parallel(n_jobs=5)]: Done   4 out of   4 | elapsed:    3.5s remaining:    0.0s\n",
      "[Parallel(n_jobs=15)]: Done  15 out of  15 | elapsed:    0.1s finished\n",
      "[Parallel(n_jobs=5)]: Done   1 out of   1 | elapsed:    0.8s remaining:    0.0s\n"
     ]
    },
    {
     "data": {
      "application/vnd.jupyter.widget-view+json": {
       "model_id": "68379a14b3824bc39ea8e773fb634929",
       "version_major": 2,
       "version_minor": 0
      },
      "text/plain": [
       "  0%|          | Fitting SlidingEstimator : 0/146 [00:00<?,       ?it/s]"
      ]
     },
     "metadata": {},
     "output_type": "display_data"
    },
    {
     "name": "stderr",
     "output_type": "stream",
     "text": [
      "/u/fklotzsche/conda-envs/mne/lib/python3.9/site-packages/joblib/parallel.py:735: UserWarning: Loky-backed parallel loops cannot be called in a multiprocessing, setting n_jobs=1\n",
      "  n_jobs = self._backend.configure(n_jobs=self.n_jobs, parallel=self,\n"
     ]
    },
    {
     "data": {
      "application/vnd.jupyter.widget-view+json": {
       "model_id": "6202c1876beb495db244323bffa79eaf",
       "version_major": 2,
       "version_minor": 0
      },
      "text/plain": [
       "  0%|          | Fitting SlidingEstimator : 0/146 [00:00<?,       ?it/s]"
      ]
     },
     "metadata": {},
     "output_type": "display_data"
    },
    {
     "name": "stderr",
     "output_type": "stream",
     "text": [
      "/u/fklotzsche/conda-envs/mne/lib/python3.9/site-packages/joblib/parallel.py:735: UserWarning: Loky-backed parallel loops cannot be called in a multiprocessing, setting n_jobs=1\n",
      "  n_jobs = self._backend.configure(n_jobs=self.n_jobs, parallel=self,\n",
      "/u/fklotzsche/conda-envs/mne/lib/python3.9/site-packages/joblib/parallel.py:735: UserWarning: Loky-backed parallel loops cannot be called in a multiprocessing, setting n_jobs=1\n",
      "  n_jobs = self._backend.configure(n_jobs=self.n_jobs, parallel=self,\n",
      "[Parallel(n_jobs=15)]: Using backend SequentialBackend with 1 concurrent workers.\n",
      "[Parallel(n_jobs=15)]: Done   1 out of   1 | elapsed:    0.0s remaining:    0.0s\n",
      "[Parallel(n_jobs=15)]: Done   2 out of   2 | elapsed:    0.0s remaining:    0.0s\n",
      "[Parallel(n_jobs=15)]: Done   3 out of   3 | elapsed:    0.0s remaining:    0.0s\n",
      "[Parallel(n_jobs=15)]: Done   4 out of   4 | elapsed:    0.0s remaining:    0.0s\n",
      "[Parallel(n_jobs=15)]: Done  15 out of  15 | elapsed:    0.1s finished\n",
      "[Parallel(n_jobs=5)]: Done   3 out of   3 | elapsed:    2.6s remaining:    0.0s\n"
     ]
    },
    {
     "data": {
      "application/vnd.jupyter.widget-view+json": {
       "model_id": "b38c3faf095f45f8b3da0d4a5a7a963c",
       "version_major": 2,
       "version_minor": 0
      },
      "text/plain": [
       "  0%|          | Fitting SlidingEstimator : 0/146 [00:00<?,       ?it/s]"
      ]
     },
     "metadata": {},
     "output_type": "display_data"
    },
    {
     "name": "stderr",
     "output_type": "stream",
     "text": [
      "/u/fklotzsche/conda-envs/mne/lib/python3.9/site-packages/joblib/parallel.py:735: UserWarning: Loky-backed parallel loops cannot be called in a multiprocessing, setting n_jobs=1\n",
      "  n_jobs = self._backend.configure(n_jobs=self.n_jobs, parallel=self,\n",
      "/u/fklotzsche/conda-envs/mne/lib/python3.9/site-packages/joblib/parallel.py:735: UserWarning: Loky-backed parallel loops cannot be called in a multiprocessing, setting n_jobs=1\n",
      "  n_jobs = self._backend.configure(n_jobs=self.n_jobs, parallel=self,\n",
      "[Parallel(n_jobs=15)]: Using backend SequentialBackend with 1 concurrent workers.\n",
      "[Parallel(n_jobs=15)]: Done   1 out of   1 | elapsed:    0.0s remaining:    0.0s\n",
      "[Parallel(n_jobs=15)]: Done   2 out of   2 | elapsed:    0.0s remaining:    0.0s\n",
      "[Parallel(n_jobs=15)]: Done   3 out of   3 | elapsed:    0.0s remaining:    0.0s\n",
      "[Parallel(n_jobs=15)]: Done   4 out of   4 | elapsed:    0.0s remaining:    0.0s\n",
      "[Parallel(n_jobs=15)]: Done  15 out of  15 | elapsed:    0.1s finished\n",
      "[Parallel(n_jobs=5)]: Done   2 out of   2 | elapsed:    1.6s remaining:    0.0s\n"
     ]
    },
    {
     "data": {
      "application/vnd.jupyter.widget-view+json": {
       "model_id": "d813395948bd44f9bee5cc96b1763ca7",
       "version_major": 2,
       "version_minor": 0
      },
      "text/plain": [
       "  0%|          | Fitting SlidingEstimator : 0/146 [00:00<?,       ?it/s]"
      ]
     },
     "metadata": {},
     "output_type": "display_data"
    },
    {
     "name": "stderr",
     "output_type": "stream",
     "text": [
      "/u/fklotzsche/conda-envs/mne/lib/python3.9/site-packages/joblib/parallel.py:735: UserWarning: Loky-backed parallel loops cannot be called in a multiprocessing, setting n_jobs=1\n",
      "  n_jobs = self._backend.configure(n_jobs=self.n_jobs, parallel=self,\n",
      "/u/fklotzsche/conda-envs/mne/lib/python3.9/site-packages/joblib/parallel.py:735: UserWarning: Loky-backed parallel loops cannot be called in a multiprocessing, setting n_jobs=1\n",
      "  n_jobs = self._backend.configure(n_jobs=self.n_jobs, parallel=self,\n",
      "[Parallel(n_jobs=15)]: Using backend SequentialBackend with 1 concurrent workers.\n",
      "/u/fklotzsche/conda-envs/mne/lib/python3.9/site-packages/joblib/parallel.py:735: UserWarning: Loky-backed parallel loops cannot be called in a multiprocessing, setting n_jobs=1\n",
      "  n_jobs = self._backend.configure(n_jobs=self.n_jobs, parallel=self,\n",
      "[Parallel(n_jobs=15)]: Using backend SequentialBackend with 1 concurrent workers.\n",
      "[Parallel(n_jobs=15)]: Done   1 out of   1 | elapsed:    0.0s remaining:    0.0s\n",
      "[Parallel(n_jobs=15)]: Done   2 out of   2 | elapsed:    0.0s remaining:    0.0s\n",
      "[Parallel(n_jobs=15)]: Done   1 out of   1 | elapsed:    0.0s remaining:    0.0s\n",
      "[Parallel(n_jobs=15)]: Done   3 out of   3 | elapsed:    0.0s remaining:    0.0s\n",
      "[Parallel(n_jobs=15)]: Done   2 out of   2 | elapsed:    0.0s remaining:    0.0s\n",
      "[Parallel(n_jobs=15)]: Done   4 out of   4 | elapsed:    0.0s remaining:    0.0s\n",
      "[Parallel(n_jobs=15)]: Done   3 out of   3 | elapsed:    0.0s remaining:    0.0s\n",
      "[Parallel(n_jobs=15)]: Done   4 out of   4 | elapsed:    0.0s remaining:    0.0s\n"
     ]
    },
    {
     "name": "stdout",
     "output_type": "stream",
     "text": [
      "y shape: (21,)\n",
      "[1. 1. 0. 1. 0. 0. 0. 1. 0. 1. 0. 0. 1. 1. 0. 1. 0. 1. 1. 0. 1.]\n"
     ]
    },
    {
     "name": "stderr",
     "output_type": "stream",
     "text": [
      "/u/fklotzsche/conda-envs/mne/lib/python3.9/site-packages/joblib/parallel.py:735: UserWarning: Loky-backed parallel loops cannot be called in a multiprocessing, setting n_jobs=1\n",
      "  n_jobs = self._backend.configure(n_jobs=self.n_jobs, parallel=self,\n",
      "[Parallel(n_jobs=5)]: Using backend SequentialBackend with 1 concurrent workers.\n",
      "[Parallel(n_jobs=15)]: Done  15 out of  15 | elapsed:    0.1s finished\n",
      "[Parallel(n_jobs=5)]: Done   2 out of   2 | elapsed:    1.6s remaining:    0.0s\n",
      "[Parallel(n_jobs=15)]: Done  15 out of  15 | elapsed:    0.1s finished\n",
      "[Parallel(n_jobs=5)]: Done   5 out of   5 | elapsed:    4.3s finished\n"
     ]
    },
    {
     "data": {
      "application/vnd.jupyter.widget-view+json": {
       "model_id": "d58c3ae6586e447daf6837970396fb8a",
       "version_major": 2,
       "version_minor": 0
      },
      "text/plain": [
       "  0%|          | Fitting SlidingEstimator : 0/146 [00:00<?,       ?it/s]"
      ]
     },
     "metadata": {},
     "output_type": "display_data"
    },
    {
     "name": "stderr",
     "output_type": "stream",
     "text": [
      "/u/fklotzsche/conda-envs/mne/lib/python3.9/site-packages/joblib/parallel.py:735: UserWarning: Loky-backed parallel loops cannot be called in a multiprocessing, setting n_jobs=1\n",
      "  n_jobs = self._backend.configure(n_jobs=self.n_jobs, parallel=self,\n"
     ]
    },
    {
     "data": {
      "application/vnd.jupyter.widget-view+json": {
       "model_id": "94e912144f484a1997d3c015950b180f",
       "version_major": 2,
       "version_minor": 0
      },
      "text/plain": [
       "  0%|          | Fitting SlidingEstimator : 0/146 [00:00<?,       ?it/s]"
      ]
     },
     "metadata": {},
     "output_type": "display_data"
    },
    {
     "data": {
      "application/vnd.jupyter.widget-view+json": {
       "model_id": "e78c3cffb48a42f1a3fb66ded0528e9f",
       "version_major": 2,
       "version_minor": 0
      },
      "text/plain": [
       "  0%|          | Fitting SlidingEstimator : 0/146 [00:00<?,       ?it/s]"
      ]
     },
     "metadata": {},
     "output_type": "display_data"
    },
    {
     "name": "stderr",
     "output_type": "stream",
     "text": [
      "/u/fklotzsche/conda-envs/mne/lib/python3.9/site-packages/joblib/parallel.py:735: UserWarning: Loky-backed parallel loops cannot be called in a multiprocessing, setting n_jobs=1\n",
      "  n_jobs = self._backend.configure(n_jobs=self.n_jobs, parallel=self,\n",
      "/u/fklotzsche/conda-envs/mne/lib/python3.9/site-packages/joblib/parallel.py:735: UserWarning: Loky-backed parallel loops cannot be called in a multiprocessing, setting n_jobs=1\n",
      "  n_jobs = self._backend.configure(n_jobs=self.n_jobs, parallel=self,\n",
      "/u/fklotzsche/conda-envs/mne/lib/python3.9/site-packages/joblib/parallel.py:735: UserWarning: Loky-backed parallel loops cannot be called in a multiprocessing, setting n_jobs=1\n",
      "  n_jobs = self._backend.configure(n_jobs=self.n_jobs, parallel=self,\n",
      "[Parallel(n_jobs=15)]: Using backend SequentialBackend with 1 concurrent workers.\n",
      "/u/fklotzsche/conda-envs/mne/lib/python3.9/site-packages/joblib/parallel.py:735: UserWarning: Loky-backed parallel loops cannot be called in a multiprocessing, setting n_jobs=1\n",
      "  n_jobs = self._backend.configure(n_jobs=self.n_jobs, parallel=self,\n",
      "[Parallel(n_jobs=15)]: Using backend SequentialBackend with 1 concurrent workers.\n",
      "[Parallel(n_jobs=15)]: Done   1 out of   1 | elapsed:    0.0s remaining:    0.0s\n",
      "[Parallel(n_jobs=15)]: Done   1 out of   1 | elapsed:    0.0s remaining:    0.0s\n",
      "[Parallel(n_jobs=15)]: Done   2 out of   2 | elapsed:    0.0s remaining:    0.0s\n",
      "[Parallel(n_jobs=15)]: Done   3 out of   3 | elapsed:    0.0s remaining:    0.0s\n",
      "[Parallel(n_jobs=15)]: Done   2 out of   2 | elapsed:    0.0s remaining:    0.0s\n",
      "[Parallel(n_jobs=15)]: Done   4 out of   4 | elapsed:    0.0s remaining:    0.0s\n",
      "[Parallel(n_jobs=15)]: Done   3 out of   3 | elapsed:    0.0s remaining:    0.0s\n",
      "[Parallel(n_jobs=15)]: Done   4 out of   4 | elapsed:    0.0s remaining:    0.0s\n",
      "[Parallel(n_jobs=15)]: Done  15 out of  15 | elapsed:    0.1s finished\n",
      "[Parallel(n_jobs=5)]: Done   3 out of   3 | elapsed:    2.3s remaining:    0.0s\n",
      "[Parallel(n_jobs=15)]: Done  15 out of  15 | elapsed:    0.1s finished\n",
      "[Parallel(n_jobs=5)]: Done   4 out of   4 | elapsed:    3.6s remaining:    0.0s\n"
     ]
    },
    {
     "data": {
      "application/vnd.jupyter.widget-view+json": {
       "model_id": "dab5b7e850094ef5ad7f6382b41a5006",
       "version_major": 2,
       "version_minor": 0
      },
      "text/plain": [
       "  0%|          | Fitting SlidingEstimator : 0/146 [00:00<?,       ?it/s]"
      ]
     },
     "metadata": {},
     "output_type": "display_data"
    },
    {
     "name": "stderr",
     "output_type": "stream",
     "text": [
      "/u/fklotzsche/conda-envs/mne/lib/python3.9/site-packages/joblib/parallel.py:735: UserWarning: Loky-backed parallel loops cannot be called in a multiprocessing, setting n_jobs=1\n",
      "  n_jobs = self._backend.configure(n_jobs=self.n_jobs, parallel=self,\n"
     ]
    },
    {
     "data": {
      "application/vnd.jupyter.widget-view+json": {
       "model_id": "22f4ee28ded344899ae2a6785f9d987f",
       "version_major": 2,
       "version_minor": 0
      },
      "text/plain": [
       "  0%|          | Fitting SlidingEstimator : 0/146 [00:00<?,       ?it/s]"
      ]
     },
     "metadata": {},
     "output_type": "display_data"
    },
    {
     "name": "stderr",
     "output_type": "stream",
     "text": [
      "/u/fklotzsche/conda-envs/mne/lib/python3.9/site-packages/joblib/parallel.py:735: UserWarning: Loky-backed parallel loops cannot be called in a multiprocessing, setting n_jobs=1\n",
      "  n_jobs = self._backend.configure(n_jobs=self.n_jobs, parallel=self,\n",
      "/u/fklotzsche/conda-envs/mne/lib/python3.9/site-packages/joblib/parallel.py:735: UserWarning: Loky-backed parallel loops cannot be called in a multiprocessing, setting n_jobs=1\n",
      "  n_jobs = self._backend.configure(n_jobs=self.n_jobs, parallel=self,\n",
      "[Parallel(n_jobs=15)]: Using backend SequentialBackend with 1 concurrent workers.\n",
      "[Parallel(n_jobs=15)]: Done   1 out of   1 | elapsed:    0.0s remaining:    0.0s\n",
      "[Parallel(n_jobs=15)]: Done   2 out of   2 | elapsed:    0.0s remaining:    0.0s\n",
      "[Parallel(n_jobs=15)]: Done   3 out of   3 | elapsed:    0.0s remaining:    0.0s\n",
      "[Parallel(n_jobs=15)]: Done   4 out of   4 | elapsed:    0.0s remaining:    0.0s\n",
      "[Parallel(n_jobs=15)]: Done  15 out of  15 | elapsed:    0.1s finished\n",
      "[Parallel(n_jobs=5)]: Done   3 out of   3 | elapsed:    2.4s remaining:    0.0s\n"
     ]
    },
    {
     "data": {
      "application/vnd.jupyter.widget-view+json": {
       "model_id": "6eb57bc304444b58887fe2bda8343f8e",
       "version_major": 2,
       "version_minor": 0
      },
      "text/plain": [
       "  0%|          | Fitting SlidingEstimator : 0/146 [00:00<?,       ?it/s]"
      ]
     },
     "metadata": {},
     "output_type": "display_data"
    },
    {
     "name": "stdout",
     "output_type": "stream",
     "text": [
      "y shape: (23,)\n"
     ]
    },
    {
     "name": "stderr",
     "output_type": "stream",
     "text": [
      "/u/fklotzsche/conda-envs/mne/lib/python3.9/site-packages/joblib/parallel.py:735: UserWarning: Loky-backed parallel loops cannot be called in a multiprocessing, setting n_jobs=1\n",
      "  n_jobs = self._backend.configure(n_jobs=self.n_jobs, parallel=self,\n"
     ]
    },
    {
     "name": "stdout",
     "output_type": "stream",
     "text": [
      "[0. 0. 1. 1. 0. 1. 1. 1. 1. 0. 1. 0. 0. 1. 0. 0. 1. 0. 1. 0. 0. 1. 0.]\n"
     ]
    },
    {
     "name": "stderr",
     "output_type": "stream",
     "text": [
      "/u/fklotzsche/conda-envs/mne/lib/python3.9/site-packages/joblib/parallel.py:735: UserWarning: Loky-backed parallel loops cannot be called in a multiprocessing, setting n_jobs=1\n",
      "  n_jobs = self._backend.configure(n_jobs=self.n_jobs, parallel=self,\n",
      "[Parallel(n_jobs=5)]: Using backend SequentialBackend with 1 concurrent workers.\n",
      "/u/fklotzsche/conda-envs/mne/lib/python3.9/site-packages/joblib/parallel.py:735: UserWarning: Loky-backed parallel loops cannot be called in a multiprocessing, setting n_jobs=1\n",
      "  n_jobs = self._backend.configure(n_jobs=self.n_jobs, parallel=self,\n",
      "[Parallel(n_jobs=15)]: Using backend SequentialBackend with 1 concurrent workers.\n"
     ]
    },
    {
     "data": {
      "application/vnd.jupyter.widget-view+json": {
       "model_id": "9968ffaae40a4889b630bedef9f72291",
       "version_major": 2,
       "version_minor": 0
      },
      "text/plain": [
       "  0%|          | Fitting SlidingEstimator : 0/146 [00:00<?,       ?it/s]"
      ]
     },
     "metadata": {},
     "output_type": "display_data"
    },
    {
     "name": "stderr",
     "output_type": "stream",
     "text": [
      "[Parallel(n_jobs=15)]: Done   1 out of   1 | elapsed:    0.0s remaining:    0.0s\n",
      "/u/fklotzsche/conda-envs/mne/lib/python3.9/site-packages/joblib/parallel.py:735: UserWarning: Loky-backed parallel loops cannot be called in a multiprocessing, setting n_jobs=1\n",
      "  n_jobs = self._backend.configure(n_jobs=self.n_jobs, parallel=self,\n",
      "[Parallel(n_jobs=15)]: Done   2 out of   2 | elapsed:    0.0s remaining:    0.0s\n",
      "[Parallel(n_jobs=15)]: Done   3 out of   3 | elapsed:    0.0s remaining:    0.0s\n",
      "[Parallel(n_jobs=15)]: Done   4 out of   4 | elapsed:    0.0s remaining:    0.0s\n",
      "[Parallel(n_jobs=15)]: Done  15 out of  15 | elapsed:    0.1s finished\n",
      "[Parallel(n_jobs=5)]: Done   1 out of   1 | elapsed:    1.0s remaining:    0.0s\n"
     ]
    },
    {
     "data": {
      "application/vnd.jupyter.widget-view+json": {
       "model_id": "c5757db202b247ab96f9baa4c06417ed",
       "version_major": 2,
       "version_minor": 0
      },
      "text/plain": [
       "  0%|          | Fitting SlidingEstimator : 0/146 [00:00<?,       ?it/s]"
      ]
     },
     "metadata": {},
     "output_type": "display_data"
    },
    {
     "name": "stderr",
     "output_type": "stream",
     "text": [
      "/u/fklotzsche/conda-envs/mne/lib/python3.9/site-packages/joblib/parallel.py:735: UserWarning: Loky-backed parallel loops cannot be called in a multiprocessing, setting n_jobs=1\n",
      "  n_jobs = self._backend.configure(n_jobs=self.n_jobs, parallel=self,\n",
      "/u/fklotzsche/conda-envs/mne/lib/python3.9/site-packages/joblib/parallel.py:735: UserWarning: Loky-backed parallel loops cannot be called in a multiprocessing, setting n_jobs=1\n",
      "  n_jobs = self._backend.configure(n_jobs=self.n_jobs, parallel=self,\n",
      "[Parallel(n_jobs=15)]: Using backend SequentialBackend with 1 concurrent workers.\n",
      "/u/fklotzsche/conda-envs/mne/lib/python3.9/site-packages/joblib/parallel.py:735: UserWarning: Loky-backed parallel loops cannot be called in a multiprocessing, setting n_jobs=1\n",
      "  n_jobs = self._backend.configure(n_jobs=self.n_jobs, parallel=self,\n",
      "[Parallel(n_jobs=15)]: Done   1 out of   1 | elapsed:    0.0s remaining:    0.0s\n",
      "[Parallel(n_jobs=15)]: Using backend SequentialBackend with 1 concurrent workers.\n",
      "[Parallel(n_jobs=15)]: Done   1 out of   1 | elapsed:    0.0s remaining:    0.0s\n",
      "[Parallel(n_jobs=15)]: Done   2 out of   2 | elapsed:    0.0s remaining:    0.0s\n",
      "[Parallel(n_jobs=15)]: Done   2 out of   2 | elapsed:    0.0s remaining:    0.0s\n",
      "[Parallel(n_jobs=15)]: Done   3 out of   3 | elapsed:    0.0s remaining:    0.0s\n",
      "[Parallel(n_jobs=15)]: Done   3 out of   3 | elapsed:    0.0s remaining:    0.0s\n",
      "[Parallel(n_jobs=15)]: Done   4 out of   4 | elapsed:    0.0s remaining:    0.0s\n",
      "[Parallel(n_jobs=15)]: Done   4 out of   4 | elapsed:    0.0s remaining:    0.0s\n",
      "[Parallel(n_jobs=15)]: Done  15 out of  15 | elapsed:    0.1s finished\n",
      "[Parallel(n_jobs=5)]: Done   4 out of   4 | elapsed:    3.2s remaining:    0.0s\n",
      "[Parallel(n_jobs=15)]: Done  15 out of  15 | elapsed:    0.1s finished\n",
      "[Parallel(n_jobs=5)]: Done   5 out of   5 | elapsed:    4.4s finished\n"
     ]
    },
    {
     "data": {
      "application/vnd.jupyter.widget-view+json": {
       "model_id": "2d96899545764ed7a541ad2373f6255e",
       "version_major": 2,
       "version_minor": 0
      },
      "text/plain": [
       "  0%|          | Fitting SlidingEstimator : 0/146 [00:00<?,       ?it/s]"
      ]
     },
     "metadata": {},
     "output_type": "display_data"
    },
    {
     "name": "stderr",
     "output_type": "stream",
     "text": [
      "/u/fklotzsche/conda-envs/mne/lib/python3.9/site-packages/joblib/parallel.py:735: UserWarning: Loky-backed parallel loops cannot be called in a multiprocessing, setting n_jobs=1\n",
      "  n_jobs = self._backend.configure(n_jobs=self.n_jobs, parallel=self,\n"
     ]
    },
    {
     "data": {
      "application/vnd.jupyter.widget-view+json": {
       "model_id": "54daf82aa27c4ad297801133d3a855bb",
       "version_major": 2,
       "version_minor": 0
      },
      "text/plain": [
       "  0%|          | Fitting SlidingEstimator : 0/146 [00:00<?,       ?it/s]"
      ]
     },
     "metadata": {},
     "output_type": "display_data"
    },
    {
     "name": "stderr",
     "output_type": "stream",
     "text": [
      "/u/fklotzsche/conda-envs/mne/lib/python3.9/site-packages/joblib/parallel.py:735: UserWarning: Loky-backed parallel loops cannot be called in a multiprocessing, setting n_jobs=1\n",
      "  n_jobs = self._backend.configure(n_jobs=self.n_jobs, parallel=self,\n",
      "/u/fklotzsche/conda-envs/mne/lib/python3.9/site-packages/joblib/parallel.py:735: UserWarning: Loky-backed parallel loops cannot be called in a multiprocessing, setting n_jobs=1\n",
      "  n_jobs = self._backend.configure(n_jobs=self.n_jobs, parallel=self,\n",
      "[Parallel(n_jobs=15)]: Using backend SequentialBackend with 1 concurrent workers.\n",
      "[Parallel(n_jobs=15)]: Done   1 out of   1 | elapsed:    0.0s remaining:    0.0s\n",
      "[Parallel(n_jobs=15)]: Done   2 out of   2 | elapsed:    0.0s remaining:    0.0s\n",
      "[Parallel(n_jobs=15)]: Done   3 out of   3 | elapsed:    0.0s remaining:    0.0s\n",
      "[Parallel(n_jobs=15)]: Done   4 out of   4 | elapsed:    0.0s remaining:    0.0s\n",
      "/u/fklotzsche/conda-envs/mne/lib/python3.9/site-packages/joblib/parallel.py:735: UserWarning: Loky-backed parallel loops cannot be called in a multiprocessing, setting n_jobs=1\n",
      "  n_jobs = self._backend.configure(n_jobs=self.n_jobs, parallel=self,\n",
      "[Parallel(n_jobs=15)]: Using backend SequentialBackend with 1 concurrent workers.\n",
      "[Parallel(n_jobs=15)]: Done   1 out of   1 | elapsed:    0.0s remaining:    0.0s\n",
      "[Parallel(n_jobs=15)]: Done  15 out of  15 | elapsed:    0.1s finished\n",
      "[Parallel(n_jobs=15)]: Done   2 out of   2 | elapsed:    0.0s remaining:    0.0s\n",
      "[Parallel(n_jobs=5)]: Done   1 out of   1 | elapsed:    0.8s remaining:    0.0s\n",
      "[Parallel(n_jobs=15)]: Done   3 out of   3 | elapsed:    0.0s remaining:    0.0s\n",
      "[Parallel(n_jobs=15)]: Done   4 out of   4 | elapsed:    0.1s remaining:    0.0s\n"
     ]
    },
    {
     "data": {
      "application/vnd.jupyter.widget-view+json": {
       "model_id": "d33a569288aa402a91b1be7e179c881c",
       "version_major": 2,
       "version_minor": 0
      },
      "text/plain": [
       "  0%|          | Fitting SlidingEstimator : 0/146 [00:00<?,       ?it/s]"
      ]
     },
     "metadata": {},
     "output_type": "display_data"
    },
    {
     "name": "stderr",
     "output_type": "stream",
     "text": [
      "/u/fklotzsche/conda-envs/mne/lib/python3.9/site-packages/joblib/parallel.py:735: UserWarning: Loky-backed parallel loops cannot be called in a multiprocessing, setting n_jobs=1\n",
      "  n_jobs = self._backend.configure(n_jobs=self.n_jobs, parallel=self,\n",
      "/u/fklotzsche/conda-envs/mne/lib/python3.9/site-packages/joblib/parallel.py:735: UserWarning: Loky-backed parallel loops cannot be called in a multiprocessing, setting n_jobs=1\n",
      "  n_jobs = self._backend.configure(n_jobs=self.n_jobs, parallel=self,\n",
      "[Parallel(n_jobs=15)]: Using backend SequentialBackend with 1 concurrent workers.\n",
      "[Parallel(n_jobs=15)]: Done   1 out of   1 | elapsed:    0.0s remaining:    0.0s\n",
      "[Parallel(n_jobs=15)]: Done   2 out of   2 | elapsed:    0.0s remaining:    0.0s\n",
      "[Parallel(n_jobs=15)]: Done   3 out of   3 | elapsed:    0.0s remaining:    0.0s\n",
      "[Parallel(n_jobs=15)]: Done   4 out of   4 | elapsed:    0.0s remaining:    0.0s\n",
      "[Parallel(n_jobs=15)]: Done  15 out of  15 | elapsed:    0.1s finished\n",
      "[Parallel(n_jobs=5)]: Done   4 out of   4 | elapsed:    3.4s remaining:    0.0s\n"
     ]
    },
    {
     "data": {
      "application/vnd.jupyter.widget-view+json": {
       "model_id": "549203cf17434de4b9ae857f54147b67",
       "version_major": 2,
       "version_minor": 0
      },
      "text/plain": [
       "  0%|          | Fitting SlidingEstimator : 0/146 [00:00<?,       ?it/s]"
      ]
     },
     "metadata": {},
     "output_type": "display_data"
    },
    {
     "name": "stderr",
     "output_type": "stream",
     "text": [
      "/u/fklotzsche/conda-envs/mne/lib/python3.9/site-packages/joblib/parallel.py:735: UserWarning: Loky-backed parallel loops cannot be called in a multiprocessing, setting n_jobs=1\n",
      "  n_jobs = self._backend.configure(n_jobs=self.n_jobs, parallel=self,\n",
      "[Parallel(n_jobs=15)]: Done  15 out of  15 | elapsed:    0.1s finished\n",
      "[Parallel(n_jobs=5)]: Done   2 out of   2 | elapsed:    1.9s remaining:    0.0s\n"
     ]
    },
    {
     "data": {
      "application/vnd.jupyter.widget-view+json": {
       "model_id": "5cc45c9e2f1a40a090f5d5ee0914e29b",
       "version_major": 2,
       "version_minor": 0
      },
      "text/plain": [
       "  0%|          | Fitting SlidingEstimator : 0/146 [00:00<?,       ?it/s]"
      ]
     },
     "metadata": {},
     "output_type": "display_data"
    },
    {
     "name": "stderr",
     "output_type": "stream",
     "text": [
      "/u/fklotzsche/conda-envs/mne/lib/python3.9/site-packages/joblib/parallel.py:735: UserWarning: Loky-backed parallel loops cannot be called in a multiprocessing, setting n_jobs=1\n",
      "  n_jobs = self._backend.configure(n_jobs=self.n_jobs, parallel=self,\n",
      "/u/fklotzsche/conda-envs/mne/lib/python3.9/site-packages/joblib/parallel.py:735: UserWarning: Loky-backed parallel loops cannot be called in a multiprocessing, setting n_jobs=1\n",
      "  n_jobs = self._backend.configure(n_jobs=self.n_jobs, parallel=self,\n",
      "[Parallel(n_jobs=15)]: Using backend SequentialBackend with 1 concurrent workers.\n",
      "[Parallel(n_jobs=15)]: Done   1 out of   1 | elapsed:    0.0s remaining:    0.0s\n",
      "[Parallel(n_jobs=15)]: Done   2 out of   2 | elapsed:    0.0s remaining:    0.0s\n",
      "[Parallel(n_jobs=15)]: Done   3 out of   3 | elapsed:    0.0s remaining:    0.0s\n",
      "[Parallel(n_jobs=15)]: Done   4 out of   4 | elapsed:    0.0s remaining:    0.0s\n",
      "[Parallel(n_jobs=15)]: Done  15 out of  15 | elapsed:    0.1s finished\n",
      "[Parallel(n_jobs=5)]: Done   5 out of   5 | elapsed:    3.8s finished\n"
     ]
    },
    {
     "data": {
      "application/vnd.jupyter.widget-view+json": {
       "model_id": "d80c86db50714d11acd2719875455bbc",
       "version_major": 2,
       "version_minor": 0
      },
      "text/plain": [
       "  0%|          | Fitting SlidingEstimator : 0/146 [00:00<?,       ?it/s]"
      ]
     },
     "metadata": {},
     "output_type": "display_data"
    },
    {
     "name": "stderr",
     "output_type": "stream",
     "text": [
      "/u/fklotzsche/conda-envs/mne/lib/python3.9/site-packages/joblib/parallel.py:735: UserWarning: Loky-backed parallel loops cannot be called in a multiprocessing, setting n_jobs=1\n",
      "  n_jobs = self._backend.configure(n_jobs=self.n_jobs, parallel=self,\n"
     ]
    },
    {
     "name": "stdout",
     "output_type": "stream",
     "text": [
      "y shape: (20,)\n",
      "[1. 0. 0. 1. 0. 1. 0. 1. 0. 1. 1. 0. 1. 0. 1. 0. 0. 1. 1. 0.]\n"
     ]
    },
    {
     "name": "stderr",
     "output_type": "stream",
     "text": [
      "/u/fklotzsche/conda-envs/mne/lib/python3.9/site-packages/joblib/parallel.py:735: UserWarning: Loky-backed parallel loops cannot be called in a multiprocessing, setting n_jobs=1\n",
      "  n_jobs = self._backend.configure(n_jobs=self.n_jobs, parallel=self,\n",
      "[Parallel(n_jobs=5)]: Using backend SequentialBackend with 1 concurrent workers.\n"
     ]
    },
    {
     "data": {
      "application/vnd.jupyter.widget-view+json": {
       "model_id": "2e1e860843004df48665c1717a9cfce9",
       "version_major": 2,
       "version_minor": 0
      },
      "text/plain": [
       "  0%|          | Fitting SlidingEstimator : 0/146 [00:00<?,       ?it/s]"
      ]
     },
     "metadata": {},
     "output_type": "display_data"
    },
    {
     "name": "stderr",
     "output_type": "stream",
     "text": [
      "/u/fklotzsche/conda-envs/mne/lib/python3.9/site-packages/joblib/parallel.py:735: UserWarning: Loky-backed parallel loops cannot be called in a multiprocessing, setting n_jobs=1\n",
      "  n_jobs = self._backend.configure(n_jobs=self.n_jobs, parallel=self,\n",
      "/u/fklotzsche/conda-envs/mne/lib/python3.9/site-packages/joblib/parallel.py:735: UserWarning: Loky-backed parallel loops cannot be called in a multiprocessing, setting n_jobs=1\n",
      "  n_jobs = self._backend.configure(n_jobs=self.n_jobs, parallel=self,\n",
      "[Parallel(n_jobs=15)]: Using backend SequentialBackend with 1 concurrent workers.\n",
      "[Parallel(n_jobs=15)]: Done   1 out of   1 | elapsed:    0.0s remaining:    0.0s\n",
      "[Parallel(n_jobs=15)]: Done   2 out of   2 | elapsed:    0.0s remaining:    0.0s\n",
      "[Parallel(n_jobs=15)]: Done   3 out of   3 | elapsed:    0.0s remaining:    0.0s\n",
      "[Parallel(n_jobs=15)]: Done   4 out of   4 | elapsed:    0.0s remaining:    0.0s\n",
      "[Parallel(n_jobs=15)]: Done  15 out of  15 | elapsed:    0.1s finished\n",
      "/u/fklotzsche/conda-envs/mne/lib/python3.9/site-packages/joblib/parallel.py:735: UserWarning: Loky-backed parallel loops cannot be called in a multiprocessing, setting n_jobs=1\n",
      "  n_jobs = self._backend.configure(n_jobs=self.n_jobs, parallel=self,\n",
      "[Parallel(n_jobs=15)]: Using backend SequentialBackend with 1 concurrent workers.\n",
      "[Parallel(n_jobs=5)]: Done   5 out of   5 | elapsed:    4.2s finished\n",
      "/u/fklotzsche/conda-envs/mne/lib/python3.9/site-packages/joblib/parallel.py:735: UserWarning: Loky-backed parallel loops cannot be called in a multiprocessing, setting n_jobs=1\n",
      "  n_jobs = self._backend.configure(n_jobs=self.n_jobs, parallel=self,\n",
      "[Parallel(n_jobs=15)]: Using backend SequentialBackend with 1 concurrent workers.\n",
      "[Parallel(n_jobs=15)]: Done   1 out of   1 | elapsed:    0.0s remaining:    0.0s\n",
      "[Parallel(n_jobs=15)]: Done   1 out of   1 | elapsed:    0.0s remaining:    0.0s\n"
     ]
    },
    {
     "data": {
      "application/vnd.jupyter.widget-view+json": {
       "model_id": "2e275e74525641d1b5fa061ab8adec51",
       "version_major": 2,
       "version_minor": 0
      },
      "text/plain": [
       "  0%|          | Fitting SlidingEstimator : 0/146 [00:00<?,       ?it/s]"
      ]
     },
     "metadata": {},
     "output_type": "display_data"
    },
    {
     "name": "stderr",
     "output_type": "stream",
     "text": [
      "[Parallel(n_jobs=15)]: Done   2 out of   2 | elapsed:    0.0s remaining:    0.0s\n",
      "/u/fklotzsche/conda-envs/mne/lib/python3.9/site-packages/joblib/parallel.py:735: UserWarning: Loky-backed parallel loops cannot be called in a multiprocessing, setting n_jobs=1\n",
      "  n_jobs = self._backend.configure(n_jobs=self.n_jobs, parallel=self,\n",
      "[Parallel(n_jobs=15)]: Done   2 out of   2 | elapsed:    0.0s remaining:    0.0s\n",
      "[Parallel(n_jobs=15)]: Done   3 out of   3 | elapsed:    0.0s remaining:    0.0s\n",
      "[Parallel(n_jobs=15)]: Done   3 out of   3 | elapsed:    0.0s remaining:    0.0s\n",
      "[Parallel(n_jobs=15)]: Done   4 out of   4 | elapsed:    0.0s remaining:    0.0s\n",
      "[Parallel(n_jobs=15)]: Done   4 out of   4 | elapsed:    0.0s remaining:    0.0s\n",
      "[Parallel(n_jobs=15)]: Done  15 out of  15 | elapsed:    0.1s finished\n",
      "[Parallel(n_jobs=5)]: Done   3 out of   3 | elapsed:    2.7s remaining:    0.0s\n",
      "[Parallel(n_jobs=15)]: Done  15 out of  15 | elapsed:    0.1s finished\n",
      "[Parallel(n_jobs=5)]: Done   2 out of   2 | elapsed:    1.9s remaining:    0.0s\n"
     ]
    },
    {
     "data": {
      "application/vnd.jupyter.widget-view+json": {
       "model_id": "399d31305efc4f938d523473dd839761",
       "version_major": 2,
       "version_minor": 0
      },
      "text/plain": [
       "  0%|          | Fitting SlidingEstimator : 0/146 [00:00<?,       ?it/s]"
      ]
     },
     "metadata": {},
     "output_type": "display_data"
    },
    {
     "data": {
      "application/vnd.jupyter.widget-view+json": {
       "model_id": "4aae324154934a79962ae20afbd2c0fd",
       "version_major": 2,
       "version_minor": 0
      },
      "text/plain": [
       "  0%|          | Fitting SlidingEstimator : 0/146 [00:00<?,       ?it/s]"
      ]
     },
     "metadata": {},
     "output_type": "display_data"
    },
    {
     "name": "stderr",
     "output_type": "stream",
     "text": [
      "/u/fklotzsche/conda-envs/mne/lib/python3.9/site-packages/joblib/parallel.py:735: UserWarning: Loky-backed parallel loops cannot be called in a multiprocessing, setting n_jobs=1\n",
      "  n_jobs = self._backend.configure(n_jobs=self.n_jobs, parallel=self,\n",
      "/u/fklotzsche/conda-envs/mne/lib/python3.9/site-packages/joblib/parallel.py:735: UserWarning: Loky-backed parallel loops cannot be called in a multiprocessing, setting n_jobs=1\n",
      "  n_jobs = self._backend.configure(n_jobs=self.n_jobs, parallel=self,\n",
      "/u/fklotzsche/conda-envs/mne/lib/python3.9/site-packages/joblib/parallel.py:735: UserWarning: Loky-backed parallel loops cannot be called in a multiprocessing, setting n_jobs=1\n",
      "  n_jobs = self._backend.configure(n_jobs=self.n_jobs, parallel=self,\n",
      "[Parallel(n_jobs=15)]: Using backend SequentialBackend with 1 concurrent workers.\n",
      "[Parallel(n_jobs=15)]: Done   1 out of   1 | elapsed:    0.0s remaining:    0.0s\n",
      "[Parallel(n_jobs=15)]: Done   2 out of   2 | elapsed:    0.0s remaining:    0.0s\n",
      "[Parallel(n_jobs=15)]: Done   3 out of   3 | elapsed:    0.0s remaining:    0.0s\n",
      "[Parallel(n_jobs=15)]: Done   4 out of   4 | elapsed:    0.0s remaining:    0.0s\n",
      "[Parallel(n_jobs=15)]: Done  15 out of  15 | elapsed:    0.1s finished\n",
      "[Parallel(n_jobs=5)]: Done   1 out of   1 | elapsed:    0.7s remaining:    0.0s\n"
     ]
    },
    {
     "data": {
      "application/vnd.jupyter.widget-view+json": {
       "model_id": "90ee498ded044bf69ca9ae574b7875a3",
       "version_major": 2,
       "version_minor": 0
      },
      "text/plain": [
       "  0%|          | Fitting SlidingEstimator : 0/146 [00:00<?,       ?it/s]"
      ]
     },
     "metadata": {},
     "output_type": "display_data"
    },
    {
     "name": "stderr",
     "output_type": "stream",
     "text": [
      "/u/fklotzsche/conda-envs/mne/lib/python3.9/site-packages/joblib/parallel.py:735: UserWarning: Loky-backed parallel loops cannot be called in a multiprocessing, setting n_jobs=1\n",
      "  n_jobs = self._backend.configure(n_jobs=self.n_jobs, parallel=self,\n",
      "/u/fklotzsche/conda-envs/mne/lib/python3.9/site-packages/joblib/parallel.py:735: UserWarning: Loky-backed parallel loops cannot be called in a multiprocessing, setting n_jobs=1\n",
      "  n_jobs = self._backend.configure(n_jobs=self.n_jobs, parallel=self,\n",
      "[Parallel(n_jobs=15)]: Using backend SequentialBackend with 1 concurrent workers.\n",
      "[Parallel(n_jobs=15)]: Done   1 out of   1 | elapsed:    0.0s remaining:    0.0s\n",
      "[Parallel(n_jobs=15)]: Done   2 out of   2 | elapsed:    0.0s remaining:    0.0s\n",
      "[Parallel(n_jobs=15)]: Done   3 out of   3 | elapsed:    0.0s remaining:    0.0s\n",
      "[Parallel(n_jobs=15)]: Done   4 out of   4 | elapsed:    0.0s remaining:    0.0s\n",
      "/u/fklotzsche/conda-envs/mne/lib/python3.9/site-packages/joblib/parallel.py:735: UserWarning: Loky-backed parallel loops cannot be called in a multiprocessing, setting n_jobs=1\n",
      "  n_jobs = self._backend.configure(n_jobs=self.n_jobs, parallel=self,\n",
      "[Parallel(n_jobs=15)]: Using backend SequentialBackend with 1 concurrent workers.\n",
      "[Parallel(n_jobs=15)]: Done   1 out of   1 | elapsed:    0.0s remaining:    0.0s\n",
      "[Parallel(n_jobs=15)]: Done   2 out of   2 | elapsed:    0.0s remaining:    0.0s\n",
      "[Parallel(n_jobs=15)]: Done   3 out of   3 | elapsed:    0.0s remaining:    0.0s\n",
      "[Parallel(n_jobs=15)]: Done   4 out of   4 | elapsed:    0.0s remaining:    0.0s\n",
      "[Parallel(n_jobs=15)]: Done  15 out of  15 | elapsed:    0.1s finished\n",
      "[Parallel(n_jobs=5)]: Done   3 out of   3 | elapsed:    2.7s remaining:    0.0s\n"
     ]
    },
    {
     "data": {
      "application/vnd.jupyter.widget-view+json": {
       "model_id": "e514ddca02e04efa82120a63ef9da1d1",
       "version_major": 2,
       "version_minor": 0
      },
      "text/plain": [
       "  0%|          | Fitting SlidingEstimator : 0/146 [00:00<?,       ?it/s]"
      ]
     },
     "metadata": {},
     "output_type": "display_data"
    },
    {
     "name": "stderr",
     "output_type": "stream",
     "text": [
      "/u/fklotzsche/conda-envs/mne/lib/python3.9/site-packages/joblib/parallel.py:735: UserWarning: Loky-backed parallel loops cannot be called in a multiprocessing, setting n_jobs=1\n",
      "  n_jobs = self._backend.configure(n_jobs=self.n_jobs, parallel=self,\n",
      "[Parallel(n_jobs=15)]: Done  15 out of  15 | elapsed:    0.1s finished\n",
      "[Parallel(n_jobs=5)]: Done   4 out of   4 | elapsed:    3.6s remaining:    0.0s\n",
      "/u/fklotzsche/conda-envs/mne/lib/python3.9/site-packages/joblib/parallel.py:735: UserWarning: Loky-backed parallel loops cannot be called in a multiprocessing, setting n_jobs=1\n",
      "  n_jobs = self._backend.configure(n_jobs=self.n_jobs, parallel=self,\n",
      "[Parallel(n_jobs=15)]: Using backend SequentialBackend with 1 concurrent workers.\n"
     ]
    },
    {
     "data": {
      "application/vnd.jupyter.widget-view+json": {
       "model_id": "bbca89c1193442f5bebc644ea86de64a",
       "version_major": 2,
       "version_minor": 0
      },
      "text/plain": [
       "  0%|          | Fitting SlidingEstimator : 0/146 [00:00<?,       ?it/s]"
      ]
     },
     "metadata": {},
     "output_type": "display_data"
    },
    {
     "name": "stderr",
     "output_type": "stream",
     "text": [
      "/u/fklotzsche/conda-envs/mne/lib/python3.9/site-packages/joblib/parallel.py:735: UserWarning: Loky-backed parallel loops cannot be called in a multiprocessing, setting n_jobs=1\n",
      "  n_jobs = self._backend.configure(n_jobs=self.n_jobs, parallel=self,\n",
      "[Parallel(n_jobs=15)]: Done   1 out of   1 | elapsed:    0.0s remaining:    0.0s\n",
      "[Parallel(n_jobs=15)]: Done   2 out of   2 | elapsed:    0.0s remaining:    0.0s\n",
      "[Parallel(n_jobs=15)]: Done   3 out of   3 | elapsed:    0.0s remaining:    0.0s\n",
      "[Parallel(n_jobs=15)]: Done   4 out of   4 | elapsed:    0.0s remaining:    0.0s\n"
     ]
    },
    {
     "name": "stdout",
     "output_type": "stream",
     "text": [
      "y shape: (22,)\n",
      "[1. 0. 1. 1. 0. 1. 0. 1. 0. 1. 1. 1. 0. 1. 1. 0. 0. 0. 1. 0. 0. 0.]\n"
     ]
    },
    {
     "name": "stderr",
     "output_type": "stream",
     "text": [
      "/u/fklotzsche/conda-envs/mne/lib/python3.9/site-packages/joblib/parallel.py:735: UserWarning: Loky-backed parallel loops cannot be called in a multiprocessing, setting n_jobs=1\n",
      "  n_jobs = self._backend.configure(n_jobs=self.n_jobs, parallel=self,\n",
      "[Parallel(n_jobs=5)]: Using backend SequentialBackend with 1 concurrent workers.\n"
     ]
    },
    {
     "data": {
      "application/vnd.jupyter.widget-view+json": {
       "model_id": "e437bdf2ec024837bbd43485d8cb9872",
       "version_major": 2,
       "version_minor": 0
      },
      "text/plain": [
       "  0%|          | Fitting SlidingEstimator : 0/146 [00:00<?,       ?it/s]"
      ]
     },
     "metadata": {},
     "output_type": "display_data"
    },
    {
     "name": "stderr",
     "output_type": "stream",
     "text": [
      "/u/fklotzsche/conda-envs/mne/lib/python3.9/site-packages/joblib/parallel.py:735: UserWarning: Loky-backed parallel loops cannot be called in a multiprocessing, setting n_jobs=1\n",
      "  n_jobs = self._backend.configure(n_jobs=self.n_jobs, parallel=self,\n",
      "[Parallel(n_jobs=15)]: Done  15 out of  15 | elapsed:    0.1s finished\n",
      "[Parallel(n_jobs=5)]: Done   2 out of   2 | elapsed:    1.4s remaining:    0.0s\n"
     ]
    },
    {
     "data": {
      "application/vnd.jupyter.widget-view+json": {
       "model_id": "5f0d4795d99a42c9b6e457dcd0b43286",
       "version_major": 2,
       "version_minor": 0
      },
      "text/plain": [
       "  0%|          | Fitting SlidingEstimator : 0/146 [00:00<?,       ?it/s]"
      ]
     },
     "metadata": {},
     "output_type": "display_data"
    },
    {
     "name": "stderr",
     "output_type": "stream",
     "text": [
      "/u/fklotzsche/conda-envs/mne/lib/python3.9/site-packages/joblib/parallel.py:735: UserWarning: Loky-backed parallel loops cannot be called in a multiprocessing, setting n_jobs=1\n",
      "  n_jobs = self._backend.configure(n_jobs=self.n_jobs, parallel=self,\n"
     ]
    },
    {
     "name": "stdout",
     "output_type": "stream",
     "text": [
      "y shape: (20,)\n",
      "[0. 1. 0. 0. 1. 0. 1. 0. 1. 1. 0. 1. 0. 1. 1. 0. 0. 0. 1. 1.]\n"
     ]
    },
    {
     "name": "stderr",
     "output_type": "stream",
     "text": [
      "/u/fklotzsche/conda-envs/mne/lib/python3.9/site-packages/joblib/parallel.py:735: UserWarning: Loky-backed parallel loops cannot be called in a multiprocessing, setting n_jobs=1\n",
      "  n_jobs = self._backend.configure(n_jobs=self.n_jobs, parallel=self,\n",
      "[Parallel(n_jobs=5)]: Using backend SequentialBackend with 1 concurrent workers.\n"
     ]
    },
    {
     "data": {
      "application/vnd.jupyter.widget-view+json": {
       "model_id": "df483d6131da45c98dd2d75ed2b33961",
       "version_major": 2,
       "version_minor": 0
      },
      "text/plain": [
       "  0%|          | Fitting SlidingEstimator : 0/146 [00:00<?,       ?it/s]"
      ]
     },
     "metadata": {},
     "output_type": "display_data"
    },
    {
     "name": "stderr",
     "output_type": "stream",
     "text": [
      "/u/fklotzsche/conda-envs/mne/lib/python3.9/site-packages/joblib/parallel.py:735: UserWarning: Loky-backed parallel loops cannot be called in a multiprocessing, setting n_jobs=1\n",
      "  n_jobs = self._backend.configure(n_jobs=self.n_jobs, parallel=self,\n",
      "/u/fklotzsche/conda-envs/mne/lib/python3.9/site-packages/joblib/parallel.py:735: UserWarning: Loky-backed parallel loops cannot be called in a multiprocessing, setting n_jobs=1\n",
      "  n_jobs = self._backend.configure(n_jobs=self.n_jobs, parallel=self,\n",
      "[Parallel(n_jobs=15)]: Using backend SequentialBackend with 1 concurrent workers.\n",
      "/u/fklotzsche/conda-envs/mne/lib/python3.9/site-packages/joblib/parallel.py:735: UserWarning: Loky-backed parallel loops cannot be called in a multiprocessing, setting n_jobs=1\n",
      "  n_jobs = self._backend.configure(n_jobs=self.n_jobs, parallel=self,\n",
      "[Parallel(n_jobs=15)]: Using backend SequentialBackend with 1 concurrent workers.\n",
      "[Parallel(n_jobs=15)]: Done   1 out of   1 | elapsed:    0.0s remaining:    0.0s\n",
      "[Parallel(n_jobs=15)]: Done   1 out of   1 | elapsed:    0.0s remaining:    0.0s\n",
      "[Parallel(n_jobs=15)]: Done   2 out of   2 | elapsed:    0.0s remaining:    0.0s\n",
      "[Parallel(n_jobs=15)]: Done   2 out of   2 | elapsed:    0.0s remaining:    0.0s\n",
      "[Parallel(n_jobs=15)]: Done   3 out of   3 | elapsed:    0.0s remaining:    0.0s\n",
      "[Parallel(n_jobs=15)]: Done   3 out of   3 | elapsed:    0.0s remaining:    0.0s\n",
      "[Parallel(n_jobs=15)]: Done   4 out of   4 | elapsed:    0.0s remaining:    0.0s\n",
      "[Parallel(n_jobs=15)]: Done   4 out of   4 | elapsed:    0.0s remaining:    0.0s\n",
      "/u/fklotzsche/conda-envs/mne/lib/python3.9/site-packages/joblib/parallel.py:735: UserWarning: Loky-backed parallel loops cannot be called in a multiprocessing, setting n_jobs=1\n",
      "  n_jobs = self._backend.configure(n_jobs=self.n_jobs, parallel=self,\n",
      "[Parallel(n_jobs=15)]: Using backend SequentialBackend with 1 concurrent workers.\n",
      "[Parallel(n_jobs=15)]: Done   1 out of   1 | elapsed:    0.0s remaining:    0.0s\n",
      "[Parallel(n_jobs=15)]: Done   2 out of   2 | elapsed:    0.0s remaining:    0.0s\n",
      "[Parallel(n_jobs=15)]: Done   3 out of   3 | elapsed:    0.0s remaining:    0.0s\n",
      "/u/fklotzsche/conda-envs/mne/lib/python3.9/site-packages/joblib/parallel.py:735: UserWarning: Loky-backed parallel loops cannot be called in a multiprocessing, setting n_jobs=1\n",
      "  n_jobs = self._backend.configure(n_jobs=self.n_jobs, parallel=self,\n",
      "[Parallel(n_jobs=15)]: Using backend SequentialBackend with 1 concurrent workers.\n",
      "[Parallel(n_jobs=15)]: Done   4 out of   4 | elapsed:    0.0s remaining:    0.0s\n",
      "[Parallel(n_jobs=15)]: Done  15 out of  15 | elapsed:    0.1s finished\n",
      "[Parallel(n_jobs=5)]: Done   1 out of   1 | elapsed:    0.7s remaining:    0.0s\n",
      "[Parallel(n_jobs=15)]: Done  15 out of  15 | elapsed:    0.1s finished\n",
      "[Parallel(n_jobs=5)]: Done   4 out of   4 | elapsed:    3.6s remaining:    0.0s\n",
      "[Parallel(n_jobs=15)]: Done   1 out of   1 | elapsed:    0.0s remaining:    0.0s\n",
      "[Parallel(n_jobs=15)]: Done   2 out of   2 | elapsed:    0.0s remaining:    0.0s\n"
     ]
    },
    {
     "data": {
      "application/vnd.jupyter.widget-view+json": {
       "model_id": "602d69ba00e84b96a30bff1ca5ce70f5",
       "version_major": 2,
       "version_minor": 0
      },
      "text/plain": [
       "  0%|          | Fitting SlidingEstimator : 0/146 [00:00<?,       ?it/s]"
      ]
     },
     "metadata": {},
     "output_type": "display_data"
    },
    {
     "name": "stderr",
     "output_type": "stream",
     "text": [
      "[Parallel(n_jobs=15)]: Done   3 out of   3 | elapsed:    0.0s remaining:    0.0s\n",
      "/u/fklotzsche/conda-envs/mne/lib/python3.9/site-packages/joblib/parallel.py:735: UserWarning: Loky-backed parallel loops cannot be called in a multiprocessing, setting n_jobs=1\n",
      "  n_jobs = self._backend.configure(n_jobs=self.n_jobs, parallel=self,\n"
     ]
    },
    {
     "data": {
      "application/vnd.jupyter.widget-view+json": {
       "model_id": "a7f312a99bfb4a8794e563eb7ec8aad8",
       "version_major": 2,
       "version_minor": 0
      },
      "text/plain": [
       "  0%|          | Fitting SlidingEstimator : 0/146 [00:00<?,       ?it/s]"
      ]
     },
     "metadata": {},
     "output_type": "display_data"
    },
    {
     "name": "stderr",
     "output_type": "stream",
     "text": [
      "/u/fklotzsche/conda-envs/mne/lib/python3.9/site-packages/joblib/parallel.py:735: UserWarning: Loky-backed parallel loops cannot be called in a multiprocessing, setting n_jobs=1\n",
      "  n_jobs = self._backend.configure(n_jobs=self.n_jobs, parallel=self,\n",
      "[Parallel(n_jobs=15)]: Done   4 out of   4 | elapsed:    0.1s remaining:    0.0s\n",
      "[Parallel(n_jobs=15)]: Done  15 out of  15 | elapsed:    0.1s finished\n",
      "[Parallel(n_jobs=5)]: Done   3 out of   3 | elapsed:    2.1s remaining:    0.0s\n"
     ]
    },
    {
     "data": {
      "application/vnd.jupyter.widget-view+json": {
       "model_id": "37cca4b2b28b4c0ba959525e9ee74bab",
       "version_major": 2,
       "version_minor": 0
      },
      "text/plain": [
       "  0%|          | Fitting SlidingEstimator : 0/146 [00:00<?,       ?it/s]"
      ]
     },
     "metadata": {},
     "output_type": "display_data"
    },
    {
     "name": "stderr",
     "output_type": "stream",
     "text": [
      "/u/fklotzsche/conda-envs/mne/lib/python3.9/site-packages/joblib/parallel.py:735: UserWarning: Loky-backed parallel loops cannot be called in a multiprocessing, setting n_jobs=1\n",
      "  n_jobs = self._backend.configure(n_jobs=self.n_jobs, parallel=self,\n",
      "[Parallel(n_jobs=15)]: Done  15 out of  15 | elapsed:    0.1s finished\n",
      "[Parallel(n_jobs=5)]: Done   5 out of   5 | elapsed:    4.6s finished\n"
     ]
    },
    {
     "data": {
      "application/vnd.jupyter.widget-view+json": {
       "model_id": "14febab7f68742bd837e8bd3f13b5a3d",
       "version_major": 2,
       "version_minor": 0
      },
      "text/plain": [
       "  0%|          | Fitting SlidingEstimator : 0/146 [00:00<?,       ?it/s]"
      ]
     },
     "metadata": {},
     "output_type": "display_data"
    },
    {
     "name": "stderr",
     "output_type": "stream",
     "text": [
      "/u/fklotzsche/conda-envs/mne/lib/python3.9/site-packages/joblib/parallel.py:735: UserWarning: Loky-backed parallel loops cannot be called in a multiprocessing, setting n_jobs=1\n",
      "  n_jobs = self._backend.configure(n_jobs=self.n_jobs, parallel=self,\n"
     ]
    },
    {
     "name": "stdout",
     "output_type": "stream",
     "text": [
      "y shape: (19,)\n",
      "[1. 1. 0. 0. 1. 0. 1. 1. 0. 0. 0. 1. 0. 1. 0. 1. 1. 0. 0.]\n"
     ]
    },
    {
     "name": "stderr",
     "output_type": "stream",
     "text": [
      "/u/fklotzsche/conda-envs/mne/lib/python3.9/site-packages/joblib/parallel.py:735: UserWarning: Loky-backed parallel loops cannot be called in a multiprocessing, setting n_jobs=1\n",
      "  n_jobs = self._backend.configure(n_jobs=self.n_jobs, parallel=self,\n",
      "[Parallel(n_jobs=5)]: Using backend SequentialBackend with 1 concurrent workers.\n",
      "/u/fklotzsche/conda-envs/mne/lib/python3.9/site-packages/joblib/parallel.py:735: UserWarning: Loky-backed parallel loops cannot be called in a multiprocessing, setting n_jobs=1\n",
      "  n_jobs = self._backend.configure(n_jobs=self.n_jobs, parallel=self,\n",
      "[Parallel(n_jobs=15)]: Using backend SequentialBackend with 1 concurrent workers.\n",
      "[Parallel(n_jobs=15)]: Done   1 out of   1 | elapsed:    0.0s remaining:    0.0s\n",
      "[Parallel(n_jobs=15)]: Done   2 out of   2 | elapsed:    0.0s remaining:    0.0s\n"
     ]
    },
    {
     "data": {
      "application/vnd.jupyter.widget-view+json": {
       "model_id": "4c78cd4d7a7b4c11b9c38a1d6ddfc6de",
       "version_major": 2,
       "version_minor": 0
      },
      "text/plain": [
       "  0%|          | Fitting SlidingEstimator : 0/146 [00:00<?,       ?it/s]"
      ]
     },
     "metadata": {},
     "output_type": "display_data"
    },
    {
     "name": "stderr",
     "output_type": "stream",
     "text": [
      "[Parallel(n_jobs=15)]: Done   3 out of   3 | elapsed:    0.0s remaining:    0.0s\n",
      "/u/fklotzsche/conda-envs/mne/lib/python3.9/site-packages/joblib/parallel.py:735: UserWarning: Loky-backed parallel loops cannot be called in a multiprocessing, setting n_jobs=1\n",
      "  n_jobs = self._backend.configure(n_jobs=self.n_jobs, parallel=self,\n",
      "[Parallel(n_jobs=15)]: Done   4 out of   4 | elapsed:    0.0s remaining:    0.0s\n",
      "[Parallel(n_jobs=15)]: Done  15 out of  15 | elapsed:    0.1s finished\n",
      "[Parallel(n_jobs=5)]: Done   1 out of   1 | elapsed:    0.8s remaining:    0.0s\n"
     ]
    },
    {
     "data": {
      "application/vnd.jupyter.widget-view+json": {
       "model_id": "1e91f73b98eb4bb7bd0eefcd035a1081",
       "version_major": 2,
       "version_minor": 0
      },
      "text/plain": [
       "  0%|          | Fitting SlidingEstimator : 0/146 [00:00<?,       ?it/s]"
      ]
     },
     "metadata": {},
     "output_type": "display_data"
    },
    {
     "name": "stderr",
     "output_type": "stream",
     "text": [
      "/u/fklotzsche/conda-envs/mne/lib/python3.9/site-packages/joblib/parallel.py:735: UserWarning: Loky-backed parallel loops cannot be called in a multiprocessing, setting n_jobs=1\n",
      "  n_jobs = self._backend.configure(n_jobs=self.n_jobs, parallel=self,\n",
      "/u/fklotzsche/conda-envs/mne/lib/python3.9/site-packages/joblib/parallel.py:735: UserWarning: Loky-backed parallel loops cannot be called in a multiprocessing, setting n_jobs=1\n",
      "  n_jobs = self._backend.configure(n_jobs=self.n_jobs, parallel=self,\n",
      "[Parallel(n_jobs=15)]: Using backend SequentialBackend with 1 concurrent workers.\n",
      "[Parallel(n_jobs=15)]: Done   1 out of   1 | elapsed:    0.0s remaining:    0.0s\n",
      "[Parallel(n_jobs=15)]: Done   2 out of   2 | elapsed:    0.0s remaining:    0.0s\n",
      "[Parallel(n_jobs=15)]: Done   3 out of   3 | elapsed:    0.0s remaining:    0.0s\n",
      "[Parallel(n_jobs=15)]: Done   4 out of   4 | elapsed:    0.0s remaining:    0.0s\n",
      "/u/fklotzsche/conda-envs/mne/lib/python3.9/site-packages/joblib/parallel.py:735: UserWarning: Loky-backed parallel loops cannot be called in a multiprocessing, setting n_jobs=1\n",
      "  n_jobs = self._backend.configure(n_jobs=self.n_jobs, parallel=self,\n",
      "[Parallel(n_jobs=15)]: Using backend SequentialBackend with 1 concurrent workers.\n",
      "[Parallel(n_jobs=15)]: Done   1 out of   1 | elapsed:    0.0s remaining:    0.0s\n",
      "/u/fklotzsche/conda-envs/mne/lib/python3.9/site-packages/joblib/parallel.py:735: UserWarning: Loky-backed parallel loops cannot be called in a multiprocessing, setting n_jobs=1\n",
      "  n_jobs = self._backend.configure(n_jobs=self.n_jobs, parallel=self,\n",
      "[Parallel(n_jobs=15)]: Using backend SequentialBackend with 1 concurrent workers.\n",
      "[Parallel(n_jobs=15)]: Done   2 out of   2 | elapsed:    0.0s remaining:    0.0s\n",
      "[Parallel(n_jobs=15)]: Done   3 out of   3 | elapsed:    0.0s remaining:    0.0s\n",
      "[Parallel(n_jobs=15)]: Done   1 out of   1 | elapsed:    0.0s remaining:    0.0s\n",
      "[Parallel(n_jobs=15)]: Done   4 out of   4 | elapsed:    0.1s remaining:    0.0s\n",
      "[Parallel(n_jobs=15)]: Done   2 out of   2 | elapsed:    0.0s remaining:    0.0s\n",
      "[Parallel(n_jobs=15)]: Done   3 out of   3 | elapsed:    0.0s remaining:    0.0s\n",
      "[Parallel(n_jobs=15)]: Done  15 out of  15 | elapsed:    0.1s finished\n",
      "[Parallel(n_jobs=15)]: Done   4 out of   4 | elapsed:    0.0s remaining:    0.0s\n",
      "[Parallel(n_jobs=5)]: Done   5 out of   5 | elapsed:    4.5s finished\n"
     ]
    },
    {
     "data": {
      "application/vnd.jupyter.widget-view+json": {
       "model_id": "b19ea8648def4bfd88fbe713b0acdce1",
       "version_major": 2,
       "version_minor": 0
      },
      "text/plain": [
       "  0%|          | Fitting SlidingEstimator : 0/146 [00:00<?,       ?it/s]"
      ]
     },
     "metadata": {},
     "output_type": "display_data"
    },
    {
     "name": "stderr",
     "output_type": "stream",
     "text": [
      "/u/fklotzsche/conda-envs/mne/lib/python3.9/site-packages/joblib/parallel.py:735: UserWarning: Loky-backed parallel loops cannot be called in a multiprocessing, setting n_jobs=1\n",
      "  n_jobs = self._backend.configure(n_jobs=self.n_jobs, parallel=self,\n",
      "[Parallel(n_jobs=15)]: Done  15 out of  15 | elapsed:    0.1s finished\n",
      "[Parallel(n_jobs=5)]: Done   4 out of   4 | elapsed:    3.0s remaining:    0.0s\n"
     ]
    },
    {
     "data": {
      "application/vnd.jupyter.widget-view+json": {
       "model_id": "d1a2111029ec4ee0933af860bd93bac3",
       "version_major": 2,
       "version_minor": 0
      },
      "text/plain": [
       "  0%|          | Fitting SlidingEstimator : 0/146 [00:00<?,       ?it/s]"
      ]
     },
     "metadata": {},
     "output_type": "display_data"
    },
    {
     "name": "stderr",
     "output_type": "stream",
     "text": [
      "/u/fklotzsche/conda-envs/mne/lib/python3.9/site-packages/joblib/parallel.py:735: UserWarning: Loky-backed parallel loops cannot be called in a multiprocessing, setting n_jobs=1\n",
      "  n_jobs = self._backend.configure(n_jobs=self.n_jobs, parallel=self,\n",
      "[Parallel(n_jobs=15)]: Done  15 out of  15 | elapsed:    0.1s finished\n",
      "[Parallel(n_jobs=5)]: Done   2 out of   2 | elapsed:    1.7s remaining:    0.0s\n"
     ]
    },
    {
     "data": {
      "application/vnd.jupyter.widget-view+json": {
       "model_id": "9f739dabd69f4f99b11c3cfa6ea262f4",
       "version_major": 2,
       "version_minor": 0
      },
      "text/plain": [
       "  0%|          | Fitting SlidingEstimator : 0/146 [00:00<?,       ?it/s]"
      ]
     },
     "metadata": {},
     "output_type": "display_data"
    },
    {
     "name": "stderr",
     "output_type": "stream",
     "text": [
      "/u/fklotzsche/conda-envs/mne/lib/python3.9/site-packages/joblib/parallel.py:735: UserWarning: Loky-backed parallel loops cannot be called in a multiprocessing, setting n_jobs=1\n",
      "  n_jobs = self._backend.configure(n_jobs=self.n_jobs, parallel=self,\n",
      "/u/fklotzsche/conda-envs/mne/lib/python3.9/site-packages/joblib/parallel.py:735: UserWarning: Loky-backed parallel loops cannot be called in a multiprocessing, setting n_jobs=1\n",
      "  n_jobs = self._backend.configure(n_jobs=self.n_jobs, parallel=self,\n",
      "[Parallel(n_jobs=15)]: Using backend SequentialBackend with 1 concurrent workers.\n",
      "[Parallel(n_jobs=15)]: Done   1 out of   1 | elapsed:    0.0s remaining:    0.0s\n",
      "[Parallel(n_jobs=15)]: Done   2 out of   2 | elapsed:    0.0s remaining:    0.0s\n",
      "[Parallel(n_jobs=15)]: Done   3 out of   3 | elapsed:    0.0s remaining:    0.0s\n",
      "[Parallel(n_jobs=15)]: Done   4 out of   4 | elapsed:    0.0s remaining:    0.0s\n",
      "[Parallel(n_jobs=15)]: Done  15 out of  15 | elapsed:    0.1s finished\n",
      "[Parallel(n_jobs=5)]: Done   1 out of   1 | elapsed:    0.9s remaining:    0.0s\n"
     ]
    },
    {
     "data": {
      "application/vnd.jupyter.widget-view+json": {
       "model_id": "3f8230f13bc84ec9b7198937deef6c30",
       "version_major": 2,
       "version_minor": 0
      },
      "text/plain": [
       "  0%|          | Fitting SlidingEstimator : 0/146 [00:00<?,       ?it/s]"
      ]
     },
     "metadata": {},
     "output_type": "display_data"
    },
    {
     "name": "stderr",
     "output_type": "stream",
     "text": [
      "/u/fklotzsche/conda-envs/mne/lib/python3.9/site-packages/joblib/parallel.py:735: UserWarning: Loky-backed parallel loops cannot be called in a multiprocessing, setting n_jobs=1\n",
      "  n_jobs = self._backend.configure(n_jobs=self.n_jobs, parallel=self,\n",
      "[Parallel(n_jobs=15)]: Using backend SequentialBackend with 1 concurrent workers.\n",
      "/u/fklotzsche/conda-envs/mne/lib/python3.9/site-packages/joblib/parallel.py:735: UserWarning: Loky-backed parallel loops cannot be called in a multiprocessing, setting n_jobs=1\n",
      "  n_jobs = self._backend.configure(n_jobs=self.n_jobs, parallel=self,\n",
      "[Parallel(n_jobs=15)]: Done   1 out of   1 | elapsed:    0.0s remaining:    0.0s\n",
      "[Parallel(n_jobs=15)]: Done   2 out of   2 | elapsed:    0.0s remaining:    0.0s\n",
      "[Parallel(n_jobs=15)]: Done   3 out of   3 | elapsed:    0.0s remaining:    0.0s\n",
      "[Parallel(n_jobs=15)]: Done   4 out of   4 | elapsed:    0.1s remaining:    0.0s\n",
      "[Parallel(n_jobs=15)]: Done  15 out of  15 | elapsed:    0.1s finished\n",
      "[Parallel(n_jobs=5)]: Done   2 out of   2 | elapsed:    1.7s remaining:    0.0s\n"
     ]
    },
    {
     "data": {
      "application/vnd.jupyter.widget-view+json": {
       "model_id": "cb538017dfb144c7b5d69b591f95c325",
       "version_major": 2,
       "version_minor": 0
      },
      "text/plain": [
       "  0%|          | Fitting SlidingEstimator : 0/146 [00:00<?,       ?it/s]"
      ]
     },
     "metadata": {},
     "output_type": "display_data"
    },
    {
     "name": "stderr",
     "output_type": "stream",
     "text": [
      "/u/fklotzsche/conda-envs/mne/lib/python3.9/site-packages/joblib/parallel.py:735: UserWarning: Loky-backed parallel loops cannot be called in a multiprocessing, setting n_jobs=1\n",
      "  n_jobs = self._backend.configure(n_jobs=self.n_jobs, parallel=self,\n"
     ]
    }
   ],
   "source": [
    "\n",
    "if __name__ == '__main__':\n",
    "\n",
    "    # Set up parameters:\n",
    "    batch_size = 10\n",
    "    smooth_winsize = 10\n",
    "    n_rep_sub = 100\n",
    "    n_cv_folds = 5\n",
    "    scoring = \"roc_auc\"\n",
    "\n",
    "    shuffle_labels = True\n",
    "\n",
    "    sub_list = np.setdiff1d(\n",
    "        np.arange(1, 28), config.ids_missing_subjects + config.ids_excluded_subjects\n",
    "    )\n",
    "    sub_list_str = [\"VME_S%02d\" % sub for sub in sub_list]\n",
    "\n",
    "    # when running on the cluster we want parallelization along the subject dimension\n",
    "    if not helpers.is_interactive(): \n",
    "        helpers.print_msg('Running Job Nr. ' + sys.argv[1])\n",
    "        job_nr = int(float(sys.argv[1]))\n",
    "        sub_list_str = [sub_list_str[job_nr]]\n",
    "\n",
    "    scores_all = defaultdict(list)\n",
    "    patterns_all = defaultdict(list)\n",
    "\n",
    "    pool = mp.Pool()\n",
    "    results = []\n",
    "    for c_train in [\"EccS\", \"EccM\", \"EccL\"]:\n",
    "        for c_test in [\"EccS\", \"EccM\", \"EccL\"]: \n",
    "            for subID in sub_list_str:\n",
    "                print(f\"Running {subID} ... train: {c_train} test: {c_test}\")\n",
    "                result = pool.apply_async(run_decoding,\n",
    "                                          args=(c_train,\n",
    "                                                c_test,\n",
    "                                                subID,    \n",
    "                                                shuffle_labels))\n",
    "                results.append(result)\n",
    "    pool.close()\n",
    "    pool.join()\n",
    "\n",
    "    for result in results:\n",
    "        scores_sub, patterns_sub, times_n, subID, c_train, c_test = result.get()\n",
    "        scores_all[f\"train_{c_train}-test_{c_test}\"].append(scores_sub)\n",
    "        patterns_all[f\"train_{c_train}-test_{c_test}\"].append(patterns_sub)\n",
    "        path_save = gen_save_path(\n",
    "                contrast_str=\"LoadLow_vs_LoadHigh\",\n",
    "                epo_part=\"stimon\",\n",
    "                signaltype=\"collapsed\",\n",
    "                gen_str=\"\",\n",
    "                scoring=\"roc_auc\",\n",
    "                picks_str=None,\n",
    "                labels_shuffled=shuffle_labels,\n",
    "                cross_decod=True,\n",
    "                crossing_str=f\"train_{c_train}-test_{c_test}\",\n",
    "            )\n",
    "        save_scores(subID, scores_sub, times_n, path_save)\n",
    "        save_patterns(subID, patterns_sub, times_n, path_save)\n",
    "\n",
    "        info_dict = {\n",
    "            \"n_rep_sub\": n_rep_sub,\n",
    "            \"batch_size\": batch_size,\n",
    "            \"smooth_winsize\": smooth_winsize,\n",
    "            \"cv_folds\": n_cv_folds,\n",
    "            \"scoring\": scoring,\n",
    "        }\n",
    "        save_info(subID, info_dict, path_save)"
   ]
  },
  {
   "cell_type": "code",
   "execution_count": null,
   "metadata": {},
   "outputs": [],
   "source": []
  }
 ],
 "metadata": {
  "kernelspec": {
   "display_name": "mne",
   "language": "python",
   "name": "mne"
  },
  "language_info": {
   "codemirror_mode": {
    "name": "ipython",
    "version": 3
   },
   "file_extension": ".py",
   "mimetype": "text/x-python",
   "name": "python",
   "nbconvert_exporter": "python",
   "pygments_lexer": "ipython3",
   "version": "3.9.9"
  },
  "orig_nbformat": 4
 },
 "nbformat": 4,
 "nbformat_minor": 2
}
