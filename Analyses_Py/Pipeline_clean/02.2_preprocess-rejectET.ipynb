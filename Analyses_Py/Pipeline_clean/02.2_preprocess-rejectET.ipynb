{
 "cells": [
  {
   "cell_type": "markdown",
   "id": "0a1af5f8",
   "metadata": {},
   "source": [
    "# Data preprocessing III: reject epochs with saccades"
   ]
  },
  {
   "cell_type": "markdown",
   "id": "f09001e7",
   "metadata": {},
   "source": [
    "Reject epochs in which participants made a saccade (>2 dva). The according info is read from a file which is written by R code. "
   ]
  },
  {
   "cell_type": "code",
   "execution_count": 1,
   "id": "370da545",
   "metadata": {},
   "outputs": [],
   "source": [
    "import os\n",
    "from os import path as op\n",
    "import numpy as np\n",
    "import pandas as pd\n",
    "\n",
    "import mne\n",
    "\n",
    "from library import helpers, config"
   ]
  },
  {
   "cell_type": "code",
   "execution_count": 5,
   "id": "67551352",
   "metadata": {},
   "outputs": [
    {
     "name": "stdout",
     "output_type": "stream",
     "text": [
      "Overwriting existing file.\n",
      "Overwriting existing file.\n",
      "Overwriting existing file.\n",
      "Overwriting existing file.\n",
      "Overwriting existing file.\n",
      "Overwriting existing file.\n",
      "Overwriting existing file.\n",
      "Overwriting existing file.\n",
      "Overwriting existing file.\n",
      "Overwriting existing file.\n",
      "Overwriting existing file.\n",
      "Overwriting existing file.\n",
      "Overwriting existing file.\n",
      "Overwriting existing file.\n",
      "Overwriting existing file.\n",
      "Overwriting existing file.\n",
      "Overwriting existing file.\n",
      "Overwriting existing file.\n",
      "Overwriting existing file.\n",
      "Overwriting existing file.\n",
      "Overwriting existing file.\n",
      "Overwriting existing file.\n",
      "Overwriting existing file.\n",
      "Overwriting existing file.\n"
     ]
    }
   ],
   "source": [
    "sub_list = np.setdiff1d(np.arange(1,28), config.ids_missing_subjects)\n",
    "\n",
    "# Initialize summary DF: \n",
    "remaining_epos = pd.DataFrame(columns = ['subID', 'stimon', 'cue', 'fulllength'])\n",
    "\n",
    "for sub_nr in sub_list:\n",
    "    subID = 'VME_S%02d' % sub_nr\n",
    "\n",
    "    # read in epochs which shall be rejected: \n",
    "    fname = op.join(config.paths['03_preproc-rejectET-CSVs'], subID + '-rejTrials-ET.csv')\n",
    "    df_rej_epos_ext = pd.read_csv(fname)\n",
    "    rej_epos_ext = np.array(df_rej_epos_ext).flatten()\n",
    "    # subtract 1 to account for 0-indexing in Python: \n",
    "    rej_epos_ext -= 1\n",
    "\n",
    "    # Init dict to collect ns of remaining epos: \n",
    "    rem_epos_dict = dict(subID = subID)\n",
    "\n",
    "    for epo_part in ['stimon']: #, 'cue', 'fulllength']:\n",
    "\n",
    "        # Load data:\n",
    "        fpath_in = op.join(config.paths['03_preproc-ar'], '0.1', 'robust', epo_part, 'cleaneddata')\n",
    "        data = helpers.load_data(subID + '-' + epo_part + '-postAR', fpath_in, '-epo', \n",
    "                                 verbose=False)\n",
    "\n",
    "        # kick epos:\n",
    "        rej_idx = np.isin(data.selection, rej_epos_ext)\n",
    "        data.drop(rej_idx, verbose=False)\n",
    "\n",
    "        rem_epos_dict[epo_part] = len(data)\n",
    "        \n",
    "        fpath_out = op.join(config.paths['03_preproc-rejectET'], epo_part, 'cleaneddata')\n",
    "        helpers.chkmk_dir(fpath_out)\n",
    "        helpers.save_data(data, subID + '-' + epo_part + '-rejepo', fpath_out, \n",
    "                          append='-epo', verbose=False)\n",
    "    \n",
    "    remaining_epos = remaining_epos.append(rem_epos_dict, verify_integrity=True, ignore_index=True)\n",
    "\n",
    "# Save overview DF:\n",
    "fname = op.join(config.paths['03_preproc-rejectET'], 'remaining_epos_per_sub.csv')\n",
    "remaining_epos.to_csv(fname)"
   ]
  }
 ],
 "metadata": {
  "kernelspec": {
   "display_name": "mne",
   "language": "python",
   "name": "mne"
  },
  "language_info": {
   "codemirror_mode": {
    "name": "ipython",
    "version": 3
   },
   "file_extension": ".py",
   "mimetype": "text/x-python",
   "name": "python",
   "nbconvert_exporter": "python",
   "pygments_lexer": "ipython3",
   "version": "3.9.9"
  }
 },
 "nbformat": 4,
 "nbformat_minor": 5
}
