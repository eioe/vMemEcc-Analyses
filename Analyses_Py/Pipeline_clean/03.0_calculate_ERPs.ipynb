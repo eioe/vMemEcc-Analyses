{
 "cells": [
  {
   "cell_type": "code",
   "execution_count": 3,
   "metadata": {},
   "outputs": [
    {
     "name": "stdout",
     "output_type": "stream",
     "text": [
      "Study path is set to: /raven/ptmp/fklotzsche/Experiments/vMemEcc\n"
     ]
    }
   ],
   "source": [
    "# import os\n",
    "import os.path as op\n",
    "from pathlib import Path\n",
    "import numpy as np\n",
    "from collections import defaultdict\n",
    "import matplotlib\n",
    "from matplotlib import pyplot as plt\n",
    "from matplotlib.offsetbox import AnchoredText\n",
    "import pandas as pd\n",
    "import mne\n",
    "\n",
    "from scipy import stats\n",
    "from mne.stats import permutation_cluster_1samp_test\n",
    "\n",
    "from library import helpers, config\n"
   ]
  },
  {
   "cell_type": "code",
   "execution_count": 4,
   "metadata": {},
   "outputs": [],
   "source": [
    "%matplotlib inline\n",
    "%load_ext autoreload\n",
    "%autoreload 2\n"
   ]
  },
  {
   "cell_type": "code",
   "execution_count": null,
   "metadata": {},
   "outputs": [],
   "source": []
  },
  {
   "cell_type": "code",
   "execution_count": 85,
   "metadata": {},
   "outputs": [],
   "source": [
    "def get_evokeds_dict(epo_part, sub_list,  plt_dict, data_type=\"difference\"):\n",
    "    evokeds = defaultdict(list)\n",
    "    for sub in sub_list: \n",
    "        if data_type not in [\"difference\", \"collapsed\"]:\n",
    "            raise ValueError(f\"Invalid data type '{data_type}'. Has to be either 'difference' or 'collapsed'.\")\n",
    "        subID = 'VME_S%02d' % sub\n",
    "        fname = op.join(config.paths['03_preproc-pooled'], epo_part,\n",
    "                        data_type, f'{subID}-{epo_part}-{data_type}-epo.fif')\n",
    "        epos = mne.read_epochs(fname, verbose=False)\n",
    "        epos.pick_channels(config.chans_CDA_dict['Left'])\n",
    "        epos.crop(plt_dict[epo_part]['xmin'], plt_dict[epo_part]['xmax'])\n",
    "        event_dict = helpers.get_event_dict(epos.event_id)\n",
    "        for load in ['LoadLow', 'LoadHigh']:\n",
    "            evoked_load = epos[event_dict[load]].copy().average()   \n",
    "            evokeds[load].append(evoked_load)\n",
    "            for ecc in ['EccS', 'EccM', 'EccL']:\n",
    "                if load == 'LoadLow':  # we don't want to do this twice\n",
    "                    evoked_ecc = epos[event_dict[ecc]].copy().average()  \n",
    "                    evokeds[ecc].append(evoked_ecc)\n",
    "                # Interaction:\n",
    "                evoked_interac = epos[event_dict[load]][event_dict[ecc]].copy()\n",
    "                evoked_interac = evoked_interac.average()\n",
    "                evokeds[load+ecc].append(evoked_interac)\n",
    "        evokeds['all'].append(epos.copy().average())\n",
    "    return(evokeds)\n",
    "\n",
    "\n",
    "\n",
    "def plot_main_cda(ax, evokeds):\n",
    "    # Plot main curve CDA:\n",
    "    label_dict = dict()\n",
    "    label_dict['CDA: Contra - Ipsi'] = evokeds['all']\n",
    "\n",
    "    mne.viz.plot_compare_evokeds(label_dict, \n",
    "                                combine='mean', \n",
    "                                #colors = {k: config.colors[k] for k in plt_dict.keys()},\n",
    "                                vlines=[0, 0.2, 2.2],\n",
    "                                ci=True,\n",
    "                                ylim=dict(eeg=[-1.5,1.5]),\n",
    "                                title=None, \n",
    "                                axes = ax, \n",
    "                                show = False, \n",
    "                                truncate_yaxis=False, \n",
    "                                truncate_xaxis=False\n",
    "                                )\n",
    "\n",
    "    ax.legend(loc=1, prop={'size': 9})\n",
    "    ax.axvspan(0, 0.2, color='grey', alpha=0.3)\n",
    "    ax.axvspan(2.2, 2.3, color='grey', alpha=0.3)\n",
    "    # ax.set_aspect(0.25)\n",
    "    ax.set_title('')\n",
    "    ax.xaxis.label.set_size(9)\n",
    "    ax.yaxis.label.set_size(9)\n",
    "    plt.xticks(fontsize=9)\n",
    "\n",
    "\n",
    "def run_cbp_test(data, n_perm=1000, p_initial=0.05, p_thresh=0.05, tail=0.):\n",
    "    \"\"\"Run a cluster-based permutation test: paired t-test. \n",
    "    \n",
    "    Parameters\n",
    "    ----------\n",
    "    data : ndarray, shape (n_observations, times)\n",
    "        2d array with difference between conditions (n_observations x timepoints)\n",
    "    n_perm : int\n",
    "        Number of permutations, default: 1000\n",
    "    p_initial : int\n",
    "        Initial threshold (1st round of cbp test), default: 0.05\n",
    "    p_thresh : int\n",
    "        Familywise p value (2nd round of cbp test), default: 0.05\n",
    "    tail : int\n",
    "        0: two-sided test (default); -1: left-sided; 1: right-sided\n",
    "\n",
    "    Returns\n",
    "    -------\n",
    "    T_obs : array, shape (n_tests,)\n",
    "        T-statistic observed for all variables.\n",
    "    clusters : list\n",
    "        list of tuple of ndarray, where each ndarray contains the indices of\n",
    "        locations that together form the given cluster along the given dimension.\n",
    "    cluster_p_values : array\n",
    "        P-value for each cluster.\n",
    "\n",
    "    Notes\n",
    "    -------\n",
    "    For details check documentation of `mne.stats.permutation_cluster_1samp_test`.\n",
    "    \"\"\"\n",
    "    # number of permutations to run\n",
    "    n_permutations = n_perm \n",
    "    # set initial threshold\n",
    "    p_initial = p_initial\n",
    "    # set family-wise p-value\n",
    "    p_thresh = p_thresh\n",
    "    adjacency = None\n",
    "\n",
    "    # set cluster threshold\n",
    "    n_samples = len(data)\n",
    "    threshold = -stats.t.ppf(p_initial / (1 + (tail == 0)), n_samples - 1)\n",
    "    if np.sign(tail) < 0:\n",
    "        threshold = -threshold\n",
    "\n",
    "    cluster_stats = permutation_cluster_1samp_test(\n",
    "        data,\n",
    "        threshold=threshold,\n",
    "        n_jobs=config.n_jobs,\n",
    "        verbose=True,\n",
    "        tail=tail,\n",
    "        step_down_p=0.05,\n",
    "        adjacency=adjacency,\n",
    "        n_permutations=n_permutations,\n",
    "        seed=42)\n",
    "\n",
    "    T_obs, clusters, cluster_p_values, _ = cluster_stats\n",
    "    return(T_obs, clusters, cluster_p_values)\n",
    "\n",
    "def find_largest_cluster_times(clusters, times): \n",
    "    #TODO: write DOCSTR or remove\n",
    "    cl_lengths = [c[0].stop - c[0].start for c in clusters]\n",
    "    idx_max_length = np.argmax(cl_lengths)\n",
    "    return (times[clusters[idx_max_length]], idx_max_length)\n",
    "\n",
    "\n",
    "def plot_cbp_result_cda(ax, T_obs, clusters, cluster_p_values, p_thresh, times_cbp, times_full):\n",
    "    \"\"\"Plot the results of the CBP test by plotting the T values over time,\n",
    "    highlighting significant clusters.\n",
    "\n",
    "    Paramteters\n",
    "    -------\n",
    "    ax : Axes instance\n",
    "        Axes object to plot into.\n",
    "    clusters : list\n",
    "        Output of `run_cbp_test`.\n",
    "        List of tuple of ndarray, where each ndarray contains the indices of\n",
    "        locations that together form the given cluster along the given dimension.\n",
    "    cluster_p_values : array\n",
    "        Output of `run_cbp_test`.\n",
    "        P-value for each cluster.\n",
    "    p_thresh : int\n",
    "        Familywise p value (2nd round of cbp test) used in the underlying CBP test\n",
    "    times_cbp : array, shape (srate * duration retention interval,)\n",
    "        Sample times.\n",
    "    times_full : array, shape (srate * duration full trial,)\n",
    "        Sample times.\n",
    "    \"\"\"\n",
    "    y_max = np.max(np.abs(T_obs)) * np.array([-1.1, 1.1])\n",
    "    for i_c, c in enumerate(clusters):\n",
    "        c = c[0]\n",
    "        if cluster_p_values[i_c] < p_thresh:\n",
    "            h1 = ax.axvspan(times_cbp[c[0]], times_cbp[c[-1]],\n",
    "                            color='r', alpha=0.3)\n",
    "    ax.plot(times_cbp, T_obs, 'g')\n",
    "    ax.hlines(0, times_full[0], times_full[-1])\n",
    "    ax.legend((h1,), (u'p < %s' % p_thresh,), loc='upper right', ncol=1, prop={'size': 9})\n",
    "    ax.set(xlabel=\"Time (s)\", ylabel=\"T-values\",\n",
    "           ylim=y_max,\n",
    "           xlim=times_full[np.array([0,-1])])\n",
    "    fig.tight_layout(pad=0.0)\n",
    "    ax.axvspan(0, 0.2, color='grey', alpha=0.3)\n",
    "    ax.axvspan(2.2, 2.3, color='grey', alpha=0.3)\n",
    "    ax.vlines([0,0.2,2.2], *y_max, linestyles='--', colors='k',\n",
    "                    linewidth=1., zorder=1)\n",
    "    #ax.set_aspect(0.33)\n",
    "    ax.set_title('')\n",
    "    # ax.set_aspect('auto', adjustable='datalim')\n",
    "    # ax.set(aspect=1.0/ax.get_data_ratio()*0.25, adjustable='box')\n",
    "    ax.xaxis.label.set_size(9)\n",
    "    ax.yaxis.label.set_size(9)\n",
    "\n",
    "\n",
    "def plot_main_effect_load(evokeds, ax, sign_cluster=None):\n",
    "    \"\"\"Plot the main effect of Memory Load on the lateralized ERP.\n",
    "\n",
    "    Paramteters\n",
    "    -------\n",
    "    evokeds : dict\n",
    "        Dictionnary with Evokeds objects. Can be loaded from disc by using `get_evokeds_dict`.\n",
    "    ax : Axes instance\n",
    "        Axes object to plot into.\n",
    "    sign_cluster : tuple\n",
    "        Tuple with start and end time of the sign. cluster. If provided, the plot gets overlaid\n",
    "        with a red box to indicate the time of the cluster. If `None` (default), no box is plotted.\n",
    "    \"\"\"\n",
    "    conds = ['LoadLow', 'LoadHigh']\n",
    "    plt_names = ['2', '4']\n",
    "    plt_dict = {nn: evokeds[k] for k, nn in zip(conds, plt_names)}\n",
    "    res = mne.viz.plot_compare_evokeds(plt_dict, \n",
    "                                combine='mean', \n",
    "                                colors = {k: config.colors[k] for k in plt_dict.keys()},\n",
    "                                vlines=[0, 0.2, 2.2],\n",
    "                                ci=True,\n",
    "                                ylim=dict(eeg=[-1.5,1.5]),\n",
    "                                title=None, \n",
    "                                axes = ax, \n",
    "                                show = False, \n",
    "                                truncate_yaxis=False, \n",
    "                                truncate_xaxis=False,\n",
    "                                styles={cond: {\"linewidth\": 0.5} for cond in plt_dict.keys()},\n",
    "                                legend=False\n",
    "                                )\n",
    "    # Fake legend:\n",
    "    # custom_lines = [matplotlib.lines.Line2D([0], [0], color=config.colors['LoadLow'], lw=2),\n",
    "    #                 matplotlib.lines.Line2D([0], [0], color=config.colors['LoadHigh'], lw=2)]\n",
    "    # ax.legend(handles=custom_lines,\n",
    "    #           #labels=conds,\n",
    "    #           loc=1, \n",
    "    #           prop={'size': config.plt_label_size},\n",
    "    #           title='Size Memory Array',\n",
    "    #           labels=['2 items', '4 items'],\n",
    "    #           title_fontsize=config.plt_label_size)\n",
    "    ax.axvspan(0, 0.2, color='grey', alpha=0.3)\n",
    "    ax.axvspan(2.2, 2.3, color='grey', alpha=0.3)\n",
    "    # ax.vlines([0,0.2,2.2], *[-1.5,1.5], linestyles='--', colors='k',\n",
    "    #             linewidth=1., zorder=1)\n",
    "    if sign_cluster is not None:\n",
    "        ax.axvspan(sign_cluster[0], sign_cluster[-1], color='red', alpha=0.1)\n",
    "    # ax.set_aspect(0.25)\n",
    "    ax.set_title('')\n",
    "    ax.xaxis.label.set_size(config.plt_label_size)\n",
    "    ax.yaxis.label.set_size(config.plt_label_size)\n",
    "    ax.set_ylabel('CDA amplitude (' + chr(956) + 'V)', fontname=config.plt_fontname)\n",
    "\n",
    "    # plt.xticks(fontsize=config.plt_label_size, fontname=config.plt_fontname)\n",
    "    # plt.yticks(fontsize=config.plt_label_size, fontname=config.plt_fontname)\n",
    "    for tick in ax.get_xticklabels():\n",
    "        tick.set_fontname(fontname=config.plt_fontname)\n",
    "        tick.set_fontsize(config.plt_label_size)\n",
    "    for tick in ax.get_yticklabels():\n",
    "        tick.set_fontname(fontname=config.plt_fontname)\n",
    "        tick.set_fontsize(config.plt_label_size)\n",
    "                          \n",
    "\n",
    "\n",
    "def plot_main_effect_ecc(evokeds, ax, sign_cluster=None):\n",
    "    \"\"\"Plot the main effect of Eccentricity on the lateralized ERP.\n",
    "\n",
    "    Paramteters\n",
    "    -------\n",
    "    evokeds : dict\n",
    "        Dictionnary with Evokeds objects. Can be loaded from disc by using `get_evokeds_dict`.\n",
    "    ax : Axes instance\n",
    "        Axes object to plot into.\n",
    "    sign_cluster : tuple\n",
    "        Tuple with start and end time of the sign. cluster. If provided, the plot gets overlaid\n",
    "        with a red box to indicate the time of the cluster. If `None` (default), no box is plotted.\n",
    "    \"\"\"\n",
    "    # Main Effect Ecc:\n",
    "    conds = ['EccS', 'EccM', 'EccL']\n",
    "    plt_names = ['4°', '9°', '14°']\n",
    "    plt_dict = {nn: evokeds[k] for k, nn in zip(conds, plt_names)}\n",
    "    res = mne.viz.plot_compare_evokeds(plt_dict, \n",
    "                                combine='mean', \n",
    "                                colors = {k: config.colors[k] for k in plt_dict.keys()},\n",
    "                                vlines=[0, 0.2, 2.2],\n",
    "                                ci=True,\n",
    "                                ylim=dict(eeg=[-1.5,1.5]),\n",
    "                                title=None, \n",
    "                                axes = ax, \n",
    "                                show = False, \n",
    "                                truncate_yaxis=False, \n",
    "                                truncate_xaxis=False,\n",
    "                                styles={cond: {\"linewidth\": 0.5} for cond in plt_dict.keys()},\n",
    "                                legend=False\n",
    "                                )\n",
    "    # ax.legend(loc=1, prop={'size': config.plt_label_size}, \n",
    "    #           title='Eccentricity', ncol=3)\n",
    "    ax.axvspan(0, 0.2, color='grey', alpha=0.3)\n",
    "    ax.axvspan(2.2, 2.3, color='grey', alpha=0.3)\n",
    "    # ax.vlines([0,0.2,2.2], *[-1.5,1.5], linestyles='--', colors='k',\n",
    "    #             linewidth=1., zorder=1)\n",
    "    if sign_cluster is not None:\n",
    "        ax.axvspan(sign_cluster[0], sign_cluster[-1], color='red', alpha=0.1)\n",
    "    # ax.set_aspect(0.25)\n",
    "    ax.set_title('')\n",
    "    ax.set_ylabel('CDA amplitude (' + chr(956) + 'V)')\n",
    "    ax.xaxis.label.set_size(config.plt_label_size)\n",
    "    ax.yaxis.label.set_size(config.plt_label_size)\n",
    "    plt.xticks(fontsize=config.plt_label_size)\n",
    "    plt.yticks(fontsize=config.plt_label_size)\n",
    "\n",
    "\n",
    "\n",
    "def plot_interaction_eff(evokeds, axs):\n",
    "    \"\"\"Plot the effect of Memory Load on the lateralized ERP split up by Eccentricity condition.\n",
    "\n",
    "    Paramteters\n",
    "    -------\n",
    "    evokeds : dict\n",
    "        Dictionnary with Evokeds objects. Can be loaded from disc by using `get_evokeds_dict`.\n",
    "    ax : Axes instance\n",
    "        Axes object to plot into.\n",
    "    \"\"\"\n",
    "    for ecc, tt, idx, leg in zip(['EccS', 'EccM', 'EccL'], \n",
    "                            ['Ecc = 4°', 'Ecc = 9°', 'Ecc = 14°'], \n",
    "                            [0, 1, 2], \n",
    "                            [1, False, False]):\n",
    "        conds = ['LoadLow', 'LoadHigh']\n",
    "        plt_names = ['Load Low', 'Load High']\n",
    "        #data = [evo.crop(plt_dict[epo_part][xmin], plt_dict[epo_part][xmin]) for evo in evokeds]\n",
    "        plt_dict = {nn: evokeds[k + ecc] for k, nn in zip(conds, plt_names)}\n",
    "        res = mne.viz.plot_compare_evokeds(plt_dict, \n",
    "                                    combine='mean', \n",
    "                                    ci=True,\n",
    "                                    axes=axs[idx],\n",
    "                                    legend=leg,\n",
    "                                    colors = {k: config.colors[k] for k in plt_dict.keys()},\n",
    "                                    vlines=[0, 0.2, 2.2],\n",
    "                                    ylim=dict(eeg=[-1.5,1.5]),\n",
    "                                    title=None, \n",
    "                                    show = False, \n",
    "                                    truncate_yaxis=False, \n",
    "                                    truncate_xaxis=False\n",
    "                                    )\n",
    "    #axs[1].yaxis.set_visible(False)\n",
    "    axs[1].set_yticklabels([])\n",
    "    axs[2].set_yticklabels([])\n",
    "    axs[1].yaxis.label.set_visible(False)\n",
    "    axs[2].yaxis.label.set_visible(False)\n",
    "    axs[0].xaxis.label.set_visible(False)\n",
    "    axs[2].xaxis.label.set_visible(False)\n",
    "    axs[0].legend(loc=1, prop={'size': 6})\n",
    "\n",
    "    for axx, ecc in zip(axs, ['4', '9', '14']):\n",
    "        #axx.set_aspect('auto')\n",
    "        axx.axvspan(0, 0.2, color='grey', alpha=0.3)\n",
    "        axx.axvspan(2.2, 2.3, color='grey', alpha=0.3)\n",
    "        axx.set_aspect(0.33)\n",
    "        axx.set_title('')\n",
    "        at = AnchoredText(\" Ecc.: \" + ecc + \"° \",\n",
    "                            loc='lower left', prop=dict(size=9), frameon=True,\n",
    "                            bbox_to_anchor=(-0.01, 0.97),\n",
    "                            bbox_transform=axx.transAxes)\n",
    "        at.patch.set_boxstyle(\"round,pad=0.,rounding_size=0.2\")\n",
    "        axx.add_artist(at)\n",
    "\n",
    "        \n",
    "def allsubjects_mean_amp_to_df(sub_list, epo_part, channels, t_min, t_max, component_name, data_type=\"difference\"):\n",
    "    mean_amp_df = pd.DataFrame()\n",
    "    for sub in sub_list:\n",
    "        subID = 'VME_S%02d' % sub\n",
    "        print(F\"Reading {subID}...\")\n",
    "        fname = op.join(config.paths['03_preproc-pooled'], epo_part,\n",
    "                data_type, f'{subID}-{epo_part}-{data_type}-epo.fif')\n",
    "        epos_ = mne.read_epochs(fname, verbose=False)\n",
    "        df_ = mean_amp_to_df(epos_, subID, channels, t_min, t_max, component_name)\n",
    "        mean_amp_df = mean_amp_df.append(df_)\n",
    "    \n",
    "    return mean_amp_df\n",
    "        \n",
    "        \n",
    "        \n",
    "# TODO: docu\n",
    "def mean_amp_to_df(epos, subID, channels, t_min, t_max, component_name):\n",
    "    \"\"\"Takes the Epochs of one subject, calculates the mean amplitude in a given ROI and time window per \n",
    "    trial, and returns a data frame.\"    \n",
    "    \"\"\"\n",
    "    \n",
    "    epos.pick_channels(channels)\n",
    "    epos.crop(t_min, t_max)\n",
    "    \n",
    "    # Keep volatge in V for backwards compatibility:\n",
    "    scalings = {'eeg': 1}\n",
    "    df = epos.to_data_frame(scalings=scalings)\n",
    "\n",
    "    df['signal_roi'] = df[channels].mean(axis=1)\n",
    "    dict_load = {v: k for k in config.event_dict for v in config.event_dict[k] if \"Load\" in k}\n",
    "    dict_ecc = {v: k for k in config.event_dict for v in config.event_dict[k] if \"Ecc\" in k}\n",
    "    df['c_Ecc'] = df['condition'].replace(dict_ecc)\n",
    "    df['c_StimN'] = df['condition'].replace(dict_load)\n",
    "    df2 = df.groupby(['epoch', 'c_Ecc', 'c_StimN']).mean().reset_index()\n",
    "    df2[\"trial_num\"] = df2[\"epoch\"] + 1\n",
    "    df2[\"subID\"] = subID\n",
    "    colname = f\"{component_name.lower()}_mean_amp\"\n",
    "    df2[colname] = df2[\"signal_roi\"]\n",
    "    df3 = df2[[\"subID\", \"c_StimN\", \"c_Ecc\",  colname, \"trial_num\"]]\n",
    "    return df3"
   ]
  },
  {
   "cell_type": "code",
   "execution_count": 6,
   "metadata": {},
   "outputs": [
    {
     "data": {
      "text/plain": [
       "7"
      ]
     },
     "execution_count": 6,
     "metadata": {},
     "output_type": "execute_result"
    }
   ],
   "source": []
  },
  {
   "cell_type": "code",
   "execution_count": 61,
   "metadata": {},
   "outputs": [
    {
     "name": "stdout",
     "output_type": "stream",
     "text": [
      "Study path is set to: /raven/ptmp/fklotzsche/Experiments/vMemEcc\n"
     ]
    }
   ],
   "source": [
    "\n",
    "# define dict used for plotting of different epo parts:\n",
    "plt_dict = defaultdict(dict)\n",
    "pp = {'t_stimon':  0, \n",
    "      'xmin': -0.2, \n",
    "      'xmax': 2.3}\n",
    "plt_dict['stimon'] = pp\n",
    "\n",
    "# Globally set font:\n",
    "plt.rcParams[\"font.family\"] = config.plt_fontname\n",
    "matplotlib.rcParams['pdf.fonttype'] = 42\n",
    "matplotlib.rcParams['ps.fonttype'] = 42\n"
   ]
  },
  {
   "cell_type": "code",
   "execution_count": 19,
   "metadata": {},
   "outputs": [],
   "source": [
    "\n",
    "sub_list = np.setdiff1d(np.arange(1, 28), config.ids_missing_subjects +\n",
    "                        config.ids_excluded_subjects)\n",
    "\n",
    "epo_part = 'stimon'\n",
    "\n",
    "# get the evokeds: \n",
    "evokeds = get_evokeds_dict(epo_part, sub_list, plt_dict, data_type=\"difference\")\n"
   ]
  },
  {
   "cell_type": "code",
   "execution_count": 24,
   "metadata": {},
   "outputs": [
    {
     "name": "stdout",
     "output_type": "stream",
     "text": [
      "combining channels using \"mean\"\n"
     ]
    },
    {
     "data": {
      "image/png": "[encoded data removed]",
      "text/plain": [
       "<Figure size 864x288 with 1 Axes>"
      ]
     },
     "metadata": {
      "needs_background": "light"
     },
     "output_type": "display_data"
    }
   ],
   "source": [
    "\n",
    "# Plot main CDA wave:\n",
    "fig, ax = plt.subplots(1,1,figsize=(12,4))\n",
    "plot_main_cda(ax, evokeds)\n",
    "plt.show()"
   ]
  },
  {
   "cell_type": "code",
   "execution_count": null,
   "metadata": {},
   "outputs": [],
   "source": []
  },
  {
   "cell_type": "code",
   "execution_count": 10,
   "metadata": {},
   "outputs": [
    {
     "name": "stdout",
     "output_type": "stream",
     "text": [
      "stat_fun(H1): min=-5.466396 max=5.243015\n",
      "Running initial clustering\n",
      "Found 5 clusters\n"
     ]
    },
    {
     "name": "stderr",
     "output_type": "stream",
     "text": [
      "/tmp/ipykernel_77299/1377032869.py:101: RuntimeWarning: Provided stat_fun does not treat variables independently. Setting buffer_size to None.\n",
      "  cluster_stats = permutation_cluster_1samp_test(\n"
     ]
    },
    {
     "name": "stdout",
     "output_type": "stream",
     "text": [
      "Permuting 9999 times...\n"
     ]
    },
    {
     "name": "stderr",
     "output_type": "stream",
     "text": [
      "/u/fklotzsche/conda-envs/mne/lib/python3.9/site-packages/mne/externals/tqdm/__init__.py:5: DeprecationWarning: distutils Version classes are deprecated. Use packaging.version instead.\n",
      "  if LooseVersion(__version__) < LooseVersion('4.36'):\n",
      "/u/fklotzsche/conda-envs/mne/lib/python3.9/site-packages/mne/externals/tqdm/__init__.py:5: DeprecationWarning: distutils Version classes are deprecated. Use packaging.version instead.\n",
      "  if LooseVersion(__version__) < LooseVersion('4.36'):\n"
     ]
    },
    {
     "data": {
      "application/vnd.jupyter.widget-view+json": {
       "model_id": "cdf30d33906841fba740c993d09be647",
       "version_major": 2,
       "version_minor": 0
      },
      "text/plain": [
       "  0%|          |  : 0/9999 [00:00<?,       ?it/s]"
      ]
     },
     "metadata": {},
     "output_type": "display_data"
    },
    {
     "name": "stdout",
     "output_type": "stream",
     "text": [
      "Computing cluster p-values\n",
      "Step-down-in-jumps iteration #1 found 2 clusters to exclude from subsequent iterations\n",
      "Permuting 9999 times...\n"
     ]
    },
    {
     "data": {
      "application/vnd.jupyter.widget-view+json": {
       "model_id": "0cdf7f37d202413a893595ad05b3bec7",
       "version_major": 2,
       "version_minor": 0
      },
      "text/plain": [
       "  0%|          |  : 0/9999 [00:00<?,       ?it/s]"
      ]
     },
     "metadata": {},
     "output_type": "display_data"
    },
    {
     "name": "stdout",
     "output_type": "stream",
     "text": [
      "Computing cluster p-values\n",
      "Step-down-in-jumps iteration #2 found 0 additional clusters to exclude from subsequent iterations\n",
      "Done.\n",
      "combining channels using \"mean\"\n"
     ]
    },
    {
     "name": "stderr",
     "output_type": "stream",
     "text": [
      "/tmp/ipykernel_77299/1377032869.py:156: UserWarning: This figure was using constrained_layout, but that is incompatible with subplots_adjust and/or tight_layout; disabling constrained_layout.\n",
      "  fig.tight_layout(pad=0.5)\n"
     ]
    },
    {
     "data": {
      "image/png": "[encoded data removed]",
      "text/plain": [
       "<Figure size 720x288 with 2 Axes>"
      ]
     },
     "metadata": {
      "needs_background": "light"
     },
     "output_type": "display_data"
    }
   ],
   "source": [
    "## Run cb-perm test to find intervall of interest:\n",
    "\n",
    "# get data - cropped to retention interval:\n",
    "times_full = evokeds['all'][0].times\n",
    "c_list = [evo.copy().crop(config.times_dict['stim_dur'],\n",
    "                          config.times_dict['stim_dur'] + config.times_dict['retention_dur'])\n",
    "          for evo in evokeds['all']]\n",
    "data = np.array([np.mean(c.data, axis=0) for c in c_list])\n",
    "times_cbp = c_list[0].times\n",
    "p_initial = 0.05\n",
    "p_thresh = 0.05\n",
    "n_perm = 10000\n",
    "# run cbp test:\n",
    "T_obs, clusters, cluster_p_values = run_cbp_test(data, p_initial=p_initial, p_thresh=p_thresh, n_perm=n_perm)\n",
    "\n",
    "#TODO: check if the following line can be removed or replace by extraction of sign cluster times\n",
    "# get times of strongest cluster:\n",
    "# cluster_times, _ = find_largest_cluster_times(clusters, times_cbp)\n",
    "\n",
    "# Plot the result:\n",
    "fig, axes = plt.subplots(2,1,figsize=(10,4), sharex=True, constrained_layout=True)\n",
    "plot_main_cda(axes[0], evokeds)\n",
    "axes[0].xaxis.label.set_visible(False)\n",
    "plot_cbp_result_cda(axes[1], T_obs, clusters, cluster_p_values, p_thresh, times_cbp, times_full)\n",
    "\n",
    "# Save it: \n",
    "fpath = op.join(config.paths['plots'], 'CDA', epo_part)\n",
    "helpers.chkmk_dir(fpath)\n",
    "fname = op.join(fpath, 'ERP_lateralized_sign_clusters_cbp.png')\n",
    "fig.savefig(fname, bbox_inches=\"tight\")\n"
   ]
  },
  {
   "cell_type": "markdown",
   "metadata": {},
   "source": [
    "We see two significant clusters: \n",
    "- 1 very early in the trial --> this is the PNP\n",
    "- 1 a bit later --> this is the CDA"
   ]
  },
  {
   "cell_type": "code",
   "execution_count": 11,
   "metadata": {},
   "outputs": [
    {
     "name": "stderr",
     "output_type": "stream",
     "text": [
      "WARNING:root:Overwriting old value of cda_cbp_2ndlvl_pval (0.05) with: .05\n",
      "WARNING:root:Overwriting old value of cda_sign_cluster_t_start (0.388) with: 388.000\n",
      "WARNING:root:Overwriting old value of cda_sign_cluster_t_end (1.088) with: 1088.000\n",
      "WARNING:root:Overwriting old value of pnp_sign_cluster_t_start (0.200) with: 200.000\n",
      "WARNING:root:Overwriting old value of pnp_sign_cluster_t_end (0.344) with: 344.000\n"
     ]
    }
   ],
   "source": [
    "# get CDA times:\n",
    "sign_cluster_idxs = np.where(cluster_p_values < p_thresh)[0]\n",
    "# pick second sign. cluster\n",
    "cda_times = times_cbp[clusters[sign_cluster_idxs[1]]]\n",
    "cda_info_dict = {'cda_sign_cluster_t_start': cda_times[0] * 1000,\n",
    "                 'cda_sign_cluster_t_end': cda_times[-1] * 1000,\n",
    "                 'cda_sign_cluster_pval': cluster_p_values[sign_cluster_idxs[1]]}\n",
    "\n",
    "# Extract vars:\n",
    "helpers.extract_var(\"cda_cbp_global_thresh_init\", p_initial)\n",
    "helpers.extract_var(\"cda_cbp_global_nperms\", n_perm, exp_format=\".0f\")\n",
    "helpers.extract_var(\"cda_cbp_2ndlvl_pval\", p_thresh, is_pval=True)\n",
    "for key in cda_info_dict:\n",
    "    is_pval = \"pval\" in key\n",
    "    helpers.extract_var(key, cda_info_dict[key], exp_format='.3f', is_pval=is_pval)\n",
    "\n",
    "# get PNP times:\n",
    "# pick first  sign. cluster\n",
    "pnp_times = times_cbp[clusters[sign_cluster_idxs[0]]]\n",
    "pnp_info_dict = {'pnp_sign_cluster_t_start': pnp_times[0] * 1000,\n",
    "                 'pnp_sign_cluster_t_end': pnp_times[-1] * 1000,\n",
    "                 'pnp_sign_cluster_pval': cluster_p_values[sign_cluster_idxs[0]]}\n",
    "\n",
    "# Extract vars:\n",
    "for key in pnp_info_dict:\n",
    "    is_pval = \"pval\" in key\n",
    "    helpers.extract_var(key, pnp_info_dict[key], exp_format='.3f', is_pval=is_pval)\n",
    "    "
   ]
  },
  {
   "cell_type": "markdown",
   "metadata": {},
   "source": [
    "### Save the mean amplitude data to CSV\n",
    "To run statistics in R, we export mean amplitudes to CSV.\n",
    "We do this twice:\n",
    "1. for a fixed time window that we take from the literature (CDA: [Hakim et al., 2019](https://doi.org/10.1177/0956797619830384); PNP: [Papaioannou & Luck, 2020](https://doi.org/10.1111/psyp.13532)).\n",
    "2. for a time window that we get in a data-driven fasion by running an agnostic cluster-based permutation test, identifying a time window where the difference wave is significantly different from 0 (across all conditions)."
   ]
  },
  {
   "cell_type": "code",
   "execution_count": 12,
   "metadata": {},
   "outputs": [
    {
     "name": "stdout",
     "output_type": "stream",
     "text": [
      "Reading VME_S01...\n"
     ]
    },
    {
     "name": "stderr",
     "output_type": "stream",
     "text": [
      "/tmp/ipykernel_77299/1377032869.py:331: FutureWarning: The frame.append method is deprecated and will be removed from pandas in a future version. Use pandas.concat instead.\n",
      "  mean_amp_df = mean_amp_df.append(df_)\n"
     ]
    },
    {
     "name": "stdout",
     "output_type": "stream",
     "text": [
      "Reading VME_S02...\n"
     ]
    },
    {
     "name": "stderr",
     "output_type": "stream",
     "text": [
      "/tmp/ipykernel_77299/1377032869.py:331: FutureWarning: The frame.append method is deprecated and will be removed from pandas in a future version. Use pandas.concat instead.\n",
      "  mean_amp_df = mean_amp_df.append(df_)\n"
     ]
    },
    {
     "name": "stdout",
     "output_type": "stream",
     "text": [
      "Reading VME_S03...\n"
     ]
    },
    {
     "name": "stderr",
     "output_type": "stream",
     "text": [
      "/tmp/ipykernel_77299/1377032869.py:331: FutureWarning: The frame.append method is deprecated and will be removed from pandas in a future version. Use pandas.concat instead.\n",
      "  mean_amp_df = mean_amp_df.append(df_)\n"
     ]
    },
    {
     "name": "stdout",
     "output_type": "stream",
     "text": [
      "Reading VME_S04...\n"
     ]
    },
    {
     "name": "stderr",
     "output_type": "stream",
     "text": [
      "/tmp/ipykernel_77299/1377032869.py:331: FutureWarning: The frame.append method is deprecated and will be removed from pandas in a future version. Use pandas.concat instead.\n",
      "  mean_amp_df = mean_amp_df.append(df_)\n"
     ]
    },
    {
     "name": "stdout",
     "output_type": "stream",
     "text": [
      "Reading VME_S05...\n"
     ]
    },
    {
     "name": "stderr",
     "output_type": "stream",
     "text": [
      "/tmp/ipykernel_77299/1377032869.py:331: FutureWarning: The frame.append method is deprecated and will be removed from pandas in a future version. Use pandas.concat instead.\n",
      "  mean_amp_df = mean_amp_df.append(df_)\n"
     ]
    },
    {
     "name": "stdout",
     "output_type": "stream",
     "text": [
      "Reading VME_S06...\n"
     ]
    },
    {
     "name": "stderr",
     "output_type": "stream",
     "text": [
      "/tmp/ipykernel_77299/1377032869.py:331: FutureWarning: The frame.append method is deprecated and will be removed from pandas in a future version. Use pandas.concat instead.\n",
      "  mean_amp_df = mean_amp_df.append(df_)\n"
     ]
    },
    {
     "name": "stdout",
     "output_type": "stream",
     "text": [
      "Reading VME_S07...\n"
     ]
    },
    {
     "name": "stderr",
     "output_type": "stream",
     "text": [
      "/tmp/ipykernel_77299/1377032869.py:331: FutureWarning: The frame.append method is deprecated and will be removed from pandas in a future version. Use pandas.concat instead.\n",
      "  mean_amp_df = mean_amp_df.append(df_)\n"
     ]
    },
    {
     "name": "stdout",
     "output_type": "stream",
     "text": [
      "Reading VME_S08...\n"
     ]
    },
    {
     "name": "stderr",
     "output_type": "stream",
     "text": [
      "/tmp/ipykernel_77299/1377032869.py:331: FutureWarning: The frame.append method is deprecated and will be removed from pandas in a future version. Use pandas.concat instead.\n",
      "  mean_amp_df = mean_amp_df.append(df_)\n"
     ]
    },
    {
     "name": "stdout",
     "output_type": "stream",
     "text": [
      "Reading VME_S09...\n"
     ]
    },
    {
     "name": "stderr",
     "output_type": "stream",
     "text": [
      "/tmp/ipykernel_77299/1377032869.py:331: FutureWarning: The frame.append method is deprecated and will be removed from pandas in a future version. Use pandas.concat instead.\n",
      "  mean_amp_df = mean_amp_df.append(df_)\n"
     ]
    },
    {
     "name": "stdout",
     "output_type": "stream",
     "text": [
      "Reading VME_S10...\n"
     ]
    },
    {
     "name": "stderr",
     "output_type": "stream",
     "text": [
      "/tmp/ipykernel_77299/1377032869.py:331: FutureWarning: The frame.append method is deprecated and will be removed from pandas in a future version. Use pandas.concat instead.\n",
      "  mean_amp_df = mean_amp_df.append(df_)\n"
     ]
    },
    {
     "name": "stdout",
     "output_type": "stream",
     "text": [
      "Reading VME_S15...\n"
     ]
    },
    {
     "name": "stderr",
     "output_type": "stream",
     "text": [
      "/tmp/ipykernel_77299/1377032869.py:331: FutureWarning: The frame.append method is deprecated and will be removed from pandas in a future version. Use pandas.concat instead.\n",
      "  mean_amp_df = mean_amp_df.append(df_)\n"
     ]
    },
    {
     "name": "stdout",
     "output_type": "stream",
     "text": [
      "Reading VME_S16...\n"
     ]
    },
    {
     "name": "stderr",
     "output_type": "stream",
     "text": [
      "/tmp/ipykernel_77299/1377032869.py:331: FutureWarning: The frame.append method is deprecated and will be removed from pandas in a future version. Use pandas.concat instead.\n",
      "  mean_amp_df = mean_amp_df.append(df_)\n"
     ]
    },
    {
     "name": "stdout",
     "output_type": "stream",
     "text": [
      "Reading VME_S17...\n"
     ]
    },
    {
     "name": "stderr",
     "output_type": "stream",
     "text": [
      "/tmp/ipykernel_77299/1377032869.py:331: FutureWarning: The frame.append method is deprecated and will be removed from pandas in a future version. Use pandas.concat instead.\n",
      "  mean_amp_df = mean_amp_df.append(df_)\n"
     ]
    },
    {
     "name": "stdout",
     "output_type": "stream",
     "text": [
      "Reading VME_S18...\n"
     ]
    },
    {
     "name": "stderr",
     "output_type": "stream",
     "text": [
      "/tmp/ipykernel_77299/1377032869.py:331: FutureWarning: The frame.append method is deprecated and will be removed from pandas in a future version. Use pandas.concat instead.\n",
      "  mean_amp_df = mean_amp_df.append(df_)\n"
     ]
    },
    {
     "name": "stdout",
     "output_type": "stream",
     "text": [
      "Reading VME_S20...\n"
     ]
    },
    {
     "name": "stderr",
     "output_type": "stream",
     "text": [
      "/tmp/ipykernel_77299/1377032869.py:331: FutureWarning: The frame.append method is deprecated and will be removed from pandas in a future version. Use pandas.concat instead.\n",
      "  mean_amp_df = mean_amp_df.append(df_)\n"
     ]
    },
    {
     "name": "stdout",
     "output_type": "stream",
     "text": [
      "Reading VME_S21...\n"
     ]
    },
    {
     "name": "stderr",
     "output_type": "stream",
     "text": [
      "/tmp/ipykernel_77299/1377032869.py:331: FutureWarning: The frame.append method is deprecated and will be removed from pandas in a future version. Use pandas.concat instead.\n",
      "  mean_amp_df = mean_amp_df.append(df_)\n"
     ]
    },
    {
     "name": "stdout",
     "output_type": "stream",
     "text": [
      "Reading VME_S23...\n"
     ]
    },
    {
     "name": "stderr",
     "output_type": "stream",
     "text": [
      "/tmp/ipykernel_77299/1377032869.py:331: FutureWarning: The frame.append method is deprecated and will be removed from pandas in a future version. Use pandas.concat instead.\n",
      "  mean_amp_df = mean_amp_df.append(df_)\n"
     ]
    },
    {
     "name": "stdout",
     "output_type": "stream",
     "text": [
      "Reading VME_S24...\n"
     ]
    },
    {
     "name": "stderr",
     "output_type": "stream",
     "text": [
      "/tmp/ipykernel_77299/1377032869.py:331: FutureWarning: The frame.append method is deprecated and will be removed from pandas in a future version. Use pandas.concat instead.\n",
      "  mean_amp_df = mean_amp_df.append(df_)\n"
     ]
    },
    {
     "name": "stdout",
     "output_type": "stream",
     "text": [
      "Reading VME_S25...\n"
     ]
    },
    {
     "name": "stderr",
     "output_type": "stream",
     "text": [
      "/tmp/ipykernel_77299/1377032869.py:331: FutureWarning: The frame.append method is deprecated and will be removed from pandas in a future version. Use pandas.concat instead.\n",
      "  mean_amp_df = mean_amp_df.append(df_)\n"
     ]
    },
    {
     "name": "stdout",
     "output_type": "stream",
     "text": [
      "Reading VME_S26...\n"
     ]
    },
    {
     "name": "stderr",
     "output_type": "stream",
     "text": [
      "/tmp/ipykernel_77299/1377032869.py:331: FutureWarning: The frame.append method is deprecated and will be removed from pandas in a future version. Use pandas.concat instead.\n",
      "  mean_amp_df = mean_amp_df.append(df_)\n"
     ]
    },
    {
     "name": "stdout",
     "output_type": "stream",
     "text": [
      "Reading VME_S27...\n"
     ]
    },
    {
     "name": "stderr",
     "output_type": "stream",
     "text": [
      "/tmp/ipykernel_77299/1377032869.py:331: FutureWarning: The frame.append method is deprecated and will be removed from pandas in a future version. Use pandas.concat instead.\n",
      "  mean_amp_df = mean_amp_df.append(df_)\n"
     ]
    },
    {
     "name": "stdout",
     "output_type": "stream",
     "text": [
      "Reading VME_S01...\n"
     ]
    },
    {
     "name": "stderr",
     "output_type": "stream",
     "text": [
      "/tmp/ipykernel_77299/1377032869.py:331: FutureWarning: The frame.append method is deprecated and will be removed from pandas in a future version. Use pandas.concat instead.\n",
      "  mean_amp_df = mean_amp_df.append(df_)\n"
     ]
    },
    {
     "name": "stdout",
     "output_type": "stream",
     "text": [
      "Reading VME_S02...\n"
     ]
    },
    {
     "name": "stderr",
     "output_type": "stream",
     "text": [
      "/tmp/ipykernel_77299/1377032869.py:331: FutureWarning: The frame.append method is deprecated and will be removed from pandas in a future version. Use pandas.concat instead.\n",
      "  mean_amp_df = mean_amp_df.append(df_)\n"
     ]
    },
    {
     "name": "stdout",
     "output_type": "stream",
     "text": [
      "Reading VME_S03...\n"
     ]
    },
    {
     "name": "stderr",
     "output_type": "stream",
     "text": [
      "/tmp/ipykernel_77299/1377032869.py:331: FutureWarning: The frame.append method is deprecated and will be removed from pandas in a future version. Use pandas.concat instead.\n",
      "  mean_amp_df = mean_amp_df.append(df_)\n"
     ]
    },
    {
     "name": "stdout",
     "output_type": "stream",
     "text": [
      "Reading VME_S04...\n"
     ]
    },
    {
     "name": "stderr",
     "output_type": "stream",
     "text": [
      "/tmp/ipykernel_77299/1377032869.py:331: FutureWarning: The frame.append method is deprecated and will be removed from pandas in a future version. Use pandas.concat instead.\n",
      "  mean_amp_df = mean_amp_df.append(df_)\n"
     ]
    },
    {
     "name": "stdout",
     "output_type": "stream",
     "text": [
      "Reading VME_S05...\n"
     ]
    },
    {
     "name": "stderr",
     "output_type": "stream",
     "text": [
      "/tmp/ipykernel_77299/1377032869.py:331: FutureWarning: The frame.append method is deprecated and will be removed from pandas in a future version. Use pandas.concat instead.\n",
      "  mean_amp_df = mean_amp_df.append(df_)\n"
     ]
    },
    {
     "name": "stdout",
     "output_type": "stream",
     "text": [
      "Reading VME_S06...\n"
     ]
    },
    {
     "name": "stderr",
     "output_type": "stream",
     "text": [
      "/tmp/ipykernel_77299/1377032869.py:331: FutureWarning: The frame.append method is deprecated and will be removed from pandas in a future version. Use pandas.concat instead.\n",
      "  mean_amp_df = mean_amp_df.append(df_)\n"
     ]
    },
    {
     "name": "stdout",
     "output_type": "stream",
     "text": [
      "Reading VME_S07...\n"
     ]
    },
    {
     "name": "stderr",
     "output_type": "stream",
     "text": [
      "/tmp/ipykernel_77299/1377032869.py:331: FutureWarning: The frame.append method is deprecated and will be removed from pandas in a future version. Use pandas.concat instead.\n",
      "  mean_amp_df = mean_amp_df.append(df_)\n"
     ]
    },
    {
     "name": "stdout",
     "output_type": "stream",
     "text": [
      "Reading VME_S08...\n"
     ]
    },
    {
     "name": "stderr",
     "output_type": "stream",
     "text": [
      "/tmp/ipykernel_77299/1377032869.py:331: FutureWarning: The frame.append method is deprecated and will be removed from pandas in a future version. Use pandas.concat instead.\n",
      "  mean_amp_df = mean_amp_df.append(df_)\n"
     ]
    },
    {
     "name": "stdout",
     "output_type": "stream",
     "text": [
      "Reading VME_S09...\n"
     ]
    },
    {
     "name": "stderr",
     "output_type": "stream",
     "text": [
      "/tmp/ipykernel_77299/1377032869.py:331: FutureWarning: The frame.append method is deprecated and will be removed from pandas in a future version. Use pandas.concat instead.\n",
      "  mean_amp_df = mean_amp_df.append(df_)\n"
     ]
    },
    {
     "name": "stdout",
     "output_type": "stream",
     "text": [
      "Reading VME_S10...\n"
     ]
    },
    {
     "name": "stderr",
     "output_type": "stream",
     "text": [
      "/tmp/ipykernel_77299/1377032869.py:331: FutureWarning: The frame.append method is deprecated and will be removed from pandas in a future version. Use pandas.concat instead.\n",
      "  mean_amp_df = mean_amp_df.append(df_)\n"
     ]
    },
    {
     "name": "stdout",
     "output_type": "stream",
     "text": [
      "Reading VME_S15...\n"
     ]
    },
    {
     "name": "stderr",
     "output_type": "stream",
     "text": [
      "/tmp/ipykernel_77299/1377032869.py:331: FutureWarning: The frame.append method is deprecated and will be removed from pandas in a future version. Use pandas.concat instead.\n",
      "  mean_amp_df = mean_amp_df.append(df_)\n"
     ]
    },
    {
     "name": "stdout",
     "output_type": "stream",
     "text": [
      "Reading VME_S16...\n"
     ]
    },
    {
     "name": "stderr",
     "output_type": "stream",
     "text": [
      "/tmp/ipykernel_77299/1377032869.py:331: FutureWarning: The frame.append method is deprecated and will be removed from pandas in a future version. Use pandas.concat instead.\n",
      "  mean_amp_df = mean_amp_df.append(df_)\n"
     ]
    },
    {
     "name": "stdout",
     "output_type": "stream",
     "text": [
      "Reading VME_S17...\n"
     ]
    },
    {
     "name": "stderr",
     "output_type": "stream",
     "text": [
      "/tmp/ipykernel_77299/1377032869.py:331: FutureWarning: The frame.append method is deprecated and will be removed from pandas in a future version. Use pandas.concat instead.\n",
      "  mean_amp_df = mean_amp_df.append(df_)\n"
     ]
    },
    {
     "name": "stdout",
     "output_type": "stream",
     "text": [
      "Reading VME_S18...\n"
     ]
    },
    {
     "name": "stderr",
     "output_type": "stream",
     "text": [
      "/tmp/ipykernel_77299/1377032869.py:331: FutureWarning: The frame.append method is deprecated and will be removed from pandas in a future version. Use pandas.concat instead.\n",
      "  mean_amp_df = mean_amp_df.append(df_)\n"
     ]
    },
    {
     "name": "stdout",
     "output_type": "stream",
     "text": [
      "Reading VME_S20...\n"
     ]
    },
    {
     "name": "stderr",
     "output_type": "stream",
     "text": [
      "/tmp/ipykernel_77299/1377032869.py:331: FutureWarning: The frame.append method is deprecated and will be removed from pandas in a future version. Use pandas.concat instead.\n",
      "  mean_amp_df = mean_amp_df.append(df_)\n"
     ]
    },
    {
     "name": "stdout",
     "output_type": "stream",
     "text": [
      "Reading VME_S21...\n"
     ]
    },
    {
     "name": "stderr",
     "output_type": "stream",
     "text": [
      "/tmp/ipykernel_77299/1377032869.py:331: FutureWarning: The frame.append method is deprecated and will be removed from pandas in a future version. Use pandas.concat instead.\n",
      "  mean_amp_df = mean_amp_df.append(df_)\n"
     ]
    },
    {
     "name": "stdout",
     "output_type": "stream",
     "text": [
      "Reading VME_S23...\n"
     ]
    },
    {
     "name": "stderr",
     "output_type": "stream",
     "text": [
      "/tmp/ipykernel_77299/1377032869.py:331: FutureWarning: The frame.append method is deprecated and will be removed from pandas in a future version. Use pandas.concat instead.\n",
      "  mean_amp_df = mean_amp_df.append(df_)\n"
     ]
    },
    {
     "name": "stdout",
     "output_type": "stream",
     "text": [
      "Reading VME_S24...\n"
     ]
    },
    {
     "name": "stderr",
     "output_type": "stream",
     "text": [
      "/tmp/ipykernel_77299/1377032869.py:331: FutureWarning: The frame.append method is deprecated and will be removed from pandas in a future version. Use pandas.concat instead.\n",
      "  mean_amp_df = mean_amp_df.append(df_)\n"
     ]
    },
    {
     "name": "stdout",
     "output_type": "stream",
     "text": [
      "Reading VME_S25...\n"
     ]
    },
    {
     "name": "stderr",
     "output_type": "stream",
     "text": [
      "/tmp/ipykernel_77299/1377032869.py:331: FutureWarning: The frame.append method is deprecated and will be removed from pandas in a future version. Use pandas.concat instead.\n",
      "  mean_amp_df = mean_amp_df.append(df_)\n"
     ]
    },
    {
     "name": "stdout",
     "output_type": "stream",
     "text": [
      "Reading VME_S26...\n"
     ]
    },
    {
     "name": "stderr",
     "output_type": "stream",
     "text": [
      "/tmp/ipykernel_77299/1377032869.py:331: FutureWarning: The frame.append method is deprecated and will be removed from pandas in a future version. Use pandas.concat instead.\n",
      "  mean_amp_df = mean_amp_df.append(df_)\n"
     ]
    },
    {
     "name": "stdout",
     "output_type": "stream",
     "text": [
      "Reading VME_S27...\n"
     ]
    },
    {
     "name": "stderr",
     "output_type": "stream",
     "text": [
      "/tmp/ipykernel_77299/1377032869.py:331: FutureWarning: The frame.append method is deprecated and will be removed from pandas in a future version. Use pandas.concat instead.\n",
      "  mean_amp_df = mean_amp_df.append(df_)\n"
     ]
    },
    {
     "name": "stdout",
     "output_type": "stream",
     "text": [
      "Reading VME_S01...\n"
     ]
    },
    {
     "name": "stderr",
     "output_type": "stream",
     "text": [
      "/tmp/ipykernel_77299/1377032869.py:331: FutureWarning: The frame.append method is deprecated and will be removed from pandas in a future version. Use pandas.concat instead.\n",
      "  mean_amp_df = mean_amp_df.append(df_)\n"
     ]
    },
    {
     "name": "stdout",
     "output_type": "stream",
     "text": [
      "Reading VME_S02...\n"
     ]
    },
    {
     "name": "stderr",
     "output_type": "stream",
     "text": [
      "/tmp/ipykernel_77299/1377032869.py:331: FutureWarning: The frame.append method is deprecated and will be removed from pandas in a future version. Use pandas.concat instead.\n",
      "  mean_amp_df = mean_amp_df.append(df_)\n"
     ]
    },
    {
     "name": "stdout",
     "output_type": "stream",
     "text": [
      "Reading VME_S03...\n"
     ]
    },
    {
     "name": "stderr",
     "output_type": "stream",
     "text": [
      "/tmp/ipykernel_77299/1377032869.py:331: FutureWarning: The frame.append method is deprecated and will be removed from pandas in a future version. Use pandas.concat instead.\n",
      "  mean_amp_df = mean_amp_df.append(df_)\n"
     ]
    },
    {
     "name": "stdout",
     "output_type": "stream",
     "text": [
      "Reading VME_S04...\n"
     ]
    },
    {
     "name": "stderr",
     "output_type": "stream",
     "text": [
      "/tmp/ipykernel_77299/1377032869.py:331: FutureWarning: The frame.append method is deprecated and will be removed from pandas in a future version. Use pandas.concat instead.\n",
      "  mean_amp_df = mean_amp_df.append(df_)\n"
     ]
    },
    {
     "name": "stdout",
     "output_type": "stream",
     "text": [
      "Reading VME_S05...\n"
     ]
    },
    {
     "name": "stderr",
     "output_type": "stream",
     "text": [
      "/tmp/ipykernel_77299/1377032869.py:331: FutureWarning: The frame.append method is deprecated and will be removed from pandas in a future version. Use pandas.concat instead.\n",
      "  mean_amp_df = mean_amp_df.append(df_)\n"
     ]
    },
    {
     "name": "stdout",
     "output_type": "stream",
     "text": [
      "Reading VME_S06...\n"
     ]
    },
    {
     "name": "stderr",
     "output_type": "stream",
     "text": [
      "/tmp/ipykernel_77299/1377032869.py:331: FutureWarning: The frame.append method is deprecated and will be removed from pandas in a future version. Use pandas.concat instead.\n",
      "  mean_amp_df = mean_amp_df.append(df_)\n"
     ]
    },
    {
     "name": "stdout",
     "output_type": "stream",
     "text": [
      "Reading VME_S07...\n"
     ]
    },
    {
     "name": "stderr",
     "output_type": "stream",
     "text": [
      "/tmp/ipykernel_77299/1377032869.py:331: FutureWarning: The frame.append method is deprecated and will be removed from pandas in a future version. Use pandas.concat instead.\n",
      "  mean_amp_df = mean_amp_df.append(df_)\n"
     ]
    },
    {
     "name": "stdout",
     "output_type": "stream",
     "text": [
      "Reading VME_S08...\n"
     ]
    },
    {
     "name": "stderr",
     "output_type": "stream",
     "text": [
      "/tmp/ipykernel_77299/1377032869.py:331: FutureWarning: The frame.append method is deprecated and will be removed from pandas in a future version. Use pandas.concat instead.\n",
      "  mean_amp_df = mean_amp_df.append(df_)\n"
     ]
    },
    {
     "name": "stdout",
     "output_type": "stream",
     "text": [
      "Reading VME_S09...\n"
     ]
    },
    {
     "name": "stderr",
     "output_type": "stream",
     "text": [
      "/tmp/ipykernel_77299/1377032869.py:331: FutureWarning: The frame.append method is deprecated and will be removed from pandas in a future version. Use pandas.concat instead.\n",
      "  mean_amp_df = mean_amp_df.append(df_)\n"
     ]
    },
    {
     "name": "stdout",
     "output_type": "stream",
     "text": [
      "Reading VME_S10...\n"
     ]
    },
    {
     "name": "stderr",
     "output_type": "stream",
     "text": [
      "/tmp/ipykernel_77299/1377032869.py:331: FutureWarning: The frame.append method is deprecated and will be removed from pandas in a future version. Use pandas.concat instead.\n",
      "  mean_amp_df = mean_amp_df.append(df_)\n"
     ]
    },
    {
     "name": "stdout",
     "output_type": "stream",
     "text": [
      "Reading VME_S15...\n"
     ]
    },
    {
     "name": "stderr",
     "output_type": "stream",
     "text": [
      "/tmp/ipykernel_77299/1377032869.py:331: FutureWarning: The frame.append method is deprecated and will be removed from pandas in a future version. Use pandas.concat instead.\n",
      "  mean_amp_df = mean_amp_df.append(df_)\n"
     ]
    },
    {
     "name": "stdout",
     "output_type": "stream",
     "text": [
      "Reading VME_S16...\n"
     ]
    },
    {
     "name": "stderr",
     "output_type": "stream",
     "text": [
      "/tmp/ipykernel_77299/1377032869.py:331: FutureWarning: The frame.append method is deprecated and will be removed from pandas in a future version. Use pandas.concat instead.\n",
      "  mean_amp_df = mean_amp_df.append(df_)\n"
     ]
    },
    {
     "name": "stdout",
     "output_type": "stream",
     "text": [
      "Reading VME_S17...\n"
     ]
    },
    {
     "name": "stderr",
     "output_type": "stream",
     "text": [
      "/tmp/ipykernel_77299/1377032869.py:331: FutureWarning: The frame.append method is deprecated and will be removed from pandas in a future version. Use pandas.concat instead.\n",
      "  mean_amp_df = mean_amp_df.append(df_)\n"
     ]
    },
    {
     "name": "stdout",
     "output_type": "stream",
     "text": [
      "Reading VME_S18...\n"
     ]
    },
    {
     "name": "stderr",
     "output_type": "stream",
     "text": [
      "/tmp/ipykernel_77299/1377032869.py:331: FutureWarning: The frame.append method is deprecated and will be removed from pandas in a future version. Use pandas.concat instead.\n",
      "  mean_amp_df = mean_amp_df.append(df_)\n"
     ]
    },
    {
     "name": "stdout",
     "output_type": "stream",
     "text": [
      "Reading VME_S20...\n"
     ]
    },
    {
     "name": "stderr",
     "output_type": "stream",
     "text": [
      "/tmp/ipykernel_77299/1377032869.py:331: FutureWarning: The frame.append method is deprecated and will be removed from pandas in a future version. Use pandas.concat instead.\n",
      "  mean_amp_df = mean_amp_df.append(df_)\n"
     ]
    },
    {
     "name": "stdout",
     "output_type": "stream",
     "text": [
      "Reading VME_S21...\n"
     ]
    },
    {
     "name": "stderr",
     "output_type": "stream",
     "text": [
      "/tmp/ipykernel_77299/1377032869.py:331: FutureWarning: The frame.append method is deprecated and will be removed from pandas in a future version. Use pandas.concat instead.\n",
      "  mean_amp_df = mean_amp_df.append(df_)\n"
     ]
    },
    {
     "name": "stdout",
     "output_type": "stream",
     "text": [
      "Reading VME_S23...\n"
     ]
    },
    {
     "name": "stderr",
     "output_type": "stream",
     "text": [
      "/tmp/ipykernel_77299/1377032869.py:331: FutureWarning: The frame.append method is deprecated and will be removed from pandas in a future version. Use pandas.concat instead.\n",
      "  mean_amp_df = mean_amp_df.append(df_)\n"
     ]
    },
    {
     "name": "stdout",
     "output_type": "stream",
     "text": [
      "Reading VME_S24...\n"
     ]
    },
    {
     "name": "stderr",
     "output_type": "stream",
     "text": [
      "/tmp/ipykernel_77299/1377032869.py:331: FutureWarning: The frame.append method is deprecated and will be removed from pandas in a future version. Use pandas.concat instead.\n",
      "  mean_amp_df = mean_amp_df.append(df_)\n"
     ]
    },
    {
     "name": "stdout",
     "output_type": "stream",
     "text": [
      "Reading VME_S25...\n"
     ]
    },
    {
     "name": "stderr",
     "output_type": "stream",
     "text": [
      "/tmp/ipykernel_77299/1377032869.py:331: FutureWarning: The frame.append method is deprecated and will be removed from pandas in a future version. Use pandas.concat instead.\n",
      "  mean_amp_df = mean_amp_df.append(df_)\n"
     ]
    },
    {
     "name": "stdout",
     "output_type": "stream",
     "text": [
      "Reading VME_S26...\n"
     ]
    },
    {
     "name": "stderr",
     "output_type": "stream",
     "text": [
      "/tmp/ipykernel_77299/1377032869.py:331: FutureWarning: The frame.append method is deprecated and will be removed from pandas in a future version. Use pandas.concat instead.\n",
      "  mean_amp_df = mean_amp_df.append(df_)\n"
     ]
    },
    {
     "name": "stdout",
     "output_type": "stream",
     "text": [
      "Reading VME_S27...\n"
     ]
    },
    {
     "name": "stderr",
     "output_type": "stream",
     "text": [
      "/tmp/ipykernel_77299/1377032869.py:331: FutureWarning: The frame.append method is deprecated and will be removed from pandas in a future version. Use pandas.concat instead.\n",
      "  mean_amp_df = mean_amp_df.append(df_)\n"
     ]
    },
    {
     "name": "stdout",
     "output_type": "stream",
     "text": [
      "Reading VME_S01...\n"
     ]
    },
    {
     "name": "stderr",
     "output_type": "stream",
     "text": [
      "/tmp/ipykernel_77299/1377032869.py:331: FutureWarning: The frame.append method is deprecated and will be removed from pandas in a future version. Use pandas.concat instead.\n",
      "  mean_amp_df = mean_amp_df.append(df_)\n"
     ]
    },
    {
     "name": "stdout",
     "output_type": "stream",
     "text": [
      "Reading VME_S02...\n"
     ]
    },
    {
     "name": "stderr",
     "output_type": "stream",
     "text": [
      "/tmp/ipykernel_77299/1377032869.py:331: FutureWarning: The frame.append method is deprecated and will be removed from pandas in a future version. Use pandas.concat instead.\n",
      "  mean_amp_df = mean_amp_df.append(df_)\n"
     ]
    },
    {
     "name": "stdout",
     "output_type": "stream",
     "text": [
      "Reading VME_S03...\n"
     ]
    },
    {
     "name": "stderr",
     "output_type": "stream",
     "text": [
      "/tmp/ipykernel_77299/1377032869.py:331: FutureWarning: The frame.append method is deprecated and will be removed from pandas in a future version. Use pandas.concat instead.\n",
      "  mean_amp_df = mean_amp_df.append(df_)\n"
     ]
    },
    {
     "name": "stdout",
     "output_type": "stream",
     "text": [
      "Reading VME_S04...\n"
     ]
    },
    {
     "name": "stderr",
     "output_type": "stream",
     "text": [
      "/tmp/ipykernel_77299/1377032869.py:331: FutureWarning: The frame.append method is deprecated and will be removed from pandas in a future version. Use pandas.concat instead.\n",
      "  mean_amp_df = mean_amp_df.append(df_)\n"
     ]
    },
    {
     "name": "stdout",
     "output_type": "stream",
     "text": [
      "Reading VME_S05...\n"
     ]
    },
    {
     "name": "stderr",
     "output_type": "stream",
     "text": [
      "/tmp/ipykernel_77299/1377032869.py:331: FutureWarning: The frame.append method is deprecated and will be removed from pandas in a future version. Use pandas.concat instead.\n",
      "  mean_amp_df = mean_amp_df.append(df_)\n"
     ]
    },
    {
     "name": "stdout",
     "output_type": "stream",
     "text": [
      "Reading VME_S06...\n"
     ]
    },
    {
     "name": "stderr",
     "output_type": "stream",
     "text": [
      "/tmp/ipykernel_77299/1377032869.py:331: FutureWarning: The frame.append method is deprecated and will be removed from pandas in a future version. Use pandas.concat instead.\n",
      "  mean_amp_df = mean_amp_df.append(df_)\n"
     ]
    },
    {
     "name": "stdout",
     "output_type": "stream",
     "text": [
      "Reading VME_S07...\n"
     ]
    },
    {
     "name": "stderr",
     "output_type": "stream",
     "text": [
      "/tmp/ipykernel_77299/1377032869.py:331: FutureWarning: The frame.append method is deprecated and will be removed from pandas in a future version. Use pandas.concat instead.\n",
      "  mean_amp_df = mean_amp_df.append(df_)\n"
     ]
    },
    {
     "name": "stdout",
     "output_type": "stream",
     "text": [
      "Reading VME_S08...\n"
     ]
    },
    {
     "name": "stderr",
     "output_type": "stream",
     "text": [
      "/tmp/ipykernel_77299/1377032869.py:331: FutureWarning: The frame.append method is deprecated and will be removed from pandas in a future version. Use pandas.concat instead.\n",
      "  mean_amp_df = mean_amp_df.append(df_)\n"
     ]
    },
    {
     "name": "stdout",
     "output_type": "stream",
     "text": [
      "Reading VME_S09...\n"
     ]
    },
    {
     "name": "stderr",
     "output_type": "stream",
     "text": [
      "/tmp/ipykernel_77299/1377032869.py:331: FutureWarning: The frame.append method is deprecated and will be removed from pandas in a future version. Use pandas.concat instead.\n",
      "  mean_amp_df = mean_amp_df.append(df_)\n"
     ]
    },
    {
     "name": "stdout",
     "output_type": "stream",
     "text": [
      "Reading VME_S10...\n"
     ]
    },
    {
     "name": "stderr",
     "output_type": "stream",
     "text": [
      "/tmp/ipykernel_77299/1377032869.py:331: FutureWarning: The frame.append method is deprecated and will be removed from pandas in a future version. Use pandas.concat instead.\n",
      "  mean_amp_df = mean_amp_df.append(df_)\n"
     ]
    },
    {
     "name": "stdout",
     "output_type": "stream",
     "text": [
      "Reading VME_S15...\n"
     ]
    },
    {
     "name": "stderr",
     "output_type": "stream",
     "text": [
      "/tmp/ipykernel_77299/1377032869.py:331: FutureWarning: The frame.append method is deprecated and will be removed from pandas in a future version. Use pandas.concat instead.\n",
      "  mean_amp_df = mean_amp_df.append(df_)\n"
     ]
    },
    {
     "name": "stdout",
     "output_type": "stream",
     "text": [
      "Reading VME_S16...\n"
     ]
    },
    {
     "name": "stderr",
     "output_type": "stream",
     "text": [
      "/tmp/ipykernel_77299/1377032869.py:331: FutureWarning: The frame.append method is deprecated and will be removed from pandas in a future version. Use pandas.concat instead.\n",
      "  mean_amp_df = mean_amp_df.append(df_)\n"
     ]
    },
    {
     "name": "stdout",
     "output_type": "stream",
     "text": [
      "Reading VME_S17...\n"
     ]
    },
    {
     "name": "stderr",
     "output_type": "stream",
     "text": [
      "/tmp/ipykernel_77299/1377032869.py:331: FutureWarning: The frame.append method is deprecated and will be removed from pandas in a future version. Use pandas.concat instead.\n",
      "  mean_amp_df = mean_amp_df.append(df_)\n"
     ]
    },
    {
     "name": "stdout",
     "output_type": "stream",
     "text": [
      "Reading VME_S18...\n"
     ]
    },
    {
     "name": "stderr",
     "output_type": "stream",
     "text": [
      "/tmp/ipykernel_77299/1377032869.py:331: FutureWarning: The frame.append method is deprecated and will be removed from pandas in a future version. Use pandas.concat instead.\n",
      "  mean_amp_df = mean_amp_df.append(df_)\n"
     ]
    },
    {
     "name": "stdout",
     "output_type": "stream",
     "text": [
      "Reading VME_S20...\n"
     ]
    },
    {
     "name": "stderr",
     "output_type": "stream",
     "text": [
      "/tmp/ipykernel_77299/1377032869.py:331: FutureWarning: The frame.append method is deprecated and will be removed from pandas in a future version. Use pandas.concat instead.\n",
      "  mean_amp_df = mean_amp_df.append(df_)\n"
     ]
    },
    {
     "name": "stdout",
     "output_type": "stream",
     "text": [
      "Reading VME_S21...\n"
     ]
    },
    {
     "name": "stderr",
     "output_type": "stream",
     "text": [
      "/tmp/ipykernel_77299/1377032869.py:331: FutureWarning: The frame.append method is deprecated and will be removed from pandas in a future version. Use pandas.concat instead.\n",
      "  mean_amp_df = mean_amp_df.append(df_)\n"
     ]
    },
    {
     "name": "stdout",
     "output_type": "stream",
     "text": [
      "Reading VME_S23...\n"
     ]
    },
    {
     "name": "stderr",
     "output_type": "stream",
     "text": [
      "/tmp/ipykernel_77299/1377032869.py:331: FutureWarning: The frame.append method is deprecated and will be removed from pandas in a future version. Use pandas.concat instead.\n",
      "  mean_amp_df = mean_amp_df.append(df_)\n"
     ]
    },
    {
     "name": "stdout",
     "output_type": "stream",
     "text": [
      "Reading VME_S24...\n"
     ]
    },
    {
     "name": "stderr",
     "output_type": "stream",
     "text": [
      "/tmp/ipykernel_77299/1377032869.py:331: FutureWarning: The frame.append method is deprecated and will be removed from pandas in a future version. Use pandas.concat instead.\n",
      "  mean_amp_df = mean_amp_df.append(df_)\n"
     ]
    },
    {
     "name": "stdout",
     "output_type": "stream",
     "text": [
      "Reading VME_S25...\n"
     ]
    },
    {
     "name": "stderr",
     "output_type": "stream",
     "text": [
      "/tmp/ipykernel_77299/1377032869.py:331: FutureWarning: The frame.append method is deprecated and will be removed from pandas in a future version. Use pandas.concat instead.\n",
      "  mean_amp_df = mean_amp_df.append(df_)\n"
     ]
    },
    {
     "name": "stdout",
     "output_type": "stream",
     "text": [
      "Reading VME_S26...\n"
     ]
    },
    {
     "name": "stderr",
     "output_type": "stream",
     "text": [
      "/tmp/ipykernel_77299/1377032869.py:331: FutureWarning: The frame.append method is deprecated and will be removed from pandas in a future version. Use pandas.concat instead.\n",
      "  mean_amp_df = mean_amp_df.append(df_)\n"
     ]
    },
    {
     "name": "stdout",
     "output_type": "stream",
     "text": [
      "Reading VME_S27...\n"
     ]
    },
    {
     "name": "stderr",
     "output_type": "stream",
     "text": [
      "/tmp/ipykernel_77299/1377032869.py:331: FutureWarning: The frame.append method is deprecated and will be removed from pandas in a future version. Use pandas.concat instead.\n",
      "  mean_amp_df = mean_amp_df.append(df_)\n"
     ]
    }
   ],
   "source": [
    "# CDA\n",
    "## fixed time window:\n",
    "dff = allsubjects_mean_amp_to_df(sub_list, 'stimon', config.chans_CDA_dict['Left'], 0.45, 1.45, 'CDA')\n",
    "fpath = op.join(config.paths['04_evokeds-CDA'], 'summaries', 'fixed_times')\n",
    "helpers.chkmk_dir(fpath)\n",
    "fname = op.join(fpath, \"allsubjects-mean_amp_CDA.csv\")\n",
    "dff.to_csv(fname, float_format=\"%.15f\")\n",
    "\n",
    "## data driven window\n",
    "dff = allsubjects_mean_amp_to_df(sub_list, 'stimon', config.chans_CDA_dict['Left'],\n",
    "                                 cda_times[0], cda_times[-1], 'CDA')\n",
    "dff.groupby('c_StimN').mean() \n",
    "fpath = op.join(config.paths['04_evokeds-CDA'], 'summaries', 'cluster_times')\n",
    "helpers.chkmk_dir(fpath)\n",
    "fname = op.join(fpath, \"allsubjects-mean_amp_CDA.csv\")\n",
    "dff.to_csv(fname, float_format=\"%.15f\")\n",
    "\n",
    "# PNP\n",
    "## fixed time window:\n",
    "dff = allsubjects_mean_amp_to_df(sub_list, 'stimon', config.chans_CDA_dict['Left'], 0.300, 0.444, 'PNP')\n",
    "fpath = op.join(config.paths['04_evokeds-PNP'], 'summaries', 'fixed_times')\n",
    "helpers.chkmk_dir(fpath)\n",
    "fname = op.join(fpath, \"allsubjects-mean_amp_PNP.csv\")\n",
    "dff.to_csv(fname, float_format=\"%.15f\")\n",
    "\n",
    "## data driven window\n",
    "dff = allsubjects_mean_amp_to_df(sub_list, 'stimon', config.chans_CDA_dict['Left'],\n",
    "                                 pnp_times[0], pnp_times[-1], 'PNP')\n",
    "fpath = op.join(config.paths['04_evokeds-PNP'], 'summaries', 'cluster_times')\n",
    "helpers.chkmk_dir(fpath)\n",
    "fname = op.join(fpath, \"allsubjects-mean_amp_PNP.csv\")\n",
    "dff.to_csv(fname, float_format=\"%.15f\")\n"
   ]
  },
  {
   "cell_type": "code",
   "execution_count": 82,
   "metadata": {},
   "outputs": [
    {
     "name": "stdout",
     "output_type": "stream",
     "text": [
      "combining channels using \"mean\"\n",
      "combining channels using \"mean\"\n"
     ]
    },
    {
     "data": {
      "image/png": "[encoded data removed]",
      "text/plain": [
       "<Figure size 187.087x141.732 with 1 Axes>"
      ]
     },
     "metadata": {
      "needs_background": "light"
     },
     "output_type": "display_data"
    }
   ],
   "source": [
    "# Plot main effect load:\n",
    "cm = 1/2.54\n",
    "fig, ax = plt.subplots(1,1,figsize=(6.6*cm,5*cm))\n",
    "ha = plot_main_effect_load(evokeds, ax)\n",
    "plt.show()"
   ]
  },
  {
   "cell_type": "code",
   "execution_count": 84,
   "metadata": {},
   "outputs": [
    {
     "data": {
      "text/plain": [
       "'DejaVu Sans'"
      ]
     },
     "execution_count": 84,
     "metadata": {},
     "output_type": "execute_result"
    }
   ],
   "source": [
    "labs = ax.get_yticklabels()\n",
    "labs[0].get_fontname()"
   ]
  },
  {
   "cell_type": "code",
   "execution_count": 81,
   "metadata": {},
   "outputs": [
    {
     "name": "stdout",
     "output_type": "stream",
     "text": [
      "combining channels using \"mean\"\n",
      "combining channels using \"mean\"\n"
     ]
    },
    {
     "data": {
      "image/png": "[encoded data removed]",
      "text/plain": [
       "<Figure size 187.087x141.732 with 1 Axes>"
      ]
     },
     "metadata": {
      "needs_background": "light"
     },
     "output_type": "display_data"
    }
   ],
   "source": [
    "#And here overlaid with the region of the sign. cluster identified earlier:\n",
    "fig, ax = plt.subplots(1,1,figsize=(6.6*cm,5*cm))\n",
    "plot_main_effect_load(evokeds, ax, sign_cluster=(cda_times[0], cda_times[-1]))\n",
    "\n",
    "# Save it: \n",
    "fpath = op.join(config.paths['plots'], 'CDA', epo_part)\n",
    "helpers.chkmk_dir(fpath)\n",
    "fname = op.join(fpath, 'mainEff_load.pdf')\n",
    "fig.savefig(fname) # , bbox_inches=\"tight\")"
   ]
  },
  {
   "cell_type": "code",
   "execution_count": null,
   "metadata": {},
   "outputs": [],
   "source": []
  },
  {
   "cell_type": "code",
   "execution_count": 31,
   "metadata": {},
   "outputs": [
    {
     "data": {
      "text/plain": [
       "6.6"
      ]
     },
     "execution_count": 31,
     "metadata": {},
     "output_type": "execute_result"
    }
   ],
   "source": [
    "fig.get_figwidth()"
   ]
  },
  {
   "cell_type": "code",
   "execution_count": 90,
   "metadata": {},
   "outputs": [
    {
     "name": "stdout",
     "output_type": "stream",
     "text": [
      "combining channels using \"mean\"\n",
      "combining channels using \"mean\"\n",
      "combining channels using \"mean\"\n"
     ]
    },
    {
     "data": {
      "image/png": "[encoded data removed]",
      "text/plain": [
       "<Figure size 187.087x141.732 with 1 Axes>"
      ]
     },
     "metadata": {
      "needs_background": "light"
     },
     "output_type": "display_data"
    }
   ],
   "source": [
    "# plot main effect ecc: \n",
    "fig, ax = plt.subplots(1,1,figsize=(6.6*cm,5*cm))\n",
    "\n",
    "plot_main_effect_ecc(evokeds, ax)\n",
    "\n",
    "# Save it: \n",
    "fpath = op.join(config.paths['plots'], 'CDA', epo_part)\n",
    "helpers.chkmk_dir(fpath)\n",
    "fname = op.join(fpath, 'mainEff_ecc.pdf')\n",
    "fig.savefig(fname, bbox_inches=\"tight\")"
   ]
  },
  {
   "cell_type": "code",
   "execution_count": null,
   "metadata": {},
   "outputs": [
    {
     "name": "stdout",
     "output_type": "stream",
     "text": [
      "combining channels using \"mean\"\n",
      "combining channels using \"mean\"\n",
      "combining channels using \"mean\"\n",
      "combining channels using \"mean\"\n",
      "combining channels using \"mean\"\n",
      "combining channels using \"mean\"\n"
     ]
    },
    {
     "data": {
      "image/png": "[encoded data removed]",
      "text/plain": [
       "<Figure size 1080x360 with 3 Axes>"
      ]
     },
     "metadata": {
      "needs_background": "light"
     },
     "output_type": "display_data"
    }
   ],
   "source": [
    "fig, axs = plt.subplots(1,3, figsize=(15,5))\n",
    "plot_interaction_eff(evokeds, axs)\n",
    "\n",
    "# Save it:\n",
    "# fpath = op.join(config.path_plots, 'CDA', epo_part)\n",
    "# helpers.chkmk_dir(fpath)\n",
    "# fname = op.join(fpath, 'interaction_loadxecc.svg')\n",
    "# fig.savefig(fname, bbox_inches=\"tight\")"
   ]
  },
  {
   "cell_type": "code",
   "execution_count": null,
   "metadata": {},
   "outputs": [],
   "source": []
  }
 ],
 "metadata": {
  "interpreter": {
   "hash": "ab8d5f83111fd4adf54cd1a4a25a5ebaa1e0745dcf50e18f187199a4671fc713"
  },
  "kernelspec": {
   "display_name": "mne",
   "language": "python",
   "name": "mne"
  },
  "language_info": {
   "codemirror_mode": {
    "name": "ipython",
    "version": 3
   },
   "file_extension": ".py",
   "mimetype": "text/x-python",
   "name": "python",
   "nbconvert_exporter": "python",
   "pygments_lexer": "ipython3",
   "version": "3.9.9"
  }
 },
 "nbformat": 4,
 "nbformat_minor": 2
}
