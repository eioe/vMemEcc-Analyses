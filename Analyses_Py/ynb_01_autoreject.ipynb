{
 "cells": [
  {
   "cell_type": "code",
   "execution_count": 9,
   "metadata": {},
   "outputs": [],
   "source": [
    "\n",
    "import os\n",
    "import os.path as op\n",
    "import numpy as np\n",
    "import csv\n",
    "import mne\n",
    "import autoreject\n",
    "import tqdm\n",
    "from pathlib import Path\n",
    "from library import helpers\n",
    "from datetime import datetime\n",
    "\n",
    "# define subject:\n",
    "subsub_list = ['VME_S10', 'VME_S13', 'VME_S16', 'VME_S22']\n",
    "\n",
    "# set paths:\n",
    "path_study = Path(os.getcwd()).parents[1] #str(Path(__file__).parents[2])\n",
    "# note: returns Path object >> cast for string\n",
    "\n",
    "#TODO: give reasonable names\n",
    "path_data = os.path.join(path_study, 'Data')\n",
    "path_inp = os.path.join(path_data, 'DataMNE', 'EEG', '00_raw')\n",
    "path_outp_ev = op.join(path_data, 'DataMNE', 'EEG', '01_events')\n",
    "path_prep_epo = op.join(path_data, 'DataMNE', 'EEG', '04_epo')\n",
    "path_outp_filt = op.join(path_data, 'DataMNE', 'EEG', '03_filt')\n",
    "path_outp_rejepo = op.join(path_data, 'DataMNE', 'EEG', '05.1_rejepo')\n",
    "path_outp_rejepo_summaries = op.join(path_data, 'DataMNE', 'EEG', '05.1_rejepo', 'summaries')\n",
    "path_outp_ICA = op.join(path_data, 'DataMNE', 'EEG', '05.2_ICA')\n",
    "path_outp_rejICA = op.join(path_data, 'DataMNE', 'EEG', '05.3_rejICA')\n",
    "\n",
    "\n"
   ]
  },
  {
   "cell_type": "code",
   "execution_count": 7,
   "metadata": {},
   "outputs": [
    {
     "name": "stdout",
     "output_type": "stream",
     "text": [
      "Reading /draco/ptmp/fklotzsche/Experiments/vMemEcc/Data/DataMNE/EEG/04_epo/VME_S01-forica-epo.fif ...\n",
      "    Found the data of interest:\n",
      "        t =   -1800.00 ...    2200.00 ms\n",
      "        0 CTF compensation matrices available\n",
      "720 matching events found\n",
      "No baseline correction applied\n",
      "Not setting metadata\n",
      "0 projection items activated\n"
     ]
    }
   ],
   "source": [
    "subsub = 'VME_S01'\n",
    "data_forica = mne.read_epochs(fname=op.join(path_prep_epo, subsub + '-forica-epo.fif'))\n",
    "dat = data_forica.copy()"
   ]
  },
  {
   "cell_type": "code",
   "execution_count": null,
   "metadata": {},
   "outputs": [
    {
     "name": "stderr",
     "output_type": "stream",
     "text": [
      "Exception ignored in: <function ProgressBar.__del__ at 0x2b97e157ab70>\n",
      "Traceback (most recent call last):\n",
      "  File \"/u/fklotzsche/.local/lib/python3.7/site-packages/mne/utils/progressbar.py\", line 145, in __del__\n",
      "    if getattr(self, '_tqdm') is not None:\n",
      "AttributeError: 'ProgressBar' object has no attribute '_tqdm'\n",
      "\r",
      "Creating augmented epochs:   0%|          | 0/64 [00:00<?, ?it/s]"
     ]
    },
    {
     "name": "stdout",
     "output_type": "stream",
     "text": [
      "Running autoreject on ch_type=eeg\n"
     ]
    }
   ],
   "source": [
    "from autoreject import AutoReject \n",
    "ar = AutoReject(verbose ='tqdm')\n",
    "epochs_clean = ar.fit_transform(dat)  "
   ]
  },
  {
   "cell_type": "code",
   "execution_count": null,
   "metadata": {},
   "outputs": [],
   "source": [
    "2+2"
   ]
  }
 ],
 "metadata": {
  "kernelspec": {
   "display_name": "Python 3",
   "language": "python",
   "name": "python3"
  },
  "language_info": {
   "codemirror_mode": {
    "name": "ipython",
    "version": 3
   },
   "file_extension": ".py",
   "mimetype": "text/x-python",
   "name": "python",
   "nbconvert_exporter": "python",
   "pygments_lexer": "ipython3",
   "version": "3.7.3"
  }
 },
 "nbformat": 4,
 "nbformat_minor": 2
}
