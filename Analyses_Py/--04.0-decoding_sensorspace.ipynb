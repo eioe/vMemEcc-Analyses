{
 "cells": [
  {
   "cell_type": "code",
   "execution_count": 7,
   "id": "ca4e4113",
   "metadata": {},
   "outputs": [],
   "source": [
    "# %% load libs:\n",
    "from collections import defaultdict\n",
    "from os import path as op\n",
    "import sys\n",
    "import json\n",
    "import numpy as np\n",
    "\n",
    "import seaborn as sns\n",
    "\n",
    "from sklearn.pipeline import make_pipeline\n",
    "from sklearn.linear_model import LogisticRegression\n",
    "\n",
    "from scipy import stats\n",
    "\n",
    "import mne\n",
    "# from mne.epochs import concatenate_epochs\n",
    "from mne.decoding import (SlidingEstimator, GeneralizingEstimator,\n",
    "                          cross_val_multiscore, LinearModel, get_coef)\n",
    "\n",
    "from library import config, helpers"
   ]
  },
  {
   "cell_type": "code",
   "execution_count": 5,
   "id": "2a79f12f",
   "metadata": {
    "lines_to_next_cell": 2
   },
   "outputs": [],
   "source": [
    "%load_ext autoreload\n",
    "%autoreload 2"
   ]
  },
  {
   "cell_type": "code",
   "execution_count": 60,
   "id": "e4a53993",
   "metadata": {
    "lines_to_next_cell": 0
   },
   "outputs": [],
   "source": [
    "# %% TODO:\n",
    "# Extract:\n",
    "# temp_decod_batch_size = batch_size\n",
    "# temp_decod_smooth_winsize = smooth_winsize\n",
    "# temp_decod_lambda = 1 - C\n",
    "# temp_decod_cv_folds = cv_folds\n",
    "# temp_decod_n_rep_sub = n_rep_sub\n",
    "\n",
    "\n",
    "# %% Functions:\n",
    "\n",
    "def get_epos(subID, epo_part, signaltype, condition, event_dict, picks_str):\n",
    "    if signaltype == 'uncollapsed':\n",
    "        fname = op.join(config.paths['03_preproc-rejectET'],\n",
    "                        epo_part,\n",
    "                        'cleaneddata',\n",
    "                        f\"{subID}-{epo_part}-rejepo-epo.fif\")\n",
    "    elif signaltype in ['collapsed', 'difference']:\n",
    "        fname = op.join(config.paths['03_preproc-pooled'],\n",
    "                        epo_part,\n",
    "                        signaltype,\n",
    "                        f\"{subID}-{epo_part}-{signaltype}-epo.fif\")\n",
    "    else:\n",
    "        raise ValueError(f'Invalid value for \"signaltype\": {signaltype}')\n",
    "    epos = mne.read_epochs(fname, verbose=False)\n",
    "    epos = epos.pick_types(eeg=True)\n",
    "\n",
    "    # pick channel selection:\n",
    "    if (picks_str is not None) and (picks_str != 'All'):\n",
    "        roi_dict = mne.channels.make_1020_channel_selections(epos.info)\n",
    "        picks = [epos.ch_names[idx] for idx in roi_dict[picks_str]]\n",
    "        epos.pick_channels(picks, ordered=True)\n",
    "\n",
    "    uppers = [letter.isupper() for letter in condition]\n",
    "    if (np.sum(uppers) > 2):\n",
    "        cond_1 = condition[:np.where(uppers)[0][2]]\n",
    "        cond_2 = condition[np.where(uppers)[0][2]:]\n",
    "        selection = epos[event_dict[cond_1]][event_dict[cond_2]]\n",
    "    else:\n",
    "        selection = epos[event_dict[condition]]\n",
    "    return(selection)\n",
    "\n",
    "\n",
    "def avg_time(data, step=25, times=None):\n",
    "    orig_shape = data.shape\n",
    "    n_fill = step - (orig_shape[-1] % step)\n",
    "    fill_shape = np.asarray(orig_shape)\n",
    "    fill_shape[-1] = n_fill\n",
    "    fill = np.ones(fill_shape) * np.nan\n",
    "    data_f = np.concatenate([data, fill], axis=-1)\n",
    "    data_res = np.nanmean(data_f.reshape(*orig_shape[:2], -1, step), axis=-1)\n",
    "\n",
    "    if times is not None:\n",
    "        f_times = np.r_[times, [np.nan] * n_fill]\n",
    "        n_times = np.nanmean(f_times.reshape(-1, step), axis=-1)\n",
    "        return data_res, n_times\n",
    "    else:\n",
    "        return data_res\n",
    "\n",
    "\n",
    "def batch_trials(epos, batch_size):\n",
    "    n_trials = len(epos)\n",
    "    n_batches = int(n_trials / batch_size)\n",
    "    rnd_seq = np.arange(n_trials)\n",
    "    np.random.shuffle(rnd_seq)\n",
    "    rnd_seq = rnd_seq[:n_batches * batch_size]\n",
    "    rnd_seq = rnd_seq.reshape(-1, batch_size)\n",
    "    batches = [epos[b].average() for b in rnd_seq]\n",
    "    return(batches)\n",
    "\n",
    "\n",
    "def get_data(subID, epo_part, signaltype, conditions, event_dict,\n",
    "             batch_size=1, smooth_winsize=1, picks_str=None):\n",
    "    epos_dict = defaultdict(dict)\n",
    "    for cond in conditions:\n",
    "        epos_dict[cond] = get_epos(subID,\n",
    "                                   epo_part=epo_part,\n",
    "                                   signaltype=signaltype,\n",
    "                                   condition=cond,\n",
    "                                   event_dict=event_dict,\n",
    "                                   picks_str=picks_str)\n",
    "\n",
    "    times = epos_dict[conditions[0]][0].copy().times\n",
    "    info = epos_dict[conditions[0]][0].info\n",
    "\n",
    "    # Setup data:\n",
    "    if batch_size > 1:\n",
    "        batches = defaultdict(list)\n",
    "        for cond in conditions:\n",
    "            batches[cond] = batch_trials(epos_dict[cond], batch_size)\n",
    "            batches[cond] = np.asarray([b.data for b in batches[cond]])\n",
    "\n",
    "        X = np.concatenate([batches[cond].data for cond in conditions], axis=0)\n",
    "        n_ = {cond: batches[cond].shape[0] for cond in conditions}\n",
    "\n",
    "    else:\n",
    "        X = mne.concatenate_epochs([epos_dict[cond] for cond in conditions])\n",
    "        X = X.get_data()\n",
    "        n_ = {cond: len(epos_dict[cond]) for cond in conditions}\n",
    "\n",
    "    if smooth_winsize > 1:\n",
    "        X, times_n = avg_time(X, smooth_winsize, times=times)\n",
    "    else:\n",
    "        times_n = times\n",
    "\n",
    "    y = np.r_[np.zeros(n_[conditions[0]]),\n",
    "              np.concatenate([(np.ones(n_[conditions[i]]) * i)\n",
    "                              for i in np.arange(1, len(conditions))])]\n",
    "\n",
    "    return X, y, times_n, info\n",
    "\n",
    "\n",
    "def decode(sub_list_str,\n",
    "           conditions,\n",
    "           epo_part='stimon',\n",
    "           signaltype='collapsed',\n",
    "           scoring='roc_auc',\n",
    "           event_dict=config.event_dict,\n",
    "           n_rep_sub=100,\n",
    "           picks_str=None,\n",
    "           shuffle_labels=False,\n",
    "           batch_size=10,\n",
    "           smooth_winsize=5,\n",
    "           temp_gen=False,\n",
    "           save_single_rep_scores=False,\n",
    "           save_scores=True,\n",
    "           save_patterns=False):\n",
    "\n",
    "    contrast_str = '_vs_'.join(conditions)\n",
    "    scoring = scoring  # 'roc_auc' # 'accuracy'\n",
    "    cv_folds = 5\n",
    "\n",
    "    subs_processed = list()\n",
    "    sub_scores = list()\n",
    "    sub_scores_per_rep = list()\n",
    "    sub_coef = list()\n",
    "    times_n = list()\n",
    "\n",
    "    for subID in sub_list_str:\n",
    "        print(f'### RUNING SUBJECT {subID}')\n",
    "        subs_processed.append(subID)\n",
    "        all_scores = list()\n",
    "        all_coef = list()\n",
    "        for i in np.arange(n_rep_sub):\n",
    "            X, y, times_n, info = get_data(subID,\n",
    "                                           epo_part=epo_part,\n",
    "                                           signaltype=signaltype,\n",
    "                                           conditions=conditions,\n",
    "                                           event_dict=event_dict,\n",
    "                                           batch_size=batch_size,\n",
    "                                           smooth_winsize=smooth_winsize,\n",
    "                                           picks_str=picks_str)\n",
    "\n",
    "            clf = make_pipeline(mne.decoding.Scaler(info),\n",
    "                                mne.decoding.Vectorizer(),\n",
    "                                LinearModel(\n",
    "                                    LogisticRegression(solver='liblinear',\n",
    "                                                       random_state=42,\n",
    "                                                       verbose=False)))\n",
    "\n",
    "            # TODO: refactor: rename \"se\"\n",
    "            if temp_gen:\n",
    "                gen_str = 'gen_temp'\n",
    "                se = GeneralizingEstimator(clf,\n",
    "                                           scoring=scoring,\n",
    "                                           n_jobs=-2,\n",
    "                                           verbose=0)\n",
    "            else:\n",
    "                gen_str = ''\n",
    "                se = SlidingEstimator(clf,\n",
    "                                      scoring=scoring,\n",
    "                                      n_jobs=-2,\n",
    "                                      verbose=0)\n",
    "\n",
    "            if shuffle_labels:\n",
    "                np.random.shuffle(y)\n",
    "            for i in np.unique(y):\n",
    "                print(f'Size of class {i}: {np.sum(y == i)}\\n')\n",
    "            scores = cross_val_multiscore(se, X=X, y=y, cv=cv_folds, verbose=0)\n",
    "            scores = np.mean(scores, axis=0)\n",
    "            all_scores.append(scores)\n",
    "            se.fit(X, y)\n",
    "            coef = get_coef(se, 'patterns_', inverse_transform=True)\n",
    "            all_coef.append(coef)\n",
    "\n",
    "        sub_scores = np.asarray(all_scores).mean(axis=0)\n",
    "        sub_coef = np.asarray(all_coef).mean(axis=0)\n",
    "\n",
    "        # save shizzle:\n",
    "        shuf_labs = 'labels_shuffled' if shuffle_labels else ''\n",
    "\n",
    "        if picks_str is not None:\n",
    "            picks_str_folder = picks_str\n",
    "        else:\n",
    "            picks_str_folder = ''\n",
    "\n",
    "        path_save = op.join(config.paths['06_decoding-sensorspace'], epo_part,\n",
    "                            signaltype, contrast_str, gen_str,\n",
    "                            scoring, picks_str_folder, shuf_labs)\n",
    "\n",
    "        # save accuracies:\n",
    "        if save_scores:\n",
    "            fpath = op.join(path_save, 'scores')\n",
    "            helpers.chkmk_dir(fpath)\n",
    "            fname = op.join(fpath, f'{subID}-scores_per_sub.npy')\n",
    "            np.save(fname, sub_scores)\n",
    "            np.save(fname[:-4] + '__times' + '.npy', times_n)\n",
    "            del(fpath, fname)\n",
    "\n",
    "        # save patterns:\n",
    "        if save_patterns:\n",
    "            sub_patterns = sub_coef\n",
    "            fpath = op.join(path_save, 'patterns')\n",
    "            helpers.chkmk_dir(fpath)\n",
    "            fname = op.join(fpath, f'{subID}-patterns_per_sub.npy')\n",
    "            np.save(fname, sub_patterns)\n",
    "            np.save(fname[:-4] + '__times' + '.npy', times_n)\n",
    "            del(fpath, fname)\n",
    "\n",
    "        # save info:\n",
    "        if save_scores or save_patterns or save_single_rep_scores:\n",
    "            info_dict = {'included subs': subs_processed,\n",
    "                         'n_rep_sub': n_rep_sub,\n",
    "                         'batch_size': batch_size,\n",
    "                         'smooth_winsize': smooth_winsize,\n",
    "                         'cv_folds': cv_folds,\n",
    "                         'scoring': scoring}\n",
    "            fpath = path_save\n",
    "            fname = op.join(fpath, f'{subID}-info.json')\n",
    "            with open(fname, 'w+') as outfile:\n",
    "                json.dump(info_dict, outfile)\n",
    "\n",
    "        # save data from single reps:\n",
    "        if save_single_rep_scores:\n",
    "            if len(sub_scores_per_rep) == 0:\n",
    "                sub_scores_per_rep = np.asarray(all_scores)\n",
    "            else:\n",
    "                sub_scores_per_rep = np.concatenate([sub_scores_per_rep,\n",
    "                                                    np.asarray(all_scores)],\n",
    "                                                    axis=0)\n",
    "\n",
    "            fpath = op.join(path_save, 'single_rep_data')\n",
    "            helpers.chkmk_dir(fpath)\n",
    "            fname = op.join(fpath,\n",
    "                            f'{subID}-'\n",
    "                            f'reps{n_rep_sub}_'\n",
    "                            f'swin{smooth_winsize}_batchs{batch_size}.npy')\n",
    "            np.save(fname, sub_scores_per_rep)\n",
    "            np.save(fname[:-4] + '__times' + '.npy', times_n)\n",
    "            del(fpath, fname)\n",
    "\n",
    "    return sub_scores, sub_coef, times_n\n",
    "\n",
    "\n",
    "def plot_score_per_factor(factor, data, scoring='roc_auc', sign_clusters=[],\n",
    "                          p_lvl=0.01, plt_dict=None, ax=None, n_boot=1000):\n",
    "\n",
    "    sns.lineplot(x='time',\n",
    "                 y='score',\n",
    "                 hue=factor,\n",
    "                 data=data,\n",
    "                 n_boot=n_boot,\n",
    "                 palette=config.colors,\n",
    "                 ax=ax)\n",
    "    ytick_range = ax.get_ylim()\n",
    "    ax.set(xlim=(plt_dict['xmin'], plt_dict['xmax']), ylim=ytick_range)\n",
    "    if scoring == 'roc_auc':\n",
    "        scoring_str = 'ROC AUC'\n",
    "    else:\n",
    "        scoring_str = scoring\n",
    "    ax.set_ylabel(scoring_str)\n",
    "    ax.set_xlabel('Time (s)')\n",
    "    ax.axvspan(plt_dict['t_stimon'], plt_dict['t_stimon'] + 0.2,\n",
    "               color='grey', alpha=0.3)\n",
    "    ax.axvspan(plt_dict['t_stimon'] + 2.2, plt_dict['t_stimon'] + 2.5,\n",
    "               color='grey', alpha=0.3)\n",
    "    ax.vlines((plt_dict['t_stimon'], plt_dict['t_stimon']+0.2,\n",
    "               plt_dict['t_stimon']+2.2),\n",
    "              ymin=ytick_range[0], ymax=ytick_range[1],\n",
    "              linestyles='dashed')\n",
    "    ax.hlines(0.5, xmin=plt_dict['xmin'], xmax=plt_dict['xmax'])\n",
    "    p_lvl_str = 'p < .' + str(p_lvl).split('.')[-1]\n",
    "    if isinstance(sign_clusters, dict):\n",
    "        for i, key in enumerate(sign_clusters):\n",
    "            col = config.colors[key]\n",
    "            for sc in sign_clusters[key]:\n",
    "                xmin = sc[0]\n",
    "                xmax = sc[-1]\n",
    "                ax.hlines(ytick_range[0] + (i+1)*0.025*np.ptp(ytick_range), xmin=xmin, xmax=xmax, color=col, \n",
    "                          label=p_lvl_str)\n",
    "\n",
    "    else:\n",
    "        for sc in sign_clusters:\n",
    "            xmin = sc[0]\n",
    "            xmax = sc[-1]\n",
    "            ax.hlines(ytick_range[0] + 0.05*np.ptp(ytick_range), xmin=xmin, xmax=xmax, color='purple', \n",
    "                      label=p_lvl_str)\n",
    "    handles, labels = ax.get_legend_handles_labels()\n",
    "    print(labels)\n",
    "    n_sgn_clu = None if len(sign_clusters) <= 1 else -(len(sign_clusters)-1)\n",
    "    ax.legend(handles=handles[0:n_sgn_clu], labels=labels[0:n_sgn_clu])\n",
    "\n",
    "\n",
    "\n",
    "def run_cbp_test(data):\n",
    "    # number of permutations to run\n",
    "    n_permutations = 1000 \n",
    "    # set initial threshold\n",
    "    p_initial = 0.05\n",
    "    # set family-wise p-value\n",
    "    p_thresh = 0.05\n",
    "    connectivity = None\n",
    "    tail = 1.  # for one-sided test\n",
    "\n",
    "    # set cluster threshold\n",
    "    n_samples = len(data)\n",
    "    threshold = -stats.t.ppf(p_initial / (1 + (tail == 0)), n_samples - 1)\n",
    "    if np.sign(tail) < 0:\n",
    "        threshold = -threshold\n",
    "\n",
    "    cluster_stats = mne.stats.permutation_cluster_1samp_test(\n",
    "        data, threshold=threshold, n_jobs=config.n_jobs, verbose=False, tail=tail,\n",
    "        step_down_p=0.0005, adjacency=connectivity,\n",
    "        n_permutations=n_permutations, seed=42, out_type='mask')\n",
    "\n",
    "    T_obs, clusters, cluster_p_values, _ = cluster_stats\n",
    "    return(T_obs, clusters, cluster_p_values)"
   ]
  },
  {
   "cell_type": "code",
   "execution_count": 6,
   "id": "6da099ef",
   "metadata": {},
   "outputs": [
    {
     "data": {
      "text/plain": [
       "True"
      ]
     },
     "execution_count": 6,
     "metadata": {},
     "output_type": "execute_result"
    }
   ],
   "source": []
  },
  {
   "cell_type": "code",
   "execution_count": 3,
   "id": "1b8b01ef",
   "metadata": {
    "lines_to_next_cell": 2
   },
   "outputs": [
    {
     "data": {
      "text/plain": [
       "True"
      ]
     },
     "execution_count": 3,
     "metadata": {},
     "output_type": "execute_result"
    }
   ],
   "source": []
  },
  {
   "cell_type": "code",
   "execution_count": 80,
   "id": "5168d7d4",
   "metadata": {},
   "outputs": [
    {
     "name": "stdout",
     "output_type": "stream",
     "text": [
      "### RUNING SUBJECT VME_S01\n",
      "Size of class 0.0: 68\n",
      "\n",
      "Size of class 1.0: 69\n",
      "\n"
     ]
    },
    {
     "data": {
      "application/vnd.jupyter.widget-view+json": {
       "model_id": "a34a1310bae54584a2866fcce0b0f981",
       "version_major": 2,
       "version_minor": 0
      },
      "text/plain": [
       "  0%|          | Fitting SlidingEstimator : 0/30 [00:00<?,       ?it/s]"
      ]
     },
     "metadata": {},
     "output_type": "display_data"
    },
    {
     "data": {
      "application/vnd.jupyter.widget-view+json": {
       "model_id": "80fd39792ca1461699ac2ea0ccb13b97",
       "version_major": 2,
       "version_minor": 0
      },
      "text/plain": [
       "  0%|          | Fitting SlidingEstimator : 0/30 [00:00<?,       ?it/s]"
      ]
     },
     "metadata": {},
     "output_type": "display_data"
    },
    {
     "data": {
      "application/vnd.jupyter.widget-view+json": {
       "model_id": "8b590e08240348409c0ac7e19c80755b",
       "version_major": 2,
       "version_minor": 0
      },
      "text/plain": [
       "  0%|          | Fitting SlidingEstimator : 0/30 [00:00<?,       ?it/s]"
      ]
     },
     "metadata": {},
     "output_type": "display_data"
    },
    {
     "data": {
      "application/vnd.jupyter.widget-view+json": {
       "model_id": "349193f32df34d1a8d7ab69d79e211dd",
       "version_major": 2,
       "version_minor": 0
      },
      "text/plain": [
       "  0%|          | Fitting SlidingEstimator : 0/30 [00:00<?,       ?it/s]"
      ]
     },
     "metadata": {},
     "output_type": "display_data"
    },
    {
     "data": {
      "application/vnd.jupyter.widget-view+json": {
       "model_id": "25b0c6f35762433e865ca062011d3651",
       "version_major": 2,
       "version_minor": 0
      },
      "text/plain": [
       "  0%|          | Fitting SlidingEstimator : 0/30 [00:00<?,       ?it/s]"
      ]
     },
     "metadata": {},
     "output_type": "display_data"
    },
    {
     "data": {
      "application/vnd.jupyter.widget-view+json": {
       "model_id": "e62c0a3158f4412ea4e890072594685c",
       "version_major": 2,
       "version_minor": 0
      },
      "text/plain": [
       "  0%|          | Fitting SlidingEstimator : 0/30 [00:00<?,       ?it/s]"
      ]
     },
     "metadata": {},
     "output_type": "display_data"
    },
    {
     "name": "stdout",
     "output_type": "stream",
     "text": [
      "Size of class 0.0: 68\n",
      "\n",
      "Size of class 1.0: 69\n",
      "\n"
     ]
    },
    {
     "data": {
      "application/vnd.jupyter.widget-view+json": {
       "model_id": "7fcb87fa2ca14d95b069fc38b9b170e6",
       "version_major": 2,
       "version_minor": 0
      },
      "text/plain": [
       "  0%|          | Fitting SlidingEstimator : 0/30 [00:00<?,       ?it/s]"
      ]
     },
     "metadata": {},
     "output_type": "display_data"
    },
    {
     "data": {
      "application/vnd.jupyter.widget-view+json": {
       "model_id": "bf052677d5254d2d944d8ccdb847a5bb",
       "version_major": 2,
       "version_minor": 0
      },
      "text/plain": [
       "  0%|          | Fitting SlidingEstimator : 0/30 [00:00<?,       ?it/s]"
      ]
     },
     "metadata": {},
     "output_type": "display_data"
    },
    {
     "data": {
      "application/vnd.jupyter.widget-view+json": {
       "model_id": "7d85f0f7702a40eb9a2a3398a9e60950",
       "version_major": 2,
       "version_minor": 0
      },
      "text/plain": [
       "  0%|          | Fitting SlidingEstimator : 0/30 [00:00<?,       ?it/s]"
      ]
     },
     "metadata": {},
     "output_type": "display_data"
    },
    {
     "data": {
      "application/vnd.jupyter.widget-view+json": {
       "model_id": "527e3cccdf5c41dda0ea2decb3455721",
       "version_major": 2,
       "version_minor": 0
      },
      "text/plain": [
       "  0%|          | Fitting SlidingEstimator : 0/30 [00:00<?,       ?it/s]"
      ]
     },
     "metadata": {},
     "output_type": "display_data"
    },
    {
     "data": {
      "application/vnd.jupyter.widget-view+json": {
       "model_id": "ac4f3be5d36c4f8db0365f1831e37d24",
       "version_major": 2,
       "version_minor": 0
      },
      "text/plain": [
       "  0%|          | Fitting SlidingEstimator : 0/30 [00:00<?,       ?it/s]"
      ]
     },
     "metadata": {},
     "output_type": "display_data"
    },
    {
     "data": {
      "application/vnd.jupyter.widget-view+json": {
       "model_id": "29255b98cf6e42eaa002e90f714287a6",
       "version_major": 2,
       "version_minor": 0
      },
      "text/plain": [
       "  0%|          | Fitting SlidingEstimator : 0/30 [00:00<?,       ?it/s]"
      ]
     },
     "metadata": {},
     "output_type": "display_data"
    },
    {
     "name": "stdout",
     "output_type": "stream",
     "text": [
      "### RUNING SUBJECT VME_S02\n",
      "Size of class 0.0: 61\n",
      "\n",
      "Size of class 1.0: 61\n",
      "\n"
     ]
    },
    {
     "data": {
      "application/vnd.jupyter.widget-view+json": {
       "model_id": "629b513e401f49c982889414b0c278ac",
       "version_major": 2,
       "version_minor": 0
      },
      "text/plain": [
       "  0%|          | Fitting SlidingEstimator : 0/30 [00:00<?,       ?it/s]"
      ]
     },
     "metadata": {},
     "output_type": "display_data"
    },
    {
     "data": {
      "application/vnd.jupyter.widget-view+json": {
       "model_id": "99980335163e4455ae3d6be959dc04d4",
       "version_major": 2,
       "version_minor": 0
      },
      "text/plain": [
       "  0%|          | Fitting SlidingEstimator : 0/30 [00:00<?,       ?it/s]"
      ]
     },
     "metadata": {},
     "output_type": "display_data"
    },
    {
     "data": {
      "application/vnd.jupyter.widget-view+json": {
       "model_id": "94bfe472800842ae9ae1657b87216d15",
       "version_major": 2,
       "version_minor": 0
      },
      "text/plain": [
       "  0%|          | Fitting SlidingEstimator : 0/30 [00:00<?,       ?it/s]"
      ]
     },
     "metadata": {},
     "output_type": "display_data"
    },
    {
     "data": {
      "application/vnd.jupyter.widget-view+json": {
       "model_id": "4195e0738ebb4a1dafe473ab6d6034ec",
       "version_major": 2,
       "version_minor": 0
      },
      "text/plain": [
       "  0%|          | Fitting SlidingEstimator : 0/30 [00:00<?,       ?it/s]"
      ]
     },
     "metadata": {},
     "output_type": "display_data"
    },
    {
     "data": {
      "application/vnd.jupyter.widget-view+json": {
       "model_id": "ce7f2bb0332a4e5d978fc1866f5210d3",
       "version_major": 2,
       "version_minor": 0
      },
      "text/plain": [
       "  0%|          | Fitting SlidingEstimator : 0/30 [00:00<?,       ?it/s]"
      ]
     },
     "metadata": {},
     "output_type": "display_data"
    },
    {
     "data": {
      "application/vnd.jupyter.widget-view+json": {
       "model_id": "1464996289b7470995913de3dbfc103b",
       "version_major": 2,
       "version_minor": 0
      },
      "text/plain": [
       "  0%|          | Fitting SlidingEstimator : 0/30 [00:00<?,       ?it/s]"
      ]
     },
     "metadata": {},
     "output_type": "display_data"
    },
    {
     "name": "stdout",
     "output_type": "stream",
     "text": [
      "Size of class 0.0: 61\n",
      "\n",
      "Size of class 1.0: 61\n",
      "\n"
     ]
    },
    {
     "data": {
      "application/vnd.jupyter.widget-view+json": {
       "model_id": "922d5d62ea674a7ab4c5af8b7fd1e6ac",
       "version_major": 2,
       "version_minor": 0
      },
      "text/plain": [
       "  0%|          | Fitting SlidingEstimator : 0/30 [00:00<?,       ?it/s]"
      ]
     },
     "metadata": {},
     "output_type": "display_data"
    },
    {
     "data": {
      "application/vnd.jupyter.widget-view+json": {
       "model_id": "3aa8194ee98d46d5a69bdb56f3c82e09",
       "version_major": 2,
       "version_minor": 0
      },
      "text/plain": [
       "  0%|          | Fitting SlidingEstimator : 0/30 [00:00<?,       ?it/s]"
      ]
     },
     "metadata": {},
     "output_type": "display_data"
    },
    {
     "data": {
      "application/vnd.jupyter.widget-view+json": {
       "model_id": "ca23e2f3f1e146efa83e0139f4644344",
       "version_major": 2,
       "version_minor": 0
      },
      "text/plain": [
       "  0%|          | Fitting SlidingEstimator : 0/30 [00:00<?,       ?it/s]"
      ]
     },
     "metadata": {},
     "output_type": "display_data"
    },
    {
     "data": {
      "application/vnd.jupyter.widget-view+json": {
       "model_id": "f85212e6049f426ea3ae702405569206",
       "version_major": 2,
       "version_minor": 0
      },
      "text/plain": [
       "  0%|          | Fitting SlidingEstimator : 0/30 [00:00<?,       ?it/s]"
      ]
     },
     "metadata": {},
     "output_type": "display_data"
    },
    {
     "data": {
      "application/vnd.jupyter.widget-view+json": {
       "model_id": "01a86fd406f94138831831328ebaa0bc",
       "version_major": 2,
       "version_minor": 0
      },
      "text/plain": [
       "  0%|          | Fitting SlidingEstimator : 0/30 [00:00<?,       ?it/s]"
      ]
     },
     "metadata": {},
     "output_type": "display_data"
    },
    {
     "data": {
      "application/vnd.jupyter.widget-view+json": {
       "model_id": "a3f584bc26294f8095d1d3ed05c227cd",
       "version_major": 2,
       "version_minor": 0
      },
      "text/plain": [
       "  0%|          | Fitting SlidingEstimator : 0/30 [00:00<?,       ?it/s]"
      ]
     },
     "metadata": {},
     "output_type": "display_data"
    },
    {
     "name": "stdout",
     "output_type": "stream",
     "text": [
      "### RUNING SUBJECT VME_S03\n",
      "Size of class 0.0: 65\n",
      "\n",
      "Size of class 1.0: 63\n",
      "\n"
     ]
    },
    {
     "data": {
      "application/vnd.jupyter.widget-view+json": {
       "model_id": "2d486244a0594f8a8580a244e0cc22eb",
       "version_major": 2,
       "version_minor": 0
      },
      "text/plain": [
       "  0%|          | Fitting SlidingEstimator : 0/30 [00:00<?,       ?it/s]"
      ]
     },
     "metadata": {},
     "output_type": "display_data"
    },
    {
     "data": {
      "application/vnd.jupyter.widget-view+json": {
       "model_id": "06de20841ad44c7d837b26e79bbbf87b",
       "version_major": 2,
       "version_minor": 0
      },
      "text/plain": [
       "  0%|          | Fitting SlidingEstimator : 0/30 [00:00<?,       ?it/s]"
      ]
     },
     "metadata": {},
     "output_type": "display_data"
    },
    {
     "data": {
      "application/vnd.jupyter.widget-view+json": {
       "model_id": "29654d8f43df49128b2d1f64c1fa3fca",
       "version_major": 2,
       "version_minor": 0
      },
      "text/plain": [
       "  0%|          | Fitting SlidingEstimator : 0/30 [00:00<?,       ?it/s]"
      ]
     },
     "metadata": {},
     "output_type": "display_data"
    },
    {
     "data": {
      "application/vnd.jupyter.widget-view+json": {
       "model_id": "cc43e4f688504906b7948735278e726a",
       "version_major": 2,
       "version_minor": 0
      },
      "text/plain": [
       "  0%|          | Fitting SlidingEstimator : 0/30 [00:00<?,       ?it/s]"
      ]
     },
     "metadata": {},
     "output_type": "display_data"
    },
    {
     "data": {
      "application/vnd.jupyter.widget-view+json": {
       "model_id": "cf541f3f857e427bb0a2645b6ecb575f",
       "version_major": 2,
       "version_minor": 0
      },
      "text/plain": [
       "  0%|          | Fitting SlidingEstimator : 0/30 [00:00<?,       ?it/s]"
      ]
     },
     "metadata": {},
     "output_type": "display_data"
    },
    {
     "data": {
      "application/vnd.jupyter.widget-view+json": {
       "model_id": "dccdf360cca745c8b08e819f6af74d76",
       "version_major": 2,
       "version_minor": 0
      },
      "text/plain": [
       "  0%|          | Fitting SlidingEstimator : 0/30 [00:00<?,       ?it/s]"
      ]
     },
     "metadata": {},
     "output_type": "display_data"
    },
    {
     "name": "stdout",
     "output_type": "stream",
     "text": [
      "Size of class 0.0: 65\n",
      "\n",
      "Size of class 1.0: 63\n",
      "\n"
     ]
    },
    {
     "data": {
      "application/vnd.jupyter.widget-view+json": {
       "model_id": "a160544323414073a5ac9cc0879d3f78",
       "version_major": 2,
       "version_minor": 0
      },
      "text/plain": [
       "  0%|          | Fitting SlidingEstimator : 0/30 [00:00<?,       ?it/s]"
      ]
     },
     "metadata": {},
     "output_type": "display_data"
    },
    {
     "data": {
      "application/vnd.jupyter.widget-view+json": {
       "model_id": "f1749a1db0804b76834f9f61c7f1f0b6",
       "version_major": 2,
       "version_minor": 0
      },
      "text/plain": [
       "  0%|          | Fitting SlidingEstimator : 0/30 [00:00<?,       ?it/s]"
      ]
     },
     "metadata": {},
     "output_type": "display_data"
    },
    {
     "data": {
      "application/vnd.jupyter.widget-view+json": {
       "model_id": "2a92e40728dd45588260abb37ca9901e",
       "version_major": 2,
       "version_minor": 0
      },
      "text/plain": [
       "  0%|          | Fitting SlidingEstimator : 0/30 [00:00<?,       ?it/s]"
      ]
     },
     "metadata": {},
     "output_type": "display_data"
    },
    {
     "data": {
      "application/vnd.jupyter.widget-view+json": {
       "model_id": "0610dfa6b06f424ca3884c66b07b1996",
       "version_major": 2,
       "version_minor": 0
      },
      "text/plain": [
       "  0%|          | Fitting SlidingEstimator : 0/30 [00:00<?,       ?it/s]"
      ]
     },
     "metadata": {},
     "output_type": "display_data"
    },
    {
     "data": {
      "application/vnd.jupyter.widget-view+json": {
       "model_id": "480ec10aafda47ee8c14e988b5b35045",
       "version_major": 2,
       "version_minor": 0
      },
      "text/plain": [
       "  0%|          | Fitting SlidingEstimator : 0/30 [00:00<?,       ?it/s]"
      ]
     },
     "metadata": {},
     "output_type": "display_data"
    },
    {
     "data": {
      "application/vnd.jupyter.widget-view+json": {
       "model_id": "1b5c80e9f1f841c19609cdf3fb11490b",
       "version_major": 2,
       "version_minor": 0
      },
      "text/plain": [
       "  0%|          | Fitting SlidingEstimator : 0/30 [00:00<?,       ?it/s]"
      ]
     },
     "metadata": {},
     "output_type": "display_data"
    },
    {
     "name": "stdout",
     "output_type": "stream",
     "text": [
      "### RUNING SUBJECT VME_S04\n",
      "Size of class 0.0: 60\n",
      "\n",
      "Size of class 1.0: 61\n",
      "\n"
     ]
    },
    {
     "data": {
      "application/vnd.jupyter.widget-view+json": {
       "model_id": "b78e5ed244ba4f908150ff0334ae5020",
       "version_major": 2,
       "version_minor": 0
      },
      "text/plain": [
       "  0%|          | Fitting SlidingEstimator : 0/30 [00:00<?,       ?it/s]"
      ]
     },
     "metadata": {},
     "output_type": "display_data"
    },
    {
     "data": {
      "application/vnd.jupyter.widget-view+json": {
       "model_id": "771cdcd95907436499a879be308df2d9",
       "version_major": 2,
       "version_minor": 0
      },
      "text/plain": [
       "  0%|          | Fitting SlidingEstimator : 0/30 [00:00<?,       ?it/s]"
      ]
     },
     "metadata": {},
     "output_type": "display_data"
    },
    {
     "data": {
      "application/vnd.jupyter.widget-view+json": {
       "model_id": "ad97f535d48b42639aec5de64b08cbeb",
       "version_major": 2,
       "version_minor": 0
      },
      "text/plain": [
       "  0%|          | Fitting SlidingEstimator : 0/30 [00:00<?,       ?it/s]"
      ]
     },
     "metadata": {},
     "output_type": "display_data"
    },
    {
     "data": {
      "application/vnd.jupyter.widget-view+json": {
       "model_id": "95a056447f9d49fcb7e9269d00817aab",
       "version_major": 2,
       "version_minor": 0
      },
      "text/plain": [
       "  0%|          | Fitting SlidingEstimator : 0/30 [00:00<?,       ?it/s]"
      ]
     },
     "metadata": {},
     "output_type": "display_data"
    },
    {
     "data": {
      "application/vnd.jupyter.widget-view+json": {
       "model_id": "f0e84ed24f864c20bdabe9dfac4aa03d",
       "version_major": 2,
       "version_minor": 0
      },
      "text/plain": [
       "  0%|          | Fitting SlidingEstimator : 0/30 [00:00<?,       ?it/s]"
      ]
     },
     "metadata": {},
     "output_type": "display_data"
    },
    {
     "data": {
      "application/vnd.jupyter.widget-view+json": {
       "model_id": "c67ff6911ce54552b6625c6de939837b",
       "version_major": 2,
       "version_minor": 0
      },
      "text/plain": [
       "  0%|          | Fitting SlidingEstimator : 0/30 [00:00<?,       ?it/s]"
      ]
     },
     "metadata": {},
     "output_type": "display_data"
    },
    {
     "name": "stdout",
     "output_type": "stream",
     "text": [
      "Size of class 0.0: 60\n",
      "\n",
      "Size of class 1.0: 61\n",
      "\n"
     ]
    },
    {
     "data": {
      "application/vnd.jupyter.widget-view+json": {
       "model_id": "31fcdd84b2ea4275ad3744cc8ac5b5d2",
       "version_major": 2,
       "version_minor": 0
      },
      "text/plain": [
       "  0%|          | Fitting SlidingEstimator : 0/30 [00:00<?,       ?it/s]"
      ]
     },
     "metadata": {},
     "output_type": "display_data"
    },
    {
     "data": {
      "application/vnd.jupyter.widget-view+json": {
       "model_id": "0cf71af7d1bd4c5fbd807f20f5d78a11",
       "version_major": 2,
       "version_minor": 0
      },
      "text/plain": [
       "  0%|          | Fitting SlidingEstimator : 0/30 [00:00<?,       ?it/s]"
      ]
     },
     "metadata": {},
     "output_type": "display_data"
    },
    {
     "data": {
      "application/vnd.jupyter.widget-view+json": {
       "model_id": "e2c82f3202b44362975471289250f4b6",
       "version_major": 2,
       "version_minor": 0
      },
      "text/plain": [
       "  0%|          | Fitting SlidingEstimator : 0/30 [00:00<?,       ?it/s]"
      ]
     },
     "metadata": {},
     "output_type": "display_data"
    },
    {
     "data": {
      "application/vnd.jupyter.widget-view+json": {
       "model_id": "2fc37f86094049018f5ac9a589195315",
       "version_major": 2,
       "version_minor": 0
      },
      "text/plain": [
       "  0%|          | Fitting SlidingEstimator : 0/30 [00:00<?,       ?it/s]"
      ]
     },
     "metadata": {},
     "output_type": "display_data"
    },
    {
     "data": {
      "application/vnd.jupyter.widget-view+json": {
       "model_id": "510d79a5e90f4087b08600b92137bfc3",
       "version_major": 2,
       "version_minor": 0
      },
      "text/plain": [
       "  0%|          | Fitting SlidingEstimator : 0/30 [00:00<?,       ?it/s]"
      ]
     },
     "metadata": {},
     "output_type": "display_data"
    },
    {
     "data": {
      "application/vnd.jupyter.widget-view+json": {
       "model_id": "f5f73dd5896846b6931201fdf8bc6f0f",
       "version_major": 2,
       "version_minor": 0
      },
      "text/plain": [
       "  0%|          | Fitting SlidingEstimator : 0/30 [00:00<?,       ?it/s]"
      ]
     },
     "metadata": {},
     "output_type": "display_data"
    },
    {
     "name": "stdout",
     "output_type": "stream",
     "text": [
      "### RUNING SUBJECT VME_S05\n",
      "Size of class 0.0: 71\n",
      "\n",
      "Size of class 1.0: 69\n",
      "\n"
     ]
    },
    {
     "data": {
      "application/vnd.jupyter.widget-view+json": {
       "model_id": "27dae7948d6d4ef09b9d7cdf33e35fd6",
       "version_major": 2,
       "version_minor": 0
      },
      "text/plain": [
       "  0%|          | Fitting SlidingEstimator : 0/30 [00:00<?,       ?it/s]"
      ]
     },
     "metadata": {},
     "output_type": "display_data"
    },
    {
     "data": {
      "application/vnd.jupyter.widget-view+json": {
       "model_id": "b833f8bbfa844b2e998efa28597baa77",
       "version_major": 2,
       "version_minor": 0
      },
      "text/plain": [
       "  0%|          | Fitting SlidingEstimator : 0/30 [00:00<?,       ?it/s]"
      ]
     },
     "metadata": {},
     "output_type": "display_data"
    },
    {
     "data": {
      "application/vnd.jupyter.widget-view+json": {
       "model_id": "739cbfc95d334fbd8861da4da8650b8b",
       "version_major": 2,
       "version_minor": 0
      },
      "text/plain": [
       "  0%|          | Fitting SlidingEstimator : 0/30 [00:00<?,       ?it/s]"
      ]
     },
     "metadata": {},
     "output_type": "display_data"
    },
    {
     "data": {
      "application/vnd.jupyter.widget-view+json": {
       "model_id": "681a8625049f4e2b9820aaaea04885c2",
       "version_major": 2,
       "version_minor": 0
      },
      "text/plain": [
       "  0%|          | Fitting SlidingEstimator : 0/30 [00:00<?,       ?it/s]"
      ]
     },
     "metadata": {},
     "output_type": "display_data"
    },
    {
     "data": {
      "application/vnd.jupyter.widget-view+json": {
       "model_id": "c137753468644d23a1a8926963df6c76",
       "version_major": 2,
       "version_minor": 0
      },
      "text/plain": [
       "  0%|          | Fitting SlidingEstimator : 0/30 [00:00<?,       ?it/s]"
      ]
     },
     "metadata": {},
     "output_type": "display_data"
    },
    {
     "data": {
      "application/vnd.jupyter.widget-view+json": {
       "model_id": "4315c6d4c3dd42d78399a75a12527579",
       "version_major": 2,
       "version_minor": 0
      },
      "text/plain": [
       "  0%|          | Fitting SlidingEstimator : 0/30 [00:00<?,       ?it/s]"
      ]
     },
     "metadata": {},
     "output_type": "display_data"
    },
    {
     "name": "stdout",
     "output_type": "stream",
     "text": [
      "Size of class 0.0: 71\n",
      "\n",
      "Size of class 1.0: 69\n",
      "\n"
     ]
    },
    {
     "data": {
      "application/vnd.jupyter.widget-view+json": {
       "model_id": "c94d0c0e6b694b0da4ccce317ccf1bde",
       "version_major": 2,
       "version_minor": 0
      },
      "text/plain": [
       "  0%|          | Fitting SlidingEstimator : 0/30 [00:00<?,       ?it/s]"
      ]
     },
     "metadata": {},
     "output_type": "display_data"
    },
    {
     "data": {
      "application/vnd.jupyter.widget-view+json": {
       "model_id": "41bd94575be74bc69f9178499a41a128",
       "version_major": 2,
       "version_minor": 0
      },
      "text/plain": [
       "  0%|          | Fitting SlidingEstimator : 0/30 [00:00<?,       ?it/s]"
      ]
     },
     "metadata": {},
     "output_type": "display_data"
    },
    {
     "data": {
      "application/vnd.jupyter.widget-view+json": {
       "model_id": "53f006bf0a9c48d4bab90c7023c71060",
       "version_major": 2,
       "version_minor": 0
      },
      "text/plain": [
       "  0%|          | Fitting SlidingEstimator : 0/30 [00:00<?,       ?it/s]"
      ]
     },
     "metadata": {},
     "output_type": "display_data"
    },
    {
     "data": {
      "application/vnd.jupyter.widget-view+json": {
       "model_id": "e1037c1c0f084ae893e307c2e6488ac1",
       "version_major": 2,
       "version_minor": 0
      },
      "text/plain": [
       "  0%|          | Fitting SlidingEstimator : 0/30 [00:00<?,       ?it/s]"
      ]
     },
     "metadata": {},
     "output_type": "display_data"
    },
    {
     "data": {
      "application/vnd.jupyter.widget-view+json": {
       "model_id": "9f15ecb529d64764a2e9351d55bcc220",
       "version_major": 2,
       "version_minor": 0
      },
      "text/plain": [
       "  0%|          | Fitting SlidingEstimator : 0/30 [00:00<?,       ?it/s]"
      ]
     },
     "metadata": {},
     "output_type": "display_data"
    },
    {
     "data": {
      "application/vnd.jupyter.widget-view+json": {
       "model_id": "2073fb5bbdd64dfb91ab721445d8678d",
       "version_major": 2,
       "version_minor": 0
      },
      "text/plain": [
       "  0%|          | Fitting SlidingEstimator : 0/30 [00:00<?,       ?it/s]"
      ]
     },
     "metadata": {},
     "output_type": "display_data"
    },
    {
     "name": "stdout",
     "output_type": "stream",
     "text": [
      "### RUNING SUBJECT VME_S06\n",
      "Size of class 0.0: 71\n",
      "\n",
      "Size of class 1.0: 71\n",
      "\n"
     ]
    },
    {
     "data": {
      "application/vnd.jupyter.widget-view+json": {
       "model_id": "66cf96dbda054b889a5da5f77d497743",
       "version_major": 2,
       "version_minor": 0
      },
      "text/plain": [
       "  0%|          | Fitting SlidingEstimator : 0/30 [00:00<?,       ?it/s]"
      ]
     },
     "metadata": {},
     "output_type": "display_data"
    },
    {
     "data": {
      "application/vnd.jupyter.widget-view+json": {
       "model_id": "1bf071b639174919a11a47e17ec79d9a",
       "version_major": 2,
       "version_minor": 0
      },
      "text/plain": [
       "  0%|          | Fitting SlidingEstimator : 0/30 [00:00<?,       ?it/s]"
      ]
     },
     "metadata": {},
     "output_type": "display_data"
    },
    {
     "data": {
      "application/vnd.jupyter.widget-view+json": {
       "model_id": "e9b035d5c09144728d581b83d9bf808c",
       "version_major": 2,
       "version_minor": 0
      },
      "text/plain": [
       "  0%|          | Fitting SlidingEstimator : 0/30 [00:00<?,       ?it/s]"
      ]
     },
     "metadata": {},
     "output_type": "display_data"
    },
    {
     "data": {
      "application/vnd.jupyter.widget-view+json": {
       "model_id": "5e574cc37841401999ccf7ce134864ec",
       "version_major": 2,
       "version_minor": 0
      },
      "text/plain": [
       "  0%|          | Fitting SlidingEstimator : 0/30 [00:00<?,       ?it/s]"
      ]
     },
     "metadata": {},
     "output_type": "display_data"
    },
    {
     "data": {
      "application/vnd.jupyter.widget-view+json": {
       "model_id": "ba77422e2bdf4645afea83a5c67f41f5",
       "version_major": 2,
       "version_minor": 0
      },
      "text/plain": [
       "  0%|          | Fitting SlidingEstimator : 0/30 [00:00<?,       ?it/s]"
      ]
     },
     "metadata": {},
     "output_type": "display_data"
    },
    {
     "data": {
      "application/vnd.jupyter.widget-view+json": {
       "model_id": "59e3248323f8449992cc11fbd3130360",
       "version_major": 2,
       "version_minor": 0
      },
      "text/plain": [
       "  0%|          | Fitting SlidingEstimator : 0/30 [00:00<?,       ?it/s]"
      ]
     },
     "metadata": {},
     "output_type": "display_data"
    },
    {
     "name": "stdout",
     "output_type": "stream",
     "text": [
      "Size of class 0.0: 71\n",
      "\n",
      "Size of class 1.0: 71\n",
      "\n"
     ]
    },
    {
     "data": {
      "application/vnd.jupyter.widget-view+json": {
       "model_id": "fc5075921f8a463cb0c3304bc2c85074",
       "version_major": 2,
       "version_minor": 0
      },
      "text/plain": [
       "  0%|          | Fitting SlidingEstimator : 0/30 [00:00<?,       ?it/s]"
      ]
     },
     "metadata": {},
     "output_type": "display_data"
    },
    {
     "data": {
      "application/vnd.jupyter.widget-view+json": {
       "model_id": "3b09b67ebcaf4dfaba787fd615176166",
       "version_major": 2,
       "version_minor": 0
      },
      "text/plain": [
       "  0%|          | Fitting SlidingEstimator : 0/30 [00:00<?,       ?it/s]"
      ]
     },
     "metadata": {},
     "output_type": "display_data"
    },
    {
     "data": {
      "application/vnd.jupyter.widget-view+json": {
       "model_id": "e028ce1db2074f619a075f3dea1f6b70",
       "version_major": 2,
       "version_minor": 0
      },
      "text/plain": [
       "  0%|          | Fitting SlidingEstimator : 0/30 [00:00<?,       ?it/s]"
      ]
     },
     "metadata": {},
     "output_type": "display_data"
    },
    {
     "data": {
      "application/vnd.jupyter.widget-view+json": {
       "model_id": "3cf48f74fa184c0fa1aa9b16261a6f4d",
       "version_major": 2,
       "version_minor": 0
      },
      "text/plain": [
       "  0%|          | Fitting SlidingEstimator : 0/30 [00:00<?,       ?it/s]"
      ]
     },
     "metadata": {},
     "output_type": "display_data"
    },
    {
     "data": {
      "application/vnd.jupyter.widget-view+json": {
       "model_id": "c94f039cca5f4146be74dcd498e699d0",
       "version_major": 2,
       "version_minor": 0
      },
      "text/plain": [
       "  0%|          | Fitting SlidingEstimator : 0/30 [00:00<?,       ?it/s]"
      ]
     },
     "metadata": {},
     "output_type": "display_data"
    },
    {
     "data": {
      "application/vnd.jupyter.widget-view+json": {
       "model_id": "a5d2b3fd00dd4c99b2ea2157da47e096",
       "version_major": 2,
       "version_minor": 0
      },
      "text/plain": [
       "  0%|          | Fitting SlidingEstimator : 0/30 [00:00<?,       ?it/s]"
      ]
     },
     "metadata": {},
     "output_type": "display_data"
    },
    {
     "name": "stdout",
     "output_type": "stream",
     "text": [
      "### RUNING SUBJECT VME_S07\n",
      "Size of class 0.0: 69\n",
      "\n",
      "Size of class 1.0: 71\n",
      "\n"
     ]
    },
    {
     "data": {
      "application/vnd.jupyter.widget-view+json": {
       "model_id": "f948da654c084f4981fc3fa3d17b4904",
       "version_major": 2,
       "version_minor": 0
      },
      "text/plain": [
       "  0%|          | Fitting SlidingEstimator : 0/30 [00:00<?,       ?it/s]"
      ]
     },
     "metadata": {},
     "output_type": "display_data"
    },
    {
     "data": {
      "application/vnd.jupyter.widget-view+json": {
       "model_id": "a767b54fd8e141c2b7db57a017269908",
       "version_major": 2,
       "version_minor": 0
      },
      "text/plain": [
       "  0%|          | Fitting SlidingEstimator : 0/30 [00:00<?,       ?it/s]"
      ]
     },
     "metadata": {},
     "output_type": "display_data"
    },
    {
     "data": {
      "application/vnd.jupyter.widget-view+json": {
       "model_id": "2448e94b9a8a43928e18f0cccc3ca200",
       "version_major": 2,
       "version_minor": 0
      },
      "text/plain": [
       "  0%|          | Fitting SlidingEstimator : 0/30 [00:00<?,       ?it/s]"
      ]
     },
     "metadata": {},
     "output_type": "display_data"
    },
    {
     "data": {
      "application/vnd.jupyter.widget-view+json": {
       "model_id": "eb7392a414614e9290681ca61d41c378",
       "version_major": 2,
       "version_minor": 0
      },
      "text/plain": [
       "  0%|          | Fitting SlidingEstimator : 0/30 [00:00<?,       ?it/s]"
      ]
     },
     "metadata": {},
     "output_type": "display_data"
    },
    {
     "data": {
      "application/vnd.jupyter.widget-view+json": {
       "model_id": "7898a9129f49405c93cc3c130933327f",
       "version_major": 2,
       "version_minor": 0
      },
      "text/plain": [
       "  0%|          | Fitting SlidingEstimator : 0/30 [00:00<?,       ?it/s]"
      ]
     },
     "metadata": {},
     "output_type": "display_data"
    },
    {
     "data": {
      "application/vnd.jupyter.widget-view+json": {
       "model_id": "5f9d635272f84fd4bccf1dd96ba9a096",
       "version_major": 2,
       "version_minor": 0
      },
      "text/plain": [
       "  0%|          | Fitting SlidingEstimator : 0/30 [00:00<?,       ?it/s]"
      ]
     },
     "metadata": {},
     "output_type": "display_data"
    },
    {
     "name": "stdout",
     "output_type": "stream",
     "text": [
      "Size of class 0.0: 69\n",
      "\n",
      "Size of class 1.0: 71\n",
      "\n"
     ]
    },
    {
     "data": {
      "application/vnd.jupyter.widget-view+json": {
       "model_id": "464176cb97be48659b1b0a1ed794f373",
       "version_major": 2,
       "version_minor": 0
      },
      "text/plain": [
       "  0%|          | Fitting SlidingEstimator : 0/30 [00:00<?,       ?it/s]"
      ]
     },
     "metadata": {},
     "output_type": "display_data"
    },
    {
     "data": {
      "application/vnd.jupyter.widget-view+json": {
       "model_id": "e97a363cc3404e89851321774301b1f4",
       "version_major": 2,
       "version_minor": 0
      },
      "text/plain": [
       "  0%|          | Fitting SlidingEstimator : 0/30 [00:00<?,       ?it/s]"
      ]
     },
     "metadata": {},
     "output_type": "display_data"
    },
    {
     "data": {
      "application/vnd.jupyter.widget-view+json": {
       "model_id": "f3d78d4cc9c643d4bf9784392f44604d",
       "version_major": 2,
       "version_minor": 0
      },
      "text/plain": [
       "  0%|          | Fitting SlidingEstimator : 0/30 [00:00<?,       ?it/s]"
      ]
     },
     "metadata": {},
     "output_type": "display_data"
    },
    {
     "data": {
      "application/vnd.jupyter.widget-view+json": {
       "model_id": "894b5e9e7c0644d0adf0661524d6c645",
       "version_major": 2,
       "version_minor": 0
      },
      "text/plain": [
       "  0%|          | Fitting SlidingEstimator : 0/30 [00:00<?,       ?it/s]"
      ]
     },
     "metadata": {},
     "output_type": "display_data"
    },
    {
     "data": {
      "application/vnd.jupyter.widget-view+json": {
       "model_id": "c5483a356f274b7f93d5f8dd753eacbc",
       "version_major": 2,
       "version_minor": 0
      },
      "text/plain": [
       "  0%|          | Fitting SlidingEstimator : 0/30 [00:00<?,       ?it/s]"
      ]
     },
     "metadata": {},
     "output_type": "display_data"
    },
    {
     "data": {
      "application/vnd.jupyter.widget-view+json": {
       "model_id": "094cdf16789143d281a166921261dfae",
       "version_major": 2,
       "version_minor": 0
      },
      "text/plain": [
       "  0%|          | Fitting SlidingEstimator : 0/30 [00:00<?,       ?it/s]"
      ]
     },
     "metadata": {},
     "output_type": "display_data"
    },
    {
     "name": "stdout",
     "output_type": "stream",
     "text": [
      "### RUNING SUBJECT VME_S08\n",
      "Size of class 0.0: 67\n",
      "\n",
      "Size of class 1.0: 66\n",
      "\n"
     ]
    },
    {
     "data": {
      "application/vnd.jupyter.widget-view+json": {
       "model_id": "3e9a316296fd4a6bb3f20dc51619195d",
       "version_major": 2,
       "version_minor": 0
      },
      "text/plain": [
       "  0%|          | Fitting SlidingEstimator : 0/30 [00:00<?,       ?it/s]"
      ]
     },
     "metadata": {},
     "output_type": "display_data"
    },
    {
     "data": {
      "application/vnd.jupyter.widget-view+json": {
       "model_id": "8f245eab1167487fb45b1da26c0871f2",
       "version_major": 2,
       "version_minor": 0
      },
      "text/plain": [
       "  0%|          | Fitting SlidingEstimator : 0/30 [00:00<?,       ?it/s]"
      ]
     },
     "metadata": {},
     "output_type": "display_data"
    },
    {
     "data": {
      "application/vnd.jupyter.widget-view+json": {
       "model_id": "d15678ed621c44fa90ba0e9f8242ddc7",
       "version_major": 2,
       "version_minor": 0
      },
      "text/plain": [
       "  0%|          | Fitting SlidingEstimator : 0/30 [00:00<?,       ?it/s]"
      ]
     },
     "metadata": {},
     "output_type": "display_data"
    },
    {
     "data": {
      "application/vnd.jupyter.widget-view+json": {
       "model_id": "e982aa747ec246d28c3151a342f1b3d2",
       "version_major": 2,
       "version_minor": 0
      },
      "text/plain": [
       "  0%|          | Fitting SlidingEstimator : 0/30 [00:00<?,       ?it/s]"
      ]
     },
     "metadata": {},
     "output_type": "display_data"
    },
    {
     "data": {
      "application/vnd.jupyter.widget-view+json": {
       "model_id": "7dbed2aecd1842dbaf03e57ce438c31a",
       "version_major": 2,
       "version_minor": 0
      },
      "text/plain": [
       "  0%|          | Fitting SlidingEstimator : 0/30 [00:00<?,       ?it/s]"
      ]
     },
     "metadata": {},
     "output_type": "display_data"
    },
    {
     "data": {
      "application/vnd.jupyter.widget-view+json": {
       "model_id": "7c1afc5bed35464e82767c5791243755",
       "version_major": 2,
       "version_minor": 0
      },
      "text/plain": [
       "  0%|          | Fitting SlidingEstimator : 0/30 [00:00<?,       ?it/s]"
      ]
     },
     "metadata": {},
     "output_type": "display_data"
    },
    {
     "name": "stdout",
     "output_type": "stream",
     "text": [
      "Size of class 0.0: 67\n",
      "\n",
      "Size of class 1.0: 66\n",
      "\n"
     ]
    },
    {
     "data": {
      "application/vnd.jupyter.widget-view+json": {
       "model_id": "2986944eda954d3887c0c0584f4c32b1",
       "version_major": 2,
       "version_minor": 0
      },
      "text/plain": [
       "  0%|          | Fitting SlidingEstimator : 0/30 [00:00<?,       ?it/s]"
      ]
     },
     "metadata": {},
     "output_type": "display_data"
    },
    {
     "data": {
      "application/vnd.jupyter.widget-view+json": {
       "model_id": "e49f09c13ae8492d93c2709274aa1889",
       "version_major": 2,
       "version_minor": 0
      },
      "text/plain": [
       "  0%|          | Fitting SlidingEstimator : 0/30 [00:00<?,       ?it/s]"
      ]
     },
     "metadata": {},
     "output_type": "display_data"
    },
    {
     "data": {
      "application/vnd.jupyter.widget-view+json": {
       "model_id": "b4290a24083e4404980ce1cfd9492b68",
       "version_major": 2,
       "version_minor": 0
      },
      "text/plain": [
       "  0%|          | Fitting SlidingEstimator : 0/30 [00:00<?,       ?it/s]"
      ]
     },
     "metadata": {},
     "output_type": "display_data"
    },
    {
     "data": {
      "application/vnd.jupyter.widget-view+json": {
       "model_id": "41868cf7f5b840618f035ea19f769686",
       "version_major": 2,
       "version_minor": 0
      },
      "text/plain": [
       "  0%|          | Fitting SlidingEstimator : 0/30 [00:00<?,       ?it/s]"
      ]
     },
     "metadata": {},
     "output_type": "display_data"
    },
    {
     "data": {
      "application/vnd.jupyter.widget-view+json": {
       "model_id": "c53f3ac6111d4edab16d57a1ac94a3e9",
       "version_major": 2,
       "version_minor": 0
      },
      "text/plain": [
       "  0%|          | Fitting SlidingEstimator : 0/30 [00:00<?,       ?it/s]"
      ]
     },
     "metadata": {},
     "output_type": "display_data"
    },
    {
     "data": {
      "application/vnd.jupyter.widget-view+json": {
       "model_id": "4dabfbbdb67d401f9108cbf39e24e0ff",
       "version_major": 2,
       "version_minor": 0
      },
      "text/plain": [
       "  0%|          | Fitting SlidingEstimator : 0/30 [00:00<?,       ?it/s]"
      ]
     },
     "metadata": {},
     "output_type": "display_data"
    },
    {
     "name": "stdout",
     "output_type": "stream",
     "text": [
      "### RUNING SUBJECT VME_S09\n",
      "Size of class 0.0: 63\n",
      "\n",
      "Size of class 1.0: 67\n",
      "\n"
     ]
    },
    {
     "data": {
      "application/vnd.jupyter.widget-view+json": {
       "model_id": "2381e3a7a1ba4d1c95679a5e120af172",
       "version_major": 2,
       "version_minor": 0
      },
      "text/plain": [
       "  0%|          | Fitting SlidingEstimator : 0/30 [00:00<?,       ?it/s]"
      ]
     },
     "metadata": {},
     "output_type": "display_data"
    },
    {
     "data": {
      "application/vnd.jupyter.widget-view+json": {
       "model_id": "8bfee4d858e64b8dbce34040160938ad",
       "version_major": 2,
       "version_minor": 0
      },
      "text/plain": [
       "  0%|          | Fitting SlidingEstimator : 0/30 [00:00<?,       ?it/s]"
      ]
     },
     "metadata": {},
     "output_type": "display_data"
    },
    {
     "data": {
      "application/vnd.jupyter.widget-view+json": {
       "model_id": "1d7329a37cea473ea5090566618f05d3",
       "version_major": 2,
       "version_minor": 0
      },
      "text/plain": [
       "  0%|          | Fitting SlidingEstimator : 0/30 [00:00<?,       ?it/s]"
      ]
     },
     "metadata": {},
     "output_type": "display_data"
    },
    {
     "data": {
      "application/vnd.jupyter.widget-view+json": {
       "model_id": "eadb41e606be4cd888e8ffc99eba447c",
       "version_major": 2,
       "version_minor": 0
      },
      "text/plain": [
       "  0%|          | Fitting SlidingEstimator : 0/30 [00:00<?,       ?it/s]"
      ]
     },
     "metadata": {},
     "output_type": "display_data"
    },
    {
     "data": {
      "application/vnd.jupyter.widget-view+json": {
       "model_id": "be41c69f4376480dabb4c8a74cdfd90e",
       "version_major": 2,
       "version_minor": 0
      },
      "text/plain": [
       "  0%|          | Fitting SlidingEstimator : 0/30 [00:00<?,       ?it/s]"
      ]
     },
     "metadata": {},
     "output_type": "display_data"
    },
    {
     "data": {
      "application/vnd.jupyter.widget-view+json": {
       "model_id": "7bff580a54194b08a7fbda683cdb6bc9",
       "version_major": 2,
       "version_minor": 0
      },
      "text/plain": [
       "  0%|          | Fitting SlidingEstimator : 0/30 [00:00<?,       ?it/s]"
      ]
     },
     "metadata": {},
     "output_type": "display_data"
    },
    {
     "name": "stdout",
     "output_type": "stream",
     "text": [
      "Size of class 0.0: 63\n",
      "\n",
      "Size of class 1.0: 67\n",
      "\n"
     ]
    },
    {
     "data": {
      "application/vnd.jupyter.widget-view+json": {
       "model_id": "48e7d7dedb014dd1baf24406c99d018a",
       "version_major": 2,
       "version_minor": 0
      },
      "text/plain": [
       "  0%|          | Fitting SlidingEstimator : 0/30 [00:00<?,       ?it/s]"
      ]
     },
     "metadata": {},
     "output_type": "display_data"
    },
    {
     "data": {
      "application/vnd.jupyter.widget-view+json": {
       "model_id": "b98c4b7757cb432eb5a7c24c7e52fc39",
       "version_major": 2,
       "version_minor": 0
      },
      "text/plain": [
       "  0%|          | Fitting SlidingEstimator : 0/30 [00:00<?,       ?it/s]"
      ]
     },
     "metadata": {},
     "output_type": "display_data"
    },
    {
     "data": {
      "application/vnd.jupyter.widget-view+json": {
       "model_id": "c1f3b457556c4d0294553e21fb37ad48",
       "version_major": 2,
       "version_minor": 0
      },
      "text/plain": [
       "  0%|          | Fitting SlidingEstimator : 0/30 [00:00<?,       ?it/s]"
      ]
     },
     "metadata": {},
     "output_type": "display_data"
    },
    {
     "data": {
      "application/vnd.jupyter.widget-view+json": {
       "model_id": "3e75f0c7a40548c496ec334d57717b0f",
       "version_major": 2,
       "version_minor": 0
      },
      "text/plain": [
       "  0%|          | Fitting SlidingEstimator : 0/30 [00:00<?,       ?it/s]"
      ]
     },
     "metadata": {},
     "output_type": "display_data"
    },
    {
     "data": {
      "application/vnd.jupyter.widget-view+json": {
       "model_id": "74e1e319a00b4d89b5f15081117af47d",
       "version_major": 2,
       "version_minor": 0
      },
      "text/plain": [
       "  0%|          | Fitting SlidingEstimator : 0/30 [00:00<?,       ?it/s]"
      ]
     },
     "metadata": {},
     "output_type": "display_data"
    },
    {
     "data": {
      "application/vnd.jupyter.widget-view+json": {
       "model_id": "3b64a38d0c214998b5a74a0398e3dd8e",
       "version_major": 2,
       "version_minor": 0
      },
      "text/plain": [
       "  0%|          | Fitting SlidingEstimator : 0/30 [00:00<?,       ?it/s]"
      ]
     },
     "metadata": {},
     "output_type": "display_data"
    },
    {
     "name": "stdout",
     "output_type": "stream",
     "text": [
      "### RUNING SUBJECT VME_S10\n",
      "Size of class 0.0: 70\n",
      "\n",
      "Size of class 1.0: 70\n",
      "\n"
     ]
    },
    {
     "data": {
      "application/vnd.jupyter.widget-view+json": {
       "model_id": "3582cde6c6b047b4b5940f4d5005fb11",
       "version_major": 2,
       "version_minor": 0
      },
      "text/plain": [
       "  0%|          | Fitting SlidingEstimator : 0/30 [00:00<?,       ?it/s]"
      ]
     },
     "metadata": {},
     "output_type": "display_data"
    },
    {
     "data": {
      "application/vnd.jupyter.widget-view+json": {
       "model_id": "465ab0d291334939a4449a734ae2b815",
       "version_major": 2,
       "version_minor": 0
      },
      "text/plain": [
       "  0%|          | Fitting SlidingEstimator : 0/30 [00:00<?,       ?it/s]"
      ]
     },
     "metadata": {},
     "output_type": "display_data"
    },
    {
     "data": {
      "application/vnd.jupyter.widget-view+json": {
       "model_id": "956db09b1ad14adda4383a8b45dd4da5",
       "version_major": 2,
       "version_minor": 0
      },
      "text/plain": [
       "  0%|          | Fitting SlidingEstimator : 0/30 [00:00<?,       ?it/s]"
      ]
     },
     "metadata": {},
     "output_type": "display_data"
    },
    {
     "data": {
      "application/vnd.jupyter.widget-view+json": {
       "model_id": "b1c3c95df4fe49f291423c1aeeb64164",
       "version_major": 2,
       "version_minor": 0
      },
      "text/plain": [
       "  0%|          | Fitting SlidingEstimator : 0/30 [00:00<?,       ?it/s]"
      ]
     },
     "metadata": {},
     "output_type": "display_data"
    },
    {
     "data": {
      "application/vnd.jupyter.widget-view+json": {
       "model_id": "daf031cfb2104cc19498ef83b36029e9",
       "version_major": 2,
       "version_minor": 0
      },
      "text/plain": [
       "  0%|          | Fitting SlidingEstimator : 0/30 [00:00<?,       ?it/s]"
      ]
     },
     "metadata": {},
     "output_type": "display_data"
    },
    {
     "data": {
      "application/vnd.jupyter.widget-view+json": {
       "model_id": "e31a4ad9984046aa8b229d626cf3fe81",
       "version_major": 2,
       "version_minor": 0
      },
      "text/plain": [
       "  0%|          | Fitting SlidingEstimator : 0/30 [00:00<?,       ?it/s]"
      ]
     },
     "metadata": {},
     "output_type": "display_data"
    },
    {
     "name": "stdout",
     "output_type": "stream",
     "text": [
      "Size of class 0.0: 70\n",
      "\n",
      "Size of class 1.0: 70\n",
      "\n"
     ]
    },
    {
     "data": {
      "application/vnd.jupyter.widget-view+json": {
       "model_id": "e3c35961c0534c11975399cc248f7af9",
       "version_major": 2,
       "version_minor": 0
      },
      "text/plain": [
       "  0%|          | Fitting SlidingEstimator : 0/30 [00:00<?,       ?it/s]"
      ]
     },
     "metadata": {},
     "output_type": "display_data"
    },
    {
     "data": {
      "application/vnd.jupyter.widget-view+json": {
       "model_id": "1a9b0a96d1fd437db91ac5219b742e53",
       "version_major": 2,
       "version_minor": 0
      },
      "text/plain": [
       "  0%|          | Fitting SlidingEstimator : 0/30 [00:00<?,       ?it/s]"
      ]
     },
     "metadata": {},
     "output_type": "display_data"
    },
    {
     "data": {
      "application/vnd.jupyter.widget-view+json": {
       "model_id": "18b95632cfce4365aec487109911879a",
       "version_major": 2,
       "version_minor": 0
      },
      "text/plain": [
       "  0%|          | Fitting SlidingEstimator : 0/30 [00:00<?,       ?it/s]"
      ]
     },
     "metadata": {},
     "output_type": "display_data"
    },
    {
     "data": {
      "application/vnd.jupyter.widget-view+json": {
       "model_id": "4c84c971714d40f681e0b0e204288e2b",
       "version_major": 2,
       "version_minor": 0
      },
      "text/plain": [
       "  0%|          | Fitting SlidingEstimator : 0/30 [00:00<?,       ?it/s]"
      ]
     },
     "metadata": {},
     "output_type": "display_data"
    },
    {
     "data": {
      "application/vnd.jupyter.widget-view+json": {
       "model_id": "078bcf91e5dd4053a7685afb280284a9",
       "version_major": 2,
       "version_minor": 0
      },
      "text/plain": [
       "  0%|          | Fitting SlidingEstimator : 0/30 [00:00<?,       ?it/s]"
      ]
     },
     "metadata": {},
     "output_type": "display_data"
    },
    {
     "data": {
      "application/vnd.jupyter.widget-view+json": {
       "model_id": "2f30c6a1377646c1a14ac6dc85a91271",
       "version_major": 2,
       "version_minor": 0
      },
      "text/plain": [
       "  0%|          | Fitting SlidingEstimator : 0/30 [00:00<?,       ?it/s]"
      ]
     },
     "metadata": {},
     "output_type": "display_data"
    },
    {
     "name": "stdout",
     "output_type": "stream",
     "text": [
      "### RUNING SUBJECT VME_S15\n",
      "Size of class 0.0: 64\n",
      "\n",
      "Size of class 1.0: 64\n",
      "\n"
     ]
    },
    {
     "data": {
      "application/vnd.jupyter.widget-view+json": {
       "model_id": "a2297d9d27bb4ea2b83842f77d00bd89",
       "version_major": 2,
       "version_minor": 0
      },
      "text/plain": [
       "  0%|          | Fitting SlidingEstimator : 0/30 [00:00<?,       ?it/s]"
      ]
     },
     "metadata": {},
     "output_type": "display_data"
    },
    {
     "data": {
      "application/vnd.jupyter.widget-view+json": {
       "model_id": "b1f795b037854e669d71a7f80cca9dc1",
       "version_major": 2,
       "version_minor": 0
      },
      "text/plain": [
       "  0%|          | Fitting SlidingEstimator : 0/30 [00:00<?,       ?it/s]"
      ]
     },
     "metadata": {},
     "output_type": "display_data"
    },
    {
     "data": {
      "application/vnd.jupyter.widget-view+json": {
       "model_id": "8e61b023f8ff481b9fea8bcabb068b2b",
       "version_major": 2,
       "version_minor": 0
      },
      "text/plain": [
       "  0%|          | Fitting SlidingEstimator : 0/30 [00:00<?,       ?it/s]"
      ]
     },
     "metadata": {},
     "output_type": "display_data"
    },
    {
     "data": {
      "application/vnd.jupyter.widget-view+json": {
       "model_id": "d79dda8fe38c45509a03cc4ce8099c6f",
       "version_major": 2,
       "version_minor": 0
      },
      "text/plain": [
       "  0%|          | Fitting SlidingEstimator : 0/30 [00:00<?,       ?it/s]"
      ]
     },
     "metadata": {},
     "output_type": "display_data"
    },
    {
     "data": {
      "application/vnd.jupyter.widget-view+json": {
       "model_id": "42d8743d5dc940f7b009c0233ebbf117",
       "version_major": 2,
       "version_minor": 0
      },
      "text/plain": [
       "  0%|          | Fitting SlidingEstimator : 0/30 [00:00<?,       ?it/s]"
      ]
     },
     "metadata": {},
     "output_type": "display_data"
    },
    {
     "data": {
      "application/vnd.jupyter.widget-view+json": {
       "model_id": "65cfc184d01b42b195d1e72122e84fc3",
       "version_major": 2,
       "version_minor": 0
      },
      "text/plain": [
       "  0%|          | Fitting SlidingEstimator : 0/30 [00:00<?,       ?it/s]"
      ]
     },
     "metadata": {},
     "output_type": "display_data"
    },
    {
     "name": "stdout",
     "output_type": "stream",
     "text": [
      "Size of class 0.0: 64\n",
      "\n",
      "Size of class 1.0: 64\n",
      "\n"
     ]
    },
    {
     "data": {
      "application/vnd.jupyter.widget-view+json": {
       "model_id": "d5a65fa822274f7f97eb8ff77592ea40",
       "version_major": 2,
       "version_minor": 0
      },
      "text/plain": [
       "  0%|          | Fitting SlidingEstimator : 0/30 [00:00<?,       ?it/s]"
      ]
     },
     "metadata": {},
     "output_type": "display_data"
    },
    {
     "data": {
      "application/vnd.jupyter.widget-view+json": {
       "model_id": "51a31fc3421c48dbb2ed181cb4282932",
       "version_major": 2,
       "version_minor": 0
      },
      "text/plain": [
       "  0%|          | Fitting SlidingEstimator : 0/30 [00:00<?,       ?it/s]"
      ]
     },
     "metadata": {},
     "output_type": "display_data"
    },
    {
     "data": {
      "application/vnd.jupyter.widget-view+json": {
       "model_id": "e9519f05198a4fc586f1f0187bf60af6",
       "version_major": 2,
       "version_minor": 0
      },
      "text/plain": [
       "  0%|          | Fitting SlidingEstimator : 0/30 [00:00<?,       ?it/s]"
      ]
     },
     "metadata": {},
     "output_type": "display_data"
    },
    {
     "data": {
      "application/vnd.jupyter.widget-view+json": {
       "model_id": "65e5a832a44343c6a340a01109f808f9",
       "version_major": 2,
       "version_minor": 0
      },
      "text/plain": [
       "  0%|          | Fitting SlidingEstimator : 0/30 [00:00<?,       ?it/s]"
      ]
     },
     "metadata": {},
     "output_type": "display_data"
    },
    {
     "data": {
      "application/vnd.jupyter.widget-view+json": {
       "model_id": "4e364a1e5d2644ab94aede5a437e9622",
       "version_major": 2,
       "version_minor": 0
      },
      "text/plain": [
       "  0%|          | Fitting SlidingEstimator : 0/30 [00:00<?,       ?it/s]"
      ]
     },
     "metadata": {},
     "output_type": "display_data"
    },
    {
     "data": {
      "application/vnd.jupyter.widget-view+json": {
       "model_id": "38b926cb9e6e44098ba679baca9f53c3",
       "version_major": 2,
       "version_minor": 0
      },
      "text/plain": [
       "  0%|          | Fitting SlidingEstimator : 0/30 [00:00<?,       ?it/s]"
      ]
     },
     "metadata": {},
     "output_type": "display_data"
    },
    {
     "name": "stdout",
     "output_type": "stream",
     "text": [
      "### RUNING SUBJECT VME_S16\n",
      "Size of class 0.0: 63\n",
      "\n",
      "Size of class 1.0: 62\n",
      "\n"
     ]
    },
    {
     "data": {
      "application/vnd.jupyter.widget-view+json": {
       "model_id": "0dd90970af8944c88fe532c1e93596c6",
       "version_major": 2,
       "version_minor": 0
      },
      "text/plain": [
       "  0%|          | Fitting SlidingEstimator : 0/30 [00:00<?,       ?it/s]"
      ]
     },
     "metadata": {},
     "output_type": "display_data"
    },
    {
     "data": {
      "application/vnd.jupyter.widget-view+json": {
       "model_id": "bb85376d56cc4435a04e471d1d9de9f2",
       "version_major": 2,
       "version_minor": 0
      },
      "text/plain": [
       "  0%|          | Fitting SlidingEstimator : 0/30 [00:00<?,       ?it/s]"
      ]
     },
     "metadata": {},
     "output_type": "display_data"
    },
    {
     "data": {
      "application/vnd.jupyter.widget-view+json": {
       "model_id": "142ad86c57464b4393c1b279303c3d13",
       "version_major": 2,
       "version_minor": 0
      },
      "text/plain": [
       "  0%|          | Fitting SlidingEstimator : 0/30 [00:00<?,       ?it/s]"
      ]
     },
     "metadata": {},
     "output_type": "display_data"
    },
    {
     "data": {
      "application/vnd.jupyter.widget-view+json": {
       "model_id": "4e6eb3adf7ec4878b5bf6ef78bd2ccd6",
       "version_major": 2,
       "version_minor": 0
      },
      "text/plain": [
       "  0%|          | Fitting SlidingEstimator : 0/30 [00:00<?,       ?it/s]"
      ]
     },
     "metadata": {},
     "output_type": "display_data"
    },
    {
     "data": {
      "application/vnd.jupyter.widget-view+json": {
       "model_id": "32a1676298b245a3bb127029b2342028",
       "version_major": 2,
       "version_minor": 0
      },
      "text/plain": [
       "  0%|          | Fitting SlidingEstimator : 0/30 [00:00<?,       ?it/s]"
      ]
     },
     "metadata": {},
     "output_type": "display_data"
    },
    {
     "data": {
      "application/vnd.jupyter.widget-view+json": {
       "model_id": "29f893f982384d9e85657e74139ff925",
       "version_major": 2,
       "version_minor": 0
      },
      "text/plain": [
       "  0%|          | Fitting SlidingEstimator : 0/30 [00:00<?,       ?it/s]"
      ]
     },
     "metadata": {},
     "output_type": "display_data"
    },
    {
     "name": "stdout",
     "output_type": "stream",
     "text": [
      "Size of class 0.0: 63\n",
      "\n",
      "Size of class 1.0: 62\n",
      "\n"
     ]
    },
    {
     "data": {
      "application/vnd.jupyter.widget-view+json": {
       "model_id": "402fd32eaafb4f25b6ea25be61734ca5",
       "version_major": 2,
       "version_minor": 0
      },
      "text/plain": [
       "  0%|          | Fitting SlidingEstimator : 0/30 [00:00<?,       ?it/s]"
      ]
     },
     "metadata": {},
     "output_type": "display_data"
    },
    {
     "data": {
      "application/vnd.jupyter.widget-view+json": {
       "model_id": "3b04b97abb3a4e88a78f82588fc7c337",
       "version_major": 2,
       "version_minor": 0
      },
      "text/plain": [
       "  0%|          | Fitting SlidingEstimator : 0/30 [00:00<?,       ?it/s]"
      ]
     },
     "metadata": {},
     "output_type": "display_data"
    },
    {
     "data": {
      "application/vnd.jupyter.widget-view+json": {
       "model_id": "c96ea54f8887451b9a972e288036e9dc",
       "version_major": 2,
       "version_minor": 0
      },
      "text/plain": [
       "  0%|          | Fitting SlidingEstimator : 0/30 [00:00<?,       ?it/s]"
      ]
     },
     "metadata": {},
     "output_type": "display_data"
    },
    {
     "data": {
      "application/vnd.jupyter.widget-view+json": {
       "model_id": "8ec38fe8fe684ec0847f88d9aa7c00e3",
       "version_major": 2,
       "version_minor": 0
      },
      "text/plain": [
       "  0%|          | Fitting SlidingEstimator : 0/30 [00:00<?,       ?it/s]"
      ]
     },
     "metadata": {},
     "output_type": "display_data"
    },
    {
     "data": {
      "application/vnd.jupyter.widget-view+json": {
       "model_id": "449cd5c5a27f4d609469997403f76df9",
       "version_major": 2,
       "version_minor": 0
      },
      "text/plain": [
       "  0%|          | Fitting SlidingEstimator : 0/30 [00:00<?,       ?it/s]"
      ]
     },
     "metadata": {},
     "output_type": "display_data"
    },
    {
     "data": {
      "application/vnd.jupyter.widget-view+json": {
       "model_id": "0912c28bc309449fa7847aa411595288",
       "version_major": 2,
       "version_minor": 0
      },
      "text/plain": [
       "  0%|          | Fitting SlidingEstimator : 0/30 [00:00<?,       ?it/s]"
      ]
     },
     "metadata": {},
     "output_type": "display_data"
    },
    {
     "name": "stdout",
     "output_type": "stream",
     "text": [
      "### RUNING SUBJECT VME_S17\n",
      "Size of class 0.0: 68\n",
      "\n",
      "Size of class 1.0: 65\n",
      "\n"
     ]
    },
    {
     "data": {
      "application/vnd.jupyter.widget-view+json": {
       "model_id": "a98c16bb09024d9e88c6c8d1e31c6557",
       "version_major": 2,
       "version_minor": 0
      },
      "text/plain": [
       "  0%|          | Fitting SlidingEstimator : 0/30 [00:00<?,       ?it/s]"
      ]
     },
     "metadata": {},
     "output_type": "display_data"
    },
    {
     "data": {
      "application/vnd.jupyter.widget-view+json": {
       "model_id": "01f1d981880e4ddeaa9d55b307a0d640",
       "version_major": 2,
       "version_minor": 0
      },
      "text/plain": [
       "  0%|          | Fitting SlidingEstimator : 0/30 [00:00<?,       ?it/s]"
      ]
     },
     "metadata": {},
     "output_type": "display_data"
    },
    {
     "data": {
      "application/vnd.jupyter.widget-view+json": {
       "model_id": "10799b9aef49439987b2b8ddf25288d8",
       "version_major": 2,
       "version_minor": 0
      },
      "text/plain": [
       "  0%|          | Fitting SlidingEstimator : 0/30 [00:00<?,       ?it/s]"
      ]
     },
     "metadata": {},
     "output_type": "display_data"
    },
    {
     "data": {
      "application/vnd.jupyter.widget-view+json": {
       "model_id": "3c8bb42622ea4e1da6042a74d3cf5499",
       "version_major": 2,
       "version_minor": 0
      },
      "text/plain": [
       "  0%|          | Fitting SlidingEstimator : 0/30 [00:00<?,       ?it/s]"
      ]
     },
     "metadata": {},
     "output_type": "display_data"
    },
    {
     "data": {
      "application/vnd.jupyter.widget-view+json": {
       "model_id": "9e95ca1fae2a4491a469e40597988cca",
       "version_major": 2,
       "version_minor": 0
      },
      "text/plain": [
       "  0%|          | Fitting SlidingEstimator : 0/30 [00:00<?,       ?it/s]"
      ]
     },
     "metadata": {},
     "output_type": "display_data"
    },
    {
     "data": {
      "application/vnd.jupyter.widget-view+json": {
       "model_id": "f7fdf5d349df4cad830c0a8e67db8071",
       "version_major": 2,
       "version_minor": 0
      },
      "text/plain": [
       "  0%|          | Fitting SlidingEstimator : 0/30 [00:00<?,       ?it/s]"
      ]
     },
     "metadata": {},
     "output_type": "display_data"
    },
    {
     "name": "stdout",
     "output_type": "stream",
     "text": [
      "Size of class 0.0: 68\n",
      "\n",
      "Size of class 1.0: 65\n",
      "\n"
     ]
    },
    {
     "data": {
      "application/vnd.jupyter.widget-view+json": {
       "model_id": "f0cc29be104549cb96a322d5162c54a3",
       "version_major": 2,
       "version_minor": 0
      },
      "text/plain": [
       "  0%|          | Fitting SlidingEstimator : 0/30 [00:00<?,       ?it/s]"
      ]
     },
     "metadata": {},
     "output_type": "display_data"
    },
    {
     "data": {
      "application/vnd.jupyter.widget-view+json": {
       "model_id": "b4d4d49963314fecbac58edab7d77e15",
       "version_major": 2,
       "version_minor": 0
      },
      "text/plain": [
       "  0%|          | Fitting SlidingEstimator : 0/30 [00:00<?,       ?it/s]"
      ]
     },
     "metadata": {},
     "output_type": "display_data"
    },
    {
     "data": {
      "application/vnd.jupyter.widget-view+json": {
       "model_id": "43e588577cb146349034f73318b0c430",
       "version_major": 2,
       "version_minor": 0
      },
      "text/plain": [
       "  0%|          | Fitting SlidingEstimator : 0/30 [00:00<?,       ?it/s]"
      ]
     },
     "metadata": {},
     "output_type": "display_data"
    },
    {
     "data": {
      "application/vnd.jupyter.widget-view+json": {
       "model_id": "65899f2301bb4cd49ae49fe003520505",
       "version_major": 2,
       "version_minor": 0
      },
      "text/plain": [
       "  0%|          | Fitting SlidingEstimator : 0/30 [00:00<?,       ?it/s]"
      ]
     },
     "metadata": {},
     "output_type": "display_data"
    },
    {
     "data": {
      "application/vnd.jupyter.widget-view+json": {
       "model_id": "78f232d0d4084e5dba46e7ffc2aebac2",
       "version_major": 2,
       "version_minor": 0
      },
      "text/plain": [
       "  0%|          | Fitting SlidingEstimator : 0/30 [00:00<?,       ?it/s]"
      ]
     },
     "metadata": {},
     "output_type": "display_data"
    },
    {
     "data": {
      "application/vnd.jupyter.widget-view+json": {
       "model_id": "88b0da6254b543e8a5dcfbbb8b338f85",
       "version_major": 2,
       "version_minor": 0
      },
      "text/plain": [
       "  0%|          | Fitting SlidingEstimator : 0/30 [00:00<?,       ?it/s]"
      ]
     },
     "metadata": {},
     "output_type": "display_data"
    },
    {
     "name": "stdout",
     "output_type": "stream",
     "text": [
      "### RUNING SUBJECT VME_S18\n",
      "Size of class 0.0: 69\n",
      "\n",
      "Size of class 1.0: 65\n",
      "\n"
     ]
    },
    {
     "data": {
      "application/vnd.jupyter.widget-view+json": {
       "model_id": "ef4f5cbc7c8349c992d30590893bd28e",
       "version_major": 2,
       "version_minor": 0
      },
      "text/plain": [
       "  0%|          | Fitting SlidingEstimator : 0/30 [00:00<?,       ?it/s]"
      ]
     },
     "metadata": {},
     "output_type": "display_data"
    },
    {
     "data": {
      "application/vnd.jupyter.widget-view+json": {
       "model_id": "2c61c4fe1ac148d184248ce55cd06c19",
       "version_major": 2,
       "version_minor": 0
      },
      "text/plain": [
       "  0%|          | Fitting SlidingEstimator : 0/30 [00:00<?,       ?it/s]"
      ]
     },
     "metadata": {},
     "output_type": "display_data"
    },
    {
     "data": {
      "application/vnd.jupyter.widget-view+json": {
       "model_id": "2e22162f3c7f4c9b87fe7b5575301f37",
       "version_major": 2,
       "version_minor": 0
      },
      "text/plain": [
       "  0%|          | Fitting SlidingEstimator : 0/30 [00:00<?,       ?it/s]"
      ]
     },
     "metadata": {},
     "output_type": "display_data"
    },
    {
     "data": {
      "application/vnd.jupyter.widget-view+json": {
       "model_id": "237e673f31d94450aaefafeeb2678964",
       "version_major": 2,
       "version_minor": 0
      },
      "text/plain": [
       "  0%|          | Fitting SlidingEstimator : 0/30 [00:00<?,       ?it/s]"
      ]
     },
     "metadata": {},
     "output_type": "display_data"
    },
    {
     "data": {
      "application/vnd.jupyter.widget-view+json": {
       "model_id": "b9b12bac5827468889f67432efc5d485",
       "version_major": 2,
       "version_minor": 0
      },
      "text/plain": [
       "  0%|          | Fitting SlidingEstimator : 0/30 [00:00<?,       ?it/s]"
      ]
     },
     "metadata": {},
     "output_type": "display_data"
    },
    {
     "data": {
      "application/vnd.jupyter.widget-view+json": {
       "model_id": "c278a0a923164e7e875269af917664c2",
       "version_major": 2,
       "version_minor": 0
      },
      "text/plain": [
       "  0%|          | Fitting SlidingEstimator : 0/30 [00:00<?,       ?it/s]"
      ]
     },
     "metadata": {},
     "output_type": "display_data"
    },
    {
     "name": "stdout",
     "output_type": "stream",
     "text": [
      "Size of class 0.0: 69\n",
      "\n",
      "Size of class 1.0: 65\n",
      "\n"
     ]
    },
    {
     "data": {
      "application/vnd.jupyter.widget-view+json": {
       "model_id": "ee3ac449df414dfc8ec739e41356632c",
       "version_major": 2,
       "version_minor": 0
      },
      "text/plain": [
       "  0%|          | Fitting SlidingEstimator : 0/30 [00:00<?,       ?it/s]"
      ]
     },
     "metadata": {},
     "output_type": "display_data"
    },
    {
     "data": {
      "application/vnd.jupyter.widget-view+json": {
       "model_id": "8a47988b30364b37aec47b7e39c704e5",
       "version_major": 2,
       "version_minor": 0
      },
      "text/plain": [
       "  0%|          | Fitting SlidingEstimator : 0/30 [00:00<?,       ?it/s]"
      ]
     },
     "metadata": {},
     "output_type": "display_data"
    },
    {
     "data": {
      "application/vnd.jupyter.widget-view+json": {
       "model_id": "03268ca8db3044c99ee4da4fdbd9d3b7",
       "version_major": 2,
       "version_minor": 0
      },
      "text/plain": [
       "  0%|          | Fitting SlidingEstimator : 0/30 [00:00<?,       ?it/s]"
      ]
     },
     "metadata": {},
     "output_type": "display_data"
    },
    {
     "data": {
      "application/vnd.jupyter.widget-view+json": {
       "model_id": "bef07a04c65c40e79c1849efc445fd44",
       "version_major": 2,
       "version_minor": 0
      },
      "text/plain": [
       "  0%|          | Fitting SlidingEstimator : 0/30 [00:00<?,       ?it/s]"
      ]
     },
     "metadata": {},
     "output_type": "display_data"
    },
    {
     "data": {
      "application/vnd.jupyter.widget-view+json": {
       "model_id": "cb95ae16aef347ac8da1c64fb6339b00",
       "version_major": 2,
       "version_minor": 0
      },
      "text/plain": [
       "  0%|          | Fitting SlidingEstimator : 0/30 [00:00<?,       ?it/s]"
      ]
     },
     "metadata": {},
     "output_type": "display_data"
    },
    {
     "data": {
      "application/vnd.jupyter.widget-view+json": {
       "model_id": "f15f20f05f5946d3a229ce09d1f174dc",
       "version_major": 2,
       "version_minor": 0
      },
      "text/plain": [
       "  0%|          | Fitting SlidingEstimator : 0/30 [00:00<?,       ?it/s]"
      ]
     },
     "metadata": {},
     "output_type": "display_data"
    },
    {
     "name": "stdout",
     "output_type": "stream",
     "text": [
      "### RUNING SUBJECT VME_S20\n",
      "Size of class 0.0: 64\n",
      "\n",
      "Size of class 1.0: 65\n",
      "\n"
     ]
    },
    {
     "data": {
      "application/vnd.jupyter.widget-view+json": {
       "model_id": "54354d293b0c4dd39fb092bfa257ace5",
       "version_major": 2,
       "version_minor": 0
      },
      "text/plain": [
       "  0%|          | Fitting SlidingEstimator : 0/30 [00:00<?,       ?it/s]"
      ]
     },
     "metadata": {},
     "output_type": "display_data"
    },
    {
     "data": {
      "application/vnd.jupyter.widget-view+json": {
       "model_id": "352dfc721edf44bd9599d81065daca95",
       "version_major": 2,
       "version_minor": 0
      },
      "text/plain": [
       "  0%|          | Fitting SlidingEstimator : 0/30 [00:00<?,       ?it/s]"
      ]
     },
     "metadata": {},
     "output_type": "display_data"
    },
    {
     "data": {
      "application/vnd.jupyter.widget-view+json": {
       "model_id": "1d67ca77262d4f99a552cf0968548a81",
       "version_major": 2,
       "version_minor": 0
      },
      "text/plain": [
       "  0%|          | Fitting SlidingEstimator : 0/30 [00:00<?,       ?it/s]"
      ]
     },
     "metadata": {},
     "output_type": "display_data"
    },
    {
     "data": {
      "application/vnd.jupyter.widget-view+json": {
       "model_id": "c1469ea1e5c5409784abcb0ad5cfba22",
       "version_major": 2,
       "version_minor": 0
      },
      "text/plain": [
       "  0%|          | Fitting SlidingEstimator : 0/30 [00:00<?,       ?it/s]"
      ]
     },
     "metadata": {},
     "output_type": "display_data"
    },
    {
     "data": {
      "application/vnd.jupyter.widget-view+json": {
       "model_id": "d903616d070e407d87978de7aaa36228",
       "version_major": 2,
       "version_minor": 0
      },
      "text/plain": [
       "  0%|          | Fitting SlidingEstimator : 0/30 [00:00<?,       ?it/s]"
      ]
     },
     "metadata": {},
     "output_type": "display_data"
    },
    {
     "data": {
      "application/vnd.jupyter.widget-view+json": {
       "model_id": "1d7f71b25de04c629ae779d0c06023e4",
       "version_major": 2,
       "version_minor": 0
      },
      "text/plain": [
       "  0%|          | Fitting SlidingEstimator : 0/30 [00:00<?,       ?it/s]"
      ]
     },
     "metadata": {},
     "output_type": "display_data"
    },
    {
     "name": "stdout",
     "output_type": "stream",
     "text": [
      "Size of class 0.0: 64\n",
      "\n",
      "Size of class 1.0: 65\n",
      "\n"
     ]
    },
    {
     "data": {
      "application/vnd.jupyter.widget-view+json": {
       "model_id": "e2b8cb0f11714e9595d6f8333b2b3a0a",
       "version_major": 2,
       "version_minor": 0
      },
      "text/plain": [
       "  0%|          | Fitting SlidingEstimator : 0/30 [00:00<?,       ?it/s]"
      ]
     },
     "metadata": {},
     "output_type": "display_data"
    },
    {
     "data": {
      "application/vnd.jupyter.widget-view+json": {
       "model_id": "4f100fde2b7245ce892c38b8785eb313",
       "version_major": 2,
       "version_minor": 0
      },
      "text/plain": [
       "  0%|          | Fitting SlidingEstimator : 0/30 [00:00<?,       ?it/s]"
      ]
     },
     "metadata": {},
     "output_type": "display_data"
    },
    {
     "data": {
      "application/vnd.jupyter.widget-view+json": {
       "model_id": "455ab880e49c4bf58e7305f96328ac89",
       "version_major": 2,
       "version_minor": 0
      },
      "text/plain": [
       "  0%|          | Fitting SlidingEstimator : 0/30 [00:00<?,       ?it/s]"
      ]
     },
     "metadata": {},
     "output_type": "display_data"
    },
    {
     "data": {
      "application/vnd.jupyter.widget-view+json": {
       "model_id": "abcee77a4bf74efaabffefc3cbc0dc20",
       "version_major": 2,
       "version_minor": 0
      },
      "text/plain": [
       "  0%|          | Fitting SlidingEstimator : 0/30 [00:00<?,       ?it/s]"
      ]
     },
     "metadata": {},
     "output_type": "display_data"
    },
    {
     "data": {
      "application/vnd.jupyter.widget-view+json": {
       "model_id": "68fd8be65ddb4b9d8dd6efff2591ce43",
       "version_major": 2,
       "version_minor": 0
      },
      "text/plain": [
       "  0%|          | Fitting SlidingEstimator : 0/30 [00:00<?,       ?it/s]"
      ]
     },
     "metadata": {},
     "output_type": "display_data"
    },
    {
     "data": {
      "application/vnd.jupyter.widget-view+json": {
       "model_id": "b1aaabf3761f4511942e3ff48e011e6e",
       "version_major": 2,
       "version_minor": 0
      },
      "text/plain": [
       "  0%|          | Fitting SlidingEstimator : 0/30 [00:00<?,       ?it/s]"
      ]
     },
     "metadata": {},
     "output_type": "display_data"
    },
    {
     "name": "stdout",
     "output_type": "stream",
     "text": [
      "### RUNING SUBJECT VME_S21\n",
      "Size of class 0.0: 66\n",
      "\n",
      "Size of class 1.0: 66\n",
      "\n"
     ]
    },
    {
     "data": {
      "application/vnd.jupyter.widget-view+json": {
       "model_id": "ef0f6e03f8ff462fbe9e83295d74aa5b",
       "version_major": 2,
       "version_minor": 0
      },
      "text/plain": [
       "  0%|          | Fitting SlidingEstimator : 0/30 [00:00<?,       ?it/s]"
      ]
     },
     "metadata": {},
     "output_type": "display_data"
    },
    {
     "data": {
      "application/vnd.jupyter.widget-view+json": {
       "model_id": "1889cf269efe4dbb9cef5ad27871a489",
       "version_major": 2,
       "version_minor": 0
      },
      "text/plain": [
       "  0%|          | Fitting SlidingEstimator : 0/30 [00:00<?,       ?it/s]"
      ]
     },
     "metadata": {},
     "output_type": "display_data"
    },
    {
     "data": {
      "application/vnd.jupyter.widget-view+json": {
       "model_id": "bb51e2ac317c4841be6d5094491fa2e6",
       "version_major": 2,
       "version_minor": 0
      },
      "text/plain": [
       "  0%|          | Fitting SlidingEstimator : 0/30 [00:00<?,       ?it/s]"
      ]
     },
     "metadata": {},
     "output_type": "display_data"
    },
    {
     "data": {
      "application/vnd.jupyter.widget-view+json": {
       "model_id": "f267ad4817b54b9ea607154e4d7af702",
       "version_major": 2,
       "version_minor": 0
      },
      "text/plain": [
       "  0%|          | Fitting SlidingEstimator : 0/30 [00:00<?,       ?it/s]"
      ]
     },
     "metadata": {},
     "output_type": "display_data"
    },
    {
     "data": {
      "application/vnd.jupyter.widget-view+json": {
       "model_id": "b0af4f7152244c1889d1f1fc32aeca7c",
       "version_major": 2,
       "version_minor": 0
      },
      "text/plain": [
       "  0%|          | Fitting SlidingEstimator : 0/30 [00:00<?,       ?it/s]"
      ]
     },
     "metadata": {},
     "output_type": "display_data"
    },
    {
     "data": {
      "application/vnd.jupyter.widget-view+json": {
       "model_id": "93699709cdd1454f8b8afd275f12ad27",
       "version_major": 2,
       "version_minor": 0
      },
      "text/plain": [
       "  0%|          | Fitting SlidingEstimator : 0/30 [00:00<?,       ?it/s]"
      ]
     },
     "metadata": {},
     "output_type": "display_data"
    },
    {
     "name": "stdout",
     "output_type": "stream",
     "text": [
      "Size of class 0.0: 66\n",
      "\n",
      "Size of class 1.0: 66\n",
      "\n"
     ]
    },
    {
     "data": {
      "application/vnd.jupyter.widget-view+json": {
       "model_id": "7113f33d2acb46ff82e0455bce56eb23",
       "version_major": 2,
       "version_minor": 0
      },
      "text/plain": [
       "  0%|          | Fitting SlidingEstimator : 0/30 [00:00<?,       ?it/s]"
      ]
     },
     "metadata": {},
     "output_type": "display_data"
    },
    {
     "data": {
      "application/vnd.jupyter.widget-view+json": {
       "model_id": "c316539bce6c4a328f36846e6ce94a48",
       "version_major": 2,
       "version_minor": 0
      },
      "text/plain": [
       "  0%|          | Fitting SlidingEstimator : 0/30 [00:00<?,       ?it/s]"
      ]
     },
     "metadata": {},
     "output_type": "display_data"
    },
    {
     "data": {
      "application/vnd.jupyter.widget-view+json": {
       "model_id": "fbedb5bdda0c4ee082ff3ec47311b70c",
       "version_major": 2,
       "version_minor": 0
      },
      "text/plain": [
       "  0%|          | Fitting SlidingEstimator : 0/30 [00:00<?,       ?it/s]"
      ]
     },
     "metadata": {},
     "output_type": "display_data"
    },
    {
     "data": {
      "application/vnd.jupyter.widget-view+json": {
       "model_id": "e1484d7955a34a35b2d0a499de9d5070",
       "version_major": 2,
       "version_minor": 0
      },
      "text/plain": [
       "  0%|          | Fitting SlidingEstimator : 0/30 [00:00<?,       ?it/s]"
      ]
     },
     "metadata": {},
     "output_type": "display_data"
    },
    {
     "data": {
      "application/vnd.jupyter.widget-view+json": {
       "model_id": "b3171f6ff5b445fda242fb0e130ebf1d",
       "version_major": 2,
       "version_minor": 0
      },
      "text/plain": [
       "  0%|          | Fitting SlidingEstimator : 0/30 [00:00<?,       ?it/s]"
      ]
     },
     "metadata": {},
     "output_type": "display_data"
    },
    {
     "data": {
      "application/vnd.jupyter.widget-view+json": {
       "model_id": "3aa5bfa0de77466c9e32b6afa12a93e3",
       "version_major": 2,
       "version_minor": 0
      },
      "text/plain": [
       "  0%|          | Fitting SlidingEstimator : 0/30 [00:00<?,       ?it/s]"
      ]
     },
     "metadata": {},
     "output_type": "display_data"
    },
    {
     "name": "stdout",
     "output_type": "stream",
     "text": [
      "### RUNING SUBJECT VME_S23\n",
      "Size of class 0.0: 71\n",
      "\n",
      "Size of class 1.0: 71\n",
      "\n"
     ]
    },
    {
     "data": {
      "application/vnd.jupyter.widget-view+json": {
       "model_id": "8084885407cc44ff91349063dbd0d35b",
       "version_major": 2,
       "version_minor": 0
      },
      "text/plain": [
       "  0%|          | Fitting SlidingEstimator : 0/30 [00:00<?,       ?it/s]"
      ]
     },
     "metadata": {},
     "output_type": "display_data"
    },
    {
     "data": {
      "application/vnd.jupyter.widget-view+json": {
       "model_id": "c693f6d9c17048db913e249985d08fdd",
       "version_major": 2,
       "version_minor": 0
      },
      "text/plain": [
       "  0%|          | Fitting SlidingEstimator : 0/30 [00:00<?,       ?it/s]"
      ]
     },
     "metadata": {},
     "output_type": "display_data"
    },
    {
     "data": {
      "application/vnd.jupyter.widget-view+json": {
       "model_id": "40328e74a35e440991b10fb1b31eb595",
       "version_major": 2,
       "version_minor": 0
      },
      "text/plain": [
       "  0%|          | Fitting SlidingEstimator : 0/30 [00:00<?,       ?it/s]"
      ]
     },
     "metadata": {},
     "output_type": "display_data"
    },
    {
     "data": {
      "application/vnd.jupyter.widget-view+json": {
       "model_id": "bdf4563aa55248c18abb1623236bef65",
       "version_major": 2,
       "version_minor": 0
      },
      "text/plain": [
       "  0%|          | Fitting SlidingEstimator : 0/30 [00:00<?,       ?it/s]"
      ]
     },
     "metadata": {},
     "output_type": "display_data"
    },
    {
     "data": {
      "application/vnd.jupyter.widget-view+json": {
       "model_id": "527e02d391fc48f7b532e7f6009762e1",
       "version_major": 2,
       "version_minor": 0
      },
      "text/plain": [
       "  0%|          | Fitting SlidingEstimator : 0/30 [00:00<?,       ?it/s]"
      ]
     },
     "metadata": {},
     "output_type": "display_data"
    },
    {
     "data": {
      "application/vnd.jupyter.widget-view+json": {
       "model_id": "ba3d4b330f8c4aadbab5a3def12232d3",
       "version_major": 2,
       "version_minor": 0
      },
      "text/plain": [
       "  0%|          | Fitting SlidingEstimator : 0/30 [00:00<?,       ?it/s]"
      ]
     },
     "metadata": {},
     "output_type": "display_data"
    },
    {
     "name": "stdout",
     "output_type": "stream",
     "text": [
      "Size of class 0.0: 71\n",
      "\n",
      "Size of class 1.0: 71\n",
      "\n"
     ]
    },
    {
     "data": {
      "application/vnd.jupyter.widget-view+json": {
       "model_id": "0c8d9f6885594999a49624df18d0c54e",
       "version_major": 2,
       "version_minor": 0
      },
      "text/plain": [
       "  0%|          | Fitting SlidingEstimator : 0/30 [00:00<?,       ?it/s]"
      ]
     },
     "metadata": {},
     "output_type": "display_data"
    },
    {
     "data": {
      "application/vnd.jupyter.widget-view+json": {
       "model_id": "7ddfd6d9c108419fb276aff3b5d747f4",
       "version_major": 2,
       "version_minor": 0
      },
      "text/plain": [
       "  0%|          | Fitting SlidingEstimator : 0/30 [00:00<?,       ?it/s]"
      ]
     },
     "metadata": {},
     "output_type": "display_data"
    },
    {
     "data": {
      "application/vnd.jupyter.widget-view+json": {
       "model_id": "92ac909d5f1f4611b10397f7a3e871e2",
       "version_major": 2,
       "version_minor": 0
      },
      "text/plain": [
       "  0%|          | Fitting SlidingEstimator : 0/30 [00:00<?,       ?it/s]"
      ]
     },
     "metadata": {},
     "output_type": "display_data"
    },
    {
     "data": {
      "application/vnd.jupyter.widget-view+json": {
       "model_id": "655419eacea84bdea05bfc41efa1e174",
       "version_major": 2,
       "version_minor": 0
      },
      "text/plain": [
       "  0%|          | Fitting SlidingEstimator : 0/30 [00:00<?,       ?it/s]"
      ]
     },
     "metadata": {},
     "output_type": "display_data"
    },
    {
     "data": {
      "application/vnd.jupyter.widget-view+json": {
       "model_id": "a4275125691a43a7a6b6970e27797390",
       "version_major": 2,
       "version_minor": 0
      },
      "text/plain": [
       "  0%|          | Fitting SlidingEstimator : 0/30 [00:00<?,       ?it/s]"
      ]
     },
     "metadata": {},
     "output_type": "display_data"
    },
    {
     "data": {
      "application/vnd.jupyter.widget-view+json": {
       "model_id": "964e5d48bd174e6c960fd42ddc865fa1",
       "version_major": 2,
       "version_minor": 0
      },
      "text/plain": [
       "  0%|          | Fitting SlidingEstimator : 0/30 [00:00<?,       ?it/s]"
      ]
     },
     "metadata": {},
     "output_type": "display_data"
    },
    {
     "name": "stdout",
     "output_type": "stream",
     "text": [
      "### RUNING SUBJECT VME_S24\n",
      "Size of class 0.0: 70\n",
      "\n",
      "Size of class 1.0: 69\n",
      "\n"
     ]
    },
    {
     "data": {
      "application/vnd.jupyter.widget-view+json": {
       "model_id": "d95c6af46f474011bad7e75168f2db14",
       "version_major": 2,
       "version_minor": 0
      },
      "text/plain": [
       "  0%|          | Fitting SlidingEstimator : 0/30 [00:00<?,       ?it/s]"
      ]
     },
     "metadata": {},
     "output_type": "display_data"
    },
    {
     "data": {
      "application/vnd.jupyter.widget-view+json": {
       "model_id": "e4abb58c6acc4f088dc2301fe7a3c7b6",
       "version_major": 2,
       "version_minor": 0
      },
      "text/plain": [
       "  0%|          | Fitting SlidingEstimator : 0/30 [00:00<?,       ?it/s]"
      ]
     },
     "metadata": {},
     "output_type": "display_data"
    },
    {
     "data": {
      "application/vnd.jupyter.widget-view+json": {
       "model_id": "37e45594c7ca4afbaaf344bf22e59e71",
       "version_major": 2,
       "version_minor": 0
      },
      "text/plain": [
       "  0%|          | Fitting SlidingEstimator : 0/30 [00:00<?,       ?it/s]"
      ]
     },
     "metadata": {},
     "output_type": "display_data"
    },
    {
     "data": {
      "application/vnd.jupyter.widget-view+json": {
       "model_id": "ca5bdee8eb42499db9c87c697a379970",
       "version_major": 2,
       "version_minor": 0
      },
      "text/plain": [
       "  0%|          | Fitting SlidingEstimator : 0/30 [00:00<?,       ?it/s]"
      ]
     },
     "metadata": {},
     "output_type": "display_data"
    },
    {
     "data": {
      "application/vnd.jupyter.widget-view+json": {
       "model_id": "4709c032ba73499b8e77f4bbcaa3a644",
       "version_major": 2,
       "version_minor": 0
      },
      "text/plain": [
       "  0%|          | Fitting SlidingEstimator : 0/30 [00:00<?,       ?it/s]"
      ]
     },
     "metadata": {},
     "output_type": "display_data"
    },
    {
     "data": {
      "application/vnd.jupyter.widget-view+json": {
       "model_id": "fafab7f287b448e6b1a8e256d621e727",
       "version_major": 2,
       "version_minor": 0
      },
      "text/plain": [
       "  0%|          | Fitting SlidingEstimator : 0/30 [00:00<?,       ?it/s]"
      ]
     },
     "metadata": {},
     "output_type": "display_data"
    },
    {
     "name": "stdout",
     "output_type": "stream",
     "text": [
      "Size of class 0.0: 70\n",
      "\n",
      "Size of class 1.0: 69\n",
      "\n"
     ]
    },
    {
     "data": {
      "application/vnd.jupyter.widget-view+json": {
       "model_id": "cb461a8886e345b3baca27656fd50c72",
       "version_major": 2,
       "version_minor": 0
      },
      "text/plain": [
       "  0%|          | Fitting SlidingEstimator : 0/30 [00:00<?,       ?it/s]"
      ]
     },
     "metadata": {},
     "output_type": "display_data"
    },
    {
     "data": {
      "application/vnd.jupyter.widget-view+json": {
       "model_id": "c7cfb4541e784717b4e2286ac91516f8",
       "version_major": 2,
       "version_minor": 0
      },
      "text/plain": [
       "  0%|          | Fitting SlidingEstimator : 0/30 [00:00<?,       ?it/s]"
      ]
     },
     "metadata": {},
     "output_type": "display_data"
    },
    {
     "data": {
      "application/vnd.jupyter.widget-view+json": {
       "model_id": "426ed8c5add34f97ae8a9d42d8f24f59",
       "version_major": 2,
       "version_minor": 0
      },
      "text/plain": [
       "  0%|          | Fitting SlidingEstimator : 0/30 [00:00<?,       ?it/s]"
      ]
     },
     "metadata": {},
     "output_type": "display_data"
    },
    {
     "data": {
      "application/vnd.jupyter.widget-view+json": {
       "model_id": "417b958cd09c4b1da41ea5b2433e1126",
       "version_major": 2,
       "version_minor": 0
      },
      "text/plain": [
       "  0%|          | Fitting SlidingEstimator : 0/30 [00:00<?,       ?it/s]"
      ]
     },
     "metadata": {},
     "output_type": "display_data"
    },
    {
     "data": {
      "application/vnd.jupyter.widget-view+json": {
       "model_id": "3bebe87f68af4358a2b53ff4ebccd78e",
       "version_major": 2,
       "version_minor": 0
      },
      "text/plain": [
       "  0%|          | Fitting SlidingEstimator : 0/30 [00:00<?,       ?it/s]"
      ]
     },
     "metadata": {},
     "output_type": "display_data"
    },
    {
     "data": {
      "application/vnd.jupyter.widget-view+json": {
       "model_id": "100fa363f56a4b0d8dd9ee4fb0df4022",
       "version_major": 2,
       "version_minor": 0
      },
      "text/plain": [
       "  0%|          | Fitting SlidingEstimator : 0/30 [00:00<?,       ?it/s]"
      ]
     },
     "metadata": {},
     "output_type": "display_data"
    },
    {
     "name": "stdout",
     "output_type": "stream",
     "text": [
      "### RUNING SUBJECT VME_S25\n",
      "Size of class 0.0: 66\n",
      "\n",
      "Size of class 1.0: 66\n",
      "\n"
     ]
    },
    {
     "data": {
      "application/vnd.jupyter.widget-view+json": {
       "model_id": "59635ef541104348bdfe53abe0d298cf",
       "version_major": 2,
       "version_minor": 0
      },
      "text/plain": [
       "  0%|          | Fitting SlidingEstimator : 0/30 [00:00<?,       ?it/s]"
      ]
     },
     "metadata": {},
     "output_type": "display_data"
    },
    {
     "data": {
      "application/vnd.jupyter.widget-view+json": {
       "model_id": "0f70d1fb528e47a0ba42f26f85b51f59",
       "version_major": 2,
       "version_minor": 0
      },
      "text/plain": [
       "  0%|          | Fitting SlidingEstimator : 0/30 [00:00<?,       ?it/s]"
      ]
     },
     "metadata": {},
     "output_type": "display_data"
    },
    {
     "data": {
      "application/vnd.jupyter.widget-view+json": {
       "model_id": "0ed34f35d57a405c9e2a1f8e8252633a",
       "version_major": 2,
       "version_minor": 0
      },
      "text/plain": [
       "  0%|          | Fitting SlidingEstimator : 0/30 [00:00<?,       ?it/s]"
      ]
     },
     "metadata": {},
     "output_type": "display_data"
    },
    {
     "data": {
      "application/vnd.jupyter.widget-view+json": {
       "model_id": "de4256cabdbd44f6ab66b1b4d4988d27",
       "version_major": 2,
       "version_minor": 0
      },
      "text/plain": [
       "  0%|          | Fitting SlidingEstimator : 0/30 [00:00<?,       ?it/s]"
      ]
     },
     "metadata": {},
     "output_type": "display_data"
    },
    {
     "data": {
      "application/vnd.jupyter.widget-view+json": {
       "model_id": "a63bc575968348f499b6ebb2dfc08c49",
       "version_major": 2,
       "version_minor": 0
      },
      "text/plain": [
       "  0%|          | Fitting SlidingEstimator : 0/30 [00:00<?,       ?it/s]"
      ]
     },
     "metadata": {},
     "output_type": "display_data"
    },
    {
     "data": {
      "application/vnd.jupyter.widget-view+json": {
       "model_id": "9f1748a652a64f3ebcc123836b756d7b",
       "version_major": 2,
       "version_minor": 0
      },
      "text/plain": [
       "  0%|          | Fitting SlidingEstimator : 0/30 [00:00<?,       ?it/s]"
      ]
     },
     "metadata": {},
     "output_type": "display_data"
    },
    {
     "name": "stdout",
     "output_type": "stream",
     "text": [
      "Size of class 0.0: 66\n",
      "\n",
      "Size of class 1.0: 66\n",
      "\n"
     ]
    },
    {
     "data": {
      "application/vnd.jupyter.widget-view+json": {
       "model_id": "2b12e3d822e843d380fa1102eab7bd56",
       "version_major": 2,
       "version_minor": 0
      },
      "text/plain": [
       "  0%|          | Fitting SlidingEstimator : 0/30 [00:00<?,       ?it/s]"
      ]
     },
     "metadata": {},
     "output_type": "display_data"
    },
    {
     "data": {
      "application/vnd.jupyter.widget-view+json": {
       "model_id": "52e889463e9545229041a5e7e050f2b7",
       "version_major": 2,
       "version_minor": 0
      },
      "text/plain": [
       "  0%|          | Fitting SlidingEstimator : 0/30 [00:00<?,       ?it/s]"
      ]
     },
     "metadata": {},
     "output_type": "display_data"
    },
    {
     "data": {
      "application/vnd.jupyter.widget-view+json": {
       "model_id": "3862b67365c34c17a65f8220bdab1de1",
       "version_major": 2,
       "version_minor": 0
      },
      "text/plain": [
       "  0%|          | Fitting SlidingEstimator : 0/30 [00:00<?,       ?it/s]"
      ]
     },
     "metadata": {},
     "output_type": "display_data"
    },
    {
     "data": {
      "application/vnd.jupyter.widget-view+json": {
       "model_id": "6cb3109767e64111a9db88061d4dafad",
       "version_major": 2,
       "version_minor": 0
      },
      "text/plain": [
       "  0%|          | Fitting SlidingEstimator : 0/30 [00:00<?,       ?it/s]"
      ]
     },
     "metadata": {},
     "output_type": "display_data"
    },
    {
     "data": {
      "application/vnd.jupyter.widget-view+json": {
       "model_id": "2d2b94adbd7e493d8a229c98907b3986",
       "version_major": 2,
       "version_minor": 0
      },
      "text/plain": [
       "  0%|          | Fitting SlidingEstimator : 0/30 [00:00<?,       ?it/s]"
      ]
     },
     "metadata": {},
     "output_type": "display_data"
    },
    {
     "data": {
      "application/vnd.jupyter.widget-view+json": {
       "model_id": "b765474fe06545e89a430437ecc289da",
       "version_major": 2,
       "version_minor": 0
      },
      "text/plain": [
       "  0%|          | Fitting SlidingEstimator : 0/30 [00:00<?,       ?it/s]"
      ]
     },
     "metadata": {},
     "output_type": "display_data"
    },
    {
     "name": "stdout",
     "output_type": "stream",
     "text": [
      "### RUNING SUBJECT VME_S26\n",
      "Size of class 0.0: 64\n",
      "\n",
      "Size of class 1.0: 65\n",
      "\n"
     ]
    },
    {
     "data": {
      "application/vnd.jupyter.widget-view+json": {
       "model_id": "41dce9967eba4a7dae49a1ce16dba68e",
       "version_major": 2,
       "version_minor": 0
      },
      "text/plain": [
       "  0%|          | Fitting SlidingEstimator : 0/30 [00:00<?,       ?it/s]"
      ]
     },
     "metadata": {},
     "output_type": "display_data"
    },
    {
     "data": {
      "application/vnd.jupyter.widget-view+json": {
       "model_id": "b749728c354746228959e71988db4ead",
       "version_major": 2,
       "version_minor": 0
      },
      "text/plain": [
       "  0%|          | Fitting SlidingEstimator : 0/30 [00:00<?,       ?it/s]"
      ]
     },
     "metadata": {},
     "output_type": "display_data"
    },
    {
     "data": {
      "application/vnd.jupyter.widget-view+json": {
       "model_id": "af7b318daf474e09aa32423c0b54deda",
       "version_major": 2,
       "version_minor": 0
      },
      "text/plain": [
       "  0%|          | Fitting SlidingEstimator : 0/30 [00:00<?,       ?it/s]"
      ]
     },
     "metadata": {},
     "output_type": "display_data"
    },
    {
     "data": {
      "application/vnd.jupyter.widget-view+json": {
       "model_id": "5316c1f85c6b481eb8bf034b66d43b83",
       "version_major": 2,
       "version_minor": 0
      },
      "text/plain": [
       "  0%|          | Fitting SlidingEstimator : 0/30 [00:00<?,       ?it/s]"
      ]
     },
     "metadata": {},
     "output_type": "display_data"
    },
    {
     "data": {
      "application/vnd.jupyter.widget-view+json": {
       "model_id": "6d97d1ea588a4c988ea8249fbfa29810",
       "version_major": 2,
       "version_minor": 0
      },
      "text/plain": [
       "  0%|          | Fitting SlidingEstimator : 0/30 [00:00<?,       ?it/s]"
      ]
     },
     "metadata": {},
     "output_type": "display_data"
    },
    {
     "data": {
      "application/vnd.jupyter.widget-view+json": {
       "model_id": "1169a15ddb0643baa874f76f2a555b7c",
       "version_major": 2,
       "version_minor": 0
      },
      "text/plain": [
       "  0%|          | Fitting SlidingEstimator : 0/30 [00:00<?,       ?it/s]"
      ]
     },
     "metadata": {},
     "output_type": "display_data"
    },
    {
     "name": "stdout",
     "output_type": "stream",
     "text": [
      "Size of class 0.0: 64\n",
      "\n",
      "Size of class 1.0: 65\n",
      "\n"
     ]
    },
    {
     "data": {
      "application/vnd.jupyter.widget-view+json": {
       "model_id": "0c36ff957d3746b7a6dd5ae7ffc5fffa",
       "version_major": 2,
       "version_minor": 0
      },
      "text/plain": [
       "  0%|          | Fitting SlidingEstimator : 0/30 [00:00<?,       ?it/s]"
      ]
     },
     "metadata": {},
     "output_type": "display_data"
    },
    {
     "data": {
      "application/vnd.jupyter.widget-view+json": {
       "model_id": "b6d682ed856348d99aa2a31252af2a5e",
       "version_major": 2,
       "version_minor": 0
      },
      "text/plain": [
       "  0%|          | Fitting SlidingEstimator : 0/30 [00:00<?,       ?it/s]"
      ]
     },
     "metadata": {},
     "output_type": "display_data"
    },
    {
     "data": {
      "application/vnd.jupyter.widget-view+json": {
       "model_id": "79e19ffa689945189244da478c426f60",
       "version_major": 2,
       "version_minor": 0
      },
      "text/plain": [
       "  0%|          | Fitting SlidingEstimator : 0/30 [00:00<?,       ?it/s]"
      ]
     },
     "metadata": {},
     "output_type": "display_data"
    },
    {
     "data": {
      "application/vnd.jupyter.widget-view+json": {
       "model_id": "376d6ac7242e4e3e836ec29e83475c54",
       "version_major": 2,
       "version_minor": 0
      },
      "text/plain": [
       "  0%|          | Fitting SlidingEstimator : 0/30 [00:00<?,       ?it/s]"
      ]
     },
     "metadata": {},
     "output_type": "display_data"
    },
    {
     "data": {
      "application/vnd.jupyter.widget-view+json": {
       "model_id": "b45f7cb60d164c9c8a799a5b8e0e03c1",
       "version_major": 2,
       "version_minor": 0
      },
      "text/plain": [
       "  0%|          | Fitting SlidingEstimator : 0/30 [00:00<?,       ?it/s]"
      ]
     },
     "metadata": {},
     "output_type": "display_data"
    },
    {
     "data": {
      "application/vnd.jupyter.widget-view+json": {
       "model_id": "cfbce7f4fc7a4fa483d634885d4819e7",
       "version_major": 2,
       "version_minor": 0
      },
      "text/plain": [
       "  0%|          | Fitting SlidingEstimator : 0/30 [00:00<?,       ?it/s]"
      ]
     },
     "metadata": {},
     "output_type": "display_data"
    },
    {
     "name": "stdout",
     "output_type": "stream",
     "text": [
      "### RUNING SUBJECT VME_S27\n",
      "Size of class 0.0: 70\n",
      "\n",
      "Size of class 1.0: 69\n",
      "\n"
     ]
    },
    {
     "data": {
      "application/vnd.jupyter.widget-view+json": {
       "model_id": "017dc4063fa84e5e8759a23f8591cb3e",
       "version_major": 2,
       "version_minor": 0
      },
      "text/plain": [
       "  0%|          | Fitting SlidingEstimator : 0/30 [00:00<?,       ?it/s]"
      ]
     },
     "metadata": {},
     "output_type": "display_data"
    },
    {
     "data": {
      "application/vnd.jupyter.widget-view+json": {
       "model_id": "f78814eb526a41b99ce6c516e0dcd2f0",
       "version_major": 2,
       "version_minor": 0
      },
      "text/plain": [
       "  0%|          | Fitting SlidingEstimator : 0/30 [00:00<?,       ?it/s]"
      ]
     },
     "metadata": {},
     "output_type": "display_data"
    },
    {
     "data": {
      "application/vnd.jupyter.widget-view+json": {
       "model_id": "82f59b05d4b74d68bd87ecf1c01f1856",
       "version_major": 2,
       "version_minor": 0
      },
      "text/plain": [
       "  0%|          | Fitting SlidingEstimator : 0/30 [00:00<?,       ?it/s]"
      ]
     },
     "metadata": {},
     "output_type": "display_data"
    },
    {
     "data": {
      "application/vnd.jupyter.widget-view+json": {
       "model_id": "8cbc2841b9fa43a3b61e176839f91278",
       "version_major": 2,
       "version_minor": 0
      },
      "text/plain": [
       "  0%|          | Fitting SlidingEstimator : 0/30 [00:00<?,       ?it/s]"
      ]
     },
     "metadata": {},
     "output_type": "display_data"
    },
    {
     "data": {
      "application/vnd.jupyter.widget-view+json": {
       "model_id": "0be774991a3044ebb7725958dcb32554",
       "version_major": 2,
       "version_minor": 0
      },
      "text/plain": [
       "  0%|          | Fitting SlidingEstimator : 0/30 [00:00<?,       ?it/s]"
      ]
     },
     "metadata": {},
     "output_type": "display_data"
    },
    {
     "data": {
      "application/vnd.jupyter.widget-view+json": {
       "model_id": "36bfcdcb501a40a596b1d95d886e8f8c",
       "version_major": 2,
       "version_minor": 0
      },
      "text/plain": [
       "  0%|          | Fitting SlidingEstimator : 0/30 [00:00<?,       ?it/s]"
      ]
     },
     "metadata": {},
     "output_type": "display_data"
    },
    {
     "name": "stdout",
     "output_type": "stream",
     "text": [
      "Size of class 0.0: 70\n",
      "\n",
      "Size of class 1.0: 69\n",
      "\n"
     ]
    },
    {
     "data": {
      "application/vnd.jupyter.widget-view+json": {
       "model_id": "ce268a473bc64a249ae48358c20c3bb0",
       "version_major": 2,
       "version_minor": 0
      },
      "text/plain": [
       "  0%|          | Fitting SlidingEstimator : 0/30 [00:00<?,       ?it/s]"
      ]
     },
     "metadata": {},
     "output_type": "display_data"
    },
    {
     "data": {
      "application/vnd.jupyter.widget-view+json": {
       "model_id": "df82b9daee15409096d663df63d32b20",
       "version_major": 2,
       "version_minor": 0
      },
      "text/plain": [
       "  0%|          | Fitting SlidingEstimator : 0/30 [00:00<?,       ?it/s]"
      ]
     },
     "metadata": {},
     "output_type": "display_data"
    },
    {
     "data": {
      "application/vnd.jupyter.widget-view+json": {
       "model_id": "e921e3d9c2224c809210ac43cd1535bc",
       "version_major": 2,
       "version_minor": 0
      },
      "text/plain": [
       "  0%|          | Fitting SlidingEstimator : 0/30 [00:00<?,       ?it/s]"
      ]
     },
     "metadata": {},
     "output_type": "display_data"
    },
    {
     "data": {
      "application/vnd.jupyter.widget-view+json": {
       "model_id": "1efe738eea64472488cea3efff2cedb6",
       "version_major": 2,
       "version_minor": 0
      },
      "text/plain": [
       "  0%|          | Fitting SlidingEstimator : 0/30 [00:00<?,       ?it/s]"
      ]
     },
     "metadata": {},
     "output_type": "display_data"
    },
    {
     "data": {
      "application/vnd.jupyter.widget-view+json": {
       "model_id": "812230b4089f4b5187b88bceb2c51deb",
       "version_major": 2,
       "version_minor": 0
      },
      "text/plain": [
       "  0%|          | Fitting SlidingEstimator : 0/30 [00:00<?,       ?it/s]"
      ]
     },
     "metadata": {},
     "output_type": "display_data"
    },
    {
     "data": {
      "application/vnd.jupyter.widget-view+json": {
       "model_id": "d7cb13ce281847c58d57cb7889ca1f2e",
       "version_major": 2,
       "version_minor": 0
      },
      "text/plain": [
       "  0%|          | Fitting SlidingEstimator : 0/30 [00:00<?,       ?it/s]"
      ]
     },
     "metadata": {},
     "output_type": "display_data"
    }
   ],
   "source": [
    "# %% setup params:\n",
    "\n",
    "mne.set_log_level('WARNING')\n",
    "\n",
    "if not helpers.is_interactive():\n",
    "    helpers.print_msg('Running Job Nr. ' + sys.argv[1])\n",
    "    job_nr = int(float(sys.argv[1]))\n",
    "else:\n",
    "    job_nr = 0;\n",
    "    \n",
    "\n",
    "# plotting:\n",
    "plt_dict = defaultdict(dict)\n",
    "pp = {'t_stimon':  0,\n",
    "      'xmin': -0.2,\n",
    "      'xmax': 2.3}\n",
    "plt_dict['stimon'] = pp\n",
    "\n",
    "# structuring data:\n",
    "sub_list = np.setdiff1d(np.arange(1, 28), config.ids_missing_subjects +\n",
    "                        config.ids_excluded_subjects)               \n",
    "sub_list_str = ['VME_S%02d' % sub for sub in sub_list]\n",
    "\n",
    "\n",
    "\n",
    "event_dict = config.event_dict\n",
    "cond_dict = {'Load': ['LoadLow', 'LoadHigh'],\n",
    "             'Ecc': ['EccS', 'EccM', 'EccL']}\n",
    "\n",
    "\n",
    "\n",
    "# %% Decode load across all eccentricities:\n",
    "\n",
    "decod_results_load = defaultdict(dict)\n",
    "\n",
    "########### WATCH OUT\n",
    "sub_list_str = [sub_list_str[job_nr]]\n",
    "shuf_labs = True\n",
    "\n",
    "for picks_str in ['All']: # ['Right', 'Left']: \n",
    "    conditions = ['LoadLow', 'LoadHigh']\n",
    "    contrast_str = '_vs_'.join(conditions)\n",
    "    sc_, pat_, ts_ = decode(sub_list_str, \n",
    "                            conditions=conditions,\n",
    "                            epo_part='stimon', \n",
    "                            signaltype='collapsed',\n",
    "                            event_dict=config.event_dict, \n",
    "                            n_rep_sub=100,\n",
    "                            picks_str=picks_str,\n",
    "                            shuffle_labels=shuf_labs,\n",
    "                            batch_size=10,\n",
    "                            temp_gen=False,\n",
    "                            smooth_winsize=10,\n",
    "                            save_single_rep_scores=False,\n",
    "                            save_patterns=True,\n",
    "                            save_scores=True)"
   ]
  },
  {
   "cell_type": "code",
   "execution_count": null,
   "id": "e06aae5a",
   "metadata": {},
   "outputs": [],
   "source": [
    "# decod_results_load['acc'] = sc_\n",
    "# decod_results_load['patterns'] = pat_\n",
    "# decod_results_load['times'] = ts_\n",
    "\n",
    "\n",
    "# sc_, _, _ = decode(sub_list_str, \n",
    "#                    conditions=conditions,\n",
    "#                    epo_part='stimon', \n",
    "#                    signaltype='collapsed',\n",
    "#                    event_dict=config.event_dict, \n",
    "#                    n_rep_sub=10,\n",
    "#                    shuffle_labels=True,\n",
    "#                    batch_size=5,\n",
    "#                    smooth_winsize=10,\n",
    "#                    save_single_rep_scores=False,\n",
    "#                    save_patterns=False,\n",
    "#                    save_scores=False)\n",
    "# decod_results_load['random'] = sc_\n",
    "\n",
    "# # %% Plot the results:\n",
    "# # Prepare data for plotting with seaborn:\n",
    "# epo_part = 'stimon'\n",
    "# signaltype = 'difference'\n",
    "\n",
    "# fpath = op.join(config.path_decod_temp, epo_part, signaltype, contrast_str, 'scores')\n",
    "            \n",
    "#             # fname = op.join(fpath, 'scores_per_sub.npy')\n",
    "#             # np.save(fname, sub_scores_)\n",
    "#             # np.save(fname[:-4] + '__times' + '.npy', times_n)\n",
    "\n",
    "\n",
    "# times = decod_results_load['times']\n",
    "# acc = np.asarray(decod_results_load['acc'])\n",
    "# acc_df = pd.DataFrame(acc)\n",
    "# acc_df.columns = times\n",
    "# acc_df_long = acc_df.melt(var_name='time', value_name='score')  # put into long format\n",
    "# acc_df_long['decoding target'] = 'Load'\n",
    "\n",
    "# chance = np.asarray(decod_results_load['random'])\n",
    "# chance_df = pd.DataFrame(chance)\n",
    "# chance_df.columns = times\n",
    "# chance_df_long = chance_df.melt(var_name='time', value_name='score')  # put into long format\n",
    "# chance_df_long['decoding target'] = 'Random'\n",
    "\n",
    "# data_plot = pd.concat([acc_df_long, chance_df_long])\n",
    "\n",
    "# # %%\n",
    "\n",
    "# # run CBP:\n",
    "\n",
    "# data = np.asarray(decod_results_load['acc']) - np.asarray(decod_results_load['random'])\n",
    "# t_values, clusters, p_values = run_cbp_test(data)\n",
    "# p_val_cbp = 0.05\n",
    "# idx_sign_clusters = np.argwhere(p_values<p_val_cbp)\n",
    "# sign_cluster_times = [times[clusters[idx[0]]][[0,-1]] for idx in idx_sign_clusters]\n",
    "\n",
    "\n",
    "# # %%\n",
    "\n",
    "\n",
    "# # Plot it:\n",
    "# fig, ax = plt.subplots(1, figsize=(6,4))\n",
    "# plot_score_per_factor('decoding target', data=data_plot, sign_clusters=sign_cluster_times, p_lvl=p_val_cbp,\n",
    "# plt_dict=plt_dict['stimon'], n_boot=10, ax=ax)\n",
    "# handles, labels = ax.get_legend_handles_labels()\n",
    "# p_lvl_str = \"$\\it{p}$ < .\" + str(p_val_cbp).split('.')[-1]\n",
    "# ax.legend(title='Decoding Target', \n",
    "#           handles = handles,\n",
    "#           labels=['Load: 2 vs 4', 'chance', p_lvl_str], loc=1, prop={'size': 9})\n",
    "\n",
    "\n",
    "# # %% Plot patterns:\n",
    "\n",
    "\n",
    "# # get dummy epos file to get electrode locations\n",
    "# dummy_epos = get_epos('VME_S01', 'stimon', 'collapsed','LoadLow', event_dict)\n",
    "# sub_patterns = np.asarray(decod_results_load['patterns'])\n",
    "# # normalize them by l2 norm to allow fair average across subjects:\n",
    "# sub_patterns = sub_patterns / np.linalg.norm(sub_patterns, axis=1, ord=2, keepdims=True)\n",
    "# sub_patterns_avg = sub_patterns.mean(axis=0) \n",
    "# # normalize per timebin\n",
    "# sub_patterns_avg = sub_patterns_avg / np.linalg.norm(sub_patterns_avg, axis=0, ord=2, keepdims=True)\n",
    "# sub_patterns_evo = EvokedArray(sub_patterns_avg, dummy_epos.info)\n",
    "# sub_patterns_evo.times = decod_results_load['times']\n",
    "# sub_patterns_evo.plot_topomap(times = [0.25, 0.55, 0.85, 1.15, 1.5, 2.0], scalings=1, units='', \n",
    "#                                 title=config.labels['Load'])\n",
    "\n",
    "\n",
    "\n",
    "# %% decode load per eccentricity:\n",
    "\n",
    "# decod_results_load = defaultdict(dict)\n",
    "\n",
    "# for ecc in cond_dict['Ecc']:\n",
    "#     conditions = ['LoadLow' + ecc, 'LoadHigh' + ecc]\n",
    "#     contrast_str = '_vs_'.join(conditions)\n",
    "#     sc_, pat_, ts_ = decode(sub_list_str, \n",
    "#                             conditions=conditions,\n",
    "#                             epo_part='stimon', \n",
    "#                             signaltype='collapsed',\n",
    "#                             scoring='roc_auc',\n",
    "#                             event_dict=config.event_dict, \n",
    "#                             n_rep_sub=50,\n",
    "#                             batch_size=5,\n",
    "#                             smooth_winsize=10,\n",
    "#                             save_single_rep_scores=False,\n",
    "#                             save_patterns=True,\n",
    "#                             save_scores=True)\n",
    "#     decod_results_load[ecc]['acc'] = sc_\n",
    "#     decod_results_load[ecc]['patterns'] = pat_\n",
    "#     decod_results_load[ecc]['times'] = ts_\n",
    "\n",
    "\n",
    "    \n",
    "# sc_, _, _ = decode(sub_list_str, \n",
    "#                    conditions=['LoadLowEccS', 'LoadHighEccS'],\n",
    "#                    epo_part='stimon', \n",
    "#                    signaltype='collapsed',\n",
    "#                    scoring='roc_auc',\n",
    "#                    event_dict=config.event_dict, \n",
    "#                    n_rep_sub=50,\n",
    "#                    shuffle_labels=True,\n",
    "#                    batch_size=5,\n",
    "#                    smooth_winsize=10,\n",
    "#                    save_single_rep_scores=False,\n",
    "#                    save_patterns=True,\n",
    "#                    save_scores=True)\n",
    "\n",
    "# %% Plot the results:\n",
    "\n",
    "# def load_decod_res_per_ecc(ecc = '', epo_part='stimon', signaltype='collapsed'):\n",
    "#     data_dict = dict()\n",
    "#     for ecc in cond_dict['Ecc']:\n",
    "#         data_dict[ecc] = {}\n",
    "#         contrast_str = f'LoadLow{ecc}_vs_LoadHigh{ecc}'\n",
    "#         fpath = op.join(config.path_decod_temp, epo_part, signaltype, contrast_str, 'scores')\n",
    "#         fname = op.join(fpath, 'scores_per_sub.npy')\n",
    "#         data_dict[ecc]['scores'] = np.load(fname)\n",
    "#         data_dict[ecc]['times'] = np.load(fname[:-4] + '__times' + '.npy')\n",
    "#         fpath = op.join(config.path_decod_temp, epo_part, signaltype, contrast_str, 'patterns')\n",
    "#         fname = op.join(fpath, 'patterns_per_sub.npy')\n",
    "#         data_dict[ecc]['patterns'] = np.load(fname)\n",
    "#     return(data_dict)\n",
    "    \n",
    "# data_dict = load_decod_res_per_ecc('')\n",
    "\n",
    "\n",
    "# # %%\n",
    "\n",
    "# # Prepare data for plotting with seaborn:\n",
    "# results_df_list = list()\n",
    "# for ecc in cond_dict['Ecc']:\n",
    "#     times = data_dict[ecc]['times']\n",
    "#     acc = np.asarray(data_dict[ecc]['scores'])\n",
    "#     acc_df = pd.DataFrame(acc)\n",
    "#     acc_df.columns = times\n",
    "#     df = acc_df.melt(var_name='time', value_name='score')  # put into long format\n",
    "#     df['Ecc'] = ecc\n",
    "#     results_df_list.append(df)\n",
    "# data_plot = pd.concat(results_df_list)\n",
    "\n",
    "# # run CBP:\n",
    "\n",
    "# sign_cluster_times = dict()\n",
    "# for ecc in cond_dict['Ecc']:\n",
    "#     data = np.asarray(data_dict[ecc]['scores']) - 0.5\n",
    "#     t_values, clusters, p_values = run_cbp_test(data)\n",
    "#     p_val_cbp = 0.05\n",
    "#     idx_sign_clusters = np.argwhere(p_values<p_val_cbp)\n",
    "#     sign_cluster_times[ecc] = [times[clusters[idx[0]]][[0,-1]] for idx in idx_sign_clusters]\n",
    "\n",
    "# # %%\n",
    "# # Plot it:\n",
    "# fig, ax = plt.subplots(1, figsize=(6,4))\n",
    "# plot_score_per_factor('Ecc', data=data_plot, plt_dict=plt_dict['stimon'], \n",
    "#                       scoring='roc_auc', sign_clusters=sign_cluster_times, p_lvl=p_val_cbp, n_boot=10, ax=ax)\n",
    "# ax.legend(title='Eccentricity', labels=['4°', '9°', '14°'], loc=1, prop={'size': 9})\n",
    "\n",
    "# # %% Plot the corresponding patterns per eccentricity level:\n",
    "\n",
    "# for ecc in cond_dict['Ecc']:\n",
    "# # get dummy epos file to get electrode locations\n",
    "#     dummy_epos = get_epos('VME_S01', 'stimon', 'difference','LoadLow', event_dict)\n",
    "#     sub_patterns = np.asarray(decod_results_load[ecc]['patterns'])\n",
    "#     # normalize them by l2 norm to allow fair average across subjects:\n",
    "#     sub_patterns = sub_patterns / np.linalg.norm(sub_patterns, axis=1, ord=2, keepdims=True)\n",
    "#     sub_patterns_avg = sub_patterns.mean(axis=0) \n",
    "#     # normalize per timebin\n",
    "#     sub_patterns_avg = sub_patterns_avg / np.linalg.norm(sub_patterns_avg, axis=0, ord=2, keepdims=True)\n",
    "#     sub_patterns_evo = EvokedArray(sub_patterns_avg, dummy_epos.info)\n",
    "#     sub_patterns_evo.times = decod_results_load['EccL']['times']\n",
    "#     sub_patterns_evo.plot_topomap(times = [0.25, 0.55, 0.85, 1.15], scalings=1, units='', \n",
    "#                                   title=config.labels[ecc])\n",
    "\n",
    "\n",
    "# # %%\n",
    "# 2+2\n",
    "# # %%"
   ]
  }
 ],
 "metadata": {
  "jupytext": {
   "formats": "ipynb,py:light"
  },
  "kernelspec": {
   "display_name": "mne",
   "language": "python",
   "name": "mne"
  },
  "language_info": {
   "codemirror_mode": {
    "name": "ipython",
    "version": 3
   },
   "file_extension": ".py",
   "mimetype": "text/x-python",
   "name": "python",
   "nbconvert_exporter": "python",
   "pygments_lexer": "ipython3",
   "version": "3.9.9"
  }
 },
 "nbformat": 4,
 "nbformat_minor": 5
}
