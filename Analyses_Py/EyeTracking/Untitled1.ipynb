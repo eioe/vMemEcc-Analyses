{
 "cells": [
  {
   "cell_type": "code",
   "execution_count": 2,
   "metadata": {},
   "outputs": [],
   "source": [
    "from IPython.display import Video"
   ]
  },
  {
   "cell_type": "code",
   "execution_count": null,
   "metadata": {},
   "outputs": [],
   "source": [
    "Video(data='/u/fklotzsche/ptmp_link/Experiments/vMemEcc/Data/SubjectData/VME_S04/EyeTracking/Block13/000/eye0DLC_resnet50_eye0Nov23shuffle1_625000_labeled.mp4', embed=True)"
   ]
  },
  {
   "cell_type": "code",
   "execution_count": 7,
   "metadata": {},
   "outputs": [
    {
     "data": {
      "text/html": [
       "<video width=400 controls>\n",
       "  <source src=\"/u/fklotzsche/ptmp_link/Experiments/vMemEcc/Data/SubjectData/VME_S04/EyeTracking/Block11/000/eye0DLC_resnet50_eye0Nov23shuffle1_625000_labeled.mp4\" type=\"video/mp4\">\n",
       "</video>\n"
      ],
      "text/plain": [
       "<IPython.core.display.HTML object>"
      ]
     },
     "metadata": {},
     "output_type": "display_data"
    }
   ],
   "source": [
    "%%HTML\n",
    "<video width=400 controls>\n",
    "  <source src=\"/u/fklotzsche/ptmp_link/Experiments/vMemEcc/Data/SubjectData/VME_S04/EyeTracking/Block11/000/eye0DLC_resnet50_eye0Nov23shuffle1_625000_labeled.mp4\" type=\"video/mp4\">\n",
    "</video>"
   ]
  },
  {
   "cell_type": "code",
   "execution_count": null,
   "metadata": {},
   "outputs": [],
   "source": []
  }
 ],
 "metadata": {
  "kernelspec": {
   "display_name": "Python (DLC-GPU)",
   "language": "python",
   "name": "dlc-gpu"
  },
  "language_info": {
   "codemirror_mode": {
    "name": "ipython",
    "version": 3
   },
   "file_extension": ".py",
   "mimetype": "text/x-python",
   "name": "python",
   "nbconvert_exporter": "python",
   "pygments_lexer": "ipython3",
   "version": "3.7.9"
  }
 },
 "nbformat": 4,
 "nbformat_minor": 2
}
