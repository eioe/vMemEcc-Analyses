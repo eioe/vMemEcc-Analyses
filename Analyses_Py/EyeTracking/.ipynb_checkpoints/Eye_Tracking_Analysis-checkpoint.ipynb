{
 "cells": [
  {
   "cell_type": "markdown",
   "metadata": {
    "id": "RK255E7YoEIt"
   },
   "source": [
    "# DeepLabCut for Pupil Tracking\n",
    "\n",
    "To save a copy of this file to your Drive:\n",
    "**[File > Save a copy in Drive]**\n",
    "\n",
    "To run this notebook, simply follow the instructions and and run the cells. You should already have a project folder with labeled data in your google drive."
   ]
  },
  {
   "cell_type": "markdown",
   "metadata": {
    "id": "txoddlM8hLKm"
   },
   "source": [
    "## Initial Set Up\n",
    "First, go to Runtime > Change Runtime Type > select \"GPU\"."
   ]
  },
  {
   "cell_type": "code",
   "execution_count": 1,
   "metadata": {
    "id": "q23BzhA6CXxu"
   },
   "outputs": [
    {
     "name": "stdout",
     "output_type": "stream",
     "text": [
      "Collecting deeplabcut\n",
      "\u001b[?25l  Downloading https://files.pythonhosted.org/packages/04/fc/b5774e22a3eeaac1e1ca5670aa2281a5c408c9abc25f51e53e3f2525aebd/deeplabcut-2.1.10.4-py3-none-any.whl (695kB)\n",
      "\u001b[K    100% |████████████████████████████████| 696kB 7.8MB/s \n",
      "\u001b[?25hCollecting intel-openmp (from deeplabcut)\n",
      "  Using cached https://files.pythonhosted.org/packages/21/96/b566bbf10c4a24126eeff677258e58dc9beb78f8fc6fd6bb6ac30b41a7d9/intel_openmp-2021.2.0-py2.py3-none-manylinux1_x86_64.whl\n",
      "Requirement already satisfied: h5py in /draco/u/system/soft/SLE_12/packages/x86_64/anaconda/3/2019.03/lib/python3.7/site-packages (from deeplabcut) (2.9.0)\n",
      "Requirement already satisfied: setuptools in /draco/u/system/soft/SLE_12/packages/x86_64/anaconda/3/2019.03/lib/python3.7/site-packages (from deeplabcut) (40.8.0)\n",
      "Collecting opencv-python-headless~=3.4.9.33 (from deeplabcut)\n",
      "  Using cached https://files.pythonhosted.org/packages/67/1c/5544e626593158c6a23599f40193464121526e45aa470001a8113e45d9b8/opencv_python_headless-3.4.9.33-cp37-cp37m-manylinux1_x86_64.whl\n",
      "Requirement already satisfied: ipython in /draco/u/system/soft/SLE_12/packages/x86_64/anaconda/3/2019.03/lib/python3.7/site-packages (from deeplabcut) (7.4.0)\n",
      "Collecting scipy>=1.4 (from deeplabcut)\n",
      "\u001b[?25l  Downloading https://files.pythonhosted.org/packages/7d/e8/43ffca541d2f208d516296950b25fe1084b35c2881f4d444c1346ca75815/scipy-1.6.3-cp37-cp37m-manylinux1_x86_64.whl (27.4MB)\n",
      "\u001b[K    100% |████████████████████████████████| 27.4MB 3.0MB/s \n",
      "\u001b[?25hRequirement already satisfied: chardet in /draco/u/system/soft/SLE_12/packages/x86_64/anaconda/3/2019.03/lib/python3.7/site-packages (from deeplabcut) (3.0.4)\n",
      "Collecting filterpy (from deeplabcut)\n",
      "Collecting moviepy<=1.0.1 (from deeplabcut)\n",
      "Requirement already satisfied: wheel in /draco/u/system/soft/SLE_12/packages/x86_64/anaconda/3/2019.03/lib/python3.7/site-packages (from deeplabcut) (0.33.1)\n",
      "Requirement already satisfied: scikit-learn in /draco/u/system/soft/SLE_12/packages/x86_64/anaconda/3/2019.03/lib/python3.7/site-packages (from deeplabcut) (0.20.3)\n",
      "Collecting numpy~=1.17.3 (from deeplabcut)\n",
      "  Using cached https://files.pythonhosted.org/packages/b1/51/20098150b6108061cb7542af3de7bfcfe0182bca21613697153e49dc4adc/numpy-1.17.5-cp37-cp37m-manylinux1_x86_64.whl\n",
      "Requirement already satisfied: tables in /draco/u/system/soft/SLE_12/packages/x86_64/anaconda/3/2019.03/lib/python3.7/site-packages (from deeplabcut) (3.5.1)\n",
      "Requirement already satisfied: pyyaml in /draco/u/system/soft/SLE_12/packages/x86_64/anaconda/3/2019.03/lib/python3.7/site-packages (from deeplabcut) (5.1)\n",
      "Collecting numba==0.51.1 (from deeplabcut)\n",
      "Requirement already satisfied: click in /draco/u/system/soft/SLE_12/packages/x86_64/anaconda/3/2019.03/lib/python3.7/site-packages (from deeplabcut) (7.0)\n",
      "Collecting tensorpack==0.9.8 (from deeplabcut)\n",
      "  Using cached https://files.pythonhosted.org/packages/a8/cb/62dc9115722a0b4fbeca6275ffbe47118149171ffafa7d1db6e295453aae/tensorpack-0.9.8-py2.py3-none-any.whl\n",
      "Requirement already satisfied: python-dateutil in /draco/u/system/soft/SLE_12/packages/x86_64/anaconda/3/2019.03/lib/python3.7/site-packages (from deeplabcut) (2.8.0)\n",
      "Requirement already satisfied: cython in /draco/u/system/soft/SLE_12/packages/x86_64/anaconda/3/2019.03/lib/python3.7/site-packages (from deeplabcut) (0.29.6)\n",
      "Requirement already satisfied: certifi in /draco/u/system/soft/SLE_12/packages/x86_64/anaconda/3/2019.03/lib/python3.7/site-packages (from deeplabcut) (2019.3.9)\n",
      "Collecting scikit-image>=0.17 (from deeplabcut)\n",
      "  Using cached https://files.pythonhosted.org/packages/fe/01/3a830f3df578ea3ed94ee7fd9f91e85c3dec2431d8548ab1c91869e51450/scikit_image-0.18.1-cp37-cp37m-manylinux1_x86_64.whl\n",
      "Requirement already satisfied: networkx in /draco/u/system/soft/SLE_12/packages/x86_64/anaconda/3/2019.03/lib/python3.7/site-packages (from deeplabcut) (2.2)\n",
      "Collecting imgaug (from deeplabcut)\n",
      "  Using cached https://files.pythonhosted.org/packages/66/b1/af3142c4a85cba6da9f4ebb5ff4e21e2616309552caca5e8acefe9840622/imgaug-0.4.0-py2.py3-none-any.whl\n",
      "Requirement already satisfied: ipython-genutils in /draco/u/system/soft/SLE_12/packages/x86_64/anaconda/3/2019.03/lib/python3.7/site-packages (from deeplabcut) (0.2.0)\n",
      "Requirement already satisfied: tqdm in /draco/u/system/soft/SLE_12/packages/x86_64/anaconda/3/2019.03/lib/python3.7/site-packages (from deeplabcut) (4.31.1)\n",
      "Collecting bayesian-optimization (from deeplabcut)\n",
      "Requirement already satisfied: six in /draco/u/system/soft/SLE_12/packages/x86_64/anaconda/3/2019.03/lib/python3.7/site-packages (from deeplabcut) (1.12.0)\n",
      "Collecting ruamel.yaml>=0.15.0 (from deeplabcut)\n",
      "  Using cached https://files.pythonhosted.org/packages/29/4e/c3105bbbbc662f6a671a505f00ec771e93b5254f09fbb06002af9087071a/ruamel.yaml-0.17.4-py3-none-any.whl\n",
      "Requirement already satisfied: patsy in /draco/u/system/soft/SLE_12/packages/x86_64/anaconda/3/2019.03/lib/python3.7/site-packages (from deeplabcut) (0.5.1)\n",
      "Collecting matplotlib==3.1.3 (from deeplabcut)\n",
      "  Using cached https://files.pythonhosted.org/packages/4c/9b/35ab3469fd1509f7636a344940569ebfd33239673fd2318e80b4700a257c/matplotlib-3.1.3-cp37-cp37m-manylinux1_x86_64.whl\n",
      "Collecting pandas>=1.0.1 (from deeplabcut)\n",
      "  Using cached https://files.pythonhosted.org/packages/51/51/48f3fc47c4e2144da2806dfb6629c4dd1fa3d5a143f9652b141e979a8ca9/pandas-1.2.4-cp37-cp37m-manylinux1_x86_64.whl\n",
      "Collecting statsmodels>=0.11 (from deeplabcut)\n",
      "  Using cached https://files.pythonhosted.org/packages/da/69/8eef30a6237c54f3c0b524140e2975f4b1eea3489b45eb3339574fc8acee/statsmodels-0.12.2-cp37-cp37m-manylinux1_x86_64.whl\n",
      "Requirement already satisfied: decorator in /draco/u/system/soft/SLE_12/packages/x86_64/anaconda/3/2019.03/lib/python3.7/site-packages (from ipython->deeplabcut) (4.4.0)\n",
      "Requirement already satisfied: jedi>=0.10 in /draco/u/system/soft/SLE_12/packages/x86_64/anaconda/3/2019.03/lib/python3.7/site-packages (from ipython->deeplabcut) (0.13.3)\n",
      "Requirement already satisfied: pexpect; sys_platform != \"win32\" in /draco/u/system/soft/SLE_12/packages/x86_64/anaconda/3/2019.03/lib/python3.7/site-packages (from ipython->deeplabcut) (4.6.0)\n",
      "Requirement already satisfied: traitlets>=4.2 in /draco/u/system/soft/SLE_12/packages/x86_64/anaconda/3/2019.03/lib/python3.7/site-packages (from ipython->deeplabcut) (4.3.2)\n",
      "Requirement already satisfied: prompt-toolkit<2.1.0,>=2.0.0 in /draco/u/system/soft/SLE_12/packages/x86_64/anaconda/3/2019.03/lib/python3.7/site-packages (from ipython->deeplabcut) (2.0.9)\n",
      "Requirement already satisfied: pickleshare in /draco/u/system/soft/SLE_12/packages/x86_64/anaconda/3/2019.03/lib/python3.7/site-packages (from ipython->deeplabcut) (0.7.5)\n",
      "Requirement already satisfied: pygments in /draco/u/system/soft/SLE_12/packages/x86_64/anaconda/3/2019.03/lib/python3.7/site-packages (from ipython->deeplabcut) (2.3.1)\n",
      "Requirement already satisfied: backcall in /draco/u/system/soft/SLE_12/packages/x86_64/anaconda/3/2019.03/lib/python3.7/site-packages (from ipython->deeplabcut) (0.1.0)\n",
      "Collecting imageio-ffmpeg>=0.2.0; python_version >= \"3.4\" (from moviepy<=1.0.1->deeplabcut)\n",
      "  Using cached https://files.pythonhosted.org/packages/89/0f/4b49476d185a273163fa648eaf1e7d4190661d1bbf37ec2975b84df9de02/imageio_ffmpeg-0.4.3-py3-none-manylinux2010_x86_64.whl\n",
      "Requirement already satisfied: imageio<3.0,>=2.5; python_version >= \"3.4\" in /draco/u/system/soft/SLE_12/packages/x86_64/anaconda/3/2019.03/lib/python3.7/site-packages (from moviepy<=1.0.1->deeplabcut) (2.5.0)\n",
      "Collecting proglog<=1.0.0 (from moviepy<=1.0.1->deeplabcut)\n",
      "Requirement already satisfied: requests<3.0,>=2.8.1 in /draco/u/system/soft/SLE_12/packages/x86_64/anaconda/3/2019.03/lib/python3.7/site-packages (from moviepy<=1.0.1->deeplabcut) (2.21.0)\n",
      "Requirement already satisfied: numexpr>=2.6.2 in /draco/u/system/soft/SLE_12/packages/x86_64/anaconda/3/2019.03/lib/python3.7/site-packages (from tables->deeplabcut) (2.6.9)\n",
      "Collecting mock>=2.0 (from tables->deeplabcut)\n",
      "  Using cached https://files.pythonhosted.org/packages/5c/03/b7e605db4a57c0f6fba744b11ef3ddf4ddebcada35022927a2b5fc623fdf/mock-4.0.3-py3-none-any.whl\n",
      "Collecting llvmlite<0.35,>=0.34.0.dev0 (from numba==0.51.1->deeplabcut)\n",
      "  Using cached https://files.pythonhosted.org/packages/4b/df/88c6d62e39947c5b1f2b1eb2239d1aa3013d6a61a75730f8b8997b6e66c6/llvmlite-0.34.0-cp37-cp37m-manylinux2010_x86_64.whl\n",
      "Requirement already satisfied: pyzmq>=16 in /draco/u/system/soft/SLE_12/packages/x86_64/anaconda/3/2019.03/lib/python3.7/site-packages (from tensorpack==0.9.8->deeplabcut) (18.0.0)\n",
      "Collecting msgpack-numpy>=0.4.4.2 (from tensorpack==0.9.8->deeplabcut)\n",
      "  Using cached https://files.pythonhosted.org/packages/19/05/05b8d7c69c6abb36a34325cc3150089bdafc359f0a81fb998d93c5d5c737/msgpack_numpy-0.4.7.1-py2.py3-none-any.whl\n",
      "Requirement already satisfied: msgpack>=0.5.2 in /draco/u/system/soft/SLE_12/packages/x86_64/anaconda/3/2019.03/lib/python3.7/site-packages (from tensorpack==0.9.8->deeplabcut) (0.6.1)\n",
      "Requirement already satisfied: psutil>=5 in /draco/u/system/soft/SLE_12/packages/x86_64/anaconda/3/2019.03/lib/python3.7/site-packages (from tensorpack==0.9.8->deeplabcut) (5.6.1)\n",
      "Collecting tabulate>=0.7.7 (from tensorpack==0.9.8->deeplabcut)\n",
      "  Using cached https://files.pythonhosted.org/packages/ca/80/7c0cad11bd99985cfe7c09427ee0b4f9bd6b048bd13d4ffb32c6db237dfb/tabulate-0.8.9-py3-none-any.whl\n",
      "Collecting termcolor>=1.1 (from tensorpack==0.9.8->deeplabcut)\n",
      "Collecting tifffile>=2019.7.26 (from scikit-image>=0.17->deeplabcut)\n",
      "  Using cached https://files.pythonhosted.org/packages/c0/9b/db2b4777156c755ea589cb93ae50fc12a39119623bd7eca9bb8eaab523fc/tifffile-2021.4.8-py3-none-any.whl\n",
      "Collecting PyWavelets>=1.1.1 (from scikit-image>=0.17->deeplabcut)\n",
      "  Using cached https://files.pythonhosted.org/packages/62/bd/592c7242fdd1218a96431512e77265c50812315ef72570ace85e1cfae298/PyWavelets-1.1.1-cp37-cp37m-manylinux1_x86_64.whl\n",
      "Requirement already satisfied: pillow!=7.1.0,!=7.1.1,>=4.3.0 in /draco/u/system/soft/SLE_12/packages/x86_64/anaconda/3/2019.03/lib/python3.7/site-packages (from scikit-image>=0.17->deeplabcut) (5.4.1)\n",
      "Collecting Shapely (from imgaug->deeplabcut)\n",
      "  Using cached https://files.pythonhosted.org/packages/98/f8/db4d3426a1aba9d5dfcc83ed5a3e2935d2b1deb73d350642931791a61c37/Shapely-1.7.1-cp37-cp37m-manylinux1_x86_64.whl\n",
      "Collecting opencv-python (from imgaug->deeplabcut)\n",
      "Collecting ruamel.yaml.clib>=0.1.2; platform_python_implementation == \"CPython\" and python_version < \"3.10\" (from ruamel.yaml>=0.15.0->deeplabcut)\n",
      "  Using cached https://files.pythonhosted.org/packages/5e/6e/f652c56bbb2c3d3fca252ffc7c0358597f57a1bbdf484dac683054950c63/ruamel.yaml.clib-0.2.2-cp37-cp37m-manylinux1_x86_64.whl\n",
      "Requirement already satisfied: cycler>=0.10 in /draco/u/system/soft/SLE_12/packages/x86_64/anaconda/3/2019.03/lib/python3.7/site-packages (from matplotlib==3.1.3->deeplabcut) (0.10.0)\n",
      "Requirement already satisfied: pyparsing!=2.0.4,!=2.1.2,!=2.1.6,>=2.0.1 in /draco/u/system/soft/SLE_12/packages/x86_64/anaconda/3/2019.03/lib/python3.7/site-packages (from matplotlib==3.1.3->deeplabcut) (2.3.1)\n",
      "Requirement already satisfied: kiwisolver>=1.0.1 in /draco/u/system/soft/SLE_12/packages/x86_64/anaconda/3/2019.03/lib/python3.7/site-packages (from matplotlib==3.1.3->deeplabcut) (1.0.1)\n",
      "Requirement already satisfied: pytz>=2017.3 in /draco/u/system/soft/SLE_12/packages/x86_64/anaconda/3/2019.03/lib/python3.7/site-packages (from pandas>=1.0.1->deeplabcut) (2018.9)\n",
      "Requirement already satisfied: parso>=0.3.0 in /draco/u/system/soft/SLE_12/packages/x86_64/anaconda/3/2019.03/lib/python3.7/site-packages (from jedi>=0.10->ipython->deeplabcut) (0.3.4)\n",
      "Requirement already satisfied: ptyprocess>=0.5 in /draco/u/system/soft/SLE_12/packages/x86_64/anaconda/3/2019.03/lib/python3.7/site-packages (from pexpect; sys_platform != \"win32\"->ipython->deeplabcut) (0.6.0)\n",
      "Requirement already satisfied: wcwidth in /draco/u/system/soft/SLE_12/packages/x86_64/anaconda/3/2019.03/lib/python3.7/site-packages (from prompt-toolkit<2.1.0,>=2.0.0->ipython->deeplabcut) (0.1.7)\n",
      "Requirement already satisfied: urllib3<1.25,>=1.21.1 in /draco/u/system/soft/SLE_12/packages/x86_64/anaconda/3/2019.03/lib/python3.7/site-packages (from requests<3.0,>=2.8.1->moviepy<=1.0.1->deeplabcut) (1.24.1)\n",
      "Requirement already satisfied: idna<2.9,>=2.5 in /draco/u/system/soft/SLE_12/packages/x86_64/anaconda/3/2019.03/lib/python3.7/site-packages (from requests<3.0,>=2.8.1->moviepy<=1.0.1->deeplabcut) (2.8)\n",
      "\u001b[31mpyemma 2.5.5 requires thermotools>=0.2.6, which is not installed.\u001b[0m\n",
      "Installing collected packages: intel-openmp, numpy, opencv-python-headless, scipy, matplotlib, filterpy, imageio-ffmpeg, proglog, moviepy, llvmlite, numba, msgpack-numpy, tabulate, termcolor, tensorpack, tifffile, PyWavelets, scikit-image, Shapely, opencv-python, imgaug, bayesian-optimization, ruamel.yaml.clib, ruamel.yaml, pandas, statsmodels, deeplabcut, mock\n",
      "\u001b[31mCould not install packages due to an EnvironmentError: [Errno 13] Permission denied: '/mpcdf/soft/SLE_12/packages/x86_64/anaconda/3/2019.03/lib/python3.7/site-packages/intel_openmp-2021.2.0.dist-info'\n",
      "Consider using the `--user` option or check the permissions.\n",
      "\u001b[0m\n"
     ]
    }
   ],
   "source": [
    "#Install deeplabcut\n",
    "!pip install deeplabcut"
   ]
  },
  {
   "cell_type": "code",
   "execution_count": 1,
   "metadata": {},
   "outputs": [],
   "source": [
    "!module load cuda/10.0\n",
    "!module load anaconda/3/2019.03\n",
    "!module load tensorflow/gpu/1.14.0"
   ]
  },
  {
   "cell_type": "markdown",
   "metadata": {
    "id": "25wSj6TlVclR"
   },
   "source": [
    "**Click \"RESTART RUNTIME\" before continuing!**"
   ]
  },
  {
   "cell_type": "code",
   "execution_count": 1,
   "metadata": {
    "id": "sXufoX6INe6w"
   },
   "outputs": [
    {
     "name": "stderr",
     "output_type": "stream",
     "text": [
      "/u/fklotzsche/conda-envs/DLC-GPU/lib/python3.7/site-packages/tensorflow/python/framework/dtypes.py:526: FutureWarning: Passing (type, 1) or '1type' as a synonym of type is deprecated; in a future version of numpy, it will be understood as (type, (1,)) / '(1,)type'.\n",
      "  _np_qint8 = np.dtype([(\"qint8\", np.int8, 1)])\n",
      "/u/fklotzsche/conda-envs/DLC-GPU/lib/python3.7/site-packages/tensorflow/python/framework/dtypes.py:527: FutureWarning: Passing (type, 1) or '1type' as a synonym of type is deprecated; in a future version of numpy, it will be understood as (type, (1,)) / '(1,)type'.\n",
      "  _np_quint8 = np.dtype([(\"quint8\", np.uint8, 1)])\n",
      "/u/fklotzsche/conda-envs/DLC-GPU/lib/python3.7/site-packages/tensorflow/python/framework/dtypes.py:528: FutureWarning: Passing (type, 1) or '1type' as a synonym of type is deprecated; in a future version of numpy, it will be understood as (type, (1,)) / '(1,)type'.\n",
      "  _np_qint16 = np.dtype([(\"qint16\", np.int16, 1)])\n",
      "/u/fklotzsche/conda-envs/DLC-GPU/lib/python3.7/site-packages/tensorflow/python/framework/dtypes.py:529: FutureWarning: Passing (type, 1) or '1type' as a synonym of type is deprecated; in a future version of numpy, it will be understood as (type, (1,)) / '(1,)type'.\n",
      "  _np_quint16 = np.dtype([(\"quint16\", np.uint16, 1)])\n",
      "/u/fklotzsche/conda-envs/DLC-GPU/lib/python3.7/site-packages/tensorflow/python/framework/dtypes.py:530: FutureWarning: Passing (type, 1) or '1type' as a synonym of type is deprecated; in a future version of numpy, it will be understood as (type, (1,)) / '(1,)type'.\n",
      "  _np_qint32 = np.dtype([(\"qint32\", np.int32, 1)])\n",
      "/u/fklotzsche/conda-envs/DLC-GPU/lib/python3.7/site-packages/tensorflow/python/framework/dtypes.py:535: FutureWarning: Passing (type, 1) or '1type' as a synonym of type is deprecated; in a future version of numpy, it will be understood as (type, (1,)) / '(1,)type'.\n",
      "  np_resource = np.dtype([(\"resource\", np.ubyte, 1)])\n"
     ]
    }
   ],
   "source": [
    "#Use TensorFlow 1.x (this only works on COLAB):\n",
    "#  %tensorflow_version 1.x\n",
    "\n",
    "import os\n",
    "os.environ[\"DLClight\"]=\"True\"   #This will surpress the GUI as it won't work on the cloud\n",
    "\n",
    "#import deeplabcut\n",
    "import deeplabcut"
   ]
  },
  {
   "cell_type": "code",
   "execution_count": 6,
   "metadata": {},
   "outputs": [
    {
     "data": {
      "text/plain": [
       "True"
      ]
     },
     "execution_count": 6,
     "metadata": {},
     "output_type": "execute_result"
    }
   ],
   "source": []
  },
  {
   "cell_type": "markdown",
   "metadata": {
    "id": "cQ-nlTkri4HZ"
   },
   "source": [
    "## Link to Google Drive:\n",
    "\n",
    "Ensure the project folder is in your google drive.\n",
    "\n",
    "**Open the config.yaml file in the folder in your google drive, and update the project path to be set to the google drive path.**\n",
    "\n",
    "Typically, this will look like: /content/drive/My Drive/yourProjectFolderName"
   ]
  },
  {
   "cell_type": "code",
   "execution_count": 7,
   "metadata": {
    "id": "KS4Q4UkR9rgG"
   },
   "outputs": [
    {
     "ename": "ModuleNotFoundError",
     "evalue": "No module named 'google.colab'",
     "output_type": "error",
     "traceback": [
      "\u001b[0;31m---------------------------------------------------------------------------\u001b[0m",
      "\u001b[0;31mModuleNotFoundError\u001b[0m                       Traceback (most recent call last)",
      "\u001b[0;32m<ipython-input-7-746ba8d44796>\u001b[0m in \u001b[0;36m<module>\u001b[0;34m\u001b[0m\n\u001b[1;32m      1\u001b[0m \u001b[0;31m#Run this cell and follow the authorization instructions:\u001b[0m\u001b[0;34m\u001b[0m\u001b[0;34m\u001b[0m\u001b[0;34m\u001b[0m\u001b[0m\n\u001b[1;32m      2\u001b[0m \u001b[0;34m\u001b[0m\u001b[0m\n\u001b[0;32m----> 3\u001b[0;31m \u001b[0;32mfrom\u001b[0m \u001b[0mgoogle\u001b[0m\u001b[0;34m.\u001b[0m\u001b[0mcolab\u001b[0m \u001b[0;32mimport\u001b[0m \u001b[0mdrive\u001b[0m\u001b[0;34m\u001b[0m\u001b[0;34m\u001b[0m\u001b[0m\n\u001b[0m\u001b[1;32m      4\u001b[0m \u001b[0mdrive\u001b[0m\u001b[0;34m.\u001b[0m\u001b[0mmount\u001b[0m\u001b[0;34m(\u001b[0m\u001b[0;34m'/content/drive'\u001b[0m\u001b[0;34m)\u001b[0m\u001b[0;34m\u001b[0m\u001b[0;34m\u001b[0m\u001b[0m\n",
      "\u001b[0;31mModuleNotFoundError\u001b[0m: No module named 'google.colab'"
     ]
    }
   ],
   "source": [
    "#Run this cell and follow the authorization instructions:\n",
    "\n",
    "# from google.colab import drive\n",
    "# drive.mount('/content/drive')"
   ]
  },
  {
   "cell_type": "code",
   "execution_count": 16,
   "metadata": {},
   "outputs": [
    {
     "data": {
      "text/plain": [
       "['Untitled.ipynb',\n",
       " 'dlc-models',\n",
       " 'config.yaml',\n",
       " 'videos',\n",
       " 'evaluation-results',\n",
       " '.ipynb_checkpoints',\n",
       " 'labeled-data',\n",
       " 'training-datasets']"
      ]
     },
     "execution_count": 16,
     "metadata": {},
     "output_type": "execute_result"
    }
   ],
   "source": [
    "os.listdir('/u/fklotzsche/ptmp_link/test_dir')"
   ]
  },
  {
   "cell_type": "markdown",
   "metadata": {
    "id": "Frnj1RVDyEqs"
   },
   "source": [
    "##Edit Project Variables"
   ]
  },
  {
   "cell_type": "code",
   "execution_count": 2,
   "metadata": {
    "id": "vhENAlQnFENJ"
   },
   "outputs": [
    {
     "data": {
      "text/plain": [
       "'/u/fklotzsche/ptmp_link/test_dir/config.yaml'"
      ]
     },
     "execution_count": 2,
     "metadata": {},
     "output_type": "execute_result"
    }
   ],
   "source": [
    "#Setup project variables:\n",
    "\n",
    "#EDIT THESE ACCORDING TO YOUR PROJECT DETAILS:\n",
    "ProjectFolderName = '/u/fklotzsche/ptmp_link/test_dir'\n",
    "DataFolderName = '/u/fklotzsche/ptmp_link/Experiments/vMemEcc/Data/SubjectData'\n",
    "VideoType = '.mp4' \n",
    "\n",
    "#Don't edit the video path\n",
    "#If you want to work with just a specific video, you can add the name to the \n",
    "#end of the path, otherwise the current path will allow all videos in the \n",
    "#folder to be analyzed\n",
    "videofile_path = ['/content/drive/My Drive/'+ProjectFolderName+'/videos/'] \n",
    "videofile_path\n",
    "\n",
    "#This creates a path variable that links to your google drive copy\n",
    "#Do not edit this\n",
    "path_config_file = ProjectFolderName+'/config.yaml'\n",
    "path_config_file"
   ]
  },
  {
   "cell_type": "markdown",
   "metadata": {
    "id": "xNi9s1dboEJN"
   },
   "source": [
    "## Create a Training Data Set\n",
    "\n",
    "Once this code cell is run, the training dataset is created and saved in the project directory under the subdirectory **'training-datasets'**\n",
    "\n",
    "This function also creates new subdirectories under **dlc-models** and appends the project config.yaml file with the correct path to the training and testing pose configuration file. These files hold the parameters for training the network e.g. **pose_cfg.yaml**.\n"
   ]
  },
  {
   "cell_type": "code",
   "execution_count": null,
   "metadata": {
    "id": "eMeUwgxPoEJP",
    "scrolled": true
   },
   "outputs": [],
   "source": [
    "deeplabcut.create_training_dataset(path_config_file, net_type='resnet_50', augmenter_type='imgaug')"
   ]
  },
  {
   "cell_type": "markdown",
   "metadata": {
    "id": "c4FczXGDoEJU"
   },
   "source": [
    "## Train Network\n",
    "This function trains the network for a specific shuffle of the training dataset. "
   ]
  },
  {
   "cell_type": "code",
   "execution_count": null,
   "metadata": {
    "id": "_pOvDq_2oEJW"
   },
   "outputs": [],
   "source": [
    "deeplabcut.train_network(path_config_file, shuffle=1, displayiters=1000,saveiters=25000)\n",
    "\n",
    "#this will run until you stop it (CTRL+C), or hit \"STOP\" icon, or when it hits the end (default, 1.03M iterations). \n",
    "#either of the two will return what looks like an error message, but that is expected and you can continue on to Evaluate the Network...."
   ]
  },
  {
   "cell_type": "markdown",
   "metadata": {
    "id": "RiDwIVf5-3H_"
   },
   "source": [
    "**When you hit \"STOP\" you will get a KeyInterrupt \"error\" - that is fine.**"
   ]
  },
  {
   "cell_type": "markdown",
   "metadata": {
    "id": "xZygsb2DoEJc"
   },
   "source": [
    "## Evaluate Network\n",
    "This funtion evaluates a trained model for a specific shuffle/shuffles at a particular state or all the states on the data set (images)\n",
    "and stores the results as .csv file in a subdirectory under **evaluation-results**"
   ]
  },
  {
   "cell_type": "code",
   "execution_count": null,
   "metadata": {
    "id": "nv4zlbrnoEJg"
   },
   "outputs": [],
   "source": [
    "%matplotlib notebook\n",
    "deeplabcut.evaluate_network(path_config_file, plotting=True)"
   ]
  },
  {
   "cell_type": "markdown",
   "metadata": {
    "id": "OVFLSKKfoEJk"
   },
   "source": [
    "## Analyzing Videos\n",
    "This function analyzes the videos.\n",
    "\n",
    "The results are stored in a csv file in the same directory where the video is. "
   ]
  },
  {
   "cell_type": "code",
   "execution_count": null,
   "metadata": {
    "id": "Y_LZiS_0oEJl"
   },
   "outputs": [],
   "source": [
    "deeplabcut.analyze_videos(path_config_file,videofile_path, videotype=VideoType, save_as_csv=True)"
   ]
  },
  {
   "cell_type": "markdown",
   "metadata": {
    "id": "ameFzjhZsuaJ"
   },
   "source": [
    "Use the following instead to run on data from single subjects in the \"original\" vMemEcc folder structure:\n"
   ]
  },
  {
   "cell_type": "code",
   "execution_count": 9,
   "metadata": {
    "id": "GOSCB3QOpaJq"
   },
   "outputs": [
    {
     "name": "stdout",
     "output_type": "stream",
     "text": [
      "['/u/fklotzsche/ptmp_link/Experiments/vMemEcc/Data/SubjectData/VME_S14/EyeTracking/Block5/000']\n",
      "Using snapshot-625000 for model /u/fklotzsche/ptmp_link/test_dir/dlc-models/iteration-0/eye0Nov23-trainset95shuffle1\n",
      "Initializing ResNet\n",
      "Analyzing all the videos in the directory...\n",
      "Starting to analyze %  /u/fklotzsche/ptmp_link/Experiments/vMemEcc/Data/SubjectData/VME_S14/EyeTracking/Block5/000/eye0.mp4\n",
      "/u/fklotzsche/ptmp_link/Experiments/vMemEcc/Data/SubjectData/VME_S14/EyeTracking/Block5/000  already exists!\n",
      "Loading  /u/fklotzsche/ptmp_link/Experiments/vMemEcc/Data/SubjectData/VME_S14/EyeTracking/Block5/000/eye0.mp4\n"
     ]
    },
    {
     "name": "stderr",
     "output_type": "stream",
     "text": [
      "  0%|          | 0/223774 [00:00<?, ?it/s]"
     ]
    },
    {
     "name": "stdout",
     "output_type": "stream",
     "text": [
      "Duration of video [s]:  1121.87 , recorded with  199.46 fps!\n",
      "Overall # of frames:  223774  found with (before cropping) frame dimensions:  192 192\n",
      "Starting to extract posture\n"
     ]
    },
    {
     "name": "stderr",
     "output_type": "stream",
     "text": [
      "225937it [13:29, 279.15it/s]\n"
     ]
    },
    {
     "name": "stdout",
     "output_type": "stream",
     "text": [
      "Saving results in /u/fklotzsche/ptmp_link/Experiments/vMemEcc/Data/SubjectData/VME_S14/EyeTracking/Block5/000...\n",
      "Saving csv poses!\n",
      "The videos are analyzed. Now your research can truly start! \n",
      " You can create labeled videos with 'create_labeled_video'\n",
      "If the tracking is not satisfactory for some videos, consider expanding the training set. You can use the function 'extract_outlier_frames' to extract a few representative outlier frames.\n",
      "['/u/fklotzsche/ptmp_link/Experiments/vMemEcc/Data/SubjectData/VME_S14/EyeTracking/Block6/000']\n",
      "Using snapshot-625000 for model /u/fklotzsche/ptmp_link/test_dir/dlc-models/iteration-0/eye0Nov23-trainset95shuffle1\n",
      "Initializing ResNet\n"
     ]
    },
    {
     "name": "stderr",
     "output_type": "stream",
     "text": [
      "  0%|          | 0/307181 [00:00<?, ?it/s]"
     ]
    },
    {
     "name": "stdout",
     "output_type": "stream",
     "text": [
      "Analyzing all the videos in the directory...\n",
      "Starting to analyze %  /u/fklotzsche/ptmp_link/Experiments/vMemEcc/Data/SubjectData/VME_S14/EyeTracking/Block6/000/eye0.mp4\n",
      "/u/fklotzsche/ptmp_link/Experiments/vMemEcc/Data/SubjectData/VME_S14/EyeTracking/Block6/000  already exists!\n",
      "Loading  /u/fklotzsche/ptmp_link/Experiments/vMemEcc/Data/SubjectData/VME_S14/EyeTracking/Block6/000/eye0.mp4\n",
      "Duration of video [s]:  1542.91 , recorded with  199.09 fps!\n",
      "Overall # of frames:  307181  found with (before cropping) frame dimensions:  192 192\n",
      "Starting to extract posture\n"
     ]
    },
    {
     "name": "stderr",
     "output_type": "stream",
     "text": [
      "310171it [19:31, 264.78it/s]\n"
     ]
    },
    {
     "name": "stdout",
     "output_type": "stream",
     "text": [
      "Saving results in /u/fklotzsche/ptmp_link/Experiments/vMemEcc/Data/SubjectData/VME_S14/EyeTracking/Block6/000...\n",
      "Saving csv poses!\n",
      "The videos are analyzed. Now your research can truly start! \n",
      " You can create labeled videos with 'create_labeled_video'\n",
      "If the tracking is not satisfactory for some videos, consider expanding the training set. You can use the function 'extract_outlier_frames' to extract a few representative outlier frames.\n",
      "['/u/fklotzsche/ptmp_link/Experiments/vMemEcc/Data/SubjectData/VME_S14/EyeTracking/Block2/000']\n",
      "Using snapshot-625000 for model /u/fklotzsche/ptmp_link/test_dir/dlc-models/iteration-0/eye0Nov23-trainset95shuffle1\n",
      "Initializing ResNet\n"
     ]
    },
    {
     "name": "stderr",
     "output_type": "stream",
     "text": [
      "  0%|          | 0/96128 [00:00<?, ?it/s]"
     ]
    },
    {
     "name": "stdout",
     "output_type": "stream",
     "text": [
      "Analyzing all the videos in the directory...\n",
      "Starting to analyze %  /u/fklotzsche/ptmp_link/Experiments/vMemEcc/Data/SubjectData/VME_S14/EyeTracking/Block2/000/eye0.mp4\n",
      "/u/fklotzsche/ptmp_link/Experiments/vMemEcc/Data/SubjectData/VME_S14/EyeTracking/Block2/000  already exists!\n",
      "Loading  /u/fklotzsche/ptmp_link/Experiments/vMemEcc/Data/SubjectData/VME_S14/EyeTracking/Block2/000/eye0.mp4\n",
      "Duration of video [s]:  482.08 , recorded with  199.4 fps!\n",
      "Overall # of frames:  96128  found with (before cropping) frame dimensions:  192 192\n",
      "Starting to extract posture\n"
     ]
    },
    {
     "name": "stderr",
     "output_type": "stream",
     "text": [
      "97061it [05:51, 276.25it/s]\n"
     ]
    },
    {
     "name": "stdout",
     "output_type": "stream",
     "text": [
      "Saving results in /u/fklotzsche/ptmp_link/Experiments/vMemEcc/Data/SubjectData/VME_S14/EyeTracking/Block2/000...\n",
      "Saving csv poses!\n",
      "The videos are analyzed. Now your research can truly start! \n",
      " You can create labeled videos with 'create_labeled_video'\n",
      "If the tracking is not satisfactory for some videos, consider expanding the training set. You can use the function 'extract_outlier_frames' to extract a few representative outlier frames.\n",
      "['/u/fklotzsche/ptmp_link/Experiments/vMemEcc/Data/SubjectData/VME_S14/EyeTracking/Block4/000']\n",
      "Using snapshot-625000 for model /u/fklotzsche/ptmp_link/test_dir/dlc-models/iteration-0/eye0Nov23-trainset95shuffle1\n",
      "Initializing ResNet\n"
     ]
    },
    {
     "name": "stderr",
     "output_type": "stream",
     "text": [
      "  0%|          | 0/222964 [00:00<?, ?it/s]"
     ]
    },
    {
     "name": "stdout",
     "output_type": "stream",
     "text": [
      "Analyzing all the videos in the directory...\n",
      "Starting to analyze %  /u/fklotzsche/ptmp_link/Experiments/vMemEcc/Data/SubjectData/VME_S14/EyeTracking/Block4/000/eye0.mp4\n",
      "/u/fklotzsche/ptmp_link/Experiments/vMemEcc/Data/SubjectData/VME_S14/EyeTracking/Block4/000  already exists!\n",
      "Loading  /u/fklotzsche/ptmp_link/Experiments/vMemEcc/Data/SubjectData/VME_S14/EyeTracking/Block4/000/eye0.mp4\n",
      "Duration of video [s]:  1118.43 , recorded with  199.35 fps!\n",
      "Overall # of frames:  222964  found with (before cropping) frame dimensions:  192 192\n",
      "Starting to extract posture\n"
     ]
    },
    {
     "name": "stderr",
     "output_type": "stream",
     "text": [
      "225129it [13:31, 277.28it/s]\n"
     ]
    },
    {
     "name": "stdout",
     "output_type": "stream",
     "text": [
      "Saving results in /u/fklotzsche/ptmp_link/Experiments/vMemEcc/Data/SubjectData/VME_S14/EyeTracking/Block4/000...\n",
      "Saving csv poses!\n",
      "The videos are analyzed. Now your research can truly start! \n",
      " You can create labeled videos with 'create_labeled_video'\n",
      "If the tracking is not satisfactory for some videos, consider expanding the training set. You can use the function 'extract_outlier_frames' to extract a few representative outlier frames.\n",
      "['/u/fklotzsche/ptmp_link/Experiments/vMemEcc/Data/SubjectData/VME_S15/EyeTracking/Block11/000']\n",
      "Using snapshot-625000 for model /u/fklotzsche/ptmp_link/test_dir/dlc-models/iteration-0/eye0Nov23-trainset95shuffle1\n",
      "Initializing ResNet\n"
     ]
    },
    {
     "name": "stderr",
     "output_type": "stream",
     "text": [
      "  0%|          | 0/94410 [00:00<?, ?it/s]"
     ]
    },
    {
     "name": "stdout",
     "output_type": "stream",
     "text": [
      "Analyzing all the videos in the directory...\n",
      "Starting to analyze %  /u/fklotzsche/ptmp_link/Experiments/vMemEcc/Data/SubjectData/VME_S15/EyeTracking/Block11/000/eye0.mp4\n",
      "/u/fklotzsche/ptmp_link/Experiments/vMemEcc/Data/SubjectData/VME_S15/EyeTracking/Block11/000  already exists!\n",
      "Loading  /u/fklotzsche/ptmp_link/Experiments/vMemEcc/Data/SubjectData/VME_S15/EyeTracking/Block11/000/eye0.mp4\n",
      "Duration of video [s]:  473.23 , recorded with  199.5 fps!\n",
      "Overall # of frames:  94410  found with (before cropping) frame dimensions:  192 192\n",
      "Starting to extract posture\n"
     ]
    },
    {
     "name": "stderr",
     "output_type": "stream",
     "text": [
      "95344it [05:47, 274.14it/s]\n"
     ]
    },
    {
     "name": "stdout",
     "output_type": "stream",
     "text": [
      "Saving results in /u/fklotzsche/ptmp_link/Experiments/vMemEcc/Data/SubjectData/VME_S15/EyeTracking/Block11/000...\n",
      "Saving csv poses!\n",
      "The videos are analyzed. Now your research can truly start! \n",
      " You can create labeled videos with 'create_labeled_video'\n",
      "If the tracking is not satisfactory for some videos, consider expanding the training set. You can use the function 'extract_outlier_frames' to extract a few representative outlier frames.\n",
      "['/u/fklotzsche/ptmp_link/Experiments/vMemEcc/Data/SubjectData/VME_S15/EyeTracking/Block13/000']\n",
      "Using snapshot-625000 for model /u/fklotzsche/ptmp_link/test_dir/dlc-models/iteration-0/eye0Nov23-trainset95shuffle1\n",
      "Initializing ResNet\n"
     ]
    },
    {
     "name": "stderr",
     "output_type": "stream",
     "text": [
      "  0%|          | 0/92918 [00:00<?, ?it/s]"
     ]
    },
    {
     "name": "stdout",
     "output_type": "stream",
     "text": [
      "Analyzing all the videos in the directory...\n",
      "Starting to analyze %  /u/fklotzsche/ptmp_link/Experiments/vMemEcc/Data/SubjectData/VME_S15/EyeTracking/Block13/000/eye0.mp4\n",
      "/u/fklotzsche/ptmp_link/Experiments/vMemEcc/Data/SubjectData/VME_S15/EyeTracking/Block13/000  already exists!\n",
      "Loading  /u/fklotzsche/ptmp_link/Experiments/vMemEcc/Data/SubjectData/VME_S15/EyeTracking/Block13/000/eye0.mp4\n",
      "Duration of video [s]:  466.18 , recorded with  199.32 fps!\n",
      "Overall # of frames:  92918  found with (before cropping) frame dimensions:  192 192\n",
      "Starting to extract posture\n"
     ]
    },
    {
     "name": "stderr",
     "output_type": "stream",
     "text": [
      "93829it [05:41, 274.58it/s]\n"
     ]
    },
    {
     "name": "stdout",
     "output_type": "stream",
     "text": [
      "Saving results in /u/fklotzsche/ptmp_link/Experiments/vMemEcc/Data/SubjectData/VME_S15/EyeTracking/Block13/000...\n",
      "Saving csv poses!\n",
      "The videos are analyzed. Now your research can truly start! \n",
      " You can create labeled videos with 'create_labeled_video'\n",
      "If the tracking is not satisfactory for some videos, consider expanding the training set. You can use the function 'extract_outlier_frames' to extract a few representative outlier frames.\n",
      "['/u/fklotzsche/ptmp_link/Experiments/vMemEcc/Data/SubjectData/VME_S15/EyeTracking/Block9/000']\n",
      "Using snapshot-625000 for model /u/fklotzsche/ptmp_link/test_dir/dlc-models/iteration-0/eye0Nov23-trainset95shuffle1\n",
      "Initializing ResNet\n"
     ]
    },
    {
     "name": "stderr",
     "output_type": "stream",
     "text": [
      "  0%|          | 0/95375 [00:00<?, ?it/s]"
     ]
    },
    {
     "name": "stdout",
     "output_type": "stream",
     "text": [
      "Analyzing all the videos in the directory...\n",
      "Starting to analyze %  /u/fklotzsche/ptmp_link/Experiments/vMemEcc/Data/SubjectData/VME_S15/EyeTracking/Block9/000/eye0.mp4\n",
      "/u/fklotzsche/ptmp_link/Experiments/vMemEcc/Data/SubjectData/VME_S15/EyeTracking/Block9/000  already exists!\n",
      "Loading  /u/fklotzsche/ptmp_link/Experiments/vMemEcc/Data/SubjectData/VME_S15/EyeTracking/Block9/000/eye0.mp4\n",
      "Duration of video [s]:  478.3 , recorded with  199.4 fps!\n",
      "Overall # of frames:  95375  found with (before cropping) frame dimensions:  192 192\n",
      "Starting to extract posture\n"
     ]
    },
    {
     "name": "stderr",
     "output_type": "stream",
     "text": [
      "96253it [05:50, 274.98it/s]\n"
     ]
    },
    {
     "name": "stdout",
     "output_type": "stream",
     "text": [
      "Saving results in /u/fklotzsche/ptmp_link/Experiments/vMemEcc/Data/SubjectData/VME_S15/EyeTracking/Block9/000...\n",
      "Saving csv poses!\n",
      "The videos are analyzed. Now your research can truly start! \n",
      " You can create labeled videos with 'create_labeled_video'\n",
      "If the tracking is not satisfactory for some videos, consider expanding the training set. You can use the function 'extract_outlier_frames' to extract a few representative outlier frames.\n",
      "['/u/fklotzsche/ptmp_link/Experiments/vMemEcc/Data/SubjectData/VME_S15/EyeTracking/Block5/000']\n",
      "Using snapshot-625000 for model /u/fklotzsche/ptmp_link/test_dir/dlc-models/iteration-0/eye0Nov23-trainset95shuffle1\n",
      "Initializing ResNet\n"
     ]
    },
    {
     "name": "stderr",
     "output_type": "stream",
     "text": [
      "  0%|          | 0/97718 [00:00<?, ?it/s]"
     ]
    },
    {
     "name": "stdout",
     "output_type": "stream",
     "text": [
      "Analyzing all the videos in the directory...\n",
      "Starting to analyze %  /u/fklotzsche/ptmp_link/Experiments/vMemEcc/Data/SubjectData/VME_S15/EyeTracking/Block5/000/eye0.mp4\n",
      "/u/fklotzsche/ptmp_link/Experiments/vMemEcc/Data/SubjectData/VME_S15/EyeTracking/Block5/000  already exists!\n",
      "Loading  /u/fklotzsche/ptmp_link/Experiments/vMemEcc/Data/SubjectData/VME_S15/EyeTracking/Block5/000/eye0.mp4\n",
      "Duration of video [s]:  491.04 , recorded with  199.0 fps!\n",
      "Overall # of frames:  97718  found with (before cropping) frame dimensions:  192 192\n",
      "Starting to extract posture\n"
     ]
    },
    {
     "name": "stderr",
     "output_type": "stream",
     "text": [
      "98677it [05:57, 275.86it/s]\n"
     ]
    },
    {
     "name": "stdout",
     "output_type": "stream",
     "text": [
      "Saving results in /u/fklotzsche/ptmp_link/Experiments/vMemEcc/Data/SubjectData/VME_S15/EyeTracking/Block5/000...\n",
      "Saving csv poses!\n",
      "The videos are analyzed. Now your research can truly start! \n",
      " You can create labeled videos with 'create_labeled_video'\n",
      "If the tracking is not satisfactory for some videos, consider expanding the training set. You can use the function 'extract_outlier_frames' to extract a few representative outlier frames.\n",
      "['/u/fklotzsche/ptmp_link/Experiments/vMemEcc/Data/SubjectData/VME_S15/EyeTracking/Block10/000']\n",
      "Using snapshot-625000 for model /u/fklotzsche/ptmp_link/test_dir/dlc-models/iteration-0/eye0Nov23-trainset95shuffle1\n",
      "Initializing ResNet\n"
     ]
    },
    {
     "name": "stderr",
     "output_type": "stream",
     "text": [
      "  0%|          | 0/93711 [00:00<?, ?it/s]"
     ]
    },
    {
     "name": "stdout",
     "output_type": "stream",
     "text": [
      "Analyzing all the videos in the directory...\n",
      "Starting to analyze %  /u/fklotzsche/ptmp_link/Experiments/vMemEcc/Data/SubjectData/VME_S15/EyeTracking/Block10/000/eye0.mp4\n",
      "/u/fklotzsche/ptmp_link/Experiments/vMemEcc/Data/SubjectData/VME_S15/EyeTracking/Block10/000  already exists!\n",
      "Loading  /u/fklotzsche/ptmp_link/Experiments/vMemEcc/Data/SubjectData/VME_S15/EyeTracking/Block10/000/eye0.mp4\n",
      "Duration of video [s]:  469.88 , recorded with  199.43 fps!\n",
      "Overall # of frames:  93711  found with (before cropping) frame dimensions:  192 192\n",
      "Starting to extract posture\n"
     ]
    },
    {
     "name": "stderr",
     "output_type": "stream",
     "text": [
      "94637it [05:44, 274.45it/s]\n"
     ]
    },
    {
     "name": "stdout",
     "output_type": "stream",
     "text": [
      "Saving results in /u/fklotzsche/ptmp_link/Experiments/vMemEcc/Data/SubjectData/VME_S15/EyeTracking/Block10/000...\n",
      "Saving csv poses!\n",
      "The videos are analyzed. Now your research can truly start! \n",
      " You can create labeled videos with 'create_labeled_video'\n",
      "If the tracking is not satisfactory for some videos, consider expanding the training set. You can use the function 'extract_outlier_frames' to extract a few representative outlier frames.\n",
      "['/u/fklotzsche/ptmp_link/Experiments/vMemEcc/Data/SubjectData/VME_S15/EyeTracking/Block12/000']\n",
      "Using snapshot-625000 for model /u/fklotzsche/ptmp_link/test_dir/dlc-models/iteration-0/eye0Nov23-trainset95shuffle1\n",
      "Initializing ResNet\n"
     ]
    },
    {
     "name": "stderr",
     "output_type": "stream",
     "text": [
      "  0%|          | 0/104448 [00:00<?, ?it/s]"
     ]
    },
    {
     "name": "stdout",
     "output_type": "stream",
     "text": [
      "Analyzing all the videos in the directory...\n",
      "Starting to analyze %  /u/fklotzsche/ptmp_link/Experiments/vMemEcc/Data/SubjectData/VME_S15/EyeTracking/Block12/000/eye0.mp4\n",
      "/u/fklotzsche/ptmp_link/Experiments/vMemEcc/Data/SubjectData/VME_S15/EyeTracking/Block12/000  already exists!\n",
      "Loading  /u/fklotzsche/ptmp_link/Experiments/vMemEcc/Data/SubjectData/VME_S15/EyeTracking/Block12/000/eye0.mp4\n",
      "Duration of video [s]:  523.95 , recorded with  199.35 fps!\n",
      "Overall # of frames:  104448  found with (before cropping) frame dimensions:  192 192\n",
      "Starting to extract posture\n"
     ]
    },
    {
     "name": "stderr",
     "output_type": "stream",
     "text": [
      "105444it [06:21, 276.63it/s]\n"
     ]
    },
    {
     "name": "stdout",
     "output_type": "stream",
     "text": [
      "Saving results in /u/fklotzsche/ptmp_link/Experiments/vMemEcc/Data/SubjectData/VME_S15/EyeTracking/Block12/000...\n",
      "Saving csv poses!\n",
      "The videos are analyzed. Now your research can truly start! \n",
      " You can create labeled videos with 'create_labeled_video'\n",
      "If the tracking is not satisfactory for some videos, consider expanding the training set. You can use the function 'extract_outlier_frames' to extract a few representative outlier frames.\n",
      "['/u/fklotzsche/ptmp_link/Experiments/vMemEcc/Data/SubjectData/VME_S15/EyeTracking/Block6/000']\n",
      "Using snapshot-625000 for model /u/fklotzsche/ptmp_link/test_dir/dlc-models/iteration-0/eye0Nov23-trainset95shuffle1\n",
      "Initializing ResNet\n",
      "Analyzing all the videos in the directory...\n",
      "Starting to analyze %  /u/fklotzsche/ptmp_link/Experiments/vMemEcc/Data/SubjectData/VME_S15/EyeTracking/Block6/000/eye0.mp4\n",
      "/u/fklotzsche/ptmp_link/Experiments/vMemEcc/Data/SubjectData/VME_S15/EyeTracking/Block6/000  already exists!\n",
      "Loading  /u/fklotzsche/ptmp_link/Experiments/vMemEcc/Data/SubjectData/VME_S15/EyeTracking/Block6/000/eye0.mp4\n"
     ]
    },
    {
     "name": "stderr",
     "output_type": "stream",
     "text": [
      "  0%|          | 0/101638 [00:00<?, ?it/s]"
     ]
    },
    {
     "name": "stdout",
     "output_type": "stream",
     "text": [
      "Duration of video [s]:  509.88 , recorded with  199.34 fps!\n",
      "Overall # of frames:  101638  found with (before cropping) frame dimensions:  192 192\n",
      "Starting to extract posture\n"
     ]
    },
    {
     "name": "stderr",
     "output_type": "stream",
     "text": [
      "102616it [06:13, 274.39it/s]\n"
     ]
    },
    {
     "name": "stdout",
     "output_type": "stream",
     "text": [
      "Saving results in /u/fklotzsche/ptmp_link/Experiments/vMemEcc/Data/SubjectData/VME_S15/EyeTracking/Block6/000...\n",
      "Saving csv poses!\n",
      "The videos are analyzed. Now your research can truly start! \n",
      " You can create labeled videos with 'create_labeled_video'\n",
      "If the tracking is not satisfactory for some videos, consider expanding the training set. You can use the function 'extract_outlier_frames' to extract a few representative outlier frames.\n",
      "['/u/fklotzsche/ptmp_link/Experiments/vMemEcc/Data/SubjectData/VME_S15/EyeTracking/Block2/000']\n",
      "Using snapshot-625000 for model /u/fklotzsche/ptmp_link/test_dir/dlc-models/iteration-0/eye0Nov23-trainset95shuffle1\n",
      "Initializing ResNet\n"
     ]
    },
    {
     "name": "stderr",
     "output_type": "stream",
     "text": [
      "  0%|          | 0/62669 [00:00<?, ?it/s]"
     ]
    },
    {
     "name": "stdout",
     "output_type": "stream",
     "text": [
      "Analyzing all the videos in the directory...\n",
      "Starting to analyze %  /u/fklotzsche/ptmp_link/Experiments/vMemEcc/Data/SubjectData/VME_S15/EyeTracking/Block2/000/eye0.mp4\n",
      "/u/fklotzsche/ptmp_link/Experiments/vMemEcc/Data/SubjectData/VME_S15/EyeTracking/Block2/000  already exists!\n",
      "Loading  /u/fklotzsche/ptmp_link/Experiments/vMemEcc/Data/SubjectData/VME_S15/EyeTracking/Block2/000/eye0.mp4\n",
      "Duration of video [s]:  314.72 , recorded with  199.13 fps!\n",
      "Overall # of frames:  62669  found with (before cropping) frame dimensions:  192 192\n",
      "Starting to extract posture\n"
     ]
    },
    {
     "name": "stderr",
     "output_type": "stream",
     "text": [
      "63226it [03:49, 275.32it/s]\n"
     ]
    },
    {
     "name": "stdout",
     "output_type": "stream",
     "text": [
      "Saving results in /u/fklotzsche/ptmp_link/Experiments/vMemEcc/Data/SubjectData/VME_S15/EyeTracking/Block2/000...\n",
      "Saving csv poses!\n",
      "The videos are analyzed. Now your research can truly start! \n",
      " You can create labeled videos with 'create_labeled_video'\n",
      "If the tracking is not satisfactory for some videos, consider expanding the training set. You can use the function 'extract_outlier_frames' to extract a few representative outlier frames.\n",
      "['/u/fklotzsche/ptmp_link/Experiments/vMemEcc/Data/SubjectData/VME_S15/EyeTracking/Block8/000']\n",
      "Using snapshot-625000 for model /u/fklotzsche/ptmp_link/test_dir/dlc-models/iteration-0/eye0Nov23-trainset95shuffle1\n",
      "Initializing ResNet\n"
     ]
    },
    {
     "name": "stderr",
     "output_type": "stream",
     "text": [
      "  0%|          | 0/95575 [00:00<?, ?it/s]"
     ]
    },
    {
     "name": "stdout",
     "output_type": "stream",
     "text": [
      "Analyzing all the videos in the directory...\n",
      "Starting to analyze %  /u/fklotzsche/ptmp_link/Experiments/vMemEcc/Data/SubjectData/VME_S15/EyeTracking/Block8/000/eye0.mp4\n",
      "/u/fklotzsche/ptmp_link/Experiments/vMemEcc/Data/SubjectData/VME_S15/EyeTracking/Block8/000  already exists!\n",
      "Loading  /u/fklotzsche/ptmp_link/Experiments/vMemEcc/Data/SubjectData/VME_S15/EyeTracking/Block8/000/eye0.mp4\n",
      "Duration of video [s]:  478.88 , recorded with  199.58 fps!\n",
      "Overall # of frames:  95575  found with (before cropping) frame dimensions:  192 192\n",
      "Starting to extract posture\n"
     ]
    },
    {
     "name": "stderr",
     "output_type": "stream",
     "text": [
      "96455it [05:53, 273.19it/s]\n"
     ]
    },
    {
     "name": "stdout",
     "output_type": "stream",
     "text": [
      "Saving results in /u/fklotzsche/ptmp_link/Experiments/vMemEcc/Data/SubjectData/VME_S15/EyeTracking/Block8/000...\n",
      "Saving csv poses!\n",
      "The videos are analyzed. Now your research can truly start! \n",
      " You can create labeled videos with 'create_labeled_video'\n",
      "If the tracking is not satisfactory for some videos, consider expanding the training set. You can use the function 'extract_outlier_frames' to extract a few representative outlier frames.\n",
      "['/u/fklotzsche/ptmp_link/Experiments/vMemEcc/Data/SubjectData/VME_S15/EyeTracking/Block4/000']\n",
      "Using snapshot-625000 for model /u/fklotzsche/ptmp_link/test_dir/dlc-models/iteration-0/eye0Nov23-trainset95shuffle1\n",
      "Initializing ResNet\n"
     ]
    },
    {
     "name": "stderr",
     "output_type": "stream",
     "text": [
      "  0%|          | 0/168236 [00:00<?, ?it/s]"
     ]
    },
    {
     "name": "stdout",
     "output_type": "stream",
     "text": [
      "Analyzing all the videos in the directory...\n",
      "Starting to analyze %  /u/fklotzsche/ptmp_link/Experiments/vMemEcc/Data/SubjectData/VME_S15/EyeTracking/Block4/000/eye0.mp4\n",
      "/u/fklotzsche/ptmp_link/Experiments/vMemEcc/Data/SubjectData/VME_S15/EyeTracking/Block4/000  already exists!\n",
      "Loading  /u/fklotzsche/ptmp_link/Experiments/vMemEcc/Data/SubjectData/VME_S15/EyeTracking/Block4/000/eye0.mp4\n",
      "Duration of video [s]:  843.61 , recorded with  199.42 fps!\n",
      "Overall # of frames:  168236  found with (before cropping) frame dimensions:  192 192\n",
      "Starting to extract posture\n"
     ]
    },
    {
     "name": "stderr",
     "output_type": "stream",
     "text": [
      "169882it [10:09, 278.76it/s]\n"
     ]
    },
    {
     "name": "stdout",
     "output_type": "stream",
     "text": [
      "Saving results in /u/fklotzsche/ptmp_link/Experiments/vMemEcc/Data/SubjectData/VME_S15/EyeTracking/Block4/000...\n",
      "Saving csv poses!\n",
      "The videos are analyzed. Now your research can truly start! \n",
      " You can create labeled videos with 'create_labeled_video'\n",
      "If the tracking is not satisfactory for some videos, consider expanding the training set. You can use the function 'extract_outlier_frames' to extract a few representative outlier frames.\n",
      "['/u/fklotzsche/ptmp_link/Experiments/vMemEcc/Data/SubjectData/VME_S15/EyeTracking/Block7/000']\n",
      "Using snapshot-625000 for model /u/fklotzsche/ptmp_link/test_dir/dlc-models/iteration-0/eye0Nov23-trainset95shuffle1\n",
      "Initializing ResNet\n"
     ]
    },
    {
     "name": "stderr",
     "output_type": "stream",
     "text": [
      "  0%|          | 0/96326 [00:00<?, ?it/s]"
     ]
    },
    {
     "name": "stdout",
     "output_type": "stream",
     "text": [
      "Analyzing all the videos in the directory...\n",
      "Starting to analyze %  /u/fklotzsche/ptmp_link/Experiments/vMemEcc/Data/SubjectData/VME_S15/EyeTracking/Block7/000/eye0.mp4\n",
      "/u/fklotzsche/ptmp_link/Experiments/vMemEcc/Data/SubjectData/VME_S15/EyeTracking/Block7/000  already exists!\n",
      "Loading  /u/fklotzsche/ptmp_link/Experiments/vMemEcc/Data/SubjectData/VME_S15/EyeTracking/Block7/000/eye0.mp4\n",
      "Duration of video [s]:  483.05 , recorded with  199.41 fps!\n",
      "Overall # of frames:  96326  found with (before cropping) frame dimensions:  192 192\n",
      "Starting to extract posture\n"
     ]
    },
    {
     "name": "stderr",
     "output_type": "stream",
     "text": [
      "97263it [05:55, 273.61it/s]\n"
     ]
    },
    {
     "name": "stdout",
     "output_type": "stream",
     "text": [
      "Saving results in /u/fklotzsche/ptmp_link/Experiments/vMemEcc/Data/SubjectData/VME_S15/EyeTracking/Block7/000...\n",
      "Saving csv poses!\n",
      "The videos are analyzed. Now your research can truly start! \n",
      " You can create labeled videos with 'create_labeled_video'\n",
      "If the tracking is not satisfactory for some videos, consider expanding the training set. You can use the function 'extract_outlier_frames' to extract a few representative outlier frames.\n",
      "['/u/fklotzsche/ptmp_link/Experiments/vMemEcc/Data/SubjectData/VME_S16/EyeTracking/Block11/000']\n",
      "Using snapshot-625000 for model /u/fklotzsche/ptmp_link/test_dir/dlc-models/iteration-0/eye0Nov23-trainset95shuffle1\n",
      "Initializing ResNet\n"
     ]
    },
    {
     "name": "stderr",
     "output_type": "stream",
     "text": [
      "  0%|          | 0/96274 [00:00<?, ?it/s]"
     ]
    },
    {
     "name": "stdout",
     "output_type": "stream",
     "text": [
      "Analyzing all the videos in the directory...\n",
      "Starting to analyze %  /u/fklotzsche/ptmp_link/Experiments/vMemEcc/Data/SubjectData/VME_S16/EyeTracking/Block11/000/eye0.mp4\n",
      "/u/fklotzsche/ptmp_link/Experiments/vMemEcc/Data/SubjectData/VME_S16/EyeTracking/Block11/000  already exists!\n",
      "Loading  /u/fklotzsche/ptmp_link/Experiments/vMemEcc/Data/SubjectData/VME_S16/EyeTracking/Block11/000/eye0.mp4\n",
      "Duration of video [s]:  482.64 , recorded with  199.48 fps!\n",
      "Overall # of frames:  96274  found with (before cropping) frame dimensions:  192 192\n",
      "Starting to extract posture\n"
     ]
    },
    {
     "name": "stderr",
     "output_type": "stream",
     "text": [
      "97162it [05:51, 276.22it/s]\n"
     ]
    },
    {
     "name": "stdout",
     "output_type": "stream",
     "text": [
      "Saving results in /u/fklotzsche/ptmp_link/Experiments/vMemEcc/Data/SubjectData/VME_S16/EyeTracking/Block11/000...\n",
      "Saving csv poses!\n",
      "The videos are analyzed. Now your research can truly start! \n",
      " You can create labeled videos with 'create_labeled_video'\n",
      "If the tracking is not satisfactory for some videos, consider expanding the training set. You can use the function 'extract_outlier_frames' to extract a few representative outlier frames.\n",
      "['/u/fklotzsche/ptmp_link/Experiments/vMemEcc/Data/SubjectData/VME_S16/EyeTracking/Block13/000']\n",
      "Using snapshot-625000 for model /u/fklotzsche/ptmp_link/test_dir/dlc-models/iteration-0/eye0Nov23-trainset95shuffle1\n",
      "Initializing ResNet\n"
     ]
    },
    {
     "name": "stderr",
     "output_type": "stream",
     "text": [
      "  0%|          | 0/92763 [00:00<?, ?it/s]"
     ]
    },
    {
     "name": "stdout",
     "output_type": "stream",
     "text": [
      "Analyzing all the videos in the directory...\n",
      "Starting to analyze %  /u/fklotzsche/ptmp_link/Experiments/vMemEcc/Data/SubjectData/VME_S16/EyeTracking/Block13/000/eye0.mp4\n",
      "/u/fklotzsche/ptmp_link/Experiments/vMemEcc/Data/SubjectData/VME_S16/EyeTracking/Block13/000  already exists!\n",
      "Loading  /u/fklotzsche/ptmp_link/Experiments/vMemEcc/Data/SubjectData/VME_S16/EyeTracking/Block13/000/eye0.mp4\n",
      "Duration of video [s]:  464.84 , recorded with  199.56 fps!\n",
      "Overall # of frames:  92763  found with (before cropping) frame dimensions:  192 192\n",
      "Starting to extract posture\n"
     ]
    },
    {
     "name": "stderr",
     "output_type": "stream",
     "text": [
      "93627it [05:37, 277.55it/s]\n"
     ]
    },
    {
     "name": "stdout",
     "output_type": "stream",
     "text": [
      "Saving results in /u/fklotzsche/ptmp_link/Experiments/vMemEcc/Data/SubjectData/VME_S16/EyeTracking/Block13/000...\n",
      "Saving csv poses!\n",
      "The videos are analyzed. Now your research can truly start! \n",
      " You can create labeled videos with 'create_labeled_video'\n",
      "If the tracking is not satisfactory for some videos, consider expanding the training set. You can use the function 'extract_outlier_frames' to extract a few representative outlier frames.\n",
      "['/u/fklotzsche/ptmp_link/Experiments/vMemEcc/Data/SubjectData/VME_S16/EyeTracking/Block9/000']\n",
      "Using snapshot-625000 for model /u/fklotzsche/ptmp_link/test_dir/dlc-models/iteration-0/eye0Nov23-trainset95shuffle1\n",
      "Initializing ResNet\n"
     ]
    },
    {
     "name": "stderr",
     "output_type": "stream",
     "text": [
      "  0%|          | 0/99894 [00:00<?, ?it/s]"
     ]
    },
    {
     "name": "stdout",
     "output_type": "stream",
     "text": [
      "Analyzing all the videos in the directory...\n",
      "Starting to analyze %  /u/fklotzsche/ptmp_link/Experiments/vMemEcc/Data/SubjectData/VME_S16/EyeTracking/Block9/000/eye0.mp4\n",
      "/u/fklotzsche/ptmp_link/Experiments/vMemEcc/Data/SubjectData/VME_S16/EyeTracking/Block9/000  already exists!\n",
      "Loading  /u/fklotzsche/ptmp_link/Experiments/vMemEcc/Data/SubjectData/VME_S16/EyeTracking/Block9/000/eye0.mp4\n",
      "Duration of video [s]:  500.58 , recorded with  199.56 fps!\n",
      "Overall # of frames:  99894  found with (before cropping) frame dimensions:  192 192\n",
      "Starting to extract posture\n"
     ]
    },
    {
     "name": "stderr",
     "output_type": "stream",
     "text": [
      "100798it [06:03, 277.27it/s]\n"
     ]
    },
    {
     "name": "stdout",
     "output_type": "stream",
     "text": [
      "Saving results in /u/fklotzsche/ptmp_link/Experiments/vMemEcc/Data/SubjectData/VME_S16/EyeTracking/Block9/000...\n",
      "Saving csv poses!\n",
      "The videos are analyzed. Now your research can truly start! \n",
      " You can create labeled videos with 'create_labeled_video'\n",
      "If the tracking is not satisfactory for some videos, consider expanding the training set. You can use the function 'extract_outlier_frames' to extract a few representative outlier frames.\n",
      "['/u/fklotzsche/ptmp_link/Experiments/vMemEcc/Data/SubjectData/VME_S16/EyeTracking/Block5/000']\n",
      "Using snapshot-625000 for model /u/fklotzsche/ptmp_link/test_dir/dlc-models/iteration-0/eye0Nov23-trainset95shuffle1\n",
      "Initializing ResNet\n"
     ]
    },
    {
     "name": "stderr",
     "output_type": "stream",
     "text": [
      "  0%|          | 0/100729 [00:00<?, ?it/s]"
     ]
    },
    {
     "name": "stdout",
     "output_type": "stream",
     "text": [
      "Analyzing all the videos in the directory...\n",
      "Starting to analyze %  /u/fklotzsche/ptmp_link/Experiments/vMemEcc/Data/SubjectData/VME_S16/EyeTracking/Block5/000/eye0.mp4\n",
      "/u/fklotzsche/ptmp_link/Experiments/vMemEcc/Data/SubjectData/VME_S16/EyeTracking/Block5/000  already exists!\n",
      "Loading  /u/fklotzsche/ptmp_link/Experiments/vMemEcc/Data/SubjectData/VME_S16/EyeTracking/Block5/000/eye0.mp4\n",
      "Duration of video [s]:  504.86 , recorded with  199.52 fps!\n",
      "Overall # of frames:  100729  found with (before cropping) frame dimensions:  192 192\n",
      "Starting to extract posture\n"
     ]
    },
    {
     "name": "stderr",
     "output_type": "stream",
     "text": [
      "101707it [06:06, 277.24it/s]\n"
     ]
    },
    {
     "name": "stdout",
     "output_type": "stream",
     "text": [
      "Saving results in /u/fklotzsche/ptmp_link/Experiments/vMemEcc/Data/SubjectData/VME_S16/EyeTracking/Block5/000...\n",
      "Saving csv poses!\n",
      "The videos are analyzed. Now your research can truly start! \n",
      " You can create labeled videos with 'create_labeled_video'\n",
      "If the tracking is not satisfactory for some videos, consider expanding the training set. You can use the function 'extract_outlier_frames' to extract a few representative outlier frames.\n",
      "['/u/fklotzsche/ptmp_link/Experiments/vMemEcc/Data/SubjectData/VME_S16/EyeTracking/Block10/000']\n",
      "Using snapshot-625000 for model /u/fklotzsche/ptmp_link/test_dir/dlc-models/iteration-0/eye0Nov23-trainset95shuffle1\n",
      "Initializing ResNet\n"
     ]
    },
    {
     "name": "stderr",
     "output_type": "stream",
     "text": [
      "  0%|          | 0/103713 [00:00<?, ?it/s]"
     ]
    },
    {
     "name": "stdout",
     "output_type": "stream",
     "text": [
      "Analyzing all the videos in the directory...\n",
      "Starting to analyze %  /u/fklotzsche/ptmp_link/Experiments/vMemEcc/Data/SubjectData/VME_S16/EyeTracking/Block10/000/eye0.mp4\n",
      "/u/fklotzsche/ptmp_link/Experiments/vMemEcc/Data/SubjectData/VME_S16/EyeTracking/Block10/000  already exists!\n",
      "Loading  /u/fklotzsche/ptmp_link/Experiments/vMemEcc/Data/SubjectData/VME_S16/EyeTracking/Block10/000/eye0.mp4\n",
      "Duration of video [s]:  520.03 , recorded with  199.44 fps!\n",
      "Overall # of frames:  103713  found with (before cropping) frame dimensions:  192 192\n",
      "Starting to extract posture\n"
     ]
    },
    {
     "name": "stderr",
     "output_type": "stream",
     "text": [
      "104737it [06:18, 276.66it/s]\n"
     ]
    },
    {
     "name": "stdout",
     "output_type": "stream",
     "text": [
      "Saving results in /u/fklotzsche/ptmp_link/Experiments/vMemEcc/Data/SubjectData/VME_S16/EyeTracking/Block10/000...\n",
      "Saving csv poses!\n",
      "The videos are analyzed. Now your research can truly start! \n",
      " You can create labeled videos with 'create_labeled_video'\n",
      "If the tracking is not satisfactory for some videos, consider expanding the training set. You can use the function 'extract_outlier_frames' to extract a few representative outlier frames.\n",
      "['/u/fklotzsche/ptmp_link/Experiments/vMemEcc/Data/SubjectData/VME_S16/EyeTracking/Block12/000']\n",
      "Using snapshot-625000 for model /u/fklotzsche/ptmp_link/test_dir/dlc-models/iteration-0/eye0Nov23-trainset95shuffle1\n",
      "Initializing ResNet\n"
     ]
    },
    {
     "name": "stderr",
     "output_type": "stream",
     "text": [
      "  0%|          | 0/98101 [00:00<?, ?it/s]"
     ]
    },
    {
     "name": "stdout",
     "output_type": "stream",
     "text": [
      "Analyzing all the videos in the directory...\n",
      "Starting to analyze %  /u/fklotzsche/ptmp_link/Experiments/vMemEcc/Data/SubjectData/VME_S16/EyeTracking/Block12/000/eye0.mp4\n",
      "/u/fklotzsche/ptmp_link/Experiments/vMemEcc/Data/SubjectData/VME_S16/EyeTracking/Block12/000  already exists!\n",
      "Loading  /u/fklotzsche/ptmp_link/Experiments/vMemEcc/Data/SubjectData/VME_S16/EyeTracking/Block12/000/eye0.mp4\n",
      "Duration of video [s]:  491.72 , recorded with  199.5 fps!\n",
      "Overall # of frames:  98101  found with (before cropping) frame dimensions:  192 192\n",
      "Starting to extract posture\n"
     ]
    },
    {
     "name": "stderr",
     "output_type": "stream",
     "text": [
      "99081it [06:21, 259.78it/s]\n"
     ]
    },
    {
     "name": "stdout",
     "output_type": "stream",
     "text": [
      "Saving results in /u/fklotzsche/ptmp_link/Experiments/vMemEcc/Data/SubjectData/VME_S16/EyeTracking/Block12/000...\n",
      "Saving csv poses!\n",
      "The videos are analyzed. Now your research can truly start! \n",
      " You can create labeled videos with 'create_labeled_video'\n",
      "If the tracking is not satisfactory for some videos, consider expanding the training set. You can use the function 'extract_outlier_frames' to extract a few representative outlier frames.\n",
      "['/u/fklotzsche/ptmp_link/Experiments/vMemEcc/Data/SubjectData/VME_S16/EyeTracking/Block6/000']\n",
      "Using snapshot-625000 for model /u/fklotzsche/ptmp_link/test_dir/dlc-models/iteration-0/eye0Nov23-trainset95shuffle1\n",
      "Initializing ResNet\n",
      "Analyzing all the videos in the directory...\n",
      "Starting to analyze %  /u/fklotzsche/ptmp_link/Experiments/vMemEcc/Data/SubjectData/VME_S16/EyeTracking/Block6/000/eye0.mp4\n",
      "/u/fklotzsche/ptmp_link/Experiments/vMemEcc/Data/SubjectData/VME_S16/EyeTracking/Block6/000  already exists!\n",
      "Loading  /u/fklotzsche/ptmp_link/Experiments/vMemEcc/Data/SubjectData/VME_S16/EyeTracking/Block6/000/eye0.mp4\n",
      "The videos are analyzed. Now your research can truly start! \n",
      " You can create labeled videos with 'create_labeled_video'\n",
      "If the tracking is not satisfactory for some videos, consider expanding the training set. You can use the function 'extract_outlier_frames' to extract a few representative outlier frames.\n",
      "['/u/fklotzsche/ptmp_link/Experiments/vMemEcc/Data/SubjectData/VME_S16/EyeTracking/Block2/000']\n",
      "Using snapshot-625000 for model /u/fklotzsche/ptmp_link/test_dir/dlc-models/iteration-0/eye0Nov23-trainset95shuffle1\n",
      "Initializing ResNet\n",
      "Analyzing all the videos in the directory...\n",
      "Starting to analyze %  /u/fklotzsche/ptmp_link/Experiments/vMemEcc/Data/SubjectData/VME_S16/EyeTracking/Block2/000/eye0.mp4\n",
      "/u/fklotzsche/ptmp_link/Experiments/vMemEcc/Data/SubjectData/VME_S16/EyeTracking/Block2/000  already exists!\n",
      "Loading  /u/fklotzsche/ptmp_link/Experiments/vMemEcc/Data/SubjectData/VME_S16/EyeTracking/Block2/000/eye0.mp4\n"
     ]
    },
    {
     "name": "stderr",
     "output_type": "stream",
     "text": [
      "  0%|          | 0/74931 [00:00<?, ?it/s]"
     ]
    },
    {
     "name": "stdout",
     "output_type": "stream",
     "text": [
      "Duration of video [s]:  375.69 , recorded with  199.45 fps!\n",
      "Overall # of frames:  74931  found with (before cropping) frame dimensions:  192 192\n",
      "Starting to extract posture\n"
     ]
    },
    {
     "name": "stderr",
     "output_type": "stream",
     "text": [
      "75649it [04:41, 268.48it/s]\n"
     ]
    },
    {
     "name": "stdout",
     "output_type": "stream",
     "text": [
      "Saving results in /u/fklotzsche/ptmp_link/Experiments/vMemEcc/Data/SubjectData/VME_S16/EyeTracking/Block2/000...\n",
      "Saving csv poses!\n",
      "The videos are analyzed. Now your research can truly start! \n",
      " You can create labeled videos with 'create_labeled_video'\n",
      "If the tracking is not satisfactory for some videos, consider expanding the training set. You can use the function 'extract_outlier_frames' to extract a few representative outlier frames.\n",
      "['/u/fklotzsche/ptmp_link/Experiments/vMemEcc/Data/SubjectData/VME_S16/EyeTracking/Block8/000']\n",
      "Using snapshot-625000 for model /u/fklotzsche/ptmp_link/test_dir/dlc-models/iteration-0/eye0Nov23-trainset95shuffle1\n",
      "Initializing ResNet\n"
     ]
    },
    {
     "name": "stderr",
     "output_type": "stream",
     "text": [
      "  0%|          | 0/98101 [00:00<?, ?it/s]"
     ]
    },
    {
     "name": "stdout",
     "output_type": "stream",
     "text": [
      "Analyzing all the videos in the directory...\n",
      "Starting to analyze %  /u/fklotzsche/ptmp_link/Experiments/vMemEcc/Data/SubjectData/VME_S16/EyeTracking/Block8/000/eye0.mp4\n",
      "/u/fklotzsche/ptmp_link/Experiments/vMemEcc/Data/SubjectData/VME_S16/EyeTracking/Block8/000  already exists!\n",
      "Loading  /u/fklotzsche/ptmp_link/Experiments/vMemEcc/Data/SubjectData/VME_S16/EyeTracking/Block8/000/eye0.mp4\n",
      "Duration of video [s]:  491.67 , recorded with  199.53 fps!\n",
      "Overall # of frames:  98101  found with (before cropping) frame dimensions:  192 192\n",
      "Starting to extract posture\n"
     ]
    },
    {
     "name": "stderr",
     "output_type": "stream",
     "text": [
      "99081it [05:57, 277.00it/s]\n"
     ]
    },
    {
     "name": "stdout",
     "output_type": "stream",
     "text": [
      "Saving results in /u/fklotzsche/ptmp_link/Experiments/vMemEcc/Data/SubjectData/VME_S16/EyeTracking/Block8/000...\n",
      "Saving csv poses!\n",
      "The videos are analyzed. Now your research can truly start! \n",
      " You can create labeled videos with 'create_labeled_video'\n",
      "If the tracking is not satisfactory for some videos, consider expanding the training set. You can use the function 'extract_outlier_frames' to extract a few representative outlier frames.\n",
      "['/u/fklotzsche/ptmp_link/Experiments/vMemEcc/Data/SubjectData/VME_S16/EyeTracking/Block4/000']\n",
      "Using snapshot-625000 for model /u/fklotzsche/ptmp_link/test_dir/dlc-models/iteration-0/eye0Nov23-trainset95shuffle1\n",
      "Initializing ResNet\n"
     ]
    },
    {
     "name": "stderr",
     "output_type": "stream",
     "text": [
      "  0%|          | 0/99260 [00:00<?, ?it/s]"
     ]
    },
    {
     "name": "stdout",
     "output_type": "stream",
     "text": [
      "Analyzing all the videos in the directory...\n",
      "Starting to analyze %  /u/fklotzsche/ptmp_link/Experiments/vMemEcc/Data/SubjectData/VME_S16/EyeTracking/Block4/000/eye0.mp4\n",
      "/u/fklotzsche/ptmp_link/Experiments/vMemEcc/Data/SubjectData/VME_S16/EyeTracking/Block4/000  already exists!\n",
      "Loading  /u/fklotzsche/ptmp_link/Experiments/vMemEcc/Data/SubjectData/VME_S16/EyeTracking/Block4/000/eye0.mp4\n",
      "Duration of video [s]:  497.74 , recorded with  199.42 fps!\n",
      "Overall # of frames:  99260  found with (before cropping) frame dimensions:  192 192\n",
      "Starting to extract posture\n"
     ]
    },
    {
     "name": "stderr",
     "output_type": "stream",
     "text": [
      "100192it [06:01, 276.81it/s]\n"
     ]
    },
    {
     "name": "stdout",
     "output_type": "stream",
     "text": [
      "Saving results in /u/fklotzsche/ptmp_link/Experiments/vMemEcc/Data/SubjectData/VME_S16/EyeTracking/Block4/000...\n",
      "Saving csv poses!\n",
      "The videos are analyzed. Now your research can truly start! \n",
      " You can create labeled videos with 'create_labeled_video'\n",
      "If the tracking is not satisfactory for some videos, consider expanding the training set. You can use the function 'extract_outlier_frames' to extract a few representative outlier frames.\n",
      "['/u/fklotzsche/ptmp_link/Experiments/vMemEcc/Data/SubjectData/VME_S16/EyeTracking/Block7/000']\n",
      "Using snapshot-625000 for model /u/fklotzsche/ptmp_link/test_dir/dlc-models/iteration-0/eye0Nov23-trainset95shuffle1\n",
      "Initializing ResNet\n"
     ]
    },
    {
     "name": "stderr",
     "output_type": "stream",
     "text": [
      "  0%|          | 0/96908 [00:00<?, ?it/s]"
     ]
    },
    {
     "name": "stdout",
     "output_type": "stream",
     "text": [
      "Analyzing all the videos in the directory...\n",
      "Starting to analyze %  /u/fklotzsche/ptmp_link/Experiments/vMemEcc/Data/SubjectData/VME_S16/EyeTracking/Block7/000/eye0.mp4\n",
      "/u/fklotzsche/ptmp_link/Experiments/vMemEcc/Data/SubjectData/VME_S16/EyeTracking/Block7/000  already exists!\n",
      "Loading  /u/fklotzsche/ptmp_link/Experiments/vMemEcc/Data/SubjectData/VME_S16/EyeTracking/Block7/000/eye0.mp4\n",
      "Duration of video [s]:  485.67 , recorded with  199.53 fps!\n",
      "Overall # of frames:  96908  found with (before cropping) frame dimensions:  192 192\n",
      "Starting to extract posture\n"
     ]
    },
    {
     "name": "stderr",
     "output_type": "stream",
     "text": [
      "97869it [05:52, 277.27it/s]\n"
     ]
    },
    {
     "name": "stdout",
     "output_type": "stream",
     "text": [
      "Saving results in /u/fklotzsche/ptmp_link/Experiments/vMemEcc/Data/SubjectData/VME_S16/EyeTracking/Block7/000...\n",
      "Saving csv poses!\n",
      "The videos are analyzed. Now your research can truly start! \n",
      " You can create labeled videos with 'create_labeled_video'\n",
      "If the tracking is not satisfactory for some videos, consider expanding the training set. You can use the function 'extract_outlier_frames' to extract a few representative outlier frames.\n",
      "['/u/fklotzsche/ptmp_link/Experiments/vMemEcc/Data/SubjectData/VME_S17/EyeTracking/Block11/000']\n",
      "Using snapshot-625000 for model /u/fklotzsche/ptmp_link/test_dir/dlc-models/iteration-0/eye0Nov23-trainset95shuffle1\n",
      "Initializing ResNet\n"
     ]
    },
    {
     "name": "stderr",
     "output_type": "stream",
     "text": [
      "  0%|          | 0/95895 [00:00<?, ?it/s]"
     ]
    },
    {
     "name": "stdout",
     "output_type": "stream",
     "text": [
      "Analyzing all the videos in the directory...\n",
      "Starting to analyze %  /u/fklotzsche/ptmp_link/Experiments/vMemEcc/Data/SubjectData/VME_S17/EyeTracking/Block11/000/eye0.mp4\n",
      "/u/fklotzsche/ptmp_link/Experiments/vMemEcc/Data/SubjectData/VME_S17/EyeTracking/Block11/000  already exists!\n",
      "Loading  /u/fklotzsche/ptmp_link/Experiments/vMemEcc/Data/SubjectData/VME_S17/EyeTracking/Block11/000/eye0.mp4\n",
      "Duration of video [s]:  480.94 , recorded with  199.39 fps!\n",
      "Overall # of frames:  95895  found with (before cropping) frame dimensions:  192 192\n",
      "Starting to extract posture\n"
     ]
    },
    {
     "name": "stderr",
     "output_type": "stream",
     "text": [
      "96758it [05:52, 274.32it/s]\n"
     ]
    },
    {
     "name": "stdout",
     "output_type": "stream",
     "text": [
      "Saving results in /u/fklotzsche/ptmp_link/Experiments/vMemEcc/Data/SubjectData/VME_S17/EyeTracking/Block11/000...\n",
      "Saving csv poses!\n",
      "The videos are analyzed. Now your research can truly start! \n",
      " You can create labeled videos with 'create_labeled_video'\n",
      "If the tracking is not satisfactory for some videos, consider expanding the training set. You can use the function 'extract_outlier_frames' to extract a few representative outlier frames.\n",
      "['/u/fklotzsche/ptmp_link/Experiments/vMemEcc/Data/SubjectData/VME_S17/EyeTracking/Block13/000']\n",
      "Using snapshot-625000 for model /u/fklotzsche/ptmp_link/test_dir/dlc-models/iteration-0/eye0Nov23-trainset95shuffle1\n",
      "Initializing ResNet\n"
     ]
    },
    {
     "name": "stderr",
     "output_type": "stream",
     "text": [
      "  0%|          | 0/92737 [00:00<?, ?it/s]"
     ]
    },
    {
     "name": "stdout",
     "output_type": "stream",
     "text": [
      "Analyzing all the videos in the directory...\n",
      "Starting to analyze %  /u/fklotzsche/ptmp_link/Experiments/vMemEcc/Data/SubjectData/VME_S17/EyeTracking/Block13/000/eye0.mp4\n",
      "/u/fklotzsche/ptmp_link/Experiments/vMemEcc/Data/SubjectData/VME_S17/EyeTracking/Block13/000  already exists!\n",
      "Loading  /u/fklotzsche/ptmp_link/Experiments/vMemEcc/Data/SubjectData/VME_S17/EyeTracking/Block13/000/eye0.mp4\n",
      "Duration of video [s]:  464.97 , recorded with  199.45 fps!\n",
      "Overall # of frames:  92737  found with (before cropping) frame dimensions:  192 192\n",
      "Starting to extract posture\n"
     ]
    },
    {
     "name": "stderr",
     "output_type": "stream",
     "text": [
      "93627it [05:39, 275.73it/s]\n"
     ]
    },
    {
     "name": "stdout",
     "output_type": "stream",
     "text": [
      "Saving results in /u/fklotzsche/ptmp_link/Experiments/vMemEcc/Data/SubjectData/VME_S17/EyeTracking/Block13/000...\n",
      "Saving csv poses!\n",
      "The videos are analyzed. Now your research can truly start! \n",
      " You can create labeled videos with 'create_labeled_video'\n",
      "If the tracking is not satisfactory for some videos, consider expanding the training set. You can use the function 'extract_outlier_frames' to extract a few representative outlier frames.\n",
      "['/u/fklotzsche/ptmp_link/Experiments/vMemEcc/Data/SubjectData/VME_S17/EyeTracking/Block9/000']\n",
      "Using snapshot-625000 for model /u/fklotzsche/ptmp_link/test_dir/dlc-models/iteration-0/eye0Nov23-trainset95shuffle1\n",
      "Initializing ResNet\n"
     ]
    },
    {
     "name": "stderr",
     "output_type": "stream",
     "text": [
      "  0%|          | 0/120708 [00:00<?, ?it/s]"
     ]
    },
    {
     "name": "stdout",
     "output_type": "stream",
     "text": [
      "Analyzing all the videos in the directory...\n",
      "Starting to analyze %  /u/fklotzsche/ptmp_link/Experiments/vMemEcc/Data/SubjectData/VME_S17/EyeTracking/Block9/000/eye0.mp4\n",
      "/u/fklotzsche/ptmp_link/Experiments/vMemEcc/Data/SubjectData/VME_S17/EyeTracking/Block9/000  already exists!\n",
      "Loading  /u/fklotzsche/ptmp_link/Experiments/vMemEcc/Data/SubjectData/VME_S17/EyeTracking/Block9/000/eye0.mp4\n",
      "Duration of video [s]:  605.2 , recorded with  199.45 fps!\n",
      "Overall # of frames:  120708  found with (before cropping) frame dimensions:  192 192\n",
      "Starting to extract posture\n"
     ]
    },
    {
     "name": "stderr",
     "output_type": "stream",
     "text": [
      "121907it [07:23, 274.79it/s]\n"
     ]
    },
    {
     "name": "stdout",
     "output_type": "stream",
     "text": [
      "Saving results in /u/fklotzsche/ptmp_link/Experiments/vMemEcc/Data/SubjectData/VME_S17/EyeTracking/Block9/000...\n",
      "Saving csv poses!\n",
      "The videos are analyzed. Now your research can truly start! \n",
      " You can create labeled videos with 'create_labeled_video'\n",
      "If the tracking is not satisfactory for some videos, consider expanding the training set. You can use the function 'extract_outlier_frames' to extract a few representative outlier frames.\n",
      "['/u/fklotzsche/ptmp_link/Experiments/vMemEcc/Data/SubjectData/VME_S17/EyeTracking/Block5/000']\n",
      "Using snapshot-625000 for model /u/fklotzsche/ptmp_link/test_dir/dlc-models/iteration-0/eye0Nov23-trainset95shuffle1\n",
      "Initializing ResNet\n"
     ]
    },
    {
     "name": "stderr",
     "output_type": "stream",
     "text": [
      "  0%|          | 0/93716 [00:00<?, ?it/s]"
     ]
    },
    {
     "name": "stdout",
     "output_type": "stream",
     "text": [
      "Analyzing all the videos in the directory...\n",
      "Starting to analyze %  /u/fklotzsche/ptmp_link/Experiments/vMemEcc/Data/SubjectData/VME_S17/EyeTracking/Block5/000/eye0.mp4\n",
      "/u/fklotzsche/ptmp_link/Experiments/vMemEcc/Data/SubjectData/VME_S17/EyeTracking/Block5/000  already exists!\n",
      "Loading  /u/fklotzsche/ptmp_link/Experiments/vMemEcc/Data/SubjectData/VME_S17/EyeTracking/Block5/000/eye0.mp4\n",
      "Duration of video [s]:  469.91 , recorded with  199.43 fps!\n",
      "Overall # of frames:  93716  found with (before cropping) frame dimensions:  192 192\n",
      "Starting to extract posture\n"
     ]
    },
    {
     "name": "stderr",
     "output_type": "stream",
     "text": [
      "94637it [05:42, 275.97it/s]\n"
     ]
    },
    {
     "name": "stdout",
     "output_type": "stream",
     "text": [
      "Saving results in /u/fklotzsche/ptmp_link/Experiments/vMemEcc/Data/SubjectData/VME_S17/EyeTracking/Block5/000...\n",
      "Saving csv poses!\n",
      "The videos are analyzed. Now your research can truly start! \n",
      " You can create labeled videos with 'create_labeled_video'\n",
      "If the tracking is not satisfactory for some videos, consider expanding the training set. You can use the function 'extract_outlier_frames' to extract a few representative outlier frames.\n",
      "['/u/fklotzsche/ptmp_link/Experiments/vMemEcc/Data/SubjectData/VME_S17/EyeTracking/Block10/000']\n",
      "Using snapshot-625000 for model /u/fklotzsche/ptmp_link/test_dir/dlc-models/iteration-0/eye0Nov23-trainset95shuffle1\n",
      "Initializing ResNet\n"
     ]
    },
    {
     "name": "stderr",
     "output_type": "stream",
     "text": [
      "  0%|          | 0/93519 [00:00<?, ?it/s]"
     ]
    },
    {
     "name": "stdout",
     "output_type": "stream",
     "text": [
      "Analyzing all the videos in the directory...\n",
      "Starting to analyze %  /u/fklotzsche/ptmp_link/Experiments/vMemEcc/Data/SubjectData/VME_S17/EyeTracking/Block10/000/eye0.mp4\n",
      "/u/fklotzsche/ptmp_link/Experiments/vMemEcc/Data/SubjectData/VME_S17/EyeTracking/Block10/000  already exists!\n",
      "Loading  /u/fklotzsche/ptmp_link/Experiments/vMemEcc/Data/SubjectData/VME_S17/EyeTracking/Block10/000/eye0.mp4\n",
      "Duration of video [s]:  468.94 , recorded with  199.43 fps!\n",
      "Overall # of frames:  93519  found with (before cropping) frame dimensions:  192 192\n",
      "Starting to extract posture\n"
     ]
    },
    {
     "name": "stderr",
     "output_type": "stream",
     "text": [
      "94435it [05:42, 275.48it/s]\n"
     ]
    },
    {
     "name": "stdout",
     "output_type": "stream",
     "text": [
      "Saving results in /u/fklotzsche/ptmp_link/Experiments/vMemEcc/Data/SubjectData/VME_S17/EyeTracking/Block10/000...\n",
      "Saving csv poses!\n",
      "The videos are analyzed. Now your research can truly start! \n",
      " You can create labeled videos with 'create_labeled_video'\n",
      "If the tracking is not satisfactory for some videos, consider expanding the training set. You can use the function 'extract_outlier_frames' to extract a few representative outlier frames.\n",
      "['/u/fklotzsche/ptmp_link/Experiments/vMemEcc/Data/SubjectData/VME_S17/EyeTracking/Block12/000']\n",
      "Using snapshot-625000 for model /u/fklotzsche/ptmp_link/test_dir/dlc-models/iteration-0/eye0Nov23-trainset95shuffle1\n",
      "Initializing ResNet\n"
     ]
    },
    {
     "name": "stderr",
     "output_type": "stream",
     "text": [
      "  0%|          | 0/97699 [00:00<?, ?it/s]"
     ]
    },
    {
     "name": "stdout",
     "output_type": "stream",
     "text": [
      "Analyzing all the videos in the directory...\n",
      "Starting to analyze %  /u/fklotzsche/ptmp_link/Experiments/vMemEcc/Data/SubjectData/VME_S17/EyeTracking/Block12/000/eye0.mp4\n",
      "/u/fklotzsche/ptmp_link/Experiments/vMemEcc/Data/SubjectData/VME_S17/EyeTracking/Block12/000  already exists!\n",
      "Loading  /u/fklotzsche/ptmp_link/Experiments/vMemEcc/Data/SubjectData/VME_S17/EyeTracking/Block12/000/eye0.mp4\n",
      "Duration of video [s]:  489.74 , recorded with  199.49 fps!\n",
      "Overall # of frames:  97699  found with (before cropping) frame dimensions:  192 192\n",
      "Starting to extract posture\n"
     ]
    },
    {
     "name": "stderr",
     "output_type": "stream",
     "text": [
      "98576it [05:57, 275.61it/s]\n"
     ]
    },
    {
     "name": "stdout",
     "output_type": "stream",
     "text": [
      "Saving results in /u/fklotzsche/ptmp_link/Experiments/vMemEcc/Data/SubjectData/VME_S17/EyeTracking/Block12/000...\n",
      "Saving csv poses!\n",
      "The videos are analyzed. Now your research can truly start! \n",
      " You can create labeled videos with 'create_labeled_video'\n",
      "If the tracking is not satisfactory for some videos, consider expanding the training set. You can use the function 'extract_outlier_frames' to extract a few representative outlier frames.\n",
      "['/u/fklotzsche/ptmp_link/Experiments/vMemEcc/Data/SubjectData/VME_S17/EyeTracking/Block6/000']\n",
      "Using snapshot-625000 for model /u/fklotzsche/ptmp_link/test_dir/dlc-models/iteration-0/eye0Nov23-trainset95shuffle1\n",
      "Initializing ResNet\n"
     ]
    },
    {
     "name": "stderr",
     "output_type": "stream",
     "text": [
      "  0%|          | 0/96009 [00:00<?, ?it/s]"
     ]
    },
    {
     "name": "stdout",
     "output_type": "stream",
     "text": [
      "Analyzing all the videos in the directory...\n",
      "Starting to analyze %  /u/fklotzsche/ptmp_link/Experiments/vMemEcc/Data/SubjectData/VME_S17/EyeTracking/Block6/000/eye0.mp4\n",
      "/u/fklotzsche/ptmp_link/Experiments/vMemEcc/Data/SubjectData/VME_S17/EyeTracking/Block6/000  already exists!\n",
      "Loading  /u/fklotzsche/ptmp_link/Experiments/vMemEcc/Data/SubjectData/VME_S17/EyeTracking/Block6/000/eye0.mp4\n",
      "Duration of video [s]:  481.36 , recorded with  199.45 fps!\n",
      "Overall # of frames:  96009  found with (before cropping) frame dimensions:  192 192\n",
      "Starting to extract posture\n"
     ]
    },
    {
     "name": "stderr",
     "output_type": "stream",
     "text": [
      "96960it [05:50, 276.62it/s]\n"
     ]
    },
    {
     "name": "stdout",
     "output_type": "stream",
     "text": [
      "Saving results in /u/fklotzsche/ptmp_link/Experiments/vMemEcc/Data/SubjectData/VME_S17/EyeTracking/Block6/000...\n",
      "Saving csv poses!\n",
      "The videos are analyzed. Now your research can truly start! \n",
      " You can create labeled videos with 'create_labeled_video'\n",
      "If the tracking is not satisfactory for some videos, consider expanding the training set. You can use the function 'extract_outlier_frames' to extract a few representative outlier frames.\n",
      "['/u/fklotzsche/ptmp_link/Experiments/vMemEcc/Data/SubjectData/VME_S17/EyeTracking/Block2/000']\n",
      "Using snapshot-625000 for model /u/fklotzsche/ptmp_link/test_dir/dlc-models/iteration-0/eye0Nov23-trainset95shuffle1\n",
      "Initializing ResNet\n"
     ]
    },
    {
     "name": "stderr",
     "output_type": "stream",
     "text": [
      "  0%|          | 0/67277 [00:00<?, ?it/s]"
     ]
    },
    {
     "name": "stdout",
     "output_type": "stream",
     "text": [
      "Analyzing all the videos in the directory...\n",
      "Starting to analyze %  /u/fklotzsche/ptmp_link/Experiments/vMemEcc/Data/SubjectData/VME_S17/EyeTracking/Block2/000/eye0.mp4\n",
      "/u/fklotzsche/ptmp_link/Experiments/vMemEcc/Data/SubjectData/VME_S17/EyeTracking/Block2/000  already exists!\n",
      "Loading  /u/fklotzsche/ptmp_link/Experiments/vMemEcc/Data/SubjectData/VME_S17/EyeTracking/Block2/000/eye0.mp4\n",
      "Duration of video [s]:  338.15 , recorded with  198.95 fps!\n",
      "Overall # of frames:  67277  found with (before cropping) frame dimensions:  192 192\n",
      "Starting to extract posture\n"
     ]
    },
    {
     "name": "stderr",
     "output_type": "stream",
     "text": [
      "67872it [04:07, 274.54it/s]\n"
     ]
    },
    {
     "name": "stdout",
     "output_type": "stream",
     "text": [
      "Saving results in /u/fklotzsche/ptmp_link/Experiments/vMemEcc/Data/SubjectData/VME_S17/EyeTracking/Block2/000...\n",
      "Saving csv poses!\n",
      "The videos are analyzed. Now your research can truly start! \n",
      " You can create labeled videos with 'create_labeled_video'\n",
      "If the tracking is not satisfactory for some videos, consider expanding the training set. You can use the function 'extract_outlier_frames' to extract a few representative outlier frames.\n",
      "['/u/fklotzsche/ptmp_link/Experiments/vMemEcc/Data/SubjectData/VME_S17/EyeTracking/Block8/000']\n",
      "Using snapshot-625000 for model /u/fklotzsche/ptmp_link/test_dir/dlc-models/iteration-0/eye0Nov23-trainset95shuffle1\n",
      "Initializing ResNet\n"
     ]
    },
    {
     "name": "stderr",
     "output_type": "stream",
     "text": [
      "  0%|          | 0/96361 [00:00<?, ?it/s]"
     ]
    },
    {
     "name": "stdout",
     "output_type": "stream",
     "text": [
      "Analyzing all the videos in the directory...\n",
      "Starting to analyze %  /u/fklotzsche/ptmp_link/Experiments/vMemEcc/Data/SubjectData/VME_S17/EyeTracking/Block8/000/eye0.mp4\n",
      "/u/fklotzsche/ptmp_link/Experiments/vMemEcc/Data/SubjectData/VME_S17/EyeTracking/Block8/000  already exists!\n",
      "Loading  /u/fklotzsche/ptmp_link/Experiments/vMemEcc/Data/SubjectData/VME_S17/EyeTracking/Block8/000/eye0.mp4\n",
      "Duration of video [s]:  483.01 , recorded with  199.5 fps!\n",
      "Overall # of frames:  96361  found with (before cropping) frame dimensions:  192 192\n",
      "Starting to extract posture\n"
     ]
    },
    {
     "name": "stderr",
     "output_type": "stream",
     "text": [
      "97263it [05:54, 274.17it/s]\n"
     ]
    },
    {
     "name": "stdout",
     "output_type": "stream",
     "text": [
      "Saving results in /u/fklotzsche/ptmp_link/Experiments/vMemEcc/Data/SubjectData/VME_S17/EyeTracking/Block8/000...\n",
      "Saving csv poses!\n",
      "The videos are analyzed. Now your research can truly start! \n",
      " You can create labeled videos with 'create_labeled_video'\n",
      "If the tracking is not satisfactory for some videos, consider expanding the training set. You can use the function 'extract_outlier_frames' to extract a few representative outlier frames.\n",
      "['/u/fklotzsche/ptmp_link/Experiments/vMemEcc/Data/SubjectData/VME_S17/EyeTracking/Block4/000']\n",
      "Using snapshot-625000 for model /u/fklotzsche/ptmp_link/test_dir/dlc-models/iteration-0/eye0Nov23-trainset95shuffle1\n",
      "Initializing ResNet\n"
     ]
    },
    {
     "name": "stderr",
     "output_type": "stream",
     "text": [
      "  0%|          | 0/95011 [00:00<?, ?it/s]"
     ]
    },
    {
     "name": "stdout",
     "output_type": "stream",
     "text": [
      "Analyzing all the videos in the directory...\n",
      "Starting to analyze %  /u/fklotzsche/ptmp_link/Experiments/vMemEcc/Data/SubjectData/VME_S17/EyeTracking/Block4/000/eye0.mp4\n",
      "/u/fklotzsche/ptmp_link/Experiments/vMemEcc/Data/SubjectData/VME_S17/EyeTracking/Block4/000  already exists!\n",
      "Loading  /u/fklotzsche/ptmp_link/Experiments/vMemEcc/Data/SubjectData/VME_S17/EyeTracking/Block4/000/eye0.mp4\n",
      "Duration of video [s]:  476.49 , recorded with  199.4 fps!\n",
      "Overall # of frames:  95011  found with (before cropping) frame dimensions:  192 192\n",
      "Starting to extract posture\n"
     ]
    },
    {
     "name": "stderr",
     "output_type": "stream",
     "text": [
      "95950it [05:47, 276.27it/s]\n"
     ]
    },
    {
     "name": "stdout",
     "output_type": "stream",
     "text": [
      "Saving results in /u/fklotzsche/ptmp_link/Experiments/vMemEcc/Data/SubjectData/VME_S17/EyeTracking/Block4/000...\n",
      "Saving csv poses!\n",
      "The videos are analyzed. Now your research can truly start! \n",
      " You can create labeled videos with 'create_labeled_video'\n",
      "If the tracking is not satisfactory for some videos, consider expanding the training set. You can use the function 'extract_outlier_frames' to extract a few representative outlier frames.\n",
      "['/u/fklotzsche/ptmp_link/Experiments/vMemEcc/Data/SubjectData/VME_S17/EyeTracking/Block7/000']\n",
      "Using snapshot-625000 for model /u/fklotzsche/ptmp_link/test_dir/dlc-models/iteration-0/eye0Nov23-trainset95shuffle1\n",
      "Initializing ResNet\n"
     ]
    },
    {
     "name": "stderr",
     "output_type": "stream",
     "text": [
      "  0%|          | 0/95998 [00:00<?, ?it/s]"
     ]
    },
    {
     "name": "stdout",
     "output_type": "stream",
     "text": [
      "Analyzing all the videos in the directory...\n",
      "Starting to analyze %  /u/fklotzsche/ptmp_link/Experiments/vMemEcc/Data/SubjectData/VME_S17/EyeTracking/Block7/000/eye0.mp4\n",
      "/u/fklotzsche/ptmp_link/Experiments/vMemEcc/Data/SubjectData/VME_S17/EyeTracking/Block7/000  already exists!\n",
      "Loading  /u/fklotzsche/ptmp_link/Experiments/vMemEcc/Data/SubjectData/VME_S17/EyeTracking/Block7/000/eye0.mp4\n",
      "Duration of video [s]:  481.24 , recorded with  199.48 fps!\n",
      "Overall # of frames:  95998  found with (before cropping) frame dimensions:  192 192\n",
      "Starting to extract posture\n"
     ]
    },
    {
     "name": "stderr",
     "output_type": "stream",
     "text": [
      "96859it [05:51, 275.48it/s]\n"
     ]
    },
    {
     "name": "stdout",
     "output_type": "stream",
     "text": [
      "Saving results in /u/fklotzsche/ptmp_link/Experiments/vMemEcc/Data/SubjectData/VME_S17/EyeTracking/Block7/000...\n",
      "Saving csv poses!\n",
      "The videos are analyzed. Now your research can truly start! \n",
      " You can create labeled videos with 'create_labeled_video'\n",
      "If the tracking is not satisfactory for some videos, consider expanding the training set. You can use the function 'extract_outlier_frames' to extract a few representative outlier frames.\n"
     ]
    }
   ],
   "source": [
    "for subid in ['VME_S16']:\n",
    "    #subid = 'VME_S13' \n",
    "    path_sub = os.path.join(DataFolderName, subid, 'EyeTracking') \n",
    "    dirs_blocks = os.listdir(path_sub) \n",
    "    for dir in dirs_blocks:\n",
    "      if not 'Block6' in dir:\n",
    "        continue\n",
    "      vids_path = [os.path.join(path_sub, dir, '000')]\n",
    "      print(vids_path)\n",
    "      deeplabcut.analyze_videos(path_config_file,vids_path, videotype=VideoType, save_as_csv=True)"
   ]
  },
  {
   "cell_type": "code",
   "execution_count": 24,
   "metadata": {},
   "outputs": [
    {
     "data": {
      "text/plain": [
       "['DataMNE']"
      ]
     },
     "execution_count": 24,
     "metadata": {},
     "output_type": "execute_result"
    }
   ],
   "source": [
    "os.listdir('/u/fklotzsche/ptmp_link/Experiments/vMemEcc/Data/') "
   ]
  },
  {
   "cell_type": "markdown",
   "metadata": {
    "id": "8GTiuJESoEKH"
   },
   "source": [
    "## Plot Trajectories\n",
    "This function plots the trajectories of all the body parts across the entire video. Each body part is identified by a unique color."
   ]
  },
  {
   "cell_type": "code",
   "execution_count": null,
   "metadata": {
    "id": "DA6i00nnK11e"
   },
   "outputs": [],
   "source": [
    "# Updating the plotting within the config.yaml file:\n",
    "#this doesnt need to be done if they have been changed when creating the file\n",
    "#dotsize: size of the dots\n",
    "#pcutoff: likelihood threshold\n",
    "\n",
    "#config_path = path_config_file\n",
    "#edits = {'dotsize': 2,\n",
    "#          'pcutoff': 0.8}\n",
    "#deeplabcut.auxiliaryfunctions.edit_config(config_path, edits)"
   ]
  },
  {
   "cell_type": "code",
   "execution_count": null,
   "metadata": {
    "id": "-AswRB8kLZbJ"
   },
   "outputs": [],
   "source": [
    "#filter predictions:\n",
    "#deeplabcut.filterpredictions(config_path, videofile_path, videotype=VideoType)"
   ]
  },
  {
   "cell_type": "code",
   "execution_count": null,
   "metadata": {
    "id": "gX21zZbXoEKJ"
   },
   "outputs": [],
   "source": [
    "deeplabcut.plot_trajectories(path_config_file,videofile_path, videotype=VideoType, filtered=False)"
   ]
  },
  {
   "cell_type": "markdown",
   "metadata": {
    "id": "pCrUvQIvoEKD"
   },
   "source": [
    "## Create Labeled Video\n",
    "This creates a video in .mp4 format with labels predicted by the network. This video is saved in the same directory where the original video resides. "
   ]
  },
  {
   "cell_type": "code",
   "execution_count": null,
   "metadata": {
    "id": "6aDF7Q7KoEKE"
   },
   "outputs": [],
   "source": [
    "deeplabcut.create_labeled_video(path_config_file, videofile_path, videotype=VideoType, filtered=False, codec='jpeg')"
   ]
  },
  {
   "cell_type": "code",
   "execution_count": null,
   "metadata": {
    "id": "EA6EayclpvA6"
   },
   "outputs": [],
   "source": [
    "for dir in dirs_blocks[2:]:\n",
    "  vids_path = [os.path.join(path_sub, dir, '000')]\n",
    "  print(vids_path)\n",
    "  deeplabcut.create_labeled_video(path_config_file, vids_path, videotype=VideoType, filtered=False, codec='jpeg')"
   ]
  },
  {
   "cell_type": "markdown",
   "metadata": {
    "id": "zl9mF_cNHOvB"
   },
   "source": [
    "#Optional"
   ]
  },
  {
   "cell_type": "markdown",
   "metadata": {
    "id": "hOX6iziLHQnc"
   },
   "source": [
    "## Downsample Video\n",
    "\n",
    "The video should already be downsampled if you used kmeans as the clustering method, however you can use this to downsample if need be.\n",
    "\n",
    "Downsample the video by running the following line of code"
   ]
  },
  {
   "cell_type": "code",
   "execution_count": null,
   "metadata": {
    "id": "tUeFlJUCHkin"
   },
   "outputs": [],
   "source": [
    "deeplabcut.DownSampleVideo(videofile_path, width=-1, height=300, outsuffix='downsampled', outpath=None, rotateccw=False)"
   ]
  },
  {
   "cell_type": "markdown",
   "metadata": {
    "id": "pPwzox6vP7Z8"
   },
   "source": [
    "## Add New Videos"
   ]
  },
  {
   "cell_type": "code",
   "execution_count": null,
   "metadata": {
    "id": "J4hfX5vYQAr5"
   },
   "outputs": [],
   "source": [
    "#to add more videos\n",
    "deeplabcut.add_new_videos(config_path,[‘full path of video 4’, ‘full path of video 5’],copy_videos=True/False)"
   ]
  },
  {
   "cell_type": "markdown",
   "metadata": {
    "id": "ulZUXJjuLOqJ"
   },
   "source": [
    "## Anlayze Skeleton"
   ]
  },
  {
   "cell_type": "code",
   "execution_count": null,
   "metadata": {
    "id": "1Bze8l1M04gc"
   },
   "outputs": [],
   "source": [
    "deeplabcut.analyzeskeleton(path_config_file, videofile_path, videotype=VideoType, save_as_csv=True)"
   ]
  },
  {
   "cell_type": "code",
   "execution_count": null,
   "metadata": {
    "id": "wMHBtGhfoWAw"
   },
   "outputs": [],
   "source": []
  }
 ],
 "metadata": {
  "accelerator": "GPU",
  "colab": {
   "collapsed_sections": [
    "zl9mF_cNHOvB",
    "hOX6iziLHQnc",
    "pPwzox6vP7Z8",
    "ulZUXJjuLOqJ"
   ],
   "name": "Eye_Tracking_Analysis.ipynb",
   "private_outputs": true,
   "provenance": []
  },
  "kernelspec": {
   "display_name": "Python (DLC-GPU)",
   "language": "python",
   "name": "dlc-gpu"
  },
  "language_info": {
   "codemirror_mode": {
    "name": "ipython",
    "version": 3
   },
   "file_extension": ".py",
   "mimetype": "text/x-python",
   "name": "python",
   "nbconvert_exporter": "python",
   "pygments_lexer": "ipython3",
   "version": "3.7.9"
  }
 },
 "nbformat": 4,
 "nbformat_minor": 2
}
