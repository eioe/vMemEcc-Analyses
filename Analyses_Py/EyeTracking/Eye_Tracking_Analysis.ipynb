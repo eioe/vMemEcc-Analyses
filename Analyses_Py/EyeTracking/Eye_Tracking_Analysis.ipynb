{
  "nbformat": 4,
  "nbformat_minor": 0,
  "metadata": {
    "colab": {
      "name": "Eye_Tracking_Analysis.ipynb",
      "private_outputs": true,
      "provenance": [],
      "collapsed_sections": [
        "zl9mF_cNHOvB",
        "hOX6iziLHQnc",
        "pPwzox6vP7Z8",
        "ulZUXJjuLOqJ"
      ]
    },
    "kernelspec": {
      "name": "python3",
      "display_name": "Python 3"
    },
    "accelerator": "GPU"
  },
  "cells": [
    {
      "cell_type": "markdown",
      "metadata": {
        "id": "RK255E7YoEIt"
      },
      "source": [
        "# DeepLabCut for Pupil Tracking\n",
        "\n",
        "To save a copy of this file to your Drive:\n",
        "**[File > Save a copy in Drive]**\n",
        "\n",
        "To run this notebook, simply follow the instructions and and run the cells. You should already have a project folder with labeled data in your google drive."
      ]
    },
    {
      "cell_type": "markdown",
      "metadata": {
        "id": "txoddlM8hLKm"
      },
      "source": [
        "## Initial Set Up\n",
        "First, go to Runtime > Change Runtime Type > select \"GPU\"."
      ]
    },
    {
      "cell_type": "code",
      "metadata": {
        "id": "q23BzhA6CXxu"
      },
      "source": [
        "#Install deeplabcut\n",
        "!pip install deeplabcut"
      ],
      "execution_count": null,
      "outputs": []
    },
    {
      "cell_type": "markdown",
      "metadata": {
        "id": "25wSj6TlVclR"
      },
      "source": [
        "**Click \"RESTART RUNTIME\" before continuing!**"
      ]
    },
    {
      "cell_type": "code",
      "metadata": {
        "id": "sXufoX6INe6w"
      },
      "source": [
        "#Use TensorFlow 1.x:\n",
        "%tensorflow_version 1.x\n",
        "\n",
        "import os\n",
        "os.environ[\"DLClight\"]=\"True\"   #This will surpress the GUI as it won't work on the cloud\n",
        "\n",
        "#import deeplabcut\n",
        "import deeplabcut"
      ],
      "execution_count": null,
      "outputs": []
    },
    {
      "cell_type": "markdown",
      "metadata": {
        "id": "cQ-nlTkri4HZ"
      },
      "source": [
        "## Link to Google Drive:\n",
        "\n",
        "Ensure the project folder is in your google drive.\n",
        "\n",
        "**Open the config.yaml file in the folder in your google drive, and update the project path to be set to the google drive path.**\n",
        "\n",
        "Typically, this will look like: /content/drive/My Drive/yourProjectFolderName"
      ]
    },
    {
      "cell_type": "code",
      "metadata": {
        "id": "KS4Q4UkR9rgG"
      },
      "source": [
        "#Run this cell and follow the authorization instructions:\n",
        "\n",
        "from google.colab import drive\n",
        "drive.mount('/content/drive')"
      ],
      "execution_count": null,
      "outputs": []
    },
    {
      "cell_type": "markdown",
      "metadata": {
        "id": "Frnj1RVDyEqs"
      },
      "source": [
        "##Edit Project Variables"
      ]
    },
    {
      "cell_type": "code",
      "metadata": {
        "id": "vhENAlQnFENJ"
      },
      "source": [
        "#Setup project variables:\n",
        "\n",
        "#EDIT THESE ACCORDING TO YOUR PROJECT DETAILS:\n",
        "ProjectFolderName = 'eye0-genmod-2020-11-23'\n",
        "VideoType = '.mp4' \n",
        "\n",
        "#Don't edit the video path\n",
        "#If you want to work with just a specific video, you can add the name to the \n",
        "#end of the path, otherwise the current path will allow all videos in the \n",
        "#folder to be analyzed\n",
        "videofile_path = ['/content/drive/My Drive/'+ProjectFolderName+'/videos/'] \n",
        "videofile_path\n",
        "\n",
        "#This creates a path variable that links to your google drive copy\n",
        "#Do not edit this\n",
        "path_config_file = '/content/drive/My Drive/'+ProjectFolderName+'/config.yaml'\n",
        "path_config_file"
      ],
      "execution_count": null,
      "outputs": []
    },
    {
      "cell_type": "markdown",
      "metadata": {
        "id": "xNi9s1dboEJN"
      },
      "source": [
        "## Create a Training Data Set\n",
        "\n",
        "Once this code cell is run, the training dataset is created and saved in the project directory under the subdirectory **'training-datasets'**\n",
        "\n",
        "This function also creates new subdirectories under **dlc-models** and appends the project config.yaml file with the correct path to the training and testing pose configuration file. These files hold the parameters for training the network e.g. **pose_cfg.yaml**.\n"
      ]
    },
    {
      "cell_type": "code",
      "metadata": {
        "scrolled": true,
        "id": "eMeUwgxPoEJP"
      },
      "source": [
        "deeplabcut.create_training_dataset(path_config_file, net_type='resnet_50', augmenter_type='imgaug')"
      ],
      "execution_count": null,
      "outputs": []
    },
    {
      "cell_type": "markdown",
      "metadata": {
        "id": "c4FczXGDoEJU"
      },
      "source": [
        "## Train Network\n",
        "This function trains the network for a specific shuffle of the training dataset. "
      ]
    },
    {
      "cell_type": "code",
      "metadata": {
        "id": "_pOvDq_2oEJW"
      },
      "source": [
        "deeplabcut.train_network(path_config_file, shuffle=1, displayiters=1000,saveiters=25000)\n",
        "\n",
        "#this will run until you stop it (CTRL+C), or hit \"STOP\" icon, or when it hits the end (default, 1.03M iterations). \n",
        "#either of the two will return what looks like an error message, but that is expected and you can continue on to Evaluate the Network...."
      ],
      "execution_count": null,
      "outputs": []
    },
    {
      "cell_type": "markdown",
      "metadata": {
        "id": "RiDwIVf5-3H_"
      },
      "source": [
        "**When you hit \"STOP\" you will get a KeyInterrupt \"error\" - that is fine.**"
      ]
    },
    {
      "cell_type": "markdown",
      "metadata": {
        "id": "xZygsb2DoEJc"
      },
      "source": [
        "## Evaluate Network\n",
        "This funtion evaluates a trained model for a specific shuffle/shuffles at a particular state or all the states on the data set (images)\n",
        "and stores the results as .csv file in a subdirectory under **evaluation-results**"
      ]
    },
    {
      "cell_type": "code",
      "metadata": {
        "id": "nv4zlbrnoEJg"
      },
      "source": [
        "%matplotlib notebook\n",
        "deeplabcut.evaluate_network(path_config_file, plotting=True)"
      ],
      "execution_count": null,
      "outputs": []
    },
    {
      "cell_type": "markdown",
      "metadata": {
        "id": "OVFLSKKfoEJk"
      },
      "source": [
        "## Analyzing Videos\n",
        "This function analyzes the videos.\n",
        "\n",
        "The results are stored in a csv file in the same directory where the video is. "
      ]
    },
    {
      "cell_type": "code",
      "metadata": {
        "id": "Y_LZiS_0oEJl"
      },
      "source": [
        "deeplabcut.analyze_videos(path_config_file,videofile_path, videotype=VideoType, save_as_csv=True)"
      ],
      "execution_count": null,
      "outputs": []
    },
    {
      "cell_type": "markdown",
      "metadata": {
        "id": "ameFzjhZsuaJ"
      },
      "source": [
        "Use the following instead to run on data from single subjects in the \"original\" vMemEcc folder structure:\n"
      ]
    },
    {
      "cell_type": "code",
      "metadata": {
        "id": "GOSCB3QOpaJq"
      },
      "source": [
        "subid = 'VME_S03' \n",
        "path_sub = os.path.join(videofile_path[0], subid, 'EyeTracking') \n",
        "dirs_blocks = os.listdir(path_sub) \n",
        "for dir in dirs_blocks[2:]:\n",
        "  vids_path = [os.path.join(path_sub, dir, '000')]\n",
        "  print(vids_path)\n",
        "  deeplabcut.analyze_videos(path_config_file,vids_path, videotype=VideoType, save_as_csv=True)"
      ],
      "execution_count": null,
      "outputs": []
    },
    {
      "cell_type": "markdown",
      "metadata": {
        "id": "8GTiuJESoEKH"
      },
      "source": [
        "## Plot Trajectories\n",
        "This function plots the trajectories of all the body parts across the entire video. Each body part is identified by a unique color."
      ]
    },
    {
      "cell_type": "code",
      "metadata": {
        "id": "DA6i00nnK11e"
      },
      "source": [
        "# Updating the plotting within the config.yaml file:\n",
        "#this doesnt need to be done if they have been changed when creating the file\n",
        "#dotsize: size of the dots\n",
        "#pcutoff: likelihood threshold\n",
        "\n",
        "#config_path = path_config_file\n",
        "#edits = {'dotsize': 2,\n",
        "#          'pcutoff': 0.8}\n",
        "#deeplabcut.auxiliaryfunctions.edit_config(config_path, edits)"
      ],
      "execution_count": null,
      "outputs": []
    },
    {
      "cell_type": "code",
      "metadata": {
        "id": "-AswRB8kLZbJ"
      },
      "source": [
        "#filter predictions:\n",
        "#deeplabcut.filterpredictions(config_path, videofile_path, videotype=VideoType)"
      ],
      "execution_count": null,
      "outputs": []
    },
    {
      "cell_type": "code",
      "metadata": {
        "id": "gX21zZbXoEKJ"
      },
      "source": [
        "deeplabcut.plot_trajectories(path_config_file,videofile_path, videotype=VideoType, filtered=False)"
      ],
      "execution_count": null,
      "outputs": []
    },
    {
      "cell_type": "markdown",
      "metadata": {
        "id": "pCrUvQIvoEKD"
      },
      "source": [
        "## Create Labeled Video\n",
        "This creates a video in .mp4 format with labels predicted by the network. This video is saved in the same directory where the original video resides. "
      ]
    },
    {
      "cell_type": "code",
      "metadata": {
        "id": "6aDF7Q7KoEKE"
      },
      "source": [
        "deeplabcut.create_labeled_video(path_config_file, videofile_path, videotype=VideoType, filtered=False, codec='jpeg')"
      ],
      "execution_count": null,
      "outputs": []
    },
    {
      "cell_type": "code",
      "metadata": {
        "id": "EA6EayclpvA6"
      },
      "source": [
        "for dir in dirs_blocks[2:]:\n",
        "  vids_path = [os.path.join(path_sub, dir, '000')]\n",
        "  print(vids_path)\n",
        "  deeplabcut.create_labeled_video(path_config_file, vids_path, videotype=VideoType, filtered=False, codec='jpeg')"
      ],
      "execution_count": null,
      "outputs": []
    },
    {
      "cell_type": "markdown",
      "metadata": {
        "id": "zl9mF_cNHOvB"
      },
      "source": [
        "#Optional"
      ]
    },
    {
      "cell_type": "markdown",
      "metadata": {
        "id": "hOX6iziLHQnc"
      },
      "source": [
        "## Downsample Video\n",
        "\n",
        "The video should already be downsampled if you used kmeans as the clustering method, however you can use this to downsample if need be.\n",
        "\n",
        "Downsample the video by running the following line of code"
      ]
    },
    {
      "cell_type": "code",
      "metadata": {
        "id": "tUeFlJUCHkin"
      },
      "source": [
        "deeplabcut.DownSampleVideo(videofile_path, width=-1, height=300, outsuffix='downsampled', outpath=None, rotateccw=False)"
      ],
      "execution_count": null,
      "outputs": []
    },
    {
      "cell_type": "markdown",
      "metadata": {
        "id": "pPwzox6vP7Z8"
      },
      "source": [
        "## Add New Videos"
      ]
    },
    {
      "cell_type": "code",
      "metadata": {
        "id": "J4hfX5vYQAr5"
      },
      "source": [
        "#to add more videos\n",
        "deeplabcut.add_new_videos(config_path,[‘full path of video 4’, ‘full path of video 5’],copy_videos=True/False)"
      ],
      "execution_count": null,
      "outputs": []
    },
    {
      "cell_type": "markdown",
      "metadata": {
        "id": "ulZUXJjuLOqJ"
      },
      "source": [
        "## Anlayze Skeleton"
      ]
    },
    {
      "cell_type": "code",
      "metadata": {
        "id": "1Bze8l1M04gc"
      },
      "source": [
        "deeplabcut.analyzeskeleton(path_config_file, videofile_path, videotype=VideoType, save_as_csv=True)"
      ],
      "execution_count": null,
      "outputs": []
    },
    {
      "cell_type": "code",
      "metadata": {
        "id": "wMHBtGhfoWAw"
      },
      "source": [
        ""
      ],
      "execution_count": null,
      "outputs": []
    }
  ]
}