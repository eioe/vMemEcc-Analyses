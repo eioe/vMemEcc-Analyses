{
 "cells": [
  {
   "cell_type": "markdown",
   "metadata": {
    "id": "RK255E7YoEIt"
   },
   "source": [
    "# DeepLabCut for Pupil Tracking\n",
    "\n",
    "To save a copy of this file to your Drive:\n",
    "**[File > Save a copy in Drive]**\n",
    "\n",
    "To run this notebook, simply follow the instructions and and run the cells. You should already have a project folder with labeled data in your google drive."
   ]
  },
  {
   "cell_type": "markdown",
   "metadata": {
    "id": "txoddlM8hLKm"
   },
   "source": [
    "## Initial Set Up\n",
    "First, go to Runtime > Change Runtime Type > select \"GPU\"."
   ]
  },
  {
   "cell_type": "code",
   "execution_count": null,
   "metadata": {
    "id": "q23BzhA6CXxu"
   },
   "outputs": [],
   "source": [
    "#Install deeplabcut\n",
    "!pip install deeplabcut"
   ]
  },
  {
   "cell_type": "code",
   "execution_count": 1,
   "metadata": {},
   "outputs": [],
   "source": [
    "!module load cuda/10.0\n",
    "!module load anaconda/3/2019.03\n",
    "!module load tensorflow/gpu/1.14.0"
   ]
  },
  {
   "cell_type": "markdown",
   "metadata": {
    "id": "25wSj6TlVclR"
   },
   "source": [
    "**Click \"RESTART RUNTIME\" before continuing!**"
   ]
  },
  {
   "cell_type": "code",
   "execution_count": 1,
   "metadata": {
    "id": "sXufoX6INe6w"
   },
   "outputs": [
    {
     "name": "stderr",
     "output_type": "stream",
     "text": [
      "/u/fklotzsche/conda-envs/DLC-GPU/lib/python3.7/site-packages/tensorflow/python/framework/dtypes.py:526: FutureWarning: Passing (type, 1) or '1type' as a synonym of type is deprecated; in a future version of numpy, it will be understood as (type, (1,)) / '(1,)type'.\n",
      "  _np_qint8 = np.dtype([(\"qint8\", np.int8, 1)])\n",
      "/u/fklotzsche/conda-envs/DLC-GPU/lib/python3.7/site-packages/tensorflow/python/framework/dtypes.py:527: FutureWarning: Passing (type, 1) or '1type' as a synonym of type is deprecated; in a future version of numpy, it will be understood as (type, (1,)) / '(1,)type'.\n",
      "  _np_quint8 = np.dtype([(\"quint8\", np.uint8, 1)])\n",
      "/u/fklotzsche/conda-envs/DLC-GPU/lib/python3.7/site-packages/tensorflow/python/framework/dtypes.py:528: FutureWarning: Passing (type, 1) or '1type' as a synonym of type is deprecated; in a future version of numpy, it will be understood as (type, (1,)) / '(1,)type'.\n",
      "  _np_qint16 = np.dtype([(\"qint16\", np.int16, 1)])\n",
      "/u/fklotzsche/conda-envs/DLC-GPU/lib/python3.7/site-packages/tensorflow/python/framework/dtypes.py:529: FutureWarning: Passing (type, 1) or '1type' as a synonym of type is deprecated; in a future version of numpy, it will be understood as (type, (1,)) / '(1,)type'.\n",
      "  _np_quint16 = np.dtype([(\"quint16\", np.uint16, 1)])\n",
      "/u/fklotzsche/conda-envs/DLC-GPU/lib/python3.7/site-packages/tensorflow/python/framework/dtypes.py:530: FutureWarning: Passing (type, 1) or '1type' as a synonym of type is deprecated; in a future version of numpy, it will be understood as (type, (1,)) / '(1,)type'.\n",
      "  _np_qint32 = np.dtype([(\"qint32\", np.int32, 1)])\n",
      "/u/fklotzsche/conda-envs/DLC-GPU/lib/python3.7/site-packages/tensorflow/python/framework/dtypes.py:535: FutureWarning: Passing (type, 1) or '1type' as a synonym of type is deprecated; in a future version of numpy, it will be understood as (type, (1,)) / '(1,)type'.\n",
      "  np_resource = np.dtype([(\"resource\", np.ubyte, 1)])\n"
     ]
    }
   ],
   "source": [
    "#Use TensorFlow 1.x (this only works on COLAB):\n",
    "#  %tensorflow_version 1.x\n",
    "\n",
    "import os\n",
    "os.environ[\"DLClight\"]=\"True\"   #This will surpress the GUI as it won't work on the cloud\n",
    "\n",
    "#import deeplabcut\n",
    "import deeplabcut"
   ]
  },
  {
   "cell_type": "code",
   "execution_count": 6,
   "metadata": {},
   "outputs": [
    {
     "data": {
      "text/plain": [
       "True"
      ]
     },
     "execution_count": 6,
     "metadata": {},
     "output_type": "execute_result"
    }
   ],
   "source": []
  },
  {
   "cell_type": "markdown",
   "metadata": {
    "id": "cQ-nlTkri4HZ"
   },
   "source": [
    "## Link to Google Drive:\n",
    "\n",
    "Ensure the project folder is in your google drive.\n",
    "\n",
    "**Open the config.yaml file in the folder in your google drive, and update the project path to be set to the google drive path.**\n",
    "\n",
    "Typically, this will look like: /content/drive/My Drive/yourProjectFolderName"
   ]
  },
  {
   "cell_type": "code",
   "execution_count": 7,
   "metadata": {
    "id": "KS4Q4UkR9rgG"
   },
   "outputs": [
    {
     "ename": "ModuleNotFoundError",
     "evalue": "No module named 'google.colab'",
     "output_type": "error",
     "traceback": [
      "\u001b[0;31m---------------------------------------------------------------------------\u001b[0m",
      "\u001b[0;31mModuleNotFoundError\u001b[0m                       Traceback (most recent call last)",
      "\u001b[0;32m<ipython-input-7-746ba8d44796>\u001b[0m in \u001b[0;36m<module>\u001b[0;34m\u001b[0m\n\u001b[1;32m      1\u001b[0m \u001b[0;31m#Run this cell and follow the authorization instructions:\u001b[0m\u001b[0;34m\u001b[0m\u001b[0;34m\u001b[0m\u001b[0;34m\u001b[0m\u001b[0m\n\u001b[1;32m      2\u001b[0m \u001b[0;34m\u001b[0m\u001b[0m\n\u001b[0;32m----> 3\u001b[0;31m \u001b[0;32mfrom\u001b[0m \u001b[0mgoogle\u001b[0m\u001b[0;34m.\u001b[0m\u001b[0mcolab\u001b[0m \u001b[0;32mimport\u001b[0m \u001b[0mdrive\u001b[0m\u001b[0;34m\u001b[0m\u001b[0;34m\u001b[0m\u001b[0m\n\u001b[0m\u001b[1;32m      4\u001b[0m \u001b[0mdrive\u001b[0m\u001b[0;34m.\u001b[0m\u001b[0mmount\u001b[0m\u001b[0;34m(\u001b[0m\u001b[0;34m'/content/drive'\u001b[0m\u001b[0;34m)\u001b[0m\u001b[0;34m\u001b[0m\u001b[0;34m\u001b[0m\u001b[0m\n",
      "\u001b[0;31mModuleNotFoundError\u001b[0m: No module named 'google.colab'"
     ]
    }
   ],
   "source": [
    "#Run this cell and follow the authorization instructions:\n",
    "\n",
    "# from google.colab import drive\n",
    "# drive.mount('/content/drive')"
   ]
  },
  {
   "cell_type": "code",
   "execution_count": 16,
   "metadata": {},
   "outputs": [
    {
     "data": {
      "text/plain": [
       "['Untitled.ipynb',\n",
       " 'dlc-models',\n",
       " 'config.yaml',\n",
       " 'videos',\n",
       " 'evaluation-results',\n",
       " '.ipynb_checkpoints',\n",
       " 'labeled-data',\n",
       " 'training-datasets']"
      ]
     },
     "execution_count": 16,
     "metadata": {},
     "output_type": "execute_result"
    }
   ],
   "source": [
    "os.listdir('/u/fklotzsche/ptmp_link/test_dir')"
   ]
  },
  {
   "cell_type": "markdown",
   "metadata": {
    "id": "Frnj1RVDyEqs"
   },
   "source": [
    "##Edit Project Variables"
   ]
  },
  {
   "cell_type": "code",
   "execution_count": 2,
   "metadata": {
    "id": "vhENAlQnFENJ"
   },
   "outputs": [
    {
     "data": {
      "text/plain": [
       "'/u/fklotzsche/ptmp_link/test_dir/config.yaml'"
      ]
     },
     "execution_count": 2,
     "metadata": {},
     "output_type": "execute_result"
    }
   ],
   "source": [
    "#Setup project variables:\n",
    "\n",
    "#EDIT THESE ACCORDING TO YOUR PROJECT DETAILS:\n",
    "ProjectFolderName = '/u/fklotzsche/ptmp_link/test_dir'\n",
    "DataFolderName = '/u/fklotzsche/ptmp_link/Experiments/vMemEcc/Data/SubjectData'\n",
    "VideoType = '.mp4' \n",
    "\n",
    "#Don't edit the video path\n",
    "#If you want to work with just a specific video, you can add the name to the \n",
    "#end of the path, otherwise the current path will allow all videos in the \n",
    "#folder to be analyzed\n",
    "videofile_path = ['/content/drive/My Drive/'+ProjectFolderName+'/videos/'] \n",
    "videofile_path\n",
    "\n",
    "#This creates a path variable that links to your google drive copy\n",
    "#Do not edit this\n",
    "path_config_file = ProjectFolderName+'/config.yaml'\n",
    "path_config_file"
   ]
  },
  {
   "cell_type": "markdown",
   "metadata": {
    "id": "xNi9s1dboEJN"
   },
   "source": [
    "## Create a Training Data Set\n",
    "\n",
    "Once this code cell is run, the training dataset is created and saved in the project directory under the subdirectory **'training-datasets'**\n",
    "\n",
    "This function also creates new subdirectories under **dlc-models** and appends the project config.yaml file with the correct path to the training and testing pose configuration file. These files hold the parameters for training the network e.g. **pose_cfg.yaml**.\n"
   ]
  },
  {
   "cell_type": "code",
   "execution_count": null,
   "metadata": {
    "id": "eMeUwgxPoEJP",
    "scrolled": true
   },
   "outputs": [],
   "source": [
    "deeplabcut.create_training_dataset(path_config_file, net_type='resnet_50', augmenter_type='imgaug')"
   ]
  },
  {
   "cell_type": "markdown",
   "metadata": {
    "id": "c4FczXGDoEJU"
   },
   "source": [
    "## Train Network\n",
    "This function trains the network for a specific shuffle of the training dataset. "
   ]
  },
  {
   "cell_type": "code",
   "execution_count": null,
   "metadata": {
    "id": "_pOvDq_2oEJW"
   },
   "outputs": [],
   "source": [
    "deeplabcut.train_network(path_config_file, shuffle=1, displayiters=1000,saveiters=25000)\n",
    "\n",
    "#this will run until you stop it (CTRL+C), or hit \"STOP\" icon, or when it hits the end (default, 1.03M iterations). \n",
    "#either of the two will return what looks like an error message, but that is expected and you can continue on to Evaluate the Network...."
   ]
  },
  {
   "cell_type": "markdown",
   "metadata": {
    "id": "RiDwIVf5-3H_"
   },
   "source": [
    "**When you hit \"STOP\" you will get a KeyInterrupt \"error\" - that is fine.**"
   ]
  },
  {
   "cell_type": "markdown",
   "metadata": {
    "id": "xZygsb2DoEJc"
   },
   "source": [
    "## Evaluate Network\n",
    "This funtion evaluates a trained model for a specific shuffle/shuffles at a particular state or all the states on the data set (images)\n",
    "and stores the results as .csv file in a subdirectory under **evaluation-results**"
   ]
  },
  {
   "cell_type": "code",
   "execution_count": null,
   "metadata": {
    "id": "nv4zlbrnoEJg"
   },
   "outputs": [],
   "source": [
    "%matplotlib notebook\n",
    "deeplabcut.evaluate_network(path_config_file, plotting=True)"
   ]
  },
  {
   "cell_type": "markdown",
   "metadata": {
    "id": "OVFLSKKfoEJk"
   },
   "source": [
    "## Analyzing Videos\n",
    "This function analyzes the videos.\n",
    "\n",
    "The results are stored in a csv file in the same directory where the video is. "
   ]
  },
  {
   "cell_type": "code",
   "execution_count": null,
   "metadata": {
    "id": "Y_LZiS_0oEJl"
   },
   "outputs": [],
   "source": [
    "deeplabcut.analyze_videos(path_config_file,videofile_path, videotype=VideoType, save_as_csv=True)"
   ]
  },
  {
   "cell_type": "markdown",
   "metadata": {
    "id": "ameFzjhZsuaJ"
   },
   "source": [
    "Use the following instead to run on data from single subjects in the \"original\" vMemEcc folder structure:\n"
   ]
  },
  {
   "cell_type": "code",
   "execution_count": null,
   "metadata": {
    "id": "GOSCB3QOpaJq"
   },
   "outputs": [],
   "source": [
    "for subid in ['VME_S02', 'VME_S03']:\n",
    "    #subid = 'VME_S13' \n",
    "    path_sub = os.path.join(DataFolderName, subid, 'EyeTracking') \n",
    "    dirs_blocks = os.listdir(path_sub) \n",
    "    for dir in dirs_blocks:\n",
    "#      if not 'Block6' in dir:\n",
    "#       continue\n",
    "      vids_path = [os.path.join(path_sub, dir, '000')]\n",
    "      print(vids_path)\n",
    "      deeplabcut.analyze_videos(path_config_file,vids_path, videotype=VideoType, save_as_csv=True)"
   ]
  },
  {
   "cell_type": "code",
   "execution_count": 24,
   "metadata": {},
   "outputs": [
    {
     "data": {
      "text/plain": [
       "['DataMNE']"
      ]
     },
     "execution_count": 24,
     "metadata": {},
     "output_type": "execute_result"
    }
   ],
   "source": [
    "os.listdir('/u/fklotzsche/ptmp_link/Experiments/vMemEcc/Data/') "
   ]
  },
  {
   "cell_type": "markdown",
   "metadata": {
    "id": "8GTiuJESoEKH"
   },
   "source": [
    "## Plot Trajectories\n",
    "This function plots the trajectories of all the body parts across the entire video. Each body part is identified by a unique color."
   ]
  },
  {
   "cell_type": "code",
   "execution_count": null,
   "metadata": {
    "id": "DA6i00nnK11e"
   },
   "outputs": [],
   "source": [
    "# Updating the plotting within the config.yaml file:\n",
    "#this doesnt need to be done if they have been changed when creating the file\n",
    "#dotsize: size of the dots\n",
    "#pcutoff: likelihood threshold\n",
    "\n",
    "#config_path = path_config_file\n",
    "#edits = {'dotsize': 2,\n",
    "#          'pcutoff': 0.8}\n",
    "#deeplabcut.auxiliaryfunctions.edit_config(config_path, edits)"
   ]
  },
  {
   "cell_type": "code",
   "execution_count": null,
   "metadata": {
    "id": "-AswRB8kLZbJ"
   },
   "outputs": [],
   "source": [
    "#filter predictions:\n",
    "#deeplabcut.filterpredictions(config_path, videofile_path, videotype=VideoType)"
   ]
  },
  {
   "cell_type": "code",
   "execution_count": null,
   "metadata": {
    "id": "gX21zZbXoEKJ"
   },
   "outputs": [],
   "source": [
    "deeplabcut.plot_trajectories(path_config_file,videofile_path, videotype=VideoType, filtered=False)"
   ]
  },
  {
   "cell_type": "markdown",
   "metadata": {
    "id": "pCrUvQIvoEKD"
   },
   "source": [
    "## Create Labeled Video\n",
    "This creates a video in .mp4 format with labels predicted by the network. This video is saved in the same directory where the original video resides. "
   ]
  },
  {
   "cell_type": "code",
   "execution_count": null,
   "metadata": {
    "id": "6aDF7Q7KoEKE"
   },
   "outputs": [],
   "source": [
    "deeplabcut.create_labeled_video(path_config_file, videofile_path, videotype=VideoType, filtered=False, codec='jpeg')"
   ]
  },
  {
   "cell_type": "code",
   "execution_count": null,
   "metadata": {
    "id": "EA6EayclpvA6"
   },
   "outputs": [],
   "source": [
    "subid = 'VME_S04'\n",
    "path_sub = os.path.join(DataFolderName, subid, 'EyeTracking') \n",
    "dirs_blocks = os.listdir(path_sub) \n",
    "for dir in dirs_blocks[2:]:\n",
    "  vids_path = [os.path.join(path_sub, dir, '000')]\n",
    "  print(vids_path)\n",
    "  deeplabcut.create_labeled_video(path_config_file, vids_path, videotype=VideoType, filtered=False, codec='jpeg')"
   ]
  },
  {
   "cell_type": "markdown",
   "metadata": {
    "id": "zl9mF_cNHOvB"
   },
   "source": [
    "#Optional"
   ]
  },
  {
   "cell_type": "markdown",
   "metadata": {
    "id": "hOX6iziLHQnc"
   },
   "source": [
    "## Downsample Video\n",
    "\n",
    "The video should already be downsampled if you used kmeans as the clustering method, however you can use this to downsample if need be.\n",
    "\n",
    "Downsample the video by running the following line of code"
   ]
  },
  {
   "cell_type": "code",
   "execution_count": null,
   "metadata": {
    "id": "tUeFlJUCHkin"
   },
   "outputs": [],
   "source": [
    "deeplabcut.DownSampleVideo(videofile_path, width=-1, height=300, outsuffix='downsampled', outpath=None, rotateccw=False)"
   ]
  },
  {
   "cell_type": "markdown",
   "metadata": {
    "id": "pPwzox6vP7Z8"
   },
   "source": [
    "## Add New Videos"
   ]
  },
  {
   "cell_type": "code",
   "execution_count": null,
   "metadata": {
    "id": "J4hfX5vYQAr5"
   },
   "outputs": [],
   "source": [
    "#to add more videos\n",
    "deeplabcut.add_new_videos(config_path,[‘full path of video 4’, ‘full path of video 5’],copy_videos=True/False)"
   ]
  },
  {
   "cell_type": "markdown",
   "metadata": {
    "id": "ulZUXJjuLOqJ"
   },
   "source": [
    "## Anlayze Skeleton"
   ]
  },
  {
   "cell_type": "code",
   "execution_count": null,
   "metadata": {
    "id": "1Bze8l1M04gc"
   },
   "outputs": [],
   "source": [
    "deeplabcut.analyzeskeleton(path_config_file, videofile_path, videotype=VideoType, save_as_csv=True)"
   ]
  },
  {
   "cell_type": "code",
   "execution_count": null,
   "metadata": {
    "id": "wMHBtGhfoWAw"
   },
   "outputs": [],
   "source": []
  }
 ],
 "metadata": {
  "accelerator": "GPU",
  "colab": {
   "collapsed_sections": [
    "zl9mF_cNHOvB",
    "hOX6iziLHQnc",
    "pPwzox6vP7Z8",
    "ulZUXJjuLOqJ"
   ],
   "name": "Eye_Tracking_Analysis.ipynb",
   "private_outputs": true,
   "provenance": []
  },
  "kernelspec": {
   "display_name": "Python (DLC-GPU)",
   "language": "python",
   "name": "dlc-gpu"
  },
  "language_info": {
   "codemirror_mode": {
    "name": "ipython",
    "version": 3
   },
   "file_extension": ".py",
   "mimetype": "text/x-python",
   "name": "python",
   "nbconvert_exporter": "python",
   "pygments_lexer": "ipython3",
   "version": "3.7.9"
  }
 },
 "nbformat": 4,
 "nbformat_minor": 2
}
