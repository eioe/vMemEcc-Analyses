{
 "cells": [
  {
   "cell_type": "markdown",
   "id": "2b74f329",
   "metadata": {},
   "source": [
    "# Preprocessing: ICA"
   ]
  },
  {
   "cell_type": "markdown",
   "id": "db6c6186",
   "metadata": {},
   "source": [
    "The workhorse functions `clean_withar_local` and `get_ica_weights` are defined in `..\\preprocess.py`. This allows to call them also from bash scripts to run them in the background to precalculate their outputs (which - depending on your setup - will take a while). \n",
    "You can then here set all `*_from_disc` arguments to `True` and load the precalculated values directly. \n",
    "This script has some interactive steps:\n",
    "- marking stretches of clean EOG data (can be skipped if loaded from disk) \n",
    "- inspecting ICA components\n",
    "- inspecting results of the ICA cleaning\n",
    "\n",
    "So it won't run over all participants without your interaction. Good to look at some data anyway.\n",
    "I recommend precalculating the ICA weights incl. the first round of Autoreject in separate script (use `..\\utils\\03_preprocess-ica-ar.py` for this) and then just load the values here. "
   ]
  },
  {
   "cell_type": "code",
   "execution_count": 1,
   "id": "951bfb89",
   "metadata": {},
   "outputs": [],
   "source": [
    "from os import path as op\n",
    "import sys\n",
    "import pandas as pd\n",
    "import numpy as np\n",
    "import matplotlib.pyplot as plt\n",
    "import mne\n",
    "from mne.preprocessing import create_eog_epochs\n",
    "import autoreject\n",
    "\n",
    "from library import config, helpers, preprocess"
   ]
  },
  {
   "cell_type": "code",
   "execution_count": 2,
   "id": "7e86b5f2",
   "metadata": {},
   "outputs": [],
   "source": [
    "%matplotlib qt\n",
    "\n",
    "%load_ext autoreload\n",
    "%autoreload 2"
   ]
  },
  {
   "cell_type": "code",
   "execution_count": 3,
   "id": "1d80204e",
   "metadata": {},
   "outputs": [],
   "source": [
    "def get_eog_epochs_clean(data_raw,\n",
    "                         eogannot_from_disc = False,\n",
    "                         save_eogannot_to_disc = True,\n",
    "                         eogannot_path=config.paths['03_preproc-ica-eog']):\n",
    "    mark_data = data_raw.copy()\n",
    "\n",
    "    if eogannot_from_disc:\n",
    "        fname = op.join(eogannot_path, subID + '-eog-annot.fif')\n",
    "        annot = mne.read_annotations(fname)\n",
    "        mark_data.set_annotations(annot)\n",
    "    else:\n",
    "        # Mark stretches (at least 1) of data with clean EOG\n",
    "        mark_data.pick_types(eog=True, eeg=False).filter(l_freq=1, h_freq=None,\n",
    "                                                         picks=['eog'],\n",
    "                                                         verbose=False).\\\n",
    "                                                  plot(duration=180,\n",
    "                                                       scalings={'eog': 850e-6},\n",
    "                                                       #remove_dc=True,\n",
    "                                                       block=True)\n",
    "        if save_eogannot_to_disc:\n",
    "            fname = op.join(eogannot_path, subID + '-eog-annot.fif')\n",
    "            mark_data.annotations.save(fname, overwrite=True)\n",
    "\n",
    "    # Calculate clean epochs locked to EOG-peaks (!name the annotation `clean_eeg`!):\n",
    "    raws = [idx for idx in mark_data.annotations if idx['description'] == 'clean_eog']\n",
    "    t0 = raws[0]['onset']\n",
    "    t1 = t0 + raws[0]['duration']\n",
    "    raw_eog = data_raw.copy().crop(t0, t1)\n",
    "\n",
    "    if len(raws)>1:\n",
    "        for r_ in raws[1:]:\n",
    "            t0 = r_['onset']\n",
    "            t1 = t0 + r_['duration']\n",
    "            raw_eog.append(data_raw.copy().crop(t0, t1))\n",
    "            \n",
    "    # Heuristically determine a robust threshold for EOG peak detection\n",
    "    tmp = raw_eog.copy().load_data().\\\n",
    "                         pick_channels(['VEOG', 'HEOG']).\\\n",
    "                         filter(l_freq=1, h_freq=10, picks=['eog'], verbose=False)\n",
    "    \n",
    "    tmp_epo = mne.make_fixed_length_epochs(tmp, preload=True)\n",
    "\n",
    "    mean_threshs = np.mean(tmp_epo.get_data().squeeze().ptp(axis=0) / 4, axis=1)\n",
    "    thresh_dict = {ch:thresh for ch, thresh in zip(tmp_epo.ch_names, mean_threshs)}\n",
    "\n",
    "    epochs_veog = create_eog_epochs(raw_eog,\n",
    "                                    ch_name='VEOG',\n",
    "                                    baseline=(None,None),\n",
    "                                    thresh=thresh_dict['VEOG'],\n",
    "                                    verbose=False)\n",
    "\n",
    "    print(f'Created {len(epochs_veog)} VEOG epochs.')\n",
    "    if (len(epochs_veog) < 50):\n",
    "        print('Not really a lot. This might be a problem! Consider marking longer stretches of clean EOG data.')\n",
    "        print('########################')\n",
    "\n",
    "    epochs_heog = create_eog_epochs(raw_eog,\n",
    "                                    ch_name='HEOG',\n",
    "                                    baseline=(None,None),\n",
    "                                    thresh=thresh_dict['HEOG'],\n",
    "                                    verbose=False)\n",
    "\n",
    "    print(f'Created {len(epochs_heog)} HEOG epochs.')\n",
    "    if (len(epochs_heog) < 50):\n",
    "        print('Not really a lot. This might be a problem! Consider marking longer stretches of clean EOG data.')\n",
    "        print('########################')\n",
    "\n",
    "    return epochs_veog, epochs_heog\n",
    "\n",
    "\n",
    "def vis_compare_ica(data_before, data_after, show_data_before=False, block=True):\n",
    "    # visual comparison:\n",
    "    picks=['eeg','eog']\n",
    "    if show_data_before:\n",
    "        old = data_before.copy().\\\n",
    "        apply_baseline((None,None)).\\\n",
    "        plot(scalings=dict(eeg=50e-6),\n",
    "                               n_epochs=15,\n",
    "                               n_channels=30,\n",
    "                               picks=picks) \n",
    "    new = data_after.copy().\\\n",
    "    apply_baseline((None,None)).\\\n",
    "    plot(scalings=dict(eeg=50e-6),\n",
    "                          n_epochs=15,\n",
    "                          n_channels=30,\n",
    "                          picks=picks,\n",
    "                          block=block)"
   ]
  },
  {
   "cell_type": "code",
   "execution_count": 4,
   "id": "0feac98d",
   "metadata": {},
   "outputs": [
    {
     "name": "stdout",
     "output_type": "stream",
     "text": [
      "Opening raw data file /raven/ptmp/fklotzsche/Experiments/vMemEcc/Data2022/DataMNE/EEG/01_prepared/VME_S01-prepared-raw.fif...\n",
      "    Range : 0 ... 4353149 =      0.000 ...  8706.298 secs\n",
      "Ready.\n",
      "Reading 0 ... 4353149  =      0.000 ...  8706.298 secs...\n",
      "Reading /raven/ptmp/fklotzsche/Experiments/vMemEcc/Data2022/DataMNE/EEG/02_epochs/0.01/ica/VME_S01-ica-epo.fif ...\n",
      "    Found the data of interest:\n",
      "        t =    -600.00 ...    2300.00 ms\n",
      "        0 CTF compensation matrices available\n",
      "Not setting metadata\n",
      "Not setting metadata\n",
      "720 matching events found\n",
      "No baseline correction applied\n",
      "0 projection items activated\n",
      "Applying baseline correction (mode: mean)\n"
     ]
    },
    {
     "data": {
      "application/vnd.jupyter.widget-view+json": {
       "model_id": "8d648979d6a64d6db8351e3325ca3f62",
       "version_major": 2,
       "version_minor": 0
      },
      "text/plain": [
       "  0%|          | Repairing epochs : 0/720 [00:00<?,       ?it/s]"
      ]
     },
     "metadata": {},
     "output_type": "display_data"
    },
    {
     "name": "stdout",
     "output_type": "stream",
     "text": [
      "Dropped 32 epochs: 13, 45, 114, 124, 139, 154, 247, 268, 364, 390, 401, 412, 413, 414, 418, 421, 484, 486, 491, 511, 515, 528, 540, 559, 565, 587, 615, 630, 689, 690, 700, 704\n",
      "Reading /raven/ptmp/fklotzsche/Experiments/vMemEcc/Data2022/DataMNE/EEG/03_preproc/ica/VME_S01-ica.fif ...\n",
      "Now restoring ICA solution ...\n",
      "Ready.\n",
      "Not setting metadata\n",
      "Not setting metadata\n",
      "546 matching events found\n",
      "No baseline correction applied\n",
      "0 projection items activated\n",
      "Loading data for 546 events and 500 original time points ...\n",
      "4 bad epochs dropped\n",
      "Created 104 VEOG epochs.\n",
      "Created 71 HEOG epochs.\n",
      "Using EOG channel: VEOG\n",
      "Using EOG channel: HEOG\n",
      "Applying ICA to Epochs instance\n",
      "    Transforming to ICA space (62 components)\n",
      "    Zeroing out 2 ICA components\n",
      "    Projecting back using 62 PCA components\n",
      "creating dir: /raven/ptmp/fklotzsche/Experiments/vMemEcc/Data2022/DataMNE/EEG/03_preproc/ica/cleaneddata/0.1/cue\n",
      "Applying ICA to Epochs instance\n",
      "    Transforming to ICA space (62 components)\n",
      "    Zeroing out 2 ICA components\n",
      "    Projecting back using 62 PCA components\n",
      "creating dir: /raven/ptmp/fklotzsche/Experiments/vMemEcc/Data2022/DataMNE/EEG/03_preproc/ica/cleaneddata/0.1/fulllength\n",
      "Applying ICA to Epochs instance\n",
      "    Transforming to ICA space (62 components)\n",
      "    Zeroing out 2 ICA components\n",
      "    Projecting back using 62 PCA components\n",
      "creating dir: /raven/ptmp/fklotzsche/Experiments/vMemEcc/Data2022/DataMNE/EEG/03_preproc/ica/cleaneddata/0.1/stimon\n",
      "Opening raw data file /raven/ptmp/fklotzsche/Experiments/vMemEcc/Data2022/DataMNE/EEG/01_prepared/VME_S02-prepared-raw.fif...\n",
      "    Range : 0 ... 3987339 =      0.000 ...  7974.678 secs\n",
      "Ready.\n",
      "Reading 0 ... 3987339  =      0.000 ...  7974.678 secs...\n",
      "Reading /raven/ptmp/fklotzsche/Experiments/vMemEcc/Data2022/DataMNE/EEG/02_epochs/0.01/ica/VME_S02-ica-epo.fif ...\n",
      "    Found the data of interest:\n",
      "        t =    -600.00 ...    2300.00 ms\n",
      "        0 CTF compensation matrices available\n",
      "Not setting metadata\n",
      "Not setting metadata\n",
      "720 matching events found\n",
      "No baseline correction applied\n",
      "0 projection items activated\n",
      "Applying baseline correction (mode: mean)\n"
     ]
    },
    {
     "data": {
      "application/vnd.jupyter.widget-view+json": {
       "model_id": "8373e839ef004b0886da65bdfe2566b4",
       "version_major": 2,
       "version_minor": 0
      },
      "text/plain": [
       "  0%|          | Repairing epochs : 0/720 [00:00<?,       ?it/s]"
      ]
     },
     "metadata": {},
     "output_type": "display_data"
    },
    {
     "name": "stdout",
     "output_type": "stream",
     "text": [
      "Dropped 5 epochs: 114, 236, 250, 297, 529\n",
      "Reading /raven/ptmp/fklotzsche/Experiments/vMemEcc/Data2022/DataMNE/EEG/03_preproc/ica/VME_S02-ica.fif ...\n",
      "Now restoring ICA solution ...\n",
      "Ready.\n",
      "Not setting metadata\n",
      "Not setting metadata\n",
      "568 matching events found\n",
      "No baseline correction applied\n",
      "0 projection items activated\n",
      "Loading data for 568 events and 500 original time points ...\n",
      "3 bad epochs dropped\n",
      "Created 114 VEOG epochs.\n",
      "Created 99 HEOG epochs.\n",
      "Using EOG channel: VEOG\n",
      "Using EOG channel: HEOG\n",
      "Applying ICA to Epochs instance\n",
      "    Transforming to ICA space (62 components)\n",
      "    Zeroing out 1 ICA component\n",
      "    Projecting back using 62 PCA components\n",
      "Applying ICA to Epochs instance\n",
      "    Transforming to ICA space (62 components)\n",
      "    Zeroing out 1 ICA component\n",
      "    Projecting back using 62 PCA components\n",
      "Applying ICA to Epochs instance\n",
      "    Transforming to ICA space (62 components)\n",
      "    Zeroing out 1 ICA component\n",
      "    Projecting back using 62 PCA components\n",
      "Opening raw data file /raven/ptmp/fklotzsche/Experiments/vMemEcc/Data2022/DataMNE/EEG/01_prepared/VME_S03-prepared-raw.fif...\n",
      "    Range : 0 ... 4192709 =      0.000 ...  8385.418 secs\n",
      "Ready.\n",
      "Reading 0 ... 4192709  =      0.000 ...  8385.418 secs...\n",
      "Reading /raven/ptmp/fklotzsche/Experiments/vMemEcc/Data2022/DataMNE/EEG/02_epochs/0.01/ica/VME_S03-ica-epo.fif ...\n",
      "    Found the data of interest:\n",
      "        t =    -600.00 ...    2300.00 ms\n",
      "        0 CTF compensation matrices available\n",
      "Not setting metadata\n",
      "Not setting metadata\n",
      "720 matching events found\n",
      "No baseline correction applied\n",
      "0 projection items activated\n",
      "Applying baseline correction (mode: mean)\n"
     ]
    },
    {
     "data": {
      "application/vnd.jupyter.widget-view+json": {
       "model_id": "6f6560c8139742088f342396cd07be7e",
       "version_major": 2,
       "version_minor": 0
      },
      "text/plain": [
       "  0%|          | Repairing epochs : 0/720 [00:00<?,       ?it/s]"
      ]
     },
     "metadata": {},
     "output_type": "display_data"
    },
    {
     "name": "stdout",
     "output_type": "stream",
     "text": [
      "Dropped 78 epochs: 3, 15, 22, 41, 64, 71, 89, 102, 118, 127, 153, 155, 165, 180, 188, 189, 203, 219, 222, 248, 264, 269, 272, 273, 289, 292, 317, 326, 329, 332, 351, 371, 372, 391, 405, 407, 418, 421, 424, 435, 440, 443, 446, 466, 467, 473, 486, 491, 494, 495, 496, 497, 502, 514, 516, 524, 544, 553, 563, 565, 566, 569, 570, 571, 575, 594, 614, 615, 620, 625, 632, 636, 640, 665, 685, 691, 694, 707\n",
      "Reading /raven/ptmp/fklotzsche/Experiments/vMemEcc/Data2022/DataMNE/EEG/03_preproc/ica/VME_S03-ica.fif ...\n",
      "Now restoring ICA solution ...\n",
      "Ready.\n",
      "Not setting metadata\n",
      "Not setting metadata\n",
      "734 matching events found\n",
      "No baseline correction applied\n",
      "0 projection items activated\n",
      "Loading data for 734 events and 500 original time points ...\n",
      "6 bad epochs dropped\n",
      "Created 60 VEOG epochs.\n",
      "Created 49 HEOG epochs.\n",
      "Not really a lot. This might be a problem! Consider marking longer stretches of clean EOG data.\n",
      "########################\n",
      "Using EOG channel: VEOG\n",
      "Using EOG channel: HEOG\n",
      "Applying ICA to Epochs instance\n",
      "    Transforming to ICA space (62 components)\n",
      "    Zeroing out 2 ICA components\n",
      "    Projecting back using 62 PCA components\n",
      "Applying ICA to Epochs instance\n",
      "    Transforming to ICA space (62 components)\n",
      "    Zeroing out 2 ICA components\n",
      "    Projecting back using 62 PCA components\n",
      "Applying ICA to Epochs instance\n",
      "    Transforming to ICA space (62 components)\n",
      "    Zeroing out 2 ICA components\n",
      "    Projecting back using 62 PCA components\n",
      "Opening raw data file /raven/ptmp/fklotzsche/Experiments/vMemEcc/Data2022/DataMNE/EEG/01_prepared/VME_S04-prepared-raw.fif...\n",
      "    Range : 0 ... 4126639 =      0.000 ...  8253.278 secs\n",
      "Ready.\n",
      "Reading 0 ... 4126639  =      0.000 ...  8253.278 secs...\n",
      "Reading /raven/ptmp/fklotzsche/Experiments/vMemEcc/Data2022/DataMNE/EEG/02_epochs/0.01/ica/VME_S04-ica-epo.fif ...\n",
      "    Found the data of interest:\n",
      "        t =    -600.00 ...    2300.00 ms\n",
      "        0 CTF compensation matrices available\n",
      "Not setting metadata\n",
      "Not setting metadata\n",
      "720 matching events found\n",
      "No baseline correction applied\n",
      "0 projection items activated\n",
      "Applying baseline correction (mode: mean)\n"
     ]
    },
    {
     "data": {
      "application/vnd.jupyter.widget-view+json": {
       "model_id": "5c9039084da944d392fc18b7e732ebe3",
       "version_major": 2,
       "version_minor": 0
      },
      "text/plain": [
       "  0%|          | Repairing epochs : 0/720 [00:00<?,       ?it/s]"
      ]
     },
     "metadata": {},
     "output_type": "display_data"
    },
    {
     "name": "stdout",
     "output_type": "stream",
     "text": [
      "Dropped 217 epochs: 10, 11, 15, 17, 18, 19, 22, 23, 24, 25, 26, 27, 28, 29, 30, 31, 32, 33, 34, 37, 38, 40, 41, 43, 45, 49, 51, 54, 57, 64, 65, 67, 71, 93, 94, 95, 97, 123, 129, 138, 143, 149, 153, 160, 161, 166, 168, 170, 171, 172, 174, 175, 178, 180, 187, 191, 197, 202, 203, 204, 212, 214, 216, 218, 219, 220, 222, 223, 224, 225, 226, 229, 230, 240, 260, 262, 285, 287, 290, 292, 293, 294, 295, 297, 298, 299, 303, 304, 309, 310, 311, 318, 321, 322, 323, 327, 328, 329, 331, 332, 333, 334, 336, 337, 339, 340, 341, 342, 344, 345, 346, 347, 348, 350, 352, 353, 355, 356, 358, 360, 362, 363, 366, 367, 368, 371, 372, 373, 382, 385, 386, 387, 390, 395, 396, 400, 403, 405, 410, 416, 417, 418, 419, 420, 423, 425, 426, 427, 428, 430, 431, 433, 434, 435, 436, 438, 440, 442, 443, 444, 445, 447, 448, 449, 450, 451, 452, 453, 455, 461, 462, 464, 473, 474, 475, 478, 481, 489, 494, 496, 500, 501, 502, 512, 513, 517, 519, 529, 534, 540, 543, 551, 554, 563, 564, 569, 577, 578, 579, 587, 596, 604, 605, 607, 609, 623, 636, 642, 647, 652, 653, 662, 666, 667, 690, 691, 692\n",
      "Reading /raven/ptmp/fklotzsche/Experiments/vMemEcc/Data2022/DataMNE/EEG/03_preproc/ica/VME_S04-ica.fif ...\n",
      "Now restoring ICA solution ...\n",
      "Ready.\n",
      "Not setting metadata\n",
      "Not setting metadata\n",
      "448 matching events found\n",
      "No baseline correction applied\n",
      "0 projection items activated\n",
      "Loading data for 448 events and 500 original time points ...\n",
      "6 bad epochs dropped\n",
      "Created 140 VEOG epochs.\n",
      "Created 68 HEOG epochs.\n",
      "Using EOG channel: VEOG\n",
      "Using EOG channel: HEOG\n",
      "Applying ICA to Epochs instance\n",
      "    Transforming to ICA space (62 components)\n",
      "    Zeroing out 2 ICA components\n",
      "    Projecting back using 62 PCA components\n",
      "Applying ICA to Epochs instance\n",
      "    Transforming to ICA space (62 components)\n",
      "    Zeroing out 2 ICA components\n",
      "    Projecting back using 62 PCA components\n",
      "Applying ICA to Epochs instance\n",
      "    Transforming to ICA space (62 components)\n",
      "    Zeroing out 2 ICA components\n",
      "    Projecting back using 62 PCA components\n",
      "Opening raw data file /raven/ptmp/fklotzsche/Experiments/vMemEcc/Data2022/DataMNE/EEG/01_prepared/VME_S05-prepared-raw.fif...\n",
      "    Range : 0 ... 4710809 =      0.000 ...  9421.618 secs\n",
      "Ready.\n",
      "Reading 0 ... 4710809  =      0.000 ...  9421.618 secs...\n",
      "Reading /raven/ptmp/fklotzsche/Experiments/vMemEcc/Data2022/DataMNE/EEG/02_epochs/0.01/ica/VME_S05-ica-epo.fif ...\n",
      "    Found the data of interest:\n",
      "        t =    -600.00 ...    2300.00 ms\n",
      "        0 CTF compensation matrices available\n",
      "Not setting metadata\n",
      "Not setting metadata\n",
      "720 matching events found\n",
      "No baseline correction applied\n",
      "0 projection items activated\n",
      "Applying baseline correction (mode: mean)\n"
     ]
    },
    {
     "data": {
      "application/vnd.jupyter.widget-view+json": {
       "model_id": "938569619dc64c5fae1bf12aba6b592f",
       "version_major": 2,
       "version_minor": 0
      },
      "text/plain": [
       "  0%|          | Repairing epochs : 0/720 [00:00<?,       ?it/s]"
      ]
     },
     "metadata": {},
     "output_type": "display_data"
    },
    {
     "name": "stdout",
     "output_type": "stream",
     "text": [
      "Dropped 50 epochs: 4, 8, 10, 12, 29, 126, 135, 137, 190, 208, 213, 271, 273, 280, 281, 323, 342, 402, 418, 480, 490, 499, 502, 510, 517, 526, 527, 536, 538, 544, 546, 557, 558, 561, 564, 567, 568, 592, 612, 619, 621, 647, 661, 678, 683, 685, 701, 705, 714, 719\n",
      "Reading /raven/ptmp/fklotzsche/Experiments/vMemEcc/Data2022/DataMNE/EEG/03_preproc/ica/VME_S05-ica.fif ...\n",
      "Now restoring ICA solution ...\n",
      "Ready.\n",
      "Not setting metadata\n",
      "Not setting metadata\n",
      "473 matching events found\n",
      "No baseline correction applied\n",
      "0 projection items activated\n",
      "Loading data for 473 events and 500 original time points ...\n",
      "4 bad epochs dropped\n",
      "Created 154 VEOG epochs.\n",
      "Created 86 HEOG epochs.\n",
      "Using EOG channel: VEOG\n",
      "Using EOG channel: HEOG\n",
      "Applying ICA to Epochs instance\n",
      "    Transforming to ICA space (62 components)\n",
      "    Zeroing out 2 ICA components\n",
      "    Projecting back using 62 PCA components\n",
      "Applying ICA to Epochs instance\n",
      "    Transforming to ICA space (62 components)\n",
      "    Zeroing out 2 ICA components\n",
      "    Projecting back using 62 PCA components\n",
      "Applying ICA to Epochs instance\n",
      "    Transforming to ICA space (62 components)\n",
      "    Zeroing out 2 ICA components\n",
      "    Projecting back using 62 PCA components\n",
      "Opening raw data file /raven/ptmp/fklotzsche/Experiments/vMemEcc/Data2022/DataMNE/EEG/01_prepared/VME_S06-prepared-raw.fif...\n",
      "    Range : 0 ... 4370479 =      0.000 ...  8740.958 secs\n",
      "Ready.\n",
      "Reading 0 ... 4370479  =      0.000 ...  8740.958 secs...\n",
      "Reading /raven/ptmp/fklotzsche/Experiments/vMemEcc/Data2022/DataMNE/EEG/02_epochs/0.01/ica/VME_S06-ica-epo.fif ...\n",
      "    Found the data of interest:\n",
      "        t =    -600.00 ...    2300.00 ms\n",
      "        0 CTF compensation matrices available\n",
      "Not setting metadata\n",
      "Not setting metadata\n",
      "720 matching events found\n",
      "No baseline correction applied\n",
      "0 projection items activated\n",
      "Applying baseline correction (mode: mean)\n"
     ]
    },
    {
     "data": {
      "application/vnd.jupyter.widget-view+json": {
       "model_id": "f9e5d2e56d4a4db8854623e642140399",
       "version_major": 2,
       "version_minor": 0
      },
      "text/plain": [
       "  0%|          | Repairing epochs : 0/720 [00:00<?,       ?it/s]"
      ]
     },
     "metadata": {},
     "output_type": "display_data"
    },
    {
     "name": "stdout",
     "output_type": "stream",
     "text": [
      "Dropped 18 epochs: 17, 51, 76, 99, 206, 286, 353, 453, 557, 583, 584, 587, 590, 594, 607, 616, 654, 663\n",
      "Reading /raven/ptmp/fklotzsche/Experiments/vMemEcc/Data2022/DataMNE/EEG/03_preproc/ica/VME_S06-ica.fif ...\n",
      "Now restoring ICA solution ...\n",
      "Ready.\n",
      "Not setting metadata\n",
      "Not setting metadata\n",
      "404 matching events found\n",
      "No baseline correction applied\n",
      "0 projection items activated\n",
      "Loading data for 404 events and 500 original time points ...\n",
      "3 bad epochs dropped\n",
      "Created 34 VEOG epochs.\n",
      "Not really a lot. This might be a problem! Consider marking longer stretches of clean EOG data.\n",
      "########################\n",
      "Created 41 HEOG epochs.\n",
      "Not really a lot. This might be a problem! Consider marking longer stretches of clean EOG data.\n",
      "########################\n",
      "Using EOG channel: VEOG\n",
      "Using EOG channel: HEOG\n",
      "Applying ICA to Epochs instance\n",
      "    Transforming to ICA space (62 components)\n",
      "    Zeroing out 2 ICA components\n",
      "    Projecting back using 62 PCA components\n",
      "Applying ICA to Epochs instance\n",
      "    Transforming to ICA space (62 components)\n",
      "    Zeroing out 2 ICA components\n",
      "    Projecting back using 62 PCA components\n",
      "Applying ICA to Epochs instance\n",
      "    Transforming to ICA space (62 components)\n",
      "    Zeroing out 2 ICA components\n",
      "    Projecting back using 62 PCA components\n",
      "Opening raw data file /raven/ptmp/fklotzsche/Experiments/vMemEcc/Data2022/DataMNE/EEG/01_prepared/VME_S07-prepared-raw.fif...\n",
      "    Range : 0 ... 4617309 =      0.000 ...  9234.618 secs\n",
      "Ready.\n",
      "Reading 0 ... 4617309  =      0.000 ...  9234.618 secs...\n",
      "Reading /raven/ptmp/fklotzsche/Experiments/vMemEcc/Data2022/DataMNE/EEG/02_epochs/0.01/ica/VME_S07-ica-epo.fif ...\n",
      "    Found the data of interest:\n",
      "        t =    -600.00 ...    2300.00 ms\n",
      "        0 CTF compensation matrices available\n",
      "Not setting metadata\n",
      "Not setting metadata\n",
      "720 matching events found\n",
      "No baseline correction applied\n",
      "0 projection items activated\n",
      "Applying baseline correction (mode: mean)\n"
     ]
    },
    {
     "data": {
      "application/vnd.jupyter.widget-view+json": {
       "model_id": "f1b63fd9e5b2460a84de1e691e65a94c",
       "version_major": 2,
       "version_minor": 0
      },
      "text/plain": [
       "  0%|          | Repairing epochs : 0/720 [00:00<?,       ?it/s]"
      ]
     },
     "metadata": {},
     "output_type": "display_data"
    },
    {
     "name": "stdout",
     "output_type": "stream",
     "text": [
      "Dropped 11 epochs: 2, 136, 168, 366, 376, 397, 522, 541, 545, 556, 601\n",
      "Reading /raven/ptmp/fklotzsche/Experiments/vMemEcc/Data2022/DataMNE/EEG/03_preproc/ica/VME_S07-ica.fif ...\n",
      "Now restoring ICA solution ...\n",
      "Ready.\n",
      "Not setting metadata\n",
      "Not setting metadata\n",
      "255 matching events found\n",
      "No baseline correction applied\n",
      "0 projection items activated\n",
      "Loading data for 255 events and 500 original time points ...\n",
      "4 bad epochs dropped\n",
      "Created 20 VEOG epochs.\n",
      "Not really a lot. This might be a problem! Consider marking longer stretches of clean EOG data.\n",
      "########################\n",
      "Created 67 HEOG epochs.\n",
      "Using EOG channel: VEOG\n",
      "Using EOG channel: HEOG\n",
      "Applying ICA to Epochs instance\n",
      "    Transforming to ICA space (62 components)\n",
      "    Zeroing out 2 ICA components\n",
      "    Projecting back using 62 PCA components\n",
      "Applying ICA to Epochs instance\n",
      "    Transforming to ICA space (62 components)\n",
      "    Zeroing out 2 ICA components\n",
      "    Projecting back using 62 PCA components\n",
      "Applying ICA to Epochs instance\n",
      "    Transforming to ICA space (62 components)\n",
      "    Zeroing out 2 ICA components\n",
      "    Projecting back using 62 PCA components\n",
      "Opening raw data file /raven/ptmp/fklotzsche/Experiments/vMemEcc/Data2022/DataMNE/EEG/01_prepared/VME_S08-prepared-raw.fif...\n",
      "    Range : 0 ... 4315769 =      0.000 ...  8631.538 secs\n",
      "Ready.\n",
      "Reading 0 ... 4315769  =      0.000 ...  8631.538 secs...\n",
      "Reading /raven/ptmp/fklotzsche/Experiments/vMemEcc/Data2022/DataMNE/EEG/02_epochs/0.01/ica/VME_S08-ica-epo.fif ...\n",
      "    Found the data of interest:\n",
      "        t =    -600.00 ...    2300.00 ms\n",
      "        0 CTF compensation matrices available\n",
      "Not setting metadata\n",
      "Not setting metadata\n",
      "720 matching events found\n",
      "No baseline correction applied\n",
      "0 projection items activated\n",
      "Applying baseline correction (mode: mean)\n"
     ]
    },
    {
     "data": {
      "application/vnd.jupyter.widget-view+json": {
       "model_id": "dfc61b951e2346a8bcd3f2142a76eed0",
       "version_major": 2,
       "version_minor": 0
      },
      "text/plain": [
       "  0%|          | Repairing epochs : 0/720 [00:00<?,       ?it/s]"
      ]
     },
     "metadata": {},
     "output_type": "display_data"
    },
    {
     "name": "stdout",
     "output_type": "stream",
     "text": [
      "Dropped 51 epochs: 49, 50, 68, 98, 99, 109, 126, 134, 139, 196, 253, 282, 324, 354, 391, 417, 422, 425, 427, 479, 480, 484, 485, 488, 542, 559, 566, 567, 570, 580, 626, 629, 633, 646, 658, 672, 673, 674, 691, 692, 693, 694, 695, 697, 699, 700, 704, 705, 707, 717, 719\n",
      "Reading /raven/ptmp/fklotzsche/Experiments/vMemEcc/Data2022/DataMNE/EEG/03_preproc/ica/VME_S08-ica.fif ...\n",
      "Now restoring ICA solution ...\n",
      "Ready.\n",
      "Not setting metadata\n",
      "Not setting metadata\n",
      "415 matching events found\n",
      "No baseline correction applied\n",
      "0 projection items activated\n",
      "Loading data for 415 events and 500 original time points ...\n",
      "4 bad epochs dropped\n",
      "Created 75 VEOG epochs.\n",
      "Created 22 HEOG epochs.\n",
      "Not really a lot. This might be a problem! Consider marking longer stretches of clean EOG data.\n",
      "########################\n",
      "Using EOG channel: VEOG\n",
      "Using EOG channel: HEOG\n",
      "Applying ICA to Epochs instance\n",
      "    Transforming to ICA space (62 components)\n",
      "    Zeroing out 4 ICA components\n",
      "    Projecting back using 62 PCA components\n",
      "Applying ICA to Epochs instance\n",
      "    Transforming to ICA space (62 components)\n",
      "    Zeroing out 4 ICA components\n",
      "    Projecting back using 62 PCA components\n",
      "Applying ICA to Epochs instance\n",
      "    Transforming to ICA space (62 components)\n",
      "    Zeroing out 4 ICA components\n",
      "    Projecting back using 62 PCA components\n",
      "Opening raw data file /raven/ptmp/fklotzsche/Experiments/vMemEcc/Data2022/DataMNE/EEG/01_prepared/VME_S09-prepared-raw.fif...\n",
      "    Range : 0 ... 4727259 =      0.000 ...  9454.518 secs\n",
      "Ready.\n",
      "Reading 0 ... 4727259  =      0.000 ...  9454.518 secs...\n",
      "Reading /raven/ptmp/fklotzsche/Experiments/vMemEcc/Data2022/DataMNE/EEG/02_epochs/0.01/ica/VME_S09-ica-epo.fif ...\n",
      "    Found the data of interest:\n",
      "        t =    -600.00 ...    2300.00 ms\n",
      "        0 CTF compensation matrices available\n",
      "Not setting metadata\n",
      "Not setting metadata\n",
      "720 matching events found\n",
      "No baseline correction applied\n",
      "0 projection items activated\n",
      "Applying baseline correction (mode: mean)\n"
     ]
    },
    {
     "data": {
      "application/vnd.jupyter.widget-view+json": {
       "model_id": "b0af3a9756e44ce5a47d8d0ba90cf862",
       "version_major": 2,
       "version_minor": 0
      },
      "text/plain": [
       "  0%|          | Repairing epochs : 0/720 [00:00<?,       ?it/s]"
      ]
     },
     "metadata": {},
     "output_type": "display_data"
    },
    {
     "name": "stdout",
     "output_type": "stream",
     "text": [
      "Dropped 6 epochs: 90, 278, 287, 484, 575, 706\n",
      "Reading /raven/ptmp/fklotzsche/Experiments/vMemEcc/Data2022/DataMNE/EEG/03_preproc/ica/VME_S09-ica.fif ...\n",
      "Now restoring ICA solution ...\n",
      "Ready.\n",
      "Not setting metadata\n",
      "Not setting metadata\n",
      "699 matching events found\n",
      "No baseline correction applied\n",
      "0 projection items activated\n",
      "Loading data for 699 events and 500 original time points ...\n",
      "5 bad epochs dropped\n",
      "Created 154 VEOG epochs.\n",
      "Created 112 HEOG epochs.\n",
      "Using EOG channel: VEOG\n",
      "Using EOG channel: HEOG\n",
      "Applying ICA to Epochs instance\n",
      "    Transforming to ICA space (62 components)\n",
      "    Zeroing out 2 ICA components\n",
      "    Projecting back using 62 PCA components\n",
      "Applying ICA to Epochs instance\n",
      "    Transforming to ICA space (62 components)\n",
      "    Zeroing out 2 ICA components\n",
      "    Projecting back using 62 PCA components\n",
      "Applying ICA to Epochs instance\n",
      "    Transforming to ICA space (62 components)\n",
      "    Zeroing out 2 ICA components\n",
      "    Projecting back using 62 PCA components\n",
      "Opening raw data file /raven/ptmp/fklotzsche/Experiments/vMemEcc/Data2022/DataMNE/EEG/01_prepared/VME_S10-prepared-raw.fif...\n",
      "    Range : 0 ... 4762629 =      0.000 ...  9525.258 secs\n",
      "Ready.\n",
      "Reading 0 ... 4762629  =      0.000 ...  9525.258 secs...\n",
      "Reading /raven/ptmp/fklotzsche/Experiments/vMemEcc/Data2022/DataMNE/EEG/02_epochs/0.01/ica/VME_S10-ica-epo.fif ...\n",
      "    Found the data of interest:\n",
      "        t =    -600.00 ...    2300.00 ms\n",
      "        0 CTF compensation matrices available\n",
      "Not setting metadata\n",
      "Not setting metadata\n",
      "720 matching events found\n",
      "No baseline correction applied\n",
      "0 projection items activated\n",
      "Applying baseline correction (mode: mean)\n"
     ]
    },
    {
     "data": {
      "application/vnd.jupyter.widget-view+json": {
       "model_id": "931cd7dbbdb64dbea04060168eecafe6",
       "version_major": 2,
       "version_minor": 0
      },
      "text/plain": [
       "  0%|          | Repairing epochs : 0/720 [00:00<?,       ?it/s]"
      ]
     },
     "metadata": {},
     "output_type": "display_data"
    },
    {
     "name": "stdout",
     "output_type": "stream",
     "text": [
      "Dropped 15 epochs: 4, 5, 8, 18, 20, 32, 154, 257, 317, 423, 519, 539, 583, 644, 680\n",
      "Reading /raven/ptmp/fklotzsche/Experiments/vMemEcc/Data2022/DataMNE/EEG/03_preproc/ica/VME_S10-ica.fif ...\n",
      "Now restoring ICA solution ...\n",
      "Ready.\n",
      "Not setting metadata\n",
      "Not setting metadata\n",
      "849 matching events found\n",
      "No baseline correction applied\n",
      "0 projection items activated\n",
      "Loading data for 849 events and 500 original time points ...\n",
      "7 bad epochs dropped\n",
      "Created 177 VEOG epochs.\n",
      "Created 31 HEOG epochs.\n",
      "Not really a lot. This might be a problem! Consider marking longer stretches of clean EOG data.\n",
      "########################\n",
      "Using EOG channel: VEOG\n",
      "Using EOG channel: HEOG\n",
      "Applying ICA to Epochs instance\n",
      "    Transforming to ICA space (62 components)\n",
      "    Zeroing out 1 ICA component\n",
      "    Projecting back using 62 PCA components\n",
      "Applying ICA to Epochs instance\n",
      "    Transforming to ICA space (62 components)\n",
      "    Zeroing out 1 ICA component\n",
      "    Projecting back using 62 PCA components\n",
      "Applying ICA to Epochs instance\n",
      "    Transforming to ICA space (62 components)\n",
      "    Zeroing out 1 ICA component\n",
      "    Projecting back using 62 PCA components\n",
      "Opening raw data file /raven/ptmp/fklotzsche/Experiments/vMemEcc/Data2022/DataMNE/EEG/01_prepared/VME_S12-prepared-raw.fif...\n",
      "    Range : 0 ... 4048029 =      0.000 ...  8096.058 secs\n",
      "Ready.\n",
      "Reading 0 ... 4048029  =      0.000 ...  8096.058 secs...\n",
      "Reading /raven/ptmp/fklotzsche/Experiments/vMemEcc/Data2022/DataMNE/EEG/02_epochs/0.01/ica/VME_S12-ica-epo.fif ...\n",
      "    Found the data of interest:\n",
      "        t =    -600.00 ...    2300.00 ms\n",
      "        0 CTF compensation matrices available\n",
      "Not setting metadata\n",
      "Not setting metadata\n",
      "720 matching events found\n",
      "No baseline correction applied\n",
      "0 projection items activated\n",
      "Applying baseline correction (mode: mean)\n"
     ]
    },
    {
     "data": {
      "application/vnd.jupyter.widget-view+json": {
       "model_id": "6d8ef97f06664120b497b89a52ad7621",
       "version_major": 2,
       "version_minor": 0
      },
      "text/plain": [
       "  0%|          | Repairing epochs : 0/720 [00:00<?,       ?it/s]"
      ]
     },
     "metadata": {},
     "output_type": "display_data"
    },
    {
     "name": "stdout",
     "output_type": "stream",
     "text": [
      "Dropped 81 epochs: 130, 138, 198, 201, 203, 204, 205, 211, 212, 215, 256, 272, 274, 275, 276, 279, 281, 285, 287, 312, 330, 336, 340, 346, 347, 350, 394, 403, 409, 410, 411, 425, 429, 461, 462, 475, 477, 482, 485, 491, 494, 495, 509, 516, 528, 534, 540, 541, 544, 549, 550, 559, 561, 562, 564, 565, 569, 570, 574, 582, 585, 598, 609, 612, 614, 616, 623, 625, 630, 631, 632, 637, 642, 646, 686, 701, 710, 712, 717, 718, 719\n",
      "Reading /raven/ptmp/fklotzsche/Experiments/vMemEcc/Data2022/DataMNE/EEG/03_preproc/ica/VME_S12-ica.fif ...\n",
      "Now restoring ICA solution ...\n",
      "Ready.\n",
      "Not setting metadata\n",
      "Not setting metadata\n",
      "720 matching events found\n",
      "No baseline correction applied\n",
      "0 projection items activated\n",
      "Loading data for 720 events and 500 original time points ...\n",
      "10 bad epochs dropped\n",
      "Created 87 VEOG epochs.\n",
      "Created 44 HEOG epochs.\n",
      "Not really a lot. This might be a problem! Consider marking longer stretches of clean EOG data.\n",
      "########################\n",
      "Using EOG channel: VEOG\n",
      "Using EOG channel: HEOG\n",
      "Applying ICA to Epochs instance\n",
      "    Transforming to ICA space (62 components)\n",
      "    Zeroing out 2 ICA components\n",
      "    Projecting back using 62 PCA components\n",
      "Applying ICA to Epochs instance\n",
      "    Transforming to ICA space (62 components)\n",
      "    Zeroing out 2 ICA components\n",
      "    Projecting back using 62 PCA components\n",
      "Applying ICA to Epochs instance\n",
      "    Transforming to ICA space (62 components)\n",
      "    Zeroing out 2 ICA components\n",
      "    Projecting back using 62 PCA components\n",
      "Opening raw data file /raven/ptmp/fklotzsche/Experiments/vMemEcc/Data2022/DataMNE/EEG/01_prepared/VME_S13-prepared-raw.fif...\n",
      "    Range : 0 ... 4350889 =      0.000 ...  8701.778 secs\n",
      "Ready.\n",
      "Reading 0 ... 4350889  =      0.000 ...  8701.778 secs...\n",
      "Reading /raven/ptmp/fklotzsche/Experiments/vMemEcc/Data2022/DataMNE/EEG/02_epochs/0.01/ica/VME_S13-ica-epo.fif ...\n",
      "    Found the data of interest:\n",
      "        t =    -600.00 ...    2300.00 ms\n",
      "        0 CTF compensation matrices available\n",
      "Not setting metadata\n",
      "Not setting metadata\n",
      "720 matching events found\n",
      "No baseline correction applied\n",
      "0 projection items activated\n",
      "Applying baseline correction (mode: mean)\n"
     ]
    },
    {
     "data": {
      "application/vnd.jupyter.widget-view+json": {
       "model_id": "81f6d66043d84f0b8161da6513a57d83",
       "version_major": 2,
       "version_minor": 0
      },
      "text/plain": [
       "  0%|          | Repairing epochs : 0/720 [00:00<?,       ?it/s]"
      ]
     },
     "metadata": {},
     "output_type": "display_data"
    },
    {
     "name": "stdout",
     "output_type": "stream",
     "text": [
      "Dropped 12 epochs: 5, 34, 40, 59, 62, 63, 103, 114, 168, 281, 355, 542\n",
      "Reading /raven/ptmp/fklotzsche/Experiments/vMemEcc/Data2022/DataMNE/EEG/03_preproc/ica/VME_S13-ica.fif ...\n",
      "Now restoring ICA solution ...\n",
      "Ready.\n",
      "Not setting metadata\n",
      "Not setting metadata\n",
      "937 matching events found\n",
      "No baseline correction applied\n",
      "0 projection items activated\n",
      "Loading data for 937 events and 500 original time points ...\n",
      "9 bad epochs dropped\n",
      "Created 154 VEOG epochs.\n",
      "Created 89 HEOG epochs.\n",
      "Using EOG channel: VEOG\n",
      "Using EOG channel: HEOG\n",
      "Applying ICA to Epochs instance\n",
      "    Transforming to ICA space (62 components)\n",
      "    Zeroing out 2 ICA components\n",
      "    Projecting back using 62 PCA components\n",
      "Applying ICA to Epochs instance\n",
      "    Transforming to ICA space (62 components)\n",
      "    Zeroing out 2 ICA components\n",
      "    Projecting back using 62 PCA components\n",
      "Applying ICA to Epochs instance\n",
      "    Transforming to ICA space (62 components)\n",
      "    Zeroing out 2 ICA components\n",
      "    Projecting back using 62 PCA components\n",
      "Opening raw data file /raven/ptmp/fklotzsche/Experiments/vMemEcc/Data2022/DataMNE/EEG/01_prepared/VME_S15-prepared-raw.fif...\n",
      "    Range : 0 ... 4178859 =      0.000 ...  8357.718 secs\n",
      "Ready.\n",
      "Reading 0 ... 4178859  =      0.000 ...  8357.718 secs...\n",
      "Reading /raven/ptmp/fklotzsche/Experiments/vMemEcc/Data2022/DataMNE/EEG/02_epochs/0.01/ica/VME_S15-ica-epo.fif ...\n",
      "    Found the data of interest:\n",
      "        t =    -600.00 ...    2300.00 ms\n",
      "        0 CTF compensation matrices available\n",
      "Not setting metadata\n",
      "Not setting metadata\n",
      "720 matching events found\n",
      "No baseline correction applied\n",
      "0 projection items activated\n",
      "Applying baseline correction (mode: mean)\n"
     ]
    },
    {
     "data": {
      "application/vnd.jupyter.widget-view+json": {
       "model_id": "14d36f6cb16e47f1a0a369cda60f5240",
       "version_major": 2,
       "version_minor": 0
      },
      "text/plain": [
       "  0%|          | Repairing epochs : 0/720 [00:00<?,       ?it/s]"
      ]
     },
     "metadata": {},
     "output_type": "display_data"
    },
    {
     "name": "stdout",
     "output_type": "stream",
     "text": [
      "Dropped 35 epochs: 7, 8, 9, 15, 17, 18, 19, 20, 21, 23, 24, 25, 28, 32, 33, 34, 35, 37, 38, 39, 41, 47, 270, 288, 294, 333, 344, 354, 392, 473, 481, 600, 697, 708, 713\n",
      "Reading /raven/ptmp/fklotzsche/Experiments/vMemEcc/Data2022/DataMNE/EEG/03_preproc/ica/VME_S15-ica.fif ...\n",
      "Now restoring ICA solution ...\n",
      "Ready.\n",
      "Not setting metadata\n",
      "Not setting metadata\n",
      "1117 matching events found\n",
      "No baseline correction applied\n",
      "0 projection items activated\n",
      "Loading data for 1117 events and 500 original time points ...\n",
      "9 bad epochs dropped\n",
      "Created 165 VEOG epochs.\n",
      "Created 73 HEOG epochs.\n",
      "Using EOG channel: VEOG\n",
      "Using EOG channel: HEOG\n",
      "Applying ICA to Epochs instance\n",
      "    Transforming to ICA space (62 components)\n",
      "    Zeroing out 2 ICA components\n",
      "    Projecting back using 62 PCA components\n",
      "Applying ICA to Epochs instance\n",
      "    Transforming to ICA space (62 components)\n",
      "    Zeroing out 2 ICA components\n",
      "    Projecting back using 62 PCA components\n",
      "Applying ICA to Epochs instance\n",
      "    Transforming to ICA space (62 components)\n",
      "    Zeroing out 2 ICA components\n",
      "    Projecting back using 62 PCA components\n",
      "Opening raw data file /raven/ptmp/fklotzsche/Experiments/vMemEcc/Data2022/DataMNE/EEG/01_prepared/VME_S16-prepared-raw.fif...\n",
      "    Range : 0 ... 4049109 =      0.000 ...  8098.218 secs\n",
      "Ready.\n",
      "Reading 0 ... 4049109  =      0.000 ...  8098.218 secs...\n",
      "Reading /raven/ptmp/fklotzsche/Experiments/vMemEcc/Data2022/DataMNE/EEG/02_epochs/0.01/ica/VME_S16-ica-epo.fif ...\n",
      "    Found the data of interest:\n",
      "        t =    -600.00 ...    2300.00 ms\n",
      "        0 CTF compensation matrices available\n",
      "Not setting metadata\n",
      "Not setting metadata\n",
      "720 matching events found\n",
      "No baseline correction applied\n",
      "0 projection items activated\n",
      "Applying baseline correction (mode: mean)\n"
     ]
    },
    {
     "data": {
      "application/vnd.jupyter.widget-view+json": {
       "model_id": "6a3a667c7a6245c483d014b306e159f8",
       "version_major": 2,
       "version_minor": 0
      },
      "text/plain": [
       "  0%|          | Repairing epochs : 0/720 [00:00<?,       ?it/s]"
      ]
     },
     "metadata": {},
     "output_type": "display_data"
    },
    {
     "name": "stdout",
     "output_type": "stream",
     "text": [
      "Dropped 5 epochs: 295, 470, 546, 598, 711\n",
      "Reading /raven/ptmp/fklotzsche/Experiments/vMemEcc/Data2022/DataMNE/EEG/03_preproc/ica/VME_S16-ica.fif ...\n",
      "Now restoring ICA solution ...\n",
      "Ready.\n",
      "Not setting metadata\n",
      "Not setting metadata\n",
      "945 matching events found\n",
      "No baseline correction applied\n",
      "0 projection items activated\n",
      "Loading data for 945 events and 500 original time points ...\n",
      "7 bad epochs dropped\n",
      "Created 45 VEOG epochs.\n",
      "Not really a lot. This might be a problem! Consider marking longer stretches of clean EOG data.\n",
      "########################\n",
      "Created 57 HEOG epochs.\n",
      "Using EOG channel: VEOG\n",
      "Using EOG channel: HEOG\n",
      "Applying ICA to Epochs instance\n",
      "    Transforming to ICA space (62 components)\n",
      "    Zeroing out 2 ICA components\n",
      "    Projecting back using 62 PCA components\n",
      "Applying ICA to Epochs instance\n",
      "    Transforming to ICA space (62 components)\n",
      "    Zeroing out 2 ICA components\n",
      "    Projecting back using 62 PCA components\n",
      "Applying ICA to Epochs instance\n",
      "    Transforming to ICA space (62 components)\n",
      "    Zeroing out 2 ICA components\n",
      "    Projecting back using 62 PCA components\n",
      "Opening raw data file /raven/ptmp/fklotzsche/Experiments/vMemEcc/Data2022/DataMNE/EEG/01_prepared/VME_S17-prepared-raw.fif...\n",
      "    Range : 0 ... 3911599 =      0.000 ...  7823.198 secs\n",
      "Ready.\n",
      "Reading 0 ... 3911599  =      0.000 ...  7823.198 secs...\n",
      "Reading /raven/ptmp/fklotzsche/Experiments/vMemEcc/Data2022/DataMNE/EEG/02_epochs/0.01/ica/VME_S17-ica-epo.fif ...\n",
      "    Found the data of interest:\n",
      "        t =    -600.00 ...    2300.00 ms\n",
      "        0 CTF compensation matrices available\n",
      "Not setting metadata\n",
      "Not setting metadata\n",
      "720 matching events found\n",
      "No baseline correction applied\n",
      "0 projection items activated\n",
      "Applying baseline correction (mode: mean)\n"
     ]
    },
    {
     "data": {
      "application/vnd.jupyter.widget-view+json": {
       "model_id": "19a7c84efc1c401fba26a5ec1c8f4d23",
       "version_major": 2,
       "version_minor": 0
      },
      "text/plain": [
       "  0%|          | Repairing epochs : 0/720 [00:00<?,       ?it/s]"
      ]
     },
     "metadata": {},
     "output_type": "display_data"
    },
    {
     "name": "stdout",
     "output_type": "stream",
     "text": [
      "Dropped 72 epochs: 19, 65, 70, 78, 88, 100, 108, 109, 112, 116, 130, 181, 188, 208, 209, 309, 332, 346, 359, 387, 429, 471, 473, 474, 489, 491, 495, 525, 528, 536, 550, 559, 560, 565, 567, 573, 574, 576, 578, 579, 587, 588, 593, 602, 608, 609, 612, 614, 630, 633, 635, 638, 640, 642, 643, 644, 647, 649, 688, 689, 691, 692, 693, 697, 699, 700, 705, 708, 710, 713, 717, 718\n",
      "Reading /raven/ptmp/fklotzsche/Experiments/vMemEcc/Data2022/DataMNE/EEG/03_preproc/ica/VME_S17-ica.fif ...\n",
      "Now restoring ICA solution ...\n",
      "Ready.\n",
      "Not setting metadata\n",
      "Not setting metadata\n",
      "795 matching events found\n",
      "No baseline correction applied\n",
      "0 projection items activated\n",
      "Loading data for 795 events and 500 original time points ...\n",
      "6 bad epochs dropped\n",
      "Created 205 VEOG epochs.\n",
      "Created 204 HEOG epochs.\n",
      "Using EOG channel: VEOG\n",
      "Using EOG channel: HEOG\n",
      "Applying ICA to Epochs instance\n",
      "    Transforming to ICA space (62 components)\n",
      "    Zeroing out 1 ICA component\n",
      "    Projecting back using 62 PCA components\n",
      "Applying ICA to Epochs instance\n",
      "    Transforming to ICA space (62 components)\n",
      "    Zeroing out 1 ICA component\n",
      "    Projecting back using 62 PCA components\n",
      "Applying ICA to Epochs instance\n",
      "    Transforming to ICA space (62 components)\n",
      "    Zeroing out 1 ICA component\n",
      "    Projecting back using 62 PCA components\n",
      "Opening raw data file /raven/ptmp/fklotzsche/Experiments/vMemEcc/Data2022/DataMNE/EEG/01_prepared/VME_S18-prepared-raw.fif...\n",
      "    Range : 0 ... 3923529 =      0.000 ...  7847.058 secs\n",
      "Ready.\n",
      "Reading 0 ... 3923529  =      0.000 ...  7847.058 secs...\n",
      "Reading /raven/ptmp/fklotzsche/Experiments/vMemEcc/Data2022/DataMNE/EEG/02_epochs/0.01/ica/VME_S18-ica-epo.fif ...\n",
      "    Found the data of interest:\n",
      "        t =    -600.00 ...    2300.00 ms\n",
      "        0 CTF compensation matrices available\n",
      "Not setting metadata\n",
      "Not setting metadata\n",
      "720 matching events found\n",
      "No baseline correction applied\n",
      "0 projection items activated\n",
      "Applying baseline correction (mode: mean)\n"
     ]
    },
    {
     "data": {
      "application/vnd.jupyter.widget-view+json": {
       "model_id": "19adbdc0b6aa40ba89032719d80b68f8",
       "version_major": 2,
       "version_minor": 0
      },
      "text/plain": [
       "  0%|          | Repairing epochs : 0/720 [00:00<?,       ?it/s]"
      ]
     },
     "metadata": {},
     "output_type": "display_data"
    },
    {
     "name": "stdout",
     "output_type": "stream",
     "text": [
      "Dropped 21 epochs: 159, 234, 261, 348, 370, 394, 436, 438, 470, 492, 516, 517, 539, 551, 594, 596, 627, 648, 675, 687, 688\n",
      "Reading /raven/ptmp/fklotzsche/Experiments/vMemEcc/Data2022/DataMNE/EEG/03_preproc/ica/VME_S18-ica.fif ...\n",
      "Now restoring ICA solution ...\n",
      "Ready.\n",
      "Not setting metadata\n",
      "Not setting metadata\n",
      "511 matching events found\n",
      "No baseline correction applied\n",
      "0 projection items activated\n",
      "Loading data for 511 events and 500 original time points ...\n",
      "8 bad epochs dropped\n",
      "Created 53 VEOG epochs.\n",
      "Created 56 HEOG epochs.\n",
      "Using EOG channel: VEOG\n",
      "Using EOG channel: HEOG\n",
      "Applying ICA to Epochs instance\n",
      "    Transforming to ICA space (62 components)\n",
      "    Zeroing out 2 ICA components\n",
      "    Projecting back using 62 PCA components\n",
      "Applying ICA to Epochs instance\n",
      "    Transforming to ICA space (62 components)\n",
      "    Zeroing out 2 ICA components\n",
      "    Projecting back using 62 PCA components\n",
      "Applying ICA to Epochs instance\n",
      "    Transforming to ICA space (62 components)\n",
      "    Zeroing out 2 ICA components\n",
      "    Projecting back using 62 PCA components\n",
      "Opening raw data file /raven/ptmp/fklotzsche/Experiments/vMemEcc/Data2022/DataMNE/EEG/01_prepared/VME_S20-prepared-raw.fif...\n",
      "    Range : 0 ... 4625979 =      0.000 ...  9251.958 secs\n",
      "Ready.\n",
      "Reading 0 ... 4625979  =      0.000 ...  9251.958 secs...\n",
      "Reading /raven/ptmp/fklotzsche/Experiments/vMemEcc/Data2022/DataMNE/EEG/02_epochs/0.01/ica/VME_S20-ica-epo.fif ...\n",
      "    Found the data of interest:\n",
      "        t =    -600.00 ...    2300.00 ms\n",
      "        0 CTF compensation matrices available\n",
      "Not setting metadata\n",
      "Not setting metadata\n",
      "720 matching events found\n",
      "No baseline correction applied\n",
      "0 projection items activated\n",
      "Applying baseline correction (mode: mean)\n"
     ]
    },
    {
     "data": {
      "application/vnd.jupyter.widget-view+json": {
       "model_id": "31b6716f0fcb478091de6a3c9d6cadd4",
       "version_major": 2,
       "version_minor": 0
      },
      "text/plain": [
       "  0%|          | Repairing epochs : 0/720 [00:00<?,       ?it/s]"
      ]
     },
     "metadata": {},
     "output_type": "display_data"
    },
    {
     "name": "stdout",
     "output_type": "stream",
     "text": [
      "Dropped 35 epochs: 93, 259, 266, 287, 310, 318, 328, 332, 358, 440, 494, 500, 501, 502, 521, 524, 542, 543, 547, 548, 550, 551, 555, 563, 566, 593, 606, 622, 630, 636, 691, 707, 715, 716, 718\n",
      "Reading /raven/ptmp/fklotzsche/Experiments/vMemEcc/Data2022/DataMNE/EEG/03_preproc/ica/VME_S20-ica.fif ...\n",
      "Now restoring ICA solution ...\n",
      "Ready.\n",
      "Not setting metadata\n",
      "Not setting metadata\n",
      "839 matching events found\n",
      "No baseline correction applied\n",
      "0 projection items activated\n",
      "Loading data for 839 events and 500 original time points ...\n",
      "7 bad epochs dropped\n",
      "Created 151 VEOG epochs.\n",
      "Created 110 HEOG epochs.\n",
      "Using EOG channel: VEOG\n",
      "Using EOG channel: HEOG\n",
      "Applying ICA to Epochs instance\n",
      "    Transforming to ICA space (62 components)\n",
      "    Zeroing out 1 ICA component\n",
      "    Projecting back using 62 PCA components\n",
      "Applying ICA to Epochs instance\n",
      "    Transforming to ICA space (62 components)\n",
      "    Zeroing out 1 ICA component\n",
      "    Projecting back using 62 PCA components\n",
      "Applying ICA to Epochs instance\n",
      "    Transforming to ICA space (62 components)\n",
      "    Zeroing out 1 ICA component\n",
      "    Projecting back using 62 PCA components\n",
      "Opening raw data file /raven/ptmp/fklotzsche/Experiments/vMemEcc/Data2022/DataMNE/EEG/01_prepared/VME_S21-prepared-raw.fif...\n",
      "    Range : 0 ... 4225729 =      0.000 ...  8451.458 secs\n",
      "Ready.\n",
      "Reading 0 ... 4225729  =      0.000 ...  8451.458 secs...\n",
      "Reading /raven/ptmp/fklotzsche/Experiments/vMemEcc/Data2022/DataMNE/EEG/02_epochs/0.01/ica/VME_S21-ica-epo.fif ...\n",
      "    Found the data of interest:\n",
      "        t =    -600.00 ...    2300.00 ms\n",
      "        0 CTF compensation matrices available\n",
      "Not setting metadata\n",
      "Not setting metadata\n",
      "720 matching events found\n",
      "No baseline correction applied\n",
      "0 projection items activated\n",
      "Applying baseline correction (mode: mean)\n"
     ]
    },
    {
     "data": {
      "application/vnd.jupyter.widget-view+json": {
       "model_id": "bdc1906a6bb54e33987fd4be878a4601",
       "version_major": 2,
       "version_minor": 0
      },
      "text/plain": [
       "  0%|          | Repairing epochs : 0/720 [00:00<?,       ?it/s]"
      ]
     },
     "metadata": {},
     "output_type": "display_data"
    },
    {
     "name": "stdout",
     "output_type": "stream",
     "text": [
      "Dropped 32 epochs: 60, 191, 245, 260, 327, 417, 430, 449, 471, 472, 474, 475, 548, 550, 551, 559, 563, 565, 568, 569, 572, 585, 628, 635, 636, 639, 641, 679, 691, 692, 703, 716\n",
      "Reading /raven/ptmp/fklotzsche/Experiments/vMemEcc/Data2022/DataMNE/EEG/03_preproc/ica/VME_S21-ica.fif ...\n",
      "Now restoring ICA solution ...\n",
      "Ready.\n",
      "Not setting metadata\n",
      "Not setting metadata\n",
      "649 matching events found\n",
      "No baseline correction applied\n",
      "0 projection items activated\n",
      "Loading data for 649 events and 500 original time points ...\n",
      "8 bad epochs dropped\n",
      "Created 135 VEOG epochs.\n",
      "Created 27 HEOG epochs.\n",
      "Not really a lot. This might be a problem! Consider marking longer stretches of clean EOG data.\n",
      "########################\n",
      "Using EOG channel: VEOG\n",
      "Using EOG channel: HEOG\n",
      "Applying ICA to Epochs instance\n",
      "    Transforming to ICA space (62 components)\n",
      "    Zeroing out 1 ICA component\n",
      "    Projecting back using 62 PCA components\n",
      "Applying ICA to Epochs instance\n",
      "    Transforming to ICA space (62 components)\n",
      "    Zeroing out 1 ICA component\n",
      "    Projecting back using 62 PCA components\n",
      "Applying ICA to Epochs instance\n",
      "    Transforming to ICA space (62 components)\n",
      "    Zeroing out 1 ICA component\n",
      "    Projecting back using 62 PCA components\n",
      "Opening raw data file /raven/ptmp/fklotzsche/Experiments/vMemEcc/Data2022/DataMNE/EEG/01_prepared/VME_S22-prepared-raw.fif...\n",
      "    Range : 0 ... 3982209 =      0.000 ...  7964.418 secs\n",
      "Ready.\n",
      "Reading 0 ... 3982209  =      0.000 ...  7964.418 secs...\n",
      "Reading /raven/ptmp/fklotzsche/Experiments/vMemEcc/Data2022/DataMNE/EEG/02_epochs/0.01/ica/VME_S22-ica-epo.fif ...\n",
      "    Found the data of interest:\n",
      "        t =    -600.00 ...    2300.00 ms\n",
      "        0 CTF compensation matrices available\n",
      "Not setting metadata\n",
      "Not setting metadata\n",
      "720 matching events found\n",
      "No baseline correction applied\n",
      "0 projection items activated\n",
      "Applying baseline correction (mode: mean)\n"
     ]
    },
    {
     "data": {
      "application/vnd.jupyter.widget-view+json": {
       "model_id": "e261e800790343cdad9f29920716325e",
       "version_major": 2,
       "version_minor": 0
      },
      "text/plain": [
       "  0%|          | Repairing epochs : 0/720 [00:00<?,       ?it/s]"
      ]
     },
     "metadata": {},
     "output_type": "display_data"
    },
    {
     "name": "stdout",
     "output_type": "stream",
     "text": [
      "Dropped 90 epochs: 31, 40, 47, 48, 51, 55, 65, 106, 114, 140, 141, 160, 163, 168, 175, 184, 189, 195, 199, 205, 207, 208, 215, 237, 239, 246, 250, 256, 260, 263, 266, 269, 270, 271, 283, 284, 304, 305, 309, 319, 323, 329, 330, 332, 333, 341, 342, 346, 349, 355, 356, 357, 359, 388, 390, 402, 405, 407, 412, 443, 452, 459, 461, 471, 480, 484, 503, 527, 533, 534, 536, 538, 542, 543, 550, 558, 563, 566, 567, 572, 574, 614, 617, 623, 629, 634, 640, 641, 643, 646\n",
      "Reading /raven/ptmp/fklotzsche/Experiments/vMemEcc/Data2022/DataMNE/EEG/03_preproc/ica/VME_S22-ica.fif ...\n",
      "Now restoring ICA solution ...\n",
      "Ready.\n",
      "Not setting metadata\n",
      "Not setting metadata\n",
      "224 matching events found\n",
      "No baseline correction applied\n",
      "0 projection items activated\n",
      "Loading data for 224 events and 500 original time points ...\n",
      "3 bad epochs dropped\n",
      "Created 91 VEOG epochs.\n",
      "Created 39 HEOG epochs.\n",
      "Not really a lot. This might be a problem! Consider marking longer stretches of clean EOG data.\n",
      "########################\n",
      "Using EOG channel: VEOG\n",
      "Using EOG channel: HEOG\n",
      "Applying ICA to Epochs instance\n",
      "    Transforming to ICA space (62 components)\n",
      "    Zeroing out 2 ICA components\n",
      "    Projecting back using 62 PCA components\n",
      "Applying ICA to Epochs instance\n",
      "    Transforming to ICA space (62 components)\n",
      "    Zeroing out 2 ICA components\n",
      "    Projecting back using 62 PCA components\n",
      "Applying ICA to Epochs instance\n",
      "    Transforming to ICA space (62 components)\n",
      "    Zeroing out 2 ICA components\n",
      "    Projecting back using 62 PCA components\n",
      "Opening raw data file /raven/ptmp/fklotzsche/Experiments/vMemEcc/Data2022/DataMNE/EEG/01_prepared/VME_S23-prepared-raw.fif...\n",
      "    Range : 0 ... 4833599 =      0.000 ...  9667.198 secs\n",
      "Ready.\n",
      "Reading 0 ... 4833599  =      0.000 ...  9667.198 secs...\n",
      "Reading /raven/ptmp/fklotzsche/Experiments/vMemEcc/Data2022/DataMNE/EEG/02_epochs/0.01/ica/VME_S23-ica-epo.fif ...\n",
      "    Found the data of interest:\n",
      "        t =    -600.00 ...    2300.00 ms\n",
      "        0 CTF compensation matrices available\n",
      "Not setting metadata\n",
      "Not setting metadata\n",
      "720 matching events found\n",
      "No baseline correction applied\n",
      "0 projection items activated\n",
      "Applying baseline correction (mode: mean)\n"
     ]
    },
    {
     "data": {
      "application/vnd.jupyter.widget-view+json": {
       "model_id": "ee574c1358294cf180bb780c61b08d5c",
       "version_major": 2,
       "version_minor": 0
      },
      "text/plain": [
       "  0%|          | Repairing epochs : 0/720 [00:00<?,       ?it/s]"
      ]
     },
     "metadata": {},
     "output_type": "display_data"
    },
    {
     "name": "stdout",
     "output_type": "stream",
     "text": [
      "Dropped 3 epochs: 467, 492, 505\n",
      "Reading /raven/ptmp/fklotzsche/Experiments/vMemEcc/Data2022/DataMNE/EEG/03_preproc/ica/VME_S23-ica.fif ...\n",
      "Now restoring ICA solution ...\n",
      "Ready.\n",
      "Not setting metadata\n",
      "Not setting metadata\n",
      "598 matching events found\n",
      "No baseline correction applied\n",
      "0 projection items activated\n",
      "Loading data for 598 events and 500 original time points ...\n",
      "10 bad epochs dropped\n",
      "Created 102 VEOG epochs.\n",
      "Created 64 HEOG epochs.\n",
      "Using EOG channel: VEOG\n",
      "Using EOG channel: HEOG\n",
      "Applying ICA to Epochs instance\n",
      "    Transforming to ICA space (62 components)\n",
      "    Zeroing out 2 ICA components\n",
      "    Projecting back using 62 PCA components\n",
      "Applying ICA to Epochs instance\n",
      "    Transforming to ICA space (62 components)\n",
      "    Zeroing out 2 ICA components\n",
      "    Projecting back using 62 PCA components\n",
      "Applying ICA to Epochs instance\n",
      "    Transforming to ICA space (62 components)\n",
      "    Zeroing out 2 ICA components\n",
      "    Projecting back using 62 PCA components\n",
      "Opening raw data file /raven/ptmp/fklotzsche/Experiments/vMemEcc/Data2022/DataMNE/EEG/01_prepared/VME_S24-prepared-raw.fif...\n",
      "    Range : 0 ... 4003889 =      0.000 ...  8007.778 secs\n",
      "Ready.\n",
      "Reading 0 ... 4003889  =      0.000 ...  8007.778 secs...\n",
      "Reading /raven/ptmp/fklotzsche/Experiments/vMemEcc/Data2022/DataMNE/EEG/02_epochs/0.01/ica/VME_S24-ica-epo.fif ...\n",
      "    Found the data of interest:\n",
      "        t =    -600.00 ...    2300.00 ms\n",
      "        0 CTF compensation matrices available\n",
      "Not setting metadata\n",
      "Not setting metadata\n",
      "720 matching events found\n",
      "No baseline correction applied\n",
      "0 projection items activated\n",
      "Applying baseline correction (mode: mean)\n"
     ]
    },
    {
     "data": {
      "application/vnd.jupyter.widget-view+json": {
       "model_id": "ff1aaf1448ff490f802e6e1a2a3573fe",
       "version_major": 2,
       "version_minor": 0
      },
      "text/plain": [
       "  0%|          | Repairing epochs : 0/720 [00:00<?,       ?it/s]"
      ]
     },
     "metadata": {},
     "output_type": "display_data"
    },
    {
     "name": "stdout",
     "output_type": "stream",
     "text": [
      "Dropped 10 epochs: 489, 490, 557, 562, 611, 634, 639, 641, 655, 708\n",
      "Reading /raven/ptmp/fklotzsche/Experiments/vMemEcc/Data2022/DataMNE/EEG/03_preproc/ica/VME_S24-ica.fif ...\n",
      "Now restoring ICA solution ...\n",
      "Ready.\n",
      "Not setting metadata\n",
      "Not setting metadata\n",
      "523 matching events found\n",
      "No baseline correction applied\n",
      "0 projection items activated\n",
      "Loading data for 523 events and 500 original time points ...\n",
      "4 bad epochs dropped\n",
      "Created 160 VEOG epochs.\n",
      "Created 77 HEOG epochs.\n",
      "Using EOG channel: VEOG\n",
      "Using EOG channel: HEOG\n",
      "Applying ICA to Epochs instance\n",
      "    Transforming to ICA space (62 components)\n",
      "    Zeroing out 2 ICA components\n",
      "    Projecting back using 62 PCA components\n",
      "Applying ICA to Epochs instance\n",
      "    Transforming to ICA space (62 components)\n",
      "    Zeroing out 2 ICA components\n",
      "    Projecting back using 62 PCA components\n",
      "Applying ICA to Epochs instance\n",
      "    Transforming to ICA space (62 components)\n",
      "    Zeroing out 2 ICA components\n",
      "    Projecting back using 62 PCA components\n",
      "Opening raw data file /raven/ptmp/fklotzsche/Experiments/vMemEcc/Data2022/DataMNE/EEG/01_prepared/VME_S25-prepared-raw.fif...\n",
      "    Range : 0 ... 4223109 =      0.000 ...  8446.218 secs\n",
      "Ready.\n",
      "Reading 0 ... 4223109  =      0.000 ...  8446.218 secs...\n",
      "Reading /raven/ptmp/fklotzsche/Experiments/vMemEcc/Data2022/DataMNE/EEG/02_epochs/0.01/ica/VME_S25-ica-epo.fif ...\n",
      "    Found the data of interest:\n",
      "        t =    -600.00 ...    2300.00 ms\n",
      "        0 CTF compensation matrices available\n",
      "Not setting metadata\n",
      "Not setting metadata\n",
      "720 matching events found\n",
      "No baseline correction applied\n",
      "0 projection items activated\n",
      "Applying baseline correction (mode: mean)\n"
     ]
    },
    {
     "data": {
      "application/vnd.jupyter.widget-view+json": {
       "model_id": "2ed3e45ee4294dde89b2a5b3dbb0c90e",
       "version_major": 2,
       "version_minor": 0
      },
      "text/plain": [
       "  0%|          | Repairing epochs : 0/720 [00:00<?,       ?it/s]"
      ]
     },
     "metadata": {},
     "output_type": "display_data"
    },
    {
     "name": "stdout",
     "output_type": "stream",
     "text": [
      "Dropped 26 epochs: 17, 35, 41, 45, 67, 244, 293, 310, 319, 321, 327, 343, 345, 348, 354, 362, 413, 424, 455, 476, 545, 560, 562, 607, 679, 690\n",
      "Reading /raven/ptmp/fklotzsche/Experiments/vMemEcc/Data2022/DataMNE/EEG/03_preproc/ica/VME_S25-ica.fif ...\n",
      "Now restoring ICA solution ...\n",
      "Ready.\n",
      "Not setting metadata\n",
      "Not setting metadata\n",
      "425 matching events found\n",
      "No baseline correction applied\n",
      "0 projection items activated\n",
      "Loading data for 425 events and 500 original time points ...\n",
      "7 bad epochs dropped\n",
      "Created 113 VEOG epochs.\n",
      "Created 11 HEOG epochs.\n",
      "Not really a lot. This might be a problem! Consider marking longer stretches of clean EOG data.\n",
      "########################\n",
      "Using EOG channel: VEOG\n",
      "Using EOG channel: HEOG\n",
      "Applying ICA to Epochs instance\n",
      "    Transforming to ICA space (62 components)\n",
      "    Zeroing out 2 ICA components\n",
      "    Projecting back using 62 PCA components\n",
      "Applying ICA to Epochs instance\n",
      "    Transforming to ICA space (62 components)\n",
      "    Zeroing out 2 ICA components\n",
      "    Projecting back using 62 PCA components\n",
      "Applying ICA to Epochs instance\n",
      "    Transforming to ICA space (62 components)\n",
      "    Zeroing out 2 ICA components\n",
      "    Projecting back using 62 PCA components\n",
      "Opening raw data file /raven/ptmp/fklotzsche/Experiments/vMemEcc/Data2022/DataMNE/EEG/01_prepared/VME_S26-prepared-raw.fif...\n",
      "    Range : 0 ... 4037809 =      0.000 ...  8075.618 secs\n",
      "Ready.\n",
      "Reading 0 ... 4037809  =      0.000 ...  8075.618 secs...\n",
      "Reading /raven/ptmp/fklotzsche/Experiments/vMemEcc/Data2022/DataMNE/EEG/02_epochs/0.01/ica/VME_S26-ica-epo.fif ...\n",
      "    Found the data of interest:\n",
      "        t =    -600.00 ...    2300.00 ms\n",
      "        0 CTF compensation matrices available\n",
      "Not setting metadata\n",
      "Not setting metadata\n",
      "720 matching events found\n",
      "No baseline correction applied\n",
      "0 projection items activated\n",
      "Applying baseline correction (mode: mean)\n"
     ]
    },
    {
     "data": {
      "application/vnd.jupyter.widget-view+json": {
       "model_id": "335e294ecc7047e0827f2ed7e7f4c176",
       "version_major": 2,
       "version_minor": 0
      },
      "text/plain": [
       "  0%|          | Repairing epochs : 0/720 [00:00<?,       ?it/s]"
      ]
     },
     "metadata": {},
     "output_type": "display_data"
    },
    {
     "name": "stdout",
     "output_type": "stream",
     "text": [
      "Dropped 8 epochs: 119, 138, 140, 212, 255, 485, 702, 704\n",
      "Reading /raven/ptmp/fklotzsche/Experiments/vMemEcc/Data2022/DataMNE/EEG/03_preproc/ica/VME_S26-ica.fif ...\n",
      "Now restoring ICA solution ...\n",
      "Ready.\n",
      "Not setting metadata\n",
      "Not setting metadata\n",
      "906 matching events found\n",
      "No baseline correction applied\n",
      "0 projection items activated\n",
      "Loading data for 906 events and 500 original time points ...\n",
      "11 bad epochs dropped\n",
      "Created 93 VEOG epochs.\n",
      "Created 59 HEOG epochs.\n",
      "Using EOG channel: VEOG\n",
      "Using EOG channel: HEOG\n",
      "Applying ICA to Epochs instance\n",
      "    Transforming to ICA space (62 components)\n",
      "    Zeroing out 2 ICA components\n",
      "    Projecting back using 62 PCA components\n",
      "Applying ICA to Epochs instance\n",
      "    Transforming to ICA space (62 components)\n",
      "    Zeroing out 2 ICA components\n",
      "    Projecting back using 62 PCA components\n",
      "Applying ICA to Epochs instance\n",
      "    Transforming to ICA space (62 components)\n",
      "    Zeroing out 2 ICA components\n",
      "    Projecting back using 62 PCA components\n",
      "Opening raw data file /raven/ptmp/fklotzsche/Experiments/vMemEcc/Data2022/DataMNE/EEG/01_prepared/VME_S27-prepared-raw.fif...\n",
      "    Range : 0 ... 4289279 =      0.000 ...  8578.558 secs\n",
      "Ready.\n",
      "Reading 0 ... 4289279  =      0.000 ...  8578.558 secs...\n",
      "Reading /raven/ptmp/fklotzsche/Experiments/vMemEcc/Data2022/DataMNE/EEG/02_epochs/0.01/ica/VME_S27-ica-epo.fif ...\n",
      "    Found the data of interest:\n",
      "        t =    -600.00 ...    2300.00 ms\n",
      "        0 CTF compensation matrices available\n",
      "Not setting metadata\n",
      "Not setting metadata\n",
      "720 matching events found\n",
      "No baseline correction applied\n",
      "0 projection items activated\n",
      "Applying baseline correction (mode: mean)\n"
     ]
    },
    {
     "data": {
      "application/vnd.jupyter.widget-view+json": {
       "model_id": "34acc947ac1c46b499f2e95c677b8e56",
       "version_major": 2,
       "version_minor": 0
      },
      "text/plain": [
       "  0%|          | Repairing epochs : 0/720 [00:00<?,       ?it/s]"
      ]
     },
     "metadata": {},
     "output_type": "display_data"
    },
    {
     "name": "stdout",
     "output_type": "stream",
     "text": [
      "Dropped 37 epochs: 5, 7, 8, 14, 45, 51, 54, 59, 61, 62, 63, 66, 86, 141, 161, 208, 248, 262, 285, 328, 333, 353, 376, 406, 424, 431, 451, 456, 492, 498, 546, 573, 600, 642, 646, 696, 699\n",
      "Reading /raven/ptmp/fklotzsche/Experiments/vMemEcc/Data2022/DataMNE/EEG/03_preproc/ica/VME_S27-ica.fif ...\n",
      "Now restoring ICA solution ...\n",
      "Ready.\n",
      "Not setting metadata\n",
      "Not setting metadata\n",
      "710 matching events found\n",
      "No baseline correction applied\n",
      "0 projection items activated\n",
      "Loading data for 710 events and 500 original time points ...\n",
      "6 bad epochs dropped\n",
      "Created 139 VEOG epochs.\n",
      "Created 20 HEOG epochs.\n",
      "Not really a lot. This might be a problem! Consider marking longer stretches of clean EOG data.\n",
      "########################\n",
      "Using EOG channel: VEOG\n",
      "Using EOG channel: HEOG\n",
      "Applying ICA to Epochs instance\n",
      "    Transforming to ICA space (62 components)\n",
      "    Zeroing out 2 ICA components\n",
      "    Projecting back using 62 PCA components\n",
      "Applying ICA to Epochs instance\n",
      "    Transforming to ICA space (62 components)\n",
      "    Zeroing out 2 ICA components\n",
      "    Projecting back using 62 PCA components\n",
      "Applying ICA to Epochs instance\n",
      "    Transforming to ICA space (62 components)\n",
      "    Zeroing out 2 ICA components\n",
      "    Projecting back using 62 PCA components\n"
     ]
    }
   ],
   "source": [
    "# Loop over all subjects:\n",
    "sub_list = np.setdiff1d(np.arange(1,config.n_subjects_total+1), config.ids_missing_subjects)\n",
    "sub_list_str = ['VME_S%02d' % sub for sub in sub_list]\n",
    "\n",
    "## to run a single subject, modify and uncomment one of the following lines:\n",
    "# sub_list_str = ['VME_S27']\n",
    "\n",
    "for subID in sub_list_str:\n",
    "    data_raw = helpers.load_data(subID + '-prepared',\n",
    "                                        config.paths['01_prepared'],\n",
    "                                        append='-raw').load_data()\n",
    "    data_forICA = helpers.load_data(subID + '-ica',\n",
    "                                        op.join(config.paths['02_epochs'], '0.01', 'ica'),\n",
    "                                        append='-epo')\n",
    "\n",
    "    # clean it with autoreject local to remove bad epochs for better ICA fit:\n",
    "    data_forAR = data_forICA.copy().apply_baseline((-config.times_dict['bl_dur_erp'],0)) # AR does not perform well on non-baseline corrected data\n",
    "\n",
    "    _, ar, reject_log = preprocess.clean_with_ar_local(subID,\n",
    "                                                       data_forAR,\n",
    "                                                       ar_from_disc=True,\n",
    "                                                       save_to_disc=False,\n",
    "                                                       ar_path=config.paths['03_preproc-ica-ar'])\n",
    "\n",
    "    # Get ICA weights\n",
    "    ica = preprocess.get_ica_weights(subID,\n",
    "                                      data_forICA[~reject_log.bad_epochs],\n",
    "                                      picks=None,\n",
    "                                      reject=None,\n",
    "                                      method='picard',\n",
    "                                      fit_params=None,\n",
    "                                      ica_from_disc=True,\n",
    "                                      save_to_disc=False,\n",
    "                                      ica_path=config.paths['03_preproc-ica'])\n",
    "\n",
    "    # Calculate EOG epochs from clean stretches of data:\n",
    "    epochs_veog, epochs_heog = get_eog_epochs_clean(data_raw,\n",
    "                                                    eogannot_from_disc=True,\n",
    "                                                    save_eogannot_to_disc=False,\n",
    "                                                    eogannot_path=config.paths['03_preproc-ica-eog'])\n",
    "\n",
    "    # Reject ICA components with high correlations with V/HEOG channel\n",
    "    threshold = 0.9\n",
    "    indices_veog, scores_veog = ica.find_bads_eog(epochs_veog,\n",
    "                                                  ch_name='VEOG',\n",
    "                                                  measure='correlation',\n",
    "                                                  threshold=threshold)\n",
    "\n",
    "    indices_heog, scores_heog = ica.find_bads_eog(epochs_heog,\n",
    "                                                  ch_name='HEOG',\n",
    "                                                  measure='correlation',\n",
    "                                                  threshold=threshold)\n",
    "    \n",
    "#     ica.plot_scores([scores_veog, scores_heog],\n",
    "#                     labels=['VEOG', 'HEOG'],\n",
    "#                     exclude=indices_veog + indices_heog)\n",
    "\n",
    "    exclude = list(np.unique(indices_veog + indices_heog))\n",
    "    ica.exclude = exclude\n",
    "\n",
    "#    fig = ica.plot_components(range(25), inst=data_forICA)\n",
    "#    plt.show(block = True)\n",
    "\n",
    "    # kick out components from data to clean and save those to disc:\n",
    "    for epo_part in ['cue', 'fulllength', 'stimon']:\n",
    "\n",
    "        data_pre = helpers.load_data(f'{subID}-{epo_part}',\n",
    "                                     op.join(config.paths['02_epochs'], '0.1', epo_part),\n",
    "                                     append='-epo',\n",
    "                                     verbose=False)\n",
    "\n",
    "        data_post = ica.apply(data_pre.copy())\n",
    "\n",
    "        helpers.save_data(data_post,\n",
    "                          f'{subID}-{epo_part}-postICA',\n",
    "                          op.join(config.paths['03_preproc-ica'], 'cleaneddata', '0.1', epo_part),\n",
    "                          append='-epo')\n",
    "        \n",
    "#     evo = data_post.copy().average().apply_baseline((-config.times_dict['bl_dur_erp'], 0))\n",
    "#     evo.plot()\n",
    "#     data_post.plot_psd()\n",
    "#     vis_compare_ica(data_pre, data_post, show_data_before=True, block=True)"
   ]
  },
  {
   "cell_type": "code",
   "execution_count": 21,
   "id": "81be4bb4",
   "metadata": {},
   "outputs": [],
   "source": [
    "post = ica.apply(data_forAR.copy()).crop(-config.times_dict['bl_dur_erp'],0)"
   ]
  },
  {
   "cell_type": "code",
   "execution_count": 22,
   "id": "348e0f88",
   "metadata": {},
   "outputs": [],
   "source": [
    "pre = ica.apply(data_forICA).apply_baseline((-config.times_dict['bl_dur_erp'],0)).crop(-config.times_dict['bl_dur_erp'],0)"
   ]
  },
  {
   "cell_type": "code",
   "execution_count": 23,
   "id": "564d9e45",
   "metadata": {},
   "outputs": [],
   "source": [
    "dpre=pre.get_data()\n",
    "dpost=post.get_data()"
   ]
  },
  {
   "cell_type": "code",
   "execution_count": 19,
   "id": "b67b414e",
   "metadata": {},
   "outputs": [
    {
     "data": {
      "text/plain": [
       "array([8.30640721e-06, 8.83950717e-06, 9.62470637e-06, 1.04978965e-05,\n",
       "       1.12398910e-05, 1.16156048e-05, 1.14184277e-05, 1.05187763e-05,\n",
       "       8.90102502e-06, 6.68616894e-06])"
      ]
     },
     "execution_count": 19,
     "metadata": {},
     "output_type": "execute_result"
    }
   ],
   "source": [
    "dpre[0,0,:10]\n"
   ]
  },
  {
   "cell_type": "code",
   "execution_count": 20,
   "id": "eb6ddbb3",
   "metadata": {},
   "outputs": [
    {
     "data": {
      "text/plain": [
       "array([2.58067086e-06, 3.11377082e-06, 3.89897001e-06, 4.77216016e-06,\n",
       "       5.51415463e-06, 5.88986845e-06, 5.69269132e-06, 4.79303997e-06,\n",
       "       3.17528866e-06, 9.60432589e-07])"
      ]
     },
     "execution_count": 20,
     "metadata": {},
     "output_type": "execute_result"
    }
   ],
   "source": [
    "dpost[0,0,:10]"
   ]
  },
  {
   "cell_type": "code",
   "execution_count": 32,
   "id": "263e3e8d",
   "metadata": {},
   "outputs": [
    {
     "data": {
      "text/plain": [
       "64"
      ]
     },
     "execution_count": 32,
     "metadata": {},
     "output_type": "execute_result"
    }
   ],
   "source": [
    "np.argmin(np.mean(np.mean(dpre,axis=2),axis=0))"
   ]
  },
  {
   "cell_type": "code",
   "execution_count": 33,
   "id": "1bf6e280",
   "metadata": {},
   "outputs": [
    {
     "data": {
      "text/plain": [
       "'ECG'"
      ]
     },
     "execution_count": 33,
     "metadata": {},
     "output_type": "execute_result"
    }
   ],
   "source": [
    "pre.ch_names[64]"
   ]
  },
  {
   "cell_type": "code",
   "execution_count": null,
   "id": "fa67fbf4",
   "metadata": {},
   "outputs": [],
   "source": []
  }
 ],
 "metadata": {
  "kernelspec": {
   "display_name": "mne",
   "language": "python",
   "name": "mne"
  },
  "language_info": {
   "codemirror_mode": {
    "name": "ipython",
    "version": 3
   },
   "file_extension": ".py",
   "mimetype": "text/x-python",
   "name": "python",
   "nbconvert_exporter": "python",
   "pygments_lexer": "ipython3",
   "version": "3.9.9"
  }
 },
 "nbformat": 4,
 "nbformat_minor": 5
}
