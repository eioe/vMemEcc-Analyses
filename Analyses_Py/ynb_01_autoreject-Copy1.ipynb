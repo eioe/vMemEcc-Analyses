{
 "cells": [
  {
   "cell_type": "code",
   "execution_count": 1,
   "metadata": {},
   "outputs": [],
   "source": [
    "\n",
    "import os\n",
    "import os.path as op\n",
    "import numpy as np\n",
    "import csv\n",
    "import mne\n",
    "import autoreject\n",
    "import tqdm\n",
    "from pathlib import Path\n",
    "from library import helpers\n",
    "from datetime import datetime\n",
    "\n",
    "# define subject:\n",
    "subsub_list = ['VME_S10', 'VME_S13', 'VME_S16', 'VME_S22']\n",
    "\n",
    "# set paths:\n",
    "path_study = Path(os.getcwd()).parents[1] #str(Path(__file__).parents[2])\n",
    "# note: returns Path object >> cast for string\n",
    "\n",
    "#TODO: give reasonable names\n",
    "path_data = os.path.join(path_study, 'Data')\n",
    "path_inp = os.path.join(path_data, 'DataMNE', 'EEG', '00_raw')\n",
    "path_outp_ev = op.join(path_data, 'DataMNE', 'EEG', '01_events')\n",
    "path_prep_epo = op.join(path_data, 'DataMNE', 'EEG', '04_epo')\n",
    "path_outp_filt = op.join(path_data, 'DataMNE', 'EEG', '03_filt')\n",
    "path_outp_rejepo = op.join(path_data, 'DataMNE', 'EEG', '05.1_rejepo')\n",
    "path_outp_rejepo_summaries = op.join(path_data, 'DataMNE', 'EEG', '05.1_rejepo', 'summaries')\n",
    "path_outp_ICA = op.join(path_data, 'DataMNE', 'EEG', '05.2_ICA')\n",
    "path_outp_rejICA = op.join(path_data, 'DataMNE', 'EEG', '05.3_rejICA')\n",
    "\n",
    "\n"
   ]
  },
  {
   "cell_type": "code",
   "execution_count": 2,
   "metadata": {},
   "outputs": [
    {
     "name": "stdout",
     "output_type": "stream",
     "text": [
      "Reading /draco/ptmp/fklotzsche/Experiments/vMemEcc/Data/DataMNE/EEG/04_epo/VME_S01-forica-epo.fif ...\n",
      "    Found the data of interest:\n",
      "        t =   -1800.00 ...    2200.00 ms\n",
      "        0 CTF compensation matrices available\n",
      "720 matching events found\n",
      "No baseline correction applied\n",
      "Not setting metadata\n",
      "0 projection items activated\n"
     ]
    },
    {
     "data": {
      "text/plain": [
       "<EpochsFIF  |   720 events (all good), -1.8 - 2.2 sec, baseline off, ~692.6 MB, data loaded,\n",
       " 'Stimulus/S150': 30\n",
       " 'Stimulus/S151': 30\n",
       " 'Stimulus/S152': 30\n",
       " 'Stimulus/S153': 30\n",
       " 'Stimulus/S154': 30\n",
       " 'Stimulus/S155': 30\n",
       " 'Stimulus/S156': 30\n",
       " 'Stimulus/S157': 30\n",
       " 'Stimulus/S158': 30\n",
       " 'Stimulus/S159': 30\n",
       " 'Stimulus/S160': 30\n",
       " 'Stimulus/S161': 30\n",
       " 'Stimulus/S162': 30\n",
       " 'Stimulus/S163': 30\n",
       " 'Stimulus/S164': 30\n",
       " 'Stimulus/S165': 30\n",
       " 'Stimulus/S166': 30\n",
       " 'Stimulus/S167': 30\n",
       " 'Stimulus/S168': 30\n",
       " 'Stimulus/S169': 30\n",
       " 'Stimulus/S170': 30\n",
       " 'Stimulus/S171': 30\n",
       " 'Stimulus/S172': 30\n",
       " 'Stimulus/S173': 30>"
      ]
     },
     "execution_count": 2,
     "metadata": {},
     "output_type": "execute_result"
    }
   ],
   "source": [
    "subsub = 'VME_S01'\n",
    "data_forica = mne.read_epochs(fname=op.join(path_prep_epo, subsub + '-forica-epo.fif'))\n",
    "dat = data_forica.copy()\n",
    "dat.drop_channels(['LO1', 'LO2', 'IO1', 'IO2'])"
   ]
  },
  {
   "cell_type": "code",
   "execution_count": null,
   "metadata": {},
   "outputs": [
    {
     "name": "stdout",
     "output_type": "stream",
     "text": [
      "Running autoreject on ch_type=eeg\n"
     ]
    },
    {
     "name": "stderr",
     "output_type": "stream",
     "text": [
      "\n",
      "Creating augmented epochs:   0%|          | 0/60 [00:00<?, ?it/s]\u001b[A\n",
      "Creating augmented epochs:   2%|▏         | 1/60 [00:00<00:26,  2.21it/s]\u001b[A\n",
      "Creating augmented epochs:   3%|▎         | 2/60 [00:00<00:26,  2.21it/s]\u001b[A\n",
      "Creating augmented epochs:   5%|▌         | 3/60 [00:01<00:25,  2.21it/s]\u001b[A\n",
      "Creating augmented epochs:   7%|▋         | 4/60 [00:01<00:25,  2.21it/s]\u001b[A\n",
      "Creating augmented epochs:   8%|▊         | 5/60 [00:02<00:24,  2.25it/s]\u001b[A\n",
      "Creating augmented epochs:  10%|█         | 6/60 [00:02<00:24,  2.25it/s]\u001b[A\n",
      "Creating augmented epochs:  12%|█▏        | 7/60 [00:03<00:23,  2.23it/s]\u001b[A\n",
      "Creating augmented epochs:  13%|█▎        | 8/60 [00:03<00:23,  2.22it/s]\u001b[A\n",
      "Creating augmented epochs:  15%|█▌        | 9/60 [00:04<00:24,  2.07it/s]\u001b[A\n",
      "Creating augmented epochs:  17%|█▋        | 10/60 [00:04<00:25,  1.97it/s]\u001b[A\n",
      "Creating augmented epochs:  18%|█▊        | 11/60 [00:05<00:24,  2.03it/s]\u001b[A\n",
      "Creating augmented epochs:  20%|██        | 12/60 [00:05<00:23,  2.08it/s]\u001b[A\n",
      "Creating augmented epochs:  22%|██▏       | 13/60 [00:06<00:22,  2.10it/s]\u001b[A\n",
      "Creating augmented epochs:  23%|██▎       | 14/60 [00:06<00:21,  2.13it/s]\u001b[A\n",
      "Creating augmented epochs:  25%|██▌       | 15/60 [00:06<00:20,  2.18it/s]\u001b[A\n",
      "Creating augmented epochs:  27%|██▋       | 16/60 [00:07<00:19,  2.23it/s]\u001b[A\n",
      "Creating augmented epochs:  28%|██▊       | 17/60 [00:07<00:19,  2.26it/s]\u001b[A\n",
      "Creating augmented epochs:  30%|███       | 18/60 [00:08<00:18,  2.28it/s]\u001b[A\n",
      "Creating augmented epochs:  32%|███▏      | 19/60 [00:08<00:17,  2.30it/s]\u001b[A\n",
      "Creating augmented epochs:  33%|███▎      | 20/60 [00:09<00:17,  2.31it/s]\u001b[A\n",
      "Creating augmented epochs:  35%|███▌      | 21/60 [00:09<00:16,  2.32it/s]\u001b[A\n",
      "Creating augmented epochs:  37%|███▋      | 22/60 [00:09<00:16,  2.29it/s]\u001b[A\n",
      "Creating augmented epochs:  38%|███▊      | 23/60 [00:10<00:16,  2.26it/s]\u001b[A\n",
      "Creating augmented epochs:  40%|████      | 24/60 [00:10<00:16,  2.24it/s]\u001b[A\n",
      "Creating augmented epochs:  42%|████▏     | 25/60 [00:11<00:15,  2.23it/s]\u001b[A\n",
      "Creating augmented epochs:  43%|████▎     | 26/60 [00:11<00:15,  2.22it/s]\u001b[A\n",
      "Creating augmented epochs:  45%|████▌     | 27/60 [00:12<00:14,  2.21it/s]\u001b[A\n",
      "Creating augmented epochs:  47%|████▋     | 28/60 [00:12<00:14,  2.21it/s]\u001b[A\n",
      "Creating augmented epochs:  48%|████▊     | 29/60 [00:13<00:14,  2.20it/s]\u001b[A\n",
      "Creating augmented epochs:  50%|█████     | 30/60 [00:13<00:13,  2.20it/s]\u001b[A\n",
      "Creating augmented epochs:  52%|█████▏    | 31/60 [00:14<00:13,  2.20it/s]\u001b[A\n",
      "Creating augmented epochs:  53%|█████▎    | 32/60 [00:14<00:12,  2.19it/s]\u001b[A\n",
      "Creating augmented epochs:  55%|█████▌    | 33/60 [00:15<00:13,  2.04it/s]\u001b[A\n",
      "Creating augmented epochs:  57%|█████▋    | 34/60 [00:15<00:12,  2.08it/s]\u001b[A\n",
      "Creating augmented epochs:  58%|█████▊    | 35/60 [00:16<00:11,  2.11it/s]\u001b[A\n",
      "Creating augmented epochs:  60%|██████    | 36/60 [00:16<00:11,  2.13it/s]\u001b[A\n",
      "Creating augmented epochs:  62%|██████▏   | 37/60 [00:16<00:10,  2.14it/s]\u001b[A\n",
      "Creating augmented epochs:  63%|██████▎   | 38/60 [00:17<00:10,  2.16it/s]\u001b[A\n",
      "Creating augmented epochs:  65%|██████▌   | 39/60 [00:17<00:09,  2.17it/s]\u001b[A\n",
      "Creating augmented epochs:  67%|██████▋   | 40/60 [00:18<00:09,  2.18it/s]\u001b[A\n",
      "Creating augmented epochs:  68%|██████▊   | 41/60 [00:18<00:08,  2.18it/s]\u001b[A\n",
      "Creating augmented epochs:  70%|███████   | 42/60 [00:19<00:08,  2.18it/s]\u001b[A\n",
      "Creating augmented epochs:  72%|███████▏  | 43/60 [00:19<00:07,  2.18it/s]\u001b[A\n",
      "Creating augmented epochs:  73%|███████▎  | 44/60 [00:20<00:07,  2.18it/s]\u001b[A\n",
      "Creating augmented epochs:  75%|███████▌  | 45/60 [00:20<00:06,  2.19it/s]\u001b[A\n",
      "Creating augmented epochs:  77%|███████▋  | 46/60 [00:21<00:06,  2.05it/s]\u001b[A\n",
      "Creating augmented epochs:  78%|███████▊  | 47/60 [00:21<00:06,  1.98it/s]\u001b[A\n",
      "Creating augmented epochs:  80%|████████  | 48/60 [00:22<00:05,  2.03it/s]\u001b[A\n",
      "Creating augmented epochs:  82%|████████▏ | 49/60 [00:22<00:05,  2.08it/s]\u001b[A\n",
      "Creating augmented epochs:  83%|████████▎ | 50/60 [00:23<00:04,  2.12it/s]\u001b[A\n",
      "Creating augmented epochs:  85%|████████▌ | 51/60 [00:23<00:04,  2.14it/s]\u001b[A\n",
      "Creating augmented epochs:  87%|████████▋ | 52/60 [00:24<00:03,  2.16it/s]\u001b[A\n",
      "Creating augmented epochs:  88%|████████▊ | 53/60 [00:24<00:03,  2.17it/s]\u001b[A\n",
      "Creating augmented epochs:  90%|█████████ | 54/60 [00:24<00:02,  2.18it/s]\u001b[A\n",
      "Creating augmented epochs:  92%|█████████▏| 55/60 [00:25<00:02,  2.19it/s]\u001b[A\n",
      "Creating augmented epochs:  93%|█████████▎| 56/60 [00:25<00:01,  2.20it/s]\u001b[A\n",
      "Creating augmented epochs:  95%|█████████▌| 57/60 [00:26<00:01,  2.20it/s]\u001b[A\n",
      "Creating augmented epochs:  97%|█████████▋| 58/60 [00:26<00:00,  2.20it/s]\u001b[A\n",
      "Creating augmented epochs:  98%|█████████▊| 59/60 [00:27<00:00,  2.20it/s]\u001b[A\n",
      "Creating augmented epochs: 100%|██████████| 60/60 [00:27<00:00,  2.22it/s]\u001b[A\n",
      "Computing thresholds ...:   0%|          | 0/60 [00:00<?, ?it/s]\u001b[A\n",
      "Computing thresholds ...:   2%|▏         | 1/60 [00:00<00:44,  1.32it/s]\u001b[A\n",
      "Computing thresholds ...:  53%|█████▎    | 32/60 [00:32<00:23,  1.19it/s]\u001b[A\n",
      "Computing thresholds ...:  55%|█████▌    | 33/60 [00:52<02:52,  6.39s/it]\u001b[A\n",
      "Computing thresholds ...:  57%|█████▋    | 34/60 [01:22<05:51, 13.51s/it]\u001b[A\n",
      "Computing thresholds ...:  58%|█████▊    | 35/60 [01:39<06:07, 14.68s/it]\u001b[A\n",
      "Computing thresholds ...:  60%|██████    | 36/60 [01:46<04:56, 12.35s/it]\u001b[A\n",
      "Computing thresholds ...:  62%|██████▏   | 37/60 [01:46<03:20,  8.72s/it]\u001b[A\n",
      "Computing thresholds ...:  63%|██████▎   | 38/60 [01:55<03:08,  8.58s/it]\u001b[A\n",
      "Computing thresholds ...:  65%|██████▌   | 39/60 [01:55<02:10,  6.23s/it]\u001b[A\n",
      "Computing thresholds ...:  67%|██████▋   | 40/60 [02:25<04:24, 13.22s/it]\u001b[A\n",
      "Computing thresholds ...:  68%|██████▊   | 41/60 [02:33<03:40, 11.62s/it]\u001b[A\n",
      "Computing thresholds ...:  70%|███████   | 42/60 [02:38<02:55,  9.75s/it]\u001b[A\n",
      "Computing thresholds ...:  72%|███████▏  | 43/60 [03:04<04:08, 14.63s/it]\u001b[A\n",
      "Computing thresholds ...:  73%|███████▎  | 44/60 [03:11<03:14, 12.18s/it]\u001b[A\n",
      "Computing thresholds ...:  75%|███████▌  | 45/60 [03:19<02:44, 11.00s/it]\u001b[A\n",
      "Computing thresholds ...:  77%|███████▋  | 46/60 [03:23<02:05,  8.97s/it]\u001b[A\n",
      "Computing thresholds ...:  78%|███████▊  | 47/60 [03:30<01:46,  8.20s/it]\u001b[A"
     ]
    }
   ],
   "source": [
    "from autoreject import AutoReject \n",
    "ar = AutoReject(verbose ='tqdm', n_jobs = 16)\n",
    "epochs_clean = ar.fit_transform(dat)  "
   ]
  },
  {
   "cell_type": "code",
   "execution_count": null,
   "metadata": {},
   "outputs": [],
   "source": [
    "2+2"
   ]
  }
 ],
 "metadata": {
  "kernelspec": {
   "display_name": "Python 3",
   "language": "python",
   "name": "python3"
  },
  "language_info": {
   "codemirror_mode": {
    "name": "ipython",
    "version": 3
   },
   "file_extension": ".py",
   "mimetype": "text/x-python",
   "name": "python",
   "nbconvert_exporter": "python",
   "pygments_lexer": "ipython3",
   "version": "3.7.3"
  }
 },
 "nbformat": 4,
 "nbformat_minor": 2
}
