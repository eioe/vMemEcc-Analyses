{
 "cells": [
  {
   "cell_type": "code",
   "execution_count": 5,
   "metadata": {},
   "outputs": [],
   "source": [
    "# import os\n",
    "import os.path as op\n",
    "from pathlib import Path\n",
    "import numpy as np\n",
    "from collections import defaultdict\n",
    "# import matplotlib\n",
    "from matplotlib import pyplot as plt\n",
    "from matplotlib.offsetbox import AnchoredText\n",
    "import mne\n",
    "\n",
    "from scipy import stats\n",
    "from mne.stats import permutation_cluster_1samp_test\n",
    "\n",
    "from library import helpers, config\n"
   ]
  },
  {
   "cell_type": "code",
   "execution_count": 3,
   "metadata": {},
   "outputs": [],
   "source": [
    "\n",
    "def get_evokeds_dict(epo_part, sub_list,  plt_dict):\n",
    "    evokeds = defaultdict(list)\n",
    "    for sub in sub_list:  \n",
    "        subID = 'VME_S%02d' % sub\n",
    "        fname = op.join(config.path_epos_sorted, epo_part,\n",
    "                        'difference', subID + '-epo.fif')\n",
    "        epos = mne.read_epochs(fname, verbose=False)\n",
    "        epos.pick_channels(config.chans_CDA_dict['Left'])\n",
    "        epos.crop(plt_dict[epo_part]['xmin'], plt_dict[epo_part]['xmax'])\n",
    "        event_dict = helpers.get_event_dict(epos.event_id)\n",
    "        for load in ['LoadLow', 'LoadHigh']:\n",
    "            evoked_load = epos[event_dict[load]].copy().average()   \n",
    "            evokeds[load].append(evoked_load)\n",
    "            for ecc in ['EccS', 'EccM', 'EccL']:\n",
    "                if load == 'LoadLow':  # we don't want to do this twice\n",
    "                    evoked_ecc = epos[event_dict[ecc]].copy().average()  \n",
    "                    evokeds[ecc].append(evoked_ecc)\n",
    "                # Interaction:\n",
    "                evoked_interac = epos[event_dict[load]][event_dict[ecc]].copy()\n",
    "                evoked_interac = evoked_interac.average()\n",
    "                evokeds[load+ecc].append(evoked_interac)\n",
    "        evokeds['all'].append(epos.copy().average())\n",
    "    return(evokeds)\n",
    "\n",
    "\n",
    "def plot_main_cda(ax, evokeds):\n",
    "    # Plot main curve CDA:\n",
    "    label_dict = dict()\n",
    "    label_dict['CDA: Contra - Ipsi'] = evokeds['all']\n",
    "\n",
    "    res = mne.viz.plot_compare_evokeds(label_dict, \n",
    "                                combine='mean', \n",
    "                                #colors = {k: config.colors[k] for k in plt_dict.keys()},\n",
    "                                vlines=[0, 0.2, 2.2],\n",
    "                                ci=True,\n",
    "                                ylim=dict(eeg=[-1.5,1.5]),\n",
    "                                title=None, \n",
    "                                axes = ax, \n",
    "                                show = False, \n",
    "                                truncate_yaxis=False, \n",
    "                                truncate_xaxis=False\n",
    "                                )\n",
    "\n",
    "    ax.legend(loc=1, prop={'size': 9})\n",
    "    ax.axvspan(0, 0.2, color='grey', alpha=0.3)\n",
    "    ax.axvspan(2.2, 2.3, color='grey', alpha=0.3)\n",
    "    ax.set_aspect(0.25)\n",
    "    ax.set_title('')\n",
    "    ax.xaxis.label.set_size(9)\n",
    "    ax.yaxis.label.set_size(9)\n",
    "    plt.xticks(fontsize=9)\n",
    "    #ax.legend(prop=dict(size=9))\n",
    "\n"
   ]
  },
  {
   "cell_type": "code",
   "execution_count": 6,
   "metadata": {},
   "outputs": [],
   "source": [
    "\n",
    "# define dict used for plotting of different epo parts:\n",
    "plt_dict = defaultdict(dict)\n",
    "pp = {'t_stimon':  0, \n",
    "      'xmin': -0.2, \n",
    "      'xmax': 2.3}\n",
    "plt_dict['stimon'] = pp\n"
   ]
  },
  {
   "cell_type": "code",
   "execution_count": 7,
   "metadata": {},
   "outputs": [
    {
     "ename": "FileNotFoundError",
     "evalue": "[Errno 2] No such file or directory: '/cobra/ptmp/fklotzsche/Experiments/vMemEcc/vMemEcc/Data/DataMNE/EEG/07_epos_sorted/stimon/difference/VME_S01-epo.fif'",
     "output_type": "error",
     "traceback": [
      "\u001b[0;31m---------------------------------------------------------------------------\u001b[0m",
      "\u001b[0;31mFileNotFoundError\u001b[0m                         Traceback (most recent call last)",
      "\u001b[0;32m<ipython-input-7-1f433547f63a>\u001b[0m in \u001b[0;36m<module>\u001b[0;34m\u001b[0m\n\u001b[1;32m      6\u001b[0m \u001b[0;34m\u001b[0m\u001b[0m\n\u001b[1;32m      7\u001b[0m \u001b[0;31m# get the evokeds:\u001b[0m\u001b[0;34m\u001b[0m\u001b[0;34m\u001b[0m\u001b[0;34m\u001b[0m\u001b[0m\n\u001b[0;32m----> 8\u001b[0;31m \u001b[0mevokeds\u001b[0m \u001b[0;34m=\u001b[0m \u001b[0mget_evokeds_dict\u001b[0m\u001b[0;34m(\u001b[0m\u001b[0mepo_part\u001b[0m\u001b[0;34m,\u001b[0m \u001b[0msub_list\u001b[0m\u001b[0;34m,\u001b[0m \u001b[0mplt_dict\u001b[0m\u001b[0;34m)\u001b[0m\u001b[0;34m\u001b[0m\u001b[0;34m\u001b[0m\u001b[0m\n\u001b[0m\u001b[1;32m      9\u001b[0m \u001b[0;34m\u001b[0m\u001b[0m\n\u001b[1;32m     10\u001b[0m \u001b[0;31m# Plot main CDA wave:\u001b[0m\u001b[0;34m\u001b[0m\u001b[0;34m\u001b[0m\u001b[0;34m\u001b[0m\u001b[0m\n",
      "\u001b[0;32m<ipython-input-3-2643782883ad>\u001b[0m in \u001b[0;36mget_evokeds_dict\u001b[0;34m(epo_part, sub_list, plt_dict)\u001b[0m\n\u001b[1;32m      6\u001b[0m         fname = op.join(config.path_epos_sorted, epo_part,\n\u001b[1;32m      7\u001b[0m                         'difference', subID + '-epo.fif')\n\u001b[0;32m----> 8\u001b[0;31m         \u001b[0mepos\u001b[0m \u001b[0;34m=\u001b[0m \u001b[0mmne\u001b[0m\u001b[0;34m.\u001b[0m\u001b[0mread_epochs\u001b[0m\u001b[0;34m(\u001b[0m\u001b[0mfname\u001b[0m\u001b[0;34m,\u001b[0m \u001b[0mverbose\u001b[0m\u001b[0;34m=\u001b[0m\u001b[0;32mFalse\u001b[0m\u001b[0;34m)\u001b[0m\u001b[0;34m\u001b[0m\u001b[0;34m\u001b[0m\u001b[0m\n\u001b[0m\u001b[1;32m      9\u001b[0m         \u001b[0mepos\u001b[0m\u001b[0;34m.\u001b[0m\u001b[0mpick_channels\u001b[0m\u001b[0;34m(\u001b[0m\u001b[0mconfig\u001b[0m\u001b[0;34m.\u001b[0m\u001b[0mchans_CDA_dict\u001b[0m\u001b[0;34m[\u001b[0m\u001b[0;34m'Left'\u001b[0m\u001b[0;34m]\u001b[0m\u001b[0;34m)\u001b[0m\u001b[0;34m\u001b[0m\u001b[0;34m\u001b[0m\u001b[0m\n\u001b[1;32m     10\u001b[0m         \u001b[0mepos\u001b[0m\u001b[0;34m.\u001b[0m\u001b[0mcrop\u001b[0m\u001b[0;34m(\u001b[0m\u001b[0mplt_dict\u001b[0m\u001b[0;34m[\u001b[0m\u001b[0mepo_part\u001b[0m\u001b[0;34m]\u001b[0m\u001b[0;34m[\u001b[0m\u001b[0;34m'xmin'\u001b[0m\u001b[0;34m]\u001b[0m\u001b[0;34m,\u001b[0m \u001b[0mplt_dict\u001b[0m\u001b[0;34m[\u001b[0m\u001b[0mepo_part\u001b[0m\u001b[0;34m]\u001b[0m\u001b[0;34m[\u001b[0m\u001b[0;34m'xmax'\u001b[0m\u001b[0;34m]\u001b[0m\u001b[0;34m)\u001b[0m\u001b[0;34m\u001b[0m\u001b[0;34m\u001b[0m\u001b[0m\n",
      "\u001b[0;32m<decorator-gen-228>\u001b[0m in \u001b[0;36mread_epochs\u001b[0;34m(fname, proj, preload, verbose)\u001b[0m\n",
      "\u001b[0;32m~/.local/lib/python3.7/site-packages/mne/epochs.py\u001b[0m in \u001b[0;36mread_epochs\u001b[0;34m(fname, proj, preload, verbose)\u001b[0m\n\u001b[1;32m   3056\u001b[0m         \u001b[0mThe\u001b[0m \u001b[0mepochs\u001b[0m\u001b[0;34m.\u001b[0m\u001b[0;34m\u001b[0m\u001b[0;34m\u001b[0m\u001b[0m\n\u001b[1;32m   3057\u001b[0m     \"\"\"\n\u001b[0;32m-> 3058\u001b[0;31m     \u001b[0;32mreturn\u001b[0m \u001b[0mEpochsFIF\u001b[0m\u001b[0;34m(\u001b[0m\u001b[0mfname\u001b[0m\u001b[0;34m,\u001b[0m \u001b[0mproj\u001b[0m\u001b[0;34m,\u001b[0m \u001b[0mpreload\u001b[0m\u001b[0;34m,\u001b[0m \u001b[0mverbose\u001b[0m\u001b[0;34m)\u001b[0m\u001b[0;34m\u001b[0m\u001b[0;34m\u001b[0m\u001b[0m\n\u001b[0m\u001b[1;32m   3059\u001b[0m \u001b[0;34m\u001b[0m\u001b[0m\n\u001b[1;32m   3060\u001b[0m \u001b[0;34m\u001b[0m\u001b[0m\n",
      "\u001b[0;32m<decorator-gen-229>\u001b[0m in \u001b[0;36m__init__\u001b[0;34m(self, fname, proj, preload, verbose)\u001b[0m\n",
      "\u001b[0;32m~/.local/lib/python3.7/site-packages/mne/epochs.py\u001b[0m in \u001b[0;36m__init__\u001b[0;34m(self, fname, proj, preload, verbose)\u001b[0m\n\u001b[1;32m   3113\u001b[0m             \u001b[0mfname_rep\u001b[0m \u001b[0;34m=\u001b[0m \u001b[0m_get_fname_rep\u001b[0m\u001b[0;34m(\u001b[0m\u001b[0mfname\u001b[0m\u001b[0;34m)\u001b[0m\u001b[0;34m\u001b[0m\u001b[0;34m\u001b[0m\u001b[0m\n\u001b[1;32m   3114\u001b[0m             \u001b[0mlogger\u001b[0m\u001b[0;34m.\u001b[0m\u001b[0minfo\u001b[0m\u001b[0;34m(\u001b[0m\u001b[0;34m'Reading %s ...'\u001b[0m \u001b[0;34m%\u001b[0m \u001b[0mfname_rep\u001b[0m\u001b[0;34m)\u001b[0m\u001b[0;34m\u001b[0m\u001b[0;34m\u001b[0m\u001b[0m\n\u001b[0;32m-> 3115\u001b[0;31m             \u001b[0mfid\u001b[0m\u001b[0;34m,\u001b[0m \u001b[0mtree\u001b[0m\u001b[0;34m,\u001b[0m \u001b[0m_\u001b[0m \u001b[0;34m=\u001b[0m \u001b[0mfiff_open\u001b[0m\u001b[0;34m(\u001b[0m\u001b[0mfname\u001b[0m\u001b[0;34m,\u001b[0m \u001b[0mpreload\u001b[0m\u001b[0;34m=\u001b[0m\u001b[0mpreload\u001b[0m\u001b[0;34m)\u001b[0m\u001b[0;34m\u001b[0m\u001b[0;34m\u001b[0m\u001b[0m\n\u001b[0m\u001b[1;32m   3116\u001b[0m             \u001b[0mnext_fname\u001b[0m \u001b[0;34m=\u001b[0m \u001b[0m_get_next_fname\u001b[0m\u001b[0;34m(\u001b[0m\u001b[0mfid\u001b[0m\u001b[0;34m,\u001b[0m \u001b[0mfname\u001b[0m\u001b[0;34m,\u001b[0m \u001b[0mtree\u001b[0m\u001b[0;34m)\u001b[0m\u001b[0;34m\u001b[0m\u001b[0;34m\u001b[0m\u001b[0m\n\u001b[1;32m   3117\u001b[0m             (info, data, data_tag, events, event_id, metadata, tmin, tmax,\n",
      "\u001b[0;32m<decorator-gen-6>\u001b[0m in \u001b[0;36mfiff_open\u001b[0;34m(fname, preload, verbose)\u001b[0m\n",
      "\u001b[0;32m~/.local/lib/python3.7/site-packages/mne/io/open.py\u001b[0m in \u001b[0;36mfiff_open\u001b[0;34m(fname, preload, verbose)\u001b[0m\n\u001b[1;32m    122\u001b[0m         \u001b[0mA\u001b[0m \u001b[0mlist\u001b[0m \u001b[0mof\u001b[0m \u001b[0mtags\u001b[0m\u001b[0;34m.\u001b[0m\u001b[0;34m\u001b[0m\u001b[0;34m\u001b[0m\u001b[0m\n\u001b[1;32m    123\u001b[0m     \"\"\"\n\u001b[0;32m--> 124\u001b[0;31m     \u001b[0mfid\u001b[0m \u001b[0;34m=\u001b[0m \u001b[0m_fiff_get_fid\u001b[0m\u001b[0;34m(\u001b[0m\u001b[0mfname\u001b[0m\u001b[0;34m)\u001b[0m\u001b[0;34m\u001b[0m\u001b[0;34m\u001b[0m\u001b[0m\n\u001b[0m\u001b[1;32m    125\u001b[0m     \u001b[0;32mtry\u001b[0m\u001b[0;34m:\u001b[0m\u001b[0;34m\u001b[0m\u001b[0;34m\u001b[0m\u001b[0m\n\u001b[1;32m    126\u001b[0m         \u001b[0;32mreturn\u001b[0m \u001b[0m_fiff_open\u001b[0m\u001b[0;34m(\u001b[0m\u001b[0mfname\u001b[0m\u001b[0;34m,\u001b[0m \u001b[0mfid\u001b[0m\u001b[0;34m,\u001b[0m \u001b[0mpreload\u001b[0m\u001b[0;34m)\u001b[0m\u001b[0;34m\u001b[0m\u001b[0;34m\u001b[0m\u001b[0m\n",
      "\u001b[0;32m~/.local/lib/python3.7/site-packages/mne/io/open.py\u001b[0m in \u001b[0;36m_fiff_get_fid\u001b[0;34m(fname)\u001b[0m\n\u001b[1;32m     51\u001b[0m         \u001b[0;32melse\u001b[0m\u001b[0;34m:\u001b[0m\u001b[0;34m\u001b[0m\u001b[0;34m\u001b[0m\u001b[0m\n\u001b[1;32m     52\u001b[0m             \u001b[0mlogger\u001b[0m\u001b[0;34m.\u001b[0m\u001b[0mdebug\u001b[0m\u001b[0;34m(\u001b[0m\u001b[0;34m'Using normal I/O'\u001b[0m\u001b[0;34m)\u001b[0m\u001b[0;34m\u001b[0m\u001b[0;34m\u001b[0m\u001b[0m\n\u001b[0;32m---> 53\u001b[0;31m             \u001b[0mfid\u001b[0m \u001b[0;34m=\u001b[0m \u001b[0mopen\u001b[0m\u001b[0;34m(\u001b[0m\u001b[0mfname\u001b[0m\u001b[0;34m,\u001b[0m \u001b[0;34m\"rb\"\u001b[0m\u001b[0;34m)\u001b[0m  \u001b[0;31m# Open in binary mode\u001b[0m\u001b[0;34m\u001b[0m\u001b[0;34m\u001b[0m\u001b[0m\n\u001b[0m\u001b[1;32m     54\u001b[0m     \u001b[0;32mreturn\u001b[0m \u001b[0mfid\u001b[0m\u001b[0;34m\u001b[0m\u001b[0;34m\u001b[0m\u001b[0m\n\u001b[1;32m     55\u001b[0m \u001b[0;34m\u001b[0m\u001b[0m\n",
      "\u001b[0;31mFileNotFoundError\u001b[0m: [Errno 2] No such file or directory: '/cobra/ptmp/fklotzsche/Experiments/vMemEcc/vMemEcc/Data/DataMNE/EEG/07_epos_sorted/stimon/difference/VME_S01-epo.fif'"
     ]
    }
   ],
   "source": [
    "\n",
    "sub_list = np.setdiff1d(np.arange(1, 28), config.ids_missing_subjects +\n",
    "                        config.ids_excluded_subjects)\n",
    "\n",
    "epo_part = 'stimon'  #in ['stimon']:\n",
    "\n",
    "# get the evokeds: \n",
    "evokeds = get_evokeds_dict(epo_part, sub_list, plt_dict)\n",
    "\n",
    "# Plot main CDA wave:\n",
    "plt.subplots(1,1,figsize=(12,4))\n",
    "ax = plt.axes()\n",
    "plot_main_cda(ax, evokeds)"
   ]
  },
  {
   "cell_type": "code",
   "execution_count": null,
   "metadata": {},
   "outputs": [],
   "source": []
  }
 ],
 "metadata": {
  "kernelspec": {
   "display_name": "Python 3",
   "language": "python",
   "name": "python3"
  },
  "language_info": {
   "codemirror_mode": {
    "name": "ipython",
    "version": 3
   },
   "file_extension": ".py",
   "mimetype": "text/x-python",
   "name": "python",
   "nbconvert_exporter": "python",
   "pygments_lexer": "ipython3",
   "version": "3.7.3"
  }
 },
 "nbformat": 4,
 "nbformat_minor": 2
}
