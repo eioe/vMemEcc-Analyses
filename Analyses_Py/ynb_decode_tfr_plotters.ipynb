{
 "cells": [
  {
   "cell_type": "code",
   "execution_count": 1,
   "metadata": {},
   "outputs": [],
   "source": [
    "import os\n",
    "import os.path as op\n",
    "import json\n",
    "import numpy as np\n",
    "import pandas as pd\n",
    "import matplotlib as mpl\n",
    "import matplotlib.pyplot as plt\n",
    "import seaborn as sns\n",
    "from collections import defaultdict\n",
    "from scipy import stats\n",
    "from scipy.ndimage import measurements\n",
    "\n",
    "from sklearn.discriminant_analysis import LinearDiscriminantAnalysis\n",
    "from sklearn.model_selection import StratifiedKFold, cross_val_score\n",
    "from sklearn.pipeline import make_pipeline\n",
    "from sklearn.preprocessing import LabelEncoder\n",
    "\n",
    "import mne\n",
    "from mne import EvokedArray\n",
    "from mne.stats import permutation_cluster_1samp_test, f_mway_rm, f_threshold_mway_rm\n",
    "from mne.decoding import CSP\n",
    "from library import helpers, config"
   ]
  },
  {
   "cell_type": "code",
   "execution_count": 2,
   "metadata": {},
   "outputs": [],
   "source": [
    "\n",
    "def load_scores_decod_tfr(sub_list_str, conditions, part_epo='stimon', signaltype='collapsed', \n",
    "                          scoring='roc_auc', reg='', picks_str='', load_chance_data=False):\n",
    "    \"\"\"Load decoding results from disc.\n",
    "    \n",
    "    Parameters\n",
    "    ----------\n",
    "    sub_list_str: list\n",
    "        List of subject IDs\n",
    "    conditions : list\n",
    "        List of strings containing the classes of the classification. \n",
    "    part_epo : str, optional\n",
    "        Part of the epoch. One of: 'fulllength', 'cue', 'stimon' (default is 'stimon').\n",
    "    signaltype: str\n",
    "        Processing state of the sensor signal. One of: 'collapsed': electrode positions flipped for cue left trials\n",
    "                                                       'uncollapsed': normal electrode positions,\n",
    "                                                       'difference': difference signal: contra minus ipsilateral\n",
    "                                                       (default is 'collapsed'.)\n",
    "    scoring: \n",
    "        'roc_auc' or 'accuracy', not properly implemented yet in data, so see hack below.\n",
    "    reg: str\n",
    "        Regularization\n",
    "    load_chance_data: bool\n",
    "        Load scores from decoding runs with shuffeled labels.\n",
    "\n",
    "\n",
    "    Returns\n",
    "    -------\n",
    "    results: ndarray \n",
    "        Array with decoding results (subjects x freqs x times)\n",
    "    times: array, 1d\n",
    "    freqs: array, 1d\n",
    "    \"\"\"\n",
    "    \n",
    "    #if scoring == 'accuracy':\n",
    "    #    scoring = ''\n",
    "    \n",
    "    if len(sub_list_str) > 1:\n",
    "         sub_folder = '-'.join(sub_list_str[0], sub_list_str[-1])\n",
    "    else:\n",
    "         sub_folder = sub_list_str[0]\n",
    "\n",
    "    shuf_labs = 'labels_shuffled' if load_chance_data else ''\n",
    "    contrast_str = '_vs_'.join(conditions)\n",
    "    fpath = op.join(config.path_decod_tfr, part_epo, signaltype, contrast_str, scoring, \n",
    "                    reg, picks_str, shuf_labs, sub_folder, 'scores')\n",
    "    fname = op.join(fpath, 'scores_per_sub.npy')\n",
    "    res = np.load(fname)\n",
    "    times = np.load(fname[:-4] + '__times.npy')\n",
    "    freqs = np.load(fname[:-4] + '__freqs.npy')\n",
    "    return(res, times, freqs)\n",
    "\n",
    "\n",
    "def get_freq_indices(freqs_of_interest, freqs_decoded):\n",
    "    \"\"\"Get indices of the relevant frequencies. \n",
    "\n",
    "    Parameters\n",
    "    ----------\n",
    "    freqs_of:_interest : list, tuple\n",
    "        Specify freqs of interest as list, tuple or list of tuples:\n",
    "        (8,13): include all freqs between 8 and 13\n",
    "        [8, 13]: include all freq windows that entail either 8 or 13 (but not 9-11 for example)\n",
    "    freqs_decoded : list\n",
    "        nested list, specifying the freq windows that have been used for decoding. \n",
    "        Best to use the output of the decoding function or load it from disc.\n",
    "        \n",
    "\n",
    "    Returns\n",
    "    -------\n",
    "    list\n",
    "        list of indices into freqs_decoded\n",
    "    \"\"\"\n",
    "    \n",
    "    indices = list()\n",
    "    if not isinstance(freqs_of_interest, list):\n",
    "        freqs_of_interest = [freqs_of_interest]\n",
    "    for f_oi in freqs_of_interest:\n",
    "        if isinstance(f_oi, tuple):\n",
    "            f_oi = np.sort(f_oi)\n",
    "            for idx, freq in enumerate(freqs_decoded):\n",
    "                if((freq[0] == f_oi[0]) or (freq[-1] == f_oi[-1])):\n",
    "                    indices.append(idx)\n",
    "                elif ((freq[0] < f_oi[0] < freq[-1]) or (freq[0] < f_oi[-1] < freq[-1])): \n",
    "                    indices.append(idx)\n",
    "                elif ((f_oi[0] < freq[0]) and (f_oi[-1] > freq[-1])):\n",
    "                    indices.append(idx)\n",
    "        else:\n",
    "            for idx, freq in enumerate(freqs):\n",
    "                if ((f_oi >= freq[0]) and (f_oi <= freq[1])):\n",
    "                    indices.append(idx)\n",
    "    indices = np.unique(indices)\n",
    "    return(indices)\n",
    "\n",
    "\n",
    "def plot_decod_image_tfr(scores, conditions, times, freqs, scoring='roc_auc', ax=None):\n",
    "    \"\"\"Plot a heatmap with decoding accuracy over time and frequency. \n",
    "    \n",
    "    Parameters\n",
    "    ----------\n",
    "    scores : ndarray, 2d\n",
    "        2d array with decoding results (freqs x timepoints)\n",
    "    conditions : list\n",
    "        List of strings containing the classes of the classification. \n",
    "    times: array, 1d\n",
    "        Timepoints\n",
    "    freqs: array, 1d\n",
    "        Frequencies \n",
    "    ax: axis, optional\n",
    "        Axis to plot into.\n",
    "\n",
    "    Returns\n",
    "    -------\n",
    "    image\n",
    "        AxisImage\n",
    "    \"\"\"\n",
    "    \n",
    "    if ax is None:\n",
    "        fig, ax = plt.subplots(1,1)\n",
    "    dx = np.diff(times)[0] / 2\n",
    "    dy = 0 #np.diff(freqs)[0] / 2\n",
    "    extent = [times.min()-dx, times.max()+dx,\n",
    "              freqs.min()-dy, freqs.max()+dy]             \n",
    "    image = ax.imshow(scores, origin='lower', cmap='Greens', aspect='auto', extent=extent)\n",
    "    ax.set_yticks([f for frange in freqs for f in frange])\n",
    "    ax.set_ylabel('frequency (Hz)')\n",
    "    return(image)\n",
    "\n",
    "\n",
    "def plot_score_ts(scores_df, plt_dict, color, sign_clusters=[], p_lvl=0.01, scoring='roc_auc', ax=None, n_boot=1000):\n",
    "    \"\"\"Plot the decoding scores as timeseries line plot.\n",
    "    \n",
    "    Parameters\n",
    "    ----------\n",
    "    scores_df : DataFrame \n",
    "        Data frame containing accuracies per time point in epoch. Long format. \n",
    "        Needed columns: 'time',\n",
    "                        'score'\n",
    "    plt_dict: dict\n",
    "        Dict containing info relevant for plotting. \n",
    "        Entries needed: 't_stimon': relative time of stimulus onset\n",
    "                        'xmin': minimal time to be plotted\n",
    "                        'xmax': maximal time to be plotted\n",
    "    color: str\n",
    "        A single color string referred to by name, RGB or RGBA code,\n",
    "        for instance ‘red’ or ‘#a98d19’. \n",
    "    sign_clusters: list\n",
    "        start and end time of sign clusters\n",
    "    p_lvl: float\n",
    "        Sign. threshold used for cbp test\n",
    "    ax: axis, optional\n",
    "        Axis to plot into.\n",
    "    n_boot: int\n",
    "        Number of bootstrapping iterations for the CI.\n",
    "\n",
    "    Returns\n",
    "    -------\n",
    "    image\n",
    "        AxisImage\n",
    "    \n",
    "    \"\"\"\n",
    "    \n",
    "    if ax is None:\n",
    "        fig, ax = plt.subplots(1,1)\n",
    "    image = sns.lineplot(x='time', \n",
    "                 y='score', \n",
    "                 hue = 'labels',  # 'original' or 'shuffled'\n",
    "                 palette = config.colors,\n",
    "                 #color = color,\n",
    "                 data=scores_df,\n",
    "                 ci = 95,\n",
    "                 n_boot=n_boot,  \n",
    "                 ax=ax)\n",
    "    ytick_range = ax.get_ylim()\n",
    "    ax.set(xlim=(plt_dict['xmin'], plt_dict['xmax']), ylim=ytick_range)\n",
    "    if scoring == 'roc_auc':\n",
    "        scoring_str = 'ROC AUC'\n",
    "    else: \n",
    "        scoring_str = scoring\n",
    "    ax.set_ylabel(scoring_str)\n",
    "    ax.set_xlabel('Time (s)')\n",
    "    ax.axvspan(plt_dict['t_stimon'], plt_dict['t_stimon']+0.2, color='grey', alpha=0.3)\n",
    "    ax.axvspan(plt_dict['t_stimon']+ 2.2, plt_dict['t_stimon'] + 2.5, color='grey', alpha=0.3)\n",
    "    ax.vlines((plt_dict['t_stimon'], plt_dict['t_stimon']+0.2, plt_dict['t_stimon']+2.2),\n",
    "              ymin=ytick_range[0], ymax=ytick_range[1], \n",
    "              linestyles='dashed')\n",
    "    p_lvl_str = 'p < .' + str(p_lvl).split('.')[-1]\n",
    "    for sc in sign_clusters:\n",
    "        xmin = sc[0]\n",
    "        xmax = sc[-1]\n",
    "        ax.hlines(ytick_range[0] + 0.05*np.ptp(ytick_range), xmin=xmin, xmax=xmax, color='purple', \n",
    "                 label=p_lvl_str)\n",
    "    handles, labels = ax.get_legend_handles_labels()\n",
    "    n_sgn_clu = None if len(sign_clusters) <= 1 else -(len(sign_clusters)-1)\n",
    "    ax.legend(handles=handles[1:n_sgn_clu], labels=labels[1:n_sgn_clu])\n",
    "    #plt.legend(title=None)\n",
    "\n",
    "    return(image)\n",
    "\n",
    "def get_evoked_info(part_epo='stimon', signaltype='collapsed', picks_str=None):\n",
    "    fname = op.join(config.path_epos_sorted, part_epo, signaltype,\n",
    "                    'VME_S01' + '-epo.fif')\n",
    "    epos = mne.read_epochs(fname, verbose=False)\n",
    "    epos = epos.pick_types(eeg=True)\n",
    "    \n",
    "    # pick channel selection:\n",
    "    if (picks_str is not None) and (picks_str is not 'All'):\n",
    "        roi_dict = mne.channels.make_1020_channel_selections(epos.info)\n",
    "        picks = [epos.ch_names[idx] for idx in roi_dict[picks_str]]\n",
    "        epos.pick_channels(picks, ordered=True)\n",
    "\n",
    "\n",
    "    return(epos.info)\n",
    "    \n",
    "\n",
    "def run_cbp_test(data):\n",
    "    # number of permutations to run\n",
    "    n_permutations = 1000 \n",
    "    # set initial threshold\n",
    "    p_initial = 0.05\n",
    "    # set family-wise p-value\n",
    "    p_thresh = 0.05\n",
    "    connectivity = None\n",
    "    tail = 1.  # for one-sided test\n",
    "\n",
    "    # set cluster threshold\n",
    "    n_samples = len(data)\n",
    "    threshold = -stats.t.ppf(p_initial / (1 + (tail == 0)), n_samples - 1)\n",
    "    if np.sign(tail) < 0:\n",
    "        threshold = -threshold\n",
    "\n",
    "    cluster_stats = mne.stats.permutation_cluster_1samp_test(\n",
    "        data, threshold=threshold, n_jobs=config.n_jobs, verbose=False, tail=tail,\n",
    "        step_down_p=0.0005, adjacency=connectivity,\n",
    "        n_permutations=n_permutations, seed=42, out_type='mask')\n",
    "\n",
    "    T_obs, clusters, cluster_p_values, _ = cluster_stats\n",
    "    return(T_obs, clusters, cluster_p_values)"
   ]
  },
  {
   "cell_type": "code",
   "execution_count": 5,
   "metadata": {
    "scrolled": true
   },
   "outputs": [
    {
     "name": "stdout",
     "output_type": "stream",
     "text": [
      "(1, 50, 1, 11)\n"
     ]
    },
    {
     "data": {
      "image/png": "[encoded data removed]",
      "text/plain": [
       "<Figure size 432x288 with 4 Axes>"
      ]
     },
     "metadata": {
      "needs_background": "light"
     },
     "output_type": "display_data"
    }
   ],
   "source": [
    "conditions = ['LoadLow', 'LoadHigh']\n",
    "sub_list = np.setdiff1d(np.arange(1, 28), config.ids_missing_subjects +\n",
    "                        config.ids_excluded_subjects) # + [7, 9, 10, 11, 12, 14])              \n",
    "sub_list_str = ['VME_S%02d' % sub for sub in sub_list]\n",
    "\n",
    "scoring = 'roc_auc' #'' #'accuracy' # 'balanced_accuracy' #   \n",
    "reg = 'shrinkage0.4'#'' # \n",
    "\n",
    "scores_list = list()\n",
    "for subID in sub_list_str:\n",
    "    scores_sub, times, freqs = load_scores_decod_tfr([subID], conditions, signaltype='collapsed', scoring=scoring, \n",
    "                                                    reg=reg, picks_str='Left')\n",
    "    #print(scores_sub.shape)\n",
    "    scores_list.append(scores_sub)\n",
    "if len(scores_list[-1].shape) == 2: \n",
    "    scores_list = [arr[np.newaxis, :, :] for arr in scores_list]\n",
    "elif len(scores_list[-1].shape) == 4: \n",
    "    scores_list = [arr.mean(axis=1) for arr in scores_list]\n",
    "\n",
    "scores = np.concatenate(scores_list)\n",
    "\n",
    "# load results from decoding with shuffled labels:\n",
    "scores_list_chance = list()\n",
    "for subID in sub_list_str:\n",
    "    scores_sub_chance, times_chance, freqs_chance = load_scores_decod_tfr([subID], conditions, signaltype='collapsed', \n",
    "                                                                          scoring=scoring, reg=reg, picks_str='Right', load_chance_data=False)\n",
    "    scores_list_chance.append(scores_sub_chance)\n",
    "if len(scores_list_chance[-1].shape) == 2: \n",
    "    scores_list_chance = [arr[np.newaxis, :, :] for arr in scores_list_chance]\n",
    "elif len(scores_list_chance[-1].shape) == 4: \n",
    "    scores_list_chance = [arr.mean(axis=1) for arr in scores_list_chance]\n",
    "\n",
    "print(scores_sub.shape)\n",
    "    \n",
    "if len(scores_list_chance[-1].shape) == 2: \n",
    "    scores_list_chance = [arr[np.newaxis, :, :] for arr in scores_list_chance]\n",
    "\n",
    "scores_chance = np.concatenate(scores_list_chance)\n",
    "assert (np.all(times == times_chance) and np.all(freqs == freqs_chance)), 'You try to load data with different times or freqs.'\n",
    "\n",
    "\n",
    "# Specify freqs of interest as list, tuple or list of tuples:\n",
    "# (8,13): include all freq between 8 and 13\n",
    "# [8, 13]: include all freq windows that entail either 8 or 13 (but not 9-11 for example)\n",
    "freqs_of_interest = (8,13)\n",
    "# translate freqs_of_interest to index:\n",
    "idx_freqs_of_intr = get_freq_indices(freqs_of_interest, freqs)\n",
    "\n",
    "\n",
    "# Setup dict with infos for plotting:\n",
    "plt_dict = defaultdict(dict)\n",
    "pp = {'t_stimon':  0,\n",
    "      'xmin': times[0],\n",
    "      'xmax': times[-1]}\n",
    "plt_dict['stimon'] = pp\n",
    "\n",
    "\n",
    "fig, ax = plt.subplots(2,1, sharex=True)\n",
    "\n",
    "scores_avg = np.mean(scores, axis=0)\n",
    "im = plot_decod_image_tfr(scores_avg, conditions, times, freqs, scoring, ax[0])\n",
    "\n",
    "acc_df = pd.DataFrame(scores[:, idx_freqs_of_intr, :].mean(axis=1)) #average across freqs of interest\n",
    "acc_df.columns = times\n",
    "acc_df_long = acc_df.melt(var_name='time', value_name='score')  # put into long format\n",
    "acc_df_long['decoding target'] = 'Load'\n",
    "acc_df_long['labels'] = 'Contra'\n",
    "\n",
    "acc_df_chance = pd.DataFrame(scores_chance[:, idx_freqs_of_intr, :].mean(axis=1)) #average across freqs of interest\n",
    "acc_df_chance.columns = times\n",
    "acc_df_long_chance = acc_df_chance.melt(var_name='time', value_name='score')  # put into long format\n",
    "acc_df_long_chance['decoding target'] = 'Load'\n",
    "acc_df_long_chance['labels'] = 'Ipsi'\n",
    "\n",
    "acc_df_long = pd.concat([acc_df_long, acc_df_long_chance])\n",
    "\n",
    "# run CBP test to find sign. clusters' times:\n",
    "scores_ts = scores[:, idx_freqs_of_intr, :].mean(axis=1)\n",
    "scores_ts_chance = scores_chance[:, idx_freqs_of_intr, :].mean(axis=1)\n",
    "T_obs, clusters, p_values = run_cbp_test(scores_ts - scores_ts_chance) # 0.5) #\n",
    "p_val_cbp = 0.01\n",
    "idx_sign_clusters = np.argwhere(p_values<p_val_cbp)\n",
    "sign_cluster_times = [times[clusters[idx[0]]][[0,-1]] for idx in idx_sign_clusters]\n",
    "\n",
    "plot_score_ts(acc_df_long, plt_dict['stimon'], color='blue', scoring=scoring, sign_clusters=sign_cluster_times, p_lvl=p_val_cbp, ax=ax[1])\n",
    "fig.subplots_adjust(right=0.8)\n",
    "cbar_ax = fig.add_axes([0.82, 0.55, 0.01, 0.25])\n",
    "if scoring == 'roc_auc':\n",
    "    scoring_str = 'ROC AUC'\n",
    "else:\n",
    "    scoring_str = scoring\n",
    "fig.colorbar(im, cax=cbar_ax, label=scoring_str)\n",
    "txt_ax = fig.add_axes([0.85, 0.15, 0.01, 0.25])\n",
    "txt_ax.set_axis_off()\n",
    "freqs_formatted = '\\n'.join([str(f) for f in freqs[idx_freqs_of_intr]])\n",
    "txt_ax.text(0.5*(1), 0.5*(1), f'avg. over\\nfrequency\\nbands:\\n{freqs_formatted}',\n",
    "        horizontalalignment='center',\n",
    "        verticalalignment='center',\n",
    "        fontsize=12, color='black',\n",
    "        transform=txt_ax.transAxes)\n",
    "\n",
    "    \n",
    "plt.rcParams['figure.figsize'] = [5*3, 5*3]\n",
    "plt.rcParams[\"legend.loc\"] = 'upper left'"
   ]
  },
  {
   "cell_type": "markdown",
   "metadata": {},
   "source": [
    "### Plot patterns"
   ]
  },
  {
   "cell_type": "code",
   "execution_count": 3,
   "metadata": {},
   "outputs": [],
   "source": [
    "# # %% Plot patterns:\n",
    "\n",
    "# Load pattern data:\n",
    "\n",
    "def load_patterns(sub_list_str, contrast_str, part_epo='stimon', signaltype='collapsed', scoring='roc_auc', reg='shrinkage0.4', picks_str=None, labels_shuffled=False):\n",
    "    \"\"\"Load the patterns from CSP based TFR decoding.\n",
    "    \n",
    "    Parameters\n",
    "    ----------\n",
    "    sub_list_str : list, str\n",
    "        List of subject IDs to load patterns from. \n",
    "    part_epo : str\n",
    "        Which part the epo was cropped to; defaults to \"stimon\"\n",
    "    contrast_str : str\n",
    "        Decoded contrast.\n",
    "    signaltype : str\n",
    "        \"collapsed\" or \"difference\" or \"uncollapsed\" (not yet implemented). Defaults to \"collapsed\";\n",
    "    scoring: str\n",
    "        Scoring metric used during decoding. \"roc_auc\" (default), accuracy\", or \"balanced_accuracy\";\n",
    "    reg: str, float\n",
    "        Regularization method used; Ints are interpreted as fixed shrinkage values; defaults to \"shrinkage0.4\"\n",
    "    labels_shuffled : bool\n",
    "        Allows to load the data from the run with shuffled labels.\n",
    "    picks_str: str\n",
    "        Predefined selection, has to be either 'Left', 'Right', 'Midline' or 'All'; None (default) is thesame as 'All'\n",
    "\n",
    "\n",
    "    Returns\n",
    "    -------\n",
    "    patterns: ndarray\n",
    "        Array with the patterns (subs x csp_components x channels x freqs x times)\n",
    "    times: array, 1d\n",
    "    freqs: array, 1d\n",
    "    \n",
    "    \"\"\"\n",
    "    if not isinstance(sub_list_str, list):\n",
    "        sub_list_str = [sub_list_str]\n",
    "    if isinstance(reg, float):\n",
    "        reg_str = 'shrinkage'+str(reg)\n",
    "    else:\n",
    "        reg_str = reg\n",
    "    shuf_labs = 'labels_shuffled' if labels_shuffled else ''\n",
    "    patterns_list = list()\n",
    "    times = freqs = None\n",
    "    for sub in sub_list_str:\n",
    "        sub_folder = sub\n",
    "        if (picks_str is not None) and (picks_str is not 'All'):\n",
    "            picks_str_folder = picks_str\n",
    "        else:\n",
    "            picks_str_folder = ''\n",
    "        fpath = op.join(config.path_decod_tfr, part_epo, signaltype, contrast_str, scoring, reg_str, picks_str_folder, shuf_labs, sub_folder, 'patterns')\n",
    "        fname = op.join(fpath, 'patterns_per_sub.npy')\n",
    "        patterns = np.load(fname)\n",
    "        times_ = np.load(fname[:-4] + '__times' + '.npy')\n",
    "        freqs_ = np.load(fname[:-4] + '__freqs' + '.npy')\n",
    "        patterns_list.append(patterns)\n",
    "        if times is None:\n",
    "            times = times_\n",
    "        else:\n",
    "            assert (times==times_).all(), 'Times differ between subjects. That is problematic.'\n",
    "        if freqs is None:\n",
    "            freqs = freqs_\n",
    "        else:\n",
    "            assert (freqs == freqs_).all(), 'Freqs differ between subjects. That is problematic.'\n",
    "    patterns = np.concatenate(patterns_list)\n",
    "    return patterns, times, freqs"
   ]
  },
  {
   "cell_type": "code",
   "execution_count": 6,
   "metadata": {},
   "outputs": [],
   "source": [
    "# load patterns:\n",
    "sub_patterns_all, times, freqs = load_patterns(sub_list_str, 'LoadLow_vs_LoadHigh', picks_str=None)\n"
   ]
  },
  {
   "cell_type": "code",
   "execution_count": 29,
   "metadata": {},
   "outputs": [
    {
     "data": {
      "text/plain": [
       "array([[ 6.,  8.],\n",
       "       [ 8., 10.],\n",
       "       [10., 12.],\n",
       "       [12., 14.],\n",
       "       [14., 16.],\n",
       "       [16., 18.],\n",
       "       [18., 20.],\n",
       "       [20., 22.],\n",
       "       [22., 24.],\n",
       "       [24., 26.]])"
      ]
     },
     "execution_count": 29,
     "metadata": {},
     "output_type": "execute_result"
    }
   ],
   "source": [
    "freqs"
   ]
  },
  {
   "cell_type": "code",
   "execution_count": 34,
   "metadata": {},
   "outputs": [
    {
     "name": "stderr",
     "output_type": "stream",
     "text": [
      "<ipython-input-2-ed8c30a85dff>:202: RuntimeWarning: The events passed to the Epochs constructor are not chronologically ordered.\n",
      "  epos = mne.read_epochs(fname, verbose=False)\n",
      "<ipython-input-2-ed8c30a85dff>:202: RuntimeWarning: The events passed to the Epochs constructor are not chronologically ordered.\n",
      "  epos = mne.read_epochs(fname, verbose=False)\n"
     ]
    },
    {
     "data": {
      "image/png": "[encoded data removed]",
      "text/plain": [
       "<Figure size 648x194.4 with 6 Axes>"
      ]
     },
     "metadata": {
      "needs_background": "light"
     },
     "output_type": "display_data"
    },
    {
     "data": {
      "image/png": "[encoded data removed]",
      "text/plain": [
       "<Figure size 648x194.4 with 6 Axes>"
      ]
     },
     "execution_count": 34,
     "metadata": {},
     "output_type": "execute_result"
    }
   ],
   "source": [
    "# pick only first CSP component and average across freqs of interest:\n",
    "#for i in np.arange(sub_patterns_all.shape[0]):\n",
    "sub_patterns = sub_patterns_all[:,0,:,:,:] # .mean(axis=1) # \n",
    "sub_patterns = sub_patterns[:,:,2:5,:].mean(axis=-2)\n",
    "sub_patterns_avg = sub_patterns.squeeze()\n",
    "# normalize them by l2 norm to allow fair average across subjects:\n",
    "sub_patterns_avg = sub_patterns_avg / np.linalg.norm(sub_patterns_avg, axis=1, ord=2, keepdims=True)\n",
    "sub_patterns_avg = np.abs(sub_patterns_avg)\n",
    "sub_patterns_avg = sub_patterns_avg.mean(axis=0) \n",
    "\n",
    "# normalize per timebin\n",
    "sub_patterns_avg = sub_patterns_avg / np.linalg.norm(sub_patterns_avg, axis=0, ord=2, keepdims=True)\n",
    "# get dummy epos.info file to get electrode locations\n",
    "dummy_epos_info = get_evoked_info(picks_str='All')\n",
    "\n",
    "# Build new pseudo Evoke obj:\n",
    "sub_patterns_evo = EvokedArray(sub_patterns_avg, dummy_epos_info)\n",
    "sub_patterns_evo.times = times\n",
    "#sub_patterns_evo.plot_topomap()\n",
    "sub_patterns_evo.plot_topomap(times = times[1::2], #times, # [0.25, 0.4, 0.55, 0.85, 1.15, 1.25, 1.35, 1.45, 1.5, 1.6, 1.8, 2.0], \n",
    "                              scalings=1, units='', \n",
    "                                title=config.labels['Load'], cmap = 'Reds', vmin = 0, contours=0, ch_type='eeg')"
   ]
  },
  {
   "cell_type": "code",
   "execution_count": 23,
   "metadata": {},
   "outputs": [
    {
     "data": {
      "text/plain": [
       "<Evoked | '' (average, N=1), [-0.25, 2.25] sec, 26 ch, ~89 kB>"
      ]
     },
     "execution_count": 23,
     "metadata": {},
     "output_type": "execute_result"
    }
   ],
   "source": [
    "sub_patterns_evo"
   ]
  },
  {
   "cell_type": "code",
   "execution_count": 114,
   "metadata": {},
   "outputs": [
    {
     "ename": "FileNotFoundError",
     "evalue": "[Errno 2] No such file or directory: '/draco/ptmp/fklotzsche/Experiments/vMemEcc/Data/DataMNE/EEG/10_tfr_decoding/stimon/collapsed/EccS_vs_EccM/roc_auc/VME_S01/scores/scores_per_sub.npy'",
     "output_type": "error",
     "traceback": [
      "\u001b[0;31m---------------------------------------------------------------------------\u001b[0m",
      "\u001b[0;31mFileNotFoundError\u001b[0m                         Traceback (most recent call last)",
      "\u001b[0;32m<ipython-input-114-0f9bcee7b6fb>\u001b[0m in \u001b[0;36m<module>\u001b[0;34m\u001b[0m\n\u001b[1;32m      7\u001b[0m \u001b[0mscores_list\u001b[0m \u001b[0;34m=\u001b[0m \u001b[0mlist\u001b[0m\u001b[0;34m(\u001b[0m\u001b[0;34m)\u001b[0m\u001b[0;34m\u001b[0m\u001b[0;34m\u001b[0m\u001b[0m\n\u001b[1;32m      8\u001b[0m \u001b[0;32mfor\u001b[0m \u001b[0msubID\u001b[0m \u001b[0;32min\u001b[0m \u001b[0msub_list_str\u001b[0m\u001b[0;34m:\u001b[0m\u001b[0;34m\u001b[0m\u001b[0;34m\u001b[0m\u001b[0m\n\u001b[0;32m----> 9\u001b[0;31m     \u001b[0mscores_sub\u001b[0m\u001b[0;34m,\u001b[0m \u001b[0mtimes\u001b[0m\u001b[0;34m,\u001b[0m \u001b[0mfreqs\u001b[0m \u001b[0;34m=\u001b[0m \u001b[0mload_scores_decod_tfr\u001b[0m\u001b[0;34m(\u001b[0m\u001b[0;34m[\u001b[0m\u001b[0msubID\u001b[0m\u001b[0;34m]\u001b[0m\u001b[0;34m,\u001b[0m \u001b[0mconditions\u001b[0m\u001b[0;34m,\u001b[0m \u001b[0msignaltype\u001b[0m\u001b[0;34m=\u001b[0m\u001b[0;34m'collapsed'\u001b[0m\u001b[0;34m)\u001b[0m\u001b[0;34m\u001b[0m\u001b[0;34m\u001b[0m\u001b[0m\n\u001b[0m\u001b[1;32m     10\u001b[0m     \u001b[0mscores_list\u001b[0m\u001b[0;34m.\u001b[0m\u001b[0mappend\u001b[0m\u001b[0;34m(\u001b[0m\u001b[0mscores_sub\u001b[0m\u001b[0;34m)\u001b[0m\u001b[0;34m\u001b[0m\u001b[0;34m\u001b[0m\u001b[0m\n\u001b[1;32m     11\u001b[0m \u001b[0;34m\u001b[0m\u001b[0m\n",
      "\u001b[0;32m<ipython-input-25-a3e7025466e7>\u001b[0m in \u001b[0;36mload_scores_decod_tfr\u001b[0;34m(sub_list_str, conditions, part_epo, signaltype, scoring, reg, load_chance_data)\u001b[0m\n\u001b[1;32m     46\u001b[0m                     reg, shuf_labs, sub_folder, 'scores')\n\u001b[1;32m     47\u001b[0m     \u001b[0mfname\u001b[0m \u001b[0;34m=\u001b[0m \u001b[0mop\u001b[0m\u001b[0;34m.\u001b[0m\u001b[0mjoin\u001b[0m\u001b[0;34m(\u001b[0m\u001b[0mfpath\u001b[0m\u001b[0;34m,\u001b[0m \u001b[0;34m'scores_per_sub.npy'\u001b[0m\u001b[0;34m)\u001b[0m\u001b[0;34m\u001b[0m\u001b[0;34m\u001b[0m\u001b[0m\n\u001b[0;32m---> 48\u001b[0;31m     \u001b[0mres\u001b[0m \u001b[0;34m=\u001b[0m \u001b[0mnp\u001b[0m\u001b[0;34m.\u001b[0m\u001b[0mload\u001b[0m\u001b[0;34m(\u001b[0m\u001b[0mfname\u001b[0m\u001b[0;34m)\u001b[0m\u001b[0;34m\u001b[0m\u001b[0;34m\u001b[0m\u001b[0m\n\u001b[0m\u001b[1;32m     49\u001b[0m     \u001b[0mtimes\u001b[0m \u001b[0;34m=\u001b[0m \u001b[0mnp\u001b[0m\u001b[0;34m.\u001b[0m\u001b[0mload\u001b[0m\u001b[0;34m(\u001b[0m\u001b[0mfname\u001b[0m\u001b[0;34m[\u001b[0m\u001b[0;34m:\u001b[0m\u001b[0;34m-\u001b[0m\u001b[0;36m4\u001b[0m\u001b[0;34m]\u001b[0m \u001b[0;34m+\u001b[0m \u001b[0;34m'__times.npy'\u001b[0m\u001b[0;34m)\u001b[0m\u001b[0;34m\u001b[0m\u001b[0;34m\u001b[0m\u001b[0m\n\u001b[1;32m     50\u001b[0m     \u001b[0mfreqs\u001b[0m \u001b[0;34m=\u001b[0m \u001b[0mnp\u001b[0m\u001b[0;34m.\u001b[0m\u001b[0mload\u001b[0m\u001b[0;34m(\u001b[0m\u001b[0mfname\u001b[0m\u001b[0;34m[\u001b[0m\u001b[0;34m:\u001b[0m\u001b[0;34m-\u001b[0m\u001b[0;36m4\u001b[0m\u001b[0;34m]\u001b[0m \u001b[0;34m+\u001b[0m \u001b[0;34m'__freqs.npy'\u001b[0m\u001b[0;34m)\u001b[0m\u001b[0;34m\u001b[0m\u001b[0;34m\u001b[0m\u001b[0m\n",
      "\u001b[0;32m/mpcdf/soft/SLE_12/packages/x86_64/anaconda/3/2019.03/lib/python3.7/site-packages/numpy/lib/npyio.py\u001b[0m in \u001b[0;36mload\u001b[0;34m(file, mmap_mode, allow_pickle, fix_imports, encoding)\u001b[0m\n\u001b[1;32m    413\u001b[0m         \u001b[0mown_fid\u001b[0m \u001b[0;34m=\u001b[0m \u001b[0;32mFalse\u001b[0m\u001b[0;34m\u001b[0m\u001b[0;34m\u001b[0m\u001b[0m\n\u001b[1;32m    414\u001b[0m     \u001b[0;32melse\u001b[0m\u001b[0;34m:\u001b[0m\u001b[0;34m\u001b[0m\u001b[0;34m\u001b[0m\u001b[0m\n\u001b[0;32m--> 415\u001b[0;31m         \u001b[0mfid\u001b[0m \u001b[0;34m=\u001b[0m \u001b[0mopen\u001b[0m\u001b[0;34m(\u001b[0m\u001b[0mos_fspath\u001b[0m\u001b[0;34m(\u001b[0m\u001b[0mfile\u001b[0m\u001b[0;34m)\u001b[0m\u001b[0;34m,\u001b[0m \u001b[0;34m\"rb\"\u001b[0m\u001b[0;34m)\u001b[0m\u001b[0;34m\u001b[0m\u001b[0;34m\u001b[0m\u001b[0m\n\u001b[0m\u001b[1;32m    416\u001b[0m         \u001b[0mown_fid\u001b[0m \u001b[0;34m=\u001b[0m \u001b[0;32mTrue\u001b[0m\u001b[0;34m\u001b[0m\u001b[0;34m\u001b[0m\u001b[0m\n\u001b[1;32m    417\u001b[0m \u001b[0;34m\u001b[0m\u001b[0m\n",
      "\u001b[0;31mFileNotFoundError\u001b[0m: [Errno 2] No such file or directory: '/draco/ptmp/fklotzsche/Experiments/vMemEcc/Data/DataMNE/EEG/10_tfr_decoding/stimon/collapsed/EccS_vs_EccM/roc_auc/VME_S01/scores/scores_per_sub.npy'"
     ]
    }
   ],
   "source": [
    "conditions = ['EccS', 'EccM']\n",
    "\n",
    "sub_list = np.setdiff1d(np.arange(1, 28), config.ids_missing_subjects +\n",
    "                        config.ids_excluded_subjects)               \n",
    "sub_list_str = ['VME_S%02d' % sub for sub in sub_list]\n",
    "\n",
    "scores_list = list()\n",
    "for subID in sub_list_str:\n",
    "    scores_sub, times, freqs = load_scores_decod_tfr([subID], conditions, signaltype='collapsed')\n",
    "    scores_list.append(scores_sub)\n",
    "\n",
    "scores = np.concatenate(scores_list)\n",
    "\n",
    "# load results from decoding with shuffled labels:\n",
    "scores_list_chance = list()\n",
    "for subID in sub_list_str:\n",
    "    scores_sub_chance, times_chance, freqs_chance = load_scores_decod_tfr([subID], conditions, signaltype='collapsed', \n",
    "                                                                          load_chance_data=True)\n",
    "    scores_list_chance.append(scores_sub_chance)\n",
    "\n",
    "scores_chance = np.concatenate(scores_list_chance)\n",
    "assert (np.all(times == times_chance) and np.all(freqs == freqs_chance)), 'You try to load data with different times or freqs.'\n",
    "\n",
    "\n",
    "# Specify freqs of interest as list, tuple or list of tuples:\n",
    "# (8,13): include all freq between 8 and 13\n",
    "# [8, 13]: include all freq windows that entail either 8 or 13 (but not 9-11 for example)\n",
    "freqs_of_interest = (10,13)\n",
    "# translate freqs_of_interest to index:\n",
    "idx_freqs_of_intr = get_freq_indices(freqs_of_interest, freqs)\n",
    "\n",
    "\n",
    "# Setup dict with infos for plotting:\n",
    "plt_dict = defaultdict(dict)\n",
    "pp = {'t_stimon':  0,\n",
    "      'xmin': times[0],\n",
    "      'xmax': times[-1]}\n",
    "plt_dict['stimon'] = pp\n",
    "\n",
    "\n",
    "fig, ax = plt.subplots(2,1, sharex=True)\n",
    "\n",
    "scores_avg = np.mean(scores, axis=0)\n",
    "im = plot_decod_image_tfr(scores_avg, conditions, times, freqs, ax[0])\n",
    "\n",
    "acc_df = pd.DataFrame(scores[:, idx_freqs_of_intr, :].mean(axis=1)) #average across freqs of interest\n",
    "acc_df.columns = times\n",
    "acc_df_long = acc_df.melt(var_name='time', value_name='score')  # put into long format\n",
    "acc_df_long['decoding target'] = 'Load'\n",
    "\n",
    "# run CBP test to find sign. clusters' times:\n",
    "scores_ts = scores[:, idx_freqs_of_intr, :].mean(axis=1)\n",
    "T_obs, clusters, p_values = run_cbp_test(scores_ts - 0.5)\n",
    "idx_sign_clusters = np.argwhere(p_values<0.01)\n",
    "sign_cluster_times = [times[clusters[idx[0]]][[0,-1]] for idx in idx_sign_clusters]\n",
    "\n",
    "plot_score_ts(acc_df_long, plt_dict['stimon'], color='black', sign_clusters=sign_cluster_times, ax=ax[1])\n",
    "fig.subplots_adjust(right=0.8)\n",
    "cbar_ax = fig.add_axes([0.82, 0.55, 0.01, 0.25])\n",
    "fig.colorbar(im, cax=cbar_ax, label='accuracy')\n",
    "txt_ax = fig.add_axes([0.88, 0.15, 0.01, 0.25])\n",
    "txt_ax.set_axis_off()\n",
    "freqs_formatted = '\\n'.join([str(f) for f in freqs[idx_freqs_of_intr]])\n",
    "txt_ax.text(0.5*(1), 0.5*(1), f'avg. over\\nfrequency\\nbands:\\n{freqs_formatted}',\n",
    "        horizontalalignment='center',\n",
    "        verticalalignment='center',\n",
    "        fontsize=12, color='black',\n",
    "        transform=txt_ax.transAxes)"
   ]
  },
  {
   "cell_type": "code",
   "execution_count": 99,
   "metadata": {},
   "outputs": [],
   "source": [
    "\n",
    "sub_list = np.setdiff1d(np.arange(1, 28), config.ids_missing_subjects +\n",
    "                        config.ids_excluded_subjects)               \n",
    "sub_list_str = ['VME_S%02d' % sub for sub in sub_list]\n",
    "\n",
    "part_epo='stimon'\n",
    "signaltype='collapsed'\n",
    "shuf_labs = 'labels_shuffled'\n",
    "\n",
    "for i, ecc in enumerate(['S', 'M', 'L']):\n",
    "    #conditions = ['EccS', 'Ecc' + ecc]\n",
    "    conditions = ['LoadLowEcc'+ecc, 'LoadHighEcc'+ecc]\n",
    "    contrast_str = '_vs_'.join(conditions) \n",
    "    for v2w_str in ['patterns', 'scores']:\n",
    "        fpath = op.join(config.path_decod_tfr, part_epo, signaltype, contrast_str, shuf_labs, '', v2w_str)\n",
    "        fname = op.join(fpath, v2w_str+'_per_sub.npy')\n",
    "        vs_to_write = np.load(fname)\n",
    "        timesp = np.load(fname[:-4] + '__times.npy')\n",
    "        freqsp = np.load(fname[:-4] + '__freqs.npy')\n",
    "        for subID, v_to_write in zip(sub_list_str, vs_to_write):\n",
    "            sub_folder = subID\n",
    "            fpath = op.join(config.path_decod_tfr, part_epo, signaltype, contrast_str, shuf_labs, sub_folder, v2w_str)\n",
    "            helpers.chkmk_dir(fpath)\n",
    "            fname = op.join(fpath, v2w_str+'_per_sub.npy')\n",
    "            res = np.save(fname, v_to_write)\n",
    "            times = np.save(fname[:-4] + '__times.npy', timesp)\n",
    "            freqs = np.save(fname[:-4] + '__freqs.npy', freqsp)"
   ]
  },
  {
   "cell_type": "code",
   "execution_count": 98,
   "metadata": {},
   "outputs": [
    {
     "data": {
      "text/plain": [
       "'/draco/ptmp/fklotzsche/Experiments/vMemEcc/Data/DataMNE/EEG/10_tfr_decoding/stimon/collapsed/LoadLowEccL_vs_LoadHighEccL/VME_S27/scores/scores_per_sub.npy'"
      ]
     },
     "execution_count": 98,
     "metadata": {},
     "output_type": "execute_result"
    }
   ],
   "source": [
    "fname"
   ]
  },
  {
   "cell_type": "code",
   "execution_count": 52,
   "metadata": {},
   "outputs": [],
   "source": [
    "from shutil import copyfile\n",
    "for i, ecc in enumerate(['S', 'M', 'L']):\n",
    "    #conditions = ['EccM', 'Ecc' + ecc]\n",
    "    conditions = ['LoadLowEcc'+ecc, 'LoadHighEcc'+ecc]\n",
    "    contrast_str = '_vs_'.join(conditions) \n",
    "    shuf_labs = 'labels_shuffled'\n",
    "    fpath = op.join(config.path_decod_tfr, part_epo, signaltype, contrast_str, shuf_labs, '')\n",
    "    fname = op.join(fpath, 'info.json')\n",
    "    for subID in sub_list_str:\n",
    "        fpath_targ = op.join(fpath, subID)\n",
    "        fname_targ = op.join(fpath_targ, 'info.json')\n",
    "        copyfile(fname, fname_targ)"
   ]
  },
  {
   "cell_type": "code",
   "execution_count": 89,
   "metadata": {},
   "outputs": [
    {
     "data": {
      "text/plain": [
       "(10, 11)"
      ]
     },
     "execution_count": 89,
     "metadata": {},
     "output_type": "execute_result"
    }
   ],
   "source": [
    "config"
   ]
  },
  {
   "cell_type": "code",
   "execution_count": 35,
   "metadata": {},
   "outputs": [
    {
     "ename": "ValueError",
     "evalue": "The palette dictionary is missing keys: {'chance', 'Load: 2 vs. 4'}",
     "output_type": "error",
     "traceback": [
      "\u001b[0;31m---------------------------------------------------------------------------\u001b[0m",
      "\u001b[0;31mValueError\u001b[0m                                Traceback (most recent call last)",
      "\u001b[0;32m<ipython-input-35-3c30121c67d1>\u001b[0m in \u001b[0;36m<module>\u001b[0;34m\u001b[0m\n\u001b[1;32m     92\u001b[0m \u001b[0;34m\u001b[0m\u001b[0m\n\u001b[1;32m     93\u001b[0m     plot_score_ts(acc_df_long, plt_dict['stimon'], color=config.colors['Ecc'+ecc], sign_clusters=sign_cluster_times, \n\u001b[0;32m---> 94\u001b[0;31m       scoring=scoring, ax=axx[1,i], n_boot=1000)\n\u001b[0m\u001b[1;32m     95\u001b[0m     \u001b[0maxx\u001b[0m\u001b[0;34m[\u001b[0m\u001b[0;36m1\u001b[0m\u001b[0;34m,\u001b[0m\u001b[0mi\u001b[0m\u001b[0;34m]\u001b[0m\u001b[0;34m.\u001b[0m\u001b[0mget_legend\u001b[0m\u001b[0;34m(\u001b[0m\u001b[0;34m)\u001b[0m\u001b[0;34m.\u001b[0m\u001b[0mremove\u001b[0m\u001b[0;34m(\u001b[0m\u001b[0;34m)\u001b[0m\u001b[0;34m\u001b[0m\u001b[0;34m\u001b[0m\u001b[0m\n\u001b[1;32m     96\u001b[0m \u001b[0;34m\u001b[0m\u001b[0m\n",
      "\u001b[0;32m<ipython-input-2-ed8c30a85dff>\u001b[0m in \u001b[0;36mplot_score_ts\u001b[0;34m(scores_df, plt_dict, color, sign_clusters, p_lvl, scoring, ax, n_boot)\u001b[0m\n\u001b[1;32m    170\u001b[0m                  \u001b[0mci\u001b[0m \u001b[0;34m=\u001b[0m \u001b[0;36m95\u001b[0m\u001b[0;34m,\u001b[0m\u001b[0;34m\u001b[0m\u001b[0;34m\u001b[0m\u001b[0m\n\u001b[1;32m    171\u001b[0m                  \u001b[0mn_boot\u001b[0m\u001b[0;34m=\u001b[0m\u001b[0mn_boot\u001b[0m\u001b[0;34m,\u001b[0m\u001b[0;34m\u001b[0m\u001b[0;34m\u001b[0m\u001b[0m\n\u001b[0;32m--> 172\u001b[0;31m                  ax=ax)\n\u001b[0m\u001b[1;32m    173\u001b[0m     \u001b[0mytick_range\u001b[0m \u001b[0;34m=\u001b[0m \u001b[0max\u001b[0m\u001b[0;34m.\u001b[0m\u001b[0mget_ylim\u001b[0m\u001b[0;34m(\u001b[0m\u001b[0;34m)\u001b[0m\u001b[0;34m\u001b[0m\u001b[0;34m\u001b[0m\u001b[0m\n\u001b[1;32m    174\u001b[0m     \u001b[0max\u001b[0m\u001b[0;34m.\u001b[0m\u001b[0mset\u001b[0m\u001b[0;34m(\u001b[0m\u001b[0mxlim\u001b[0m\u001b[0;34m=\u001b[0m\u001b[0;34m(\u001b[0m\u001b[0mplt_dict\u001b[0m\u001b[0;34m[\u001b[0m\u001b[0;34m'xmin'\u001b[0m\u001b[0;34m]\u001b[0m\u001b[0;34m,\u001b[0m \u001b[0mplt_dict\u001b[0m\u001b[0;34m[\u001b[0m\u001b[0;34m'xmax'\u001b[0m\u001b[0;34m]\u001b[0m\u001b[0;34m)\u001b[0m\u001b[0;34m,\u001b[0m \u001b[0mylim\u001b[0m\u001b[0;34m=\u001b[0m\u001b[0mytick_range\u001b[0m\u001b[0;34m)\u001b[0m\u001b[0;34m\u001b[0m\u001b[0;34m\u001b[0m\u001b[0m\n",
      "\u001b[0;32m/mpcdf/soft/SLE_12/packages/x86_64/anaconda/3/2019.03/lib/python3.7/site-packages/seaborn/relational.py\u001b[0m in \u001b[0;36mlineplot\u001b[0;34m(x, y, hue, size, style, data, palette, hue_order, hue_norm, sizes, size_order, size_norm, dashes, markers, style_order, units, estimator, ci, n_boot, sort, err_style, err_kws, legend, ax, **kwargs)\u001b[0m\n\u001b[1;32m   1076\u001b[0m         \u001b[0mdashes\u001b[0m\u001b[0;34m=\u001b[0m\u001b[0mdashes\u001b[0m\u001b[0;34m,\u001b[0m \u001b[0mmarkers\u001b[0m\u001b[0;34m=\u001b[0m\u001b[0mmarkers\u001b[0m\u001b[0;34m,\u001b[0m \u001b[0mstyle_order\u001b[0m\u001b[0;34m=\u001b[0m\u001b[0mstyle_order\u001b[0m\u001b[0;34m,\u001b[0m\u001b[0;34m\u001b[0m\u001b[0;34m\u001b[0m\u001b[0m\n\u001b[1;32m   1077\u001b[0m         \u001b[0munits\u001b[0m\u001b[0;34m=\u001b[0m\u001b[0munits\u001b[0m\u001b[0;34m,\u001b[0m \u001b[0mestimator\u001b[0m\u001b[0;34m=\u001b[0m\u001b[0mestimator\u001b[0m\u001b[0;34m,\u001b[0m \u001b[0mci\u001b[0m\u001b[0;34m=\u001b[0m\u001b[0mci\u001b[0m\u001b[0;34m,\u001b[0m \u001b[0mn_boot\u001b[0m\u001b[0;34m=\u001b[0m\u001b[0mn_boot\u001b[0m\u001b[0;34m,\u001b[0m\u001b[0;34m\u001b[0m\u001b[0;34m\u001b[0m\u001b[0m\n\u001b[0;32m-> 1078\u001b[0;31m         \u001b[0msort\u001b[0m\u001b[0;34m=\u001b[0m\u001b[0msort\u001b[0m\u001b[0;34m,\u001b[0m \u001b[0merr_style\u001b[0m\u001b[0;34m=\u001b[0m\u001b[0merr_style\u001b[0m\u001b[0;34m,\u001b[0m \u001b[0merr_kws\u001b[0m\u001b[0;34m=\u001b[0m\u001b[0merr_kws\u001b[0m\u001b[0;34m,\u001b[0m \u001b[0mlegend\u001b[0m\u001b[0;34m=\u001b[0m\u001b[0mlegend\u001b[0m\u001b[0;34m,\u001b[0m\u001b[0;34m\u001b[0m\u001b[0;34m\u001b[0m\u001b[0m\n\u001b[0m\u001b[1;32m   1079\u001b[0m     )\n\u001b[1;32m   1080\u001b[0m \u001b[0;34m\u001b[0m\u001b[0m\n",
      "\u001b[0;32m/mpcdf/soft/SLE_12/packages/x86_64/anaconda/3/2019.03/lib/python3.7/site-packages/seaborn/relational.py\u001b[0m in \u001b[0;36m__init__\u001b[0;34m(self, x, y, hue, size, style, data, palette, hue_order, hue_norm, sizes, size_order, size_norm, dashes, markers, style_order, units, estimator, ci, n_boot, sort, err_style, err_kws, legend)\u001b[0m\n\u001b[1;32m    668\u001b[0m         )\n\u001b[1;32m    669\u001b[0m \u001b[0;34m\u001b[0m\u001b[0m\n\u001b[0;32m--> 670\u001b[0;31m         \u001b[0mself\u001b[0m\u001b[0;34m.\u001b[0m\u001b[0mparse_hue\u001b[0m\u001b[0;34m(\u001b[0m\u001b[0mplot_data\u001b[0m\u001b[0;34m[\u001b[0m\u001b[0;34m\"hue\"\u001b[0m\u001b[0;34m]\u001b[0m\u001b[0;34m,\u001b[0m \u001b[0mpalette\u001b[0m\u001b[0;34m,\u001b[0m \u001b[0mhue_order\u001b[0m\u001b[0;34m,\u001b[0m \u001b[0mhue_norm\u001b[0m\u001b[0;34m)\u001b[0m\u001b[0;34m\u001b[0m\u001b[0;34m\u001b[0m\u001b[0m\n\u001b[0m\u001b[1;32m    671\u001b[0m         \u001b[0mself\u001b[0m\u001b[0;34m.\u001b[0m\u001b[0mparse_size\u001b[0m\u001b[0;34m(\u001b[0m\u001b[0mplot_data\u001b[0m\u001b[0;34m[\u001b[0m\u001b[0;34m\"size\"\u001b[0m\u001b[0;34m]\u001b[0m\u001b[0;34m,\u001b[0m \u001b[0msizes\u001b[0m\u001b[0;34m,\u001b[0m \u001b[0msize_order\u001b[0m\u001b[0;34m,\u001b[0m \u001b[0msize_norm\u001b[0m\u001b[0;34m)\u001b[0m\u001b[0;34m\u001b[0m\u001b[0;34m\u001b[0m\u001b[0m\n\u001b[1;32m    672\u001b[0m         \u001b[0mself\u001b[0m\u001b[0;34m.\u001b[0m\u001b[0mparse_style\u001b[0m\u001b[0;34m(\u001b[0m\u001b[0mplot_data\u001b[0m\u001b[0;34m[\u001b[0m\u001b[0;34m\"style\"\u001b[0m\u001b[0;34m]\u001b[0m\u001b[0;34m,\u001b[0m \u001b[0mmarkers\u001b[0m\u001b[0;34m,\u001b[0m \u001b[0mdashes\u001b[0m\u001b[0;34m,\u001b[0m \u001b[0mstyle_order\u001b[0m\u001b[0;34m)\u001b[0m\u001b[0;34m\u001b[0m\u001b[0;34m\u001b[0m\u001b[0m\n",
      "\u001b[0;32m/mpcdf/soft/SLE_12/packages/x86_64/anaconda/3/2019.03/lib/python3.7/site-packages/seaborn/relational.py\u001b[0m in \u001b[0;36mparse_hue\u001b[0;34m(self, data, palette, order, norm)\u001b[0m\n\u001b[1;32m    365\u001b[0m             \u001b[0mlimits\u001b[0m \u001b[0;34m=\u001b[0m \u001b[0;32mNone\u001b[0m\u001b[0;34m\u001b[0m\u001b[0;34m\u001b[0m\u001b[0m\n\u001b[1;32m    366\u001b[0m             levels, palette = self.categorical_to_palette(\n\u001b[0;32m--> 367\u001b[0;31m                 \u001b[0mdata\u001b[0m\u001b[0;34m,\u001b[0m \u001b[0morder\u001b[0m\u001b[0;34m,\u001b[0m \u001b[0mpalette\u001b[0m\u001b[0;34m\u001b[0m\u001b[0;34m\u001b[0m\u001b[0m\n\u001b[0m\u001b[1;32m    368\u001b[0m             )\n\u001b[1;32m    369\u001b[0m \u001b[0;34m\u001b[0m\u001b[0m\n",
      "\u001b[0;32m/mpcdf/soft/SLE_12/packages/x86_64/anaconda/3/2019.03/lib/python3.7/site-packages/seaborn/relational.py\u001b[0m in \u001b[0;36mcategorical_to_palette\u001b[0;34m(self, data, order, palette)\u001b[0m\n\u001b[1;32m    207\u001b[0m             \u001b[0;32mif\u001b[0m \u001b[0many\u001b[0m\u001b[0;34m(\u001b[0m\u001b[0mmissing\u001b[0m\u001b[0;34m)\u001b[0m\u001b[0;34m:\u001b[0m\u001b[0;34m\u001b[0m\u001b[0;34m\u001b[0m\u001b[0m\n\u001b[1;32m    208\u001b[0m                 \u001b[0merr\u001b[0m \u001b[0;34m=\u001b[0m \u001b[0;34m\"The palette dictionary is missing keys: {}\"\u001b[0m\u001b[0;34m\u001b[0m\u001b[0;34m\u001b[0m\u001b[0m\n\u001b[0;32m--> 209\u001b[0;31m                 \u001b[0;32mraise\u001b[0m \u001b[0mValueError\u001b[0m\u001b[0;34m(\u001b[0m\u001b[0merr\u001b[0m\u001b[0;34m.\u001b[0m\u001b[0mformat\u001b[0m\u001b[0;34m(\u001b[0m\u001b[0mmissing\u001b[0m\u001b[0;34m)\u001b[0m\u001b[0;34m)\u001b[0m\u001b[0;34m\u001b[0m\u001b[0;34m\u001b[0m\u001b[0m\n\u001b[0m\u001b[1;32m    210\u001b[0m \u001b[0;34m\u001b[0m\u001b[0m\n\u001b[1;32m    211\u001b[0m         \u001b[0;32melse\u001b[0m\u001b[0;34m:\u001b[0m\u001b[0;34m\u001b[0m\u001b[0;34m\u001b[0m\u001b[0m\n",
      "\u001b[0;31mValueError\u001b[0m: The palette dictionary is missing keys: {'chance', 'Load: 2 vs. 4'}"
     ]
    },
    {
     "data": {
      "image/png": "[encoded data removed]",
      "text/plain": [
       "<Figure size 1080x1080 with 6 Axes>"
      ]
     },
     "metadata": {
      "needs_background": "light"
     },
     "output_type": "display_data"
    }
   ],
   "source": [
    "            \n",
    "sub_list = np.setdiff1d(np.arange(1, 28), config.ids_missing_subjects +\n",
    "                        config.ids_excluded_subjects) \n",
    "\n",
    "sub_list_str = ['VME_S%02d' % sub for sub in sub_list]\n",
    "        \n",
    "scoring = 'roc_auc' #'accuracy' #'roc_auc', #'balanced_accuracy' #  \n",
    "reg = 'shrinkage0.4' #'' # \n",
    "\n",
    "freqs_of_interest = (8, 13)\n",
    "# translate freqs_of_interest to index:\n",
    "#idx_freqs_of_intr = get_freq_indices(freqs_of_interest, freqs)\n",
    "\n",
    "\n",
    "\n",
    "\n",
    "\n",
    "fig, axx = plt.subplots(2,3, sharex=True, sharey='row')\n",
    "\n",
    "for i, ecc in enumerate(['S', 'M', 'L']):\n",
    "    conditions = ['LoadLowEcc' + ecc, 'LoadHighEcc' + ecc]\n",
    "\n",
    "    scores_list = list()\n",
    "    for subID in sub_list_str:\n",
    "        scores_sub, times, freqs = load_scores_decod_tfr([subID], conditions, signaltype='collapsed', reg=reg, scoring=scoring)\n",
    "#         scores_list.append(scores_sub.mean(axis=1))\n",
    "\n",
    "#     if len(scores_list[-1].shape) == 2: \n",
    "#         scores_list = [arr[np.newaxis, :, :] for arr in scores_list]\n",
    "\n",
    "    \n",
    "        scores_list.append(scores_sub)\n",
    "    if len(scores_list[-1].shape) == 2: \n",
    "        scores_list = [arr[np.newaxis, :, :] for arr in scores_list]\n",
    "    elif len(scores_list[-1].shape) == 4: \n",
    "        scores_list = [arr.mean(axis=1) for arr in scores_list]\n",
    "\n",
    "    scores = np.concatenate(scores_list)\n",
    "        \n",
    "    # load results from decoding with shuffled labels:\n",
    "    scores_list_chance = list()\n",
    "    for subID in sub_list_str:\n",
    "        scores_sub_chance, times_chance, freqs_chance = load_scores_decod_tfr([subID], conditions, signaltype='collapsed', \n",
    "                                                                              scoring='roc_auc', reg='', load_chance_data=True)\n",
    "        scores_list_chance.append(scores_sub_chance)\n",
    "    if len(scores_list_chance[-1].shape) == 2: \n",
    "        scores_list_chance = [arr[np.newaxis, :, :] for arr in scores_list_chance]\n",
    "    elif len(scores_list_chance[-1].shape) == 4: \n",
    "        scores_list_chance = [arr.mean(axis=1) for arr in scores_list_chance]\n",
    "\n",
    "    scores_chance = np.concatenate(scores_list_chance)\n",
    "    assert (np.all(times == times_chance) and np.all(freqs == freqs_chance)), 'You try to load data with different times or freqs.'\n",
    "\n",
    "    plt_dict = defaultdict(dict)\n",
    "    pp = {'t_stimon':  0,\n",
    "          'xmin': times[0]-0.25,\n",
    "          'xmax': times[-1]+0.25}\n",
    "    plt_dict['stimon'] = pp\n",
    "\n",
    "    # translate freqs_of_interest to index:\n",
    "    idx_freqs_of_intr = get_freq_indices(freqs_of_interest, freqs)\n",
    "\n",
    "    \n",
    "    # Plot heatmap (freqs x times):\n",
    "    scores_avg = np.mean(scores, axis=0) # average across subjects\n",
    "    im = plot_decod_image_tfr(scores_avg, conditions, times, freqs, scoring, axx[0,i])\n",
    "    \n",
    "    # Plot time series (averaged across frequencies of interest)\n",
    "    if not isinstance(idx_freqs_of_intr, list): \n",
    "        idx_freqs_oi = [idx_freqs_of_intr]\n",
    "    acc_df = pd.DataFrame(scores[:, idx_freqs_of_intr, :].mean(axis=1)) #average across freqs of interest\n",
    "    acc_df.columns = times\n",
    "    acc_df_long = acc_df.melt(var_name='time', value_name='score')  # put into long format\n",
    "    acc_df_long['decoding target'] = 'Load'\n",
    "    acc_df_long['labels'] = 'Load: 2 vs. 4'\n",
    "\n",
    "    acc_df_chance = pd.DataFrame(scores_chance[:, idx_freqs_of_intr, :].mean(axis=1)) #average across freqs of interest\n",
    "    acc_df_chance.columns = times\n",
    "    acc_df_long_chance = acc_df_chance.melt(var_name='time', value_name='score')  # put into long format\n",
    "    acc_df_long_chance['decoding target'] = 'Load'\n",
    "    acc_df_long_chance['labels'] = 'chance'\n",
    "\n",
    "    acc_df_long = pd.concat([acc_df_long, acc_df_long_chance])\n",
    "    \n",
    "    # run CBP test to find sign. clusters' times:\n",
    "    scores_ts = scores[:, idx_freqs_of_intr, :].mean(axis=1)\n",
    "    scores_ts_chance = scores_chance[:, idx_freqs_of_intr, :].mean(axis=1)\n",
    "    \n",
    "    T_obs, clusters, p_values = run_cbp_test(scores_ts - scores_ts_chance) #  #) #0.49) #  \n",
    "    idx_sign_clusters = np.argwhere(p_values<0.05)\n",
    "    sign_cluster_times = [times[clusters[idx[0]]][[0,-1]] for idx in idx_sign_clusters]\n",
    "\n",
    "    plot_score_ts(acc_df_long, plt_dict['stimon'], color=config.colors['Ecc'+ecc], sign_clusters=sign_cluster_times, \n",
    "                  scoring=scoring, ax=axx[1,i], n_boot=1000)\n",
    "    axx[1,i].get_legend().remove()\n",
    "\n",
    "fig.subplots_adjust(right=0.8)\n",
    "cbar_ax = fig.add_axes([0.82, 0.55, 0.01, 0.25])\n",
    "if scoring == 'roc_auc':\n",
    "    scoring_str = 'ROC AUC'\n",
    "else:\n",
    "    scoring_str = scoring\n",
    "fig.colorbar(im, cax=cbar_ax, label=scoring_str)\n",
    "txt_ax = fig.add_axes([0.85, 0.15, 0.01, 0.25])\n",
    "txt_ax.set_axis_off()\n",
    "freqs_formatted = '\\n'.join([str(f) for f in freqs[idx_freqs_of_intr]])\n",
    "txt_ax.text(0.5*(1), 0.5*(1), f'avg. over\\nfrequency\\nbands:\\n{freqs_formatted}',\n",
    "        horizontalalignment='center',\n",
    "        verticalalignment='center',\n",
    "        fontsize=12, color='black',\n",
    "        transform=txt_ax.transAxes)\n",
    "\n",
    "    \n",
    "plt.rcParams['figure.figsize'] = [13*1.6, 5*1.6]\n",
    "plt.rcParams[\"legend.loc\"] = 'upper left'"
   ]
  },
  {
   "cell_type": "code",
   "execution_count": 86,
   "metadata": {},
   "outputs": [],
   "source": [
    "fpath = op.join(config.path_decod_tfr, '')"
   ]
  },
  {
   "cell_type": "code",
   "execution_count": 158,
   "metadata": {},
   "outputs": [
    {
     "data": {
      "text/plain": [
       "array([1, 2, 3])"
      ]
     },
     "execution_count": 158,
     "metadata": {},
     "output_type": "execute_result"
    }
   ],
   "source": [
    "idx_freqs_of_intr"
   ]
  },
  {
   "cell_type": "code",
   "execution_count": 133,
   "metadata": {},
   "outputs": [],
   "source": [
    "# calc repeated anova:\n",
    "res = list()\n",
    "for i, ecc in enumerate(['S', 'M', 'L']):\n",
    "    conditions = ['LoadLowEcc' + ecc, 'LoadHighEcc' + ecc]\n",
    "\n",
    "    scores_list = list()\n",
    "    for subID in sub_list_str:\n",
    "        scores_sub, times, freqs = load_scores_decod_tfr([subID], conditions, signaltype='collapsed', \n",
    "                                                        scoring='roc_auc', reg='shrinkage0.4')\n",
    "        scores_list.append(scores_sub)\n",
    "    if len(scores_list[-1].shape) == 2: \n",
    "        scores_list = [arr[np.newaxis, :, :] for arr in scores_list]\n",
    "    elif len(scores_list[-1].shape) == 4: \n",
    "        scores_list = [arr.mean(axis=1) for arr in scores_list]\n",
    "\n",
    "    scores = np.concatenate(scores_list)\n",
    " \n",
    "    res.append(scores[:, idx_freqs_of_intr, :].mean(axis=1))\n",
    "data = np.asarray(res).swapaxes(1,0)\n",
    "fs, ps = mne.stats.f_mway_rm(data, factor_levels=[3])"
   ]
  },
  {
   "cell_type": "code",
   "execution_count": 134,
   "metadata": {},
   "outputs": [
    {
     "data": {
      "text/plain": [
       "array([0.88325134, 0.55940301, 0.08920254, 0.47055573, 0.88471453,\n",
       "       0.45836666, 0.90970696, 0.62383296, 0.69915379, 0.24835578,\n",
       "       0.02497544])"
      ]
     },
     "execution_count": 134,
     "metadata": {},
     "output_type": "execute_result"
    }
   ],
   "source": [
    "ps"
   ]
  },
  {
   "cell_type": "code",
   "execution_count": 141,
   "metadata": {},
   "outputs": [],
   "source": [
    "dd = dict()\n",
    "for i, ecc in enumerate(['S', 'M', 'L']):\n",
    "    conditions = ['LoadLowEcc' + ecc, 'LoadHighEcc' + ecc]\n",
    "\n",
    "    scores_list = list()\n",
    "    for subID in sub_list_str:\n",
    "        scores_sub, times, freqs = load_scores_decod_tfr([subID], conditions, signaltype='collapsed')\n",
    "        scores_list.append(scores_sub)\n",
    "\n",
    "    if len(scores_list[0].shape) == 2: \n",
    "        scores_list = [arr[np.newaxis, :, :] for arr in scores_list]\n",
    "    scores = np.concatenate(scores_list)\n",
    "    \n",
    "    # load results from decoding with shuffled labels:\n",
    "    scores_list_chance = list()\n",
    "    for subID in sub_list_str:\n",
    "        scores_sub_chance, times_chance, freqs_chance = load_scores_decod_tfr([subID], conditions, signaltype='collapsed', \n",
    "                                                                              load_chance_data=True)\n",
    "        scores_list_chance.append(scores_sub_chance)\n",
    "\n",
    "    if len(scores_list_chance[0].shape) == 2: \n",
    "        scores_list_chance = [arr[np.newaxis, :, :] for arr in scores_list_chance]\n",
    "    scores_chance = np.concatenate(scores_list_chance)\n",
    "    dd[ecc] = scores_chance"
   ]
  },
  {
   "cell_type": "code",
   "execution_count": 130,
   "metadata": {},
   "outputs": [
    {
     "data": {
      "text/plain": [
       "[<matplotlib.lines.Line2D at 0x2b2bab4ba080>]"
      ]
     },
     "execution_count": 130,
     "metadata": {},
     "output_type": "execute_result"
    },
    {
     "data": {
      "image/png": "[encoded data removed]",
      "text/plain": [
       "<Figure size 936x360 with 1 Axes>"
      ]
     },
     "metadata": {
      "needs_background": "light"
     },
     "output_type": "display_data"
    }
   ],
   "source": [
    "ha = [dd[ddd][:,idx_freqs_of_intr,:].mean(axis=1).mean(axis=0) for ddd in dd]\n",
    "he = np.asarray(ha)\n",
    "plt.plot(he.mean(axis=0))"
   ]
  },
  {
   "cell_type": "code",
   "execution_count": 27,
   "metadata": {},
   "outputs": [],
   "source": [
    "ha = [1, 2,3,4,5]"
   ]
  },
  {
   "cell_type": "code",
   "execution_count": 31,
   "metadata": {},
   "outputs": [
    {
     "data": {
      "text/plain": [
       "[3, 4, 5]"
      ]
     },
     "execution_count": 31,
     "metadata": {},
     "output_type": "execute_result"
    }
   ],
   "source": [
    "ha[2:]"
   ]
  },
  {
   "cell_type": "code",
   "execution_count": 34,
   "metadata": {},
   "outputs": [
    {
     "data": {
      "text/plain": [
       "array([1, 1, 1, 2, 2])"
      ]
     },
     "execution_count": 34,
     "metadata": {},
     "output_type": "execute_result"
    }
   ],
   "source": [
    "np.r_[[1,1,1,], [2,2]]"
   ]
  },
  {
   "cell_type": "code",
   "execution_count": 47,
   "metadata": {},
   "outputs": [],
   "source": [
    "\n",
    "\n",
    "def get_epos(subID, part_epo, signaltype, condition, event_dict):\n",
    "    \"\"\"Load a set of specified epochs.\n",
    "    \n",
    "     Parameters\n",
    "    ----------\n",
    "    subID : str\n",
    "        Subject identifier (eg, 'VME_S05')\n",
    "    part_epo : str\n",
    "        Part of the epoch. One of: 'fulllength', 'cue', 'stimon'\n",
    "    signaltype: str\n",
    "        Processing state of the sensor signal. One of: 'collapsed': electrode positions flipped for cue left trials\n",
    "                                                       'uncollapsed': normal electrode positions,\n",
    "                                                       'difference': difference signal: contra minus ipsilateral\n",
    "    condition: str\n",
    "        Experimental condition. Combination of 'Ecc' and 'Load' (eg, 'LoadLow' or 'LoadLowEccS')\n",
    "    event_dict: dict\n",
    "        Dictionnary explaining the event codes. Normally this can be grabbed from config.event_dict\n",
    "\n",
    "    Returns\n",
    "    -------\n",
    "    mne.Epochs\n",
    "        Array of selected epochs.\n",
    "    \"\"\"\n",
    "    \n",
    "    if signaltype == 'uncollapsed':\n",
    "        fname = op.join(config.path_rejepo, subID + '-' + part_epo +\n",
    "                        '-postica-rejepo' + '-epo.fif')\n",
    "    elif signaltype in ['collapsed']:\n",
    "        fname = op.join(config.path_epos_sorted, part_epo, signaltype,\n",
    "                        subID + '-epo.fif')\n",
    "    else:\n",
    "        raise ValueError(f'Invalid value for \"signaltype\": {signaltype}')\n",
    "    epos = mne.read_epochs(fname, verbose=False)\n",
    "    epos = epos.pick_types(eeg=True)\n",
    "    uppers = [letter.isupper() for letter in condition]\n",
    "    if (np.sum(uppers) > 2):\n",
    "        cond_1 = condition[:np.where(uppers)[0][2]]\n",
    "        cond_2 = condition[np.where(uppers)[0][2]:]\n",
    "        selection = epos[event_dict[cond_1]][event_dict[cond_2]]\n",
    "    else:\n",
    "        selection = epos[event_dict[condition]]\n",
    "    return(selection)\n",
    "\n",
    "\n",
    "def get_sensordata(subID, part_epo, signaltype, conditions, event_dict):\n",
    "    \"\"\"Load a set of specified epochs for classification.\n",
    "    \n",
    "     Parameters\n",
    "    ----------\n",
    "    subID : str\n",
    "        Subject identifier (eg, 'VME_S05')\n",
    "    part_epo : str\n",
    "        Part of the epoch. One of: 'fulllength', 'cue', 'stimon'\n",
    "    signaltype: str\n",
    "        Processing state of the sensor signal. One of: 'collapsed': electrode positions flipped for cue left trials\n",
    "                                                       'uncollapsed': normal electrode positions,\n",
    "                                                       'difference': difference signal: contra minus ipsilateral\n",
    "    conditions: list\n",
    "        List of experimental conditions. Combination of 'Ecc' and 'Load' (eg, 'LoadLow' or 'LoadLowEccS')\n",
    "    event_dict: dict\n",
    "        Dictionnary explaining the event codes. Normally this can be grabbed from config.event_dict\n",
    "\n",
    "    Returns\n",
    "    -------\n",
    "    X_epos: Epochs\n",
    "        Array of selected epochs, sorted by class (starting with class '0').\n",
    "    y: list\n",
    "        Sorted list of labels.\n",
    "    times_n: array, 1d\n",
    "        Times of the samples within the single epoch.\n",
    "    \"\"\"\n",
    "    \n",
    "    epos_dict = defaultdict(dict)\n",
    "    for cond in conditions:\n",
    "        epos_dict[cond] = get_epos(subID,\n",
    "                                   part_epo=part_epo,\n",
    "                                   signaltype=signaltype,\n",
    "                                   condition=cond,\n",
    "                                   event_dict=event_dict)\n",
    "\n",
    "    times = epos_dict[conditions[0]][0].copy().times\n",
    "\n",
    "    # Setup data:\n",
    "    X_epos = mne.concatenate_epochs([epos_dict[cond] for cond in conditions])\n",
    "    n_ = {cond: len(epos_dict[cond]) for cond in conditions}\n",
    "\n",
    "    times_n = times\n",
    "\n",
    "    y = np.r_[np.zeros(n_[conditions[0]]),\n",
    "              np.concatenate([(np.ones(n_[conditions[i]]) * i)\n",
    "                              for i in np.arange(1, len(conditions))])]\n",
    "\n",
    "    return X_epos, y, times_n\n",
    "\n"
   ]
  },
  {
   "cell_type": "code",
   "execution_count": 204,
   "metadata": {},
   "outputs": [
    {
     "name": "stderr",
     "output_type": "stream",
     "text": [
      "<ipython-input-47-8f67d153c6c3>:35: RuntimeWarning: The events passed to the Epochs constructor are not chronologically ordered.\n",
      "  epos = mne.read_epochs(fname, verbose=False)\n",
      "<ipython-input-47-8f67d153c6c3>:35: RuntimeWarning: The events passed to the Epochs constructor are not chronologically ordered.\n",
      "  epos = mne.read_epochs(fname, verbose=False)\n",
      "<ipython-input-47-8f67d153c6c3>:35: RuntimeWarning: The events passed to the Epochs constructor are not chronologically ordered.\n",
      "  epos = mne.read_epochs(fname, verbose=False)\n",
      "<ipython-input-47-8f67d153c6c3>:35: RuntimeWarning: The events passed to the Epochs constructor are not chronologically ordered.\n",
      "  epos = mne.read_epochs(fname, verbose=False)\n",
      "<ipython-input-47-8f67d153c6c3>:86: RuntimeWarning: The events passed to the Epochs constructor are not chronologically ordered.\n",
      "  X_epos = mne.concatenate_epochs([epos_dict[cond] for cond in conditions])\n"
     ]
    }
   ],
   "source": [
    "xx, yy, tt = get_sensordata('VME_S03', part_epo='stimon', signaltype='collapsed', conditions=['LoadLowEccS', 'LoadHighEccS'], event_dict=config.event_dict)"
   ]
  },
  {
   "cell_type": "code",
   "execution_count": 208,
   "metadata": {},
   "outputs": [
    {
     "data": {
      "text/plain": [
       "109"
      ]
     },
     "execution_count": 208,
     "metadata": {},
     "output_type": "execute_result"
    }
   ],
   "source": [
    "len(xx[config.event_dict['LoadLow']][config.event_dict['EccS']])"
   ]
  },
  {
   "cell_type": "code",
   "execution_count": 209,
   "metadata": {},
   "outputs": [
    {
     "data": {
      "text/plain": [
       "array([0., 0., 0., 0., 0., 0., 0., 0., 0., 0., 0., 0., 0., 0., 0., 0., 0.,\n",
       "       0., 0., 0., 0., 0., 0., 0., 0., 0., 0., 0., 0., 0., 0., 0., 0., 0.,\n",
       "       0., 0., 0., 0., 0., 0., 0., 0., 0., 0., 0., 0., 0., 0., 0., 0., 0.,\n",
       "       0., 0., 0., 0., 0., 0., 0., 0., 0., 0., 0., 0., 0., 0., 0., 0., 0.,\n",
       "       0., 0., 0., 0., 0., 0., 0., 0., 0., 0., 0., 0., 0., 0., 0., 0., 0.,\n",
       "       0., 0., 0., 0., 0., 0., 0., 0., 0., 0., 0., 0., 0., 0., 0., 0., 0.,\n",
       "       0., 0., 0., 0., 0., 0., 0., 1.])"
      ]
     },
     "execution_count": 209,
     "metadata": {},
     "output_type": "execute_result"
    }
   ],
   "source": [
    "yy[:110]"
   ]
  },
  {
   "cell_type": "code",
   "execution_count": 210,
   "metadata": {},
   "outputs": [
    {
     "data": {
      "text/plain": [
       "{'Stimulus/S155': 155,\n",
       " 'Stimulus/S157': 157,\n",
       " 'Stimulus/S154': 154,\n",
       " 'Stimulus/S156': 156}"
      ]
     },
     "execution_count": 210,
     "metadata": {},
     "output_type": "execute_result"
    }
   ],
   "source": [
    "xx[109:].event_id"
   ]
  },
  {
   "cell_type": "code",
   "execution_count": 211,
   "metadata": {},
   "outputs": [],
   "source": [
    "X_epos_filter = xx.copy().filter(8, 10, n_jobs=-2, fir_design='firwin')"
   ]
  },
  {
   "cell_type": "code",
   "execution_count": 212,
   "metadata": {},
   "outputs": [],
   "source": [
    "X = X_epos_filter.copy().crop(0, 0.5)"
   ]
  },
  {
   "cell_type": "code",
   "execution_count": 214,
   "metadata": {},
   "outputs": [
    {
     "data": {
      "text/plain": [
       "{'Stimulus/S155': 155,\n",
       " 'Stimulus/S157': 157,\n",
       " 'Stimulus/S154': 154,\n",
       " 'Stimulus/S156': 156}"
      ]
     },
     "execution_count": 214,
     "metadata": {},
     "output_type": "execute_result"
    }
   ],
   "source": [
    "X[109:].event_id"
   ]
  },
  {
   "cell_type": "code",
   "execution_count": 215,
   "metadata": {},
   "outputs": [
    {
     "data": {
      "text/plain": [
       "array([[ 2.48626044e-06,  2.30940545e-06,  2.10649389e-06, ...,\n",
       "        -4.34472577e-07, -5.88601995e-07, -7.36161994e-07],\n",
       "       [ 1.16699074e-06,  1.11800302e-06,  1.05414346e-06, ...,\n",
       "        -2.86567130e-08, -1.83513089e-07, -3.36693702e-07],\n",
       "       [ 2.61256241e-06,  2.65406473e-06,  2.65872898e-06, ...,\n",
       "         1.70941631e-07,  1.11324448e-07,  5.08777169e-08],\n",
       "       ...,\n",
       "       [ 2.40988808e-06,  2.24003704e-06,  2.04313967e-06, ...,\n",
       "        -4.51055519e-07, -6.40996903e-07, -8.23662525e-07],\n",
       "       [ 1.63546192e-06,  1.44502275e-06,  1.23992426e-06, ...,\n",
       "        -5.62511513e-07, -7.52985977e-07, -9.33361362e-07],\n",
       "       [ 4.23203369e-06,  3.65679579e-06,  3.02777297e-06, ...,\n",
       "         5.74772462e-07,  5.73793702e-07,  5.61429176e-07]])"
      ]
     },
     "execution_count": 215,
     "metadata": {},
     "output_type": "execute_result"
    }
   ],
   "source": [
    "Xddd = X.get_data()\n",
    "Xddd[117]"
   ]
  },
  {
   "cell_type": "code",
   "execution_count": 193,
   "metadata": {},
   "outputs": [],
   "source": [
    "ddd = X[116].get_data()"
   ]
  },
  {
   "cell_type": "code",
   "execution_count": 220,
   "metadata": {},
   "outputs": [
    {
     "data": {
      "text/plain": [
       "array([[[ True,  True,  True, ...,  True,  True,  True],\n",
       "        [ True,  True,  True, ...,  True,  True,  True],\n",
       "        [ True,  True,  True, ...,  True,  True,  True],\n",
       "        ...,\n",
       "        [ True,  True,  True, ...,  True,  True,  True],\n",
       "        [ True,  True,  True, ...,  True,  True,  True],\n",
       "        [ True,  True,  True, ...,  True,  True,  True]]])"
      ]
     },
     "execution_count": 220,
     "metadata": {},
     "output_type": "execute_result"
    }
   ],
   "source": [
    "X[110].get_data() == Xddd[110,:,:]"
   ]
  },
  {
   "cell_type": "code",
   "execution_count": 84,
   "metadata": {},
   "outputs": [
    {
     "data": {
      "text/plain": [
       "array([0., 0., 0., 0., 0., 0., 0., 0., 0., 0., 0., 0., 0., 0., 0., 0., 0.,\n",
       "       0., 0., 0., 0., 0., 0., 0., 0., 0., 0., 0., 0., 0., 0., 0., 0., 0.,\n",
       "       0., 0., 0., 0., 0., 0., 0., 0., 0., 0., 0., 0., 0., 0., 0., 0., 0.,\n",
       "       0., 0., 0., 0., 0., 0., 0., 0., 0., 0., 0., 0., 0., 0., 0., 0., 0.,\n",
       "       0., 0., 0., 0., 0., 0., 0., 0., 0., 0., 0., 0., 0., 0., 0., 0., 0.,\n",
       "       0., 0., 0., 0., 0., 0., 0., 0., 0., 0., 0., 0., 0., 0., 0., 0., 0.,\n",
       "       0., 0., 0., 0., 0., 0., 0., 0., 0., 0., 0., 0., 0., 0.])"
      ]
     },
     "execution_count": 84,
     "metadata": {},
     "output_type": "execute_result"
    }
   ],
   "source": [
    "yy[:116]"
   ]
  },
  {
   "cell_type": "code",
   "execution_count": null,
   "metadata": {},
   "outputs": [],
   "source": []
  },
  {
   "cell_type": "code",
   "execution_count": 85,
   "metadata": {},
   "outputs": [],
   "source": [
    "cv = StratifiedKFold(n_splits=5, shuffle=True, random_state=354)"
   ]
  },
  {
   "cell_type": "code",
   "execution_count": 86,
   "metadata": {},
   "outputs": [
    {
     "data": {
      "text/plain": [
       "StratifiedKFold(n_splits=5, random_state=354, shuffle=True)"
      ]
     },
     "execution_count": 86,
     "metadata": {},
     "output_type": "execute_result"
    }
   ],
   "source": [
    "cv"
   ]
  },
  {
   "cell_type": "code",
   "execution_count": 87,
   "metadata": {},
   "outputs": [
    {
     "data": {
      "text/plain": [
       "5"
      ]
     },
     "execution_count": 87,
     "metadata": {},
     "output_type": "execute_result"
    }
   ],
   "source": [
    "cv.get_n_splits()"
   ]
  },
  {
   "cell_type": "code",
   "execution_count": 188,
   "metadata": {},
   "outputs": [],
   "source": [
    "ha = cv.split(X_epos_filter, yy)"
   ]
  },
  {
   "cell_type": "code",
   "execution_count": 189,
   "metadata": {},
   "outputs": [
    {
     "name": "stdout",
     "output_type": "stream",
     "text": [
      "[[153. 151. 151. 151. 151. 153. 151. 151. 153. 151. 153. 152. 150. 150.\n",
      "  150. 152. 150. 152. 150. 150. 152. 150. 150. 152. 157. 157. 157. 155.\n",
      "  157. 157. 157. 155. 157. 155. 155. 154. 154. 156. 154. 156. 154. 156.\n",
      "  156. 154. 154. 156. 154. 154.]\n",
      " [  0.   0.   0.   0.   0.   0.   0.   0.   0.   0.   0.   0.   0.   0.\n",
      "    0.   0.   0.   0.   0.   0.   0.   0.   0.   0.   1.   1.   1.   1.\n",
      "    1.   1.   1.   1.   1.   1.   1.   1.   1.   1.   1.   1.   1.   1.\n",
      "    1.   1.   1.   1.   1.   1.]]\n",
      "[[153. 151. 153. 151. 151. 153. 153. 151. 153. 153. 153. 151. 153. 151.\n",
      "  151. 152. 150. 152. 152. 150. 152. 150. 150. 155. 155. 157. 157. 157.\n",
      "  155. 157. 155. 155. 155. 157. 155. 155. 157. 157. 154. 154. 156. 154.\n",
      "  156. 156. 154. 156.]\n",
      " [  0.   0.   0.   0.   0.   0.   0.   0.   0.   0.   0.   0.   0.   0.\n",
      "    0.   0.   0.   0.   0.   0.   0.   0.   0.   1.   1.   1.   1.   1.\n",
      "    1.   1.   1.   1.   1.   1.   1.   1.   1.   1.   1.   1.   1.   1.\n",
      "    1.   1.   1.   1.]]\n",
      "[[151. 151. 153. 151. 153. 153. 153. 153. 151. 153. 153. 151. 153. 150.\n",
      "  152. 150. 152. 150. 152. 152. 150. 150. 152. 157. 155. 155. 157. 155.\n",
      "  155. 155. 155. 155. 157. 157. 155. 154. 156. 154. 156. 156. 156. 156.\n",
      "  156. 156. 154. 154.]\n",
      " [  0.   0.   0.   0.   0.   0.   0.   0.   0.   0.   0.   0.   0.   0.\n",
      "    0.   0.   0.   0.   0.   0.   0.   0.   0.   1.   1.   1.   1.   1.\n",
      "    1.   1.   1.   1.   1.   1.   1.   1.   1.   1.   1.   1.   1.   1.\n",
      "    1.   1.   1.   1.]]\n",
      "[[151. 153. 153. 151. 153. 151. 151. 153. 152. 150. 152. 150. 150. 150.\n",
      "  150. 150. 152. 152. 152. 152. 152. 150. 150. 155. 155. 157. 155. 157.\n",
      "  155. 157. 155. 154. 156. 156. 154. 154. 156. 154. 154. 156. 154. 156.\n",
      "  154. 156. 156. 154.]\n",
      " [  0.   0.   0.   0.   0.   0.   0.   0.   0.   0.   0.   0.   0.   0.\n",
      "    0.   0.   0.   0.   0.   0.   0.   0.   0.   1.   1.   1.   1.   1.\n",
      "    1.   1.   1.   1.   1.   1.   1.   1.   1.   1.   1.   1.   1.   1.\n",
      "    1.   1.   1.   1.]]\n",
      "[[153. 151. 151. 151. 151. 153. 151. 151. 153. 151. 153. 152. 152. 152.\n",
      "  152. 150. 152. 150. 150. 152. 152. 150. 152. 157. 155. 157. 155. 157.\n",
      "  157. 157. 157. 155. 157. 157. 156. 156. 156. 154. 154. 154. 156. 156.\n",
      "  156. 154. 154. 156.]\n",
      " [  0.   0.   0.   0.   0.   0.   0.   0.   0.   0.   0.   0.   0.   0.\n",
      "    0.   0.   0.   0.   0.   0.   0.   0.   0.   1.   1.   1.   1.   1.\n",
      "    1.   1.   1.   1.   1.   1.   1.   1.   1.   1.   1.   1.   1.   1.\n",
      "    1.   1.   1.   1.]]\n"
     ]
    }
   ],
   "source": [
    "for train_index, test_index in ha:\n",
    "    #print(\"TRAIN:\", train_index, \"TEST:\", test_index)\n",
    "    print(np.vstack([X_epos_filter[test_index].events[:,2], yy[test_index]]))\n",
    "    \n",
    "    #X_train, X_test = X_epos_filter[train_index], X_epos_filter[test_index]\n",
    "    #y_train, y_test = y[train_index], y[test_index]"
   ]
  },
  {
   "cell_type": "code",
   "execution_count": 94,
   "metadata": {},
   "outputs": [
    {
     "ename": "TypeError",
     "evalue": "'generator' object is not subscriptable",
     "output_type": "error",
     "traceback": [
      "\u001b[0;31m---------------------------------------------------------------------------\u001b[0m",
      "\u001b[0;31mTypeError\u001b[0m                                 Traceback (most recent call last)",
      "\u001b[0;32m<ipython-input-94-13737f4113a7>\u001b[0m in \u001b[0;36m<module>\u001b[0;34m\u001b[0m\n\u001b[0;32m----> 1\u001b[0;31m \u001b[0mha\u001b[0m\u001b[0;34m[\u001b[0m\u001b[0;36m0\u001b[0m\u001b[0;34m]\u001b[0m\u001b[0;34m\u001b[0m\u001b[0;34m\u001b[0m\u001b[0m\n\u001b[0m",
      "\u001b[0;31mTypeError\u001b[0m: 'generator' object is not subscriptable"
     ]
    }
   ],
   "source": [
    "ha[0]"
   ]
  },
  {
   "cell_type": "code",
   "execution_count": null,
   "metadata": {},
   "outputs": [],
   "source": []
  }
 ],
 "metadata": {
  "kernelspec": {
   "display_name": "Python 3",
   "language": "python",
   "name": "python3"
  },
  "language_info": {
   "codemirror_mode": {
    "name": "ipython",
    "version": 3
   },
   "file_extension": ".py",
   "mimetype": "text/x-python",
   "name": "python",
   "nbconvert_exporter": "python",
   "pygments_lexer": "ipython3",
   "version": "3.7.3"
  }
 },
 "nbformat": 4,
 "nbformat_minor": 2
}
