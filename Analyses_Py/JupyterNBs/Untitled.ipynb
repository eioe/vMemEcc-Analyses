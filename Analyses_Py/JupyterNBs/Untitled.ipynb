{
 "cells": [
  {
   "cell_type": "code",
   "execution_count": 14,
   "metadata": {},
   "outputs": [
    {
     "ename": "SyntaxError",
     "evalue": "invalid syntax (<ipython-input-14-2f9a49ba0204>, line 10)",
     "output_type": "error",
     "traceback": [
      "\u001b[0;36m  File \u001b[0;32m\"<ipython-input-14-2f9a49ba0204>\"\u001b[0;36m, line \u001b[0;32m10\u001b[0m\n\u001b[0;31m    import ..library.helpers\u001b[0m\n\u001b[0m           ^\u001b[0m\n\u001b[0;31mSyntaxError\u001b[0m\u001b[0;31m:\u001b[0m invalid syntax\n"
     ]
    }
   ],
   "source": [
    "import mne\n",
    "import autoreject\n",
    "\n",
    "\n",
    "import os\n",
    "import os.path as op\n",
    "import numpy as np\n",
    "import csv\n",
    "from pathlib import Path\n",
    "import library.helpers\n",
    "from datetime import datetime\n",
    "top_package = __import__(__name__.split('.')[0])\n",
    "top_package"
   ]
  },
  {
   "cell_type": "code",
   "execution_count": 11,
   "metadata": {},
   "outputs": [
    {
     "name": "stdout",
     "output_type": "stream",
     "text": [
      "/draco/ptmp/fklotzsche/Experiments/vMemEcc/vme_analysis/Analyses_Py/JupyterNBs\n"
     ]
    }
   ],
   "source": [
    "path_study = Path(os.getcwd())#.parents[0] #str(Path(__file__).parents[2])\n",
    "print(path_study)"
   ]
  }
 ],
 "metadata": {
  "kernelspec": {
   "display_name": "Python 3",
   "language": "python",
   "name": "python3"
  },
  "language_info": {
   "codemirror_mode": {
    "name": "ipython",
    "version": 3
   },
   "file_extension": ".py",
   "mimetype": "text/x-python",
   "name": "python",
   "nbconvert_exporter": "python",
   "pygments_lexer": "ipython3",
   "version": "3.7.3"
  }
 },
 "nbformat": 4,
 "nbformat_minor": 2
}
