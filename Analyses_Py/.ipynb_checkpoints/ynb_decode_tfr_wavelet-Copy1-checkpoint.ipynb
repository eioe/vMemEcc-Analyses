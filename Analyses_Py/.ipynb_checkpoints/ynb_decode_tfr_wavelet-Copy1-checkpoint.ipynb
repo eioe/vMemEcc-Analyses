{
 "cells": [
  {
   "cell_type": "code",
   "execution_count": 1,
   "metadata": {},
   "outputs": [],
   "source": [
    "import os\n",
    "import os.path as op\n",
    "import json\n",
    "import numpy as np\n",
    "import pandas as pd\n",
    "import matplotlib as mpl\n",
    "import matplotlib.pyplot as plt\n",
    "import seaborn as sns\n",
    "from collections import defaultdict\n",
    "from scipy import stats\n",
    "from scipy.ndimage import measurements\n",
    "\n",
    "from sklearn.preprocessing import StandardScaler\n",
    "from sklearn.pipeline import make_pipeline\n",
    "from sklearn.linear_model import LogisticRegression\n",
    "#from sklearn.discriminant_analysis import LinearDiscriminantAnalysis\n",
    "#from sklearn.model_selection import StratifiedKFold, cross_val_score\n",
    "from sklearn.pipeline import make_pipeline\n",
    "#from sklearn.preprocessing import LabelEncoder\n",
    "\n",
    "import mne\n",
    "from mne.decoding import (SlidingEstimator,  # GeneralizingEstimator,\n",
    "                          cross_val_multiscore, LinearModel, get_coef)\n",
    "from library import helpers, config"
   ]
  },
  {
   "cell_type": "code",
   "execution_count": 2,
   "metadata": {},
   "outputs": [],
   "source": [
    "# %%\n",
    "\n",
    "def load_singletrialtfr(subID, condition, pwr_style='induced', \n",
    "                        part_epo='fulllength', baseline=None, mode=None): \n",
    "    fpath = op.join(config.path_tfrs, pwr_style, 'tfr_lists', part_epo)\n",
    "    fname = op.join(fpath, subID + '-collapsed-singletrialTFRs-tfr.h5')\n",
    "    tfr_ = mne.time_frequency.read_tfrs(fname)\n",
    "    for idx in range(len(tfr_)):\n",
    "        if tfr_[idx].comment == condition:\n",
    "            tfr_selection = tfr_[idx]\n",
    "    \n",
    "    if baseline is not None:\n",
    "        tfr_selection.apply_baseline(baseline=baseline, mode=mode)\n",
    "    \n",
    "    return tfr_selection\n",
    "\n",
    "\n",
    "def batch_trials(epos, batch_size):\n",
    "    n_trials = len(epos)\n",
    "    n_batches = int(n_trials / batch_size)\n",
    "    rnd_seq = np.arange(n_trials)\n",
    "    np.random.shuffle(rnd_seq)\n",
    "    rnd_seq = rnd_seq[:n_batches * batch_size]\n",
    "    rnd_seq = rnd_seq.reshape(-1, batch_size)\n",
    "    batches = [epos[b].average() for b in rnd_seq]\n",
    "    return(batches)\n",
    "\n",
    "\n",
    "\n",
    "def avg_time(data, step=25, times=None):\n",
    "    orig_shape = data.shape\n",
    "    n_fill = step - (orig_shape[-1] % step)\n",
    "    fill_shape = np.asarray(orig_shape)\n",
    "    fill_shape[-1] = n_fill\n",
    "    fill = np.ones(fill_shape) * np.nan\n",
    "    data_f = np.concatenate([data, fill], axis=-1)\n",
    "    data_res = np.nanmean(data_f.reshape(*orig_shape[:-1], -1, step), axis=-1)\n",
    "\n",
    "    if times is not None:\n",
    "        f_times = np.r_[times, [np.nan] * n_fill]\n",
    "        n_times = np.nanmean(f_times.reshape(-1, step), axis=-1)\n",
    "        return data_res, n_times\n",
    "    else:\n",
    "        return data_res\n"
   ]
  },
  {
   "cell_type": "code",
   "execution_count": 3,
   "metadata": {},
   "outputs": [],
   "source": [
    "def get_data(subID, part_epo, signaltype, conditions, event_dict,\n",
    "             batch_size=1, smooth_winsize=1):\n",
    "    tfr_dict = defaultdict(dict)\n",
    "    for cond in conditions:\n",
    "        tfr_dict[cond] = load_singletrialtfr(subID,\n",
    "                                             condition=cond,\n",
    "                                             pwr_style='induced',\n",
    "                                             part_epo=part_epo,\n",
    "                                             baseline=None,\n",
    "                                             mode=None)\n",
    "\n",
    "        times = tfr_dict[conditions[0]].times\n",
    "        freqs = tfr_dict[conditions[0]].freqs\n",
    "\n",
    "    # Setup data:\n",
    "    if batch_size > 1:\n",
    "        batches = defaultdict(list)\n",
    "        for cond in conditions:\n",
    "            batches[cond] = batch_trials(tfr_dict[cond], batch_size)\n",
    "            batches[cond] = np.asarray([b.data for b in batches[cond]])\n",
    "\n",
    "        X = np.concatenate([batches[cond].data for cond in conditions], axis=0)\n",
    "        n_ = {cond: batches[cond].shape[0] for cond in conditions}\n",
    "\n",
    "    else:\n",
    "        X = mne.concatenate_epochs([tfr_dict[cond] for cond in conditions])\n",
    "        X = X.data\n",
    "        n_ = {cond: len(tfr_dict[cond]) for cond in conditions}\n",
    "\n",
    "    if smooth_winsize > 1:\n",
    "        X, times_n = avg_time(X, smooth_winsize, times=times)\n",
    "    else:\n",
    "        times_n = times\n",
    "\n",
    "    y = np.r_[np.zeros(n_[conditions[0]]),\n",
    "              np.concatenate([(np.ones(n_[conditions[i]]) * i)\n",
    "                              for i in np.arange(1, len(conditions))])]\n",
    "\n",
    "    return X, y, times_n, freqs"
   ]
  },
  {
   "cell_type": "code",
   "execution_count": 4,
   "metadata": {},
   "outputs": [],
   "source": [
    "\n",
    "def decode(sub_list_str, conditions, part_epo='fulllength', signaltype='collapsed', freqs_decod='all',\n",
    "           event_dict=config.event_dict, n_rep_sub=100, shuffle_labels=False,\n",
    "           batch_size=1, smooth_winsize=1, save_single_rep_scores=False,\n",
    "           save_scores=True, save_patterns=False, overwrite=False):\n",
    "\n",
    "    contrast_str = '_vs_'.join(conditions)\n",
    "    scoring = 'accuracy'\n",
    "    cv_folds = 5\n",
    "\n",
    "\n",
    "    clf = make_pipeline(StandardScaler(),\n",
    "                        LinearModel(LogisticRegression(solver='liblinear',\n",
    "                                                       penalty='l2',\n",
    "                                                       random_state=42,\n",
    "                                                       verbose=False)))\n",
    "\n",
    "    se = SlidingEstimator(clf,\n",
    "                          scoring=scoring,\n",
    "                          n_jobs=-2,\n",
    "                          verbose=0)\n",
    "\n",
    "    sub_scores = list()\n",
    "    sub_scores_per_rep = list()\n",
    "    sub_coef = list()\n",
    "    completed_subs = list()\n",
    "\n",
    "    for subID in sub_list_str:\n",
    "        print(f'### RUNING SUBJECT {subID}')\n",
    "        all_scores = list()\n",
    "        all_coef = list()\n",
    "        for i in np.arange(n_rep_sub):\n",
    "            X_allfreqs, y, times_n, freqs = get_data(subID,\n",
    "                                                    part_epo=part_epo,\n",
    "                                                    signaltype=signaltype,\n",
    "                                                    conditions=conditions,\n",
    "                                                    event_dict=event_dict,\n",
    "                                                    batch_size=batch_size,\n",
    "                                                    smooth_winsize=smooth_winsize)\n",
    "            if freqs_decod == 'all':\n",
    "                freqs_select = freqs\n",
    "            else:\n",
    "                freqs_select = [f for f in freqs_decod if f in freqs]\n",
    "                if len(freqs_select) < len(freqs_decod):\n",
    "                    f_not_found = [f for f in freqs_decod if f not in freqs]\n",
    "                    ending = 'y' if (len(f_not_found) == 1) else 'ies'\n",
    "                    raise ValueError(f'Frequenc{ending} not present in data: {f_not_found}')\n",
    "            if shuffle_labels:\n",
    "                np.random.shuffle(y)\n",
    "            for i in np.unique(y):\n",
    "                print(f'Size of class {i}: {np.sum(y == i)}\\n')\n",
    "            \n",
    "            scores_per_freq = np.zeros((len(freqs_select), len(times_n)))\n",
    "            coefs_per_freq = np.zeros((len(freqs_select), X_allfreqs.shape[-3], X_allfreqs.shape[-1]))\n",
    "            for idx, freq in enumerate(freqs_select):\n",
    "                 print(f'#### Frequency {idx+1} from {len(freqs_select)}')\n",
    "                 freq_idx = list(freqs).index(freq)\n",
    "                 X = X_allfreqs[:,:,freq_idx,:]\n",
    "                 scores = cross_val_multiscore(se, X=X, y=y, cv=cv_folds, verbose=0)\n",
    "                 scores = np.mean(scores, axis=0)\n",
    "                 scores_per_freq[idx, :] = scores\n",
    "\n",
    "                 se.fit(X, y)\n",
    "                 coef = get_coef(se, 'patterns_', inverse_transform=True)\n",
    "                 coefs_per_freq[idx, :, :] = coef\n",
    "                 \n",
    "            all_scores.append(scores_per_freq)\n",
    "            all_coef.append(coef)\n",
    "\n",
    "        sub_scores.append(np.asarray(all_scores).mean(axis=0))\n",
    "        sub_coef.append(np.asarray(all_coef).mean(axis=0))\n",
    "\n",
    "        # save shizzle:\n",
    "#         if save_single_rep_scores:\n",
    "#             if len(sub_scores_per_rep) == 0:\n",
    "#                 sub_scores_per_rep = np.asarray(all_scores)\n",
    "#             else:\n",
    "#                 sub_scores_per_rep = np.concatenate([sub_scores_per_rep,\n",
    "#                                                     np.asarray(all_scores)],\n",
    "#                                                     axis=0)\n",
    "\n",
    "#             fpath = op.join(config.path_decod_temp, contrast_str, 'single_rep_data')\n",
    "#             helpers.chkmk_dir(fpath)\n",
    "#             fname = op.join(fpath,\n",
    "#                             f'reps{n_rep_sub}_' \\\n",
    "#                             f'swin{smooth_winsize}_batchs{batch_size}.npy')\n",
    "#             np.save(fname, sub_scores_per_rep)\n",
    "#             np.save(fname[:-4] + '__times' + '.npy', times_n)\n",
    "#             del(fpath, fname)\n",
    "                 \n",
    "        # save info:\n",
    "        if (save_scores or save_patterns):\n",
    "            completed_subs.append(subID)\n",
    "            info_dict = {'subs': completed_subs,\n",
    "                         'freqs': list(freqs),\n",
    "                         'cv_folds': cv_folds, \n",
    "                         'reps': n_rep_sub,\n",
    "                         'batch_size': batch_size, \n",
    "                         'smooth_winsize': smooth_winsize, \n",
    "                         'scoring': scoring}\n",
    "            if len(sub_list_str) > 1:\n",
    "                 sub_folder = '-'.join(sub_list_str[0], sub_list_str[-1])\n",
    "            else:\n",
    "                 sub_folder = sub_list_str[0]\n",
    "                 \n",
    "            fpath = op.join(config.path_decod_tfr, 'wavelet', part_epo, signaltype, contrast_str, sub_folder)\n",
    "            if (op.exists(fpath) and not overwrite):\n",
    "                path_save = op.join(config.path_decod_tfr, 'wavelet', part_epo, signaltype, contrast_str, \n",
    "                                    sub_folder + datetime_str)\n",
    "            else:\n",
    "                path_save = fpath\n",
    "            helpers.chkmk_dir(path_save)\n",
    "            fname = op.join(path_save, 'info.json')\n",
    "            with open(fname, 'w+') as outfile:  \n",
    "                json.dump(info_dict, outfile)\n",
    "                 \n",
    "                 \n",
    "        # save accuracies:\n",
    "        if save_scores:\n",
    "            sub_scores_ = np.asarray(sub_scores)\n",
    "            fpath = op.join(path_save, 'scores')\n",
    "            helpers.chkmk_dir(fpath)\n",
    "            fname = op.join(fpath, 'scores_per_sub.npy')\n",
    "            np.save(fname, sub_scores_)\n",
    "            np.save(fname[:-4] + '__times' + '.npy', times_n)\n",
    "            np.save(fname[:-4] + '__freqs' + '.npy', freqs_select)\n",
    "            del(fpath, fname)\n",
    "\n",
    "\n",
    "        # save patterns:\n",
    "        if save_patterns:\n",
    "            sub_patterns = np.asarray(sub_coef)\n",
    "            fpath = op.join(path_save, 'patterns')\n",
    "            helpers.chkmk_dir(fpath)\n",
    "            fname = op.join(fpath, 'patterns_per_sub.npy')\n",
    "            np.save(fname, sub_patterns)\n",
    "            np.save(fname[:-4] + '__times' + '.npy', times_n)\n",
    "            np.save(fname[:-4] + '__freqs' + '.npy', freqs_select)\n",
    "            del(fpath, fname)\n",
    "                 \n",
    "    return sub_scores, sub_coef, times_n, freqs\n"
   ]
  },
  {
   "cell_type": "code",
   "execution_count": 5,
   "metadata": {},
   "outputs": [
    {
     "name": "stdout",
     "output_type": "stream",
     "text": [
      "### RUNING SUBJECT VME_S01\n",
      "Reading /draco/ptmp/fklotzsche/Experiments/vMemEcc/Data/DataMNE/EEG/08_tfr/induced/tfr_lists/fulllength/VME_S01-collapsed-singletrialTFRs-tfr.h5 ...\n",
      "Not setting metadata\n",
      "Not setting metadata\n",
      "Not setting metadata\n",
      "Not setting metadata\n",
      "Not setting metadata\n",
      "Not setting metadata\n",
      "Not setting metadata\n",
      "Not setting metadata\n",
      "Not setting metadata\n",
      "Not setting metadata\n",
      "Not setting metadata\n",
      "Not setting metadata\n",
      "Reading /draco/ptmp/fklotzsche/Experiments/vMemEcc/Data/DataMNE/EEG/08_tfr/induced/tfr_lists/fulllength/VME_S01-collapsed-singletrialTFRs-tfr.h5 ...\n",
      "Not setting metadata\n",
      "Not setting metadata\n",
      "Not setting metadata\n",
      "Not setting metadata\n",
      "Not setting metadata\n",
      "Not setting metadata\n",
      "Not setting metadata\n",
      "Not setting metadata\n",
      "Not setting metadata\n",
      "Not setting metadata\n",
      "Not setting metadata\n",
      "Not setting metadata\n",
      "Size of class 0.0: 11\n",
      "\n",
      "Size of class 1.0: 10\n",
      "\n",
      "#### Frequency 1 from 2\n"
     ]
    },
    {
     "data": {
      "application/vnd.jupyter.widget-view+json": {
       "model_id": "cb96a8be20114f79bd2aec979ad610aa",
       "version_major": 2,
       "version_minor": 0
      },
      "text/plain": [
       "HBox(children=(FloatProgress(value=0.0, description='Fitting SlidingEstimator', max=40.0, style=ProgressStyle(…"
      ]
     },
     "metadata": {},
     "output_type": "display_data"
    },
    {
     "name": "stdout",
     "output_type": "stream",
     "text": [
      "\n"
     ]
    },
    {
     "name": "stderr",
     "output_type": "stream",
     "text": [
      "[Parallel(n_jobs=63)]: Using backend LokyBackend with 63 concurrent workers.\n",
      "[Parallel(n_jobs=63)]: Done   5 out of  40 | elapsed:    0.0s remaining:    0.2s\n",
      "[Parallel(n_jobs=63)]: Done  14 out of  40 | elapsed:    0.0s remaining:    0.1s\n",
      "[Parallel(n_jobs=63)]: Done  23 out of  40 | elapsed:    2.0s remaining:    1.5s\n",
      "[Parallel(n_jobs=63)]: Done  32 out of  40 | elapsed:    2.3s remaining:    0.6s\n",
      "[Parallel(n_jobs=63)]: Done  40 out of  40 | elapsed:    2.9s finished\n"
     ]
    },
    {
     "data": {
      "application/vnd.jupyter.widget-view+json": {
       "model_id": "2bd2ddf550b74654bb4b736bea589913",
       "version_major": 2,
       "version_minor": 0
      },
      "text/plain": [
       "HBox(children=(FloatProgress(value=0.0, description='Fitting SlidingEstimator', max=40.0, style=ProgressStyle(…"
      ]
     },
     "metadata": {},
     "output_type": "display_data"
    },
    {
     "name": "stdout",
     "output_type": "stream",
     "text": [
      "\n"
     ]
    },
    {
     "name": "stderr",
     "output_type": "stream",
     "text": [
      "[Parallel(n_jobs=63)]: Using backend LokyBackend with 63 concurrent workers.\n",
      "[Parallel(n_jobs=63)]: Done   5 out of  40 | elapsed:    0.0s remaining:    0.2s\n",
      "[Parallel(n_jobs=63)]: Done  14 out of  40 | elapsed:    0.0s remaining:    0.1s\n",
      "[Parallel(n_jobs=63)]: Done  23 out of  40 | elapsed:    0.0s remaining:    0.0s\n",
      "[Parallel(n_jobs=63)]: Done  32 out of  40 | elapsed:    0.0s remaining:    0.0s\n",
      "[Parallel(n_jobs=63)]: Done  40 out of  40 | elapsed:    0.0s finished\n"
     ]
    },
    {
     "data": {
      "application/vnd.jupyter.widget-view+json": {
       "model_id": "d29aaa4bf44b47468013ab8ab969aef0",
       "version_major": 2,
       "version_minor": 0
      },
      "text/plain": [
       "HBox(children=(FloatProgress(value=0.0, description='Fitting SlidingEstimator', max=40.0, style=ProgressStyle(…"
      ]
     },
     "metadata": {},
     "output_type": "display_data"
    },
    {
     "name": "stdout",
     "output_type": "stream",
     "text": [
      "\n"
     ]
    },
    {
     "name": "stderr",
     "output_type": "stream",
     "text": [
      "[Parallel(n_jobs=63)]: Using backend LokyBackend with 63 concurrent workers.\n",
      "[Parallel(n_jobs=63)]: Done   5 out of  40 | elapsed:    0.0s remaining:    0.2s\n",
      "[Parallel(n_jobs=63)]: Done  14 out of  40 | elapsed:    0.0s remaining:    0.1s\n",
      "[Parallel(n_jobs=63)]: Done  23 out of  40 | elapsed:    0.0s remaining:    0.0s\n",
      "[Parallel(n_jobs=63)]: Done  32 out of  40 | elapsed:    0.0s remaining:    0.0s\n",
      "[Parallel(n_jobs=63)]: Done  40 out of  40 | elapsed:    0.0s finished\n"
     ]
    },
    {
     "data": {
      "application/vnd.jupyter.widget-view+json": {
       "model_id": "3738ad144df64ef9a9aee99b15c118a3",
       "version_major": 2,
       "version_minor": 0
      },
      "text/plain": [
       "HBox(children=(FloatProgress(value=0.0, description='Fitting SlidingEstimator', max=40.0, style=ProgressStyle(…"
      ]
     },
     "metadata": {},
     "output_type": "display_data"
    },
    {
     "name": "stdout",
     "output_type": "stream",
     "text": [
      "\n"
     ]
    },
    {
     "name": "stderr",
     "output_type": "stream",
     "text": [
      "[Parallel(n_jobs=63)]: Using backend LokyBackend with 63 concurrent workers.\n",
      "[Parallel(n_jobs=63)]: Done   5 out of  40 | elapsed:    0.0s remaining:    0.2s\n",
      "[Parallel(n_jobs=63)]: Done  14 out of  40 | elapsed:    0.0s remaining:    0.1s\n",
      "[Parallel(n_jobs=63)]: Done  23 out of  40 | elapsed:    0.0s remaining:    0.0s\n",
      "[Parallel(n_jobs=63)]: Done  32 out of  40 | elapsed:    0.0s remaining:    0.0s\n",
      "[Parallel(n_jobs=63)]: Done  40 out of  40 | elapsed:    0.0s finished\n"
     ]
    },
    {
     "data": {
      "application/vnd.jupyter.widget-view+json": {
       "model_id": "caca75fa18464a1d9511f097376c1664",
       "version_major": 2,
       "version_minor": 0
      },
      "text/plain": [
       "HBox(children=(FloatProgress(value=0.0, description='Fitting SlidingEstimator', max=40.0, style=ProgressStyle(…"
      ]
     },
     "metadata": {},
     "output_type": "display_data"
    },
    {
     "name": "stdout",
     "output_type": "stream",
     "text": [
      "\n"
     ]
    },
    {
     "name": "stderr",
     "output_type": "stream",
     "text": [
      "[Parallel(n_jobs=63)]: Using backend LokyBackend with 63 concurrent workers.\n",
      "[Parallel(n_jobs=63)]: Done   5 out of  40 | elapsed:    0.0s remaining:    0.2s\n",
      "[Parallel(n_jobs=63)]: Done  14 out of  40 | elapsed:    0.0s remaining:    0.1s\n",
      "[Parallel(n_jobs=63)]: Done  23 out of  40 | elapsed:    0.0s remaining:    0.0s\n",
      "[Parallel(n_jobs=63)]: Done  32 out of  40 | elapsed:    0.0s remaining:    0.0s\n",
      "[Parallel(n_jobs=63)]: Done  40 out of  40 | elapsed:    0.0s finished\n"
     ]
    },
    {
     "data": {
      "application/vnd.jupyter.widget-view+json": {
       "model_id": "d9555c3dbdcf4375a29bef37f624a83b",
       "version_major": 2,
       "version_minor": 0
      },
      "text/plain": [
       "HBox(children=(FloatProgress(value=0.0, description='Fitting SlidingEstimator', max=40.0, style=ProgressStyle(…"
      ]
     },
     "metadata": {},
     "output_type": "display_data"
    },
    {
     "name": "stdout",
     "output_type": "stream",
     "text": [
      "\n",
      "#### Frequency 2 from 2\n"
     ]
    },
    {
     "data": {
      "application/vnd.jupyter.widget-view+json": {
       "model_id": "6089bd1236bb49b4874833d847bfe777",
       "version_major": 2,
       "version_minor": 0
      },
      "text/plain": [
       "HBox(children=(FloatProgress(value=0.0, description='Fitting SlidingEstimator', max=40.0, style=ProgressStyle(…"
      ]
     },
     "metadata": {},
     "output_type": "display_data"
    },
    {
     "name": "stdout",
     "output_type": "stream",
     "text": [
      "\n"
     ]
    },
    {
     "name": "stderr",
     "output_type": "stream",
     "text": [
      "[Parallel(n_jobs=63)]: Using backend LokyBackend with 63 concurrent workers.\n",
      "[Parallel(n_jobs=63)]: Done   5 out of  40 | elapsed:    0.0s remaining:    0.2s\n",
      "[Parallel(n_jobs=63)]: Done  14 out of  40 | elapsed:    0.0s remaining:    0.1s\n",
      "[Parallel(n_jobs=63)]: Done  23 out of  40 | elapsed:    0.0s remaining:    0.0s\n",
      "[Parallel(n_jobs=63)]: Done  32 out of  40 | elapsed:    0.0s remaining:    0.0s\n",
      "[Parallel(n_jobs=63)]: Done  40 out of  40 | elapsed:    0.0s finished\n"
     ]
    },
    {
     "data": {
      "application/vnd.jupyter.widget-view+json": {
       "model_id": "30ca5142de264bcb85c0ab48c0da195c",
       "version_major": 2,
       "version_minor": 0
      },
      "text/plain": [
       "HBox(children=(FloatProgress(value=0.0, description='Fitting SlidingEstimator', max=40.0, style=ProgressStyle(…"
      ]
     },
     "metadata": {},
     "output_type": "display_data"
    },
    {
     "name": "stdout",
     "output_type": "stream",
     "text": [
      "\n"
     ]
    },
    {
     "name": "stderr",
     "output_type": "stream",
     "text": [
      "[Parallel(n_jobs=63)]: Using backend LokyBackend with 63 concurrent workers.\n",
      "[Parallel(n_jobs=63)]: Done   5 out of  40 | elapsed:    0.0s remaining:    0.2s\n",
      "[Parallel(n_jobs=63)]: Done  14 out of  40 | elapsed:    0.0s remaining:    0.1s\n",
      "[Parallel(n_jobs=63)]: Done  23 out of  40 | elapsed:    0.0s remaining:    0.0s\n",
      "[Parallel(n_jobs=63)]: Done  32 out of  40 | elapsed:    0.0s remaining:    0.0s\n",
      "[Parallel(n_jobs=63)]: Done  40 out of  40 | elapsed:    0.0s finished\n"
     ]
    },
    {
     "data": {
      "application/vnd.jupyter.widget-view+json": {
       "model_id": "a5e4e3ab6b3b4014a65f1d24d9f9eb4e",
       "version_major": 2,
       "version_minor": 0
      },
      "text/plain": [
       "HBox(children=(FloatProgress(value=0.0, description='Fitting SlidingEstimator', max=40.0, style=ProgressStyle(…"
      ]
     },
     "metadata": {},
     "output_type": "display_data"
    },
    {
     "name": "stdout",
     "output_type": "stream",
     "text": [
      "\n"
     ]
    },
    {
     "name": "stderr",
     "output_type": "stream",
     "text": [
      "[Parallel(n_jobs=63)]: Using backend LokyBackend with 63 concurrent workers.\n",
      "[Parallel(n_jobs=63)]: Done   5 out of  40 | elapsed:    0.0s remaining:    0.2s\n",
      "[Parallel(n_jobs=63)]: Done  14 out of  40 | elapsed:    0.0s remaining:    0.1s\n",
      "[Parallel(n_jobs=63)]: Done  23 out of  40 | elapsed:    0.0s remaining:    0.0s\n",
      "[Parallel(n_jobs=63)]: Done  32 out of  40 | elapsed:    0.0s remaining:    0.0s\n",
      "[Parallel(n_jobs=63)]: Done  40 out of  40 | elapsed:    0.0s finished\n"
     ]
    },
    {
     "data": {
      "application/vnd.jupyter.widget-view+json": {
       "model_id": "8593d4d476464e16b3835e4507c23fa5",
       "version_major": 2,
       "version_minor": 0
      },
      "text/plain": [
       "HBox(children=(FloatProgress(value=0.0, description='Fitting SlidingEstimator', max=40.0, style=ProgressStyle(…"
      ]
     },
     "metadata": {},
     "output_type": "display_data"
    },
    {
     "name": "stdout",
     "output_type": "stream",
     "text": [
      "\n"
     ]
    },
    {
     "name": "stderr",
     "output_type": "stream",
     "text": [
      "[Parallel(n_jobs=63)]: Using backend LokyBackend with 63 concurrent workers.\n",
      "[Parallel(n_jobs=63)]: Done   5 out of  40 | elapsed:    0.0s remaining:    0.1s\n",
      "[Parallel(n_jobs=63)]: Done  14 out of  40 | elapsed:    0.0s remaining:    0.1s\n",
      "[Parallel(n_jobs=63)]: Done  23 out of  40 | elapsed:    0.0s remaining:    0.0s\n",
      "[Parallel(n_jobs=63)]: Done  32 out of  40 | elapsed:    0.0s remaining:    0.0s\n",
      "[Parallel(n_jobs=63)]: Done  40 out of  40 | elapsed:    0.0s finished\n"
     ]
    },
    {
     "data": {
      "application/vnd.jupyter.widget-view+json": {
       "model_id": "6a20d1b0f00a428284aaddc46c2360f2",
       "version_major": 2,
       "version_minor": 0
      },
      "text/plain": [
       "HBox(children=(FloatProgress(value=0.0, description='Fitting SlidingEstimator', max=40.0, style=ProgressStyle(…"
      ]
     },
     "metadata": {},
     "output_type": "display_data"
    },
    {
     "name": "stdout",
     "output_type": "stream",
     "text": [
      "\n"
     ]
    },
    {
     "name": "stderr",
     "output_type": "stream",
     "text": [
      "[Parallel(n_jobs=63)]: Using backend LokyBackend with 63 concurrent workers.\n",
      "[Parallel(n_jobs=63)]: Done   5 out of  40 | elapsed:    0.0s remaining:    0.2s\n",
      "[Parallel(n_jobs=63)]: Done  14 out of  40 | elapsed:    0.0s remaining:    0.1s\n",
      "[Parallel(n_jobs=63)]: Done  23 out of  40 | elapsed:    0.0s remaining:    0.0s\n",
      "[Parallel(n_jobs=63)]: Done  32 out of  40 | elapsed:    0.0s remaining:    0.0s\n",
      "[Parallel(n_jobs=63)]: Done  40 out of  40 | elapsed:    0.0s finished\n"
     ]
    },
    {
     "data": {
      "application/vnd.jupyter.widget-view+json": {
       "model_id": "7b9d01202abc424a876040a5078def5a",
       "version_major": 2,
       "version_minor": 0
      },
      "text/plain": [
       "HBox(children=(FloatProgress(value=0.0, description='Fitting SlidingEstimator', max=40.0, style=ProgressStyle(…"
      ]
     },
     "metadata": {},
     "output_type": "display_data"
    },
    {
     "name": "stdout",
     "output_type": "stream",
     "text": [
      "\n"
     ]
    }
   ],
   "source": [
    "sub_list = np.setdiff1d(np.arange(1, 28), config.ids_missing_subjects +\n",
    "                        config.ids_excluded_subjects)               \n",
    "sub_list_str = ['VME_S%02d' % sub for sub in sub_list]\n",
    "\n",
    "res_load = decode(sub_list_str[:1], ['LoadLowEccL', 'LoadHighEccL'], \n",
    "                  event_dict=config.event_dict, \n",
    "                  freqs_decod=[10, 12], \n",
    "                  n_rep_sub=1, \n",
    "                  batch_size=10, \n",
    "                  smooth_winsize=50,\n",
    "                  overwrite=True, \n",
    "                  save_scores=True,\n",
    "                  save_patterns=True)"
   ]
  },
  {
   "cell_type": "code",
   "execution_count": null,
   "metadata": {},
   "outputs": [],
   "source": [
    "eccs = load_singletrialtfr('VME_S01', 'EccS')\n",
    "eccm = load_singletrialtfr('VME_S01', 'EccM')"
   ]
  },
  {
   "cell_type": "code",
   "execution_count": 18,
   "metadata": {},
   "outputs": [
    {
     "data": {
      "text/plain": [
       "list"
      ]
     },
     "execution_count": 18,
     "metadata": {},
     "output_type": "execute_result"
    }
   ],
   "source": [
    "type(list(np.zeros(5)))"
   ]
  },
  {
   "cell_type": "code",
   "execution_count": 6,
   "metadata": {},
   "outputs": [
    {
     "data": {
      "text/plain": [
       "4"
      ]
     },
     "execution_count": 6,
     "metadata": {},
     "output_type": "execute_result"
    }
   ],
   "source": [
    "len(res_load)"
   ]
  },
  {
   "cell_type": "code",
   "execution_count": 7,
   "metadata": {},
   "outputs": [
    {
     "data": {
      "text/plain": [
       "array([ 6.,  7.,  8.,  9., 10., 11., 12., 13., 14., 15., 16., 17., 18.,\n",
       "       19., 20., 21., 22., 23., 24., 25.])"
      ]
     },
     "execution_count": 7,
     "metadata": {},
     "output_type": "execute_result"
    }
   ],
   "source": [
    "res_load[3]"
   ]
  },
  {
   "cell_type": "code",
   "execution_count": 8,
   "metadata": {},
   "outputs": [],
   "source": [
    "scor = res_load[0]"
   ]
  },
  {
   "cell_type": "code",
   "execution_count": 10,
   "metadata": {},
   "outputs": [
    {
     "data": {
      "text/plain": [
       "1"
      ]
     },
     "execution_count": 10,
     "metadata": {},
     "output_type": "execute_result"
    }
   ],
   "source": [
    "len(scor)"
   ]
  },
  {
   "cell_type": "code",
   "execution_count": 12,
   "metadata": {},
   "outputs": [
    {
     "data": {
      "text/plain": [
       "array([[0.42, 0.29, 0.62, 0.58, 0.47, 0.48, 0.38, 0.67, 0.71, 0.63, 0.61,\n",
       "        0.39, 0.53, 0.52, 0.52, 0.62, 0.71, 0.33, 0.53, 0.29, 0.37, 0.33,\n",
       "        0.44, 0.63, 0.52, 0.48, 0.64, 0.42, 0.56, 0.72, 0.66, 0.39, 0.47,\n",
       "        0.57, 0.47, 0.62, 0.62, 0.28, 0.43, 0.43],\n",
       "       [0.63, 0.57, 0.57, 0.52, 0.59, 0.48, 0.23, 0.48, 0.86, 0.62, 0.52,\n",
       "        0.33, 0.43, 0.38, 0.62, 0.42, 0.66, 0.58, 0.51, 0.57, 0.62, 0.29,\n",
       "        0.48, 0.53, 0.57, 0.44, 0.43, 0.39, 0.62, 0.77, 0.61, 0.57, 0.52,\n",
       "        0.44, 0.42, 0.62, 0.61, 0.48, 0.47, 0.52]])"
      ]
     },
     "execution_count": 12,
     "metadata": {},
     "output_type": "execute_result"
    }
   ],
   "source": [
    "scor[0]"
   ]
  },
  {
   "cell_type": "code",
   "execution_count": 13,
   "metadata": {},
   "outputs": [
    {
     "ename": "ValueError",
     "evalue": "x and y must have same first dimension, but have shapes (20,) and (40,)",
     "output_type": "error",
     "traceback": [
      "\u001b[0;31m---------------------------------------------------------------------------\u001b[0m",
      "\u001b[0;31mValueError\u001b[0m                                Traceback (most recent call last)",
      "\u001b[0;32m<ipython-input-13-ef498abb91a5>\u001b[0m in \u001b[0;36m<module>\u001b[0;34m\u001b[0m\n\u001b[0;32m----> 1\u001b[0;31m \u001b[0mplt\u001b[0m\u001b[0;34m.\u001b[0m\u001b[0mplot\u001b[0m\u001b[0;34m(\u001b[0m\u001b[0mres_load\u001b[0m\u001b[0;34m[\u001b[0m\u001b[0;36m3\u001b[0m\u001b[0;34m]\u001b[0m\u001b[0;34m,\u001b[0m \u001b[0mscor\u001b[0m\u001b[0;34m[\u001b[0m\u001b[0;36m0\u001b[0m\u001b[0;34m]\u001b[0m\u001b[0;34m[\u001b[0m\u001b[0;36m0\u001b[0m\u001b[0;34m,\u001b[0m\u001b[0;34m:\u001b[0m\u001b[0;34m]\u001b[0m\u001b[0;34m)\u001b[0m\u001b[0;34m\u001b[0m\u001b[0;34m\u001b[0m\u001b[0m\n\u001b[0m",
      "\u001b[0;32m/mpcdf/soft/SLE_12/packages/x86_64/anaconda/3/2019.03/lib/python3.7/site-packages/matplotlib/pyplot.py\u001b[0m in \u001b[0;36mplot\u001b[0;34m(scalex, scaley, data, *args, **kwargs)\u001b[0m\n\u001b[1;32m   2809\u001b[0m     return gca().plot(\n\u001b[1;32m   2810\u001b[0m         *args, scalex=scalex, scaley=scaley, **({\"data\": data} if data\n\u001b[0;32m-> 2811\u001b[0;31m         is not None else {}), **kwargs)\n\u001b[0m\u001b[1;32m   2812\u001b[0m \u001b[0;34m\u001b[0m\u001b[0m\n\u001b[1;32m   2813\u001b[0m \u001b[0;34m\u001b[0m\u001b[0m\n",
      "\u001b[0;32m/mpcdf/soft/SLE_12/packages/x86_64/anaconda/3/2019.03/lib/python3.7/site-packages/matplotlib/__init__.py\u001b[0m in \u001b[0;36minner\u001b[0;34m(ax, data, *args, **kwargs)\u001b[0m\n\u001b[1;32m   1808\u001b[0m                         \u001b[0;34m\"the Matplotlib list!)\"\u001b[0m \u001b[0;34m%\u001b[0m \u001b[0;34m(\u001b[0m\u001b[0mlabel_namer\u001b[0m\u001b[0;34m,\u001b[0m \u001b[0mfunc\u001b[0m\u001b[0;34m.\u001b[0m\u001b[0m__name__\u001b[0m\u001b[0;34m)\u001b[0m\u001b[0;34m,\u001b[0m\u001b[0;34m\u001b[0m\u001b[0;34m\u001b[0m\u001b[0m\n\u001b[1;32m   1809\u001b[0m                         RuntimeWarning, stacklevel=2)\n\u001b[0;32m-> 1810\u001b[0;31m             \u001b[0;32mreturn\u001b[0m \u001b[0mfunc\u001b[0m\u001b[0;34m(\u001b[0m\u001b[0max\u001b[0m\u001b[0;34m,\u001b[0m \u001b[0;34m*\u001b[0m\u001b[0margs\u001b[0m\u001b[0;34m,\u001b[0m \u001b[0;34m**\u001b[0m\u001b[0mkwargs\u001b[0m\u001b[0;34m)\u001b[0m\u001b[0;34m\u001b[0m\u001b[0;34m\u001b[0m\u001b[0m\n\u001b[0m\u001b[1;32m   1811\u001b[0m \u001b[0;34m\u001b[0m\u001b[0m\n\u001b[1;32m   1812\u001b[0m         inner.__doc__ = _add_data_doc(inner.__doc__,\n",
      "\u001b[0;32m/mpcdf/soft/SLE_12/packages/x86_64/anaconda/3/2019.03/lib/python3.7/site-packages/matplotlib/axes/_axes.py\u001b[0m in \u001b[0;36mplot\u001b[0;34m(self, scalex, scaley, *args, **kwargs)\u001b[0m\n\u001b[1;32m   1609\u001b[0m         \u001b[0mkwargs\u001b[0m \u001b[0;34m=\u001b[0m \u001b[0mcbook\u001b[0m\u001b[0;34m.\u001b[0m\u001b[0mnormalize_kwargs\u001b[0m\u001b[0;34m(\u001b[0m\u001b[0mkwargs\u001b[0m\u001b[0;34m,\u001b[0m \u001b[0mmlines\u001b[0m\u001b[0;34m.\u001b[0m\u001b[0mLine2D\u001b[0m\u001b[0;34m.\u001b[0m\u001b[0m_alias_map\u001b[0m\u001b[0;34m)\u001b[0m\u001b[0;34m\u001b[0m\u001b[0;34m\u001b[0m\u001b[0m\n\u001b[1;32m   1610\u001b[0m \u001b[0;34m\u001b[0m\u001b[0m\n\u001b[0;32m-> 1611\u001b[0;31m         \u001b[0;32mfor\u001b[0m \u001b[0mline\u001b[0m \u001b[0;32min\u001b[0m \u001b[0mself\u001b[0m\u001b[0;34m.\u001b[0m\u001b[0m_get_lines\u001b[0m\u001b[0;34m(\u001b[0m\u001b[0;34m*\u001b[0m\u001b[0margs\u001b[0m\u001b[0;34m,\u001b[0m \u001b[0;34m**\u001b[0m\u001b[0mkwargs\u001b[0m\u001b[0;34m)\u001b[0m\u001b[0;34m:\u001b[0m\u001b[0;34m\u001b[0m\u001b[0;34m\u001b[0m\u001b[0m\n\u001b[0m\u001b[1;32m   1612\u001b[0m             \u001b[0mself\u001b[0m\u001b[0;34m.\u001b[0m\u001b[0madd_line\u001b[0m\u001b[0;34m(\u001b[0m\u001b[0mline\u001b[0m\u001b[0;34m)\u001b[0m\u001b[0;34m\u001b[0m\u001b[0;34m\u001b[0m\u001b[0m\n\u001b[1;32m   1613\u001b[0m             \u001b[0mlines\u001b[0m\u001b[0;34m.\u001b[0m\u001b[0mappend\u001b[0m\u001b[0;34m(\u001b[0m\u001b[0mline\u001b[0m\u001b[0;34m)\u001b[0m\u001b[0;34m\u001b[0m\u001b[0;34m\u001b[0m\u001b[0m\n",
      "\u001b[0;32m/mpcdf/soft/SLE_12/packages/x86_64/anaconda/3/2019.03/lib/python3.7/site-packages/matplotlib/axes/_base.py\u001b[0m in \u001b[0;36m_grab_next_args\u001b[0;34m(self, *args, **kwargs)\u001b[0m\n\u001b[1;32m    391\u001b[0m                 \u001b[0mthis\u001b[0m \u001b[0;34m+=\u001b[0m \u001b[0margs\u001b[0m\u001b[0;34m[\u001b[0m\u001b[0;36m0\u001b[0m\u001b[0;34m]\u001b[0m\u001b[0;34m,\u001b[0m\u001b[0;34m\u001b[0m\u001b[0;34m\u001b[0m\u001b[0m\n\u001b[1;32m    392\u001b[0m                 \u001b[0margs\u001b[0m \u001b[0;34m=\u001b[0m \u001b[0margs\u001b[0m\u001b[0;34m[\u001b[0m\u001b[0;36m1\u001b[0m\u001b[0;34m:\u001b[0m\u001b[0;34m]\u001b[0m\u001b[0;34m\u001b[0m\u001b[0;34m\u001b[0m\u001b[0m\n\u001b[0;32m--> 393\u001b[0;31m             \u001b[0;32myield\u001b[0m \u001b[0;32mfrom\u001b[0m \u001b[0mself\u001b[0m\u001b[0;34m.\u001b[0m\u001b[0m_plot_args\u001b[0m\u001b[0;34m(\u001b[0m\u001b[0mthis\u001b[0m\u001b[0;34m,\u001b[0m \u001b[0mkwargs\u001b[0m\u001b[0;34m)\u001b[0m\u001b[0;34m\u001b[0m\u001b[0;34m\u001b[0m\u001b[0m\n\u001b[0m\u001b[1;32m    394\u001b[0m \u001b[0;34m\u001b[0m\u001b[0m\n\u001b[1;32m    395\u001b[0m \u001b[0;34m\u001b[0m\u001b[0m\n",
      "\u001b[0;32m/mpcdf/soft/SLE_12/packages/x86_64/anaconda/3/2019.03/lib/python3.7/site-packages/matplotlib/axes/_base.py\u001b[0m in \u001b[0;36m_plot_args\u001b[0;34m(self, tup, kwargs)\u001b[0m\n\u001b[1;32m    368\u001b[0m             \u001b[0mx\u001b[0m\u001b[0;34m,\u001b[0m \u001b[0my\u001b[0m \u001b[0;34m=\u001b[0m \u001b[0mindex_of\u001b[0m\u001b[0;34m(\u001b[0m\u001b[0mtup\u001b[0m\u001b[0;34m[\u001b[0m\u001b[0;34m-\u001b[0m\u001b[0;36m1\u001b[0m\u001b[0;34m]\u001b[0m\u001b[0;34m)\u001b[0m\u001b[0;34m\u001b[0m\u001b[0;34m\u001b[0m\u001b[0m\n\u001b[1;32m    369\u001b[0m \u001b[0;34m\u001b[0m\u001b[0m\n\u001b[0;32m--> 370\u001b[0;31m         \u001b[0mx\u001b[0m\u001b[0;34m,\u001b[0m \u001b[0my\u001b[0m \u001b[0;34m=\u001b[0m \u001b[0mself\u001b[0m\u001b[0;34m.\u001b[0m\u001b[0m_xy_from_xy\u001b[0m\u001b[0;34m(\u001b[0m\u001b[0mx\u001b[0m\u001b[0;34m,\u001b[0m \u001b[0my\u001b[0m\u001b[0;34m)\u001b[0m\u001b[0;34m\u001b[0m\u001b[0;34m\u001b[0m\u001b[0m\n\u001b[0m\u001b[1;32m    371\u001b[0m \u001b[0;34m\u001b[0m\u001b[0m\n\u001b[1;32m    372\u001b[0m         \u001b[0;32mif\u001b[0m \u001b[0mself\u001b[0m\u001b[0;34m.\u001b[0m\u001b[0mcommand\u001b[0m \u001b[0;34m==\u001b[0m \u001b[0;34m'plot'\u001b[0m\u001b[0;34m:\u001b[0m\u001b[0;34m\u001b[0m\u001b[0;34m\u001b[0m\u001b[0m\n",
      "\u001b[0;32m/mpcdf/soft/SLE_12/packages/x86_64/anaconda/3/2019.03/lib/python3.7/site-packages/matplotlib/axes/_base.py\u001b[0m in \u001b[0;36m_xy_from_xy\u001b[0;34m(self, x, y)\u001b[0m\n\u001b[1;32m    229\u001b[0m         \u001b[0;32mif\u001b[0m \u001b[0mx\u001b[0m\u001b[0;34m.\u001b[0m\u001b[0mshape\u001b[0m\u001b[0;34m[\u001b[0m\u001b[0;36m0\u001b[0m\u001b[0;34m]\u001b[0m \u001b[0;34m!=\u001b[0m \u001b[0my\u001b[0m\u001b[0;34m.\u001b[0m\u001b[0mshape\u001b[0m\u001b[0;34m[\u001b[0m\u001b[0;36m0\u001b[0m\u001b[0;34m]\u001b[0m\u001b[0;34m:\u001b[0m\u001b[0;34m\u001b[0m\u001b[0;34m\u001b[0m\u001b[0m\n\u001b[1;32m    230\u001b[0m             raise ValueError(\"x and y must have same first dimension, but \"\n\u001b[0;32m--> 231\u001b[0;31m                              \"have shapes {} and {}\".format(x.shape, y.shape))\n\u001b[0m\u001b[1;32m    232\u001b[0m         \u001b[0;32mif\u001b[0m \u001b[0mx\u001b[0m\u001b[0;34m.\u001b[0m\u001b[0mndim\u001b[0m \u001b[0;34m>\u001b[0m \u001b[0;36m2\u001b[0m \u001b[0;32mor\u001b[0m \u001b[0my\u001b[0m\u001b[0;34m.\u001b[0m\u001b[0mndim\u001b[0m \u001b[0;34m>\u001b[0m \u001b[0;36m2\u001b[0m\u001b[0;34m:\u001b[0m\u001b[0;34m\u001b[0m\u001b[0;34m\u001b[0m\u001b[0m\n\u001b[1;32m    233\u001b[0m             raise ValueError(\"x and y can be no greater than 2-D, but have \"\n",
      "\u001b[0;31mValueError\u001b[0m: x and y must have same first dimension, but have shapes (20,) and (40,)"
     ]
    },
    {
     "data": {
      "image/png": "[encoded data removed]",
      "text/plain": [
       "<Figure size 432x288 with 1 Axes>"
      ]
     },
     "metadata": {
      "needs_background": "light"
     },
     "output_type": "display_data"
    }
   ],
   "source": [
    "plt.plot(res_load[3], scor[0][0,:])"
   ]
  },
  {
   "cell_type": "code",
   "execution_count": 14,
   "metadata": {},
   "outputs": [
    {
     "data": {
      "text/plain": [
       "(2, 40)"
      ]
     },
     "execution_count": 14,
     "metadata": {},
     "output_type": "execute_result"
    }
   ],
   "source": [
    "scor[0].shape"
   ]
  },
  {
   "cell_type": "code",
   "execution_count": 15,
   "metadata": {},
   "outputs": [
    {
     "data": {
      "text/plain": [
       "array([-1.351, -1.251, -1.151, -1.051, -0.951, -0.851, -0.751, -0.651,\n",
       "       -0.551, -0.451, -0.351, -0.251, -0.151, -0.051,  0.049,  0.149,\n",
       "        0.249,  0.349,  0.449,  0.549,  0.649,  0.749,  0.849,  0.949,\n",
       "        1.049,  1.149,  1.249,  1.349,  1.449,  1.549,  1.649,  1.749,\n",
       "        1.849,  1.949,  2.049,  2.149,  2.249,  2.349,  2.449,  2.5  ])"
      ]
     },
     "execution_count": 15,
     "metadata": {},
     "output_type": "execute_result"
    }
   ],
   "source": [
    "res_load[2]"
   ]
  },
  {
   "cell_type": "code",
   "execution_count": 16,
   "metadata": {},
   "outputs": [
    {
     "data": {
      "text/plain": [
       "[<matplotlib.lines.Line2D at 0x2b8dd1d625f8>]"
      ]
     },
     "execution_count": 16,
     "metadata": {},
     "output_type": "execute_result"
    },
    {
     "data": {
      "image/png": "[encoded data removed]",
      "text/plain": [
       "<Figure size 432x288 with 1 Axes>"
      ]
     },
     "metadata": {
      "needs_background": "light"
     },
     "output_type": "display_data"
    }
   ],
   "source": [
    "plt.plot(res_load[2], scor[0][0,:])"
   ]
  },
  {
   "cell_type": "code",
   "execution_count": null,
   "metadata": {},
   "outputs": [],
   "source": []
  }
 ],
 "metadata": {
  "kernelspec": {
   "display_name": "Python 3",
   "language": "python",
   "name": "python3"
  },
  "language_info": {
   "codemirror_mode": {
    "name": "ipython",
    "version": 3
   },
   "file_extension": ".py",
   "mimetype": "text/x-python",
   "name": "python",
   "nbconvert_exporter": "python",
   "pygments_lexer": "ipython3",
   "version": "3.7.3"
  }
 },
 "nbformat": 4,
 "nbformat_minor": 2
}
