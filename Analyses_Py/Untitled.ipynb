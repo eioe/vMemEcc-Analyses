{
 "cells": [
  {
   "cell_type": "code",
   "execution_count": 139,
   "metadata": {},
   "outputs": [],
   "source": [
    "\n",
    "import os\n",
    "import os.path as op\n",
    "import sys\n",
    "import json\n",
    "import numpy as np\n",
    "import pandas as pd\n",
    "import matplotlib as mpl\n",
    "import matplotlib.pyplot as plt\n",
    "import seaborn as sns\n",
    "from collections import defaultdict\n",
    "from datetime import datetime\n",
    "from scipy import stats\n",
    "from scipy.ndimage import measurements\n",
    "\n",
    "from sklearn.discriminant_analysis import LinearDiscriminantAnalysis\n",
    "from sklearn.model_selection import StratifiedKFold, cross_val_score\n",
    "from sklearn.pipeline import make_pipeline\n",
    "from sklearn.preprocessing import LabelEncoder\n",
    "\n",
    "import mne\n",
    "from mne.stats import permutation_cluster_1samp_test, f_mway_rm, f_threshold_mway_rm\n",
    "from mne.decoding import CSP\n",
    "from library import helpers, config\n",
    "\n",
    "\n",
    "\n",
    "# Get SLURM job number:\n",
    "#job_nr = int(float(sys.argv[1]))\n",
    "\n",
    "#old_log_level = mne.set_log_level('WARNING', return_old_level=True)\n",
    "\n",
    "\n",
    "\n",
    "def get_epos(subID, part_epo, signaltype, condition, event_dict):\n",
    "    \"\"\"Load a set of specified epochs.\n",
    "    \n",
    "     Parameters\n",
    "    ----------\n",
    "    subID : str\n",
    "        Subject identifier (eg, 'VME_S05')\n",
    "    part_epo : str\n",
    "        Part of the epoch. One of: 'fulllength', 'cue', 'stimon'\n",
    "    signaltype: str\n",
    "        Processing state of the sensor signal. One of: 'collapsed': electrode positions flipped for cue left trials\n",
    "                                                       'uncollapsed': normal electrode positions,\n",
    "                                                       'difference': difference signal: contra minus ipsilateral\n",
    "    condition: str\n",
    "        Experimental condition. Combination of 'Ecc' and 'Load' (eg, 'LoadLow' or 'LoadLowEccS')\n",
    "    event_dict: dict\n",
    "        Dictionnary explaining the event codes. Normally this can be grabbed from config.event_dict\n",
    "\n",
    "    Returns\n",
    "    -------\n",
    "    mne.Epochs\n",
    "        Array of selected epochs.\n",
    "    \"\"\"\n",
    "    \n",
    "    if signaltype == 'uncollapsed':\n",
    "        fname = op.join(config.path_rejepo, subID + '-' + part_epo +\n",
    "                        '-postica-rejepo' + '-epo.fif')\n",
    "    elif signaltype in ['collapsed']:\n",
    "        fname = op.join(config.path_epos_sorted, part_epo, signaltype,\n",
    "                        subID + '-epo.fif')\n",
    "    else:\n",
    "        raise ValueError(f'Invalid value for \"signaltype\": {signaltype}')\n",
    "    epos = mne.read_epochs(fname, verbose=False)\n",
    "    epos = epos.pick_types(eeg=True)\n",
    "    uppers = [letter.isupper() for letter in condition]\n",
    "    if (np.sum(uppers) > 2):\n",
    "        cond_1 = condition[:np.where(uppers)[0][2]]\n",
    "        cond_2 = condition[np.where(uppers)[0][2]:]\n",
    "        selection = epos[event_dict[cond_1]][event_dict[cond_2]]\n",
    "    else:\n",
    "        selection = epos[event_dict[condition]]\n",
    "    return(selection)\n",
    "\n",
    "\n",
    "def get_sensordata(subID, part_epo, signaltype, conditions, event_dict):\n",
    "    \"\"\"Load a set of specified epochs for classification.\n",
    "    \n",
    "     Parameters\n",
    "    ----------\n",
    "    subID : str\n",
    "        Subject identifier (eg, 'VME_S05')\n",
    "    part_epo : str\n",
    "        Part of the epoch. One of: 'fulllength', 'cue', 'stimon'\n",
    "    signaltype: str\n",
    "        Processing state of the sensor signal. One of: 'collapsed': electrode positions flipped for cue left trials\n",
    "                                                       'uncollapsed': normal electrode positions,\n",
    "                                                       'difference': difference signal: contra minus ipsilateral\n",
    "    conditions: list\n",
    "        List of experimental conditions. Combination of 'Ecc' and 'Load' (eg, 'LoadLow' or 'LoadLowEccS')\n",
    "    event_dict: dict\n",
    "        Dictionnary explaining the event codes. Normally this can be grabbed from config.event_dict\n",
    "\n",
    "    Returns\n",
    "    -------\n",
    "    X_epos: Epochs\n",
    "        Array of selected epochs, sorted by class (starting with class '0').\n",
    "    y: list\n",
    "        Sorted list of labels.\n",
    "    times_n: array, 1d\n",
    "        Times of the samples within the single epoch.\n",
    "    \"\"\"\n",
    "    \n",
    "    epos_dict = defaultdict(dict)\n",
    "    for cond in conditions:\n",
    "        epos_dict[cond] = get_epos(subID,\n",
    "                                   part_epo=part_epo,\n",
    "                                   signaltype=signaltype,\n",
    "                                   condition=cond,\n",
    "                                   event_dict=event_dict)\n",
    "\n",
    "    times = epos_dict[conditions[0]][0].copy().times\n",
    "\n",
    "    # Setup data:\n",
    "    X_epos = mne.concatenate_epochs([epos_dict[cond] for cond in conditions])\n",
    "    n_ = {cond: len(epos_dict[cond]) for cond in conditions}\n",
    "    print([f'N class {key}: {n_[key]}' for key in n_])\n",
    "    times_n = times\n",
    "\n",
    "    y = np.r_[np.zeros(n_[conditions[0]]),\n",
    "              np.concatenate([(np.ones(n_[conditions[i]]) * i)\n",
    "                              for i in np.arange(1, len(conditions))])]\n",
    "\n",
    "    return X_epos, y, times_n\n",
    "\n",
    "\n",
    "def decode(sub_list_str, conditions, event_dict, reps = 1, scoring = 'accuracy', shuffle_labels = False, save_scores = True, save_csp_patterns = True, \n",
    "           overwrite = False, part_epo = 'stimon', signaltype='collapsed'):\n",
    "    \"\"\"Apply CSP and LDA to perform binary classification from (the power) of epoched data.\n",
    "    \n",
    "    \n",
    "    \n",
    "    \n",
    "    Original code from: \n",
    "    https://mne.tools/stable/auto_examples/decoding/plot_decoding_csp_timefreq.html#\n",
    "    sphx-glr-auto-examples-decoding-plot-decoding-csp-timefreq-py\n",
    "\n",
    "    \n",
    "    Parameters\n",
    "    ----------\n",
    "    sub_list_str : list of str\n",
    "        List of subject identifiers (eg, 'VME_S05')\n",
    "    conditions: list\n",
    "        List of experimental conditions that shall be compared/decoded. \n",
    "        Combination of 'Ecc' and 'Load' (eg, 'LoadLow' or 'LoadLowEccS')\n",
    "    event_dict: dict\n",
    "        Dictionnary explaining the event codes. Normally this can be grabbed from config.event_dict\n",
    "    reps: int \n",
    "        Number of repetions for the CV procedure.\n",
    "    shuffle_labels: bool\n",
    "        Shuffle the labels to produce a null distribution.\n",
    "    save_scores: bool, optional\n",
    "        Shall the decoding scores be written to disk? (default is True).\n",
    "    save_patterns: bool, optional\n",
    "        Shall the CSP patterns be written to disk? (default is True).\n",
    "    overwrite : bool\n",
    "        Overwrite existing folders (True) or append current datetime to foldername (False). (default is False)\n",
    "    part_epo : str, optional\n",
    "        Part of the epoch. One of: 'fulllength', 'cue', 'stimon' (default is 'stimon').\n",
    "    signaltype: str\n",
    "        Processing state of the sensor signal. One of: 'collapsed': electrode positions flipped for cue left trials\n",
    "                                                       'uncollapsed': normal electrode positions,\n",
    "                                                       'difference': difference signal: contra minus ipsilateral\n",
    "                                                       (default is 'collapsed'.)\n",
    "\n",
    "    Returns\n",
    "    -------\n",
    "    tf_scores_list: list\n",
    "        list of 2d arrays (freq x time) with the decoding scores per subject\n",
    "    centered_w_times: list\n",
    "        list with the times around which the decoding windows were centered.\n",
    "    \"\"\"\n",
    "    \n",
    "    contrast_str = '_vs_'.join(conditions)\n",
    "#     if scoring == 'accuracy':\n",
    "#         scoring = 'balanced_accuracy'\n",
    "#     else:\n",
    "#         scoring = scoring\n",
    "    cv_folds = 5\n",
    "    n_components = 6\n",
    "    \n",
    "    csp = CSP(n_components=n_components, reg=0.4, log=True, norm_trace=False)\n",
    "    clf = make_pipeline(csp, LinearDiscriminantAnalysis())\n",
    "    \n",
    "    # Classification & time-frequency parameters\n",
    "    tmin = -0.5 # -config.times_dict['cue_dur']\n",
    "    tmax =  2.5  # config.times_dict['stim_dur'] + config.times_dict['retention_dur']\n",
    "    n_cycles = None  # how many complete cycles: used to define window size\n",
    "    w_size = 0.5\n",
    "    w_overlap = 0.5 # how much shall the windows overlap [value in [0,1]; 0: no overlap, 1: full overlap]\n",
    "    min_freq = 10\n",
    "    max_freq = 12\n",
    "    n_freqs = 1  # how many frequency bins to use\n",
    "\n",
    "    # Get datetime identifier for uniqure folder names (if not overwriting):\n",
    "    datetime_str = datetime.today().strftime('%Y-%m-%d-%H-%M')\n",
    "\n",
    "    # Assemble list of frequency range tuples\n",
    "    freqs = np.linspace(min_freq, max_freq, n_freqs + 1)  # assemble frequencies\n",
    "    freq_ranges = list(zip(freqs[:-1], freqs[1:]))  # make freqs list of tuples# Setup list of seeds for the repetitions:\n",
    "    \n",
    "    # Setup list of seeds for the repetitions:\n",
    "    np.random.seed(seed=42)\n",
    "    rep_seeds = np.random.choice(range(10 * reps), reps)\n",
    "    \n",
    "\n",
    "    if ((n_cycles is not None) and (w_size is None)): \n",
    "        # Infer window spacing from the max freq and number of cycles to avoid gaps\n",
    "        window_spacing = (n_cycles / np.max(freqs) / 2.)\n",
    "        centered_w_times = np.arange(tmin, tmax, window_spacing)[1:]\n",
    "    elif (((w_size is not None)) and (n_cycles is None)): \n",
    "        assert 0 <= float(w_overlap or -1) < 1, f'Invalid value for w_overlap: {w_overlap}'\n",
    "        step_size = w_size * (1 - w_overlap)\n",
    "        centered_w_times = np.arange(tmin + (w_size / 2.), tmax - (w_size / 2) + 0.001, step_size)\n",
    "    else: \n",
    "        raise ValueError(f'Invalid combination of values for w_size and n_cylces. Exactly one must be None.')\n",
    "\n",
    "    n_windows = len(centered_w_times)\n",
    "\n",
    "    tf_scores_list = list()\n",
    "    tf_patterns_list = list()\n",
    "    completed_subs = list()\n",
    "    for subID in sub_list_str:\n",
    "        part_epo = part_epo\n",
    "\n",
    "        print(f'Running {subID}')\n",
    "\n",
    "        X_epos, y, t = get_sensordata(subID, part_epo, signaltype, conditions, event_dict)\n",
    "        n_channels = len(X_epos.ch_names)\n",
    "        # init scores\n",
    "        tf_scores = np.zeros((n_freqs, n_windows))\n",
    "        tf_scores_tmp = np.zeros((reps, n_freqs, n_windows))\n",
    "        tf_patterns = np.zeros((n_components, n_channels, n_freqs, n_windows))\n",
    "\n",
    "        # Loop through each frequency range of interest\n",
    "        for freq, (fmin, fmax) in enumerate(freq_ranges):\n",
    "\n",
    "            # print(f'Freq. {freq} of {len(freq_ranges)}')\n",
    "\n",
    "            if (w_size is None):\n",
    "                # Infer window size based on the frequency being used (default behavuior is to use a fixed w_size)\n",
    "                w_size = n_cycles / ((fmax + fmin) / 2.)  # in seconds\n",
    "\n",
    "            # Apply band-pass filter to isolate the specified frequencies\n",
    "            X_epos_filter = X_epos.copy().filter(fmin, fmax, n_jobs=-2, fir_design='firwin')\n",
    "\n",
    "            # Roll covariance, csp and lda over time\n",
    "            for t, w_time in enumerate(centered_w_times):\n",
    "\n",
    "                # Center the min and max of the window\n",
    "                w_tmin = w_time - w_size / 2.\n",
    "                w_tmax = w_time + w_size / 2.\n",
    "\n",
    "                # Crop data into time-window of interest\n",
    "                X = X_epos_filter.copy().crop(w_tmin, w_tmax).get_data()\n",
    "                \n",
    "                # Run repeated CV to estimate decoding score:\n",
    "                for rep, rand_state in enumerate(rep_seeds):\n",
    "                    cv = StratifiedKFold(n_splits=cv_folds, shuffle=True, random_state=rand_state)\n",
    "\n",
    "                    if shuffle_labels:\n",
    "                        np.random.seed(rand_state)\n",
    "                        np.random.shuffle(y)\n",
    "                    # Save mean scores over folds for each frequency and time window for this repetition\n",
    "                    tf_scores_tmp[rep, freq, t] = np.mean(cross_val_score(estimator=clf, X=X, y=y,\n",
    "                                                                          scoring=scoring, cv=cv,\n",
    "                                                                          n_jobs=-2), axis=0)\n",
    "                if save_csp_patterns:\n",
    "                    # get CSP patterns - fitted to all data:\n",
    "                    csp.fit(X, y)\n",
    "                    patterns_ = getattr(csp, 'patterns_')\n",
    "                    tf_patterns[:, :, freq, t] = patterns_[:n_components, :]\n",
    "                \n",
    "        tf_scores = tf_scores_tmp # , axis=0) \n",
    "        tf_scores_list.append(tf_scores)\n",
    "        tf_patterns_list.append(tf_patterns)\n",
    "\n",
    "        # save info:\n",
    "        if (save_scores or save_csp_patterns):\n",
    "            completed_subs.append(subID)\n",
    "            info_dict = {'subs': completed_subs,\n",
    "                         'tmin': tmin, \n",
    "                         'tmax': tmax, \n",
    "                         'n_cycles': n_cycles, \n",
    "                         'w_size': w_size,\n",
    "                         'w_overlap': w_overlap,\n",
    "                         'min_freq': min_freq, \n",
    "                         'max_freq': max_freq,\n",
    "                         'n_freqs': n_freqs,\n",
    "                         'cv_folds': cv_folds, \n",
    "                         'reps': reps,\n",
    "                         'scoring': scoring}\n",
    "            \n",
    "#             if not isinstance(sub_list_str, list):\n",
    "#                 sub_list_str = [sub_list_str]\n",
    "            \n",
    "#             if len(sub_list_str) > 1:\n",
    "#                  sub_folder = '-'.join([sub_list_str[0], sub_list_str[-1]])\n",
    "#             else:\n",
    "#                  sub_folder = sub_list_str[0]\n",
    "\n",
    "            sub_folder = subID\n",
    "            \n",
    "            if shuffle_labels:\n",
    "                shuf_labs = 'labels_shuffled'\n",
    "            else: \n",
    "                shuf_labs = ''\n",
    "            \n",
    "            fpath = op.join(config.path_decod_tfr, part_epo, signaltype, contrast_str, scoring, shuf_labs, sub_folder)\n",
    "            if (op.exists(fpath) and not overwrite):\n",
    "                path_save = op.join(config.path_decod_tfr, part_epo, signaltype, contrast_str + datetime_str, scoring, shuf_labs, \n",
    "                                   sub_folder + datetime_str)\n",
    "            else:\n",
    "                path_save = fpath\n",
    "            helpers.chkmk_dir(path_save)\n",
    "            fname = op.join(path_save, 'info.json')\n",
    "            with open(fname, 'w+') as outfile:  \n",
    "                json.dump(info_dict, outfile)\n",
    "        \n",
    "        if save_csp_patterns:\n",
    "            sub_patterns_ = np.asarray(tf_patterns_list)\n",
    "            fpath = op.join(path_save, 'patterns')\n",
    "            helpers.chkmk_dir(fpath)\n",
    "            fname = op.join(fpath, 'patterns_per_sub.npy')\n",
    "            np.save(fname, sub_patterns_)\n",
    "            np.save(fname[:-4] + '__times' + '.npy', centered_w_times)\n",
    "            np.save(fname[:-4] + '__freqs' + '.npy', freq_ranges)\n",
    "            del(fpath, fname)\n",
    "        \n",
    "        \n",
    "        if save_scores:\n",
    "            sub_scores_ = np.asarray(tf_scores_list)\n",
    "            fpath = op.join(path_save, 'scores')\n",
    "            helpers.chkmk_dir(fpath)\n",
    "            fname = op.join(fpath, 'scores_per_sub.npy')\n",
    "            np.save(fname, sub_scores_)\n",
    "            np.save(fname[:-4] + '__times' + '.npy', centered_w_times)\n",
    "            np.save(fname[:-4] + '__freqs' + '.npy', freq_ranges)\n",
    "            del(fpath, fname)\n",
    "\n",
    "\n",
    "\n",
    "\n",
    "    return tf_scores_list, centered_w_times\n",
    "\n",
    "\n",
    "def load_scores_decod_tfr(conditions, part_epo='stimon', signaltype='collapsed'):\n",
    "    \"\"\"Load decoding results from disc.\n",
    "    \n",
    "    Parameters\n",
    "    ----------\n",
    "    conditions : list\n",
    "        List of strings containing the classes of the classification. \n",
    "    part_epo : str, optional\n",
    "        Part of the epoch. One of: 'fulllength', 'cue', 'stimon' (default is 'stimon').\n",
    "    signaltype: str\n",
    "        Processing state of the sensor signal. One of: 'collapsed': electrode positions flipped for cue left trials\n",
    "                                                       'uncollapsed': normal electrode positions,\n",
    "                                                       'difference': difference signal: contra minus ipsilateral\n",
    "                                                       (default is 'collapsed'.)\n",
    "\n",
    "    Returns\n",
    "    -------\n",
    "    results: ndarray \n",
    "        Array with decoding results (subjects x freqs x times)\n",
    "    times: array, 1d\n",
    "    freqs: array, 1d\n",
    "    \"\"\"\n",
    "    \n",
    "    contrast_str = '_vs_'.join(conditions)\n",
    "    fpath = op.join(config.path_decod_tfr, part_epo, signaltype, contrast_str, 'scores')\n",
    "    fname = op.join(fpath, 'scores_per_sub.npy')\n",
    "    res = np.load(fname)\n",
    "    times = np.load(fname[:-4] + '__times.npy')\n",
    "    freqs = np.load(fname[:-4] + '__freqs.npy')\n",
    "    return(res, times, freqs)\n",
    "\n",
    "\n",
    "def plot_decod_image_tfr(scores, conditions, times, freqs, ax=None):\n",
    "    \"\"\"Plot a heatmap with decoding accuracy over time and frequency. \n",
    "    \n",
    "    Parameters\n",
    "    ----------\n",
    "    scores : ndarray, 2d\n",
    "        2d array with decoding results (freqs x timepoints)\n",
    "    conditions : list\n",
    "        List of strings containing the classes of the classification. \n",
    "    times: array, 1d\n",
    "        Timepoints\n",
    "    freqs: array, 1d\n",
    "        Frequencies \n",
    "    ax: axis, optional\n",
    "        Axis to plot into.\n",
    "\n",
    "    Returns\n",
    "    -------\n",
    "    image\n",
    "        AxisImage\n",
    "    \"\"\"\n",
    "    \n",
    "    if ax is None:\n",
    "        fig, ax = plt.subplots(1,1)\n",
    "    dx = np.diff(times)[0] / 2\n",
    "    dy = 0 #np.diff(freqs)[0] / 2\n",
    "    extent = [times.min()-dx, times.max()+dx,\n",
    "              freqs.min()-dy, freqs.max()+dy]             \n",
    "    image = ax.imshow(scores, origin='lower', cmap='Greens', aspect='auto', extent=extent)\n",
    "    ax.set_yticks([f for frange in freqs for f in frange])\n",
    "    ax.set_ylabel('frequency (Hz)')\n",
    "    return(image)\n",
    "\n",
    "\n",
    "def plot_score_ts(scores_df, plt_dict, color, ax=None, n_boot=1000):\n",
    "    \"\"\"Plot the decoding scores as timeseries line plot.\n",
    "    \n",
    "    Parameters\n",
    "    ----------\n",
    "    scores_df : DataFrame \n",
    "        Data frame containing accuracies per time point in epoch. Long format. \n",
    "        Needed columns: 'time',\n",
    "                        'score'\n",
    "    plt_dict: dict\n",
    "        Dict containing info relevant for plotting. \n",
    "        Entries needed: 't_stimon': relative time of stimulus onset\n",
    "                        'xmin': minimal time to be plotted\n",
    "                        'xmax': maximal time to be plotted\n",
    "    color: str\n",
    "        A single color string referred to by name, RGB or RGBA code,\n",
    "        for instance ‘red’ or ‘#a98d19’.    \n",
    "    ax: axis, optional\n",
    "        Axis to plot into.\n",
    "    n_boot: int\n",
    "        Number of bootstrapping iterations for the CI.\n",
    "\n",
    "    Returns\n",
    "    -------\n",
    "    image\n",
    "        AxisImage\n",
    "    \n",
    "    \"\"\"\n",
    "    \n",
    "    if ax is None:\n",
    "        fig, ax = plt.subplots(1,1)\n",
    "    image = sns.lineplot(x='time', \n",
    "                 y='score', \n",
    "                 color = color,\n",
    "                 data=scores_df, \n",
    "                 n_boot=n_boot,  \n",
    "                 ax=ax)\n",
    "    ytick_range = ax.get_ylim()\n",
    "    ax.set(xlim=(plt_dict['xmin'], plt_dict['xmax']), ylim=ytick_range)\n",
    "    ax.set_ylabel('accuracy')\n",
    "    ax.set_xlabel('Time (s)')\n",
    "    ax.axvspan(plt_dict['t_stimon'], plt_dict['t_stimon']+0.2, color='grey', alpha=0.3)\n",
    "    ax.axvspan(plt_dict['t_stimon']+ 2.2, plt_dict['t_stimon'] + 2.5, color='grey', alpha=0.3)\n",
    "    ax.vlines((plt_dict['t_stimon'], plt_dict['t_stimon']+0.2, plt_dict['t_stimon']+2.2),\n",
    "              ymin=ytick_range[0], ymax=ytick_range[1], \n",
    "              linestyles='dashed')\n",
    "    ax.hlines(0.5, xmin=plt_dict['xmin'], xmax=plt_dict['xmax'])\n",
    "    return(image)\n",
    "\n",
    "\n"
   ]
  },
  {
   "cell_type": "code",
   "execution_count": 21,
   "metadata": {},
   "outputs": [],
   "source": [
    "import warnings\n",
    "warnings.filterwarnings('ignore')"
   ]
  },
  {
   "cell_type": "code",
   "execution_count": 2,
   "metadata": {},
   "outputs": [],
   "source": [
    "sub_list = np.setdiff1d(np.arange(1, 28), config.ids_missing_subjects +\n",
    "                        config.ids_excluded_subjects)               \n",
    "sub_list_str = ['VME_S%02d' % sub for sub in sub_list]\n",
    "#sub_list_str = sub_list_str[12:]"
   ]
  },
  {
   "cell_type": "code",
   "execution_count": 4,
   "metadata": {},
   "outputs": [],
   "source": [
    "import timeit"
   ]
  },
  {
   "cell_type": "code",
   "execution_count": 140,
   "metadata": {},
   "outputs": [
    {
     "name": "stdout",
     "output_type": "stream",
     "text": [
      "Running VME_S06\n",
      "['N class LoadLowEccS: 118', 'N class LoadHighEccS: 117']\n"
     ]
    }
   ],
   "source": [
    "start = timeit.default_timer()\n",
    "\n",
    "res_all2, tim = decode(['VME_S06'], ['LoadLowEccS', 'LoadHighEccS'], config.event_dict, reps=10, scoring='roc_auc', \n",
    "           shuffle_labels=False, overwrite=False, save_scores=False, save_csp_patterns=False)\n",
    "\n",
    "stop = timeit.default_timer()\n",
    "runtime = stop - start"
   ]
  },
  {
   "cell_type": "code",
   "execution_count": 141,
   "metadata": {},
   "outputs": [
    {
     "name": "stdout",
     "output_type": "stream",
     "text": [
      "(10, 1, 11)\n",
      "(10, 11)\n"
     ]
    }
   ],
   "source": [
    "print(res_all2[0].shape)\n",
    "he = np.asarray(res_all2)\n",
    "print(ha.squeeze().shape)"
   ]
  },
  {
   "cell_type": "code",
   "execution_count": 146,
   "metadata": {},
   "outputs": [
    {
     "data": {
      "text/plain": [
       "[<matplotlib.lines.Line2D at 0x2b12a2c89e10>]"
      ]
     },
     "execution_count": 146,
     "metadata": {},
     "output_type": "execute_result"
    },
    {
     "data": {
      "image/png": "[encoded data removed]",
      "text/plain": [
       "<Figure size 432x288 with 1 Axes>"
      ]
     },
     "metadata": {
      "needs_background": "light"
     },
     "output_type": "display_data"
    }
   ],
   "source": [
    "plt.plot(he.squeeze().mean(0))"
   ]
  },
  {
   "cell_type": "code",
   "execution_count": 142,
   "metadata": {},
   "outputs": [
    {
     "data": {
      "text/plain": [
       "<matplotlib.axes._subplots.AxesSubplot at 0x2b12a0a28278>"
      ]
     },
     "execution_count": 142,
     "metadata": {},
     "output_type": "execute_result"
    },
    {
     "data": {
      "image/png": "[encoded data removed]",
      "text/plain": [
       "<Figure size 432x288 with 1 Axes>"
      ]
     },
     "metadata": {
      "needs_background": "light"
     },
     "output_type": "display_data"
    }
   ],
   "source": [
    "#res[0].squeeze().shape\n",
    "df = pd.DataFrame(he.squeeze()) \n",
    "df.columns = tim\n",
    "df.shape\n",
    "#df['type'] = np.repeat(['a', 'b'], 20)\n",
    "df_long = df.melt(var_name='time', value_name='score')#, id_vars='type') \n",
    "df_long\n",
    "sns.lineplot(data=df_long, x='time', y='score')#, hue='type')"
   ]
  },
  {
   "cell_type": "code",
   "execution_count": 133,
   "metadata": {},
   "outputs": [
    {
     "data": {
      "text/plain": [
       "<matplotlib.axes._subplots.AxesSubplot at 0x2b12a340f2b0>"
      ]
     },
     "execution_count": 133,
     "metadata": {},
     "output_type": "execute_result"
    },
    {
     "data": {
      "image/png": "[encoded data removed]",
      "text/plain": [
       "<Figure size 432x288 with 1 Axes>"
      ]
     },
     "metadata": {
      "needs_background": "light"
     },
     "output_type": "display_data"
    }
   ],
   "source": [
    "#res[0].squeeze().shape\n",
    "df = pd.DataFrame(ha.squeeze()) \n",
    "df.columns = tim\n",
    "df.shape\n",
    "#df['type'] = np.repeat(['a', 'b'], 20)\n",
    "df_long = df.melt(var_name='time', value_name='score')#, id_vars='type') \n",
    "df_long\n",
    "sns.lineplot(data=df_long, x='time', y='score')#, hue='type')"
   ]
  },
  {
   "cell_type": "code",
   "execution_count": 131,
   "metadata": {},
   "outputs": [
    {
     "ename": "ValueError",
     "evalue": "Length of values does not match length of index",
     "output_type": "error",
     "traceback": [
      "\u001b[0;31m---------------------------------------------------------------------------\u001b[0m",
      "\u001b[0;31mValueError\u001b[0m                                Traceback (most recent call last)",
      "\u001b[0;32m<ipython-input-131-d7b881440395>\u001b[0m in \u001b[0;36m<module>\u001b[0;34m\u001b[0m\n\u001b[1;32m      3\u001b[0m \u001b[0mdf\u001b[0m\u001b[0;34m.\u001b[0m\u001b[0mcolumns\u001b[0m \u001b[0;34m=\u001b[0m \u001b[0mtim\u001b[0m\u001b[0;34m\u001b[0m\u001b[0;34m\u001b[0m\u001b[0m\n\u001b[1;32m      4\u001b[0m \u001b[0mdf\u001b[0m\u001b[0;34m.\u001b[0m\u001b[0mshape\u001b[0m\u001b[0;34m\u001b[0m\u001b[0;34m\u001b[0m\u001b[0m\n\u001b[0;32m----> 5\u001b[0;31m \u001b[0mdf\u001b[0m\u001b[0;34m[\u001b[0m\u001b[0;34m'type'\u001b[0m\u001b[0;34m]\u001b[0m \u001b[0;34m=\u001b[0m \u001b[0mnp\u001b[0m\u001b[0;34m.\u001b[0m\u001b[0mrepeat\u001b[0m\u001b[0;34m(\u001b[0m\u001b[0;34m[\u001b[0m\u001b[0;34m'a'\u001b[0m\u001b[0;34m,\u001b[0m \u001b[0;34m'b'\u001b[0m\u001b[0;34m]\u001b[0m\u001b[0;34m,\u001b[0m \u001b[0;36m20\u001b[0m\u001b[0;34m)\u001b[0m\u001b[0;34m\u001b[0m\u001b[0;34m\u001b[0m\u001b[0m\n\u001b[0m\u001b[1;32m      6\u001b[0m \u001b[0mdf_long\u001b[0m \u001b[0;34m=\u001b[0m \u001b[0mdf\u001b[0m\u001b[0;34m.\u001b[0m\u001b[0mmelt\u001b[0m\u001b[0;34m(\u001b[0m\u001b[0mvar_name\u001b[0m\u001b[0;34m=\u001b[0m\u001b[0;34m'time'\u001b[0m\u001b[0;34m,\u001b[0m \u001b[0mvalue_name\u001b[0m\u001b[0;34m=\u001b[0m\u001b[0;34m'score'\u001b[0m\u001b[0;34m,\u001b[0m \u001b[0mid_vars\u001b[0m\u001b[0;34m=\u001b[0m\u001b[0;34m'type'\u001b[0m\u001b[0;34m)\u001b[0m\u001b[0;34m\u001b[0m\u001b[0;34m\u001b[0m\u001b[0m\n\u001b[1;32m      7\u001b[0m \u001b[0mdf_long\u001b[0m\u001b[0;34m\u001b[0m\u001b[0;34m\u001b[0m\u001b[0m\n",
      "\u001b[0;32m/mpcdf/soft/SLE_12/packages/x86_64/anaconda/3/2019.03/lib/python3.7/site-packages/pandas/core/frame.py\u001b[0m in \u001b[0;36m__setitem__\u001b[0;34m(self, key, value)\u001b[0m\n\u001b[1;32m   3368\u001b[0m         \u001b[0;32melse\u001b[0m\u001b[0;34m:\u001b[0m\u001b[0;34m\u001b[0m\u001b[0;34m\u001b[0m\u001b[0m\n\u001b[1;32m   3369\u001b[0m             \u001b[0;31m# set column\u001b[0m\u001b[0;34m\u001b[0m\u001b[0;34m\u001b[0m\u001b[0;34m\u001b[0m\u001b[0m\n\u001b[0;32m-> 3370\u001b[0;31m             \u001b[0mself\u001b[0m\u001b[0;34m.\u001b[0m\u001b[0m_set_item\u001b[0m\u001b[0;34m(\u001b[0m\u001b[0mkey\u001b[0m\u001b[0;34m,\u001b[0m \u001b[0mvalue\u001b[0m\u001b[0;34m)\u001b[0m\u001b[0;34m\u001b[0m\u001b[0;34m\u001b[0m\u001b[0m\n\u001b[0m\u001b[1;32m   3371\u001b[0m \u001b[0;34m\u001b[0m\u001b[0m\n\u001b[1;32m   3372\u001b[0m     \u001b[0;32mdef\u001b[0m \u001b[0m_setitem_slice\u001b[0m\u001b[0;34m(\u001b[0m\u001b[0mself\u001b[0m\u001b[0;34m,\u001b[0m \u001b[0mkey\u001b[0m\u001b[0;34m,\u001b[0m \u001b[0mvalue\u001b[0m\u001b[0;34m)\u001b[0m\u001b[0;34m:\u001b[0m\u001b[0;34m\u001b[0m\u001b[0;34m\u001b[0m\u001b[0m\n",
      "\u001b[0;32m/mpcdf/soft/SLE_12/packages/x86_64/anaconda/3/2019.03/lib/python3.7/site-packages/pandas/core/frame.py\u001b[0m in \u001b[0;36m_set_item\u001b[0;34m(self, key, value)\u001b[0m\n\u001b[1;32m   3443\u001b[0m \u001b[0;34m\u001b[0m\u001b[0m\n\u001b[1;32m   3444\u001b[0m         \u001b[0mself\u001b[0m\u001b[0;34m.\u001b[0m\u001b[0m_ensure_valid_index\u001b[0m\u001b[0;34m(\u001b[0m\u001b[0mvalue\u001b[0m\u001b[0;34m)\u001b[0m\u001b[0;34m\u001b[0m\u001b[0;34m\u001b[0m\u001b[0m\n\u001b[0;32m-> 3445\u001b[0;31m         \u001b[0mvalue\u001b[0m \u001b[0;34m=\u001b[0m \u001b[0mself\u001b[0m\u001b[0;34m.\u001b[0m\u001b[0m_sanitize_column\u001b[0m\u001b[0;34m(\u001b[0m\u001b[0mkey\u001b[0m\u001b[0;34m,\u001b[0m \u001b[0mvalue\u001b[0m\u001b[0;34m)\u001b[0m\u001b[0;34m\u001b[0m\u001b[0;34m\u001b[0m\u001b[0m\n\u001b[0m\u001b[1;32m   3446\u001b[0m         \u001b[0mNDFrame\u001b[0m\u001b[0;34m.\u001b[0m\u001b[0m_set_item\u001b[0m\u001b[0;34m(\u001b[0m\u001b[0mself\u001b[0m\u001b[0;34m,\u001b[0m \u001b[0mkey\u001b[0m\u001b[0;34m,\u001b[0m \u001b[0mvalue\u001b[0m\u001b[0;34m)\u001b[0m\u001b[0;34m\u001b[0m\u001b[0;34m\u001b[0m\u001b[0m\n\u001b[1;32m   3447\u001b[0m \u001b[0;34m\u001b[0m\u001b[0m\n",
      "\u001b[0;32m/mpcdf/soft/SLE_12/packages/x86_64/anaconda/3/2019.03/lib/python3.7/site-packages/pandas/core/frame.py\u001b[0m in \u001b[0;36m_sanitize_column\u001b[0;34m(self, key, value, broadcast)\u001b[0m\n\u001b[1;32m   3628\u001b[0m \u001b[0;34m\u001b[0m\u001b[0m\n\u001b[1;32m   3629\u001b[0m             \u001b[0;31m# turn me into an ndarray\u001b[0m\u001b[0;34m\u001b[0m\u001b[0;34m\u001b[0m\u001b[0;34m\u001b[0m\u001b[0m\n\u001b[0;32m-> 3630\u001b[0;31m             \u001b[0mvalue\u001b[0m \u001b[0;34m=\u001b[0m \u001b[0msanitize_index\u001b[0m\u001b[0;34m(\u001b[0m\u001b[0mvalue\u001b[0m\u001b[0;34m,\u001b[0m \u001b[0mself\u001b[0m\u001b[0;34m.\u001b[0m\u001b[0mindex\u001b[0m\u001b[0;34m,\u001b[0m \u001b[0mcopy\u001b[0m\u001b[0;34m=\u001b[0m\u001b[0;32mFalse\u001b[0m\u001b[0;34m)\u001b[0m\u001b[0;34m\u001b[0m\u001b[0;34m\u001b[0m\u001b[0m\n\u001b[0m\u001b[1;32m   3631\u001b[0m             \u001b[0;32mif\u001b[0m \u001b[0;32mnot\u001b[0m \u001b[0misinstance\u001b[0m\u001b[0;34m(\u001b[0m\u001b[0mvalue\u001b[0m\u001b[0;34m,\u001b[0m \u001b[0;34m(\u001b[0m\u001b[0mnp\u001b[0m\u001b[0;34m.\u001b[0m\u001b[0mndarray\u001b[0m\u001b[0;34m,\u001b[0m \u001b[0mIndex\u001b[0m\u001b[0;34m)\u001b[0m\u001b[0;34m)\u001b[0m\u001b[0;34m:\u001b[0m\u001b[0;34m\u001b[0m\u001b[0;34m\u001b[0m\u001b[0m\n\u001b[1;32m   3632\u001b[0m                 \u001b[0;32mif\u001b[0m \u001b[0misinstance\u001b[0m\u001b[0;34m(\u001b[0m\u001b[0mvalue\u001b[0m\u001b[0;34m,\u001b[0m \u001b[0mlist\u001b[0m\u001b[0;34m)\u001b[0m \u001b[0;32mand\u001b[0m \u001b[0mlen\u001b[0m\u001b[0;34m(\u001b[0m\u001b[0mvalue\u001b[0m\u001b[0;34m)\u001b[0m \u001b[0;34m>\u001b[0m \u001b[0;36m0\u001b[0m\u001b[0;34m:\u001b[0m\u001b[0;34m\u001b[0m\u001b[0;34m\u001b[0m\u001b[0m\n",
      "\u001b[0;32m/mpcdf/soft/SLE_12/packages/x86_64/anaconda/3/2019.03/lib/python3.7/site-packages/pandas/core/internals/construction.py\u001b[0m in \u001b[0;36msanitize_index\u001b[0;34m(data, index, copy)\u001b[0m\n\u001b[1;32m    517\u001b[0m \u001b[0;34m\u001b[0m\u001b[0m\n\u001b[1;32m    518\u001b[0m     \u001b[0;32mif\u001b[0m \u001b[0mlen\u001b[0m\u001b[0;34m(\u001b[0m\u001b[0mdata\u001b[0m\u001b[0;34m)\u001b[0m \u001b[0;34m!=\u001b[0m \u001b[0mlen\u001b[0m\u001b[0;34m(\u001b[0m\u001b[0mindex\u001b[0m\u001b[0;34m)\u001b[0m\u001b[0;34m:\u001b[0m\u001b[0;34m\u001b[0m\u001b[0;34m\u001b[0m\u001b[0m\n\u001b[0;32m--> 519\u001b[0;31m         \u001b[0;32mraise\u001b[0m \u001b[0mValueError\u001b[0m\u001b[0;34m(\u001b[0m\u001b[0;34m'Length of values does not match length of index'\u001b[0m\u001b[0;34m)\u001b[0m\u001b[0;34m\u001b[0m\u001b[0;34m\u001b[0m\u001b[0m\n\u001b[0m\u001b[1;32m    520\u001b[0m \u001b[0;34m\u001b[0m\u001b[0m\n\u001b[1;32m    521\u001b[0m     \u001b[0;32mif\u001b[0m \u001b[0misinstance\u001b[0m\u001b[0;34m(\u001b[0m\u001b[0mdata\u001b[0m\u001b[0;34m,\u001b[0m \u001b[0mABCIndexClass\u001b[0m\u001b[0;34m)\u001b[0m \u001b[0;32mand\u001b[0m \u001b[0;32mnot\u001b[0m \u001b[0mcopy\u001b[0m\u001b[0;34m:\u001b[0m\u001b[0;34m\u001b[0m\u001b[0;34m\u001b[0m\u001b[0m\n",
      "\u001b[0;31mValueError\u001b[0m: Length of values does not match length of index"
     ]
    }
   ],
   "source": [
    "res[0].squeeze().shape\n",
    "df = pd.DataFrame(np.vstack([res4[0].squeeze(), res_all[0].squeeze()])) \n",
    "df.columns = tim\n",
    "df.shape\n",
    "df['type'] = np.repeat(['a', 'b'], 20)\n",
    "df_long = df.melt(var_name='time', value_name='score', id_vars='type') \n",
    "df_long\n",
    "sns.lineplot(data=df_long, x='time', y='score', hue='type')"
   ]
  },
  {
   "cell_type": "code",
   "execution_count": 121,
   "metadata": {},
   "outputs": [],
   "source": [
    "goo = res_dict2['roc_auc']\n",
    "gooooo = np.asarray(goo).squeeze()"
   ]
  },
  {
   "cell_type": "code",
   "execution_count": 120,
   "metadata": {},
   "outputs": [
    {
     "name": "stdout",
     "output_type": "stream",
     "text": [
      "Running VME_S01\n",
      "['N class LoadLowEccL: 119', 'N class LoadHighEccL: 116']\n",
      "Time for last rep: 0.1331364515858392min\n",
      "Running VME_S02\n",
      "['N class LoadLowEccL: 117', 'N class LoadHighEccL: 114']\n",
      "Time for last rep: 0.14441803560281793min\n",
      "Running VME_S03\n",
      "['N class LoadLowEccL: 113', 'N class LoadHighEccL: 111']\n",
      "Time for last rep: 0.14986044907321533min\n",
      "Running VME_S04\n",
      "['N class LoadLowEccL: 114', 'N class LoadHighEccL: 115']\n",
      "Time for last rep: 0.13040496275449792min\n",
      "Running VME_S05\n",
      "['N class LoadLowEccL: 119', 'N class LoadHighEccL: 114']\n",
      "Time for last rep: 0.134586152403305min\n",
      "Running VME_S06\n",
      "['N class LoadLowEccL: 119', 'N class LoadHighEccL: 120']\n",
      "Time for last rep: 0.1438925689086318min\n",
      "Running VME_S08\n",
      "['N class LoadLowEccL: 110', 'N class LoadHighEccL: 111']\n",
      "Time for last rep: 0.13026575424397985min\n",
      "Running VME_S09\n",
      "['N class LoadLowEccL: 115', 'N class LoadHighEccL: 116']\n",
      "Time for last rep: 0.1337132690474391min\n",
      "Running VME_S10\n",
      "['N class LoadLowEccL: 119', 'N class LoadHighEccL: 118']\n",
      "Time for last rep: 0.13634499156226715min\n",
      "Running VME_S13\n",
      "['N class LoadLowEccL: 102', 'N class LoadHighEccL: 103']\n",
      "Time for last rep: 0.12410271726548672min\n",
      "Running VME_S15\n",
      "['N class LoadLowEccL: 98', 'N class LoadHighEccL: 103']\n",
      "Time for last rep: 0.1186150073694686min\n",
      "Running VME_S16\n",
      "['N class LoadLowEccL: 114', 'N class LoadHighEccL: 113']\n",
      "Time for last rep: 0.12365562403574586min\n",
      "Running VME_S17\n",
      "['N class LoadLowEccL: 110', 'N class LoadHighEccL: 111']\n",
      "Time for last rep: 0.12857563405608138min\n",
      "Running VME_S18\n",
      "['N class LoadLowEccL: 110', 'N class LoadHighEccL: 107']\n",
      "Time for last rep: 0.12473360542207956min\n",
      "Running VME_S20\n",
      "['N class LoadLowEccL: 110', 'N class LoadHighEccL: 115']\n",
      "Time for last rep: 0.1287536095517377min\n",
      "Running VME_S21\n",
      "['N class LoadLowEccL: 112', 'N class LoadHighEccL: 105']\n",
      "Time for last rep: 0.12402592251698176min\n",
      "Running VME_S23\n",
      "['N class LoadLowEccL: 118', 'N class LoadHighEccL: 116']\n",
      "Time for last rep: 0.13533488375445207min\n",
      "Running VME_S24\n",
      "['N class LoadLowEccL: 117', 'N class LoadHighEccL: 119']\n",
      "Time for last rep: 0.14220349186410505min\n",
      "Running VME_S25\n",
      "['N class LoadLowEccL: 118', 'N class LoadHighEccL: 116']\n",
      "Time for last rep: 0.14383268961682916min\n",
      "Running VME_S26\n",
      "['N class LoadLowEccL: 114', 'N class LoadHighEccL: 116']\n",
      "Time for last rep: 0.12619043703501423min\n",
      "Running VME_S27\n",
      "['N class LoadLowEccL: 117', 'N class LoadHighEccL: 114']\n",
      "Time for last rep: 0.1291083059584101min\n"
     ]
    }
   ],
   "source": [
    "\n",
    "res_dict2 = dict()\n",
    "for scorer in ['roc_auc']:\n",
    "    res_acc_list = list()\n",
    "    for sub in sub_list_str[:1]:\n",
    "        start = timeit.default_timer()\n",
    "        res_acc, tim = decode([sub], ['LoadLowEccM', 'LoadHighEccM'], config.event_dict, reps=10, scoring=scorer, \n",
    "                   shuffle_labels=False, overwrite=False, save_scores=False, save_csp_patterns=False)\n",
    "        res_acc_list.append(res_acc)\n",
    "        stop = timeit.default_timer()\n",
    "        print(f'Time for last rep: {(stop - start)/60}min')\n",
    "    res_dict2[scorer] = res_acc_list\n",
    "\n",
    "stop = timeit.default_timer()\n",
    "runtime = stop - start"
   ]
  },
  {
   "cell_type": "code",
   "execution_count": 125,
   "metadata": {},
   "outputs": [
    {
     "data": {
      "text/plain": [
       "{'roc_auc': [[array([[[0.52897238, 0.51574118, 0.55940585, 0.54825011, 0.50192712,\n",
       "            0.46352329, 0.55195862, 0.52105059, 0.46215343, 0.6045769 ,\n",
       "            0.64782281]]])],\n",
       "  [array([[[0.5593759 , 0.51582889, 0.5615942 , 0.53394913, 0.53827548,\n",
       "            0.54602165, 0.58754941, 0.5753079 , 0.47770522, 0.45610787,\n",
       "            0.48182677]]])],\n",
       "  [array([[[0.52264057, 0.54324158, 0.55552422, 0.51959021, 0.51630474,\n",
       "            0.48552391, 0.47058695, 0.49923839, 0.57701651, 0.47097596,\n",
       "            0.46776469]]])],\n",
       "  [array([[[0.54607321, 0.53368276, 0.57712665, 0.49293693, 0.41617116,\n",
       "            0.53168929, 0.4761471 , 0.46171163, 0.54337515, 0.54047087,\n",
       "            0.51158275]]])],\n",
       "  [array([[[0.49137022, 0.47994071, 0.43234519, 0.4784585 , 0.53922925,\n",
       "            0.56828063, 0.51192358, 0.57038867, 0.57394598, 0.50800395,\n",
       "            0.52602108]]])],\n",
       "  [array([[[0.56096014, 0.47112017, 0.50114734, 0.49861111, 0.5232337 ,\n",
       "            0.54566727, 0.54779589, 0.5111413 , 0.51868961, 0.56189614,\n",
       "            0.51435688]]])],\n",
       "  [array([[[0.50441969, 0.45862379, 0.51225296, 0.48154869, 0.60190442,\n",
       "            0.5403701 , 0.54234639, 0.55226374, 0.52112828, 0.51960115,\n",
       "            0.49529285]]])],\n",
       "  [array([[[0.44877127, 0.45863264, 0.48451481, 0.60283554, 0.5213138 ,\n",
       "            0.61351607, 0.62123503, 0.53917769, 0.56280718, 0.52005356,\n",
       "            0.46918715]]])],\n",
       "  [array([[[0.54223837, 0.46289514, 0.50869893, 0.49527607, 0.55454014,\n",
       "            0.54188786, 0.57054584, 0.48845437, 0.50848955, 0.41848089,\n",
       "            0.48579211]]])],\n",
       "  [array([[[0.47376304, 0.45415079, 0.4633458 , 0.55695918, 0.60210431,\n",
       "            0.57320295, 0.55870295, 0.53630612, 0.60767914, 0.51469048,\n",
       "            0.44001814]]])],\n",
       "  [array([[[0.46180451, 0.5781203 , 0.62862155, 0.47619048, 0.40215539,\n",
       "            0.43318296, 0.48691729, 0.45736842, 0.52365915, 0.47110276,\n",
       "            0.51729323]]])],\n",
       "  [array([[[0.59780578, 0.46822478, 0.51861926, 0.52436923, 0.52706651,\n",
       "            0.48996704, 0.48160181, 0.46747098, 0.50202237, 0.52046509,\n",
       "            0.56703432]]])],\n",
       "  [array([[[0.47215235, 0.50283866, 0.46272009, 0.52066116, 0.50698886,\n",
       "            0.55285663, 0.68368667, 0.61512756, 0.58887891, 0.55434783,\n",
       "            0.497341  ]]])],\n",
       "  [array([[[0.38593074, 0.5178473 , 0.45078709, 0.42245179, 0.59077135,\n",
       "            0.61157025, 0.64966549, 0.67853207, 0.56158993, 0.61572216,\n",
       "            0.62467532]]])],\n",
       "  [array([[[0.43043478, 0.48418972, 0.50197628, 0.43675889, 0.48379447,\n",
       "            0.52213439, 0.48853755, 0.54901186, 0.59565217, 0.56284585,\n",
       "            0.56086957]]])],\n",
       "  [array([[[0.51759834, 0.38706945, 0.50489366, 0.49352532, 0.57466591,\n",
       "            0.58354978, 0.51513269, 0.55659703, 0.48080181, 0.50502541,\n",
       "            0.4377188 ]]])],\n",
       "  [array([[[0.49562395, 0.51891212, 0.50633467, 0.52334922, 0.54885266,\n",
       "            0.62636854, 0.69037689, 0.5313071 , 0.50556868, 0.53898012,\n",
       "            0.46714976]]])],\n",
       "  [array([[[0.44528789, 0.44076481, 0.46035825, 0.47997532, 0.51709462,\n",
       "            0.52380474, 0.52823724, 0.55106005, 0.50315322, 0.62319628,\n",
       "            0.57256944]]])],\n",
       "  [array([[[0.55065834, 0.58566346, 0.55240955, 0.55110796, 0.54473916,\n",
       "            0.56573133, 0.52195245, 0.57288976, 0.53830472, 0.57549162,\n",
       "            0.47698882]]])],\n",
       "  [array([[[0.50029071, 0.53680329, 0.54273214, 0.56461019, 0.46481927,\n",
       "            0.47426247, 0.4250401 , 0.43428997, 0.58764393, 0.51400728,\n",
       "            0.51020651]]])],\n",
       "  [array([[[0.5151329 , 0.44478862, 0.50534599, 0.48711405, 0.47585496,\n",
       "            0.56951509, 0.57237927, 0.51234462, 0.49994701, 0.54027181,\n",
       "            0.59445781]]])]]}"
      ]
     },
     "execution_count": 125,
     "metadata": {},
     "output_type": "execute_result"
    }
   ],
   "source": [
    "res_dict2"
   ]
  },
  {
   "cell_type": "code",
   "execution_count": 19,
   "metadata": {},
   "outputs": [
    {
     "name": "stdout",
     "output_type": "stream",
     "text": [
      "21.551497384905815\n"
     ]
    },
    {
     "data": {
      "image/png": "[encoded data removed]",
      "text/plain": [
       "<Figure size 432x288 with 1 Axes>"
      ]
     },
     "metadata": {
      "needs_background": "light"
     },
     "output_type": "display_data"
    }
   ],
   "source": [
    "plt.figure()\n",
    "plt.plot(res_bal_all2.mean(0)[0], color = 'blue')\n",
    "plt.plot(res_acc_all2.mean(0)[0], color='green')\n",
    "plt.plot(res_auc_all2.mean(0)[0], color='red')\n",
    "print(runtime)"
   ]
  },
  {
   "cell_type": "code",
   "execution_count": 15,
   "metadata": {},
   "outputs": [
    {
     "name": "stdout",
     "output_type": "stream",
     "text": [
      "21.390581673011184\n"
     ]
    },
    {
     "data": {
      "image/png": "[encoded data removed]",
      "text/plain": [
       "<Figure size 432x288 with 1 Axes>"
      ]
     },
     "metadata": {
      "needs_background": "light"
     },
     "output_type": "display_data"
    }
   ],
   "source": [
    "plt.figure()\n",
    "plt.plot(res_bal_all.mean(0)[0], color = 'blue')\n",
    "plt.plot(res_acc_all.mean(0)[0], color='green')\n",
    "plt.plot(res_auc_all.mean(0)[0], color='red')\n",
    "print(runtime)"
   ]
  },
  {
   "cell_type": "code",
   "execution_count": 133,
   "metadata": {},
   "outputs": [
    {
     "name": "stdout",
     "output_type": "stream",
     "text": [
      "345.5712058842182\n"
     ]
    },
    {
     "data": {
      "image/png": "[encoded data removed]",
      "text/plain": [
       "<Figure size 432x288 with 1 Axes>"
      ]
     },
     "metadata": {
      "needs_background": "light"
     },
     "output_type": "display_data"
    }
   ],
   "source": [
    "plt.figure()\n",
    "plt.plot(res_bal_all.mean(0)[0], color = 'blue')\n",
    "plt.plot(res_acc_all.mean(0)[0], color='red')\n",
    "print(runtime)"
   ]
  },
  {
   "cell_type": "code",
   "execution_count": 92,
   "metadata": {},
   "outputs": [
    {
     "data": {
      "text/plain": [
       "array([False, False, False, False, False, False, False, False, False,\n",
       "       False, False])"
      ]
     },
     "execution_count": 92,
     "metadata": {},
     "output_type": "execute_result"
    }
   ],
   "source": [
    "res_bal_all.mean(0)[1:4,:].mean(axis=0) == res_acc_all.mean(axis=0)[1:4,:].mean(axis=0)"
   ]
  },
  {
   "cell_type": "code",
   "execution_count": null,
   "metadata": {},
   "outputs": [],
   "source": [
    "\n",
    "res_dict_ss = dict()\n",
    "for scorer in ['balanced_accuracy', 'accuracy']:\n",
    "    res_acc_list = list()\n",
    "    for sub in sub_list_str[:3]:\n",
    "        start = timeit.default_timer()\n",
    "        res_acc, tim = decode([sub], ['LoadLowEccL', 'LoadHighEccL'], config.event_dict, reps=5, scoring=scorer, \n",
    "                   shuffle_labels=False, overwrite=False, save_scores=False, save_csp_patterns=False)\n",
    "        res_acc_list.append(res_bal)\n",
    "        stop = timeit.default_timer()\n",
    "        print(f'Time for last rep: {(stop - start)/60}min')\n",
    "    res_dict[scorer] = res_acc_list"
   ]
  },
  {
   "cell_type": "code",
   "execution_count": 71,
   "metadata": {},
   "outputs": [],
   "source": [
    "ha = dict()\n",
    "ha['he'] = 2"
   ]
  },
  {
   "cell_type": "code",
   "execution_count": 73,
   "metadata": {},
   "outputs": [
    {
     "data": {
      "text/plain": [
       "8742289.169042094"
      ]
     },
     "execution_count": 73,
     "metadata": {},
     "output_type": "execute_result"
    }
   ],
   "source": [
    "timeit.default_timer()"
   ]
  },
  {
   "cell_type": "code",
   "execution_count": 74,
   "metadata": {},
   "outputs": [
    {
     "data": {
      "text/plain": [
       "8742296.304052398"
      ]
     },
     "execution_count": 74,
     "metadata": {},
     "output_type": "execute_result"
    }
   ],
   "source": [
    "timeit.default_timer()"
   ]
  },
  {
   "cell_type": "code",
   "execution_count": null,
   "metadata": {},
   "outputs": [],
   "source": []
  }
 ],
 "metadata": {
  "kernelspec": {
   "display_name": "Python (mne)",
   "language": "python",
   "name": "mne"
  },
  "language_info": {
   "codemirror_mode": {
    "name": "ipython",
    "version": 3
   },
   "file_extension": ".py",
   "mimetype": "text/x-python",
   "name": "python",
   "nbconvert_exporter": "python",
   "pygments_lexer": "ipython3",
   "version": "3.7.3"
  }
 },
 "nbformat": 4,
 "nbformat_minor": 2
}
